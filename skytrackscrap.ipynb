{
 "cells": [
  {
   "cell_type": "code",
   "execution_count": 8,
   "metadata": {},
   "outputs": [],
   "source": [
    "import numpy as np\n",
    "import pandas as pd\n",
    "from bs4 import BeautifulSoup\n",
    "import requests as rq"
   ]
  },
  {
   "cell_type": "code",
   "execution_count": 9,
   "metadata": {},
   "outputs": [],
   "source": [
    "global rating, Aircraft, Class, Travel_type, Route, Date, comfort, staff, food, entertainment, wifi, ground_service, vfm, recommend\n",
    "\n",
    "verified=[]\n",
    "rating=[]\n",
    "feedback=[]\n",
    "Aircraft=[]\n",
    "Class=[]\n",
    "Travel_type=[]\n",
    "Route=[]\n",
    "Date=[]\n",
    "comfort=[]\n",
    "staff=[]\n",
    "food=[]\n",
    "entertainment=[]\n",
    "wifi=[]\n",
    "#ground_service=[]\n",
    "vfm=[]\n",
    "recommend=[]"
   ]
  },
  {
   "cell_type": "code",
   "execution_count": 10,
   "metadata": {},
   "outputs": [],
   "source": [
    "def value_fetcher(soup):\n",
    "  rating.append(np.nan)\n",
    "  Aircraft.append(np.nan)\n",
    "  Class.append(np.nan)\n",
    "  Travel_type.append(np.nan)\n",
    "  Route.append(np.nan)\n",
    "  Date.append(np.nan)\n",
    "  comfort.append(np.nan)\n",
    "  staff.append(np.nan)\n",
    "  food.append(np.nan)\n",
    "  entertainment.append(np.nan)\n",
    "  wifi.append(np.nan)\n",
    "  #ground_service.append(np.nan)\n",
    "  vfm.append(np.nan)\n",
    "  recommend.append(np.nan)\n",
    "\n",
    "  for row in soup.find_all('tr'):\n",
    "    header=row.find('td',class_='review-rating-header').text\n",
    "    value=row.find('td',class_='review-value')\n",
    "    if header=='Aircaft':\n",
    "      Aircraft[-1]=value.text\n",
    "    elif header=='Type Of Traveller':\n",
    "      Travel_type[-1]=value.text\n",
    "    elif header=='Seat Type':\n",
    "      Class[-1]=value.text\n",
    "    elif header=='Route':\n",
    "      Route[-1]=value.text\n",
    "    elif header=='Date Flown':\n",
    "      Date[-1]=value.text\n",
    "    elif header=='Seat Comfort':\n",
    "      comfort[-1]=len(row.find_all('span',class_='star fill'))\n",
    "    elif header=='Cabin Staff Service':\n",
    "      staff[-1]=len(row.find_all('span',class_='star fill'))\n",
    "    elif header=='Food & Baverages':\n",
    "      food[-1]=len(row.find_all('span',class_='star fill'))\n",
    "    elif header=='Inflight Entertainment':\n",
    "      entertainment[-1]=len(row.find_all('span',class_='star fill'))\n",
    "    #elif header=='Ground Service':\n",
    "      #ground_service=len(row.find_all('span',class_='star fill'))\n",
    "    elif header[-1]=='Value For Money':\n",
    "      vfm[-1]=len(row.find_all('span',class_='star fill'))\n",
    "    elif header=='Recommended':\n",
    "      recommend[-1]=value.text\n",
    "    elif header=='Wifi & Connectivity':\n",
    "      wifi[-1]=len(row.find_all('span',class_='star fill'))"
   ]
  },
  {
   "cell_type": "code",
   "execution_count": 11,
   "metadata": {},
   "outputs": [],
   "source": [
    "def fetcher(soup,tag,key,value):\n",
    "    if soup.find(tag,{key:value}):\n",
    "        return soup.find(tag,{key:value}).text\n",
    "    return np.nan"
   ]
  },
  {
   "cell_type": "code",
   "execution_count": 12,
   "metadata": {},
   "outputs": [],
   "source": [
    "for i in range(1,344):\n",
    "    url=f'https://www.airlinequality.com/airline-reviews/jetstar-asia/page/{i}/'\n",
    "    page=rq.get(url).text\n",
    "    soup=BeautifulSoup(page,'lxml')\n",
    "    articles=soup.find_all('article',{'itemprop':'review'})\n",
    "    for article in articles:\n",
    "        rating.append(fetcher(article,'span','itemprop','ratingValue'))\n",
    "        div=article.find('div',class_='tc_mobile')\n",
    "        content=(div.find('div',class_='text_content').text.split('|'))\n",
    "        if len(content)==2:\n",
    "            verification,review=content\n",
    "        else:\n",
    "            verification=np.nan\n",
    "            review=content[0]\n",
    "        verified.append(verification)\n",
    "        feedback.append(review)\n",
    "        table=div.find('table',class_='review-ratings')\n",
    "        value_fetcher(table)"
   ]
  },
  {
   "cell_type": "code",
   "execution_count": 13,
   "metadata": {},
   "outputs": [],
   "source": [
    "data=pd.DataFrame({'status':verified,'aircraft':Aircraft,'travel_type':Travel_type,'travel_class':Class,'route':Route,'date':Date,'seating_comfort':comfort,'staff_service':staff,'food_quality':food,'entertainment':entertainment,'wifi':wifi,'value_for_money':vfm,'recommended':recommend,'overall_rating':rating[::2],'review':feedback})"
   ]
  },
  {
   "cell_type": "code",
   "execution_count": 14,
   "metadata": {},
   "outputs": [],
   "source": [
    "data.to_csv('JetstarAsia.csv',index=False)"
   ]
  }
 ],
 "metadata": {
  "kernelspec": {
   "display_name": "base",
   "language": "python",
   "name": "python3"
  },
  "language_info": {
   "codemirror_mode": {
    "name": "ipython",
    "version": 3
   },
   "file_extension": ".py",
   "mimetype": "text/x-python",
   "name": "python",
   "nbconvert_exporter": "python",
   "pygments_lexer": "ipython3",
   "version": "3.9.15"
  },
  "orig_nbformat": 4,
  "vscode": {
   "interpreter": {
    "hash": "ad2bdc8ecc057115af97d19610ffacc2b4e99fae6737bb82f5d7fb13d2f2c186"
   }
  }
 },
 "nbformat": 4,
 "nbformat_minor": 2
}
