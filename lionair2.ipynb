{
 "cells": [
  {
   "cell_type": "code",
   "execution_count": 1,
   "metadata": {},
   "outputs": [],
   "source": [
    "import pandas as pd\n",
    "import numpy as np\n",
    "# Matplot\n",
    "import matplotlib.pyplot as plt\n",
    "%matplotlib inline\n",
    "\n",
    "# Scikit-learn\n",
    "from sklearn.model_selection import train_test_split\n",
    "from sklearn.preprocessing import LabelEncoder\n",
    "from sklearn.metrics import confusion_matrix, classification_report, accuracy_score\n",
    "from sklearn.manifold import TSNE\n",
    "from sklearn.feature_extraction.text import TfidfVectorizer\n",
    "\n",
    "# Keras\n",
    "from keras.preprocessing.text import Tokenizer\n",
    "from keras.utils import pad_sequences\n",
    "from keras.models import Sequential\n",
    "from keras.layers import Activation, Dense, Dropout, Embedding, Flatten, Conv1D, MaxPooling1D, LSTM\n",
    "from keras import utils\n",
    "from keras.callbacks import ReduceLROnPlateau, EarlyStopping\n",
    "\n",
    "# nltk\n",
    "import nltk\n",
    "from nltk.corpus import stopwords\n",
    "from  nltk.stem import SnowballStemmer\n",
    "\n",
    "# Word2vec\n",
    "import gensim\n",
    "\n",
    "# Utility\n",
    "import re\n",
    "import numpy as np\n",
    "import os\n",
    "from collections import Counter\n",
    "import logging\n",
    "import time\n",
    "import pickle\n",
    "import itertools\n",
    "\n",
    "# Set log\n",
    "logging.basicConfig(format='%(asctime)s : %(levelname)s : %(message)s', level=logging.INFO)\n"
   ]
  },
  {
   "cell_type": "code",
   "execution_count": 2,
   "metadata": {},
   "outputs": [
    {
     "name": "stderr",
     "output_type": "stream",
     "text": [
      "[nltk_data] Downloading package stopwords to C:\\Users\\NAUFAL\n",
      "[nltk_data]     HAFIZH\\AppData\\Roaming\\nltk_data...\n",
      "[nltk_data]   Package stopwords is already up-to-date!\n"
     ]
    },
    {
     "data": {
      "text/plain": [
       "True"
      ]
     },
     "execution_count": 2,
     "metadata": {},
     "output_type": "execute_result"
    }
   ],
   "source": [
    "nltk.download('stopwords')"
   ]
  },
  {
   "cell_type": "code",
   "execution_count": 3,
   "metadata": {},
   "outputs": [],
   "source": [
    "# DATASET\n",
    "DATASET_COLUMNS = [\"text\",\"label\"]\n",
    "DATASET_ENCODING = \"ISO-8859-1\"\n",
    "TRAIN_SIZE = 0.8\n",
    "\n",
    "# TEXT CLENAING\n",
    "TEXT_CLEANING_RE = \"@\\S+|https?:\\S+|http?:\\S|[^A-Za-z0-9]+\"\n",
    "\n",
    "# WORD2VEC \n",
    "W2V_SIZE = 300\n",
    "W2V_WINDOW = 7\n",
    "W2V_EPOCH = 32\n",
    "W2V_MIN_COUNT = 10\n",
    "\n",
    "# KERAS\n",
    "SEQUENCE_LENGTH = 300\n",
    "EPOCHS = 8\n",
    "BATCH_SIZE = 1024\n",
    "\n",
    "# SENTIMENT\n",
    "POSITIVE = \"POSITIVE\"\n",
    "NEGATIVE = \"NEGATIVE\"\n",
    "SENTIMENT_THRESHOLDS = (0.4, 0.7)\n",
    "\n",
    "# EXPORT\n",
    "KERAS_MODEL = \"model.h5\"\n",
    "WORD2VEC_MODEL = \"model.w2v\"\n",
    "TOKENIZER_MODEL = \"tokenizer.pkl\"\n",
    "ENCODER_MODEL = \"encoder.pkl\""
   ]
  },
  {
   "cell_type": "code",
   "execution_count": 4,
   "metadata": {},
   "outputs": [],
   "source": [
    "df=pd.read_csv('data/csv/cleaned/LionAir.csv')"
   ]
  },
  {
   "cell_type": "code",
   "execution_count": 5,
   "metadata": {},
   "outputs": [
    {
     "name": "stdout",
     "output_type": "stream",
     "text": [
      "Dataset size :  198\n"
     ]
    }
   ],
   "source": [
    "print(\"Dataset size : \",len(df))"
   ]
  },
  {
   "cell_type": "code",
   "execution_count": 6,
   "metadata": {},
   "outputs": [
    {
     "data": {
      "text/html": [
       "<div>\n",
       "<style scoped>\n",
       "    .dataframe tbody tr th:only-of-type {\n",
       "        vertical-align: middle;\n",
       "    }\n",
       "\n",
       "    .dataframe tbody tr th {\n",
       "        vertical-align: top;\n",
       "    }\n",
       "\n",
       "    .dataframe thead th {\n",
       "        text-align: right;\n",
       "    }\n",
       "</style>\n",
       "<table border=\"1\" class=\"dataframe\">\n",
       "  <thead>\n",
       "    <tr style=\"text-align: right;\">\n",
       "      <th></th>\n",
       "      <th>text</th>\n",
       "      <th>label</th>\n",
       "    </tr>\n",
       "  </thead>\n",
       "  <tbody>\n",
       "    <tr>\n",
       "      <th>0</th>\n",
       "      <td>Being re-booked on this flight I was not rea...</td>\n",
       "      <td>0</td>\n",
       "    </tr>\n",
       "    <tr>\n",
       "      <th>1</th>\n",
       "      <td>Filthy airplane, delays, and no whatsoever i...</td>\n",
       "      <td>0</td>\n",
       "    </tr>\n",
       "    <tr>\n",
       "      <th>2</th>\n",
       "      <td>Makassar to Surabaya. Searching for the chea...</td>\n",
       "      <td>0</td>\n",
       "    </tr>\n",
       "    <tr>\n",
       "      <th>3</th>\n",
       "      <td>Makassar to Singapore via Jakarta. Expensive...</td>\n",
       "      <td>0</td>\n",
       "    </tr>\n",
       "    <tr>\n",
       "      <th>4</th>\n",
       "      <td>Jakarta to Denpasar. Due to take off 7 pm. D...</td>\n",
       "      <td>0</td>\n",
       "    </tr>\n",
       "  </tbody>\n",
       "</table>\n",
       "</div>"
      ],
      "text/plain": [
       "                                                text  label\n",
       "0    Being re-booked on this flight I was not rea...      0\n",
       "1    Filthy airplane, delays, and no whatsoever i...      0\n",
       "2    Makassar to Surabaya. Searching for the chea...      0\n",
       "3    Makassar to Singapore via Jakarta. Expensive...      0\n",
       "4    Jakarta to Denpasar. Due to take off 7 pm. D...      0"
      ]
     },
     "execution_count": 6,
     "metadata": {},
     "output_type": "execute_result"
    }
   ],
   "source": [
    "df.head()"
   ]
  },
  {
   "cell_type": "code",
   "execution_count": 7,
   "metadata": {},
   "outputs": [],
   "source": [
    "decode_map={0:'NEGATIVE',1:\"POSITIVE\"}\n",
    "def decode_sentiment(label):\n",
    "    return decode_map[int(label)]"
   ]
  },
  {
   "cell_type": "code",
   "execution_count": 8,
   "metadata": {},
   "outputs": [
    {
     "name": "stdout",
     "output_type": "stream",
     "text": [
      "CPU times: total: 0 ns\n",
      "Wall time: 1 ms\n"
     ]
    }
   ],
   "source": [
    "%%time\n",
    "df.label=df.label.apply(lambda x:decode_sentiment(x))"
   ]
  },
  {
   "cell_type": "code",
   "execution_count": 9,
   "metadata": {},
   "outputs": [
    {
     "data": {
      "text/plain": [
       "Text(0.5, 1.0, 'Dataset Labels Distribution')"
      ]
     },
     "execution_count": 9,
     "metadata": {},
     "output_type": "execute_result"
    },
    {
     "data": {
      "image/png": "[encoded data removed]",
      "text/plain": [
       "<Figure size 1600x800 with 1 Axes>"
      ]
     },
     "metadata": {},
     "output_type": "display_data"
    }
   ],
   "source": [
    "label_cnt=Counter(df.label)\n",
    "\n",
    "plt.figure(figsize=(16,8))\n",
    "plt.bar(label_cnt.keys(),label_cnt.values())\n",
    "plt.title(\"Dataset Labels Distribution\")"
   ]
  },
  {
   "cell_type": "code",
   "execution_count": 10,
   "metadata": {},
   "outputs": [],
   "source": [
    "stop_words = stopwords.words(\"english\")\n",
    "stemmer = SnowballStemmer(\"english\")"
   ]
  },
  {
   "cell_type": "code",
   "execution_count": 11,
   "metadata": {},
   "outputs": [],
   "source": [
    "def preprocess(text, stem=False):\n",
    "    # Remove link,user and special characters\n",
    "    text = re.sub(TEXT_CLEANING_RE, ' ', str(text).lower()).strip()\n",
    "    tokens = []\n",
    "    for token in text.split():\n",
    "        if token not in stop_words:\n",
    "            if stem:\n",
    "                tokens.append(stemmer.stem(token))\n",
    "            else:\n",
    "                tokens.append(token)\n",
    "    return \" \".join(tokens)"
   ]
  },
  {
   "cell_type": "code",
   "execution_count": 12,
   "metadata": {},
   "outputs": [
    {
     "name": "stdout",
     "output_type": "stream",
     "text": [
      "CPU times: total: 62.5 ms\n",
      "Wall time: 58 ms\n"
     ]
    }
   ],
   "source": [
    "%%time\n",
    "df.text = df.text.apply(lambda x: preprocess(x))"
   ]
  },
  {
   "cell_type": "code",
   "execution_count": 13,
   "metadata": {},
   "outputs": [
    {
     "name": "stdout",
     "output_type": "stream",
     "text": [
      "TRAIN size: 158\n",
      "TEST size: 40\n"
     ]
    }
   ],
   "source": [
    "df_train, df_test = train_test_split(df, test_size=1-TRAIN_SIZE, random_state=42)\n",
    "print(\"TRAIN size:\", len(df_train))\n",
    "print(\"TEST size:\", len(df_test))"
   ]
  },
  {
   "cell_type": "code",
   "execution_count": 19,
   "metadata": {},
   "outputs": [
    {
     "name": "stdout",
     "output_type": "stream",
     "text": [
      "CPU times: total: 0 ns\n",
      "Wall time: 2 ms\n"
     ]
    }
   ],
   "source": [
    "%%time\n",
    "documents = [text.split() for text in df_train.text] "
   ]
  },
  {
   "cell_type": "code",
   "execution_count": 20,
   "metadata": {},
   "outputs": [
    {
     "name": "stderr",
     "output_type": "stream",
     "text": [
      "2023-03-07 19:37:56,044 : INFO : Word2Vec lifecycle event {'params': 'Word2Vec<vocab=0, vector_size=300, alpha=0.025>', 'datetime': '2023-03-07T19:37:56.044794', 'gensim': '4.3.0', 'python': '3.9.15 (main, Nov 23 2022, 09:27:34) [MSC v.1916 64 bit (AMD64)]', 'platform': 'Windows-10-10.0.19045-SP0', 'event': 'created'}\n"
     ]
    }
   ],
   "source": [
    "w2v_model = gensim.models.word2vec.Word2Vec(vector_size=W2V_SIZE,window=W2V_WINDOW,min_count=W2V_MIN_COUNT,workers=8)"
   ]
  },
  {
   "cell_type": "code",
   "execution_count": 21,
   "metadata": {},
   "outputs": [
    {
     "name": "stderr",
     "output_type": "stream",
     "text": [
      "2023-03-07 19:37:57,339 : INFO : collecting all words and their counts\n",
      "2023-03-07 19:37:57,340 : INFO : PROGRESS: at sentence #0, processed 0 words, keeping 0 word types\n",
      "2023-03-07 19:37:57,342 : INFO : collected 2163 word types from a corpus of 8713 raw words and 158 sentences\n",
      "2023-03-07 19:37:57,343 : INFO : Creating a fresh vocabulary\n",
      "2023-03-07 19:37:57,346 : INFO : Word2Vec lifecycle event {'msg': 'effective_min_count=10 retains 179 unique words (8.28% of original 2163, drops 1984)', 'datetime': '2023-03-07T19:37:57.346172', 'gensim': '4.3.0', 'python': '3.9.15 (main, Nov 23 2022, 09:27:34) [MSC v.1916 64 bit (AMD64)]', 'platform': 'Windows-10-10.0.19045-SP0', 'event': 'prepare_vocab'}\n",
      "2023-03-07 19:37:57,347 : INFO : Word2Vec lifecycle event {'msg': 'effective_min_count=10 leaves 4526 word corpus (51.95% of original 8713, drops 4187)', 'datetime': '2023-03-07T19:37:57.347172', 'gensim': '4.3.0', 'python': '3.9.15 (main, Nov 23 2022, 09:27:34) [MSC v.1916 64 bit (AMD64)]', 'platform': 'Windows-10-10.0.19045-SP0', 'event': 'prepare_vocab'}\n",
      "2023-03-07 19:37:57,350 : INFO : deleting the raw counts dictionary of 2163 items\n",
      "2023-03-07 19:37:57,351 : INFO : sample=0.001 downsamples 140 most-common words\n",
      "2023-03-07 19:37:57,351 : INFO : Word2Vec lifecycle event {'msg': 'downsampling leaves estimated 2547.9510559491364 word corpus (56.3%% of prior 4526)', 'datetime': '2023-03-07T19:37:57.351168', 'gensim': '4.3.0', 'python': '3.9.15 (main, Nov 23 2022, 09:27:34) [MSC v.1916 64 bit (AMD64)]', 'platform': 'Windows-10-10.0.19045-SP0', 'event': 'prepare_vocab'}\n",
      "2023-03-07 19:37:57,355 : INFO : estimated required memory for 179 words and 300 dimensions: 519100 bytes\n",
      "2023-03-07 19:37:57,356 : INFO : resetting layer weights\n",
      "2023-03-07 19:37:57,358 : INFO : Word2Vec lifecycle event {'update': False, 'trim_rule': 'None', 'datetime': '2023-03-07T19:37:57.358164', 'gensim': '4.3.0', 'python': '3.9.15 (main, Nov 23 2022, 09:27:34) [MSC v.1916 64 bit (AMD64)]', 'platform': 'Windows-10-10.0.19045-SP0', 'event': 'build_vocab'}\n"
     ]
    }
   ],
   "source": [
    "w2v_model.build_vocab(documents)"
   ]
  },
  {
   "cell_type": "code",
   "execution_count": 22,
   "metadata": {},
   "outputs": [
    {
     "name": "stdout",
     "output_type": "stream",
     "text": [
      "Vocab size 179\n"
     ]
    }
   ],
   "source": [
    "words = w2v_model.wv.key_to_index.keys()\n",
    "vocab_size = len(words)\n",
    "print(\"Vocab size\", vocab_size)"
   ]
  },
  {
   "cell_type": "code",
   "execution_count": 23,
   "metadata": {},
   "outputs": [
    {
     "name": "stderr",
     "output_type": "stream",
     "text": [
      "2023-03-07 19:38:03,868 : INFO : Word2Vec lifecycle event {'msg': 'training model with 8 workers on 179 vocabulary and 300 features, using sg=0 hs=0 sample=0.001 negative=5 window=7 shrink_windows=True', 'datetime': '2023-03-07T19:38:03.868268', 'gensim': '4.3.0', 'python': '3.9.15 (main, Nov 23 2022, 09:27:34) [MSC v.1916 64 bit (AMD64)]', 'platform': 'Windows-10-10.0.19045-SP0', 'event': 'train'}\n",
      "2023-03-07 19:38:03,948 : INFO : EPOCH 0: training on 8713 raw words (2486 effective words) took 0.0s, 308712 effective words/s\n",
      "2023-03-07 19:38:03,963 : INFO : EPOCH 1: training on 8713 raw words (2573 effective words) took 0.0s, 286989 effective words/s\n",
      "2023-03-07 19:38:04,003 : INFO : EPOCH 2: training on 8713 raw words (2560 effective words) took 0.0s, 293639 effective words/s\n",
      "2023-03-07 19:38:04,027 : INFO : EPOCH 3: training on 8713 raw words (2557 effective words) took 0.0s, 309692 effective words/s\n",
      "2023-03-07 19:38:04,044 : INFO : EPOCH 4: training on 8713 raw words (2559 effective words) took 0.0s, 246972 effective words/s\n",
      "2023-03-07 19:38:04,063 : INFO : EPOCH 5: training on 8713 raw words (2587 effective words) took 0.0s, 322372 effective words/s\n",
      "2023-03-07 19:38:04,094 : INFO : EPOCH 6: training on 8713 raw words (2583 effective words) took 0.0s, 307346 effective words/s\n",
      "2023-03-07 19:38:04,114 : INFO : EPOCH 7: training on 8713 raw words (2560 effective words) took 0.0s, 296509 effective words/s\n",
      "2023-03-07 19:38:04,135 : INFO : EPOCH 8: training on 8713 raw words (2547 effective words) took 0.0s, 290886 effective words/s\n",
      "2023-03-07 19:38:04,160 : INFO : EPOCH 9: training on 8713 raw words (2541 effective words) took 0.0s, 305042 effective words/s\n",
      "2023-03-07 19:38:04,198 : INFO : EPOCH 10: training on 8713 raw words (2554 effective words) took 0.0s, 305927 effective words/s\n",
      "2023-03-07 19:38:04,214 : INFO : EPOCH 11: training on 8713 raw words (2547 effective words) took 0.0s, 323589 effective words/s\n",
      "2023-03-07 19:38:04,348 : INFO : EPOCH 12: training on 8713 raw words (2540 effective words) took 0.0s, 180344 effective words/s\n",
      "2023-03-07 19:38:04,487 : INFO : EPOCH 13: training on 8713 raw words (2551 effective words) took 0.0s, 244513 effective words/s\n",
      "2023-03-07 19:38:04,568 : INFO : EPOCH 14: training on 8713 raw words (2578 effective words) took 0.0s, 310087 effective words/s\n",
      "2023-03-07 19:38:04,582 : INFO : EPOCH 15: training on 8713 raw words (2522 effective words) took 0.0s, 294245 effective words/s\n",
      "2023-03-07 19:38:04,606 : INFO : EPOCH 16: training on 8713 raw words (2544 effective words) took 0.0s, 243098 effective words/s\n",
      "2023-03-07 19:38:04,641 : INFO : EPOCH 17: training on 8713 raw words (2558 effective words) took 0.0s, 304600 effective words/s\n",
      "2023-03-07 19:38:04,661 : INFO : EPOCH 18: training on 8713 raw words (2573 effective words) took 0.0s, 317376 effective words/s\n",
      "2023-03-07 19:38:04,678 : INFO : EPOCH 19: training on 8713 raw words (2523 effective words) took 0.0s, 324072 effective words/s\n",
      "2023-03-07 19:38:04,696 : INFO : EPOCH 20: training on 8713 raw words (2530 effective words) took 0.0s, 281562 effective words/s\n",
      "2023-03-07 19:38:04,713 : INFO : EPOCH 21: training on 8713 raw words (2538 effective words) took 0.0s, 299494 effective words/s\n",
      "2023-03-07 19:38:04,735 : INFO : EPOCH 22: training on 8713 raw words (2553 effective words) took 0.0s, 303117 effective words/s\n",
      "2023-03-07 19:38:04,757 : INFO : EPOCH 23: training on 8713 raw words (2512 effective words) took 0.0s, 295790 effective words/s\n",
      "2023-03-07 19:38:04,784 : INFO : EPOCH 24: training on 8713 raw words (2567 effective words) took 0.0s, 311306 effective words/s\n",
      "2023-03-07 19:38:04,800 : INFO : EPOCH 25: training on 8713 raw words (2478 effective words) took 0.0s, 294149 effective words/s\n",
      "2023-03-07 19:38:04,822 : INFO : EPOCH 26: training on 8713 raw words (2596 effective words) took 0.0s, 282330 effective words/s\n",
      "2023-03-07 19:38:04,850 : INFO : EPOCH 27: training on 8713 raw words (2500 effective words) took 0.0s, 290566 effective words/s\n",
      "2023-03-07 19:38:04,871 : INFO : EPOCH 28: training on 8713 raw words (2567 effective words) took 0.0s, 275314 effective words/s\n",
      "2023-03-07 19:38:04,928 : INFO : EPOCH 29: training on 8713 raw words (2547 effective words) took 0.0s, 293376 effective words/s\n",
      "2023-03-07 19:38:04,945 : INFO : EPOCH 30: training on 8713 raw words (2515 effective words) took 0.0s, 316404 effective words/s\n",
      "2023-03-07 19:38:04,972 : INFO : EPOCH 31: training on 8713 raw words (2533 effective words) took 0.0s, 292292 effective words/s\n",
      "2023-03-07 19:38:04,973 : INFO : Word2Vec lifecycle event {'msg': 'training on 278816 raw words (81479 effective words) took 1.1s, 73799 effective words/s', 'datetime': '2023-03-07T19:38:04.973587', 'gensim': '4.3.0', 'python': '3.9.15 (main, Nov 23 2022, 09:27:34) [MSC v.1916 64 bit (AMD64)]', 'platform': 'Windows-10-10.0.19045-SP0', 'event': 'train'}\n"
     ]
    },
    {
     "name": "stdout",
     "output_type": "stream",
     "text": [
      "CPU times: total: 484 ms\n",
      "Wall time: 1.11 s\n"
     ]
    },
    {
     "data": {
      "text/plain": [
       "(81479, 278816)"
      ]
     },
     "execution_count": 23,
     "metadata": {},
     "output_type": "execute_result"
    }
   ],
   "source": [
    "%%time\n",
    "w2v_model.train(documents, total_examples=len(documents), epochs=W2V_EPOCH)"
   ]
  },
  {
   "cell_type": "code",
   "execution_count": null,
   "metadata": {},
   "outputs": [],
   "source": []
  }
 ],
 "metadata": {
  "kernelspec": {
   "display_name": "base",
   "language": "python",
   "name": "python3"
  },
  "language_info": {
   "codemirror_mode": {
    "name": "ipython",
    "version": 3
   },
   "file_extension": ".py",
   "mimetype": "text/x-python",
   "name": "python",
   "nbconvert_exporter": "python",
   "pygments_lexer": "ipython3",
   "version": "3.9.15"
  },
  "orig_nbformat": 4,
  "vscode": {
   "interpreter": {
    "hash": "ad2bdc8ecc057115af97d19610ffacc2b4e99fae6737bb82f5d7fb13d2f2c186"
   }
  }
 },
 "nbformat": 4,
 "nbformat_minor": 2
}
