{
 "cells": [
  {
   "cell_type": "code",
   "execution_count": 313,
   "metadata": {},
   "outputs": [
    {
     "name": "stderr",
     "output_type": "stream",
     "text": [
      "[nltk_data] Downloading package stopwords to C:\\Users\\NAUFAL\n",
      "[nltk_data]     HAFIZH\\AppData\\Roaming\\nltk_data...\n",
      "[nltk_data]   Package stopwords is already up-to-date!\n"
     ]
    },
    {
     "data": {
      "text/plain": [
       "True"
      ]
     },
     "execution_count": 313,
     "metadata": {},
     "output_type": "execute_result"
    }
   ],
   "source": [
    "import pandas as pd\n",
    "import numpy as np\n",
    "import matplotlib.pyplot as plt\n",
    "import seaborn as sns\n",
    "import pickle\n",
    "%matplotlib inline\n",
    "import nltk\n",
    "nltk.download('stopwords')"
   ]
  },
  {
   "cell_type": "code",
   "execution_count": 314,
   "metadata": {},
   "outputs": [
    {
     "data": {
      "text/html": [
       "<div>\n",
       "<style scoped>\n",
       "    .dataframe tbody tr th:only-of-type {\n",
       "        vertical-align: middle;\n",
       "    }\n",
       "\n",
       "    .dataframe tbody tr th {\n",
       "        vertical-align: top;\n",
       "    }\n",
       "\n",
       "    .dataframe thead th {\n",
       "        text-align: right;\n",
       "    }\n",
       "</style>\n",
       "<table border=\"1\" class=\"dataframe\">\n",
       "  <thead>\n",
       "    <tr style=\"text-align: right;\">\n",
       "      <th></th>\n",
       "      <th>text</th>\n",
       "      <th>label</th>\n",
       "    </tr>\n",
       "  </thead>\n",
       "  <tbody>\n",
       "    <tr>\n",
       "      <th>0</th>\n",
       "      <td>Pesawat harus nya berangkat jam 5:20am di Hali...</td>\n",
       "      <td>0</td>\n",
       "    </tr>\n",
       "    <tr>\n",
       "      <th>1</th>\n",
       "      <td>Sudah kedua kali penerbangan menggunakan Batik...</td>\n",
       "      <td>0</td>\n",
       "    </tr>\n",
       "    <tr>\n",
       "      <th>2</th>\n",
       "      <td>Super bad experience, flight jam 4 sore dari s...</td>\n",
       "      <td>0</td>\n",
       "    </tr>\n",
       "    <tr>\n",
       "      <th>3</th>\n",
       "      <td>BURUK BURUK BURUK.. sy order tiket jkt - kenda...</td>\n",
       "      <td>0</td>\n",
       "    </tr>\n",
       "    <tr>\n",
       "      <th>4</th>\n",
       "      <td>Checkin tidak terima label priority, kemudian ...</td>\n",
       "      <td>0</td>\n",
       "    </tr>\n",
       "  </tbody>\n",
       "</table>\n",
       "</div>"
      ],
      "text/plain": [
       "                                                text  label\n",
       "0  Pesawat harus nya berangkat jam 5:20am di Hali...      0\n",
       "1  Sudah kedua kali penerbangan menggunakan Batik...      0\n",
       "2  Super bad experience, flight jam 4 sore dari s...      0\n",
       "3  BURUK BURUK BURUK.. sy order tiket jkt - kenda...      0\n",
       "4  Checkin tidak terima label priority, kemudian ...      0"
      ]
     },
     "execution_count": 314,
     "metadata": {},
     "output_type": "execute_result"
    }
   ],
   "source": [
    "data = pd.read_csv('../data/csv/cleaned/ta-batik-clean.csv')\n",
    "data.head()"
   ]
  },
  {
   "cell_type": "code",
   "execution_count": 315,
   "metadata": {},
   "outputs": [
    {
     "name": "stdout",
     "output_type": "stream",
     "text": [
      "Jumlah data pada setiap nilai label:\n",
      " 1    283\n",
      "0    141\n",
      "Name: label, dtype: int64\n"
     ]
    }
   ],
   "source": [
    "label_counts = data['label'].value_counts()\n",
    "print('Jumlah data pada setiap nilai label:\\n', label_counts)"
   ]
  },
  {
   "cell_type": "code",
   "execution_count": 316,
   "metadata": {},
   "outputs": [
    {
     "name": "stdout",
     "output_type": "stream",
     "text": [
      "Jumlah data:  424\n",
      "Jumlah ulasan positif:  283\n",
      "Jumlah ulasan negatif:  141\n"
     ]
    }
   ],
   "source": [
    "print(\"Jumlah data: \", len(data))\n",
    "print(\"Jumlah ulasan positif: \", data['label'].value_counts()[1])\n",
    "print(\"Jumlah ulasan negatif: \", data['label'].value_counts()[0])"
   ]
  },
  {
   "cell_type": "code",
   "execution_count": 317,
   "metadata": {},
   "outputs": [
    {
     "data": {
      "image/png": "[encoded data removed]",
      "text/plain": [
       "<Figure size 640x480 with 1 Axes>"
      ]
     },
     "metadata": {},
     "output_type": "display_data"
    }
   ],
   "source": [
    "jumlah_positif = data['label'].value_counts()[1]\n",
    "jumlah_negatif = data['label'].value_counts()[0]\n",
    "\n",
    "plt.bar(['Positive', 'Negative'], [jumlah_positif, jumlah_negatif])\n",
    "plt.title('Sentiment Analysis Result')\n",
    "plt.xlabel('Sentiment')\n",
    "plt.ylabel('Jumlah Ulasan')\n",
    "plt.show()"
   ]
  },
  {
   "cell_type": "code",
   "execution_count": 318,
   "metadata": {},
   "outputs": [],
   "source": [
    "import re\n",
    "\n",
    "def casefolding(text):\n",
    "    text = text.lower()                                # Mengubah teks menjadi lower case\n",
    "    text = re.sub(r'https?://\\S+|www\\.\\S+', '', text)  # Menghapus URL\n",
    "    text = re.sub(r'[-+]?[0-9]+', '', text)            # Menghapus angka\n",
    "    text = re.sub(r'[^\\w\\s]','', text)                 # Menghapus karakter tanda baca\n",
    "    text = text.strip()\n",
    "    return text\n",
    "data['text'] = data['text'].apply(casefolding)\n"
   ]
  },
  {
   "cell_type": "code",
   "execution_count": 319,
   "metadata": {},
   "outputs": [
    {
     "name": "stdout",
     "output_type": "stream",
     "text": [
      "0    pesawat harus nya berangkat jam am di halim ma...\n",
      "1    sudah kedua kali penerbangan menggunakan batik...\n",
      "2    super bad experience flight jam  sore dari sem...\n",
      "3    buruk buruk buruk sy order tiket jkt  kendari ...\n",
      "4    checkin tidak terima label priority kemudian h...\n",
      "Name: text, dtype: object\n"
     ]
    }
   ],
   "source": [
    "print(data['text'].head())"
   ]
  },
  {
   "cell_type": "code",
   "execution_count": 320,
   "metadata": {},
   "outputs": [],
   "source": [
    "from nltk.corpus import stopwords\n",
    "\n",
    "stopwords_ind = stopwords.words('indonesian')\n",
    "\n",
    "more_stopword=['href','a','b','br']\n",
    "stopwords_ind=stopwords_ind+more_stopword\n",
    "\n",
    "def remove_stop_words(text):\n",
    "    clean_words=[]\n",
    "    text=text.split()\n",
    "    for word in text:\n",
    "        if word not in stopwords_ind:\n",
    "            clean_words.append(word)\n",
    "    return \" \".join(clean_words)"
   ]
  },
  {
   "cell_type": "code",
   "execution_count": 321,
   "metadata": {},
   "outputs": [
    {
     "name": "stdout",
     "output_type": "stream",
     "text": [
      "0      pesawat harus nya berangkat jam am di halim ma...\n",
      "1      sudah kedua kali penerbangan menggunakan batik...\n",
      "2      super bad experience flight jam  sore dari sem...\n",
      "3      buruk buruk buruk sy order tiket jkt  kendari ...\n",
      "4      checkin tidak terima label priority kemudian h...\n",
      "                             ...                        \n",
      "419    perjalanan dari kupang ke jakarta dalam waktu ...\n",
      "420    cobalah untuk membawa power bank ditakutkan me...\n",
      "421    batik air adalah pilihan yang tepat jika anda ...\n",
      "422    saya sudah beberapa kali menggunakan batik air...\n",
      "423    batik air menjadi pilihan dibandingkan sodaran...\n",
      "Name: text, Length: 424, dtype: object\n"
     ]
    }
   ],
   "source": [
    "print(data['text'])"
   ]
  },
  {
   "cell_type": "code",
   "execution_count": 322,
   "metadata": {},
   "outputs": [],
   "source": [
    "from Sastrawi.Stemmer.StemmerFactory import StemmerFactory\n",
    "\n",
    "factory = StemmerFactory()\n",
    "stemmer = factory.create_stemmer()\n",
    "\n",
    "def stemming(text):\n",
    "  text = stemmer.stem(text)\n",
    "  return text"
   ]
  },
  {
   "cell_type": "code",
   "execution_count": 323,
   "metadata": {},
   "outputs": [
    {
     "name": "stdout",
     "output_type": "stream",
     "text": [
      "Raw data\t\t:  tiket boarding pass saya tidak muncul di layar  malah dinyatakan hangus  saya mau uang saya kembalikan\n",
      "Case folding\t\t:  tiket boarding pass saya tidak muncul di layar  malah dinyatakan hangus  saya mau uang saya kembalikan\n",
      "Stopword removal\t:  tiket boarding pass muncul layar dinyatakan hangus uang kembalikan\n",
      "Stemming\t\t:  tiket boarding pass muncul layar nyata hangus uang kembali\n"
     ]
    }
   ],
   "source": [
    "raw_sample = data['text'].iloc[7]\n",
    "case_folding = casefolding(raw_sample)\n",
    "stopword_removal = remove_stop_words(case_folding)\n",
    "text_stemming = stemming(stopword_removal)\n",
    "\n",
    "print('Raw data\\t\\t: ', raw_sample)\n",
    "print('Case folding\\t\\t: ', case_folding)\n",
    "print('Stopword removal\\t: ', stopword_removal)\n",
    "print('Stemming\\t\\t: ', text_stemming)"
   ]
  },
  {
   "cell_type": "code",
   "execution_count": 324,
   "metadata": {},
   "outputs": [],
   "source": [
    "def text_preprocessing_process(text):\n",
    "    text=casefolding(text)\n",
    "    text=remove_stop_words(text)\n",
    "    text=stemming(text)\n",
    "    return text"
   ]
  },
  {
   "cell_type": "code",
   "execution_count": 325,
   "metadata": {},
   "outputs": [
    {
     "name": "stdout",
     "output_type": "stream",
     "text": [
      "CPU times: total: 3min 39s\n",
      "Wall time: 3min 59s\n"
     ]
    }
   ],
   "source": [
    "%%time\n",
    "data['clean_text']=data['text'].apply(text_preprocessing_process)"
   ]
  },
  {
   "cell_type": "code",
   "execution_count": 326,
   "metadata": {},
   "outputs": [
    {
     "name": "stdout",
     "output_type": "stream",
     "text": [
      "0      [pesawat, nya, berangkat, jam, am, halim, mala...\n",
      "1      [kali, terbang, batik, air, web, checkin, terb...\n",
      "2      [super, bad, experience, flight, jam, sore, se...\n",
      "3      [buruk, buruk, buruk, sy, order, tiket, jkt, k...\n",
      "4      [checkin, terima, label, priority, tunggu, soe...\n",
      "                             ...                        \n",
      "419    [jalan, kupang, jakarta, jam, manja, hibur, dl...\n",
      "420    [coba, bawa, power, bank, takut, alami, ganggu...\n",
      "421    [batik, air, pilih, suka, jalan, santai, senan...\n",
      "422    [kali, batik, air, ekonomi, business, class, k...\n",
      "423    [batik, air, pilih, banding, sodaranya, telat,...\n",
      "Name: tokens, Length: 424, dtype: object\n"
     ]
    },
    {
     "name": "stderr",
     "output_type": "stream",
     "text": [
      "[nltk_data] Downloading package punkt to C:\\Users\\NAUFAL\n",
      "[nltk_data]     HAFIZH\\AppData\\Roaming\\nltk_data...\n",
      "[nltk_data]   Package punkt is already up-to-date!\n"
     ]
    }
   ],
   "source": [
    "import nltk\n",
    "nltk.download('punkt')\n",
    "\n",
    "data['tokens'] = data['clean_text'].apply(lambda x: nltk.word_tokenize(x))\n",
    "print(data['tokens'])"
   ]
  },
  {
   "cell_type": "code",
   "execution_count": 327,
   "metadata": {},
   "outputs": [
    {
     "data": {
      "text/html": [
       "<div>\n",
       "<style scoped>\n",
       "    .dataframe tbody tr th:only-of-type {\n",
       "        vertical-align: middle;\n",
       "    }\n",
       "\n",
       "    .dataframe tbody tr th {\n",
       "        vertical-align: top;\n",
       "    }\n",
       "\n",
       "    .dataframe thead th {\n",
       "        text-align: right;\n",
       "    }\n",
       "</style>\n",
       "<table border=\"1\" class=\"dataframe\">\n",
       "  <thead>\n",
       "    <tr style=\"text-align: right;\">\n",
       "      <th></th>\n",
       "      <th>text</th>\n",
       "      <th>label</th>\n",
       "      <th>clean_text</th>\n",
       "      <th>tokens</th>\n",
       "    </tr>\n",
       "  </thead>\n",
       "  <tbody>\n",
       "    <tr>\n",
       "      <th>0</th>\n",
       "      <td>pesawat harus nya berangkat jam am di halim ma...</td>\n",
       "      <td>0</td>\n",
       "      <td>pesawat nya berangkat jam am halim malam nya i...</td>\n",
       "      <td>[pesawat, nya, berangkat, jam, am, halim, mala...</td>\n",
       "    </tr>\n",
       "    <tr>\n",
       "      <th>1</th>\n",
       "      <td>sudah kedua kali penerbangan menggunakan batik...</td>\n",
       "      <td>0</td>\n",
       "      <td>kali terbang batik air web checkin terbang can...</td>\n",
       "      <td>[kali, terbang, batik, air, web, checkin, terb...</td>\n",
       "    </tr>\n",
       "    <tr>\n",
       "      <th>2</th>\n",
       "      <td>super bad experience flight jam  sore dari sem...</td>\n",
       "      <td>0</td>\n",
       "      <td>super bad experience flight jam sore semarang ...</td>\n",
       "      <td>[super, bad, experience, flight, jam, sore, se...</td>\n",
       "    </tr>\n",
       "    <tr>\n",
       "      <th>3</th>\n",
       "      <td>buruk buruk buruk sy order tiket jkt  kendari ...</td>\n",
       "      <td>0</td>\n",
       "      <td>buruk buruk buruk sy order tiket jkt kendari u...</td>\n",
       "      <td>[buruk, buruk, buruk, sy, order, tiket, jkt, k...</td>\n",
       "    </tr>\n",
       "    <tr>\n",
       "      <th>4</th>\n",
       "      <td>checkin tidak terima label priority kemudian h...</td>\n",
       "      <td>0</td>\n",
       "      <td>checkin terima label priority tunggu soehatta ...</td>\n",
       "      <td>[checkin, terima, label, priority, tunggu, soe...</td>\n",
       "    </tr>\n",
       "    <tr>\n",
       "      <th>...</th>\n",
       "      <td>...</td>\n",
       "      <td>...</td>\n",
       "      <td>...</td>\n",
       "      <td>...</td>\n",
       "    </tr>\n",
       "    <tr>\n",
       "      <th>419</th>\n",
       "      <td>perjalanan dari kupang ke jakarta dalam waktu ...</td>\n",
       "      <td>1</td>\n",
       "      <td>jalan kupang jakarta jam manja hibur dlam pesa...</td>\n",
       "      <td>[jalan, kupang, jakarta, jam, manja, hibur, dl...</td>\n",
       "    </tr>\n",
       "    <tr>\n",
       "      <th>420</th>\n",
       "      <td>cobalah untuk membawa power bank ditakutkan me...</td>\n",
       "      <td>1</td>\n",
       "      <td>coba bawa power bank takut alami ganggu pd lay...</td>\n",
       "      <td>[coba, bawa, power, bank, takut, alami, ganggu...</td>\n",
       "    </tr>\n",
       "    <tr>\n",
       "      <th>421</th>\n",
       "      <td>batik air adalah pilihan yang tepat jika anda ...</td>\n",
       "      <td>1</td>\n",
       "      <td>batik air pilih suka jalan santai senang pilih...</td>\n",
       "      <td>[batik, air, pilih, suka, jalan, santai, senan...</td>\n",
       "    </tr>\n",
       "    <tr>\n",
       "      <th>422</th>\n",
       "      <td>saya sudah beberapa kali menggunakan batik air...</td>\n",
       "      <td>1</td>\n",
       "      <td>kali batik air ekonomi business class kali ula...</td>\n",
       "      <td>[kali, batik, air, ekonomi, business, class, k...</td>\n",
       "    </tr>\n",
       "    <tr>\n",
       "      <th>423</th>\n",
       "      <td>batik air menjadi pilihan dibandingkan sodaran...</td>\n",
       "      <td>1</td>\n",
       "      <td>batik air pilih banding sodaranya telat layar ...</td>\n",
       "      <td>[batik, air, pilih, banding, sodaranya, telat,...</td>\n",
       "    </tr>\n",
       "  </tbody>\n",
       "</table>\n",
       "<p>424 rows × 4 columns</p>\n",
       "</div>"
      ],
      "text/plain": [
       "                                                  text  label  \\\n",
       "0    pesawat harus nya berangkat jam am di halim ma...      0   \n",
       "1    sudah kedua kali penerbangan menggunakan batik...      0   \n",
       "2    super bad experience flight jam  sore dari sem...      0   \n",
       "3    buruk buruk buruk sy order tiket jkt  kendari ...      0   \n",
       "4    checkin tidak terima label priority kemudian h...      0   \n",
       "..                                                 ...    ...   \n",
       "419  perjalanan dari kupang ke jakarta dalam waktu ...      1   \n",
       "420  cobalah untuk membawa power bank ditakutkan me...      1   \n",
       "421  batik air adalah pilihan yang tepat jika anda ...      1   \n",
       "422  saya sudah beberapa kali menggunakan batik air...      1   \n",
       "423  batik air menjadi pilihan dibandingkan sodaran...      1   \n",
       "\n",
       "                                            clean_text  \\\n",
       "0    pesawat nya berangkat jam am halim malam nya i...   \n",
       "1    kali terbang batik air web checkin terbang can...   \n",
       "2    super bad experience flight jam sore semarang ...   \n",
       "3    buruk buruk buruk sy order tiket jkt kendari u...   \n",
       "4    checkin terima label priority tunggu soehatta ...   \n",
       "..                                                 ...   \n",
       "419  jalan kupang jakarta jam manja hibur dlam pesa...   \n",
       "420  coba bawa power bank takut alami ganggu pd lay...   \n",
       "421  batik air pilih suka jalan santai senang pilih...   \n",
       "422  kali batik air ekonomi business class kali ula...   \n",
       "423  batik air pilih banding sodaranya telat layar ...   \n",
       "\n",
       "                                                tokens  \n",
       "0    [pesawat, nya, berangkat, jam, am, halim, mala...  \n",
       "1    [kali, terbang, batik, air, web, checkin, terb...  \n",
       "2    [super, bad, experience, flight, jam, sore, se...  \n",
       "3    [buruk, buruk, buruk, sy, order, tiket, jkt, k...  \n",
       "4    [checkin, terima, label, priority, tunggu, soe...  \n",
       "..                                                 ...  \n",
       "419  [jalan, kupang, jakarta, jam, manja, hibur, dl...  \n",
       "420  [coba, bawa, power, bank, takut, alami, ganggu...  \n",
       "421  [batik, air, pilih, suka, jalan, santai, senan...  \n",
       "422  [kali, batik, air, ekonomi, business, class, k...  \n",
       "423  [batik, air, pilih, banding, sodaranya, telat,...  \n",
       "\n",
       "[424 rows x 4 columns]"
      ]
     },
     "execution_count": 327,
     "metadata": {},
     "output_type": "execute_result"
    }
   ],
   "source": [
    "data"
   ]
  },
  {
   "cell_type": "code",
   "execution_count": 328,
   "metadata": {},
   "outputs": [],
   "source": [
    "data.to_csv('../data/csv/cleaned/lion-w2v-trial.csv')"
   ]
  },
  {
   "cell_type": "code",
   "execution_count": 329,
   "metadata": {},
   "outputs": [
    {
     "data": {
      "text/plain": [
       "'4.3.0'"
      ]
     },
     "execution_count": 329,
     "metadata": {},
     "output_type": "execute_result"
    }
   ],
   "source": [
    "import gensim\n",
    "gensim.__version__"
   ]
  },
  {
   "cell_type": "code",
   "execution_count": 330,
   "metadata": {},
   "outputs": [
    {
     "data": {
      "text/plain": [
       "0      [pesawat, nya, berangkat, jam, am, halim, mala...\n",
       "1      [kali, terbang, batik, air, web, checkin, terb...\n",
       "2      [super, bad, experience, flight, jam, sore, se...\n",
       "3      [buruk, buruk, buruk, sy, order, tiket, jkt, k...\n",
       "4      [checkin, terima, label, priority, tunggu, soe...\n",
       "                             ...                        \n",
       "419    [jalan, kupang, jakarta, jam, manja, hibur, dl...\n",
       "420    [coba, bawa, power, bank, takut, alami, ganggu...\n",
       "421    [batik, air, pilih, suka, jalan, santai, senan...\n",
       "422    [kali, batik, air, ekonomi, business, class, k...\n",
       "423    [batik, air, pilih, banding, sodaranya, telat,...\n",
       "Name: clean_text, Length: 424, dtype: object"
      ]
     },
     "execution_count": 330,
     "metadata": {},
     "output_type": "execute_result"
    }
   ],
   "source": [
    "def tokenization(text):\n",
    "  text = re.split('\\W+', text)\n",
    "  return text\n",
    "\n",
    "sentences = data['clean_text'].apply(lambda x: tokenization(x.lower()))\n",
    "sentences"
   ]
  },
  {
   "cell_type": "code",
   "execution_count": 331,
   "metadata": {},
   "outputs": [],
   "source": [
    "MIN_COUNT = 1       # Mengabaikan semua kata dengan frekuensi total lebih rendah dari ini (opsional)\n",
    "WINDOW = 5          # Window size. Jarak maksimum antara kata saat ini dan yang diprediksi dalam sebuah kalimat.\n",
    "EPOCH = 15          # Jumlah iterasi (epoch).\n",
    "SG = 1              # Algoritma pelatihan: 1 untuk skip-gram, 0 untuk CBOW.\n",
    "SIZE = 5"
   ]
  },
  {
   "cell_type": "code",
   "execution_count": 332,
   "metadata": {},
   "outputs": [
    {
     "name": "stdout",
     "output_type": "stream",
     "text": [
      "CPU times: total: 906 ms\n",
      "Wall time: 746 ms\n"
     ]
    }
   ],
   "source": [
    "%%time \n",
    "model_word2vec = gensim.models.Word2Vec(sentences, vector_size=SIZE, sg=SG, min_count=MIN_COUNT, window=WINDOW, epochs=EPOCH)"
   ]
  },
  {
   "cell_type": "code",
   "execution_count": 333,
   "metadata": {},
   "outputs": [],
   "source": [
    "path = \"word2vec.bin.gz\"\n",
    "model_word2vec.wv.save_word2vec_format(path, binary=True)"
   ]
  },
  {
   "cell_type": "code",
   "execution_count": 334,
   "metadata": {},
   "outputs": [
    {
     "data": {
      "text/plain": [
       "array([ 0.40586555,  0.83757055,  1.137015  , -0.3561784 , -0.49289045],\n",
       "      dtype=float32)"
      ]
     },
     "execution_count": 334,
     "metadata": {},
     "output_type": "execute_result"
    }
   ],
   "source": [
    "model_word2vec.wv['telat']"
   ]
  },
  {
   "cell_type": "code",
   "execution_count": 335,
   "metadata": {},
   "outputs": [
    {
     "data": {
      "text/plain": [
       "[('groupnya', 0.9971911311149597),\n",
       " ('juli', 0.9936167001724243),\n",
       " ('hubung', 0.9931854605674744),\n",
       " ('lihat', 0.9928686618804932),\n",
       " ('gin', 0.9925346970558167),\n",
       " ('wujud', 0.9921355843544006),\n",
       " ('tahu', 0.9904336929321289),\n",
       " ('rute', 0.9896239638328552),\n",
       " ('pikir', 0.9886869788169861),\n",
       " ('management', 0.9884716272354126)]"
      ]
     },
     "execution_count": 335,
     "metadata": {},
     "output_type": "execute_result"
    }
   ],
   "source": [
    "model_word2vec.wv.most_similar('telat')"
   ]
  },
  {
   "cell_type": "code",
   "execution_count": 336,
   "metadata": {},
   "outputs": [
    {
     "data": {
      "text/plain": [
       "array([[ 0.66985345,  1.0030714 ,  0.8135724 , -1.0455927 , -0.24541512],\n",
       "       [-0.6848343 ,  1.0763259 ,  0.9201174 , -1.4278243 , -0.1593396 ],\n",
       "       [ 0.33111867,  1.2548689 ,  0.78406656, -1.2846372 , -0.12389681],\n",
       "       [-0.4835813 ,  1.3522621 ,  0.71541184, -1.287357  , -0.6257027 ],\n",
       "       [ 0.01853516,  0.80705494,  0.8110394 , -1.3847526 , -0.1232953 ]],\n",
       "      dtype=float32)"
      ]
     },
     "execution_count": 336,
     "metadata": {},
     "output_type": "execute_result"
    }
   ],
   "source": [
    "word_list = ['tepat', 'nyaman', 'bagus', 'ramah', 'senang']\n",
    "word_vectors = np.array([model_word2vec.wv[w] for w in word_list])\n",
    "word_vectors"
   ]
  },
  {
   "cell_type": "code",
   "execution_count": 337,
   "metadata": {},
   "outputs": [],
   "source": [
    "from sklearn.decomposition import PCA, KernelPCA\n",
    "\n",
    "dimred = PCA(n_components=2, copy=False, whiten=True)\n",
    "red_word_vectors = dimred.fit_transform(word_vectors)"
   ]
  },
  {
   "cell_type": "code",
   "execution_count": 338,
   "metadata": {},
   "outputs": [
    {
     "data": {
      "text/plain": [
       "array([[ 1.2619826 ,  0.28687426],\n",
       "       [-1.1096348 , -0.807989  ],\n",
       "       [ 0.6015393 ,  0.23884818],\n",
       "       [-0.89176834,  1.3996986 ],\n",
       "       [ 0.13788113, -1.1174313 ]], dtype=float32)"
      ]
     },
     "execution_count": 338,
     "metadata": {},
     "output_type": "execute_result"
    }
   ],
   "source": [
    "red_word_vectors"
   ]
  },
  {
   "cell_type": "code",
   "execution_count": 339,
   "metadata": {},
   "outputs": [],
   "source": [
    "def plot(datas, labels, fc='yellow'):\n",
    "  # plot the dots\n",
    "  plt.subplots_adjust(bottom = 0.1)\n",
    "  plt.scatter(datas[:, 0], datas[:, 1], marker='o')\n",
    "\n",
    "  # annotate labels\n",
    "  for label, x, y in zip(labels, datas[:, 0], datas[:, 1]):\n",
    "    plt.annotate(label, \\\n",
    "                 xy=(x, y), xytext=(-15, 15), \\\n",
    "                 textcoords='offset points', ha='right', va='bottom', \\\n",
    "                 bbox=dict(boxstyle='round,pad=0.3', fc=fc, alpha=0.5), \\\n",
    "                 arrowprops=dict(arrowstyle = '->', connectionstyle='arc3,rad=0'))\n",
    "  plt.show()"
   ]
  },
  {
   "cell_type": "code",
   "execution_count": 340,
   "metadata": {},
   "outputs": [
    {
     "data": {
      "image/png": "[encoded data removed]",
      "text/plain": [
       "<Figure size 640x480 with 1 Axes>"
      ]
     },
     "metadata": {},
     "output_type": "display_data"
    }
   ],
   "source": [
    "plot(red_word_vectors, word_list)"
   ]
  },
  {
   "cell_type": "code",
   "execution_count": 341,
   "metadata": {},
   "outputs": [
    {
     "data": {
      "text/html": [
       "<div>\n",
       "<style scoped>\n",
       "    .dataframe tbody tr th:only-of-type {\n",
       "        vertical-align: middle;\n",
       "    }\n",
       "\n",
       "    .dataframe tbody tr th {\n",
       "        vertical-align: top;\n",
       "    }\n",
       "\n",
       "    .dataframe thead th {\n",
       "        text-align: right;\n",
       "    }\n",
       "</style>\n",
       "<table border=\"1\" class=\"dataframe\">\n",
       "  <thead>\n",
       "    <tr style=\"text-align: right;\">\n",
       "      <th></th>\n",
       "      <th>clean_text</th>\n",
       "      <th>label</th>\n",
       "    </tr>\n",
       "  </thead>\n",
       "  <tbody>\n",
       "    <tr>\n",
       "      <th>0</th>\n",
       "      <td>pesawat nya berangkat jam am halim malam nya i...</td>\n",
       "      <td>0</td>\n",
       "    </tr>\n",
       "    <tr>\n",
       "      <th>1</th>\n",
       "      <td>kali terbang batik air web checkin terbang can...</td>\n",
       "      <td>0</td>\n",
       "    </tr>\n",
       "    <tr>\n",
       "      <th>2</th>\n",
       "      <td>super bad experience flight jam sore semarang ...</td>\n",
       "      <td>0</td>\n",
       "    </tr>\n",
       "    <tr>\n",
       "      <th>3</th>\n",
       "      <td>buruk buruk buruk sy order tiket jkt kendari u...</td>\n",
       "      <td>0</td>\n",
       "    </tr>\n",
       "    <tr>\n",
       "      <th>4</th>\n",
       "      <td>checkin terima label priority tunggu soehatta ...</td>\n",
       "      <td>0</td>\n",
       "    </tr>\n",
       "    <tr>\n",
       "      <th>...</th>\n",
       "      <td>...</td>\n",
       "      <td>...</td>\n",
       "    </tr>\n",
       "    <tr>\n",
       "      <th>419</th>\n",
       "      <td>jalan kupang jakarta jam manja hibur dlam pesa...</td>\n",
       "      <td>1</td>\n",
       "    </tr>\n",
       "    <tr>\n",
       "      <th>420</th>\n",
       "      <td>coba bawa power bank takut alami ganggu pd lay...</td>\n",
       "      <td>1</td>\n",
       "    </tr>\n",
       "    <tr>\n",
       "      <th>421</th>\n",
       "      <td>batik air pilih suka jalan santai senang pilih...</td>\n",
       "      <td>1</td>\n",
       "    </tr>\n",
       "    <tr>\n",
       "      <th>422</th>\n",
       "      <td>kali batik air ekonomi business class kali ula...</td>\n",
       "      <td>1</td>\n",
       "    </tr>\n",
       "    <tr>\n",
       "      <th>423</th>\n",
       "      <td>batik air pilih banding sodaranya telat layar ...</td>\n",
       "      <td>1</td>\n",
       "    </tr>\n",
       "  </tbody>\n",
       "</table>\n",
       "<p>424 rows × 2 columns</p>\n",
       "</div>"
      ],
      "text/plain": [
       "                                            clean_text  label\n",
       "0    pesawat nya berangkat jam am halim malam nya i...      0\n",
       "1    kali terbang batik air web checkin terbang can...      0\n",
       "2    super bad experience flight jam sore semarang ...      0\n",
       "3    buruk buruk buruk sy order tiket jkt kendari u...      0\n",
       "4    checkin terima label priority tunggu soehatta ...      0\n",
       "..                                                 ...    ...\n",
       "419  jalan kupang jakarta jam manja hibur dlam pesa...      1\n",
       "420  coba bawa power bank takut alami ganggu pd lay...      1\n",
       "421  batik air pilih suka jalan santai senang pilih...      1\n",
       "422  kali batik air ekonomi business class kali ula...      1\n",
       "423  batik air pilih banding sodaranya telat layar ...      1\n",
       "\n",
       "[424 rows x 2 columns]"
      ]
     },
     "execution_count": 341,
     "metadata": {},
     "output_type": "execute_result"
    }
   ],
   "source": [
    "data1 = data[['clean_text', 'label']]\n",
    "data1"
   ]
  },
  {
   "cell_type": "code",
   "execution_count": 342,
   "metadata": {},
   "outputs": [],
   "source": [
    "from sklearn.model_selection import train_test_split\n",
    "\n",
    "data_train, data_test = train_test_split(data, test_size=0.2, random_state=5)\n",
    "data_train, data_val = train_test_split(data_train, test_size=0.25, random_state=5)"
   ]
  },
  {
   "cell_type": "code",
   "execution_count": 343,
   "metadata": {},
   "outputs": [
    {
     "name": "stdout",
     "output_type": "stream",
     "text": [
      "(254, 4)\n",
      "(85, 4)\n",
      "(85, 4)\n"
     ]
    }
   ],
   "source": [
    "print(data_train.shape)\n",
    "print(data_val.shape)\n",
    "print(data_test.shape)"
   ]
  },
  {
   "cell_type": "code",
   "execution_count": 344,
   "metadata": {},
   "outputs": [],
   "source": [
    "trainX = np.array(data_train.iloc[:, 0])\n",
    "trainY = np.array(data_train.iloc[:, 1])\n",
    "\n",
    "testX = np.array(data_test.iloc[:, 0])\n",
    "testY = np.array(data_test.iloc[:, 1])\n",
    "\n",
    "valX = np.array(data_val.iloc[:, 0])\n",
    "valY = np.array(data_val.iloc[:, 1])"
   ]
  },
  {
   "cell_type": "code",
   "execution_count": 345,
   "metadata": {},
   "outputs": [],
   "source": [
    "trainY = pd.get_dummies(trainY).values\n",
    "testY = pd.get_dummies(testY).values\n",
    "valY = pd.get_dummies(valY).values"
   ]
  },
  {
   "cell_type": "code",
   "execution_count": 346,
   "metadata": {},
   "outputs": [
    {
     "name": "stdout",
     "output_type": "stream",
     "text": [
      "(254, 2)\n",
      "(85, 2)\n",
      "(85, 2)\n"
     ]
    }
   ],
   "source": [
    "print(trainY.shape)\n",
    "print(testY.shape)\n",
    "print(valY.shape)"
   ]
  },
  {
   "cell_type": "code",
   "execution_count": 347,
   "metadata": {},
   "outputs": [
    {
     "data": {
      "text/plain": [
       "array([[0, 1],\n",
       "       [0, 1],\n",
       "       [0, 1],\n",
       "       [0, 1],\n",
       "       [0, 1],\n",
       "       [1, 0],\n",
       "       [0, 1],\n",
       "       [0, 1],\n",
       "       [1, 0],\n",
       "       [0, 1],\n",
       "       [1, 0],\n",
       "       [0, 1],\n",
       "       [0, 1],\n",
       "       [1, 0],\n",
       "       [1, 0],\n",
       "       [1, 0],\n",
       "       [0, 1],\n",
       "       [0, 1],\n",
       "       [0, 1],\n",
       "       [0, 1],\n",
       "       [0, 1],\n",
       "       [1, 0],\n",
       "       [0, 1],\n",
       "       [1, 0],\n",
       "       [1, 0],\n",
       "       [0, 1],\n",
       "       [0, 1],\n",
       "       [0, 1],\n",
       "       [0, 1],\n",
       "       [0, 1],\n",
       "       [1, 0],\n",
       "       [0, 1],\n",
       "       [0, 1],\n",
       "       [0, 1],\n",
       "       [0, 1],\n",
       "       [1, 0],\n",
       "       [0, 1],\n",
       "       [0, 1],\n",
       "       [0, 1],\n",
       "       [1, 0],\n",
       "       [0, 1],\n",
       "       [0, 1],\n",
       "       [1, 0],\n",
       "       [0, 1],\n",
       "       [1, 0],\n",
       "       [0, 1],\n",
       "       [0, 1],\n",
       "       [0, 1],\n",
       "       [0, 1],\n",
       "       [0, 1],\n",
       "       [0, 1],\n",
       "       [1, 0],\n",
       "       [0, 1],\n",
       "       [0, 1],\n",
       "       [0, 1],\n",
       "       [0, 1],\n",
       "       [0, 1],\n",
       "       [1, 0],\n",
       "       [0, 1],\n",
       "       [0, 1],\n",
       "       [0, 1],\n",
       "       [0, 1],\n",
       "       [1, 0],\n",
       "       [0, 1],\n",
       "       [1, 0],\n",
       "       [1, 0],\n",
       "       [1, 0],\n",
       "       [0, 1],\n",
       "       [0, 1],\n",
       "       [0, 1],\n",
       "       [1, 0],\n",
       "       [1, 0],\n",
       "       [0, 1],\n",
       "       [1, 0],\n",
       "       [0, 1],\n",
       "       [0, 1],\n",
       "       [1, 0],\n",
       "       [0, 1],\n",
       "       [1, 0],\n",
       "       [0, 1],\n",
       "       [0, 1],\n",
       "       [0, 1],\n",
       "       [1, 0],\n",
       "       [1, 0],\n",
       "       [1, 0],\n",
       "       [1, 0],\n",
       "       [0, 1],\n",
       "       [1, 0],\n",
       "       [0, 1],\n",
       "       [1, 0],\n",
       "       [0, 1],\n",
       "       [1, 0],\n",
       "       [1, 0],\n",
       "       [0, 1],\n",
       "       [0, 1],\n",
       "       [1, 0],\n",
       "       [0, 1],\n",
       "       [1, 0],\n",
       "       [0, 1],\n",
       "       [1, 0],\n",
       "       [0, 1],\n",
       "       [1, 0],\n",
       "       [0, 1],\n",
       "       [1, 0],\n",
       "       [0, 1],\n",
       "       [0, 1],\n",
       "       [0, 1],\n",
       "       [0, 1],\n",
       "       [0, 1],\n",
       "       [0, 1],\n",
       "       [0, 1],\n",
       "       [0, 1],\n",
       "       [0, 1],\n",
       "       [1, 0],\n",
       "       [1, 0],\n",
       "       [0, 1],\n",
       "       [1, 0],\n",
       "       [1, 0],\n",
       "       [0, 1],\n",
       "       [1, 0],\n",
       "       [0, 1],\n",
       "       [1, 0],\n",
       "       [0, 1],\n",
       "       [1, 0],\n",
       "       [0, 1],\n",
       "       [0, 1],\n",
       "       [0, 1],\n",
       "       [1, 0],\n",
       "       [1, 0],\n",
       "       [0, 1],\n",
       "       [0, 1],\n",
       "       [1, 0],\n",
       "       [0, 1],\n",
       "       [0, 1],\n",
       "       [1, 0],\n",
       "       [0, 1],\n",
       "       [0, 1],\n",
       "       [0, 1],\n",
       "       [1, 0],\n",
       "       [0, 1],\n",
       "       [1, 0],\n",
       "       [0, 1],\n",
       "       [0, 1],\n",
       "       [0, 1],\n",
       "       [1, 0],\n",
       "       [0, 1],\n",
       "       [0, 1],\n",
       "       [1, 0],\n",
       "       [0, 1],\n",
       "       [0, 1],\n",
       "       [0, 1],\n",
       "       [0, 1],\n",
       "       [0, 1],\n",
       "       [0, 1],\n",
       "       [0, 1],\n",
       "       [1, 0],\n",
       "       [0, 1],\n",
       "       [1, 0],\n",
       "       [0, 1],\n",
       "       [0, 1],\n",
       "       [0, 1],\n",
       "       [0, 1],\n",
       "       [0, 1],\n",
       "       [0, 1],\n",
       "       [0, 1],\n",
       "       [0, 1],\n",
       "       [1, 0],\n",
       "       [1, 0],\n",
       "       [0, 1],\n",
       "       [0, 1],\n",
       "       [1, 0],\n",
       "       [0, 1],\n",
       "       [0, 1],\n",
       "       [0, 1],\n",
       "       [1, 0],\n",
       "       [0, 1],\n",
       "       [0, 1],\n",
       "       [0, 1],\n",
       "       [1, 0],\n",
       "       [0, 1],\n",
       "       [1, 0],\n",
       "       [0, 1],\n",
       "       [0, 1],\n",
       "       [0, 1],\n",
       "       [1, 0],\n",
       "       [0, 1],\n",
       "       [0, 1],\n",
       "       [0, 1],\n",
       "       [0, 1],\n",
       "       [0, 1],\n",
       "       [0, 1],\n",
       "       [1, 0],\n",
       "       [0, 1],\n",
       "       [0, 1],\n",
       "       [0, 1],\n",
       "       [1, 0],\n",
       "       [0, 1],\n",
       "       [0, 1],\n",
       "       [0, 1],\n",
       "       [0, 1],\n",
       "       [0, 1],\n",
       "       [0, 1],\n",
       "       [1, 0],\n",
       "       [0, 1],\n",
       "       [0, 1],\n",
       "       [0, 1],\n",
       "       [0, 1],\n",
       "       [0, 1],\n",
       "       [0, 1],\n",
       "       [0, 1],\n",
       "       [0, 1],\n",
       "       [1, 0],\n",
       "       [0, 1],\n",
       "       [0, 1],\n",
       "       [0, 1],\n",
       "       [1, 0],\n",
       "       [0, 1],\n",
       "       [1, 0],\n",
       "       [0, 1],\n",
       "       [0, 1],\n",
       "       [1, 0],\n",
       "       [1, 0],\n",
       "       [0, 1],\n",
       "       [0, 1],\n",
       "       [1, 0],\n",
       "       [1, 0],\n",
       "       [1, 0],\n",
       "       [1, 0],\n",
       "       [0, 1],\n",
       "       [0, 1],\n",
       "       [0, 1],\n",
       "       [0, 1],\n",
       "       [0, 1],\n",
       "       [1, 0],\n",
       "       [1, 0],\n",
       "       [0, 1],\n",
       "       [0, 1],\n",
       "       [1, 0],\n",
       "       [1, 0],\n",
       "       [0, 1],\n",
       "       [1, 0],\n",
       "       [1, 0],\n",
       "       [0, 1],\n",
       "       [0, 1],\n",
       "       [0, 1],\n",
       "       [0, 1],\n",
       "       [1, 0],\n",
       "       [0, 1],\n",
       "       [0, 1],\n",
       "       [0, 1],\n",
       "       [1, 0],\n",
       "       [1, 0],\n",
       "       [1, 0],\n",
       "       [0, 1]], dtype=uint8)"
      ]
     },
     "execution_count": 347,
     "metadata": {},
     "output_type": "execute_result"
    }
   ],
   "source": [
    "trainY"
   ]
  },
  {
   "cell_type": "code",
   "execution_count": 348,
   "metadata": {},
   "outputs": [
    {
     "name": "stdout",
     "output_type": "stream",
     "text": [
      "KeyedVectors<vector_size=5, 2601 keys>\n"
     ]
    }
   ],
   "source": [
    "from gensim.models import KeyedVectors\n",
    "\n",
    "reloaded_word_vectors = KeyedVectors.load_word2vec_format(path, binary=True)\n",
    "print(reloaded_word_vectors)"
   ]
  },
  {
   "cell_type": "code",
   "execution_count": 349,
   "metadata": {},
   "outputs": [
    {
     "name": "stdout",
     "output_type": "stream",
     "text": [
      "{'<unk>': 1, 'dan': 2, 'yang': 3, 'saya': 4, 'batik': 5, 'di': 6, 'air': 7, 'dengan': 8, 'tidak': 9, 'ada': 10, 'pesawat': 11, 'penerbangan': 12, 'untuk': 13, 'ini': 14, 'dari': 15, 'juga': 16, 'maskapai': 17, 'karena': 18, 'ke': 19, 'cukup': 20, 'sangat': 21, 'baik': 22, 'waktu': 23, 'lebih': 24, 'pelayanan': 25, 'penumpang': 26, 'bisa': 27, 'makanan': 28, 'hanya': 29, 'kali': 30, 'saat': 31, 'itu': 32, 'nyaman': 33, 'dalam': 34, 'yg': 35, 'perjalanan': 36, 'nya': 37, 'kursi': 38, 'hiburan': 39, 'menggunakan': 40, 'naik': 41, 'lion': 42, 'jam': 43, 'terbang': 44, 'kami': 45, 'ramah': 46, 'harga': 47, 'tapi': 48, 'seperti': 49, 'in': 50, 'namun': 51, 'fasilitas': 52, 'sudah': 53, 'selama': 54, 'dapat': 55, 'atau': 56, 'pramugari': 57, 'harus': 58, 'delay': 59, 'flight': 60, 'jakarta': 61, 'masih': 62, 'satu': 63, 'kabin': 64, 'kita': 65, 'pilihan': 66, 'tepat': 67, 'layanan': 68, 'sama': 69, 'tv': 70, 'kelas': 71, 'jadi': 72, 'adalah': 73, 'lagi': 74, 'pada': 75, 'enak': 76, 'on': 77, 'roti': 78, 'saja': 79, 'pertama': 80, 'class': 81, 'bagasi': 82, 'lain': 83, 'bandara': 84, 'sampai': 85, 'check': 86, 'baru': 87, 'gak': 88, 'sehingga': 89, 'bisnis': 90, 'film': 91, 'lumayan': 92, 'bagus': 93, 'snack': 94, 'duduk': 95, 'banyak': 96, 'time': 97, 'business': 98, 'kurang': 99, 'beberapa': 100, 'pun': 101, 'memilih': 102, 'landing': 103, 'ruang': 104, 'service': 105, 'makan': 106, 'mineral': 107, 'agak': 108, 'mungkin': 109, 'setelah': 110, 'layar': 111, 'petugas': 112, 'ya': 113, 'awak': 114, 'mendapatkan': 115, 'disediakan': 116, 'entertainment': 117, 'tempat': 118, 'ga': 119, 'salah': 120, 'memuaskan': 121, 'selalu': 122, 'jika': 123, 'menyenangkan': 124, 'murah': 125, 'minuman': 126, 'jadwal': 127, 'ternyata': 128, 'tetapi': 129, 'boarding': 130, 'depan': 131, 'seat': 132, 'membuat': 133, 'semua': 134, 'kaki': 135, 'belum': 136, 'biasa': 137, 'off': 138, 'menjadi': 139, 'terminal': 140, 'take': 141, 'counter': 142, 'garuda': 143, 'monitor': 144, 'tiket': 145, 'nasi': 146, 'lega': 147, 'menit': 148, 'anda': 149, 'headset': 150, 'jarak': 151, 'menunggu': 152, 'mahal': 153, 'ekonomi': 154, 'lounge': 155, 'full': 156, 'jauh': 157, 'memang': 158, 'diberikan': 159, 'menuju': 160, 'sekali': 161, 'halim': 162, 'terlalu': 163, 'sedikit': 164, 'bersih': 165, 'mendapat': 166, 'serta': 167, 'selain': 168, 'padahal': 169, 'kalau': 170, 'oleh': 171, 'berangkat': 172, 'tersedia': 173, 'disajikan': 174, 'aja': 175, 'banget': 176, 'tetap': 177, 'group': 178, 'akan': 179, 'minum': 180, 'sering': 181, 'secara': 182, 'mereka': 183, 'buat': 184, 'apa': 185, 'menikmati': 186, 'ketika': 187, 'hampir': 188, 'crew': 189, 'teh': 190, 'membawa': 191, 'hal': 192, 'mau': 193, 'akhirnya': 194, 'berupa': 195, 'menu': 196, 'pelayanannya': 197, 'luas': 198, 'masuk': 199, 'tujuan': 200, 'cabin': 201, 'walaupun': 202, 'sesuai': 203, 'lama': 204, 'alasan': 205, 'pagi': 206, 'membantu': 207, 'kopi': 208, 'inflight': 209, 'rasa': 210, 'tunggu': 211, 'cuma': 212, 'udah': 213, 'kembali': 214, 'tak': 215, 'pesawatnya': 216, 'atas': 217, 'berbeda': 218, 'paling': 219, 'oke': 220, 'suka': 221, 'kemudian': 222, 'tanpa': 223, 'para': 224, 'bersama': 225, 'jus': 226, 'harganya': 227, 'ok': 228, 'dg': 229, 'sedang': 230, 'anak': 231, 'kualitas': 232, 'sekitar': 233, 'biasanya': 234, 'dilengkapi': 235, 'airline': 236, 'pas': 237, 'lah': 238, 'ketepatan': 239, 'telah': 240, 'tersebut': 241, 'lalu': 242, 'mulai': 243, 'menurut': 244, 'transit': 245, 'surabaya': 246, 'airlines': 247, 'checkin': 248, 'indonesia': 249, 'sendiri': 250, 'pengalaman': 251, 'gw': 252, 'jelas': 253, 'kenyamanan': 254, 'terjangkau': 255, 'bukan': 256, 'sayang': 257, 'bahkan': 258, 'kecewa': 259, 'terasa': 260, 'agar': 261, 'cepat': 262, 'adanya': 263, 'kecil': 264, 'dgn': 265, 'goreng': 266, 'pilih': 267, 'terlihat': 268, 'mendarat': 269, 'pernah': 270, 'merupakan': 271, 'lainnya': 272, 'termasuk': 273, 'tahu': 274, 'digunakan': 275, 'bagi': 276, 'berjalan': 277, 'ingin': 278, 'lcd': 279, 'langsung': 280, 'mengalami': 281, 'hari': 282, 'menonton': 283, 'kondisi': 284, 'grup': 285, 'lupa': 286, 'lengkap': 287, 'kue': 288, 'kg': 289, 'a': 290, 'orang': 291, 'putih': 292, 'memasuki': 293, 'lebar': 294, 'rute': 295, 'makanannya': 296, 'sayangnya': 297, 'pakai': 298, 'pulang': 299, 'datang': 300, 'budget': 301, 'tdk': 302, 'premium': 303, 'besar': 304, 'proses': 305, 'antar': 306, 'cuaca': 307, 'awal': 308, 'terlambat': 309, 'koper': 310, 'apalagi': 311, 'turun': 312, 'dibandingkan': 313, 'ayam': 314, 'plus': 315, 'free': 316, 'hingga': 317, 'mbak': 318, 'rasanya': 319, 'penulis': 320, 'pintu': 321, 'sajian': 322, 'maupun': 323, 'ife': 324, 'malah': 325, 'pihak': 326, 'pramugarinya': 327, 'sebelumnya': 328, 'awalnya': 329, 'semakin': 330, 'penerbangannya': 331, 'earphone': 332, 'kota': 333, 'bepergian': 334, 'id': 335, 'terima': 336, 'musik': 337, 'setiap': 338, 'cgk': 339, 'perlu': 340, 'good': 341, 'so': 342, 'krn': 343, 'sempat': 344, 'no': 345, 'luar': 346, 'gate': 347, 'tadi': 348, 'berfungsi': 349, 'relatif': 350, 'pilot': 351, 'meal': 352, 'mencoba': 353, 'tanya': 354, 'diatas': 355, 'untung': 356, 'senyum': 357, 'bagian': 358, 'dibanding': 359, 'anakanak': 360, 'isi': 361, 'smooth': 362, 'panjang': 363, 'rusak': 364, 'tiba': 365, 'boleh': 366, 'biaya': 367, 'staf': 368, 'keluar': 369, 'ma': 370, 'mana': 371, 'daripada': 372, 'overall': 373, 'antara': 374, 'belakang': 375, 'keberangkatan': 376, 'utk': 377, 'puas': 378, 'memberikan': 379, 'terus': 380, 'informasi': 381, 'tambahan': 382, 'meskipun': 383, 'yaitu': 384, 'senang': 385, 'apakah': 386, 'buah': 387, 'botol': 388, 'kasih': 389, 'toilet': 390, 'sekarang': 391, 'dia': 392, 'jangan': 393, 'dekat': 394, 'saudaranya': 395, 'jalan': 396, 'kemarin': 397, 'lancar': 398, 'mulus': 399, 'ontime': 400, 'khusus': 401, 'antri': 402, 'nilai': 403, 'disuruh': 404, 'hp': 405, 'mengecewakan': 406, 'suara': 407, 'kagak': 408, 'dah': 409, 'minta': 410, 'katanya': 411, 'ditambah': 412, 'pula': 413, 'sandaran': 414, 'panas': 415, 'sebagai': 416, 'hangat': 417, 'kursinya': 418, 'ambil': 419, 'entah': 420, 'terjadi': 421, 'cek': 422, 'milik': 423, 'cengkareng': 424, 'gelas': 425, 'schedule': 426, 'hiburannya': 427, 'udara': 428, 'berharap': 429, 'sambil': 430, 'buruk': 431, 'melihat': 432, 'kru': 433, 'deh': 434, 'nonton': 435, 'darat': 436, 'merasakan': 437, 'sejauh': 438, 'bawa': 439, 'medan': 440, 'dipesawat': 441, 'entertainmentnya': 442, 'melalui': 443, 'sih': 444, 'terhadap': 445, 'an': 446, 'masingmasing': 447, 'kendala': 448, 'selesai': 449, 'coba': 450, 'yah': 451, 'ataupun': 452, 'airbus': 453, 'kalinya': 454, 'dimana': 455, 'merah': 456, 'jg': 457, 'coklat': 458, 'kan': 459, 'pass': 460, 'berada': 461, 'diberi': 462, 'mengambil': 463, 'kalah': 464, 'tau': 465, 'airport': 466, 'solo': 467, 'sebelum': 468, 'terdapat': 469, 'servis': 470, 'staff': 471, 'konsumsi': 472, 'daging': 473, 'keramahan': 474, 'terbaik': 475, 'terpasang': 476, 'c': 477, 'ramai': 478, 'kertas': 479, 'wings': 480, 'ground': 481, 'singkat': 482, 'sekian': 483, 'menghibur': 484, 'to': 485, 'dua': 486, 'plastik': 487, 'meals': 488, 'terbatas': 489, 'maka': 490, 'sentuh': 491, 'terkesan': 492, 'pendek': 493, 'kadang': 494, 'lbh': 495, 'pemberitahuan': 496, 'beda': 497, 'tahun': 498, 'entertaiment': 499, 'update': 500, 'gangguan': 501, 'sengaja': 502, 'berbagai': 503, 'didalam': 504, 'ditingkatkan': 505, 'kok': 506, 'lewat': 507, 'merasa': 508, 'tentang': 509, 'disayangkan': 510, 'memiliki': 511, 'sepertinya': 512, 'alasannya': 513, 'aneh': 514, 'menyediakan': 515, 'lcc': 516, 'mati': 517, 'tugas': 518, 'f': 519, 'complain': 520, 'jaket': 521, 'aku': 522, 'media': 523, 'sungguh': 524, 'mengesankan': 525, 'meski': 526, 'headphone': 527, 'ml': 528, 'lombok': 529, 'dibilang': 530, 'the': 531, 'disana': 532, 'lihat': 533, 'pekerjaan': 534, 'nama': 535, 'pasti': 536, 'sopan': 537, 'cara': 538, 'muda': 539, 'standar': 540, 'movie': 541, 'lagu': 542, 'menarik': 543, 'pukul': 544, 'mendengarkan': 545, 'kualitasnya': 546, 'trus': 547, 'kalo': 548, 'nomor': 549, 'telat': 550, 'koran': 551, 'nasional': 552, 'ringan': 553, 'seluruh': 554, 'sebuah': 555, 'meja': 556, 'handuk': 557, 'dibagikan': 558, 'diri': 559, 'juice': 560, 'menawarkan': 561, 'posisi': 562, 'buka': 563, 'tanggal': 564, 'attendant': 565, 'kepada': 566, 'penumpangnya': 567, 'didapat': 568, 'perdanakusuma': 569, 'bus': 570, 'tangga': 571, 'habis': 572, 'dilayani': 573, 'bs': 574, 'usb': 575, 'keras': 576, 'bulan': 577, 'kupang': 578, 'soekarno': 579, 'hatta': 580, 'kesan': 581, 'ruangan': 582, 'suasana': 583, 'bila': 584, 'video': 585, 'dr': 586, 'sub': 587, 'direct': 588, 'yakin': 589, 'majalah': 590, 'duduknya': 591, 'urusan': 592, 'plat': 593, 'pikir': 594, 'filmnya': 595, 'jumlah': 596, 'ikut': 597, 'liburan': 598, 'customer': 599, 'far': 600, 'penting': 601, 'bangku': 602, 'pergi': 603, 'hujan': 604, 'worth': 605, 'berubah': 606, 'seharusnya': 607, 'karna': 608, 'ticket': 609, 'tvnya': 610, 'kata': 611, 'si': 612, 'keterlambatan': 613, 'dapet': 614, 'kedua': 615, 'harusnya': 616, 'drink': 617, 'dipakai': 618, 'mohon': 619, 'malam': 620, 'takeoff': 621, 'kantor': 622, 'ganti': 623, 'game': 624, 'antrian': 625, 'meminta': 626, 'ditawarkan': 627, 'karyawan': 628, 'all': 629, 'avod': 630, 'acara': 631, 'sayuran': 632, 'warna': 633, 'dulu': 634, 'bahwa': 635, 'kenapa': 636, 'chicken': 637, 'dikasih': 638, 'keseluruhan': 639, 'penuh': 640, 'd': 641, 'selanjutnya': 642, 'terutama': 643, 'aceh': 644, 'ac': 645, 'standard': 646, 'tiap': 647, 'sepanjang': 648, 'semuanya': 649, 'pendaratan': 650, 'bersaing': 651, 'membeli': 652, 'umum': 653, 'cekatan': 654, 'entertaint': 655, 'ratarata': 656, 'untungnya': 657, 'sebelah': 658, 'segi': 659, 'charge': 660, 'filmfilm': 661, 'sarana': 662, 'mo': 663, 'biru': 664, 'bali': 665, 'balik': 666, 'nanya': 667, 'dong': 668, 'mak': 669, 'tempe': 670, 'rumah': 671, 'namanya': 672, 'room': 673, 'passengers': 674, 'kini': 675, 'segelas': 676, 'sebungkus': 677, 'kacang': 678, 'kain': 679, 'sisi': 680, 'jendela': 681, 'segera': 682, 'didepan': 683, 'gedung': 684, 'utama': 685, 'menyajikan': 686, 'bravo': 687, 'return': 688, 'promo': 689, 'sejam': 690, 'dibersihkan': 691, 'soft': 692, 'bilang': 693, 'uang': 694, 'berkali': 695, 'ngantri': 696, 'garbarata': 697, 'tambah': 698, 'yakni': 699, 'melayani': 700, 'menyapa': 701, 'keselamatan': 702, 'sdh': 703, 'via': 704, 'sbg': 705, 'punya': 706, 'mengganggu': 707, 'kekurangan': 708, 'normal': 709, 'kencang': 710, 'melakukan': 711, 'hehe': 712, 'rasakan': 713, 'beroperasi': 714, 'gerimis': 715, 'sini': 716, 'sibuk': 717, 'menanyakan': 718, 'pku': 719, 'loket': 720, 'pesan': 721, 'selamat': 722, 'siang': 723, 'walau': 724, 'setara': 725, 'pp': 726, 'sebenarnya': 727, 'koleksi': 728, 'keren': 729, 'mudahan': 730, 'up': 731, 'info': 732, 'direkomendasikan': 733, 'interior': 734, 'sy': 735, 'tinggi': 736, 'perdana': 737, 'semoga': 738, 'jempol': 739, 'it': 740, 'yogyakarta': 741, 'ingat': 742, 'faktor': 743, 'bagaimana': 744, 'ketinggalan': 745, 'jogja': 746, 'cerah': 747, 'dingin': 748, 'jatuh': 749, 'dikarenakan': 750, 'kerja': 751, 'apabila': 752, 'beli': 753, 'tp': 754, 'maaf': 755, 'dijual': 756, 'layak': 757, 'benar': 758, 'sebagian': 759, 'kantong': 760, 'berdasarkan': 761, 'melewati': 762, 'mendengar': 763, 'macet': 764, 'bertugas': 765, 'x': 766, 'usia': 767, 'negeri': 768, 'jadwalnya': 769, 'bikin': 770, 'cm': 771, 'tempuh': 772, 'kemasan': 773, 'daerah': 774, 'khas': 775, 'lari': 776, 'mengingat': 777, 'kebetulan': 778, 'over': 779, 'minus': 780, 'games': 781, 'soetta': 782, 'servicenya': 783, 'taruh': 784, 'pesaing': 785, 'sekalian': 786, 'mudah': 787, 'masing': 788, 'tangan': 789, 'welcome': 790, 'maju': 791, 'main': 792, 'disini': 793, 'gitu': 794, 'gratis': 795, 'terpaksa': 796, 'dahulu': 797, 'jenis': 798, 'keluarga': 799, 'badan': 800, 'kualanamu': 801, 'jasa': 802, 'management': 803, 'sepotong': 804, 'mundur': 805, 'profesional': 806, 'ransel': 807, 'liter': 808, 'asik': 809, 'bedanya': 810, 'officer': 811, 'professional': 812, 'siapkan': 813, 'sebentar': 814, 'multi': 815, 'batikair': 816, 'pesawatpun': 817, 'ditentukan': 818, 'short': 819, 'dibuka': 820, 'pak': 821, 'silahkan': 822, 'kesebelah': 823, 'what': 824, 'dapatkan': 825, 'laki': 826, 'bantu': 827, 'terbayar': 828, 'minusnya': 829, 'mengutamakan': 830, 'dikatakan': 831, 'berat': 832, 'fa': 833, 'is': 834, 'lintas': 835, 'snacks': 836, 'padang': 837, 'wib': 838, 'apapun': 839, 'kategori': 840, 'review': 841, 'ditanya': 842, 'ngomong': 843, 'dikasi': 844, 'ndere': 845, 'kayak': 846, 'cakep': 847, 'umumnya': 848, 'alias': 849, 'program': 850, 'kmaren': 851, 'hot': 852, 'sampe': 853, 'lg': 854, 'dateng': 855, 'mejanya': 856, 'warung': 857, 'lom': 858, 'lelet': 859, 'enoh': 860, 'for': 861, 'bakal': 862, 'mending': 863, 'kek': 864, 'wkwk': 865, 'magazine': 866, 'dimanjakan': 867, 'macam': 868, 'sesaat': 869, 'tibalah': 870, 'bertuliskan': 871, 'kursipun': 872, 'tombol': 873, 'merebahkan': 874, 'membuka': 875, 'dibawah': 876, 'membersihkan': 877, 'cocok': 878, 'sarapan': 879, 'indah': 880, 'danau': 881, 'lezat': 882, 'berumur': 883, 'perhatian': 884, 'mendekati': 885, 'kesimpulan': 886, 'row': 887, 'kosong': 888, 'minumannya': 889, 'intinya': 890, 'layarnya': 891, 'table': 892, 'tumpahan': 893, 'halhal': 894, 'arrival': 895, 'minim': 896, 'muncul': 897, 'cari': 898, 'tiketnya': 899, 'menggunakannya': 900, 'negara': 901, 'males': 902, 'ama': 903, 'hidangan': 904, 'sesuatu': 905, 'semacam': 906, 'dilihat': 907, 'shg': 908, 'enaknya': 909, 'kehilangan': 910, 'titik': 911, 'mirip': 912, 'lowcost': 913, 'carrier': 914, 'rapih': 915, 'waktunya': 916, 'goncangan': 917, 'angin': 918, 'guncangan': 919, 'pemesanan': 920, 'menaiki': 921, 'mengejutkan': 922, 'sedangkan': 923, 'sekelas': 924, 'senyaman': 925, 'diakses': 926, 'sultan': 927, 'dibuat': 928, 'berkesan': 929, 'bawah': 930, 'ponselnya': 931, 'berdiri': 932, 'ujung': 933, 'ditunggu': 934, 'jawabnya': 935, 'screen': 936, 'responsif': 937, 'membelinya': 938, 'blibli': 939, 'seharus': 940, 'nikmati': 941, 'mengapa': 942, 'pandang': 943, 'terakhir': 944, 'dipanaskan': 945, 'tiga': 946, 'pnr': 947, 'pernerbangan': 948, 'kebagian': 949, 'komersial': 950, 'terbaru': 951, 'berapa': 952, 'makin': 953, 'pengambilan': 954, 'pindah': 955, 'keep': 956, 'work': 957, 'cgksub': 958, 'experience': 959, 'tuhan': 960, 'terhibur': 961, 'kotor': 962, 'bekas': 963, 'terburuburu': 964, 'control': 965, 'sekedar': 966, 'bolak': 967, 'agen': 968, 'pd': 969, 'biar': 970, 'bosan': 971, 'deras': 972, 'putar': 973, 'jalur': 974, 'mantap': 975, 'versi': 976, 'dlm': 977, 'akhir': 978, 'kabinnya': 979, 'tentunya': 980, 'dibeli': 981, 'reschadule': 982, 'line': 983, 'online': 984, 'tentu': 985, 'gang': 986, 'parah': 987, 'mengakibatkan': 988, 'kulit': 989, 'belakangan': 990, 'sediakan': 991, 'bervariasi': 992, 'minggu': 993, 'orangorang': 994, 'memperbaiki': 995, 'meningkatkan': 996, 'notabene': 997, 'ala': 998, 'dipindah': 999, 'sigap': 1000, 'ekor': 1001, 'hijau': 1002, 'soehatta': 1003, 'bayar': 1004, 'memperkenalkan': 1005, 'soal': 1006, 'berhenti': 1007, 'nunggu': 1008, 'rendah': 1009, 'menurun': 1010, 'tampaknya': 1011, 'menyukai': 1012, 'saran': 1013, 'terjaga': 1014, 'basi': 1015, 'teman': 1016, 'agent': 1017, 'ragu': 1018, 'super': 1019, 'mula': 1020, 'jutek': 1021, 'jkt': 1022, 'skrg': 1023, 'demikian': 1024, 'ucapan': 1025, 'loyalti': 1026, 'booking': 1027, 'denger': 1028, 'banding': 1029, 'belalai': 1030, 'leg': 1031, 'opsi': 1032, 'berkesempatan': 1033, 'kebersihannya': 1034, 'mengenai': 1035, 'suatu': 1036, 'padat': 1037, 'butuh': 1038, 'setengah': 1039, 'manajemen': 1040, 'menengah': 1041, 'merekomendasikan': 1042, 'mencobanya': 1043, 'manis': 1044, 'dinikmati': 1045, 'mengeluarkan': 1046, 'favorit': 1047, 'kakinya': 1048, 'dipilih': 1049, 'adi': 1050, 'permainan': 1051, 'puasa': 1052, 'diganti': 1053, 'yogya': 1054, 'ketahui': 1055, 'prefer': 1056, 'bingung': 1057, 'diminta': 1058, 'malang': 1059, 'dipasang': 1060, 'lucu': 1061, 'tenang': 1062, 'cost': 1063, 'mie': 1064, 'satunya': 1065, 'melambangkan': 1066, 'perusahaan': 1067, 'berani': 1068, 'kehangatan': 1069, 'wisata': 1070, 'ratusan': 1071, 'prioritas': 1072, 'turbulensi': 1073, 'pribadi': 1074, 'palu': 1075, 'tinggal': 1076, 'repot': 1077, 'barang': 1078, 'masalah': 1079, 'kenyataannya': 1080, 'memakan': 1081, 'tni': 1082, 'au': 1083, 'akal': 1084, 'shock': 1085, 'i': 1086, 'bertanya': 1087, 'cobacoba': 1088, 'indikator': 1089, 'kalaupun': 1090, 'rb': 1091, 'cinta': 1092, 'siap': 1093, 'tengah': 1094, 'buta': 1095, 'taksi': 1096, 'kode': 1097, 'murahan': 1098, 'palembang': 1099, 'sewaktu': 1100, 'nugget': 1101, 'takut': 1102, 'mmmh': 1103, 'onboard': 1104, 'paperbag': 1105, 'kotak': 1106, 'ber': 1107, 'ialah': 1108, 'seringkali': 1109, 'traveloka': 1110, 'singapore': 1111, 'modern': 1112, 'dll': 1113, 'sayur': 1114, 'tidur': 1115, 'tuh': 1116, 'disejajarkan': 1117, 'memberi': 1118, 'ciri': 1119, 'oleholeh': 1120, 'istimewa': 1121, 'cantik': 1122, 'sore': 1123, 'konfirmasi': 1124, 'gatau': 1125, 'menemukan': 1126, 'hilang': 1127, 'memutar': 1128, 'seharga': 1129, 'pekanbaru': 1130, 'dinas': 1131, 'berisi': 1132, 'lorong': 1133, 'jog': 1134, 'alat': 1135, 'terlebih': 1136, 'dihidangkan': 1137, 'perbaikan': 1138, 'per': 1139, 'jurusan': 1140, 'rapi': 1141, 'peswat': 1142, 'jorok': 1143, 'denpasar': 1144, 'naek': 1145, 'sodaranya': 1146, 'led': 1147, 'dibagian': 1148, 'dikelas': 1149, 'transportasi': 1150, 'jarang': 1151, 'jualan': 1152, 'kusuma': 1153, 'mengalah': 1154, 'inci': 1155, 'semula': 1156, 'setempat': 1157, 'rangka': 1158, 'mungil': 1159, 'menghalangi': 1160, 'at': 1161, 'and': 1162, 't': 1163, 'juanda': 1164, 'exit': 1165, 'alhamdulillah': 1166, 'tertidur': 1167, 'dpt': 1168, 'sana': 1169, 'big': 1170, 'keadaan': 1171, 'tas': 1172, 'df': 1173, 'pax': 1174, 'isinya': 1175, 'gorengan': 1176, 'kukus': 1177, 'lumpia': 1178, 'komplain': 1179, 'perbedaan': 1180, 'terdengar': 1181, 'botolnya': 1182, 'tertawa': 1183, 'makeup': 1184, 'basah': 1185, 'citilink': 1186, 'santai': 1187, 'premiumnya': 1188, 'kasar': 1189, 'box': 1190, 'pelanggan': 1191, 'destinasi': 1192, 'demi': 1193, 'aneka': 1194, 'jawab': 1195, 'well': 1196, 'they': 1197, 'bener': 1198, 'hape': 1199, 'security': 1200, 'shanghai': 1201, 'mbk': 1202, 'uneg': 1203, 'kekecewaan': 1204, 'akses': 1205, 'pemandu': 1206, 'jambu': 1207, 'ramahnya': 1208, 'mengajak': 1209, 'bermain': 1210, 'prima': 1211, 'cat': 1212, 'tanggap': 1213, 'mengudara': 1214, 'kesulitan': 1215, 'kebutuhan': 1216, 'peningkatan': 1217, 'kedepannya': 1218, 'penambahan': 1219, 'item': 1220, 'soda': 1221, 'khususnya': 1222, 'subuh': 1223, 'pcs': 1224, 'yanv': 1225, 'meneral': 1226, 'pingpong': 1227, 'disebelah': 1228, 'hell': 1229, 'keberatan': 1230, 'toh': 1231, 'operatornya': 1232, 'siapa': 1233, 'perempuan': 1234, 'duanya': 1235, 'bicaranya': 1236, 'dsanalah': 1237, 'dibantu': 1238, 'operator': 1239, 'orangnya': 1240, 'dsana': 1241, 'sabar': 1242, 'kesabaran': 1243, 'disingapore': 1244, 'saingan': 1245, 'sebanding': 1246, 'dsb': 1247, 'menayangkan': 1248, 'videovideo': 1249, 'diupdate': 1250, 'berkala': 1251, 'proffesional': 1252, 'most': 1253, 'important': 1254, 'pemancing': 1255, 'pulau': 1256, 'recomended': 1257, 'traveller': 1258, 'kompensasi': 1259, 'earphoneheadset': 1260, 'kelebihannya': 1261, 'enih': 1262, 'blom': 1263, 'sempet': 1264, 'staffnya': 1265, 'karpet': 1266, 'bodo': 1267, 'amatlah': 1268, 'ajah': 1269, 'nongkrong': 1270, 'ajalah': 1271, 'keleleran': 1272, 'motong': 1273, 'duluan': 1274, 'ngikut': 1275, 'rapopoh': 1276, 'terisi': 1277, 'gede': 1278, 'tulisannya': 1279, 'maap': 1280, 'ye': 1281, 'ade': 1282, 'tipinya': 1283, 'ngaca': 1284, 'tipihnya': 1285, 'jerawat': 1286, 'sembuh': 1287, 'kasi': 1288, 'towel': 1289, 'edarin': 1290, 'guava': 1291, 'gakda': 1292, 'semenit': 1293, 'slesai': 1294, 'belom': 1295, 'mang': 1296, 'mobil': 1297, 'pemadam': 1298, 'kebakaran': 1299, 'ngisep': 1300, 'aernya': 1301, 'cepet': 1302, 'balikin': 1303, 'jambunya': 1304, 'diminum': 1305, 'catet': 1306, 'disediain': 1307, 'momakan': 1308, 'blg': 1309, 'iyah': 1310, 'alas': 1311, 'dbawain': 1312, 'sambel': 1313, 'telor': 1314, 'stengah': 1315, 'ginian': 1316, 'kucing': 1317, 'marebuan': 1318, 'krupuk': 1319, 'pisang': 1320, 'diplastikin': 1321, 'bronis': 1322, 'bantet': 1323, 'apel': 1324, 'aer': 1325, 'yak': 1326, 'slese': 1327, 'tar': 1328, 'disuru': 1329, 'nyuci': 1330, 'piringnyah': 1331, 'positifnya': 1332, 'verdict': 1333, 'there': 1334, 'lot': 1335, 'of': 1336, 'improvement': 1337, 'pa': 1338, 'bermasalah': 1339, 'kabeh': 1340, 'dikompensasi': 1341, 'berbisnis': 1342, 'first': 1343, 'ato': 1344, 'sayapnya': 1345, 'slamet': 1346, 'moloo': 1347, 'kabar': 1348, 'mayanlah': 1349, 'pertamatama': 1350, 'deretean': 1351, 'sofa': 1352, 'disudut': 1353, 'dipanggil': 1354, 'berbekal': 1355, 'teratur': 1356, 'terdaftar': 1357, 'deretan': 1358, 'berjarak': 1359, 'bantal': 1360, 'menambah': 1361, 'recline': 1362, 'legrest': 1363, 'footrest': 1364, 'extend': 1365, 'mengembangkan': 1366, 'pinggang': 1367, 'lumbar': 1368, 'ditutup': 1369, 'dilanjutkan': 1370, 'pendahuluan': 1371, 'lepas': 1372, 'landas': 1373, 'tutup': 1374, 'airkemudian': 1375, 'memiliih': 1376, 'bungkus': 1377, 'telur': 1378, 'menumpas': 1379, 'gula': 1380, 'creamer': 1381, 'pemandangan': 1382, 'toba': 1383, 'penulispun': 1384, 'foto': 1385, 'tersebu': 1386, 'setibanya': 1387, 'menjemput': 1388, 'memandu': 1389, 'keesokan': 1390, 'harinya': 1391, 'dirprioritaskan': 1392, 'kamipun': 1393, 'diperoleh': 1394, 'kari': 1395, 'raisin': 1396, 'dibaris': 1397, 'hentihentinya': 1398, 'senderan': 1399, 'membangunkan': 1400, 'upgsoq': 1401, 'oktober': 1402, 'meriah': 1403, 'populer': 1404, 'dihidupin': 1405, 'bagiin': 1406, 'teriyaki': 1407, 'kecepatan': 1408, 'pelan': 1409, 'ngerem': 1410, 'ngoyo': 1411, 'pilotnya': 1412, 'jago': 1413, 'pitch': 1414, 'kurangnya': 1415, 'goresangoresan': 1416, 'tray': 1417, 'bekasbekas': 1418, 'baggage': 1419, 'kilo': 1420, 'longgarnya': 1421, 'perjanalan': 1422, 'favorite': 1423, 'dibelakang': 1424, 'rewel': 1425, 'surbaya': 1426, 'benturan': 1427, 'hentakan': 1428, 'licik': 1429, 'percepat': 1430, 'jadwalkan': 1431, 'ulang': 1432, 'ditiket': 1433, 'hangus': 1434, 'keuntungan': 1435, 'connecting': 1436, 'webcheckin': 1437, 'eror': 1438, 'kemudi': 1439, 'diperdengarkan': 1440, 'kebersihan': 1441, 'jemputannya': 1442, 'mengasikan': 1443, 'menyala': 1444, 'keselurahan': 1445, 'thank': 1446, 'you': 1447, 'balikpapan': 1448, 'nyoba': 1449, 'classdapet': 1450, 'ifegtoupg': 1451, 'sendiriupggto': 1452, 'orangawak': 1453, 'kelihatan': 1454, 'mengecek': 1455, 'penumpangmalah': 1456, 'ngobrol': 1457, 'galleypesawat': 1458, 'kebersihannyamakanan': 1459, 'burukminuman': 1460, 'economy': 1461, 'tehkopikalau': 1462, 'pribadiyang': 1463, 'gto': 1464, 'bangetupg': 1465, 'jutekhlp': 1466, 'sambut': 1467, 'doang': 1468, 'menghilang': 1469, 'kemanabagasi': 1470, 'otp': 1471, 'pertengahan': 1472, 'juli': 1473, 'mengikuti': 1474, 'rapat': 1475, 'bca': 1476, 'senantiasa': 1477, 'penyediaan': 1478, 'menyenangi': 1479, 'inginkan': 1480, 'menekan': 1481, 'panggilan': 1482, 'pertahankan': 1483, 'bolu': 1484, 'kopiteh': 1485, 'pelengkap': 1486, 'peraga': 1487, 'panduan': 1488, 'canggih': 1489, 'manual': 1490, 'kabintapi': 1491, 'disukai': 1492, 'uniknyaada': 1493, 'colokan': 1494, 'kabel': 1495, 'data': 1496, 'tepian': 1497, 'fungsikan': 1498, 'pengisian': 1499, 'battere': 1500, 'trims': 1501, 'tunggunya': 1502, 'musholla': 1503, 'api': 1504, 'variasinya': 1505, 'tergantung': 1506, 'rasanta': 1507, 'munuman': 1508, 'alami': 1509, 'sejak': 1510, 'juni': 1511, 'wilayah': 1512, 'dilanda': 1513, 'kuat': 1514, 'ubah': 1515, 'grupnya': 1516, 'fasilitasnya': 1517, 'ditempuh': 1518, 'internasional': 1519, 'mendapati': 1520, 'drop': 1521, 'giliran': 1522, 'pelaporan': 1523, 'sapa': 1524, 'salam': 1525, 'malahan': 1526, 'b': 1527, 'bussines': 1528, 'sewajarnya': 1529, 'pastinya': 1530, 'pemasukan': 1531, 'trasit': 1532, 'thaha': 1533, 'syaiffudin': 1534, 'jambi': 1535, 'tertera': 1536, 'menuruni': 1537, 'moment': 1538, 'diberitahukan': 1539, 'ditunjuk': 1540, 'bebicara': 1541, 'terdiam': 1542, 'dikira': 1543, 'mengantar': 1544, 'harapkan': 1545, 'dimaksud': 1546, 'mempersilahkan': 1547, 'bergerimis': 1548, 'ria': 1549, 'hufff': 1550, 'sesampainya': 1551, 'pettugas': 1552, 'menyambut': 1553, 'interion': 1554, 'touch': 1555, 'indoensia': 1556, 'mendapatkannya': 1557, 'penerbangaan': 1558, 'waw': 1559, 'berbentuk': 1560, 'melepaskan': 1561, 'dahaga': 1562, 'angso': 1563, 'duo': 1564, 'berbenah': 1565, 'mengedepankan': 1566, 'demand': 1567, 'memesantiket': 1568, 'hasil': 1569, 'keganjilan': 1570, 'pertanyakan': 1571, 'klo': 1572, 'keruang': 1573, 'lio': 1574, 'disamakan': 1575, 'bingungalhamdulilah': 1576, 'jayapura': 1577, 'dideret': 1578, 'adamakanan': 1579, 'nasinya': 1580, 'kering': 1581, 'ditawari': 1582, 'jakartajogja': 1583, 'batam': 1584, 'interaktifnya': 1585, 'wisatawan': 1586, 'nonstop': 1587, 'tumpangi': 1588, 'oct': 1589, 'whymdp': 1590, 'may': 1591, 'ntqrov': 1592, 'thanks': 1593, 'barusehingga': 1594, 'berdempetan': 1595, 'sebelahnya': 1596, 'nah': 1597, 'kualanamo': 1598, 'begitu': 1599, 'atmosfer': 1600, 'penyambutan': 1601, 'cantiknya': 1602, 'yag': 1603, 'kebaya': 1604, 'anggun': 1605, 'langganan': 1606, 'hehehe': 1607, 'dibungkus': 1608, 'kebayang': 1609, 'terbuang': 1610, 'percuma': 1611, 'membungkus': 1612, 'serving': 1613, 'menariknya': 1614, 'jalannya': 1615, 'apaapa': 1616, 'sek': 1617, 'dng': 1618, 'impresi': 1619, 'worried': 1620, 'puji': 1621, 'dilancarkan': 1622, 'lantainya': 1623, 'cairanminum': 1624, 'remah': 1625, 'pertamakali': 1626, 'karen': 1627, 'sembari': 1628, 'mengisi': 1629, 'battery': 1630, 'msh': 1631, 'nampak': 1632, 'sgt': 1633, 'hr': 1634, 'tamat': 1635, 'judulnya': 1636, 'ttg': 1637, 'rahasia': 1638, 'persen': 1639, 'mustahil': 1640, 'attandant': 1641, 'excellent': 1642, 'sebaliknya': 1643, 'sukai': 1644, 'memudahkan': 1645, 'menjangkau': 1646, 'berganti': 1647, 'hrs': 1648, 'settle': 1649, 'oksekalipun': 1650, 'memperoleh': 1651, 'bumpy': 1652, 'membanting': 1653, 'li': 1654, 'berbedapun': 1655, 'sikap': 1656, 'bagaimanapun': 1657, 'bosannya': 1658, 'kendari': 1659, 'beef': 1660, 'bintang': 1661, 'dilayar': 1662, 'perkiraan': 1663, 'disampingkan': 1664, 'enakrecommendedwalau': 1665, 'jujur': 1666, 'diandalkan': 1667, 'khawatir': 1668, 'berkalikali': 1669, 'perna': 1670, 'subcgksub': 1671, 'audionya': 1672, 'membedakan': 1673, 'swasta': 1674, 'kesini': 1675, 'snak': 1676, 'berkurang': 1677, 'garda': 1678, 'citiink': 1679, 'pasilitasnya': 1680, 'dellay': 1681, 'zonk': 1682, 'mendadak': 1683, 'hunting': 1684, 'didapatlah': 1685, 'diantara': 1686, 'diudara': 1687, 'menyamai': 1688, 'ekonominya': 1689, 'spacenya': 1690, 'alangkah': 1691, 'kl': 1692, 'leather': 1693, 'bbrp': 1694, 'terpenting': 1695, 'disarankan': 1696, 'usa': 1697, 'tekuk': 1698, 'libur': 1699, 'lebaran': 1700, 'perbangan': 1701, 'masalahnya': 1702, 'wkt': 1703, 'call': 1704, 'cs': 1705, 'bayangkan': 1706, 'kebiasaan': 1707, 'masakapai': 1708, 'kecewaan': 1709, 'wow': 1710, 'utarakan': 1711, 'balutan': 1712, 'jok': 1713, 'diawal': 1714, 'menekankan': 1715, 'menikmatinya': 1716, 'kapas': 1717, 'telinga': 1718, 'standart': 1719, 'straberry': 1720, 'rekomended': 1721, 'disiapkan': 1722, 'little': 1723, 'bit': 1724, 'surprise': 1725, 'tuk': 1726, 'pohon': 1727, 'mengunakan': 1728, 'bekerja': 1729, 'tvscreen': 1730, 'penerbang': 1731, 'mengfungsikan': 1732, 'layarlayar': 1733, 'penerbagan': 1734, 'kinerja': 1735, 'membayangkan': 1736, 'diperuntukkan': 1737, 'bersiaplah': 1738, 'hapus': 1739, 'anganangan': 1740, 'terkadang': 1741, 'diping': 1742, 'pong': 1743, 'lasan': 1744, 'berteletele': 1745, 'muslim': 1746, 'sholat': 1747, 'jumat': 1748, 'memandang': 1749, 'sinis': 1750, 'pakaian': 1751, 'seadanya': 1752, 'asin': 1753, 'senyamanan': 1754, 'label': 1755, 'priority': 1756, 'walupun': 1757, 'businessticket': 1758, 'nga': 1759, 'platinum': 1760, 'kenape': 1761, 'dikembalikan': 1762, 'dimane': 1763, 'pelayan': 1764, 'terkejut': 1765, 'wastafel': 1766, 'tertulis': 1767, 'heran': 1768, 'menghindari': 1769, 'herannya': 1770, 'co': 1771, 'mematikanmenyalakan': 1772, 'handphone': 1773, 'dicabut': 1774, 'aturannya': 1775, 'yaa': 1776, 'rban': 1777, 'total': 1778, 'berbiaya': 1779, 'th': 1780, 'website': 1781, 'masalaj': 1782, 'web': 1783, 'performance': 1784, 'mencitrakan': 1785, 'lokasi': 1786, 'berawal': 1787, 'travel': 1788, 'pekanbaruawalnya': 1789, 'jt': 1790, 'classternyata': 1791, 'chekin': 1792, 'mengarahkan': 1793, 'keeksekutive': 1794, 'loungepelayanan': 1795, 'dibandara': 1796, 'airawal': 1797, 'mulusstaff': 1798, 'sekaliboarding': 1799, 'lambatawak': 1800, 'ceriamakanan': 1801, 'kuranghanya': 1802, 'dog': 1803, 'dinginharusnya': 1804, 'sang': 1805, 'merahkursi': 1806, 'empuk': 1807, 'kotorife': 1808, 'errorkonten': 1809, 'ketinggalannunggu': 1810, 'audit': 1811, 'dipagi': 1812, 'dus': 1813, 'wadah': 1814, 'register': 1815, 'pk': 1816, 'luj': 1817, 'menyesal': 1818, 'menanyangkan': 1819, 'berlaku': 1820, 'aplikasi': 1821, 'gruop': 1822, 'pembelian': 1823, 'traveoka': 1824, 'poin': 1825, 'hidup': 1826, 'sistemnya': 1827, 'disetiap': 1828, 'supaya': 1829, 'dijelaskan': 1830, 'real': 1831, 'disamping': 1832, 'heehheh': 1833, 'sesampai': 1834, 'infoin': 1835, 'inihahha': 1836, 'umur': 1837, 'diinstruksikan': 1838, 'dalih': 1839, 'mengantrisebalnya': 1840, 'persisi': 1841, 'kaca': 1842, 'toleransi': 1843, 'menggendong': 1844, 'merepotkan': 1845, 'dijinkan': 1846, 'dibohongi': 1847, 'pesawatkondisi': 1848, 'arah': 1849, 'dewasabenci': 1850, 'disuguhkan': 1851, 'gratisifedan': 1852, 'vegetarian': 1853, 'refill': 1854, 'kunjung': 1855, 'ktnya': 1856, 'ud': 1857, 'prepare': 1858, 'servisnya': 1859, 'piawai': 1860, 'mengatasi': 1861, 'force': 1862, 'majeur': 1863, 'surabay': 1864, 'mengakui': 1865, 'jalanan': 1866, 'diprediksi': 1867, 'cuek': 1868, 'menegor': 1869, 'dibalas': 1870, 'sikapnya': 1871, 'kepadatan': 1872, 'runway': 1873, 'diantrian': 1874, 'businessnya': 1875, 'gunakan': 1876, 'kiranya': 1877, 'memperhatikan': 1878, 'gbu': 1879, 'positif': 1880, 'berfikir': 1881, 'sebagus': 1882, 'wellmengingat': 1883, 'dipatok': 1884, 'tergolong': 1885, 'atasan': 1886, 'kesempatan': 1887, 'serve': 1888, 'patut': 1889, 'diacungi': 1890, 'waswas': 1891, 'keraguan': 1892, 'sirna': 1893, 'bicara': 1894, 'terkagumkagum': 1895, 'tiaptiap': 1896, 'mini': 1897, 'sangatsuper': 1898, 'sifatnya': 1899, 'informatif': 1900, 'beraneka': 1901, 'disesuaikan': 1902, 'pastikita': 1903, 'nggak': 1904, 'kebosanan': 1905, 'lemper': 1906, 'oh': 1907, 'mencolokkan': 1908, 'khawatirdisediakan': 1909, 'port': 1910, 'mengecharge': 1911, 'gadget': 1912, 'sebenrnya': 1913, 'careterlebih': 1914, 'board': 1915, 'memdapatkan': 1916, 'baget': 1917, 'terhjangkau': 1918, 'kebanggaan': 1919, 'emang': 1920, 'filmdengerin': 1921, 'bosen': 1922, 'baikbaik': 1923, 'pemumpang': 1924, 'kaptennya': 1925, 'kokpit': 1926, 'seneng': 1927, 'sutjipto': 1928, 'krew': 1929, 'upg': 1930, 'pemberangkatannya': 1931, 'udukbihun': 1932, 'amdk': 1933, 'halus': 1934, 'dibandingan': 1935, 'warnai': 1936, 'perpindahan': 1937, 'informasinya': 1938, 'srg': 1939, 'amanaman': 1940, 'dimakan': 1941, 'lanjut': 1942, 'bpn': 1943, 'baris': 1944, 'menunya': 1945, 'garpu': 1946, 'dijatuhkan': 1947, 'mengasihkan': 1948, 'belajar': 1949, 'pembagian': 1950, 'kerjanya': 1951, 'sesam': 1952, 'keteteran': 1953, 'oya': 1954, 'diundang': 1955, 'bogor': 1956, 'cgklop': 1957, 'lopcgk': 1958, 'teknis': 1959, 'hati': 1960, 'daratnya': 1961, 'berikut': 1962, 'berbayar': 1963, 'rp': 1964, 'kira': 1965, 'degradasi': 1966, 'subsidi': 1967, 'silang': 1968, 'variatif': 1969, 'mengakomodir': 1970, 'baiknya': 1971, 'beri': 1972, 'sperti': 1973, 'omelet': 1974, 'ikutan': 1975, 'milih': 1976, 'lgi': 1977, 'knp': 1978, 'naiknya': 1979, 'berbanding': 1980, 'terbalik': 1981, 'filmserial': 1982, 'masakan': 1983, 'kamimpenumpang': 1984, 'ramping': 1985, 'lebarnya': 1986, 'berbahan': 1987, 'oscar': 1988, 'tata': 1989, 'orange': 1990, 'menghasilkan': 1991, 'kontemporer': 1992, 'masa': 1993, 'selera': 1994, 'ideal': 1995, 'hembusan': 1996, 'buritan': 1997, 'menanjak': 1998, 'mempergunakan': 1999, 'mengulasnya': 2000, 'terbantu': 2001, 'klas': 2002, 'serasa': 2003, 'penyajian': 2004, 'mengusir': 2005, 'jenuh': 2006, 'acungkan': 2007, 'disuguhi': 2008, 'cuplikan': 2009, 'job': 2010, 'singat': 2011, 'dimulai': 2012, 'eksekutif': 2013, 'pengantaran': 2014, 'diperlukan': 2015, 'tiganya': 2016, 'menyiapkan': 2017, 'snacj': 2018, 'srikaya': 2019, 'value': 2020, 'money': 2021, 'menyebutkan': 2022, 'memohon': 2023, 'keterlambatannya': 2024, 'makasar': 2025, 'ternyta': 2026, 'usah': 2027, 'dipemeriksaan': 2028, 'voucher': 2029, 'sejudes': 2030, 'perjalalan': 2031, 'menjawab': 2032, 'bolehlah': 2033, 'keunggulannya': 2034, 'bertepatan': 2035, 'hut': 2036, 'penundaan': 2037, 'menginfokan': 2038, 'feb': 2039, 'kagetnya': 2040, 'ready': 2041, 'snackrisol': 2042, 'omlet': 2043, 'kelebihan': 2044, 'exlusive': 2045, 'shutle': 2046, 'menggunkan': 2047, 'minibus': 2048, 'kebangetan': 2049, 'kedepanya': 2050, 'g': 2051, 'terkecuali': 2052, 'kedaerah': 2053, 'terpencil': 2054, 'dipastikan': 2055, 'pasrah': 2056, 'manado': 2057, 'fully': 2058, 'booked': 2059, 'pembanding': 2060, 'enjoy': 2061, 'seru': 2062, 'earphonehead': 2063, 'set': 2064, 'didominasi': 2065, 'fresh': 2066, 'semarak': 2067, 'duduknyapun': 2068, 'sebutkan': 2069, 'benerbenar': 2070, 'notabanenya': 2071, 'induk': 2072, 'usaha': 2073, 'terakjhir': 2074, 'menyakitkan': 2075, 'saji': 2076, 'damri': 2077, 'samasama': 2078, 'ngaret': 2079, 'terbilang': 2080, 'bising': 2081, 'pulangpergi': 2082, 'gerhana': 2083, 'matahari': 2084, 'hadapi': 2085, 'batiksaya': 2086, 'promotapi': 2087, 'sukamakanan': 2088, 'bisnisitu': 2089, 'terbangbisakah': 2090, 'lainmakasih': 2091, 'tampilannya': 2092, 'date': 2093, 'ikan': 2094, 'patin': 2095, 'request': 2096, 'pokoknya': 2097, 'cake': 2098, 'mengganjal': 2099, 'perut': 2100, 'kuala': 2101, 'lumpur': 2102, 'kakinyapun': 2103, 'tercampur': 2104, 'koq': 2105, 'pesaingnya': 2106, 'mmmhpenerbangan': 2107, 'tipis': 2108, 'dibaca': 2109, 'berantakan': 2110, 'dai': 2111, 'dalem': 2112, 'itupun': 2113, 'paperbagnya': 2114, 'variasi': 2115, 'sebanyak': 2116, 'inisiatif': 2117, 'jogjakarta': 2118, 'putuskan': 2119, 'lapang': 2120, 'didapatkan': 2121, 'aktivitas': 2122, 'angkatan': 2123, 'serial': 2124, 'lantai': 2125, 'resto': 2126, 'outlet': 2127, 'operasional': 2128, 'perbaiki': 2129, 'terjauh': 2130, 'tokyo': 2131, 'kalikali': 2132, 'hehehehe': 2133, 'idup': 2134, 'ibukota': 2135, 'tarifnya': 2136, 'kekurangannnya': 2137, 'bergabung': 2138, 'segrup': 2139, 'antriannya': 2140, 'webcheck': 2141, 'wajib': 2142, 'lapor': 2143, 'mencetak': 2144, 'praktis': 2145, 'menyita': 2146, 'rotinya': 2147, 'dst': 2148, 'alesan': 2149, 'cancel': 2150, 'cancellnya': 2151, 'juha': 2152, 'rutin': 2153, 'fair': 2154, 'berkunjung': 2155, 'mengunjungi': 2156, 'corak': 2157, 'kerajaan': 2158, 'handung': 2159, 'membersikan': 2160, 'wajah': 2161, 'mempertahankan': 2162, 'imagenya': 2163, 'delaywalaupun': 2164, 'lioneh': 2165, 'konpensasi': 2166, 'keterlambtan': 2167, 'kebanyakan': 2168, 'multimedia': 2169, 'diraih': 2170, 'berkompetisi': 2171, 'ceruk': 2172, 'pasar': 2173, 'segment': 2174, 'digaungkan': 2175, 'frequent': 2176, 'flyer': 2177, 'member': 2178, 'benefit': 2179, 'membedakannya': 2180, 'low': 2181, 'masyarakat': 2182, 'semangat': 2183, 'complimentarynya': 2184, 'dlam': 2185, 'belanja': 2186, 'katalog': 2187, 'kanal': 2188, 'seberapa': 2189, 'mendpatkan': 2190, 'perjalanannya': 2191, 'music': 2192, 'bad': 2193, 'semarang': 2194, 'h': 2195, 'paginya': 2196, 'reach': 2197, 'notabenenya': 2198, 'pegawai': 2199, 'dipindahnya': 2200, 'kaya': 2201, 'gini': 2202, 'nyampe': 2203, 'terburu': 2204, 'see': 2205, 'kompartemen': 2206, 'dimasukin': 2207, 'totalnya': 2208, 'samapi': 2209, 'temukan': 2210, 'bagasinya': 2211, 'cross': 2212, 'diartikan': 2213, 'siapapun': 2214, 'nice': 2215, 'minimalis': 2216, 'duluawalnya': 2217, 'gimanaaa': 2218, 'batiktapi': 2219, 'pertamakalilangsung': 2220, 'keseluruhanoke': 2221, 'makassar': 2222, 'tingkat': 2223, 'diantaranya': 2224, 'headseat': 2225, 'monitornya': 2226, 'jadiheadsetnya': 2227, 'terpisah': 2228, 'idr': 2229, 'serat': 2230, 'perkataan': 2231, 'mengeenakkan': 2232, 'second': 2233, 'minumnya': 2234, 'mengantarkan': 2235, 'reasonable': 2236, 'aman': 2237, 'cancelled': 2238, 'perubahan': 2239, 'dihubungi': 2240, 'sebelumya': 2241, 'podcast': 2242, 'plug': 2243, 'tayangan': 2244, 'porsi': 2245, 'airsickness': 2246, 'bag': 2247, 'mual': 2248, 'ceroboh': 2249, 'menumpahkan': 2250, 'entertainement': 2251, 'bis': 2252, 'memaksa': 2253, 'cuman': 2254, 'televisinya': 2255, 'depart': 2256, 'notifikasi': 2257, 'kudapan': 2258, 'sebaiknya': 2259, 'dengar': 2260, 'piihan': 2261, 'des': 2262, 'registrasi': 2263, 'pklar': 2264, 'menyela': 2265, 'ditempatkan': 2266, 'rekan': 2267, 'byar': 2268, 'pet': 2269, 'kenikmatan': 2270, 'selai': 2271, 'sebotol': 2272, 'parkir': 2273, 'konvensional': 2274, 'kedatangan': 2275, 'segala': 2276, 'kekurangnyamanan': 2277, 'harum': 2278, 'bukti': 2279, 'pemeliharaan': 2280, 'include': 2281, 'domestik': 2282, 'singapura': 2283, 'kamar': 2284, 'mandi': 2285, 'kemaren': 2286, 'sendok': 2287, 'pizza': 2288, 'meleleh': 2289, 'mutu': 2290, 'diperbiki': 2291, 'petugasnya': 2292, 'landingnya': 2293, 'jaraknya': 2294, 'lair': 2295, 'idk': 2296, 'sekeluarga': 2297, 'lanjutkan': 2298, 'suamiku': 2299, 'bobot': 2300, 'overweight': 2301, 'sarannya': 2302, 'donk': 2303, 'nyamanjarak': 2304, 'ransum': 2305, 'mt': 2306, 'lembut': 2307, 'entertaintment': 2308, 'ditiadakan': 2309, 'dilepas': 2310, 'murahkompetitif': 2311, 'blm': 2312, 'lainpun': 2313, 'diaktifkan': 2314, 'landngnya': 2315, 'alternatif': 2316, 'berpergian': 2317, 'friendly': 2318, 'bercanda': 2319, 'bosanlain': 2320, 'situasinya': 2321, 'membosankan': 2322, 'mengenyangkan': 2323, 'dibayarkan': 2324, 'apartmen': 2325, 'hambatan': 2326, 'changi': 2327, 'open': 2328, 'imigrasi': 2329, 'beruntung': 2330, 'selonjoran': 2331, 'kapal': 2332, 'wanita': 2333, 'dipandang': 2334, 'jadwalbatik': 2335, 'tujuh': 2336, 'lima': 2337, 'sangatlah': 2338, 'didalamnya': 2339, 'mnt': 2340, 'sekaligus': 2341, 'kog': 2342, 'malindo': 2343, 'laa': 2344, 'ear': 2345, 'phone': 2346, 'sya': 2347, 'self': 2348, 'diluar': 2349, 'copilot': 2350, 'pengeras': 2351, 'lutut': 2352, 'mepet': 2353, 'kuenya': 2354, 'shop': 2355, 'merchandise': 2356, 'turbulence': 2357, 'dahulukan': 2358, 'sampah': 2359, 'or': 2360, 'kecuali': 2361, 'vvip': 2362, 'latihan': 2363, 'bersahabat': 2364, 'gruptepat': 2365, 'nyamanharga': 2366, 'kompetitif': 2367, 'desember': 2368, 'berhak': 2369, 'alokasi': 2370, 'maksimum': 2371, 'konten': 2372, 'tumis': 2373, 'salad': 2374, 'cuacanya': 2375, 'kawasan': 2376, 'provinsi': 2377, 'tibatiba': 2378, 'berawan': 2379, 'tebal': 2380, 'memungkinkan': 2381, 'berputarputar': 2382, 'diperbolehkan': 2383, 'mendaratsehingga': 2384, 'iskandarmuda': 2385, 'salut': 2386, 'menghadirkan': 2387, 'ekonomis': 2388, 'senin': 2389, 'april': 2390, 'e': 2391, 'adapun': 2392, 'departure': 2393, 'rencana': 2394, 'dipersiapkan': 2395, 'liwet': 2396, 'bali\\xa0': 2397, 'boeing': 2398, 'berpengap': 2399, 'bulat': 2400, 'ragout': 2401, 'bj': 2402, 'popcorn': 2403, 'muffin': 2404, 'harap': 2405, '\\xa0': 2406, 'ukuran': 2407, 'budget\\xa0': 2408, 'bau': 2409, 'pesing': 2410, 'flush': 2411, 'kehabisan': 2412, 'lampu': 2413, 'puding': 2414, 'brownies': 2415, 'sahabat': 2416, 'mengulas': 2417, 'crowded': 2418, 'mengantri': 2419, 'rata': 2420, 'sepi': 2421, 'tegas': 2422, 'wheel': 2423, 'chair': 2424, 'keterbatasan': 2425, 'susah': 2426, 'memerlukan': 2427, 'wheelchair': 2428, 'perlukan': 2429, 'penyesuaian': 2430, 'berikan': 2431, 'sandwich': 2432, 'membayar': 2433, 'suggest': 2434, 'checkbanding': 2435, 'arrivalnya': 2436, 'estimasi': 2437, 'menggangu': 2438, 'pramurai': 2439, 'tersebeut': 2440, 'berdidi': 2441, 'pinggir': 2442, 'beridiri': 2443, 'seharausnya': 2444, 'memegang': 2445, 'checker': 2446, 'buru': 2447, 'mneghitung': 2448, 'sementara': 2449, 'seatnya': 2450, 'menaikkan': 2451, 'kopernya': 2452, 'sajano': 2453, 'burger': 2454, 'patty': 2455, 'dalamnya': 2456, 'irisan': 2457, 'daun': 2458, 'bawang': 2459, 'memakannya': 2460, 'enbak': 2461, 'lapar': 2462, 'airlne': 2463, 'meriview': 2464, 'quality': 2465, 'diperhatikan': 2466, 'bergerak': 2467, 'menyamakan': 2468, 'ditraining': 2469, 'helpful': 2470, 'area': 2471, 'infokan': 2472, 'delaynya': 2473, 'sunnguh': 2474, 'menyebalkan': 2475, 'kul': 2476, 'idm': 2477, 'penang': 2478, 'suruh': 2479, 'lgsg': 2480, 'lurus': 2481, 'bantuan': 2482, 'memanfaatkan': 2483, 'ad': 2484, 'batal': 2485, 'melayang': 2486, 'tanggung': 2487, 'refund': 2488, 'ny': 2489, 'putra': 2490, 'betah': 2491, 'unutngnya': 2492, 'medianya': 2493, 'asyik': 2494, 'klia': 2495, 'jakartahongkong': 2496, 'berturutturut': 2497, 'menumpang': 2498, 'course': 2499, 'bihun': 2500, 'sajamengecewakan': 2501, 'biz': 2502, 'passnya': 2503, 'premiere': 2504, 'nomer': 2505, 'perdanakusumajakarta': 2506, 'berpikir': 2507, 'services': 2508, 'iklan': 2509, 'dimanamana': 2510, 'membandingkan': 2511, 'biasany': 2512, 'servises': 2513, 'nothing': 2514, 'special': 2515, 'sumarmo': 2516, 'prosess': 2517, 'pengumuman': 2518, 'silakan': 2519, 'spesial': 2520, 'rupabya': 2521, 'mengobrol': 2522, 'tsb': 2523, 'titip': 2524, 'dibelikan': 2525, 'bertransaksi': 2526, 'lho': 2527, 'kaget': 2528, 'menaruh': 2529, 'liat': 2530, 'selipkan': 2531, 'intiny': 2532, 'kopet': 2533, 'acdf': 2534, 'reading': 2535, 'materials': 2536, 'hmm': 2537, 'merk': 2538, 'rada': 2539, 'diisi': 2540, 'separuh': 2541, 'uhuk': 2542, 'tepatnya': 2543, 'platting': 2544, 'kroket': 2545, 'potongan': 2546, 'sosis': 2547, 'pastel': 2548, 'cik': 2549, 'pilihannya': 2550, 'rasanga': 2551, 'yogurt': 2552, 'asinan': 2553, 'penuruan': 2554, 'efisiensi': 2555, 'sabun': 2556, 'cair': 2557, 'cuci': 2558, 'wangiwangi': 2559, 'dikit': 2560, 'perhitungan': 2561, 'parahnya': 2562, 'perdebatan': 2563, 'perhitunga': 2564, 'tereak': 2565, 'iya': 2566, 'berisiknya': 2567, 'kalimat': 2568, 'buruan': 2569, 'nih': 2570, 'dihitung': 2571, 'gimana': 2572, 'buruanburuan': 2573, 'mas': 2574, 'dokumennya': 2575, 'usir': 2576, 'mendorong': 2577, 'pemimpin': 2578, 'lintu': 2579, 'bisakah': 2580, 'sayunya': 2581, 'ihik': 2582, 'menjelang': 2583, 'bergurau': 2584, 'berbincang': 2585, 'menyuruh': 2586, 'temannya': 2587, 'cermin': 2588, 'santainya': 2589, 'haus': 2590, 'adegan': 2591, 'tirai': 2592, 'menutupi': 2593, 'hlp': 2594, 'rupanya': 2595, 'payung': 2596, 'alhasil': 2597, 'sandal': 2598, 'celana': 2599, 'ketua': 2600, 'tugasnya': 2601, 'hahahahahaha': 2602, 'airasia': 2603, 'menggunggu': 2604, 'diprint': 2605, 'risih': 2606, 'bersebelahan': 2607, 'junk': 2608, 'food': 2609, 'gelasnya': 2610, 'udh': 2611, 'menjual': 2612, 'berarti': 2613, 'jelek': 2614, 'cekikikan': 2615, 'rugi': 2616, 'untk': 2617, 'tolong': 2618, 'waktumgkn': 2619, 'berasap': 2620, 'aroma': 2621, 'terapi': 2622, 'overallpelayannya': 2623, 'saranbagi': 2624, 'menjadikan': 2625, 'anakku': 2626, 'siaran': 2627, 'gamenya': 2628, 'dadakan': 2629, 'potong': 2630, 'top': 2631, 'contoh': 2632, 'pemberian': 2633, 'rubah': 2634, 'menghargai': 2635, 'itulah': 2636, 'bersaudara': 2637, 'dicapai': 2638, 'prinsip': 2639, 'homebasenya': 2640, 'seringnya': 2641, 'kepraktisan': 2642, 'televisi': 2643, 'tekhnis': 2644, 'durasi': 2645, 'setaraf': 2646, 'misalkan': 2647, 'saudara': 2648, 'ditaruh': 2649, 'lipat': 2650, 'putri': 2651, 'gembira': 2652, 'jawaban': 2653, 'berkejar': 2654, 'terdesak': 2655, 'kritis': 2656, 'batas': 2657, 'kunjungan': 2658, 'seamat': 2659, 'mengobati': 2660, 'kelelahan': 2661, 'mnjadi': 2662, 'cerita': 2663, 'kai': 2664, 'maksud': 2665, 'menyombongkan': 2666, 'termurah': 2667, 'naiki': 2668, 'complaint': 2669, 'was': 2670, 'offices': 2671, 'siangsekitar': 2672, 'panic': 2673, 'karnakan': 2674, 'otomatis': 2675, 'mencari': 2676, 'nyari': 2677, 'mencatat': 2678, 'disitu': 2679, 'mainin': 2680, 'nge': 2681, 'panik': 2682, 'lost': 2683, 'found': 2684, 'least': 2685, 'ngecek': 2686, 'ngasih': 2687, 'petunjuk': 2688, 'menyarankan': 2689, 'kesana': 2690, 'lift': 2691, 'smp': 2692, 'kejelasan': 2693, 'tegaskan': 2694, 'lanjutan': 2695, 'jakartajadi': 2696, 'merelakan': 2697, 'musim': 2698, 'bapak': 2699, 'manager': 2700, 'terhormat': 2701, 'selective': 2702, 'dech': 2703, 'memperkerjakan': 2704, 'seorang': 2705, 'gaji': 2706, 'ajaduduk': 2707, 'mainan': 2708, 'bpk': 2709, 'kirannya': 2710, 'would': 2711, 'u': 2712, 'like': 2713, 'again': 2714, 'with': 2715, 'my': 2716, 'answer': 2717, 'probably': 2718, 'not': 2719, 'if': 2720, 'dont': 2721, 'know': 2722, 'how': 2723, 'improve': 2724, 'will': 2725, 'buy': 2726, 'another': 2727, 'layananya': 2728, 'penerbanganya': 2729, 'makanya': 2730, 'hahhaaa': 2731, 'landignya': 2732, 'menggabungkan': 2733, 'digeser': 2734, 'modus': 2735, 'menjebak': 2736, 'seolah': 2737, 'digabung': 2738, 'merugikan': 2739, 'kapok': 2740, 'medang': 2741, 'fasilatas': 2742, 'anatar': 2743, 'jamnya': 2744, 'ketagihan': 2745, 'menaikinya': 2746, 'tingkatkan': 2747, 'ditengah': 2748, 'mahalnya': 2749, 'wajar': 2750, 'baiksehingga': 2751, 'kewajaran': 2752, 'akomodasi': 2753, 'pelit': 2754, 'rombongan': 2755, 'lionlah': 2756, 'sok': 2757, 'angkuh': 2758, 'pembantu': 2759, 'loh': 2760, 'jgn': 2761, 'ratu': 2762, 'kecantikan': 2763, 'maskapi': 2764, 'menelantarkan': 2765, 'diamond': 2766, 'sebagainya': 2767, 'besama': 2768, 'dihapus': 2769, 'dipertahankan': 2770, 'hanyalah': 2771, 'checknin': 2772, 'beruntunglah': 2773, 'sebab': 2774, 'fleet': 2775, 'infligtmeal': 2776, 'biarlah': 2777, 'ambilkan': 2778, 'diambilkan': 2779, 'peduli': 2780, 'recommended': 2781, 'mmbuat': 2782, 'jugaaa': 2783, 'stafnya': 2784, 'paket': 2785, 'trouble': 2786, 'lambat': 2787, 'keputusan': 2788, 'saling': 2789, 'melempar': 2790, 'menghadapi': 2791, 'menyebalkanterlambat': 2792, 'janjian': 2793, 'ketemu': 2794, 'temen': 2795, 'jogjasampai': 2796, 'bangga': 2797, 'awalawal': 2798, 'memulai': 2799, 'kno': 2800, 'seniornya': 2801, 'tergerus': 2802, 'arus': 2803, 'dicintai': 2804, 'konsumen': 2805, 'komitmen': 2806, 'dec': 2807, 'mengerti': 2808, 'berterima': 2809, 'sesalkan': 2810, 'kelakuan': 2811, 'menginformasikan': 2812, 'tamu': 2813, 'marahmarah': 2814, 'harapan': 2815, 'mendidik': 2816, 'tampil': 2817, 'setia': 2818, 'janji': 2819, 'berbenahlah': 2820, 'non': 2821, 'lin': 2822, 'aqua': 2823, 'legroom': 2824, 'selebihnya': 2825, 'kaku': 2826, 'sop': 2827, 'vodnya': 2828, 'disempurnakan': 2829, 'banyaknya': 2830, 'dicukupi': 2831, 'bayi': 2832, 'riangnya': 2833, 'bumn': 2834, 'tepis': 2835, 'kemajuan': 2836, 'tersendiri': 2837, 'pandangan': 2838, '<pad>': 0}\n"
     ]
    }
   ],
   "source": [
    "from keras.preprocessing.text import Tokenizer\n",
    "\n",
    "NUM_WORDS = 100\n",
    "OOV_TOKEN = '<unk>'\n",
    "\n",
    "tokenizer = Tokenizer(num_words=100, oov_token=OOV_TOKEN, lower=True)   \n",
    "tokenizer.fit_on_texts(trainX)\n",
    "\n",
    "tokenizer.word_index['<pad>'] = 0\n",
    "tokenizer.index_word[0] = '<pad>'\n",
    "\n",
    "word_index = tokenizer.word_index\n",
    "print(word_index)"
   ]
  },
  {
   "cell_type": "code",
   "execution_count": 350,
   "metadata": {},
   "outputs": [
    {
     "data": {
      "text/plain": [
       "2839"
      ]
     },
     "execution_count": 350,
     "metadata": {},
     "output_type": "execute_result"
    }
   ],
   "source": [
    "len(word_index)"
   ]
  },
  {
   "cell_type": "code",
   "execution_count": 351,
   "metadata": {},
   "outputs": [
    {
     "name": "stdout",
     "output_type": "stream",
     "text": [
      "[[25, 1, 52, 1, 1, 6, 1, 38, 1, 1, 1, 1, 55, 1, 2, 1, 57, 46, 2, 1, 1], [1, 14, 1, 55, 11, 3, 77, 97, 1, 41, 2, 1, 1, 53, 1, 1, 89, 85, 1, 67, 23, 1, 10, 1, 1, 1, 49, 1, 9, 10, 39, 1, 1, 48, 18, 27, 67, 23, 1, 1, 1, 2, 33], [36, 40, 5, 7, 21, 1, 1, 1, 57, 3, 21, 46, 1, 1, 26, 1, 1, 6, 34, 11], [44, 1, 1, 1, 21, 1, 1, 1, 1, 3, 46, 1, 1, 2, 21, 1, 1, 26, 28, 3, 1, 34, 1, 20, 22, 1, 13, 1, 29, 10, 7, 1, 1, 2, 1, 14, 1, 1, 15, 1, 25, 13, 1, 1, 10, 1, 1, 1, 49, 1, 56, 1], [4, 1, 1, 12, 8, 5, 7, 5, 24, 67, 23, 1, 8, 42, 1, 1, 5, 16, 20, 33, 5, 1, 1, 24, 1, 15, 1, 12, 3, 1, 1, 12, 80, 6, 1, 1, 1, 38, 16, 24, 22, 1, 42, 5, 20, 33, 1, 1, 20, 1], [30, 14, 12, 8, 5, 20, 1, 1, 1, 1, 1, 2, 18, 1, 4, 9, 1, 1, 45, 27, 1, 8, 47, 1, 49, 1, 75, 12, 5, 1, 1, 45, 1, 7, 1, 1, 2, 78, 1, 1, 1, 1, 68, 1, 1, 1, 2, 1, 1, 1, 1, 3, 1], [31, 1, 1, 1, 1, 2, 1, 1, 6, 71, 90, 1, 1, 46, 6, 34, 11, 33, 29, 79, 31, 32, 1, 6, 11, 1, 1, 72, 9, 27, 1, 91], [25, 5, 7, 15, 1, 19, 61, 21, 22, 1, 67, 23, 1, 11, 1, 2, 1, 6, 11, 16, 21, 46, 2, 1, 45, 3, 1, 1, 1], [1, 3, 1, 4, 1, 1, 73, 75, 31, 86, 50, 4, 6, 1, 4, 19, 1, 86, 50, 5, 1, 1, 4, 1, 86, 50, 1, 1, 1, 1, 1, 1, 16, 69, 1, 1, 1, 1, 1, 1, 1, 1, 2, 1, 29, 10, 1, 1, 13, 5, 7, 14, 1, 4, 9, 1, 1, 1, 1, 18, 4, 1, 1, 1, 32, 1, 1, 2, 16, 53, 1, 1, 16, 1, 1, 32, 2, 4, 53, 1, 1, 1, 1, 3, 1, 1, 1, 29, 1, 1, 79, 1, 1, 1, 18, 14, 12, 1, 1, 1, 14, 35, 4, 1, 1, 1, 1, 5, 14, 42, 2, 1, 4, 1, 1, 1, 42, 1, 62, 1, 1, 2, 46, 1, 4, 1, 1, 2, 82, 16, 6, 1, 6, 1, 42, 48, 4, 1, 1, 2, 1, 1, 16, 1, 4, 41, 11, 5, 52, 20, 1, 2, 85, 1, 67, 23, 9, 10, 59, 82, 16, 1, 67, 23, 1, 1, 10, 1, 1], [17, 3, 1, 1, 1, 1, 1, 1, 1, 15, 1, 52, 2, 25, 21, 22, 50, 60, 1, 1, 1, 1, 2, 25, 1, 16, 22, 47, 92, 1, 13, 71, 1, 48, 1, 8, 1, 3, 1], [11, 14, 59, 1, 43, 6, 11, 9, 10, 39, 1, 5, 10, 39, 91, 1, 16, 9, 10, 1, 1, 1, 1, 6, 11, 5, 3, 83, 10, 1, 28, 62, 1, 1, 1, 2, 78, 1, 78, 2, 1, 37, 1], [1, 63, 17, 6, 1, 8, 68, 3, 93, 55, 94, 13, 71, 1, 2, 28, 1, 13, 71, 90, 1, 16, 8, 39, 1, 1, 1, 3, 27, 1, 1, 1, 1, 1, 2, 1, 1, 83, 3, 1, 2, 1, 1, 1, 1, 5, 7], [25, 46, 1, 2, 1, 1, 64, 46, 2, 1, 1, 82, 1, 1, 1, 1, 13, 45, 1, 1, 1, 1, 55, 1, 11, 1, 35, 10, 1, 6, 1, 95, 5, 7, 1, 63, 1, 1, 1, 1, 1, 13, 1], [4, 40, 12, 14, 13, 1, 15, 1, 1, 61, 75, 1, 1, 12, 4, 73, 1, 1, 1, 59, 2, 4, 87, 44, 1, 1, 9, 10, 1, 1, 15, 17, 22, 78, 1, 1, 21, 1], [12, 8, 5, 7, 20, 33, 25, 1, 16, 46, 22, 6, 34, 1, 1, 6, 34, 11, 1, 1, 11, 1, 39, 6, 34, 11, 5, 7, 20, 22, 29, 79, 65, 58, 40, 1, 1, 13, 1, 1, 15, 1, 39, 3, 1, 28, 3, 1, 6, 34, 11, 1, 62, 1, 20], [81, 98, 37, 92, 1, 1, 1, 8, 1, 47, 1, 29, 6, 1, 95, 2, 86, 50], [1, 5, 7, 98, 81, 1, 1, 80, 1, 44, 8, 17, 1, 86, 50, 1, 1, 1, 95, 1, 1, 1, 1, 1, 1, 1, 1, 1, 1, 1, 88, 10, 1, 1, 1, 98, 81, 1, 10, 1, 1, 1, 1, 1, 1, 1, 35, 1, 1, 6, 1, 1, 5, 7, 1, 10, 72, 1, 1, 1, 1, 1, 1, 1, 1, 10, 35, 1, 1, 98, 81, 1, 76, 1, 1, 1, 1, 35, 1, 1, 1, 72, 1, 1, 1, 1, 1, 1, 98, 81, 1, 49, 17, 83, 75, 1, 6, 1, 14, 10, 38, 1, 1, 70, 1, 20, 1, 48, 10, 1, 1, 1, 39, 54, 12, 1, 1, 1, 9, 1, 1, 1, 10, 1, 88, 10, 1, 1, 1, 1, 1, 6, 1, 30, 1, 1, 1, 35, 1, 1, 1, 1, 37, 1, 1, 1, 1, 1, 1, 1, 1, 66, 88, 1, 1, 1, 1, 74, 1, 1, 1, 1, 1, 1, 1, 1, 1, 1, 1, 1, 1, 1, 1, 1, 1, 1, 1, 1, 1, 1, 1, 77, 97, 1, 1, 1, 1, 1, 1, 1, 1, 1, 88, 1, 1, 1, 1, 1, 1, 1, 1, 66, 1, 1, 1, 1, 1, 1, 1, 1, 1, 1, 1, 1, 6, 1, 1, 1, 1, 35, 1, 1, 1, 1, 1, 1, 1, 1, 1, 1, 32, 88, 10, 1, 1, 1, 88, 10, 1, 1, 1, 1, 1, 1, 1, 1, 1, 1, 1, 1, 1, 88, 10, 1, 1, 1, 14, 98, 81, 1, 1, 1, 1, 1, 1, 1, 1, 1, 1, 1, 1, 1, 1, 1, 1, 1, 1, 1, 1, 1, 1, 1, 1, 1, 1, 77, 97, 24, 1, 1, 17, 35, 1, 98, 81, 37, 1, 1, 1, 1, 1, 1, 1, 1, 1, 1, 41, 74, 1, 88, 1, 41, 14, 18, 17, 1, 1, 1, 59, 1, 88, 1, 1, 1, 1, 1, 41, 35, 77, 97, 1, 1, 1, 1, 23, 32, 1, 63, 1, 1, 90, 1, 1, 6, 1, 1, 24, 22, 67, 23, 2, 1, 1, 1, 1, 1, 1, 1, 88, 10, 1, 1, 1, 1], [80, 30, 41, 5, 7, 8, 98, 81, 1, 1, 1, 1, 1, 1, 13, 98, 81, 1, 1, 8, 1, 1, 3, 20, 33, 13, 1, 23, 12, 1, 1, 1, 1, 2, 1, 1, 1, 32, 98, 81, 1, 1, 1, 8, 1, 1, 28, 1, 1, 1, 14, 1, 1, 1, 1, 98, 81, 1, 1, 13, 1, 11, 8, 1, 1, 1, 1, 26, 1, 11, 8, 1, 18, 1, 1, 6, 98, 81, 38, 3, 1, 1, 75, 1, 1, 15, 38, 38, 26, 1, 8, 1, 38, 3, 33, 1, 2, 1, 3, 20, 1, 38, 1, 2, 1, 1, 1, 1, 3, 1, 5, 7, 1, 1, 26, 54, 12, 1, 1, 8, 70, 1, 1, 2, 1, 1, 13, 1, 1, 38, 1, 1, 1, 1, 1, 2, 1, 1, 1, 38, 1, 1, 1, 1, 1, 1, 1, 26, 1, 1, 11, 2, 1, 1, 1, 1, 32, 1, 1, 1, 1, 13, 1, 1, 1, 1, 8, 1, 1, 2, 1, 1, 13, 1, 1, 1, 1, 1, 1, 1, 1, 1, 2, 1, 1, 1, 1, 3, 16, 1, 5, 1, 1, 28, 1, 1, 31, 14, 1, 1, 1, 1, 1, 1, 1, 21, 1, 1, 1, 1, 6, 12, 1, 32, 1, 1, 1, 1, 3, 10, 1, 64, 1, 1, 1, 1, 1, 7, 1, 30, 14, 1, 1, 1, 1, 1, 1, 1, 8, 1, 2, 1, 12, 1, 24, 1, 18, 1, 1, 1, 1, 1, 15, 1, 1, 38, 1, 1, 1, 1, 1, 1, 1, 1, 1, 6, 84, 1, 1, 5, 7, 3, 46, 1, 45, 1, 1, 11, 2, 1, 45, 85, 19, 1, 84, 1, 1, 1, 1, 1, 98, 81, 8, 5, 7, 1, 86, 50, 1, 1, 1, 11, 1, 46, 1, 1, 64, 1, 1, 31, 1, 11, 49, 31, 1, 1, 1, 1, 1, 13, 1, 1, 1, 32, 1, 1, 2, 1, 1, 1, 13, 1, 1, 1, 1, 1, 1, 1, 3, 1, 1, 8, 1, 1, 3, 1, 1, 1, 37, 13, 1, 30, 14, 1, 1, 1, 2, 7, 1, 1, 1, 1, 26, 98, 81, 3, 53, 1, 1, 1, 64, 5, 7, 1, 21, 1, 8, 1, 1, 1, 26, 1, 1, 1, 1, 28, 8, 1, 3, 33, 1, 26, 1, 1, 1, 1, 1, 1, 31, 1, 1, 1, 1, 21, 1, 44, 6, 98, 81, 8, 5, 7, 1, 5, 7], [5, 7, 87, 79, 1, 1, 1, 2, 1, 1, 1, 5, 7, 1, 1, 14, 15, 1, 1, 1, 1, 1, 1, 60, 14, 1, 62, 1, 1, 1, 16, 10, 1, 1, 3, 1, 6, 1, 1, 1, 18, 1, 87, 2, 1, 1, 1, 30, 41, 5, 7, 48, 1, 1, 37, 1, 1, 1, 1, 60, 1, 1, 1, 28, 1, 10, 66, 1, 1, 56, 1, 1, 2, 1, 10, 7, 1, 1, 56, 1, 23, 1, 1, 1, 11, 1, 1, 1, 1, 1, 1, 1, 1, 1, 1, 1, 1, 1, 1, 41, 1, 63, 17, 1, 1, 14, 1, 76, 38, 33, 2, 1, 1, 1, 1, 1, 6, 1, 3, 1, 10, 2, 6, 1, 96, 1, 1, 18, 1, 6, 1, 1, 37, 16, 96, 1, 1, 1, 3, 1, 1], [4, 1, 30, 41, 5, 7, 54, 14, 1, 1, 1, 1, 3, 9, 1, 1, 1, 1, 1, 1, 82, 11, 55, 28, 2, 1, 16, 1, 10, 1, 1, 11, 16, 77, 97, 1, 1], [5, 7, 1, 1, 1, 26, 18, 1, 1, 95, 1, 39, 54, 1, 8, 1, 1, 1, 1, 95, 1, 1], [11, 1, 13, 1, 6, 1, 92, 33, 54, 36, 77, 97, 1, 1, 46, 1, 1, 1, 1, 13, 39, 1, 72, 1, 1, 1, 4, 20, 1, 1, 1], [36, 19, 1, 1, 1, 33, 1, 1, 2, 1, 37, 1, 1, 1, 56, 1], [5, 1, 1, 12, 4, 6, 1, 1, 6, 1, 1, 27, 1, 1, 12, 4, 1, 1, 9, 1, 6, 1, 1, 6, 1, 1, 1, 53, 1, 1, 17, 5, 3, 1, 1, 1, 1, 1, 1, 5], [1, 30, 1, 5, 1, 1, 1, 60, 9, 27, 1, 1, 1, 1, 58, 1, 6, 1], [5, 7, 1, 63, 17, 3, 21, 1, 1, 1, 77, 97, 25, 46, 10, 28, 2, 39, 1, 1, 3, 1, 54, 1, 6, 34, 11], [1, 30, 40, 5, 30, 14, 4, 1, 34, 36, 1, 15, 1, 19, 61, 30, 14, 11, 53, 1, 1, 1, 23, 1, 50, 89, 11, 44, 77, 97, 25, 64, 9, 1, 8, 17, 1, 1, 2, 1, 15, 1, 1, 1, 30, 1, 19, 26], [1, 93, 57, 20, 46, 1, 2, 38, 11, 16, 21, 22, 1, 70, 2, 1, 1, 13, 1, 54, 6, 11, 1, 3, 1, 16, 76, 1, 1, 1, 9, 10, 52, 1, 48, 1, 1, 21, 1, 1], [12, 3, 1, 1, 3, 21, 93, 46, 2, 3, 1, 17, 14, 77, 97, 51, 1, 4, 74, 44, 1, 1, 1, 9, 1, 48, 1, 1, 1, 1, 8, 1, 3, 1, 1, 1, 5, 7], [36, 19, 1, 40, 17, 5, 7, 15, 1, 25, 3, 20, 1, 77, 97, 12, 28, 76, 2, 1, 3, 1, 29, 1, 1, 53, 9, 10, 74], [1, 98, 1, 11, 3, 1, 10, 1, 1, 1, 1, 64, 1, 1, 13, 1, 1, 1, 1, 1, 83, 6, 1, 1, 99, 1, 9, 1, 1, 69, 6, 1, 1, 7, 56, 1, 44, 1, 98, 81, 55, 1, 1, 6, 1, 22, 1, 1, 1, 1, 6, 1, 1, 32, 1, 1, 1, 49, 1, 1, 87, 1], [1, 47, 24, 1, 15, 17, 1, 1, 83, 51, 25, 1, 1, 34, 12, 1, 2, 1, 37, 53, 1, 17, 1, 1, 83, 20, 1], [1, 1, 3, 1, 4, 1, 1, 1, 1, 6, 61, 4, 1, 17, 5, 7, 18, 12, 1, 67, 23, 1, 32, 12, 14, 1, 52, 1, 1, 4, 16, 1, 12, 14, 18, 1, 8, 46, 2, 1, 1, 57, 1, 10, 1, 3, 65, 1, 8, 1, 1, 1, 1, 1, 1, 8, 1, 3, 1, 1, 5, 7, 1, 1, 12, 3, 67, 23], [68, 17, 1, 1, 1, 1, 1, 1, 67, 23, 6, 34, 11, 1, 1, 28, 1, 35, 76, 1, 78, 1, 1, 1, 1, 2, 1, 1, 1, 1, 7, 1, 1, 1, 1, 1, 1, 1, 1, 1, 1, 1, 1, 1, 1, 1, 1, 74, 1, 1, 1, 1, 1, 1, 1, 1, 1, 1, 6, 1, 38, 35, 10, 6, 1, 65, 1, 1, 39, 1, 91, 93, 1, 1, 35, 10, 1, 65, 1, 1, 1, 35, 1, 2, 1, 1, 1, 1, 13, 1, 1, 75, 1, 1, 1, 1, 1, 1, 1, 1, 1, 1, 1, 1, 1, 54, 12, 1], [12, 5, 7, 15, 1, 32, 1, 1, 1, 1, 1, 3, 1, 48, 1, 1, 12, 62, 1, 99, 1, 30, 14, 92, 9, 59, 1, 70, 6, 1, 38, 9, 10, 1, 9, 1, 1, 12, 29, 1, 1, 1, 13, 1, 1], [1, 11, 1, 42, 7, 2, 1, 38, 2, 1, 1, 49, 1, 29, 1, 37, 73, 28, 2, 1, 35, 1, 1, 1, 2, 1, 37, 9, 76], [12, 5, 7, 1, 1, 1, 72, 1, 25, 1, 1, 1, 2, 1, 1, 82, 1, 97, 1, 20, 67, 23], [1, 20, 1, 1, 2, 1, 28, 2, 1, 3, 1, 16, 9, 1, 1, 1, 16, 9, 1, 1, 25, 20, 22, 2, 46, 28, 2, 1, 3, 1, 6, 1, 11, 20, 76], [12, 8, 5, 1, 1, 8, 17, 12, 3, 63, 1, 8, 37, 1, 15, 1, 1, 2, 1, 1, 1, 52, 1], [75, 12, 3, 4, 1, 68, 1, 15, 84, 61, 21, 22, 2, 33, 6, 11, 16, 1, 1, 20, 22, 1, 10, 1, 30, 1, 31, 6, 1, 1, 75, 1, 1, 1, 1, 1, 1, 20, 1, 89, 31, 1, 11, 1, 1, 1, 3, 20, 1, 1, 11, 55, 1, 8, 22], [1, 4, 1, 1, 8, 42, 7, 51, 1, 18, 1, 89, 11, 6, 1, 19, 63, 1, 1, 5, 7, 4, 1, 1, 1, 5, 7, 89, 9, 1, 1, 1, 3, 1, 1, 4, 55, 94, 78, 2, 1, 1, 92, 1, 18, 42, 7, 9, 55, 94, 11, 2, 38, 1, 1, 1, 24, 93, 5, 7], [1, 95, 33, 1, 13, 1, 1, 1, 37, 1, 1, 70, 6, 11, 14, 25, 16, 22], [12, 1, 5, 7, 80, 30, 4, 1, 15, 84, 1, 1, 1, 1, 1, 1, 4, 1, 24, 8, 17, 3, 62, 63, 1, 8, 42, 7, 14, 51, 1, 4, 1, 1, 80, 6, 1, 1, 20, 22, 75, 31, 1, 1, 1, 1, 1, 99, 1, 1, 4, 1, 75, 31, 1, 1, 1, 82, 1, 3, 1, 29, 1, 1, 1, 31, 32, 1, 20, 1, 31, 4, 1, 1, 13, 1, 82, 4, 16, 1, 1, 1, 8, 9, 46, 9, 10, 1, 1, 1, 4, 1, 8, 1, 79, 9, 10, 3, 1, 1, 1, 4, 1, 99, 1, 8, 1, 1, 74, 1, 1, 1, 1, 3, 99, 22, 13, 1, 17, 1, 1, 1, 1, 3, 1, 69, 8, 12, 42, 7, 2, 1, 7, 40, 1, 1, 1, 1, 15, 5, 7, 1, 4, 20, 22, 18, 1, 6, 1, 14, 20, 22, 9, 49, 1, 1, 2, 1, 3, 4, 1, 9, 1, 1, 1, 1, 1, 1, 3, 1, 5, 7, 20, 22, 2, 10, 16, 1, 1, 26, 1, 81, 1, 5, 7, 1, 24, 22, 74, 1, 27, 16, 1, 1, 1, 26, 71, 1, 1, 8, 1, 1, 1, 1, 1, 1, 1, 2, 1, 1, 63, 1, 1, 6, 31, 26, 1, 1, 56, 1, 1, 12, 1, 5, 7, 12, 1, 32, 1, 84, 1, 1, 1, 6, 1, 1, 1, 1, 8, 23, 3, 1, 6, 1, 1, 26, 2, 32, 21, 93, 51, 4, 1, 1, 1, 8, 1, 6, 1, 31, 32, 1, 1, 1, 1, 2, 26, 58, 41, 19, 11, 8, 1, 1, 1, 1, 84, 9, 40, 52, 1, 10, 63, 1, 3, 99, 1, 6, 1, 6, 1, 53, 10, 1, 1, 6, 1, 1, 1, 45, 1, 26, 29, 1, 11, 3, 1, 1, 8, 1, 2, 1, 1, 1, 1, 32, 1, 8, 1, 1, 45, 29, 1, 1, 6, 1, 1, 18, 1, 1, 1, 52, 1, 13, 1, 45, 19, 11, 1, 1, 1, 31, 1, 3, 45, 1, 9, 10, 1, 31, 32, 1, 1, 1, 1, 4, 1, 1, 1, 1, 3, 1, 1, 8, 1, 32, 1, 45, 1, 1, 19, 11, 3, 1, 1, 1, 1, 2, 1, 45, 1, 1, 1, 11, 1, 1, 1, 1, 1, 25, 17, 1, 1, 3, 21, 1, 1, 6, 34, 11, 1, 1, 64, 1, 8, 22, 46, 2, 1, 1, 1, 11, 16, 21, 22, 39, 3, 1, 6, 34, 12, 20, 22, 1, 8, 1, 1, 1, 1, 3, 21, 1, 1, 24, 22, 15, 75, 17, 1, 1, 51, 6, 1, 26, 1, 1, 1, 18, 9, 1, 1, 56, 1, 49, 12, 1, 1, 1, 26, 71, 1, 27, 1, 8, 1, 15, 1, 64, 8, 47, 3, 20, 1, 28, 3, 1, 34, 1, 31, 32, 73, 29, 1, 78, 1, 2, 7, 1, 1, 1, 20, 22, 1, 12, 1, 7, 1, 1, 1, 18, 17, 3, 83, 29, 1, 26, 7, 1, 1, 13, 1, 1, 54, 36, 36, 1, 32, 20, 1, 18, 1, 2, 85, 6, 1, 1, 1, 67, 23, 4, 62, 1, 5, 7, 1, 2, 1, 24, 22], [63, 15, 1, 17, 6, 1, 1, 1, 1, 42, 7, 10, 1, 1, 1, 1, 81, 15, 1, 68, 2, 77, 97, 37, 1, 49, 42, 75, 1, 3, 1, 59, 1, 77, 1, 20, 1, 6, 36], [4, 1, 1, 1, 19, 1, 8, 1, 6, 1, 1, 1, 1, 4, 1, 1, 8, 47, 1, 1, 60, 1, 1, 51, 10, 1, 1, 4, 1, 1, 3, 43, 44, 37, 54, 43, 4, 1, 14, 1, 51, 1, 6, 84, 4, 1, 19, 1, 1, 9, 27, 1, 1, 1, 1, 1, 1, 14, 1, 1, 1, 3, 4, 1, 6, 1, 73, 1, 85, 6, 61, 9, 10, 1, 35, 1, 13, 26, 35, 1, 35, 1, 4, 1, 85, 1, 1, 2, 58, 1, 74, 19, 1, 1, 1, 1, 3, 1, 1, 35, 1, 9, 1, 73, 4, 1, 1, 5, 51, 4, 63, 11, 16, 8, 26, 35, 1, 1, 1, 1, 14, 27, 1, 1, 81, 42, 2, 5, 79, 1, 37, 53, 1, 51, 1, 14, 6, 1, 79, 1, 58, 1, 4, 44, 33, 2, 1, 8, 1], [1, 12, 1, 1, 15, 1, 1, 19, 1, 8, 5, 1, 21, 1, 2, 33, 29, 79, 1, 3, 1, 10, 1, 1, 38, 4, 9, 1, 3, 1, 92, 1, 1, 1, 1, 1, 1, 2, 9, 1, 26, 1, 1, 1, 1, 56, 1, 1], [1, 1, 30, 4, 40, 5, 7, 13, 1, 1, 2, 1, 15, 1, 19, 61, 11, 93, 1, 1, 1, 46, 10, 94, 2, 10, 68, 27, 1, 91, 54, 36, 47, 24, 1, 1, 1, 51, 8, 68, 2, 1, 1], [1, 5, 7, 1, 34, 42, 7, 1, 51, 1, 1, 1, 1, 25, 5, 7, 1, 24, 22, 1, 42, 7, 9, 1, 1, 1, 59, 12, 25, 34, 11, 20, 22, 2, 53, 10, 1, 1, 1, 55, 1, 91, 1, 1, 54, 12, 1, 1, 1], [1, 1, 2, 12, 67, 23, 3, 1, 4, 1, 1, 5, 7, 1, 1, 83, 1, 61, 1, 5, 7, 1, 1, 1, 1, 1, 21, 1, 2, 1, 1, 3, 1, 1], [1, 96, 3, 1, 33, 1, 1, 16, 24, 1, 9, 1, 1, 8, 1, 25, 1, 15, 84, 85, 6, 34, 11, 1, 1], [4, 1, 1, 13, 1, 1, 40, 17, 1, 1, 1, 18, 9, 1, 1, 1, 1, 4, 1, 40, 5, 7, 15, 1, 19, 1, 75, 1, 4, 9, 1, 96, 8, 60, 14, 18, 1, 1, 1, 4, 1, 1, 2, 1, 11, 16, 9, 1, 15, 17, 1, 3, 1, 1, 48, 1, 1, 11, 4, 1, 1, 3, 1, 1, 15, 1, 1, 1, 1, 40, 1, 1, 35, 1, 2, 1, 85, 19, 38, 95, 4, 1, 6, 1, 38, 10, 1, 1, 3, 1, 1, 24, 1, 2, 24, 1, 15, 17, 1, 1, 1, 4, 1, 3, 24, 1, 73, 13, 1, 1, 65, 27, 1, 1, 1, 65, 1, 4, 21, 1, 14, 18, 1, 6, 17, 1, 1, 1, 1, 1, 1, 1, 1, 1, 1, 1, 1, 1, 1, 1, 29, 13, 1, 1, 2, 24, 1, 74, 1, 1, 1, 16, 8, 1, 3, 88, 1, 1, 29, 79, 13, 66, 1, 62, 1, 2, 62, 40, 1, 1, 1, 1, 1, 1, 1, 1, 1, 1, 5, 7, 1, 6, 1, 1, 19, 1, 2, 9, 1, 1, 1, 13, 85, 19, 1, 82, 1, 5, 7, 9, 1, 1, 19, 1, 1, 1, 24, 93, 48, 1, 1, 1, 1, 1, 1, 1, 1, 5, 7], [80, 1, 40, 5, 7, 12, 1, 59, 1, 43, 48, 9, 10, 1, 1, 15, 1, 5, 7], [1, 19, 1, 2, 13, 80, 1, 45, 1, 40, 5, 7, 45, 1, 18, 1, 60, 2, 43, 3, 1, 18, 17, 14, 1, 1, 15, 1, 1, 63, 1, 6, 1, 1, 1, 1, 1, 88, 93, 1, 1, 1, 16, 48, 1, 1, 1, 1, 88, 59, 2, 54, 1, 60, 3, 20, 1, 45, 20, 1, 8, 1, 1, 1, 36, 1, 1, 1, 2, 1, 1, 38, 1, 2, 1, 1, 1, 28, 1, 10, 1, 1, 2, 96, 1, 28, 15, 26, 6, 60, 1, 3, 1, 1, 1, 56, 1, 1, 2, 88, 10, 1], [1, 1, 12, 8, 40, 5, 7, 36, 15, 1, 1, 1, 21, 1, 1, 65, 27, 1, 52, 49, 1, 1, 13, 1, 91, 56, 1, 1, 1, 1, 1, 1, 1, 65], [1, 1, 1, 1, 1, 87, 1, 1, 10, 1, 14, 1, 1, 1, 36, 20, 1, 1, 30, 1, 1, 41, 5, 1, 1, 1, 1, 2, 43, 10, 91, 35, 85, 1, 14, 1, 1, 1, 1, 1, 1, 1, 1, 1, 1, 1, 41, 5, 1, 1, 69, 1, 42, 1, 1, 1, 1, 1, 1, 1, 5, 1, 33, 1], [44, 8, 1, 33, 2, 52, 3, 93, 1, 74, 1, 3, 1, 8, 44, 1, 5, 7, 1, 32, 27, 65, 1, 47, 1, 52, 93, 25, 15, 60, 1, 1], [4, 1, 30, 41, 5, 7, 19, 61, 56, 1, 1, 4, 17, 14, 22, 2, 1, 67, 23, 3, 4, 1, 12, 19, 61, 1, 6, 1, 1, 89, 1, 13, 1, 1, 61], [47, 1, 1, 1, 1, 9, 10, 1, 6, 34, 11, 9, 1, 66, 1, 2, 1, 99, 1, 1, 1, 63, 1, 1, 6, 61, 1, 1, 1, 1, 10, 1, 89, 1, 1, 1, 1, 1, 19, 1], [1, 1, 1, 35, 20, 50, 60, 1, 35, 20, 1, 91, 62, 1, 1, 1, 91, 1, 1, 6, 12, 5, 1, 60, 35, 83, 1, 12, 1, 29, 1, 78, 2, 7, 1, 51, 1, 12, 1, 1, 1, 1, 1, 1, 35, 21, 9, 1, 1, 1, 1, 1], [12, 14, 1, 12, 1, 4, 8, 5, 7, 18, 1, 1, 1, 1, 1, 1, 1, 1, 8, 17, 3, 1, 9, 1, 3, 1, 25, 93, 1, 2, 1, 25, 1, 15, 86, 50, 1, 11, 54, 34, 12, 1, 9, 10, 1, 3, 1, 1, 1, 8, 1, 2, 1, 3, 1, 49, 17, 1, 9, 1, 1, 3, 1, 1, 16, 1, 1, 1, 5, 7, 8, 1, 25, 1, 1, 4, 27, 44, 1, 1, 1], [5, 7, 74, 5, 7, 74, 4, 41, 5, 7, 9, 10, 1, 15, 61, 19, 1, 1, 8, 57, 3, 46, 28, 76, 4, 31, 32, 55, 1, 1, 1, 1, 1, 1, 1, 1, 1, 36, 1, 1, 1, 43, 1, 1, 1, 5, 7, 48, 31, 1, 61, 1, 1, 89, 5, 7, 58, 1, 1, 6, 84, 1, 1, 1, 1, 85, 61, 1, 1, 24, 1, 1, 15, 23, 1, 1, 1, 1, 5, 7, 1], [12, 8, 5, 7, 21, 1, 1, 68, 37, 35, 46, 2, 10, 1, 35, 1, 16, 10, 28, 35, 1, 1, 1, 1, 20, 1, 48, 1, 1, 1], [13, 1, 90, 5, 1, 55, 1, 1, 21, 67, 23, 72, 1, 1, 1], [4, 53, 1, 41, 17, 14, 1, 1, 22, 2, 9, 1, 59, 48, 13, 1, 1, 1, 9, 1, 8, 1, 1, 1, 2, 1, 4, 58, 1, 1, 13, 1, 1, 3, 1, 1, 1, 4, 53, 1, 6, 1, 1, 1, 1, 1, 1, 30, 41, 5, 7, 87, 30, 14, 36, 1, 1, 70, 56, 1, 9, 55, 1, 9, 10, 39, 54, 36, 1, 3, 1, 8, 17, 1, 1, 73, 1, 2, 1, 1, 1, 3, 1, 1, 1, 1, 25, 1, 1, 1, 1, 13, 17, 14], [33, 40, 5, 9, 59, 25, 46, 44, 37, 33, 28, 37, 76, 1, 8, 42, 1, 1, 1, 69, 49, 1, 2, 1, 1, 93, 37, 1, 5, 57, 37, 22], [1, 1, 1, 10, 70, 2, 1, 6, 1, 11, 1, 2, 47, 1, 5, 20, 1, 1, 1, 1, 41, 5, 1, 10, 1, 70, 1, 1, 1], [4, 58, 1, 19, 1, 1, 8, 1, 13, 32, 4, 58, 1, 1, 12, 19, 1, 1, 1, 1, 5, 7, 13, 44, 19, 1, 1, 47, 1, 20, 1, 13, 12, 1, 1, 1, 17, 3, 10, 25, 1, 1, 1, 1, 1, 20, 22], [1, 71, 90, 92, 93, 1, 1, 17, 1, 1, 71, 1, 16, 33, 1, 33, 1, 1, 22, 29, 1, 24, 22, 1, 1, 9, 1, 1, 1, 1, 1, 1, 9, 1, 1, 1, 1, 1, 1, 1, 1, 4, 1], [87, 1, 30, 44, 1, 5, 7, 1, 14, 1, 4, 92, 77, 97, 18, 14, 1, 63, 35, 1, 1, 1, 1, 1, 18, 12, 4, 1, 1, 72, 1, 35, 6, 55, 78, 2, 7, 1, 79, 4, 9, 1, 1, 8, 12, 1, 1, 10, 1, 48, 1, 1, 1, 1, 48, 1, 1, 27, 1, 6, 11, 63, 1, 74, 1, 1, 37, 8, 3, 1, 16, 20, 1, 72, 1, 1, 1, 6, 1, 1, 1, 1, 1, 1], [12, 33, 8, 5, 7, 53, 1, 82, 1, 2, 94, 12, 1, 67, 23, 1, 1, 1, 1, 1, 68, 5, 7, 20, 22, 2, 33], [1, 4, 6, 1, 1, 1, 5, 4, 6, 1, 1, 1, 1, 1, 1, 4, 1, 1, 50, 77, 1, 72, 88, 27, 4, 1, 1, 5, 1, 37, 18, 10, 1, 1, 4, 88, 27, 1, 50, 1, 1, 50, 58, 6, 1, 1, 4, 1, 58, 1, 13, 1, 50, 6, 1, 2, 1, 1, 55, 38, 6, 1, 49, 1, 4, 1, 1, 25, 69, 88, 1, 49, 42, 7, 79], [87, 30, 14, 4, 41, 1, 5, 7, 9, 10, 68, 1, 6, 34, 11, 1, 1, 14, 1, 1, 18, 9, 10, 39, 54, 36, 99, 24, 43], [1, 32, 1, 35, 80, 30, 4, 1, 18, 1, 4, 1, 40, 11, 1, 1, 80, 30, 41, 11, 14, 1, 38, 8, 1, 1, 1, 1, 1, 1, 1, 70, 35, 1, 2, 57, 35, 46, 2, 1, 47, 35, 1, 1, 1, 29, 91, 1, 35, 1, 1, 6, 1], [1, 1, 17, 14, 1, 68, 1, 2, 67, 23, 4, 1, 1, 51, 1, 1, 9, 77, 1, 1, 68, 1, 1, 54, 12, 1], [1, 33, 51, 18, 1, 72, 1, 28, 3, 1, 76, 9, 1, 1, 13, 12, 14, 1, 3, 1, 1, 1, 31, 12, 24, 22, 1, 1], [1, 36, 19, 1, 8, 5, 7, 18, 1, 1, 72, 77, 1, 1, 1, 13, 1, 21, 1, 22, 1, 1, 1, 1, 13, 28, 1, 29, 1, 78, 1, 2, 7, 1, 1, 13, 47, 1, 1, 1, 1, 8, 52, 3, 1, 2, 1, 8, 17, 83, 1], [1, 23, 2, 25, 1, 86, 50, 20, 22, 1, 34, 1, 99, 1, 1, 1, 9, 1, 13, 1, 1, 49, 1, 1, 1, 83, 1, 1, 54, 1, 1, 1, 2, 87, 1, 1, 11, 44, 1, 9, 1, 1, 1, 9, 1], [1, 1, 1, 31, 34, 36, 15, 1, 1, 61, 1, 11, 5, 1, 70, 1, 1, 39, 1, 9, 10, 1, 1, 6, 61, 44, 1, 1, 1, 68, 49, 1, 1, 8, 70, 1, 39], [1, 27, 1, 1, 1, 1, 1, 15, 1, 59, 1, 1, 43, 1, 1, 11, 1, 15, 1, 31, 6, 1, 1, 99, 22, 1, 1, 1, 9, 10, 1, 56, 1, 8, 1, 1, 1, 72, 9, 27, 1], [14, 1, 30, 4, 1, 5, 18, 31, 32, 12, 1, 15, 1, 19, 61, 6, 1, 1, 47, 92, 1, 13, 47, 3, 1, 1, 1, 16, 56, 1, 18, 12, 6, 1, 1, 1, 96, 1, 1, 19, 61, 15, 1, 56, 1, 75, 12, 5, 1, 28, 94, 1, 78, 2, 7, 1, 13, 1, 1, 6, 1, 26, 9, 1, 1, 18, 1, 56, 1, 1, 15, 1, 1, 9, 1, 1, 3, 10, 6, 1, 38, 26, 1, 8, 47, 3, 69, 8, 1, 1, 1, 5, 58, 24, 1, 1, 1, 2, 16, 52, 3, 10, 6, 34, 11, 1, 9, 1, 1, 5, 1, 1, 56, 1, 25, 1, 1, 8, 12, 1], [1, 1, 38, 20, 1, 8, 57, 35, 22, 12, 3, 20, 1, 11, 1, 2, 33], [44, 8, 17, 5, 7, 21, 1, 18, 65, 27, 1, 12, 8, 1, 52, 3, 1, 6, 1, 6, 34, 11], [1, 1, 1, 5, 7, 3, 1, 1, 13, 17, 8, 1, 1, 1, 1, 1, 1, 1, 1, 1, 1, 1, 1, 1, 1, 1, 1, 44, 1, 1, 1, 1, 1, 1, 4, 1, 15, 1, 18, 1, 3, 9, 1, 1, 19, 1, 1, 1, 1, 1, 9, 1, 2, 1, 3, 1, 4, 1, 1, 9, 27, 1, 1, 25, 57, 9, 46, 1, 1, 1, 1, 8, 1, 1, 13, 1, 1, 24, 22, 1, 1, 6, 1, 2, 1, 6, 34, 21, 1, 2, 1, 1, 1, 1, 29, 27, 1, 1, 1, 1, 1, 2, 1, 1, 1, 1, 1, 1, 1, 2, 1, 1], [1, 9, 1, 1, 1, 1, 58, 1, 6, 1, 85, 43, 6, 1, 1, 1, 1, 1, 1, 98, 1, 1, 16, 53, 1, 1, 1, 58, 1, 47, 98, 2, 1, 1, 99, 22, 9, 1, 74, 1, 5, 1, 1, 5, 7, 6, 1], [45, 40, 17, 14, 18, 54, 14, 1, 67, 23, 2, 64, 3, 20, 33, 2, 1, 29, 4, 20, 1, 31, 1, 1, 4, 19, 1, 1, 1, 1, 1, 4, 20, 1, 18, 11, 3, 1, 73, 11, 3, 1, 21, 87, 72, 4, 21, 1, 8, 17, 14], [1, 41, 5, 7, 1, 1, 42, 7, 35, 1, 1, 1, 1, 16, 88, 24, 22, 12, 9, 59, 1, 10, 1, 23, 1, 1, 1, 29, 1, 1, 56, 1, 1, 69, 1, 9, 1, 26, 49, 17, 83, 1, 1, 1, 1, 2, 1, 1, 1, 26, 58, 1, 1, 13, 1, 1, 16, 1, 1, 1, 2, 1, 16, 9, 10, 1, 1, 1, 1, 1, 1, 53, 1, 1, 1, 1, 78, 1, 99, 76, 1, 49, 78, 3, 1, 6, 1, 1, 1, 6, 1, 13, 1, 1, 11, 1, 11, 1, 1, 45, 1, 74, 1, 1, 2, 31, 1, 32, 1, 11, 21, 1, 1, 9, 24, 22, 15, 17, 1, 1], [5, 7, 31, 14, 4, 1, 1, 1, 1, 1, 1, 3, 1, 52, 6, 34, 11, 1, 13, 70, 53, 9, 1, 1, 13, 86, 50, 16, 1, 23, 14, 1, 1, 1, 89, 9, 27, 1, 86, 50, 51, 4, 1, 1, 1, 8, 5, 7, 35, 1, 1, 1, 24, 1, 16, 1, 1, 82, 1, 1, 1, 1, 6, 11, 1, 4, 29, 1, 1, 74, 1, 22, 77, 97, 1, 3, 1, 1, 16, 52, 83, 3, 1, 5, 7, 5, 37, 1], [1, 1, 18, 30, 14, 11, 9, 59, 1, 1, 11, 1, 15, 1, 29, 1, 1, 3, 1, 1, 53, 9, 1, 1, 18, 53, 1, 2, 1, 1, 1, 18, 43, 12, 1, 72, 49, 37, 1, 1, 1], [1, 15, 1, 1, 1, 3, 1, 47, 1, 90, 81, 15, 1, 19, 1, 1, 8, 47, 1, 1, 27, 1, 68, 90, 1, 1, 1, 23, 1, 1, 1, 1, 1, 1, 1, 3, 1, 22, 1, 1, 1], [1, 12, 80, 8, 5, 1, 1, 9, 1, 86, 50, 1, 1, 1, 1, 64, 1, 93, 2, 1, 92, 1, 78, 2, 1, 1, 1, 28, 1, 49, 1, 1, 1, 1, 48, 1, 1, 1, 1, 1, 1, 1, 1, 1, 1, 1, 82, 1, 99, 24, 1], [13, 36, 1, 15, 1, 19, 1, 1, 1, 4, 1, 1, 1, 40, 5, 7, 18, 1, 14, 1, 12, 1, 1, 9, 59, 2, 85, 6, 1, 62, 10, 20, 23, 1, 9, 1, 85, 1, 1, 14, 25, 1, 29, 13, 17, 87, 1, 53, 9, 10, 1, 2, 28, 1, 1, 1, 29, 78, 2, 7, 1, 79, 1, 1, 29, 1, 34, 1, 1, 1], [12, 8, 5, 7, 8, 1, 1, 11, 1, 1, 9, 1, 8, 1, 1, 18, 10, 1, 1, 89, 45, 1, 17, 14, 51, 8, 21, 1, 45, 9, 27, 1, 91, 1, 1, 15, 57, 13, 1, 1, 29, 1, 1, 1, 75, 1, 3, 40, 1, 42, 1, 79, 1, 1, 1, 9, 27, 1, 1, 1], [1, 53, 9, 10, 68, 70, 1, 1, 30, 1, 41, 10, 70, 48, 9, 1, 57, 1, 1, 1, 1, 1, 1, 1, 88, 1, 1, 38, 1, 55, 1, 1, 1, 55, 1, 1, 1, 2, 52, 3, 1, 1, 10], [80, 1, 4, 41, 5, 7, 3, 4, 1, 33, 31, 12, 25, 16, 22, 2, 1, 1, 32, 28, 3, 1, 16, 76, 1, 2, 5, 7, 14, 77, 97], [1, 1, 42, 7, 1, 6, 1, 1, 6, 1, 1, 11, 6, 1, 5, 7, 87, 80, 30, 1, 17, 1, 23, 32, 1, 1, 2, 1, 4, 52, 24, 93, 6, 1, 42, 1, 1, 38, 1, 70, 10, 1, 91, 2, 1], [45, 1, 1, 18, 1, 1, 1, 2, 1, 45, 1, 1, 1, 1, 11, 8, 1, 3, 20, 1, 2, 1, 18, 9, 1, 1, 8, 1, 1, 9, 1, 4, 1, 1, 1, 10, 1, 2, 32, 1, 15, 1, 9, 10, 1, 1, 45, 3, 1, 8, 1, 1, 2, 1, 1, 63, 1, 45, 1, 1, 1, 1, 1, 18, 1, 20, 1, 51, 9, 1, 1, 1, 18, 1, 85, 6, 64, 1, 1, 1, 96, 26, 2, 10, 3, 95, 6, 38, 1, 1, 45, 1, 15, 1, 1, 1, 1, 1, 1, 69, 5, 7], [75, 12, 14, 1, 1, 8, 25, 1, 1, 49, 28, 2, 1, 1, 1, 1, 3, 1], [11, 8, 1, 1, 20, 1, 55, 1, 48, 66, 1, 1, 2, 1, 8, 1, 1, 9, 10, 1, 83, 1, 4, 3, 1, 1, 1, 2, 1, 1, 4, 1, 1, 1, 1, 1, 74, 1, 1, 1, 1, 1, 1, 6, 1, 74, 1, 1, 1, 1, 72, 1, 1, 1], [4, 80, 30, 40, 5, 7, 1, 1, 4, 1, 1, 1, 1, 5, 22, 2, 1, 51, 87, 1, 1, 30, 14, 2, 1, 1, 1, 93, 11, 1, 1, 1, 1, 51, 18, 1, 1, 89, 11, 58, 1, 13, 1, 1, 1, 13, 1, 1, 1, 49, 32, 89, 1, 26, 1, 1, 1, 11, 1, 1, 11, 3, 62, 87, 1, 33, 1, 62, 1, 8, 22], [30, 14, 1, 1, 84, 6, 1, 45, 1, 1, 18, 1, 45, 1, 85, 6, 84, 51, 62, 10, 1, 18, 1, 1, 35, 9, 27, 1, 21, 1, 1, 1, 2, 1, 1, 9, 1, 1, 69, 1, 18, 45, 1, 82, 1, 1, 45, 9, 27, 44, 1, 1, 17, 13, 1, 1, 35, 1, 6, 84, 1, 1, 1, 1, 1, 1, 9, 1, 1, 1, 1], [1, 63, 1, 8, 42, 7, 48, 5, 7, 1, 77, 97, 1, 1, 84, 1, 1, 1, 32, 21, 1, 89, 11, 75, 31, 1, 15, 1, 19, 1, 1, 1, 19, 89, 1, 23, 1, 1, 43, 25, 1, 20, 22, 1, 16, 92, 76], [1, 30, 41, 5, 7, 1, 70, 1, 9, 1, 1, 1, 71, 1, 9, 27, 6, 1, 9, 10, 1, 2, 1, 19, 1, 1, 1, 24, 1, 1, 1], [80, 30, 41, 5, 7, 1, 1, 80, 73, 77, 97, 1, 4, 1, 1, 17, 14, 1, 8, 17, 1, 3, 1, 24, 1, 1, 37, 1, 47, 3, 1, 16, 1, 1, 19, 1, 1, 4, 1, 21, 1, 17, 14, 85, 1, 1, 1, 4, 13, 1, 1, 1, 14, 1, 3, 80, 1, 1, 1, 62, 6, 1, 1, 15, 17, 1, 1, 1, 1, 3, 1, 1, 1, 73, 1, 1, 89, 1, 1, 1, 1, 4, 13, 1, 59, 1, 1, 1, 1, 1, 1, 52, 1, 38, 6, 11, 3, 1, 1, 1, 73, 39, 3, 1, 1, 17, 14, 1, 38, 3, 20, 1, 2, 33, 6, 1, 38, 1, 1, 70, 8, 1, 1, 3, 1, 1, 1, 1, 1, 15, 1, 3, 1, 1, 1, 39, 1, 1, 1, 3, 16, 55, 1, 8, 1, 3, 1, 1, 1, 1, 1, 1, 3, 1, 78, 1, 1, 1, 1, 37, 16, 76, 1, 1, 1, 1, 13, 1, 1, 1, 18, 1, 15, 70, 29, 55, 1, 1, 65, 1, 1, 2, 1, 1, 16, 1, 1, 13, 65, 55, 1, 1, 56, 1, 65, 1, 1, 2, 21, 1], [1, 1, 1, 1, 37, 16, 1, 3, 6, 1, 1, 37, 29, 13, 1, 77, 1, 37, 3, 99, 4, 1, 1, 27, 1, 1, 6, 1, 74, 1], [68, 12, 1, 1, 1, 42, 1, 10, 68, 1, 6, 11, 1, 39, 8, 1, 1, 1, 13, 1, 1], [33, 1, 2, 3, 1, 46, 6, 1, 48, 1, 1, 25, 3, 1, 15, 1, 17, 55, 1, 1, 2, 9, 59, 1, 1, 1, 39, 70, 37, 1, 16, 1], [1, 63, 17, 1, 14, 47, 62, 20, 1, 48, 25, 20, 1, 69, 17, 1, 1, 1, 8, 5], [80, 30, 1, 41, 5, 7, 19, 1, 1, 1, 1, 1, 1, 1, 48, 1, 1, 8, 52, 35, 1, 38, 35, 33, 92, 1, 1, 1, 1, 1, 1, 16, 10, 1, 70, 1, 35, 1, 1, 1, 1, 72, 1, 1, 54, 36], [1, 76, 1, 1, 1, 1, 16, 1, 1, 1, 23, 32, 1, 4, 1, 31, 1, 1, 53, 1, 1, 1, 1, 15, 1, 13, 1, 1, 1, 53, 1, 1, 5, 7, 1, 1, 1, 41, 5, 7], [64, 1, 24, 1, 1, 2, 1, 39, 29, 1, 91, 3, 55, 1, 28, 20, 76, 68, 57, 1, 1, 67, 23], [12, 5, 7, 3, 1, 23, 32, 1, 12, 15, 1, 1, 1, 1, 1, 67, 23, 2, 1, 64, 35, 46], [12, 15, 1, 19, 1, 21, 1, 1, 8, 52, 1, 1, 1, 1, 3, 21, 96, 1, 1, 1, 91, 1, 2, 1, 13, 1, 1, 1, 1, 13, 1, 1, 1, 1, 1, 1, 1, 12, 1, 1, 1, 1, 1, 1, 78, 2, 1, 51, 1, 1, 27, 1, 8, 1, 78, 21, 1, 1, 1, 2, 1, 1, 36, 3, 1, 8, 5, 7], [1, 1, 4, 1, 44, 19, 1, 15, 61, 2, 49, 65, 1, 1, 11, 19, 1, 20, 1, 1, 8, 1, 3, 1, 4, 1, 1, 5, 7, 1, 67, 23, 1, 95, 3, 33], [36, 3, 6, 1, 59, 2, 2, 1, 1, 3, 1, 9, 1, 1, 26, 1], [36, 15, 1, 19, 1, 1, 79, 55, 1, 94, 3, 92, 1, 27, 1, 1, 1, 36, 1, 19, 1, 34, 12, 14, 55, 1, 1, 1, 4, 3, 95, 6, 1, 1, 66, 1, 53, 1, 60, 1, 16, 1, 87, 1, 4, 1, 2, 1, 1, 49, 87, 1, 13, 1, 16, 85, 1, 69, 1, 26, 1, 1, 1, 1, 1, 1, 1, 1, 49, 1, 1, 1, 1, 78, 3, 1, 16, 21, 1, 1, 1, 1], [31, 1, 13, 1, 1, 19, 1, 4, 1, 12, 1, 15, 1, 18, 24, 1, 15, 1, 2, 66, 4, 3, 1, 1, 73, 5, 7, 1, 92, 93, 2, 1, 77, 1], [12, 15, 1, 21, 77, 97, 51, 1, 9, 10, 52, 1, 37, 2, 1, 1, 1, 1, 1, 1, 18, 11, 62, 87, 1, 16, 1, 31, 12, 1, 1, 16, 21, 77, 97, 2, 1, 1, 51, 9, 27, 1, 1, 18, 1, 1, 1, 3, 9, 1, 1], [1, 63, 17, 8, 68, 1, 1, 76, 37, 41, 17, 14, 73, 1, 68, 39, 1, 11, 25, 1, 51, 1, 9, 1, 1, 65, 27, 1, 1, 11], [44, 8, 5, 7, 1, 1, 6, 1, 18, 24, 96, 77, 97, 37, 57, 3, 46, 2, 1, 1, 1], [80, 40, 5, 7, 1, 1, 39, 1, 1, 12, 30, 14, 1, 1, 1, 1, 1, 4, 1, 14, 1, 25, 56, 1, 1, 1, 1, 1, 12, 66, 1, 28, 9, 1, 2, 9, 1, 3, 9, 1, 1, 56, 1, 10, 1, 6, 1, 66, 28, 1, 1, 1, 1, 56, 1], [1, 62, 63, 1, 34, 42, 1, 1, 1, 23, 12, 5, 7, 9, 1, 1, 11, 42, 1, 1, 59], [1, 1, 5, 7, 1, 1, 14, 1, 17, 15, 1, 35, 10, 1, 1, 1, 1, 1, 1, 10, 1, 1, 1, 5, 7, 1, 47, 1, 1, 1, 1, 8, 52, 35, 1], [1, 46, 11, 1, 25, 1, 9, 10, 59, 27, 1, 1, 70, 54, 36, 47, 16, 1], [14, 73, 1, 80, 4, 41, 5, 7, 1, 1, 1, 20, 22, 67, 23, 1, 1, 16, 1, 8, 68, 1, 1, 26, 16, 1, 1, 6, 36, 51, 18, 36, 80, 30, 8, 1, 14, 73, 1, 1, 8, 23, 1, 99, 15, 43, 1, 1, 1, 1, 1, 3, 1, 1, 1, 1, 1, 1, 1, 1, 1, 78, 2, 7, 1, 34, 1, 11, 5, 1, 1, 3, 1, 1, 20, 1, 1, 1, 1, 56, 1, 1, 1, 22, 8, 1, 1, 1, 1, 3, 1, 1, 5, 2, 1, 3, 1, 1, 1, 1, 1, 3, 1, 2, 1, 1, 1, 1, 1, 1, 1, 4, 1, 1, 51, 49, 1, 31, 41, 1, 1, 4, 1, 1, 24, 1, 13, 1, 1, 95, 1, 6, 1, 1, 1, 1, 13, 1, 1, 1, 1, 1, 75, 31, 1, 1, 2, 1, 1, 1, 1, 1], [53, 1, 1, 4, 1, 17, 15, 42, 1, 14, 13, 1, 4, 1, 1, 1, 15, 86, 50, 1, 1, 4, 1, 1, 2, 1, 3, 1, 65, 1, 33, 2, 1, 1, 1, 1, 3, 46, 1, 4, 6, 1, 1, 51, 1, 6, 90, 81, 1, 50, 60, 1, 21, 1, 13, 1, 1, 43, 36, 2, 4, 58, 1, 1, 13, 28, 3, 1, 1, 76, 1, 5, 7, 3, 1, 1, 16, 1, 12, 14, 1, 1, 18, 65, 1, 96, 1, 1, 51, 1, 4, 13, 1, 1, 58, 1, 1, 1, 36, 1, 1, 1, 1, 1, 91, 1, 1, 1, 1, 6, 1, 1, 1], [1, 36, 1, 51, 25, 3, 1, 13, 71, 90, 21, 1, 1, 15, 86, 50, 1, 1, 1, 2, 25, 1, 1, 1, 19, 1, 1, 1, 32, 1, 1, 2, 38, 75, 71, 90, 21, 33, 2, 1, 1, 28, 99, 1, 1, 18, 12, 1], [25, 23, 1, 50, 20, 1, 2, 1, 1, 1, 1, 72, 9, 10, 59, 25, 34, 11, 21, 46, 2, 21, 1, 1, 1, 48, 1, 1, 1, 4, 41, 1, 74, 10, 1, 72, 9, 27, 1], [1, 4, 41, 8, 5, 7, 1, 1, 20, 1, 1, 3, 1, 1, 9, 59, 54, 4, 41, 2, 25, 15, 57, 3, 20, 22], [1, 1, 1, 13, 55, 1, 52, 39, 6, 1, 4, 1, 1, 1, 1, 12, 77, 97, 1, 97, 55, 78, 1, 1, 1, 2, 7, 1], [80, 30, 40, 5, 7, 1, 33, 1, 1, 3, 1, 1, 64, 3, 46, 16, 38, 3, 33, 1, 1, 1, 99, 1, 1, 14, 5, 7, 1, 3, 1, 1, 1], [5, 7, 1, 1, 8, 52, 3, 20, 93, 1, 1, 1, 1, 43, 2, 1, 17, 9, 1, 1, 1, 2, 16, 9, 1, 1, 18, 1, 1, 1, 1, 6, 1, 11, 1, 1, 1, 1, 1, 1, 11, 3, 1, 13, 19, 1, 69, 1, 65, 1, 1, 1, 1, 1, 1, 1, 9, 1, 1, 1, 1, 2, 1, 1, 1, 1, 58, 1, 1, 18, 1, 1, 11], [1, 80, 41, 5, 7, 1, 9, 1, 8, 17, 14, 1, 63, 1, 1, 8, 42, 3, 65, 1, 96, 1, 48, 1, 4, 9, 1, 1, 1, 1, 18, 4, 40, 71, 90, 57, 20, 22, 9, 1, 57, 42, 7, 28, 1, 79], [1, 4, 15, 1, 1, 61, 14, 1, 1, 13, 40, 5, 7, 18, 10, 52, 1, 1, 48, 1, 1, 45, 1, 11, 8, 1, 6, 11, 32, 9, 10, 52, 1, 1, 2, 1, 1, 26, 83, 1, 1, 1, 57, 1, 1, 52, 1, 1, 1, 1, 14, 1, 12, 40, 5, 7, 14, 15, 1, 52, 1, 1, 25, 46, 1, 1, 1, 92, 1, 1, 13, 12, 1, 1, 2, 1, 23, 44, 92, 1, 1, 1, 40, 5, 7], [14, 80, 30, 4, 1, 5, 7, 1, 1, 19, 1, 13, 1, 1, 1, 1, 4, 73, 1, 1, 3, 24, 1, 1, 39, 6, 1, 38, 1, 4, 1, 1, 8, 1, 1, 1, 89, 12, 1, 1, 59, 3, 20, 1, 1, 10, 39, 6, 34, 11, 89, 55, 1, 91, 1, 1, 1, 51, 13, 1, 9, 1, 2, 4, 9, 1, 1, 5, 7, 1, 1, 3, 1, 56, 9, 18, 57, 9, 1, 1, 1], [1, 1, 1, 37, 1, 43, 48, 59, 1, 1, 43, 1, 1, 90, 81, 1, 89, 96, 3, 1, 2, 1, 1, 41, 11, 1, 1, 1, 88, 10, 70, 8, 1, 11, 87, 9, 1, 1, 1, 1, 1, 62, 87, 2, 1, 1, 1, 58, 1, 1, 2, 24, 1, 37, 74, 1, 37, 1, 1, 1, 18, 4, 40, 90, 1, 89, 29, 1, 1, 1, 26, 83, 1, 1, 1, 2, 4, 1, 1, 1, 26, 9, 55, 38, 1, 1, 1, 4, 1, 1, 27, 1, 26, 12, 80, 30, 4, 8, 5, 90, 81, 1, 1, 1, 1, 1, 1, 1, 1, 94, 2, 1, 6, 34, 11, 55, 1, 1, 38, 1, 57, 46, 1, 1, 1, 1, 1, 9, 10, 70, 28, 1, 1, 1, 1, 1, 59, 1, 37, 1, 1, 1, 5, 27, 24, 22], [1, 1, 36, 8, 11, 1, 2, 58, 40, 17, 1, 1, 1, 3, 1, 3, 27, 1, 9, 10, 66, 83, 4, 1, 18, 31, 32, 1, 12, 15, 1, 19, 61, 1, 1, 1, 1, 8, 5, 7, 14, 8, 1, 1, 1, 17, 1, 1, 93, 1, 37, 1, 76, 1, 6, 11, 1, 46, 12, 16, 1, 1, 32, 1, 1, 1, 1, 18, 10, 1, 1, 3, 1, 54, 36, 21, 1, 79, 1, 1, 15, 1, 3, 10, 6, 38, 9, 1, 1, 1, 58, 1, 1, 1, 1, 32, 1, 34, 11, 3, 1, 1, 1, 3, 1, 1, 1, 1, 36, 1, 1, 33, 1, 17, 3, 4, 1, 1, 1, 1, 1, 1, 1, 1, 1, 1, 1, 44, 8, 5, 7, 14], [77, 97, 1, 46, 55, 94, 6, 11, 47, 1, 1, 1, 1, 1, 1, 92, 1], [4, 40, 5, 7, 13, 36, 1, 1, 4, 15, 1, 1, 61, 1, 1, 12, 1, 9, 10, 59, 57, 46, 1, 96, 1, 1, 15, 42, 7, 3, 1, 73, 1, 1, 5, 7], [59, 1, 1, 43, 6, 43, 12, 1, 32, 1, 29, 1, 28, 1, 1, 1, 76, 85, 6, 1, 1, 1, 1, 1, 29, 1, 1, 53, 9, 10, 1, 79, 1, 1, 52, 1, 1, 1, 72, 62, 27, 1, 8, 1, 33, 1, 4, 5, 32, 42, 1, 1, 1, 47, 1, 53, 1, 1], [1, 1, 48, 9, 1, 1, 93, 9, 10, 1, 1, 11, 1, 67, 23, 55, 94], [4, 40, 5, 7, 15, 61, 19, 1, 1, 13, 1, 1, 1, 1, 1, 17, 14, 73, 17, 1, 1, 1, 28, 2, 39, 1, 3, 4, 1, 73, 99, 33, 75, 31, 1, 2, 1, 96, 1, 1, 3, 69, 16, 4, 1, 75, 31, 36, 1, 15, 1, 19, 61], [21, 1, 44, 1, 1, 55, 71, 90, 8, 47, 1, 3, 4, 99, 1, 6, 71, 1, 32, 1, 2, 69, 1, 30, 1, 6, 1, 1, 1, 3, 1, 5], [87, 80, 30, 41, 5, 2, 1, 1, 1, 69, 17, 14, 1, 15, 1, 3, 1, 1, 16, 1, 33, 1, 1, 1, 50, 60, 1, 16, 1, 96, 91, 1, 1, 1, 1, 16, 76, 1, 55, 1, 1, 1, 1, 27, 1, 1, 16, 1, 1, 2, 1, 16, 1, 1, 1, 6, 1, 16, 33, 1, 1, 1], [21, 1, 67, 23, 1, 32, 54, 36, 4, 1, 39, 1, 32, 1, 7, 1, 2, 66, 1, 56, 1, 45, 16, 1, 78, 1, 1, 2, 1, 1, 1, 1, 92, 13, 1, 1, 54, 34, 43, 36, 61, 1, 1, 1, 32, 1, 1, 24, 1, 1, 1, 5, 7, 1, 1, 27, 24, 1, 74], [80, 1, 40, 17, 14, 12, 43, 4, 1, 6, 84, 43, 13, 1, 6, 1, 1, 9, 27, 1, 82, 8, 1, 43, 12, 62, 1, 1, 1, 8, 82, 6, 12, 83, 1, 1, 1, 1, 1, 1, 17, 1, 27, 9, 10, 1, 1, 1, 43, 9, 10, 39, 1, 10, 1, 1, 3, 1, 27, 1, 1, 34, 23, 1, 18, 1, 72, 10, 1, 13, 1, 1, 28, 1, 1, 1, 1, 1, 1, 49, 17, 1, 1, 1, 1, 1, 1, 1, 1, 1, 1, 1, 1, 72, 1, 26, 1, 1, 1, 1, 1, 1, 1, 17, 1, 1, 1, 7, 1, 15, 1, 1, 10, 1, 2, 1, 48, 1, 1, 1, 65, 1, 1, 1, 67, 23, 1, 5, 7, 32, 17, 47, 1, 1, 1, 1, 1, 1, 8, 1, 49, 42, 7, 24, 22, 44, 8, 17, 1, 56, 41, 42, 7, 1, 1], [31, 1, 12, 15, 61, 19, 1, 10, 96, 66, 15, 47, 3, 1, 1, 85, 1, 1, 1, 1, 1, 4, 1, 1, 5, 7, 18, 10, 50, 60, 1, 1, 1, 24, 1, 2, 10, 28, 1], [13, 47, 1, 3, 9, 1, 1, 8, 1, 11, 1, 1, 25, 3, 1, 1, 24, 22, 51, 1, 1, 18, 10, 1, 1, 1, 66, 91, 1, 70, 16, 62, 1, 48, 1, 36, 8, 5, 21, 33, 2, 1], [1, 1, 5, 1, 6, 1, 1, 1, 1, 1, 10, 1, 2, 1, 28, 1, 1, 5, 7, 16, 59, 8, 1, 1, 1, 1, 1, 23, 44], [12, 1, 1, 1, 1, 19, 1, 1, 48, 30, 14, 1, 1, 1, 1, 2, 1, 1, 1, 2, 1, 11, 1, 1, 1, 1, 1, 99, 50, 60, 1, 1, 35, 1, 1], [1, 23, 3, 1, 4, 1, 1, 5, 7, 74, 2, 68, 3, 20, 1, 13, 12, 71, 1], [1, 1, 8, 17, 14, 1, 1, 2, 1, 64, 1, 94, 2, 28, 1, 1, 1, 38, 2, 1, 23, 22, 51, 39, 64, 9, 1], [3, 4, 1, 15, 5, 7, 1, 1, 1, 1, 1, 69, 8, 1, 51, 65, 62, 1, 94, 2, 39, 1, 6, 1, 1, 95, 5, 7, 16, 1, 77, 97, 1, 4, 1, 12, 1, 24, 1, 15, 1, 1, 1, 6, 1, 84, 1, 1, 1, 8, 42, 7, 18, 1, 89, 1, 1, 2, 1, 1, 1, 50, 1, 1, 1, 74, 19, 1, 1, 13, 1, 1, 1, 99, 1, 2, 1, 23], [1, 67, 23, 1, 76, 1, 9, 1, 1, 60, 1, 37, 46, 1, 1, 1, 20, 1, 4, 1, 16, 15, 1, 3, 18, 1, 90, 89, 58, 4, 1, 1, 1, 1, 1], [5, 7, 1, 1, 77, 97, 25, 6, 64, 22, 2, 52, 1, 77, 60, 21, 1, 89, 9, 1, 34, 36, 28, 1, 20, 76], [12, 1, 79, 18, 4, 1, 1, 15, 61, 19, 1, 23, 1, 43, 1, 5, 1, 63, 1, 20, 22, 2, 1, 8, 11, 1, 3, 62, 20, 87, 2, 1, 6, 1, 1, 95, 1, 1, 1, 1, 91, 2, 1, 1, 94, 2, 7, 1, 13, 12, 14, 1, 4, 13, 1, 1, 1, 1, 3, 22, 49, 5, 7, 1, 79, 1, 24, 1, 1, 1, 3, 1, 6, 1, 1, 1], [1, 19, 1, 1, 19, 1, 1, 1, 1, 5, 8, 1, 1, 1, 1, 1], [21, 33, 25, 46, 31, 1, 11, 1, 1, 1, 1, 13, 1, 1, 2, 1, 1, 1, 1, 1, 1, 2, 21, 33, 13, 1, 6, 11, 18, 31, 32, 12, 1], [17, 14, 1, 1, 35, 1, 1, 4, 1, 1, 1, 1, 8, 1, 1, 1, 69, 79, 1, 32, 16, 88, 10, 1, 1, 1, 1, 29, 1, 94, 1, 7, 1], [1, 1, 4, 20, 1, 40, 17, 5, 7, 47, 1, 1, 1, 1, 62, 1, 1, 94, 1, 23, 32, 1, 9, 27, 1, 8, 1, 1, 1], [1, 8, 17, 83, 3, 1, 25, 1, 54, 36, 1, 63, 1, 17, 1, 1, 3, 1, 1, 1, 1, 42, 1, 3, 1, 1, 1, 6, 1, 1, 14, 1, 4, 5, 7, 53, 20, 13, 41, 71, 2, 1, 6, 1, 14, 3, 1, 1, 2, 24, 1, 73, 1, 1, 1, 1, 3, 1, 1, 83, 15, 1, 1, 1, 3, 1, 8, 1, 1, 1, 1, 1, 1, 5, 7, 8, 1, 25, 1, 1, 37, 75, 1, 1], [1, 6, 1, 1, 8, 1, 3, 1, 2, 11, 1, 8, 1, 28, 1, 1, 1, 92, 76, 1, 13, 1, 16, 1, 33, 1], [4, 1, 47, 1, 1, 13, 12, 14, 1, 28, 2, 1, 34, 11, 54, 12, 51, 39, 34, 11, 1, 53, 9, 10, 8, 1, 1, 1], [36, 15, 1, 19, 61, 34, 23, 43, 1, 1, 18, 65, 1, 8, 1, 39, 1, 11, 55, 1, 2, 1, 10, 16, 66, 1, 8, 1, 13, 1], [63, 1, 3, 1, 1, 73, 1, 23, 3, 1, 22, 28, 6, 1, 11, 6, 1, 1, 1, 9, 1, 1, 39, 96, 66], [12, 67, 23, 8, 1, 1, 1, 94, 1, 1, 1, 5, 7, 1, 8, 1, 1, 1, 3, 1, 1, 1, 1, 2, 1, 23, 44], [1, 1, 2, 46, 1, 16, 76, 10, 1, 13, 1, 91, 2, 1, 1, 94, 16, 1, 78, 2, 7, 1, 13, 1, 58, 1, 13, 1, 12, 9, 59], [1, 1, 1, 60, 43, 1, 15, 1, 65, 1, 86, 50, 1, 1, 1, 1, 27, 1, 1, 1, 1, 16, 1, 1, 19, 17, 17, 65, 1, 1, 9, 10, 1, 2, 65, 1, 11, 37, 1, 16, 15, 1, 3, 1, 1, 1, 5, 1, 72, 43, 24, 1, 1, 1, 1, 1, 1, 1, 2, 1, 1, 1, 1, 1, 5, 7, 2, 42, 1, 1, 32, 1, 1, 1, 84, 8, 1, 18, 1, 24, 1, 1, 60, 37, 59, 1, 1, 1, 65, 41, 65, 55, 38, 1, 1, 1, 35, 53, 1, 1, 1, 65, 10, 6, 1, 1, 1, 1, 65, 1, 1, 1, 1, 1, 1, 69, 1, 60, 37, 1, 1, 1, 2, 1, 1, 65, 1, 19, 82, 1, 1, 1, 25, 5, 7, 2, 42, 1, 1, 2, 20, 85, 1, 1, 41, 17, 42, 1], [45, 1, 82, 3, 1, 82, 1, 1, 6, 1, 45, 1, 1, 29, 1, 82, 3, 45, 1, 1, 45, 1, 1, 96, 26, 3, 16, 1, 1, 24, 15, 82, 3, 1, 9, 29, 32, 82, 3, 45, 1, 16, 9, 6, 1, 86, 1, 1, 1, 55, 1, 1, 26, 1, 27, 1, 82, 65], [4, 92, 1, 5, 1, 4, 1, 1, 1, 5, 76, 53, 10, 28, 1, 37, 6, 34, 11, 1, 37, 52, 70, 35, 10, 6, 34, 11, 32, 1, 9, 1, 1, 1, 37, 1, 1, 1, 1, 1, 1, 1, 91, 3, 10, 6, 70, 37], [17, 8, 25, 3, 21, 22, 15, 31, 86, 50, 6, 84, 85, 1, 6, 1, 1, 1, 1, 47, 9, 1, 1, 13, 25, 2, 1, 12, 16, 21, 22, 67, 23, 1], [36, 1, 5, 7, 20, 33, 2, 52, 34, 11, 27, 1, 26, 33, 18, 10, 39, 1, 70, 1, 1, 1, 1, 10, 65, 58, 1, 1, 74, 13, 1, 1], [4, 1, 30, 40, 5, 7, 1, 52, 1, 50, 60, 9, 55, 1, 51, 1, 8, 12, 30, 14, 4, 55, 1, 50, 60, 1, 8, 66, 3, 21, 1, 52, 1, 1, 3, 1, 2, 1, 38, 3, 1, 2, 1, 1, 1, 66, 89, 55, 1, 51, 3, 27, 1, 73, 25, 31, 86, 50, 18, 29, 1, 79, 13, 71, 1, 2, 1, 3, 69, 72, 21, 1, 23, 8, 1, 3, 20, 1, 1, 62, 10, 1, 9, 1], [5, 7, 1, 66, 1, 1, 1, 1, 1, 1, 1, 1, 1, 1, 11, 1, 1, 1, 44, 1, 1, 1, 69, 1, 5, 14, 1, 1, 1], [36, 8, 40, 5, 7, 1, 1, 1, 20, 1, 8, 25, 1, 1, 1, 1, 64, 3, 46, 12, 14, 27, 1, 1, 1, 63, 66, 12, 1, 1, 1, 36, 8, 40, 11, 44], [1, 1, 6, 5, 7, 14, 1, 42, 1, 63, 1, 1, 11, 10, 39, 1, 1, 1, 3, 55, 1, 1, 66, 1, 1, 91, 1, 70, 1, 48, 1, 73, 65, 9, 1, 1, 1, 1, 56, 1, 9, 1, 8, 1, 1, 1, 1, 6, 34, 11, 1, 1, 1, 33, 2, 1, 64, 1, 1, 16, 1, 65, 44, 6, 1, 8, 1, 1, 10, 1, 1, 3, 9, 1], [1, 97, 41, 1, 1, 61, 15, 1, 38, 21, 33, 1, 1, 1, 1, 1, 20, 1, 13, 25, 1, 2, 1, 21, 1], [5, 7, 1, 17, 3, 1, 1, 4, 1, 13, 1, 4, 6, 1, 36, 1, 4, 1, 1, 8, 47, 3, 1, 5, 7, 16, 1, 52, 3, 22, 2, 12, 3, 1, 14, 4, 1, 1, 4, 1, 1, 1, 59, 56, 1, 54, 60, 8, 17, 14, 1, 10, 1, 1, 1, 75, 1, 1, 1, 1, 1, 36, 1, 1, 1, 1, 1, 18, 1, 3, 1, 20, 76, 1, 32, 26, 16, 27, 1, 39, 1, 1, 1, 6, 1, 38, 26, 3, 1, 1, 91, 1, 70, 1, 1, 1, 54, 44, 26, 16, 27, 1, 1, 1, 1, 1, 3, 1], [1, 1, 38, 20, 1, 12, 67, 23, 1, 4, 1, 66, 1, 39, 1, 6, 11, 28, 20, 76, 1, 92, 66, 29, 10, 7, 1, 1, 2, 1, 9, 1, 1, 1, 1, 1, 4, 53, 1, 1, 18, 1, 31, 1, 12, 57, 1, 1, 1, 30, 1, 7, 1, 7, 1, 2, 1, 6, 1], [75, 5, 15, 1, 1, 50, 60, 1, 1, 2, 31, 1, 18, 1, 26, 1, 1, 1, 1, 1, 2, 1, 1, 1, 1, 1, 1, 1, 1, 1], [92, 1, 12, 67, 23, 1, 1, 63, 1, 10, 1, 1, 1, 1, 1], [1, 2, 1, 29, 1, 1, 1, 1, 1, 79, 1, 1, 12, 1, 50, 60, 1, 1, 20, 33, 10, 1, 1, 15, 1, 1, 1, 75, 12, 1, 3, 22, 15, 5, 7, 9, 10, 66, 1, 31, 12, 3, 45, 1, 1, 10, 1, 1, 1, 1, 39, 1, 1, 1, 1], [1, 1, 1, 15, 1, 86, 50, 57, 35, 46, 39, 6, 11, 3, 1, 1, 66, 28, 1, 12, 19, 61, 54, 43, 9, 1], [17, 14, 1, 1, 1, 1, 4, 58, 1, 1, 1, 61, 18, 33, 2, 67, 23, 52, 39, 70, 2, 1, 1, 1, 4, 1, 1, 17, 14, 1, 45, 58, 1, 19, 61, 1, 6, 1, 1, 1, 63, 1, 1, 13, 1, 5, 7], [12, 1, 1, 19, 1, 8, 5, 7, 21, 1, 1, 4, 1, 5, 80, 18, 47, 1, 1, 31, 32, 2, 25, 3, 22, 44, 54, 1, 43, 19, 1, 1, 33, 8, 1, 1, 3, 10, 5, 7, 27, 1, 66, 12, 1], [4, 44, 8, 11, 1, 1, 8, 1, 1, 1, 75, 31, 86, 50, 10, 1, 3, 1, 1, 4, 51, 1, 1, 1, 1, 1, 1, 86, 50, 5, 7, 1, 4, 1, 1, 6, 38, 1, 1, 51, 1, 38, 6, 1, 1, 38, 1, 1, 1, 1, 1, 4, 1, 12, 1, 54, 1, 63, 43, 1, 54, 36, 52, 1, 39, 1, 1, 1, 1, 89, 1, 1, 1, 94, 3, 1, 73, 1, 78, 1, 2, 1, 7, 1, 34, 1, 1, 1, 1, 1, 1, 56, 1, 1, 6, 84, 1, 1, 11, 1, 6, 1, 3, 9, 1, 8, 1, 89, 26, 58, 1, 8, 1, 1, 1, 40, 1, 13, 1, 1, 1, 8, 1, 1, 3, 1, 1, 9, 12, 1, 1, 2, 11, 1, 8, 1, 1, 96, 1, 68], [17, 14, 1, 21, 1, 8, 82, 1, 1, 1, 1, 3, 1, 67, 23, 2, 1, 37, 1, 1, 1, 1, 53, 1, 30, 40, 5, 7, 13, 44, 1, 1], [10, 39, 1, 11, 4, 1, 91, 54, 12, 9, 1, 28, 1, 29, 1, 94, 12, 59, 1], [1, 24, 76, 10, 1, 1, 94, 2, 24, 33, 1, 18, 1, 42, 3, 93, 1, 42, 7, 2, 1], [1, 1, 2, 1, 18, 1, 62, 87, 89, 1, 1, 47, 1, 10, 1, 1, 1, 1, 94], [1, 4, 17, 14, 24, 67, 23, 1, 17, 1, 1, 83, 8, 47, 3, 24, 1, 21, 1, 13, 1, 3, 1, 1, 17, 14, 16, 21, 1, 8, 1, 3, 83, 49, 42, 1, 1], [4, 1, 41, 5, 19, 1, 1, 18, 1, 1, 1, 28, 53, 1, 51, 1, 15, 1, 20, 93, 59, 1, 18, 1, 1, 1, 38, 76, 18, 9, 1, 2, 10, 70, 1, 92, 76, 29, 1, 9, 10, 1, 18, 1, 1], [12, 8, 5, 1, 14, 1, 9, 59, 29, 1, 94, 58, 1, 2, 1, 6, 11, 14, 1, 2, 1], [68, 5, 21, 22, 1, 15, 1, 86, 50, 1, 1, 1, 1, 1, 16, 69, 46, 2, 1, 1, 19, 1, 26, 1, 1, 88, 1, 8, 17, 35, 1, 1, 6, 1, 2, 3, 1, 1, 1, 31, 1, 11, 73, 31, 1, 1, 2, 1, 1, 1, 1, 1, 1, 17, 1, 35, 1, 1, 18, 1, 1, 1, 1, 1, 45, 1, 33, 44, 8, 5, 7, 1, 25, 49, 32], [4, 2, 1, 21, 33, 40, 17, 14, 1, 1, 1, 24, 1, 2, 1, 3, 1, 1, 1, 1, 9, 1, 1, 95, 69, 1, 48, 1, 1, 1, 47, 1, 1, 1, 1, 1, 65, 3, 1, 1, 18, 1, 1, 2, 1], [15, 1, 1, 1, 1, 1, 6, 1, 1, 1, 1, 6, 84, 1, 1, 5, 7, 9, 1, 96, 1, 1, 1, 1, 42, 25, 1, 16, 46, 64, 11, 92, 1, 1, 38, 1, 1, 1, 1, 42, 12, 15, 1, 85, 61, 1, 24, 99, 43, 65, 1, 1, 1, 1, 66, 1, 1, 56, 1, 1, 1, 92, 76, 15, 1, 19, 1, 1, 23, 1, 43, 1, 1, 94, 78, 1, 2, 7, 1, 1, 2, 1, 1, 1, 1, 1, 29, 63, 35, 1, 1, 70, 35, 1, 10, 6, 11, 5, 7, 1, 52, 39, 60, 1, 1, 1, 1, 70, 6, 1, 1, 1, 9, 1, 1, 1, 48, 1, 22, 1, 74, 1, 52, 1, 1, 1, 12, 24, 15, 43, 21, 1, 1, 71, 5, 7, 27, 1, 1, 1, 1, 47, 35, 1, 1], [4, 1, 17, 14, 1, 1, 39, 6, 11, 1, 1, 51, 1, 1, 1, 11, 87, 2, 1, 98, 81, 1, 1, 1, 1, 3, 1, 1, 27, 1], [1, 1, 17, 14, 18, 23, 60, 2, 1, 1, 12, 1, 1, 2, 1, 1, 1, 1, 1, 1, 5, 7], [5, 7, 73, 1, 63, 1, 17, 12, 13, 1, 3, 1, 1, 21, 33, 8, 47, 3, 1, 28, 3, 1, 92, 76, 2, 3, 1, 1, 73, 1, 1], [80, 30, 1, 71, 90, 1, 1, 79, 29, 1, 2, 1, 82, 3, 1, 1, 1, 1, 2, 90, 1, 11, 46, 29, 1, 49, 1, 1, 1, 1, 12, 1, 18, 4, 1, 1, 90, 72, 1, 49, 1, 30, 1, 1, 41, 1, 79, 1, 1, 72, 9, 1], [36, 1, 54, 43, 9, 1, 18, 10, 39, 91, 2, 1, 3, 27, 4, 1, 28, 3, 1, 1, 1, 20, 1, 2, 1, 4, 1, 36, 1, 8, 47, 3, 1, 75, 31, 4, 1, 1, 77, 97], [1, 1, 61, 45, 40, 17, 5, 7, 1, 1, 12, 43, 23, 1, 5, 1, 17, 3, 1, 1, 2, 1, 45, 1, 15, 1, 43, 1, 9, 10, 1, 1, 1, 1, 45, 1, 6, 1, 2, 1, 1, 1, 1, 1, 1, 1, 1, 86, 50, 1, 2, 1, 1, 37, 1, 43, 26, 1, 1, 19, 11, 45, 1, 1, 1, 95, 6, 1, 1, 1, 71, 90, 33, 1, 18, 1, 27, 1, 1, 1, 1, 21, 46, 2, 76, 1, 1, 18, 14, 36, 1, 45, 29, 1, 78, 2, 7, 1, 1, 5, 1, 1, 1, 28, 1, 45, 1, 6, 1, 1, 1, 7, 1, 1], [1, 1, 25, 1, 5, 7, 36, 15, 43, 1, 1, 1, 1, 1, 8, 1, 30, 1, 40, 17, 14, 1, 1, 68, 1, 21, 93, 1, 28, 2, 1, 39, 1, 1, 36, 1, 1, 21, 1, 13, 36, 1, 1, 1, 68, 17, 14, 1, 2, 1, 28, 3, 1, 21, 1], [1, 1, 50, 60, 1, 1, 78, 1, 1, 35, 99, 76, 25, 1, 1, 1, 46, 1, 1, 1, 1, 1, 1, 1, 35, 1, 1, 1, 1, 51, 1, 29, 27, 43, 1, 60, 1, 27, 1, 1, 12, 1], [40, 1, 1, 11, 5, 1, 1, 1, 1, 16, 62, 1, 1, 1, 77, 97, 1, 37, 1, 1, 1, 1, 1, 1, 1, 1, 1, 78, 2, 7, 1], [1, 1, 1, 41, 5, 30, 14, 44, 19, 1, 1, 1, 1, 86, 50, 1, 1, 1, 20, 1, 1, 9, 1, 23, 1, 12, 67, 23, 1, 56, 1, 1, 26, 1, 1, 1, 1, 33, 1, 1, 1, 1, 88, 1, 1, 1, 1, 1, 1, 39, 1, 1, 1, 20, 76, 2, 1, 1, 88, 10, 1, 6, 1, 9, 10, 1, 1, 56, 1, 1, 54, 12, 1, 1, 1, 1, 10, 1, 15, 1, 23, 1, 11, 20, 1], [13, 1, 1, 8, 1, 9, 59, 2, 31, 1, 1, 2, 1, 1, 1, 1, 1, 16, 46, 34, 1, 28, 2, 1, 13, 28, 1, 1, 20, 92, 2, 10, 1, 1, 28, 3, 1, 54, 43, 12, 9, 1, 18, 1, 6, 1, 31, 1, 1, 1, 1, 1, 1, 1, 1, 1, 1, 8, 46, 1, 99, 52, 1, 1, 49, 1, 1, 1, 1, 1, 1], [12, 8, 17, 14, 1, 33, 2, 67, 23, 1, 1, 10, 1, 6, 84, 1, 6, 84, 1, 1, 1, 61, 1, 10, 11, 1, 56, 11, 1, 1, 35, 1, 1, 12, 1, 58, 1, 1, 11, 1, 46, 2, 1, 17, 14, 1, 1, 63, 66, 4, 1, 1, 1, 1, 13, 39, 54, 6, 36, 70, 37, 53, 9, 10], [5, 7, 1, 24, 22, 15, 12, 83, 3, 63, 1, 23, 1, 64, 3, 1, 62, 1], [1, 19, 1, 40, 5, 7, 75, 1, 1, 4, 1, 19, 1, 40, 11, 5, 7, 8, 1, 12, 1, 2, 1, 11, 1, 75, 23, 32, 26, 71, 1, 5, 7, 1, 1, 1, 82, 1, 1, 2, 82, 64, 1, 1, 1, 63, 1, 26, 54, 12, 73, 1, 1, 3, 1, 1, 1, 1, 13, 1, 38, 71, 1, 2, 1, 1, 1, 1, 13, 71, 90, 39, 34, 11, 16, 1, 8, 1, 1, 49, 91, 1, 2, 1, 3, 55, 1, 1, 26, 1, 1, 1, 13, 12, 1, 1, 49, 61, 1, 1, 1, 1, 1, 49, 1, 1, 8, 1, 1, 2, 1, 1, 1, 1, 2, 66, 1, 15, 1, 1, 1, 1, 1, 11, 1, 15, 1, 1, 2, 9, 10, 1, 51, 34, 36, 3, 1, 1, 1, 1, 1, 1, 1, 1, 1, 1, 1, 1, 1, 1, 2, 1, 1, 1, 1, 1, 9, 1, 13, 1, 1, 1, 1, 1, 1, 1, 11, 1, 1, 1, 26, 1, 1, 2, 1, 27, 85, 6, 84, 1, 1, 1, 1, 8, 1, 1, 43, 23, 1], [1, 41, 11, 14, 18, 1, 93, 16, 10, 94, 25, 16, 46, 47, 9, 1, 1, 51, 25, 1, 69, 8, 11, 1, 1, 1, 13, 1, 3, 27, 1, 71, 1, 47, 1], [34, 1, 1, 1, 19, 1, 75, 1, 1, 1, 1, 3, 1, 4, 40, 12, 8, 11, 5, 7, 1, 3, 1, 67, 23, 75, 1, 15, 1, 1, 84, 1, 1, 1, 19, 84, 1, 1, 1, 12, 8, 5, 7, 1, 1, 22, 1, 1, 13, 1, 1, 1, 15, 61, 19, 1, 1, 89, 1, 1, 4, 1, 8, 1, 3, 53, 1, 1, 25, 15, 1, 64, 60, 1, 22, 1, 8, 1, 1, 1, 3, 20, 22, 1, 1, 1, 1, 1, 78, 2, 7, 1], [1, 24, 22, 1, 42, 7, 1, 5, 7, 61, 1, 40, 11, 1, 1, 1, 95, 60, 1, 43, 1, 48, 1, 87, 1, 43, 1, 34, 64, 10, 1, 87, 1, 1, 1, 6, 1, 1, 1, 1, 1, 50, 60, 1, 29, 1, 94, 1, 78, 1, 1, 1, 1, 1, 1, 1, 1, 1, 1, 1, 7, 1, 1, 64, 1, 1, 9, 1, 1, 70, 1, 1, 1, 1, 1, 1, 1, 1, 95, 26, 1, 1, 1, 1, 11, 1, 1, 1, 1, 1, 1, 1, 7, 1, 1, 16, 1], [87, 30, 14, 1, 41, 12, 98, 81, 1, 61, 1, 1, 38, 6, 1, 1, 1, 95, 3, 24, 1, 2, 1, 54, 12, 1, 1, 1, 1, 71, 98, 81, 1, 14, 12, 1, 29, 1, 94, 54, 12, 1, 9, 1, 4, 1, 1, 7, 1, 2, 1, 1, 57, 20, 1, 34, 1, 4, 1, 1, 71, 98, 74, 6, 5, 7], [4, 21, 1, 1, 1, 1, 1, 4, 13, 40, 1, 12, 8, 5, 7], [4, 53, 1, 30, 40, 5, 7, 22, 1, 1, 98, 81, 1, 30, 14, 4, 1, 1, 68, 98, 81, 37, 1, 1, 31, 4, 86, 50, 6, 1, 1, 1, 10, 1, 6, 1, 98, 81, 96, 26, 1, 1, 1, 6, 1, 98, 81, 1, 83, 3, 1, 1, 4, 1, 96, 26, 1, 3, 1, 40, 1, 14, 2, 1, 84, 5, 7, 99, 1, 25, 6, 1, 1, 13, 26, 3, 40, 1, 1, 21, 22, 29, 1, 1, 1, 1, 26, 35, 1, 1, 31, 6, 11, 45, 1, 1, 25, 21, 22, 70, 1, 1, 1, 24, 1, 6, 1, 17, 1, 83, 66, 1, 16, 1, 13, 1, 1, 6, 1, 1, 1, 1, 1, 24, 22, 1, 6, 1, 1, 56, 1, 66, 1, 1, 1, 58, 1, 1, 3, 69, 6, 1, 83, 29, 1, 38, 1, 1, 6, 5, 7, 2, 1, 38, 98, 81, 4, 1, 5, 98, 81, 1, 1, 1, 47, 1, 2, 98, 81, 1, 1, 1], [1, 1, 14, 18, 1, 2, 84, 1, 1, 1, 1, 1, 59, 1, 2, 1, 6, 61, 1, 1, 15, 1, 1, 75, 31, 41, 11, 3, 21, 1, 4, 73, 57, 69, 1, 9, 1, 26, 57, 29, 1, 95, 6, 1, 1, 1, 1, 1, 29, 1, 79, 19, 1, 3, 1, 1, 1, 1, 32, 53, 10, 26, 3, 95, 89, 1, 1, 4, 1, 1, 1, 1, 57, 1, 1, 1, 2, 9, 1, 4, 1, 1, 1, 63, 74, 57, 3, 1, 1, 16, 1, 1, 1, 1, 26, 1, 1, 1, 26, 95, 6, 1, 1, 4, 69, 1, 9, 1, 10, 57, 3, 1, 26, 1, 1, 19, 1, 1, 29, 1, 1, 1, 1, 1, 28, 54, 12, 1, 1, 1, 8, 1, 1, 6, 1, 2, 1, 1, 1, 4, 1, 9, 27, 1, 1, 9, 1, 1, 1, 4, 1, 1, 1, 4, 1, 1, 1, 1, 1, 56, 1, 1, 1, 1, 74, 2, 1, 74, 57, 3, 1, 28, 9, 27, 1, 1, 1, 1, 1, 1, 1, 1, 1, 1, 1, 1, 74, 1, 1, 1, 1, 19, 26, 1, 24, 46, 2, 1, 3, 4, 1, 15, 1, 14, 1, 1, 6, 1, 20, 1, 2, 1, 8, 70, 29, 9, 1, 1, 1, 1], [1, 1, 69, 8, 1, 6, 42, 7, 85, 6, 1, 1, 1, 2, 87, 6, 1, 1, 11, 59, 1, 1, 43, 8, 1, 1, 1, 48, 1, 1, 32, 1, 21, 1], [87, 30, 14, 4, 1, 11, 5, 7, 1, 1, 19, 1, 8, 1, 58, 37, 44, 43, 59, 85, 1, 44, 16, 1, 26, 15, 1, 48, 65, 53, 6, 1, 1, 11, 15, 43], [80, 30, 44, 40, 5, 7, 80, 30, 1, 1, 1, 72, 1, 1, 41, 5, 7, 15, 1, 58, 1, 1, 1, 1, 1, 1, 1, 80, 30, 1, 41, 72, 85, 1, 1, 1, 6, 82, 1, 1, 19, 1, 1, 1, 27, 1, 74, 1, 1, 1, 8, 1, 1, 1, 1, 1, 18, 60, 80, 72, 6, 11, 1, 94, 13, 1, 2, 10, 1, 6, 1, 38, 26, 1, 4, 2, 1, 13, 1, 91, 54, 36, 1], [80, 30, 1, 44, 8, 5, 7, 1, 52, 1, 69, 8, 1, 1, 67, 23, 1, 1, 95, 8, 1, 1, 3, 24, 1], [4, 1, 86, 50, 1, 1, 1, 35, 86, 50, 1, 1, 4, 1, 1, 1, 44, 1, 1, 1, 1, 1, 88, 10, 1, 1, 1, 1, 1, 1], [12, 5, 7, 1, 1, 4, 35, 1, 1, 21, 1, 40, 71, 90, 48, 39, 1, 70, 1, 1, 10, 1, 4, 1, 1, 39, 1, 1, 1, 51, 1, 1, 39, 1, 10, 1, 1, 4, 1, 1, 36, 13, 57, 1, 21, 1, 18, 1, 4, 1, 2, 1, 1, 1, 4, 1, 78, 49, 35, 1, 1, 8, 1, 57, 1, 2, 1, 1, 1, 20, 1, 54, 1, 86, 50, 16, 1, 1, 82], [59, 18, 11, 3, 1, 1, 45, 1, 1, 54, 14, 40, 5, 7, 25, 1, 1, 1, 1, 2, 1], [80, 30, 44, 19, 1, 1, 8, 5, 7, 1, 93, 62, 87, 1, 25, 22, 55, 28, 1, 2, 7, 1, 1, 1, 93, 8, 91, 1, 2, 3, 1, 1, 73, 1, 6, 84, 1, 3, 87], [8, 47, 1, 3, 1, 1, 8, 1, 25, 5, 7, 99, 1, 1, 34, 1, 68, 28, 53, 30, 1, 4, 1, 12, 14, 1, 2, 60, 35, 69, 9, 1, 66, 1, 1, 1, 3, 10, 29, 1, 1, 1, 1, 4], [1, 44, 6, 1, 81, 1, 15, 5, 7, 2, 1, 64, 3, 4, 1, 14, 44, 8, 17, 5, 7, 71, 90, 56, 1, 6, 1, 1, 73, 1, 81, 1, 95, 6, 1, 1, 1, 12, 1, 15, 1, 19, 1, 1, 9, 1, 1, 1, 44, 30, 14, 1, 4, 1, 1, 1, 4, 1, 17, 14, 73, 17, 1, 1, 15, 1, 1, 1, 4, 95, 6, 71, 90, 1, 1, 23, 44, 29, 1, 1, 9, 1, 4, 58, 1, 8, 17, 83, 1, 1, 4, 1, 1, 3, 1, 16, 1, 13, 17, 1, 1, 2, 71, 90, 1, 1, 4, 1, 1, 1, 1, 1, 1, 6, 84, 1, 1, 1, 4, 1, 1, 18, 1, 1, 2, 29, 1, 1, 6, 84, 1, 1, 1, 1, 1, 1, 1, 9, 10, 1, 26, 71, 90, 1, 41, 1, 56, 1, 1, 1, 4, 1, 1, 31, 4, 1, 95, 6, 1, 1, 1, 1, 10, 1, 11, 3, 1, 1, 8, 1, 1, 1, 1, 1, 1, 1, 28, 6, 34, 1, 84, 1, 1, 1, 2, 4, 58, 1, 1, 1, 1, 1, 1, 1, 4, 10, 1, 1, 1, 16, 1, 1, 64, 13, 1, 1, 1, 92, 48, 4, 1, 31, 1, 1, 1, 1, 4, 4, 1, 1, 82, 64, 1, 1, 1, 2, 1, 1, 1, 1, 1, 1, 1, 1, 1, 1, 1, 2, 1, 1, 1, 64, 4, 1, 1, 6, 1, 1, 4, 1, 3, 1, 1, 1, 1, 1, 64, 1, 1, 10, 1, 1, 1, 64, 1, 1, 4, 1, 1, 1, 1, 4, 9, 1, 1, 1, 4, 58, 1, 8, 1, 2, 1, 1, 64, 1, 1, 1, 1, 1, 1, 9, 10, 1, 4, 1, 1, 1, 1, 2, 88, 1, 16, 1, 1, 1, 1, 10, 66, 29, 1, 1, 1, 4, 1, 1, 1, 1, 1, 3, 1, 1, 1, 1, 1, 1, 6, 1, 1, 1, 2, 1, 29, 1, 72, 1, 29, 1, 79, 1, 1, 56, 24, 1, 94, 1, 1, 1, 1, 2, 78, 1, 34, 1, 1, 73, 1, 1, 2, 49, 1, 1, 1, 1, 1, 1, 1, 9, 76, 1, 24, 76, 1, 1, 1, 1, 1, 1, 8, 7, 1, 2, 4, 1, 1, 1, 1, 1, 1, 2, 1, 1, 1, 1, 4, 1, 1, 1, 1, 1, 1, 1, 79, 1, 78, 1, 1, 34, 1, 1, 1, 1, 1, 1, 1, 1, 1, 1, 1, 3, 1, 4, 44, 8, 71, 3, 69, 15, 1, 2, 1, 19, 1, 1, 1, 1, 1, 62, 10, 1, 2, 1, 1, 30, 14, 9, 10, 1, 1, 1, 1, 1, 1, 1, 1, 1, 29, 10, 1, 1, 1, 1, 79, 1, 10, 1, 1, 3, 1, 1, 1, 68, 39, 88, 1, 1, 1, 1, 88, 1, 96, 1, 60, 16, 68, 1, 64, 31, 1, 1, 1, 1, 1, 1, 1, 18, 4, 1, 1, 10, 1, 1, 1, 1, 1, 2, 1, 1, 1, 32, 49, 1, 1, 1, 64, 56, 57, 2, 1, 1, 1, 1, 2, 1, 1, 1, 1, 1, 4, 95, 6, 1, 1, 1, 1, 1, 1, 1, 57, 3, 4, 1, 49, 1, 65, 53, 77, 1, 1, 1, 1, 53, 1, 30, 62, 3, 1, 3, 1, 14, 1, 1, 1, 1, 1, 1, 1, 1, 1, 74, 1, 1, 1, 2, 1, 1, 1, 63, 1, 64, 85, 49, 1, 2, 1, 1, 1, 1, 1, 1, 15, 11, 2, 1, 1, 1, 64, 1, 1, 1, 95, 6, 1, 1, 1, 1, 1, 1, 7, 1, 1, 1, 2, 1, 15, 1, 1, 32, 1, 1, 1, 26, 3, 95, 6, 1, 1, 2, 4, 6, 1, 9, 1, 1, 1, 34, 1, 1, 3, 9, 1, 26, 1, 1, 1, 1, 1, 1, 1, 4, 1, 2, 1, 1, 57, 1, 1, 2, 1, 1, 1, 95, 85, 1, 31, 1, 1, 1, 28, 2, 1, 1, 57, 6, 1, 3, 1, 6, 90, 81, 62, 1, 1, 1, 1, 74, 85, 1, 1, 1, 1, 3, 24, 1, 74, 1, 1, 1, 32, 57, 1, 1, 1, 7, 1, 1, 1, 2, 1, 15, 1, 8, 1, 1, 1, 1, 1, 32, 1, 1, 1, 1, 26, 3, 95, 6, 1, 1, 2, 1, 1, 3, 83, 16, 6, 71, 90, 18, 1, 9, 10, 1, 3, 1, 1, 1, 31, 1, 6, 84, 1, 1, 1, 1, 20, 1, 2, 1, 31, 1, 15, 11, 29, 1, 1, 1, 1, 1, 26, 2, 58, 1, 1, 19, 1, 1, 9, 10, 1, 1, 1, 26, 71, 90, 1, 1, 4, 1, 1, 1, 2, 1, 1, 2, 1, 1, 4, 31, 32, 1, 1, 1, 1, 1, 64, 56, 57, 1, 1, 57, 6, 12, 5, 7, 1, 14, 1, 4, 9, 1, 69, 1, 1, 1, 1, 1, 9, 1, 4, 1, 17, 14, 1, 72, 66, 1, 1, 72, 1, 1, 4, 62, 1, 1, 41, 71, 1, 17, 1, 1, 79, 56, 1, 1, 1, 1, 41, 1, 56, 1, 1, 1, 1, 68, 1, 64, 49, 14, 3, 1, 4, 1, 2, 9, 1], [68, 86, 50, 10, 1, 1, 13, 86, 50, 1, 68, 99, 1, 1, 1, 1, 53, 1, 2, 1, 6, 1, 86, 50, 3, 83, 1, 19, 11, 58, 1, 1, 26, 83, 1, 71, 1, 77, 60, 38, 20, 33, 10, 1, 1, 3, 20, 1, 89, 9, 1, 1, 1, 1, 26, 83, 28, 1, 8, 1, 1, 1, 1, 1, 1, 10, 39, 1, 70, 51, 9, 1, 1, 1, 1, 11, 62, 87, 1, 4, 1, 1, 1, 44, 2, 1, 1, 1, 47, 1, 1, 1, 52, 1, 27, 1, 68, 57, 1, 79, 1, 27, 1, 1, 4, 1, 1, 1, 1, 1, 1, 1, 1, 1, 1, 1, 52, 2, 68, 35, 49, 14, 1, 24, 1], [15, 1, 1, 23, 1, 21, 67, 1, 1, 1, 4, 1, 12, 1, 1, 28, 1, 29, 9, 10, 1, 1, 1, 91, 1, 72, 88, 10, 1, 69, 41, 42, 7, 1, 1, 1, 1], [5, 7, 73, 66, 3, 67, 1, 1, 1, 36, 3, 1, 48, 1, 10, 96, 66, 91, 1, 1, 3, 55, 1, 54, 36, 29, 79, 1, 1, 1, 1, 1, 1, 13, 1, 70, 3, 10, 6, 1, 38, 1], [1, 4, 1, 1, 71, 1, 1, 42, 1, 1, 15, 1, 19, 1, 1, 1, 1, 1, 11, 1, 1, 11, 1, 1, 49, 1, 1, 79, 34, 36, 1, 1, 1, 2, 1, 1, 1, 1, 69, 42, 56, 1, 1, 1, 1, 1, 3, 1, 1, 1, 1, 1, 1, 1, 1, 1, 8, 1, 82, 1, 1, 1], [5, 7, 1, 66, 1, 1, 3, 1, 1, 8, 1, 1, 1, 13, 1, 1, 12, 24, 33, 8, 47, 3, 20, 1, 5, 7, 1, 78, 2, 7, 13, 1], [4, 1, 40, 12, 14, 1, 67, 23, 2, 1, 9, 1, 1, 2, 1, 25, 93, 1, 1, 10, 70, 6, 1, 89, 1, 1, 1, 1, 1, 2, 1, 1, 1, 1, 5, 7, 2, 1, 1, 1], [12, 8, 23, 1, 1, 1, 5, 7, 8, 82, 1, 1, 1, 53, 55, 7, 1, 2, 1, 1, 92, 1, 1, 1, 1, 6, 1, 38, 9, 1, 72, 13, 1, 99, 93, 13, 1, 43, 12, 1, 1, 77, 97, 1, 77, 1], [5, 7, 73, 17, 12, 15, 1, 42, 7, 8, 47, 24, 1, 51, 1, 52, 75, 12, 5, 7, 1, 1, 1, 1, 1, 1, 94, 40, 1, 51, 1, 6, 1, 1, 1, 89, 1, 99, 1, 1, 9, 1, 1, 1, 1, 13, 1, 49, 1, 2, 91, 9, 1, 1, 1, 4, 1, 1, 1, 25, 5, 7, 1, 15, 42, 7], [5, 7, 1, 17, 3, 1, 56, 1, 15, 42, 7, 1, 18, 32, 96, 1, 3, 27, 1, 8, 5, 7, 14, 1, 1, 1, 24, 22, 6, 1, 1, 42, 7, 48, 1, 1, 8, 17, 83, 62, 1, 79, 1, 3, 1, 4, 1, 5, 7, 73, 1, 1, 3, 6, 1, 18, 1, 4, 1, 1, 4, 24, 1, 19, 1, 72, 1, 1, 4, 1, 1, 5, 5, 3, 1, 1, 1, 8, 1, 39, 1, 1, 1, 1, 2, 1, 6, 1, 11, 1, 14, 24, 1, 1, 79, 1, 8, 1, 1, 1, 14, 1, 19, 1, 1, 1, 1, 43, 12, 28, 3, 1, 16, 29, 78, 1, 2, 7, 1, 1, 72, 9, 27, 16, 1, 17, 1, 1, 1, 1, 13, 47, 1, 8, 1, 3, 1, 1, 15, 1, 1, 1, 37], [5, 7, 15, 1, 19, 1, 8, 1, 12, 1, 14, 1, 77, 97, 1, 86, 50, 1, 1, 1, 78, 94, 2, 1, 7, 1, 3, 1, 19, 26, 1, 4, 1, 1, 1, 1, 1, 1, 6, 1, 1, 1, 1, 38, 73, 68, 24, 5, 7, 13, 47, 1, 1, 1], [1, 4, 1, 1, 1, 2, 1, 1, 40, 5, 7, 1, 1, 1, 6, 1, 5, 7, 1, 1, 1, 6, 11, 2, 1, 28, 3, 1], [36, 40, 1, 1, 11, 73, 1, 1, 65, 3, 1, 8, 23, 2, 1, 75, 31, 3, 21, 1, 2, 1, 1, 12, 1, 75, 31, 3, 69, 6, 1, 1, 1, 1, 23, 1, 1, 1, 2, 4, 1, 1, 15, 5, 7, 1, 13, 1, 19, 1, 1, 2, 4, 27, 1, 19, 1, 8, 1, 12, 3, 33, 1, 1, 1, 15, 1, 1, 1, 1, 5, 7, 1, 1, 1, 15, 1, 36, 1], [1, 40, 1, 12, 1, 1, 1, 1, 1, 1, 1, 1, 53, 1, 30, 15, 11, 3, 1, 85, 3, 1, 1, 53, 1, 4, 1, 1, 6, 1, 4, 1, 1, 1, 25, 6, 34, 11, 1, 1, 1, 1, 1, 48, 4, 1, 1, 1, 8, 25, 5, 1, 1, 1, 1, 43, 1, 23, 61, 1, 5, 1, 3, 10, 6, 34, 84, 1, 1, 6, 31, 4, 1, 6, 1, 1, 4, 1, 6, 11, 1, 11, 4, 5, 1, 1, 4, 1, 1, 37, 5, 1, 1, 88, 1, 1, 1, 1, 1, 48, 23, 4, 1, 19, 34, 1, 37, 10, 1, 1, 3, 1, 1, 1, 1, 1, 1, 37, 74, 1, 1, 1, 1, 4, 1, 1, 1, 1, 1, 1, 1, 1, 4, 35, 1, 1, 1, 6, 31, 4, 1, 6, 1, 27, 19, 1, 1, 1, 13, 1, 1, 1, 1, 56, 1, 1, 1, 27, 1, 4, 1, 1, 19, 1, 15, 1, 5, 1, 3, 1, 1, 6, 34, 11, 48, 1, 1, 37, 1, 1, 1, 13, 1, 19, 1, 2, 1, 1, 1, 19, 1, 1, 1, 1, 13, 19, 1, 5, 1, 1, 1, 4, 1, 1, 1, 1, 41, 1, 1, 1, 1, 1, 1, 30, 88, 1, 1, 1, 2, 4, 1, 1, 1, 4, 16, 10, 12, 1, 19, 1, 1, 1, 15, 1, 19, 1, 15, 75, 4, 1, 11, 1, 1, 4, 1, 1, 4, 3, 1, 6, 1, 1, 1, 1, 1, 16, 48, 1, 1, 1, 74, 1, 1, 72, 4, 1, 1, 48, 4, 1, 1, 69, 25, 3, 1, 4, 9, 1, 69, 1, 1, 1, 3, 1, 1, 27, 24, 1, 74, 1, 13, 1, 1, 1, 1, 1, 1, 3, 29, 1, 1, 1, 1, 1, 6, 1, 1, 1, 1, 1, 1, 1, 1, 6, 1, 1, 1, 62, 96, 1, 1, 3, 83, 37, 3, 27, 1, 24, 93, 74, 1, 20, 1, 1, 1, 1, 4, 1, 1, 5, 1, 1, 6, 1, 1, 1, 1, 1, 60, 1, 1, 5, 1, 1, 1, 1, 1, 1, 1, 1, 1, 1, 1, 1, 1, 1, 1, 1, 1, 1, 1, 1, 60], [12, 1, 4, 41, 5, 7, 3, 90, 14, 1, 63, 11, 1, 15, 42, 1, 1, 93, 1, 16, 33, 1, 1, 16, 1, 1, 16, 76, 1, 23, 32, 4, 44, 1, 9, 10, 1, 69, 1, 2, 1, 16, 1], [1, 1, 12, 72, 26, 1, 1, 1, 56, 1, 15, 1, 35, 1, 1, 1, 26, 1, 1, 96, 66, 48, 1, 1, 1, 1, 1, 8, 1, 26, 1, 1, 1, 5, 7, 8, 47, 1, 24, 1], [80, 30, 44, 19, 1, 40, 5, 7, 40, 71, 1, 1, 1, 95, 2, 1, 1, 38, 92, 1, 1, 1, 1, 99, 13, 71, 1, 1, 60, 9, 1, 1, 13, 1, 39, 1, 58, 1], [1, 3, 1, 2, 25, 3, 1, 1, 1, 13, 1, 74, 1, 25, 1], [1, 1, 47, 1, 5, 7, 1, 47, 1, 1, 1, 1, 26, 21, 1, 1, 47, 62, 34, 1, 52, 2, 1, 6, 34, 11, 1, 65, 13, 1, 1, 5, 7, 1, 82, 1, 1, 65, 9, 1, 13, 1, 1], [34, 1, 36, 1, 1, 92, 55, 28, 25, 24, 22, 15, 1, 28, 1, 1, 57, 1, 2, 1, 1, 1, 1, 1, 6, 11, 72, 1, 1, 72, 1, 1, 6, 1, 11, 1], [5, 7, 62, 63, 1, 8, 42, 7, 1, 1, 30, 1, 13, 41, 1, 5, 7, 1, 59, 18, 5, 63, 1, 8, 42, 7, 3, 1, 1, 1, 59, 1, 1, 1, 1, 1, 5, 7, 1, 1, 63, 66, 15, 75, 42, 7], [31, 80, 30, 5, 7, 1, 68, 71, 90, 1, 68, 1, 49, 1, 1, 1, 6, 1, 1, 3, 1, 1, 1, 1, 2, 1, 31, 4, 44, 1, 5, 30, 14, 68, 1, 2, 1, 1, 1, 1, 3, 1, 1, 1, 1, 1, 2, 82, 1, 13, 68, 1, 1, 69, 1, 4, 62, 1, 1, 1, 3, 1, 1, 1, 1, 1, 5, 1, 1, 1, 1, 1, 1, 37, 1, 1, 2, 1, 13, 1, 30, 14, 1, 1, 1, 2, 1, 66, 1, 29, 1, 7, 1, 2, 1, 1, 25, 31, 85, 1, 62, 10, 65, 1, 1, 2, 1, 1, 3, 1, 1, 1, 4, 1, 1, 1, 1, 82, 24, 96, 2, 1, 1, 1, 24, 1, 2, 38, 24, 33, 1, 1, 28, 1, 1, 5, 7, 1, 72, 66], [1, 25, 28, 2, 16, 39, 1, 21, 22, 2, 1, 33, 13, 1, 44, 1, 5, 7, 1, 28, 1], [1, 1, 22, 2, 33, 22, 52, 1, 25, 1, 1, 26, 1, 1, 1, 1, 1, 1, 86, 50, 1, 20, 1, 2, 1, 29, 79, 1, 10, 1, 8, 1, 63, 1, 1, 1, 1, 1, 34, 1, 1, 2, 1, 1, 1, 1, 10, 1, 1, 34, 1, 1, 1, 51, 1, 1, 1, 17, 22, 4, 1, 1, 17, 14], [4, 1, 8, 11, 14, 18, 1, 2, 96, 66, 1, 51, 1, 13, 1, 1, 58, 1, 1, 1, 14, 16, 1, 94, 54, 12], [30, 14, 1, 1, 43, 1, 88, 10, 1, 69, 1, 1, 53, 1, 1, 1, 43, 1, 6, 1, 1, 43, 1], [45, 21, 1, 41, 5, 7, 32, 1, 75, 31, 1, 5, 7, 1, 1, 45, 21, 1, 12, 1, 19, 1, 8, 1, 67, 23, 1, 8, 1, 1, 1, 31, 14, 5, 7, 96, 1, 1, 1, 8, 1, 1, 1, 1, 1, 1, 44, 5, 7, 1, 45, 75, 31, 60, 1, 19, 1, 1, 1, 45, 1, 1, 18, 59, 3, 1, 43, 8, 1, 1, 2, 45, 21, 1, 2, 1, 1, 18, 5, 7, 1, 1, 1, 3, 45, 1, 1, 15, 1, 1, 1, 3, 9, 1, 1, 1, 15, 1, 1, 84, 45, 2, 1, 1, 58, 1, 1, 19, 1, 1, 13, 1, 1, 1, 1, 45, 5, 7, 58, 27, 1, 1, 1, 13, 1, 1, 6, 1, 1, 1, 5, 13, 11, 2, 1, 64, 1, 25, 1, 1, 1, 5, 7, 1, 58, 1, 49, 1, 1, 1, 39, 49, 1, 6, 1, 18, 62, 10, 1, 3, 9, 1, 1, 39, 1, 5, 7, 1, 5, 7, 16], [12, 1, 1, 2, 1, 1, 7, 9, 1, 96, 1, 1, 37, 29, 55, 78, 1, 1, 1, 2, 1, 3, 1, 1, 1, 69, 79, 12, 59, 43, 9, 10, 1, 1, 23, 1, 57, 1, 1, 2, 1, 1, 1, 1, 1, 1, 1, 9, 10, 1, 8, 1, 60], [1, 30, 14, 8, 5, 7, 1, 1, 3, 1, 1, 1, 32, 73, 15, 1, 1, 1, 15, 52, 3, 10, 6, 34, 64, 4, 1, 1, 79, 8, 1, 28, 1, 2, 87, 30, 14, 41, 5, 7, 8, 12, 3, 24, 15, 1, 48, 9, 10, 68, 1, 6, 1, 38, 48, 15, 1, 3, 58, 1, 32, 1, 1, 1, 1, 8, 1, 25, 57, 1, 4, 3, 1, 1, 1, 1, 24, 1, 8, 1, 57, 3, 1, 1, 1, 4, 54, 14, 3, 4, 1, 57, 3, 46, 2, 1, 1, 1, 1, 32, 1, 15, 17, 1, 1, 14, 48, 53, 6, 1, 8, 1, 57, 17, 5, 7, 1, 1, 1, 15, 1, 4, 1, 25, 6, 1, 64, 1, 1, 64, 5, 7, 14, 1]]\n"
     ]
    }
   ],
   "source": [
    "train_seqs = tokenizer.texts_to_sequences(trainX)\n",
    "val_seqs = tokenizer.texts_to_sequences(valX)\n",
    "test_seqs = tokenizer.texts_to_sequences(testX)\n",
    "\n",
    "print(train_seqs)"
   ]
  },
  {
   "cell_type": "code",
   "execution_count": 352,
   "metadata": {},
   "outputs": [
    {
     "name": "stdout",
     "output_type": "stream",
     "text": [
      "pesawat ini delay sekitar  jam di pesawat tidak ada hiburan biasanya batik ada hiburan film dsb juga tidak ada tempat buat charge hp di pesawat batik yang lain ada untungnya makanan masih diberikan berupa kue dan roti rasa roti dan kue nya standar\n",
      "[11, 14, 59, 1, 43, 6, 11, 9, 10, 39, 1, 5, 10, 39, 91, 1, 16, 9, 10, 1, 1, 1, 1, 6, 11, 5, 3, 83, 10, 1, 28, 62, 1, 1, 1, 2, 78, 1, 78, 2, 1, 37, 1]\n"
     ]
    }
   ],
   "source": [
    "print(trainX[10])\n",
    "print(train_seqs[10])"
   ]
  },
  {
   "cell_type": "code",
   "execution_count": 353,
   "metadata": {},
   "outputs": [
    {
     "name": "stdout",
     "output_type": "stream",
     "text": [
      "minimum number of words: 15\n",
      "median number of words: 41.5\n",
      "average number of words: 62.72834645669291\n",
      "maximum number of words: 875\n"
     ]
    }
   ],
   "source": [
    "from tensorflow.keras.preprocessing.sequence import pad_sequences\n",
    "\n",
    "l = [len(i) for i in train_seqs]\n",
    "l = np.array(l)\n",
    "\n",
    "print('minimum number of words: {}'.format(l.min()))\n",
    "print('median number of words: {}'.format(np.median(l)))\n",
    "print('average number of words: {}'.format(l.mean()))\n",
    "print('maximum number of words: {}'.format(l.max()))"
   ]
  },
  {
   "cell_type": "code",
   "execution_count": 354,
   "metadata": {},
   "outputs": [],
   "source": [
    "PADDING = 'pre'\n",
    "\n",
    "train_seqs = pad_sequences(train_seqs, padding=PADDING)\n",
    "val_seqs = pad_sequences(val_seqs, padding=PADDING)\n",
    "test_seqs = pad_sequences(test_seqs, padding=PADDING)"
   ]
  },
  {
   "cell_type": "code",
   "execution_count": 355,
   "metadata": {},
   "outputs": [
    {
     "name": "stdout",
     "output_type": "stream",
     "text": [
      "pesawat ini delay sekitar  jam di pesawat tidak ada hiburan biasanya batik ada hiburan film dsb juga tidak ada tempat buat charge hp di pesawat batik yang lain ada untungnya makanan masih diberikan berupa kue dan roti rasa roti dan kue nya standar\n",
      "[ 0  0  0  0  0  0  0  0  0  0  0  0  0  0  0  0  0  0  0  0  0  0  0  0\n",
      "  0  0  0  0  0  0  0  0  0  0  0  0  0  0  0  0  0  0  0  0  0  0  0  0\n",
      "  0  0  0  0  0  0  0  0  0  0  0  0  0  0  0  0  0  0  0  0  0  0  0  0\n",
      "  0  0  0  0  0  0  0  0  0  0  0  0  0  0  0  0  0  0  0  0  0  0  0  0\n",
      "  0  0  0  0  0  0  0  0  0  0  0  0  0  0  0  0  0  0  0  0  0  0  0  0\n",
      "  0  0  0  0  0  0  0  0  0  0  0  0  0  0  0  0  0  0  0  0  0  0  0  0\n",
      "  0  0  0  0  0  0  0  0  0  0  0  0  0  0  0  0  0  0  0  0  0  0  0  0\n",
      "  0  0  0  0  0  0  0  0  0  0  0  0  0  0  0  0  0  0  0  0  0  0  0  0\n",
      "  0  0  0  0  0  0  0  0  0  0  0  0  0  0  0  0  0  0  0  0  0  0  0  0\n",
      "  0  0  0  0  0  0  0  0  0  0  0  0  0  0  0  0  0  0  0  0  0  0  0  0\n",
      "  0  0  0  0  0  0  0  0  0  0  0  0  0  0  0  0  0  0  0  0  0  0  0  0\n",
      "  0  0  0  0  0  0  0  0  0  0  0  0  0  0  0  0  0  0  0  0  0  0  0  0\n",
      "  0  0  0  0  0  0  0  0  0  0  0  0  0  0  0  0  0  0  0  0  0  0  0  0\n",
      "  0  0  0  0  0  0  0  0  0  0  0  0  0  0  0  0  0  0  0  0  0  0  0  0\n",
      "  0  0  0  0  0  0  0  0  0  0  0  0  0  0  0  0  0  0  0  0  0  0  0  0\n",
      "  0  0  0  0  0  0  0  0  0  0  0  0  0  0  0  0  0  0  0  0  0  0  0  0\n",
      "  0  0  0  0  0  0  0  0  0  0  0  0  0  0  0  0  0  0  0  0  0  0  0  0\n",
      "  0  0  0  0  0  0  0  0  0  0  0  0  0  0  0  0  0  0  0  0  0  0  0  0\n",
      "  0  0  0  0  0  0  0  0  0  0  0  0  0  0  0  0  0  0  0  0  0  0  0  0\n",
      "  0  0  0  0  0  0  0  0  0  0  0  0  0  0  0  0  0  0  0  0  0  0  0  0\n",
      "  0  0  0  0  0  0  0  0  0  0  0  0  0  0  0  0  0  0  0  0  0  0  0  0\n",
      "  0  0  0  0  0  0  0  0  0  0  0  0  0  0  0  0  0  0  0  0  0  0  0  0\n",
      "  0  0  0  0  0  0  0  0  0  0  0  0  0  0  0  0  0  0  0  0  0  0  0  0\n",
      "  0  0  0  0  0  0  0  0  0  0  0  0  0  0  0  0  0  0  0  0  0  0  0  0\n",
      "  0  0  0  0  0  0  0  0  0  0  0  0  0  0  0  0  0  0  0  0  0  0  0  0\n",
      "  0  0  0  0  0  0  0  0  0  0  0  0  0  0  0  0  0  0  0  0  0  0  0  0\n",
      "  0  0  0  0  0  0  0  0  0  0  0  0  0  0  0  0  0  0  0  0  0  0  0  0\n",
      "  0  0  0  0  0  0  0  0  0  0  0  0  0  0  0  0  0  0  0  0  0  0  0  0\n",
      "  0  0  0  0  0  0  0  0  0  0  0  0  0  0  0  0  0  0  0  0  0  0  0  0\n",
      "  0  0  0  0  0  0  0  0  0  0  0  0  0  0  0  0  0  0  0  0  0  0  0  0\n",
      "  0  0  0  0  0  0  0  0  0  0  0  0  0  0  0  0  0  0  0  0  0  0  0  0\n",
      "  0  0  0  0  0  0  0  0  0  0  0  0  0  0  0  0  0  0  0  0  0  0  0  0\n",
      "  0  0  0  0  0  0  0  0  0  0  0  0  0  0  0  0  0  0  0  0  0  0  0  0\n",
      "  0  0  0  0  0  0  0  0  0  0  0  0  0  0  0  0  0  0  0  0  0  0  0  0\n",
      "  0  0  0  0  0  0  0  0  0  0  0  0  0  0  0  0 11 14 59  1 43  6 11  9\n",
      " 10 39  1  5 10 39 91  1 16  9 10  1  1  1  1  6 11  5  3 83 10  1 28 62\n",
      "  1  1  1  2 78  1 78  2  1 37  1]\n"
     ]
    }
   ],
   "source": [
    "print(trainX[10])\n",
    "print(train_seqs[10])"
   ]
  },
  {
   "cell_type": "code",
   "execution_count": 356,
   "metadata": {},
   "outputs": [
    {
     "name": "stderr",
     "output_type": "stream",
     "text": [
      "c:\\ProgramData\\Anaconda3\\lib\\site-packages\\keras\\optimizers\\optimizer_v2\\gradient_descent.py:114: UserWarning: The `lr` argument is deprecated, use `learning_rate` instead.\n",
      "  super().__init__(name, **kwargs)\n"
     ]
    }
   ],
   "source": [
    "from keras.models import Sequential\n",
    "from keras.layers import Embedding, Conv1D, MaxPooling1D, Bidirectional, LSTM, Dense, Dropout\n",
    "from keras.optimizers import SGD\n",
    "\n",
    "epochs=35\n",
    "learning_rate = 0.1\n",
    "decay_rate = learning_rate / epochs\n",
    "momentum = 0.8\n",
    "\n",
    "sgd = SGD(lr=learning_rate, momentum=momentum, decay=decay_rate, nesterov=False)\n",
    "\n",
    "model= Sequential()\n",
    "model.add(Embedding(len(word_index),200))\n",
    "model.add(Conv1D(filters=32, kernel_size=3, padding='same', activation='relu'))\n",
    "model.add(MaxPooling1D(pool_size=2))\n",
    "model.add(Bidirectional(LSTM(100)))\n",
    "model.add(Dropout(0.4))\n",
    "model.add(Dense(2, activation='softmax'))"
   ]
  },
  {
   "cell_type": "code",
   "execution_count": 357,
   "metadata": {},
   "outputs": [
    {
     "data": {
      "image/png": "[encoded data removed]",
      "text/plain": [
       "<IPython.core.display.Image object>"
      ]
     },
     "execution_count": 357,
     "metadata": {},
     "output_type": "execute_result"
    }
   ],
   "source": [
    "import tensorflow as tf\n",
    "tf.keras.utils.plot_model(model, show_shapes=True)"
   ]
  },
  {
   "cell_type": "code",
   "execution_count": 358,
   "metadata": {},
   "outputs": [],
   "source": [
    "model.compile(loss='categorical_crossentropy', \n",
    "              optimizer='adam', \n",
    "              metrics=['accuracy'])"
   ]
  },
  {
   "cell_type": "code",
   "execution_count": 359,
   "metadata": {},
   "outputs": [
    {
     "name": "stdout",
     "output_type": "stream",
     "text": [
      "Epoch 1/35\n",
      "8/8 [==============================] - 11s 765ms/step - loss: 0.6511 - accuracy: 0.6614 - val_loss: 0.6779 - val_accuracy: 0.6235\n",
      "Epoch 2/35\n",
      "8/8 [==============================] - 5s 580ms/step - loss: 0.6358 - accuracy: 0.6693 - val_loss: 0.6547 - val_accuracy: 0.6235\n",
      "Epoch 3/35\n",
      "8/8 [==============================] - 4s 540ms/step - loss: 0.6228 - accuracy: 0.6693 - val_loss: 0.6525 - val_accuracy: 0.6235\n",
      "Epoch 4/35\n",
      "8/8 [==============================] - 4s 539ms/step - loss: 0.6128 - accuracy: 0.6693 - val_loss: 0.6338 - val_accuracy: 0.6235\n",
      "Epoch 5/35\n",
      "8/8 [==============================] - 4s 535ms/step - loss: 0.5905 - accuracy: 0.6693 - val_loss: 0.6063 - val_accuracy: 0.6235\n",
      "Epoch 6/35\n",
      "8/8 [==============================] - 5s 649ms/step - loss: 0.5445 - accuracy: 0.6732 - val_loss: 0.5772 - val_accuracy: 0.6471\n",
      "Epoch 7/35\n",
      "8/8 [==============================] - 5s 609ms/step - loss: 0.4943 - accuracy: 0.7205 - val_loss: 0.5739 - val_accuracy: 0.6235\n",
      "Epoch 8/35\n",
      "8/8 [==============================] - 5s 596ms/step - loss: 0.4680 - accuracy: 0.7795 - val_loss: 0.6356 - val_accuracy: 0.6941\n",
      "Epoch 9/35\n",
      "8/8 [==============================] - 5s 620ms/step - loss: 0.4399 - accuracy: 0.7874 - val_loss: 0.5648 - val_accuracy: 0.6588\n",
      "Epoch 10/35\n",
      "8/8 [==============================] - 4s 562ms/step - loss: 0.3796 - accuracy: 0.8307 - val_loss: 0.5558 - val_accuracy: 0.7294\n",
      "Epoch 11/35\n",
      "8/8 [==============================] - 5s 598ms/step - loss: 0.3279 - accuracy: 0.8819 - val_loss: 0.6383 - val_accuracy: 0.6706\n",
      "Epoch 12/35\n",
      "8/8 [==============================] - 5s 577ms/step - loss: 0.2862 - accuracy: 0.8819 - val_loss: 0.6719 - val_accuracy: 0.6824\n",
      "Epoch 13/35\n",
      "8/8 [==============================] - 5s 681ms/step - loss: 0.2721 - accuracy: 0.8858 - val_loss: 0.6443 - val_accuracy: 0.7059\n",
      "Epoch 14/35\n",
      "8/8 [==============================] - 5s 669ms/step - loss: 0.2699 - accuracy: 0.8819 - val_loss: 0.6402 - val_accuracy: 0.6824\n",
      "Epoch 15/35\n",
      "8/8 [==============================] - 5s 584ms/step - loss: 0.2271 - accuracy: 0.9331 - val_loss: 0.7949 - val_accuracy: 0.7059\n",
      "Epoch 16/35\n",
      "8/8 [==============================] - 4s 559ms/step - loss: 0.1748 - accuracy: 0.9449 - val_loss: 0.7602 - val_accuracy: 0.6824\n",
      "Epoch 17/35\n",
      "8/8 [==============================] - 5s 584ms/step - loss: 0.1396 - accuracy: 0.9528 - val_loss: 0.8835 - val_accuracy: 0.6824\n",
      "Epoch 18/35\n",
      "8/8 [==============================] - 5s 566ms/step - loss: 0.0916 - accuracy: 0.9882 - val_loss: 1.0345 - val_accuracy: 0.6824\n",
      "Epoch 19/35\n",
      "8/8 [==============================] - 5s 583ms/step - loss: 0.1212 - accuracy: 0.9488 - val_loss: 1.0578 - val_accuracy: 0.6941\n",
      "Epoch 20/35\n",
      "8/8 [==============================] - 5s 581ms/step - loss: 0.1539 - accuracy: 0.9646 - val_loss: 0.9621 - val_accuracy: 0.6824\n",
      "Epoch 21/35\n",
      "8/8 [==============================] - 5s 567ms/step - loss: 0.1181 - accuracy: 0.9567 - val_loss: 0.8543 - val_accuracy: 0.7059\n",
      "Epoch 22/35\n",
      "8/8 [==============================] - 5s 595ms/step - loss: 0.1278 - accuracy: 0.9488 - val_loss: 0.9219 - val_accuracy: 0.6706\n",
      "Epoch 23/35\n",
      "8/8 [==============================] - 4s 560ms/step - loss: 0.0990 - accuracy: 0.9685 - val_loss: 0.9959 - val_accuracy: 0.7059\n",
      "Epoch 24/35\n",
      "8/8 [==============================] - 4s 561ms/step - loss: 0.0624 - accuracy: 0.9764 - val_loss: 0.9612 - val_accuracy: 0.7412\n",
      "Epoch 25/35\n",
      "8/8 [==============================] - 4s 559ms/step - loss: 0.0442 - accuracy: 0.9961 - val_loss: 1.0976 - val_accuracy: 0.7059\n",
      "Epoch 26/35\n",
      "8/8 [==============================] - 5s 570ms/step - loss: 0.0278 - accuracy: 1.0000 - val_loss: 1.2425 - val_accuracy: 0.7412\n",
      "Epoch 27/35\n",
      "8/8 [==============================] - 4s 555ms/step - loss: 0.0548 - accuracy: 0.9843 - val_loss: 1.1758 - val_accuracy: 0.7059\n",
      "Epoch 28/35\n",
      "8/8 [==============================] - 4s 557ms/step - loss: 0.0275 - accuracy: 0.9961 - val_loss: 1.1970 - val_accuracy: 0.7176\n",
      "Epoch 29/35\n",
      "8/8 [==============================] - 4s 558ms/step - loss: 0.0135 - accuracy: 1.0000 - val_loss: 1.3565 - val_accuracy: 0.7294\n",
      "Epoch 30/35\n",
      "8/8 [==============================] - 4s 566ms/step - loss: 0.0074 - accuracy: 1.0000 - val_loss: 1.5032 - val_accuracy: 0.7059\n",
      "Epoch 31/35\n",
      "8/8 [==============================] - 4s 560ms/step - loss: 0.0053 - accuracy: 1.0000 - val_loss: 1.6162 - val_accuracy: 0.7059\n",
      "Epoch 32/35\n",
      "8/8 [==============================] - 4s 563ms/step - loss: 0.0041 - accuracy: 1.0000 - val_loss: 1.6303 - val_accuracy: 0.6941\n",
      "Epoch 33/35\n",
      "8/8 [==============================] - 4s 567ms/step - loss: 0.0029 - accuracy: 1.0000 - val_loss: 1.6732 - val_accuracy: 0.6941\n",
      "Epoch 34/35\n",
      "8/8 [==============================] - 5s 682ms/step - loss: 0.0029 - accuracy: 1.0000 - val_loss: 1.7193 - val_accuracy: 0.7059\n",
      "Epoch 35/35\n",
      "8/8 [==============================] - 5s 599ms/step - loss: 0.0024 - accuracy: 1.0000 - val_loss: 1.7333 - val_accuracy: 0.7059\n",
      "CPU times: total: 7min 46s\n",
      "Wall time: 2min 48s\n"
     ]
    }
   ],
   "source": [
    "%%time\n",
    "\n",
    "EPOCH = epochs\n",
    "BATCH_SIZE = 32\n",
    "\n",
    "history_LSTM = model.fit(train_seqs, trainY, epochs=EPOCH, batch_size=BATCH_SIZE, validation_data=(val_seqs, valY))"
   ]
  },
  {
   "cell_type": "code",
   "execution_count": 360,
   "metadata": {},
   "outputs": [],
   "source": [
    "def plot_graphs(history, string):\n",
    "  plt.plot(history.history[string])\n",
    "  plt.plot(history.history['val_'+string])\n",
    "  plt.xlabel(\"Epochs\")\n",
    "  plt.ylabel(string)\n",
    "  plt.legend([string, 'val_'+string])\n",
    "  plt.show()"
   ]
  },
  {
   "cell_type": "code",
   "execution_count": 361,
   "metadata": {},
   "outputs": [
    {
     "data": {
      "image/png": "[encoded data removed]",
      "text/plain": [
       "<Figure size 640x480 with 1 Axes>"
      ]
     },
     "metadata": {},
     "output_type": "display_data"
    },
    {
     "data": {
      "image/png": "[encoded data removed]",
      "text/plain": [
       "<Figure size 640x480 with 1 Axes>"
      ]
     },
     "metadata": {},
     "output_type": "display_data"
    }
   ],
   "source": [
    "plot_graphs(history_LSTM, 'accuracy')\n",
    "plot_graphs(history_LSTM, 'loss')"
   ]
  },
  {
   "cell_type": "code",
   "execution_count": 362,
   "metadata": {},
   "outputs": [
    {
     "name": "stdout",
     "output_type": "stream",
     "text": [
      "\n",
      "Epoch No.  Train Accuracy  Train Loss      Val Accuracy    Val Loss\n",
      "       1   0.661417 \t   0.651136 \t   0.623529 \t   0.677899\n",
      "       2   0.669291 \t   0.635816 \t   0.623529 \t   0.654658\n",
      "       3   0.669291 \t   0.622784 \t   0.623529 \t   0.652523\n",
      "       4   0.669291 \t   0.612809 \t   0.623529 \t   0.633825\n",
      "       5   0.669291 \t   0.590549 \t   0.623529 \t   0.606305\n",
      "       6   0.673228 \t   0.544482 \t   0.647059 \t   0.577169\n",
      "       7   0.720472 \t   0.494274 \t   0.623529 \t   0.573862\n",
      "       8   0.779528 \t   0.467967 \t   0.694118 \t   0.635638\n",
      "       9   0.787402 \t   0.439850 \t   0.658824 \t   0.564750\n",
      "      10   0.830709 \t   0.379570 \t   0.729412 \t   0.555829\n",
      "      11   0.881890 \t   0.327875 \t   0.670588 \t   0.638322\n",
      "      12   0.881890 \t   0.286231 \t   0.682353 \t   0.671871\n",
      "      13   0.885827 \t   0.272091 \t   0.705882 \t   0.644333\n",
      "      14   0.881890 \t   0.269898 \t   0.682353 \t   0.640205\n",
      "      15   0.933071 \t   0.227073 \t   0.705882 \t   0.794946\n",
      "      16   0.944882 \t   0.174796 \t   0.682353 \t   0.760192\n",
      "      17   0.952756 \t   0.139557 \t   0.682353 \t   0.883533\n",
      "      18   0.988189 \t   0.091650 \t   0.682353 \t   1.034487\n",
      "      19   0.948819 \t   0.121184 \t   0.694118 \t   1.057816\n",
      "      20   0.964567 \t   0.153889 \t   0.682353 \t   0.962069\n",
      "      21   0.956693 \t   0.118097 \t   0.705882 \t   0.854281\n",
      "      22   0.948819 \t   0.127786 \t   0.670588 \t   0.921910\n",
      "      23   0.968504 \t   0.099049 \t   0.705882 \t   0.995866\n",
      "      24   0.976378 \t   0.062417 \t   0.741176 \t   0.961228\n",
      "      25   0.996063 \t   0.044199 \t   0.705882 \t   1.097595\n",
      "      26   1.000000 \t   0.027838 \t   0.741176 \t   1.242483\n",
      "      27   0.984252 \t   0.054761 \t   0.705882 \t   1.175794\n",
      "      28   0.996063 \t   0.027535 \t   0.717647 \t   1.197011\n",
      "      29   1.000000 \t   0.013466 \t   0.729412 \t   1.356513\n",
      "      30   1.000000 \t   0.007429 \t   0.705882 \t   1.503159\n",
      "      31   1.000000 \t   0.005251 \t   0.705882 \t   1.616162\n",
      "      32   1.000000 \t   0.004089 \t   0.694118 \t   1.630257\n",
      "      33   1.000000 \t   0.002880 \t   0.694118 \t   1.673162\n",
      "      34   1.000000 \t   0.002928 \t   0.705882 \t   1.719271\n",
      "      35   1.000000 \t   0.002428 \t   0.705882 \t   1.733305\n"
     ]
    }
   ],
   "source": [
    "print('\\nEpoch No.  Train Accuracy  Train Loss      Val Accuracy    Val Loss')\n",
    "for i in range(EPOCH):\n",
    "  print('{:8d} {:10f} \\t {:10f} \\t {:10f} \\t {:10f}'.format(i + 1, history_LSTM.history['accuracy'][i], history_LSTM.history['loss'][i], history_LSTM.history['val_accuracy'][i], history_LSTM.history['val_loss'][i]))"
   ]
  },
  {
   "cell_type": "code",
   "execution_count": 363,
   "metadata": {},
   "outputs": [
    {
     "name": "stdout",
     "output_type": "stream",
     "text": [
      "3/3 [==============================] - 1s 96ms/step\n",
      "3/3 [==============================] - 2s 41ms/step - loss: 2.0304 - accuracy: 0.6353\n"
     ]
    }
   ],
   "source": [
    "y_pred = np.argmax(model.predict(test_seqs), axis=1)\n",
    "y_true = np.argmax(testY, axis=1)\n",
    "\n",
    "loss, accuracy = model.evaluate(test_seqs, testY)"
   ]
  },
  {
   "cell_type": "code",
   "execution_count": 364,
   "metadata": {},
   "outputs": [
    {
     "name": "stdout",
     "output_type": "stream",
     "text": [
      "              precision    recall  f1-score   support\n",
      "\n",
      "           0       0.44      0.39      0.42        28\n",
      "           1       0.72      0.75      0.74        57\n",
      "\n",
      "    accuracy                           0.64        85\n",
      "   macro avg       0.58      0.57      0.58        85\n",
      "weighted avg       0.63      0.64      0.63        85\n",
      "\n"
     ]
    }
   ],
   "source": [
    "from sklearn.metrics import classification_report\n",
    "\n",
    "print(classification_report(y_pred, y_true))"
   ]
  }
 ],
 "metadata": {
  "kernelspec": {
   "display_name": "base",
   "language": "python",
   "name": "python3"
  },
  "language_info": {
   "codemirror_mode": {
    "name": "ipython",
    "version": 3
   },
   "file_extension": ".py",
   "mimetype": "text/x-python",
   "name": "python",
   "nbconvert_exporter": "python",
   "pygments_lexer": "ipython3",
   "version": "3.9.15"
  },
  "orig_nbformat": 4
 },
 "nbformat": 4,
 "nbformat_minor": 2
}
