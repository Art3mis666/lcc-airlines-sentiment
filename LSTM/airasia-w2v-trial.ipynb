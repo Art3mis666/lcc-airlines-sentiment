{
 "cells": [
  {
   "cell_type": "code",
   "execution_count": 53,
   "metadata": {},
   "outputs": [
    {
     "name": "stderr",
     "output_type": "stream",
     "text": [
      "[nltk_data] Downloading package stopwords to C:\\Users\\NAUFAL\n",
      "[nltk_data]     HAFIZH\\AppData\\Roaming\\nltk_data...\n",
      "[nltk_data]   Package stopwords is already up-to-date!\n"
     ]
    },
    {
     "data": {
      "text/plain": [
       "True"
      ]
     },
     "execution_count": 53,
     "metadata": {},
     "output_type": "execute_result"
    }
   ],
   "source": [
    "import pandas as pd\n",
    "import numpy as np\n",
    "import matplotlib.pyplot as plt\n",
    "import seaborn as sns\n",
    "import pickle\n",
    "%matplotlib inline\n",
    "import nltk\n",
    "nltk.download('stopwords')"
   ]
  },
  {
   "cell_type": "code",
   "execution_count": 54,
   "metadata": {},
   "outputs": [
    {
     "data": {
      "text/html": [
       "<div>\n",
       "<style scoped>\n",
       "    .dataframe tbody tr th:only-of-type {\n",
       "        vertical-align: middle;\n",
       "    }\n",
       "\n",
       "    .dataframe tbody tr th {\n",
       "        vertical-align: top;\n",
       "    }\n",
       "\n",
       "    .dataframe thead th {\n",
       "        text-align: right;\n",
       "    }\n",
       "</style>\n",
       "<table border=\"1\" class=\"dataframe\">\n",
       "  <thead>\n",
       "    <tr style=\"text-align: right;\">\n",
       "      <th></th>\n",
       "      <th>text</th>\n",
       "      <th>label</th>\n",
       "    </tr>\n",
       "  </thead>\n",
       "  <tbody>\n",
       "    <tr>\n",
       "      <th>0</th>\n",
       "      <td>Perjalanan pakai airasia dari jkt ke batam, ko...</td>\n",
       "      <td>0</td>\n",
       "    </tr>\n",
       "    <tr>\n",
       "      <th>1</th>\n",
       "      <td>Air Asia adalah salah satu flight terburuk sel...</td>\n",
       "      <td>0</td>\n",
       "    </tr>\n",
       "    <tr>\n",
       "      <th>2</th>\n",
       "      <td>Sekali2 nya nyoba AirAsia ternyata pelayananny...</td>\n",
       "      <td>0</td>\n",
       "    </tr>\n",
       "    <tr>\n",
       "      <th>3</th>\n",
       "      <td>Sangat kecewa dengan masakapai ini, meniningan...</td>\n",
       "      <td>0</td>\n",
       "    </tr>\n",
       "    <tr>\n",
       "      <th>4</th>\n",
       "      <td>Udah di diperjalanan ke bandara, tiba tiba pen...</td>\n",
       "      <td>0</td>\n",
       "    </tr>\n",
       "  </tbody>\n",
       "</table>\n",
       "</div>"
      ],
      "text/plain": [
       "                                                text  label\n",
       "0  Perjalanan pakai airasia dari jkt ke batam, ko...      0\n",
       "1  Air Asia adalah salah satu flight terburuk sel...      0\n",
       "2  Sekali2 nya nyoba AirAsia ternyata pelayananny...      0\n",
       "3  Sangat kecewa dengan masakapai ini, meniningan...      0\n",
       "4  Udah di diperjalanan ke bandara, tiba tiba pen...      0"
      ]
     },
     "execution_count": 54,
     "metadata": {},
     "output_type": "execute_result"
    }
   ],
   "source": [
    "data = pd.read_csv('../data/csv/cleaned/ta-airasia-clean.csv')\n",
    "data.head()"
   ]
  },
  {
   "cell_type": "code",
   "execution_count": 55,
   "metadata": {},
   "outputs": [
    {
     "name": "stdout",
     "output_type": "stream",
     "text": [
      "Jumlah data pada setiap nilai label:\n",
      " 1    600\n",
      "0    199\n",
      "Name: label, dtype: int64\n"
     ]
    }
   ],
   "source": [
    "label_counts = data['label'].value_counts()\n",
    "print('Jumlah data pada setiap nilai label:\\n', label_counts)"
   ]
  },
  {
   "cell_type": "code",
   "execution_count": 56,
   "metadata": {},
   "outputs": [
    {
     "name": "stdout",
     "output_type": "stream",
     "text": [
      "Jumlah data:  799\n",
      "Jumlah ulasan positif:  600\n",
      "Jumlah ulasan negatif:  199\n"
     ]
    }
   ],
   "source": [
    "print(\"Jumlah data: \", len(data))\n",
    "print(\"Jumlah ulasan positif: \", data['label'].value_counts()[1])\n",
    "print(\"Jumlah ulasan negatif: \", data['label'].value_counts()[0])"
   ]
  },
  {
   "cell_type": "code",
   "execution_count": 57,
   "metadata": {},
   "outputs": [
    {
     "data": {
      "image/png": "[encoded data removed]",
      "text/plain": [
       "<Figure size 640x480 with 1 Axes>"
      ]
     },
     "metadata": {},
     "output_type": "display_data"
    }
   ],
   "source": [
    "jumlah_positif = data['label'].value_counts()[1]\n",
    "jumlah_negatif = data['label'].value_counts()[0]\n",
    "\n",
    "plt.bar(['Positive', 'Negative'], [jumlah_positif, jumlah_negatif])\n",
    "plt.title('Sentiment Analysis Result')\n",
    "plt.xlabel('Sentiment')\n",
    "plt.ylabel('Jumlah Ulasan')\n",
    "plt.show()"
   ]
  },
  {
   "cell_type": "code",
   "execution_count": 58,
   "metadata": {},
   "outputs": [],
   "source": [
    "import re\n",
    "\n",
    "def casefolding(text):\n",
    "    text = text.lower()                                # Mengubah teks menjadi lower case\n",
    "    text = re.sub(r'https?://\\S+|www\\.\\S+', '', text)  # Menghapus URL\n",
    "    text = re.sub(r'[-+]?[0-9]+', '', text)            # Menghapus angka\n",
    "    text = re.sub(r'[^\\w\\s]','', text)                 # Menghapus karakter tanda baca\n",
    "    text = text.strip()\n",
    "    return text\n",
    "data['text'] = data['text'].apply(casefolding)\n"
   ]
  },
  {
   "cell_type": "code",
   "execution_count": 59,
   "metadata": {},
   "outputs": [
    {
     "name": "stdout",
     "output_type": "stream",
     "text": [
      "0    perjalanan pakai airasia dari jkt ke batam kop...\n",
      "1    air asia adalah salah satu flight terburuk sel...\n",
      "2    sekali nya nyoba airasia ternyata pelayanannya...\n",
      "3    sangat kecewa dengan masakapai ini meniningan ...\n",
      "4    udah di diperjalanan ke bandara tiba tiba pene...\n",
      "Name: text, dtype: object\n"
     ]
    }
   ],
   "source": [
    "print(data['text'].head())"
   ]
  },
  {
   "cell_type": "code",
   "execution_count": 60,
   "metadata": {},
   "outputs": [],
   "source": [
    "from nltk.corpus import stopwords\n",
    "\n",
    "stopwords_ind = stopwords.words('indonesian')\n",
    "\n",
    "more_stopword=['href','a','b','br']\n",
    "stopwords_ind=stopwords_ind+more_stopword\n",
    "\n",
    "def remove_stop_words(text):\n",
    "    clean_words=[]\n",
    "    text=text.split()\n",
    "    for word in text:\n",
    "        if word not in stopwords_ind:\n",
    "            clean_words.append(word)\n",
    "    return \" \".join(clean_words)"
   ]
  },
  {
   "cell_type": "code",
   "execution_count": 61,
   "metadata": {},
   "outputs": [
    {
     "name": "stdout",
     "output_type": "stream",
     "text": [
      "0      perjalanan pakai airasia dari jkt ke batam kop...\n",
      "1      air asia adalah salah satu flight terburuk sel...\n",
      "2      sekali nya nyoba airasia ternyata pelayanannya...\n",
      "3      sangat kecewa dengan masakapai ini meniningan ...\n",
      "4      udah di diperjalanan ke bandara tiba tiba pene...\n",
      "                             ...                        \n",
      "794    setelah lama tidak menggunakan maskapai ini dg...\n",
      "795    maskapai dengan harga murah dan layanan gak mu...\n",
      "796    naik air asia overall sangat nyaman harganya b...\n",
      "797    pertama kali terbang dengan penerbangan kelas ...\n",
      "798    sesuai dengan judul saya airasia memang selalu...\n",
      "Name: text, Length: 799, dtype: object\n"
     ]
    }
   ],
   "source": [
    "print(data['text'])"
   ]
  },
  {
   "cell_type": "code",
   "execution_count": 62,
   "metadata": {},
   "outputs": [],
   "source": [
    "from Sastrawi.Stemmer.StemmerFactory import StemmerFactory\n",
    "\n",
    "factory = StemmerFactory()\n",
    "stemmer = factory.create_stemmer()\n",
    "\n",
    "def stemming(text):\n",
    "  text = stemmer.stem(text)\n",
    "  return text"
   ]
  },
  {
   "cell_type": "code",
   "execution_count": 63,
   "metadata": {},
   "outputs": [
    {
     "name": "stdout",
     "output_type": "stream",
     "text": [
      "Raw data\t\t:  saat saya menulis ulasan ini saya masih menunggu kedatangan pesawat airasia yang akan menerbangkan saya dr lombok ke jakarta keterlambatan sdh  menit dan mungkin akan delay jam karena pesawat belum mendarat dr kl ke lop akibatnya mungkin waktu saya untuk transfer ke pesawat berikutnya akan sangat sempit saya tdk merekomendasikan maskapai ini\n",
      "Case folding\t\t:  saat saya menulis ulasan ini saya masih menunggu kedatangan pesawat airasia yang akan menerbangkan saya dr lombok ke jakarta keterlambatan sdh  menit dan mungkin akan delay jam karena pesawat belum mendarat dr kl ke lop akibatnya mungkin waktu saya untuk transfer ke pesawat berikutnya akan sangat sempit saya tdk merekomendasikan maskapai ini\n",
      "Stopword removal\t:  menulis ulasan menunggu kedatangan pesawat airasia menerbangkan dr lombok jakarta keterlambatan sdh menit delay jam pesawat mendarat dr kl lop akibatnya transfer pesawat sempit tdk merekomendasikan maskapai\n",
      "Stemming\t\t:  tulis ulas tunggu datang pesawat airasia terbang dr lombok jakarta lambat sdh menit delay jam pesawat darat dr kl lop akibat transfer pesawat sempit tdk rekomendasi maskapai\n"
     ]
    }
   ],
   "source": [
    "raw_sample = data['text'].iloc[7]\n",
    "case_folding = casefolding(raw_sample)\n",
    "stopword_removal = remove_stop_words(case_folding)\n",
    "text_stemming = stemming(stopword_removal)\n",
    "\n",
    "print('Raw data\\t\\t: ', raw_sample)\n",
    "print('Case folding\\t\\t: ', case_folding)\n",
    "print('Stopword removal\\t: ', stopword_removal)\n",
    "print('Stemming\\t\\t: ', text_stemming)"
   ]
  },
  {
   "cell_type": "code",
   "execution_count": 64,
   "metadata": {},
   "outputs": [],
   "source": [
    "def text_preprocessing_process(text):\n",
    "    text=casefolding(text)\n",
    "    text=remove_stop_words(text)\n",
    "    text=stemming(text)\n",
    "    return text"
   ]
  },
  {
   "cell_type": "code",
   "execution_count": 65,
   "metadata": {},
   "outputs": [
    {
     "name": "stdout",
     "output_type": "stream",
     "text": [
      "CPU times: total: 5min 5s\n",
      "Wall time: 5min 15s\n"
     ]
    }
   ],
   "source": [
    "%%time\n",
    "data['clean_text']=data['text'].apply(text_preprocessing_process)"
   ]
  },
  {
   "cell_type": "code",
   "execution_count": 66,
   "metadata": {},
   "outputs": [
    {
     "name": "stdout",
     "output_type": "stream",
     "text": [
      "0      [jalan, pakai, airasia, jkt, batam, koper, kon...\n",
      "1      [air, asia, salah, flight, buruk, lion, air, y...\n",
      "2      [nya, nyoba, airasia, layan, buruk, delaynya, ...\n",
      "3      [kecewa, masakapai, ting, maskapai, layan, buruk]\n",
      "4      [udah, jalan, bandara, terbang, cancel, ganti,...\n",
      "                             ...                        \n",
      "794    [maskapai, dg, poin, yougov, potong, yg, lumay...\n",
      "795    [maskapai, harga, murah, layan, gak, murah, ja...\n",
      "796    [air, asia, overall, nyaman, harga, saing, mur...\n",
      "797    [kali, terbang, terbang, kelas, ekonomi, tp, w...\n",
      "798    [sesuai, judul, airasia, promonya, promo, big,...\n",
      "Name: tokens, Length: 799, dtype: object\n"
     ]
    },
    {
     "name": "stderr",
     "output_type": "stream",
     "text": [
      "[nltk_data] Downloading package punkt to C:\\Users\\NAUFAL\n",
      "[nltk_data]     HAFIZH\\AppData\\Roaming\\nltk_data...\n",
      "[nltk_data]   Package punkt is already up-to-date!\n"
     ]
    }
   ],
   "source": [
    "import nltk\n",
    "nltk.download('punkt')\n",
    "\n",
    "data['tokens'] = data['clean_text'].apply(lambda x: nltk.word_tokenize(x))\n",
    "print(data['tokens'])"
   ]
  },
  {
   "cell_type": "code",
   "execution_count": 67,
   "metadata": {},
   "outputs": [
    {
     "data": {
      "text/html": [
       "<div>\n",
       "<style scoped>\n",
       "    .dataframe tbody tr th:only-of-type {\n",
       "        vertical-align: middle;\n",
       "    }\n",
       "\n",
       "    .dataframe tbody tr th {\n",
       "        vertical-align: top;\n",
       "    }\n",
       "\n",
       "    .dataframe thead th {\n",
       "        text-align: right;\n",
       "    }\n",
       "</style>\n",
       "<table border=\"1\" class=\"dataframe\">\n",
       "  <thead>\n",
       "    <tr style=\"text-align: right;\">\n",
       "      <th></th>\n",
       "      <th>text</th>\n",
       "      <th>label</th>\n",
       "      <th>clean_text</th>\n",
       "      <th>tokens</th>\n",
       "    </tr>\n",
       "  </thead>\n",
       "  <tbody>\n",
       "    <tr>\n",
       "      <th>0</th>\n",
       "      <td>perjalanan pakai airasia dari jkt ke batam kop...</td>\n",
       "      <td>0</td>\n",
       "      <td>jalan pakai airasia jkt batam koper kondisi lo...</td>\n",
       "      <td>[jalan, pakai, airasia, jkt, batam, koper, kon...</td>\n",
       "    </tr>\n",
       "    <tr>\n",
       "      <th>1</th>\n",
       "      <td>air asia adalah salah satu flight terburuk sel...</td>\n",
       "      <td>0</td>\n",
       "      <td>air asia salah flight buruk lion air yg gate m...</td>\n",
       "      <td>[air, asia, salah, flight, buruk, lion, air, y...</td>\n",
       "    </tr>\n",
       "    <tr>\n",
       "      <th>2</th>\n",
       "      <td>sekali nya nyoba airasia ternyata pelayanannya...</td>\n",
       "      <td>0</td>\n",
       "      <td>nya nyoba airasia layan buruk delaynya jam kom...</td>\n",
       "      <td>[nya, nyoba, airasia, layan, buruk, delaynya, ...</td>\n",
       "    </tr>\n",
       "    <tr>\n",
       "      <th>3</th>\n",
       "      <td>sangat kecewa dengan masakapai ini meniningan ...</td>\n",
       "      <td>0</td>\n",
       "      <td>kecewa masakapai ting maskapai layan buruk</td>\n",
       "      <td>[kecewa, masakapai, ting, maskapai, layan, buruk]</td>\n",
       "    </tr>\n",
       "    <tr>\n",
       "      <th>4</th>\n",
       "      <td>udah di diperjalanan ke bandara tiba tiba pene...</td>\n",
       "      <td>0</td>\n",
       "      <td>udah jalan bandara terbang cancel ganti rugi r...</td>\n",
       "      <td>[udah, jalan, bandara, terbang, cancel, ganti,...</td>\n",
       "    </tr>\n",
       "    <tr>\n",
       "      <th>...</th>\n",
       "      <td>...</td>\n",
       "      <td>...</td>\n",
       "      <td>...</td>\n",
       "      <td>...</td>\n",
       "    </tr>\n",
       "    <tr>\n",
       "      <th>794</th>\n",
       "      <td>setelah lama tidak menggunakan maskapai ini dg...</td>\n",
       "      <td>1</td>\n",
       "      <td>maskapai dg poin yougov potong yg lumayan bera...</td>\n",
       "      <td>[maskapai, dg, poin, yougov, potong, yg, lumay...</td>\n",
       "    </tr>\n",
       "    <tr>\n",
       "      <th>795</th>\n",
       "      <td>maskapai dengan harga murah dan layanan gak mu...</td>\n",
       "      <td>1</td>\n",
       "      <td>maskapai harga murah layan gak murah jalan nya...</td>\n",
       "      <td>[maskapai, harga, murah, layan, gak, murah, ja...</td>\n",
       "    </tr>\n",
       "    <tr>\n",
       "      <th>796</th>\n",
       "      <td>naik air asia overall sangat nyaman harganya b...</td>\n",
       "      <td>1</td>\n",
       "      <td>air asia overall nyaman harga saing murah dela...</td>\n",
       "      <td>[air, asia, overall, nyaman, harga, saing, mur...</td>\n",
       "    </tr>\n",
       "    <tr>\n",
       "      <th>797</th>\n",
       "      <td>pertama kali terbang dengan penerbangan kelas ...</td>\n",
       "      <td>1</td>\n",
       "      <td>kali terbang terbang kelas ekonomi tp walupun ...</td>\n",
       "      <td>[kali, terbang, terbang, kelas, ekonomi, tp, w...</td>\n",
       "    </tr>\n",
       "    <tr>\n",
       "      <th>798</th>\n",
       "      <td>sesuai dengan judul saya airasia memang selalu...</td>\n",
       "      <td>1</td>\n",
       "      <td>sesuai judul airasia promonya promo big sale p...</td>\n",
       "      <td>[sesuai, judul, airasia, promonya, promo, big,...</td>\n",
       "    </tr>\n",
       "  </tbody>\n",
       "</table>\n",
       "<p>799 rows × 4 columns</p>\n",
       "</div>"
      ],
      "text/plain": [
       "                                                  text  label  \\\n",
       "0    perjalanan pakai airasia dari jkt ke batam kop...      0   \n",
       "1    air asia adalah salah satu flight terburuk sel...      0   \n",
       "2    sekali nya nyoba airasia ternyata pelayanannya...      0   \n",
       "3    sangat kecewa dengan masakapai ini meniningan ...      0   \n",
       "4    udah di diperjalanan ke bandara tiba tiba pene...      0   \n",
       "..                                                 ...    ...   \n",
       "794  setelah lama tidak menggunakan maskapai ini dg...      1   \n",
       "795  maskapai dengan harga murah dan layanan gak mu...      1   \n",
       "796  naik air asia overall sangat nyaman harganya b...      1   \n",
       "797  pertama kali terbang dengan penerbangan kelas ...      1   \n",
       "798  sesuai dengan judul saya airasia memang selalu...      1   \n",
       "\n",
       "                                            clean_text  \\\n",
       "0    jalan pakai airasia jkt batam koper kondisi lo...   \n",
       "1    air asia salah flight buruk lion air yg gate m...   \n",
       "2    nya nyoba airasia layan buruk delaynya jam kom...   \n",
       "3           kecewa masakapai ting maskapai layan buruk   \n",
       "4    udah jalan bandara terbang cancel ganti rugi r...   \n",
       "..                                                 ...   \n",
       "794  maskapai dg poin yougov potong yg lumayan bera...   \n",
       "795  maskapai harga murah layan gak murah jalan nya...   \n",
       "796  air asia overall nyaman harga saing murah dela...   \n",
       "797  kali terbang terbang kelas ekonomi tp walupun ...   \n",
       "798  sesuai judul airasia promonya promo big sale p...   \n",
       "\n",
       "                                                tokens  \n",
       "0    [jalan, pakai, airasia, jkt, batam, koper, kon...  \n",
       "1    [air, asia, salah, flight, buruk, lion, air, y...  \n",
       "2    [nya, nyoba, airasia, layan, buruk, delaynya, ...  \n",
       "3    [kecewa, masakapai, ting, maskapai, layan, buruk]  \n",
       "4    [udah, jalan, bandara, terbang, cancel, ganti,...  \n",
       "..                                                 ...  \n",
       "794  [maskapai, dg, poin, yougov, potong, yg, lumay...  \n",
       "795  [maskapai, harga, murah, layan, gak, murah, ja...  \n",
       "796  [air, asia, overall, nyaman, harga, saing, mur...  \n",
       "797  [kali, terbang, terbang, kelas, ekonomi, tp, w...  \n",
       "798  [sesuai, judul, airasia, promonya, promo, big,...  \n",
       "\n",
       "[799 rows x 4 columns]"
      ]
     },
     "execution_count": 67,
     "metadata": {},
     "output_type": "execute_result"
    }
   ],
   "source": [
    "data"
   ]
  },
  {
   "cell_type": "code",
   "execution_count": 68,
   "metadata": {},
   "outputs": [],
   "source": [
    "data.to_csv('../data/csv/cleaned/lion-w2v-trial.csv')"
   ]
  },
  {
   "cell_type": "code",
   "execution_count": 69,
   "metadata": {},
   "outputs": [
    {
     "data": {
      "text/plain": [
       "'4.3.0'"
      ]
     },
     "execution_count": 69,
     "metadata": {},
     "output_type": "execute_result"
    }
   ],
   "source": [
    "import gensim\n",
    "gensim.__version__"
   ]
  },
  {
   "cell_type": "code",
   "execution_count": 70,
   "metadata": {},
   "outputs": [
    {
     "data": {
      "text/plain": [
       "0      [jalan, pakai, airasia, jkt, batam, koper, kon...\n",
       "1      [air, asia, salah, flight, buruk, lion, air, y...\n",
       "2      [nya, nyoba, airasia, layan, buruk, delaynya, ...\n",
       "3      [kecewa, masakapai, ting, maskapai, layan, buruk]\n",
       "4      [udah, jalan, bandara, terbang, cancel, ganti,...\n",
       "                             ...                        \n",
       "794    [maskapai, dg, poin, yougov, potong, yg, lumay...\n",
       "795    [maskapai, harga, murah, layan, gak, murah, ja...\n",
       "796    [air, asia, overall, nyaman, harga, saing, mur...\n",
       "797    [kali, terbang, terbang, kelas, ekonomi, tp, w...\n",
       "798    [sesuai, judul, airasia, promonya, promo, big,...\n",
       "Name: clean_text, Length: 799, dtype: object"
      ]
     },
     "execution_count": 70,
     "metadata": {},
     "output_type": "execute_result"
    }
   ],
   "source": [
    "def tokenization(text):\n",
    "  text = re.split('\\W+', text)\n",
    "  return text\n",
    "\n",
    "sentences = data['clean_text'].apply(lambda x: tokenization(x.lower()))\n",
    "sentences"
   ]
  },
  {
   "cell_type": "code",
   "execution_count": 71,
   "metadata": {},
   "outputs": [],
   "source": [
    "MIN_COUNT = 1       # Mengabaikan semua kata dengan frekuensi total lebih rendah dari ini (opsional)\n",
    "WINDOW = 5          # Window size. Jarak maksimum antara kata saat ini dan yang diprediksi dalam sebuah kalimat.\n",
    "EPOCH = 15          # Jumlah iterasi (epoch).\n",
    "SG = 1              # Algoritma pelatihan: 1 untuk skip-gram, 0 untuk CBOW.\n",
    "SIZE = 5"
   ]
  },
  {
   "cell_type": "code",
   "execution_count": 72,
   "metadata": {},
   "outputs": [
    {
     "name": "stdout",
     "output_type": "stream",
     "text": [
      "CPU times: total: 1.41 s\n",
      "Wall time: 782 ms\n"
     ]
    }
   ],
   "source": [
    "%%time \n",
    "model_word2vec = gensim.models.Word2Vec(sentences, vector_size=SIZE, sg=SG, min_count=MIN_COUNT, window=WINDOW, epochs=EPOCH)"
   ]
  },
  {
   "cell_type": "code",
   "execution_count": 73,
   "metadata": {},
   "outputs": [],
   "source": [
    "path = \"word2vec.bin.gz\"\n",
    "model_word2vec.wv.save_word2vec_format(path, binary=True)"
   ]
  },
  {
   "cell_type": "code",
   "execution_count": 74,
   "metadata": {},
   "outputs": [
    {
     "data": {
      "text/plain": [
       "array([-0.00978349,  0.9033001 ,  1.1393175 , -0.40544733, -0.41448224],\n",
       "      dtype=float32)"
      ]
     },
     "execution_count": 74,
     "metadata": {},
     "output_type": "execute_result"
    }
   ],
   "source": [
    "model_word2vec.wv['telat']"
   ]
  },
  {
   "cell_type": "code",
   "execution_count": 75,
   "metadata": {},
   "outputs": [
    {
     "data": {
      "text/plain": [
       "[('surabayajakarta', 0.9990957379341125),\n",
       " ('gapapa', 0.9985796809196472),\n",
       " ('blm', 0.9978711605072021),\n",
       " ('nan', 0.9972862601280212),\n",
       " ('kul', 0.9966803193092346),\n",
       " ('instan', 0.9961388111114502),\n",
       " ('pattaya', 0.9960379600524902),\n",
       " ('benefit', 0.9954914450645447),\n",
       " ('coz', 0.9950017929077148),\n",
       " ('komitmen', 0.9949425458908081)]"
      ]
     },
     "execution_count": 75,
     "metadata": {},
     "output_type": "execute_result"
    }
   ],
   "source": [
    "model_word2vec.wv.most_similar('telat')"
   ]
  },
  {
   "cell_type": "code",
   "execution_count": 76,
   "metadata": {},
   "outputs": [
    {
     "data": {
      "text/plain": [
       "array([[-0.03661669,  1.3623127 ,  0.7501377 , -1.0523406 ,  0.252749  ],\n",
       "       [ 0.3611916 ,  1.3084203 ,  0.71624696, -1.600832  ,  0.64135695],\n",
       "       [-0.09814639,  1.8708504 ,  0.8365989 , -1.591286  ,  0.80052453],\n",
       "       [ 0.7631335 ,  1.3560238 ,  0.7963117 , -1.5522696 ,  0.84433967],\n",
       "       [ 0.0091416 ,  1.5123439 ,  0.38901174, -0.901584  , -0.20266797]],\n",
       "      dtype=float32)"
      ]
     },
     "execution_count": 76,
     "metadata": {},
     "output_type": "execute_result"
    }
   ],
   "source": [
    "word_list = ['tepat', 'nyaman', 'bagus', 'ramah', 'senang']\n",
    "word_vectors = np.array([model_word2vec.wv[w] for w in word_list])\n",
    "word_vectors"
   ]
  },
  {
   "cell_type": "code",
   "execution_count": 77,
   "metadata": {},
   "outputs": [],
   "source": [
    "from sklearn.decomposition import PCA, KernelPCA\n",
    "\n",
    "dimred = PCA(n_components=2, copy=False, whiten=True)\n",
    "red_word_vectors = dimred.fit_transform(word_vectors)"
   ]
  },
  {
   "cell_type": "code",
   "execution_count": 78,
   "metadata": {},
   "outputs": [
    {
     "data": {
      "text/plain": [
       "array([[ 0.63498783,  0.04921138],\n",
       "       [-0.5459452 , -0.37334722],\n",
       "       [-0.47217047,  1.6589394 ],\n",
       "       [-1.0336697 , -0.99547213],\n",
       "       [ 1.4167974 , -0.33933073]], dtype=float32)"
      ]
     },
     "execution_count": 78,
     "metadata": {},
     "output_type": "execute_result"
    }
   ],
   "source": [
    "red_word_vectors"
   ]
  },
  {
   "cell_type": "code",
   "execution_count": 79,
   "metadata": {},
   "outputs": [],
   "source": [
    "def plot(datas, labels, fc='yellow'):\n",
    "  # plot the dots\n",
    "  plt.subplots_adjust(bottom = 0.1)\n",
    "  plt.scatter(datas[:, 0], datas[:, 1], marker='o')\n",
    "\n",
    "  # annotate labels\n",
    "  for label, x, y in zip(labels, datas[:, 0], datas[:, 1]):\n",
    "    plt.annotate(label, \\\n",
    "                 xy=(x, y), xytext=(-15, 15), \\\n",
    "                 textcoords='offset points', ha='right', va='bottom', \\\n",
    "                 bbox=dict(boxstyle='round,pad=0.3', fc=fc, alpha=0.5), \\\n",
    "                 arrowprops=dict(arrowstyle = '->', connectionstyle='arc3,rad=0'))\n",
    "  plt.show()"
   ]
  },
  {
   "cell_type": "code",
   "execution_count": 80,
   "metadata": {},
   "outputs": [
    {
     "data": {
      "image/png": "[encoded data removed]",
      "text/plain": [
       "<Figure size 640x480 with 1 Axes>"
      ]
     },
     "metadata": {},
     "output_type": "display_data"
    }
   ],
   "source": [
    "plot(red_word_vectors, word_list)"
   ]
  },
  {
   "cell_type": "code",
   "execution_count": 81,
   "metadata": {},
   "outputs": [
    {
     "data": {
      "text/html": [
       "<div>\n",
       "<style scoped>\n",
       "    .dataframe tbody tr th:only-of-type {\n",
       "        vertical-align: middle;\n",
       "    }\n",
       "\n",
       "    .dataframe tbody tr th {\n",
       "        vertical-align: top;\n",
       "    }\n",
       "\n",
       "    .dataframe thead th {\n",
       "        text-align: right;\n",
       "    }\n",
       "</style>\n",
       "<table border=\"1\" class=\"dataframe\">\n",
       "  <thead>\n",
       "    <tr style=\"text-align: right;\">\n",
       "      <th></th>\n",
       "      <th>clean_text</th>\n",
       "      <th>label</th>\n",
       "    </tr>\n",
       "  </thead>\n",
       "  <tbody>\n",
       "    <tr>\n",
       "      <th>0</th>\n",
       "      <td>jalan pakai airasia jkt batam koper kondisi lo...</td>\n",
       "      <td>0</td>\n",
       "    </tr>\n",
       "    <tr>\n",
       "      <th>1</th>\n",
       "      <td>air asia salah flight buruk lion air yg gate m...</td>\n",
       "      <td>0</td>\n",
       "    </tr>\n",
       "    <tr>\n",
       "      <th>2</th>\n",
       "      <td>nya nyoba airasia layan buruk delaynya jam kom...</td>\n",
       "      <td>0</td>\n",
       "    </tr>\n",
       "    <tr>\n",
       "      <th>3</th>\n",
       "      <td>kecewa masakapai ting maskapai layan buruk</td>\n",
       "      <td>0</td>\n",
       "    </tr>\n",
       "    <tr>\n",
       "      <th>4</th>\n",
       "      <td>udah jalan bandara terbang cancel ganti rugi r...</td>\n",
       "      <td>0</td>\n",
       "    </tr>\n",
       "    <tr>\n",
       "      <th>...</th>\n",
       "      <td>...</td>\n",
       "      <td>...</td>\n",
       "    </tr>\n",
       "    <tr>\n",
       "      <th>794</th>\n",
       "      <td>maskapai dg poin yougov potong yg lumayan bera...</td>\n",
       "      <td>1</td>\n",
       "    </tr>\n",
       "    <tr>\n",
       "      <th>795</th>\n",
       "      <td>maskapai harga murah layan gak murah jalan nya...</td>\n",
       "      <td>1</td>\n",
       "    </tr>\n",
       "    <tr>\n",
       "      <th>796</th>\n",
       "      <td>air asia overall nyaman harga saing murah dela...</td>\n",
       "      <td>1</td>\n",
       "    </tr>\n",
       "    <tr>\n",
       "      <th>797</th>\n",
       "      <td>kali terbang terbang kelas ekonomi tp walupun ...</td>\n",
       "      <td>1</td>\n",
       "    </tr>\n",
       "    <tr>\n",
       "      <th>798</th>\n",
       "      <td>sesuai judul airasia promonya promo big sale p...</td>\n",
       "      <td>1</td>\n",
       "    </tr>\n",
       "  </tbody>\n",
       "</table>\n",
       "<p>799 rows × 2 columns</p>\n",
       "</div>"
      ],
      "text/plain": [
       "                                            clean_text  label\n",
       "0    jalan pakai airasia jkt batam koper kondisi lo...      0\n",
       "1    air asia salah flight buruk lion air yg gate m...      0\n",
       "2    nya nyoba airasia layan buruk delaynya jam kom...      0\n",
       "3           kecewa masakapai ting maskapai layan buruk      0\n",
       "4    udah jalan bandara terbang cancel ganti rugi r...      0\n",
       "..                                                 ...    ...\n",
       "794  maskapai dg poin yougov potong yg lumayan bera...      1\n",
       "795  maskapai harga murah layan gak murah jalan nya...      1\n",
       "796  air asia overall nyaman harga saing murah dela...      1\n",
       "797  kali terbang terbang kelas ekonomi tp walupun ...      1\n",
       "798  sesuai judul airasia promonya promo big sale p...      1\n",
       "\n",
       "[799 rows x 2 columns]"
      ]
     },
     "execution_count": 81,
     "metadata": {},
     "output_type": "execute_result"
    }
   ],
   "source": [
    "data1 = data[['clean_text', 'label']]\n",
    "data1"
   ]
  },
  {
   "cell_type": "code",
   "execution_count": 82,
   "metadata": {},
   "outputs": [],
   "source": [
    "from sklearn.model_selection import train_test_split\n",
    "\n",
    "data_train, data_test = train_test_split(data, test_size=0.2, random_state=5)\n",
    "data_train, data_val = train_test_split(data_train, test_size=0.25, random_state=5)"
   ]
  },
  {
   "cell_type": "code",
   "execution_count": 83,
   "metadata": {},
   "outputs": [
    {
     "name": "stdout",
     "output_type": "stream",
     "text": [
      "(479, 4)\n",
      "(160, 4)\n",
      "(160, 4)\n"
     ]
    }
   ],
   "source": [
    "print(data_train.shape)\n",
    "print(data_val.shape)\n",
    "print(data_test.shape)"
   ]
  },
  {
   "cell_type": "code",
   "execution_count": 84,
   "metadata": {},
   "outputs": [],
   "source": [
    "trainX = np.array(data_train.iloc[:, 0])\n",
    "trainY = np.array(data_train.iloc[:, 1])\n",
    "\n",
    "testX = np.array(data_test.iloc[:, 0])\n",
    "testY = np.array(data_test.iloc[:, 1])\n",
    "\n",
    "valX = np.array(data_val.iloc[:, 0])\n",
    "valY = np.array(data_val.iloc[:, 1])"
   ]
  },
  {
   "cell_type": "code",
   "execution_count": 85,
   "metadata": {},
   "outputs": [],
   "source": [
    "trainY = pd.get_dummies(trainY).values\n",
    "testY = pd.get_dummies(testY).values\n",
    "valY = pd.get_dummies(valY).values"
   ]
  },
  {
   "cell_type": "code",
   "execution_count": 86,
   "metadata": {},
   "outputs": [
    {
     "name": "stdout",
     "output_type": "stream",
     "text": [
      "(479, 2)\n",
      "(160, 2)\n",
      "(160, 2)\n"
     ]
    }
   ],
   "source": [
    "print(trainY.shape)\n",
    "print(testY.shape)\n",
    "print(valY.shape)"
   ]
  },
  {
   "cell_type": "code",
   "execution_count": 87,
   "metadata": {},
   "outputs": [
    {
     "data": {
      "text/plain": [
       "array([[0, 1],\n",
       "       [0, 1],\n",
       "       [0, 1],\n",
       "       [1, 0],\n",
       "       [0, 1],\n",
       "       [0, 1],\n",
       "       [1, 0],\n",
       "       [0, 1],\n",
       "       [1, 0],\n",
       "       [0, 1],\n",
       "       [0, 1],\n",
       "       [0, 1],\n",
       "       [1, 0],\n",
       "       [0, 1],\n",
       "       [1, 0],\n",
       "       [1, 0],\n",
       "       [0, 1],\n",
       "       [0, 1],\n",
       "       [0, 1],\n",
       "       [1, 0],\n",
       "       [0, 1],\n",
       "       [0, 1],\n",
       "       [1, 0],\n",
       "       [1, 0],\n",
       "       [1, 0],\n",
       "       [0, 1],\n",
       "       [0, 1],\n",
       "       [0, 1],\n",
       "       [0, 1],\n",
       "       [1, 0],\n",
       "       [1, 0],\n",
       "       [0, 1],\n",
       "       [0, 1],\n",
       "       [0, 1],\n",
       "       [0, 1],\n",
       "       [1, 0],\n",
       "       [0, 1],\n",
       "       [1, 0],\n",
       "       [0, 1],\n",
       "       [1, 0],\n",
       "       [0, 1],\n",
       "       [1, 0],\n",
       "       [0, 1],\n",
       "       [0, 1],\n",
       "       [1, 0],\n",
       "       [0, 1],\n",
       "       [1, 0],\n",
       "       [0, 1],\n",
       "       [1, 0],\n",
       "       [0, 1],\n",
       "       [0, 1],\n",
       "       [0, 1],\n",
       "       [0, 1],\n",
       "       [1, 0],\n",
       "       [0, 1],\n",
       "       [0, 1],\n",
       "       [0, 1],\n",
       "       [1, 0],\n",
       "       [0, 1],\n",
       "       [1, 0],\n",
       "       [0, 1],\n",
       "       [0, 1],\n",
       "       [0, 1],\n",
       "       [0, 1],\n",
       "       [1, 0],\n",
       "       [1, 0],\n",
       "       [0, 1],\n",
       "       [0, 1],\n",
       "       [0, 1],\n",
       "       [1, 0],\n",
       "       [0, 1],\n",
       "       [0, 1],\n",
       "       [0, 1],\n",
       "       [1, 0],\n",
       "       [0, 1],\n",
       "       [1, 0],\n",
       "       [0, 1],\n",
       "       [0, 1],\n",
       "       [0, 1],\n",
       "       [0, 1],\n",
       "       [1, 0],\n",
       "       [0, 1],\n",
       "       [1, 0],\n",
       "       [0, 1],\n",
       "       [1, 0],\n",
       "       [0, 1],\n",
       "       [1, 0],\n",
       "       [0, 1],\n",
       "       [0, 1],\n",
       "       [1, 0],\n",
       "       [0, 1],\n",
       "       [0, 1],\n",
       "       [0, 1],\n",
       "       [1, 0],\n",
       "       [0, 1],\n",
       "       [1, 0],\n",
       "       [0, 1],\n",
       "       [0, 1],\n",
       "       [0, 1],\n",
       "       [0, 1],\n",
       "       [0, 1],\n",
       "       [1, 0],\n",
       "       [0, 1],\n",
       "       [0, 1],\n",
       "       [1, 0],\n",
       "       [0, 1],\n",
       "       [1, 0],\n",
       "       [0, 1],\n",
       "       [0, 1],\n",
       "       [1, 0],\n",
       "       [0, 1],\n",
       "       [0, 1],\n",
       "       [1, 0],\n",
       "       [0, 1],\n",
       "       [0, 1],\n",
       "       [0, 1],\n",
       "       [1, 0],\n",
       "       [0, 1],\n",
       "       [1, 0],\n",
       "       [0, 1],\n",
       "       [0, 1],\n",
       "       [0, 1],\n",
       "       [0, 1],\n",
       "       [0, 1],\n",
       "       [1, 0],\n",
       "       [0, 1],\n",
       "       [1, 0],\n",
       "       [0, 1],\n",
       "       [0, 1],\n",
       "       [0, 1],\n",
       "       [0, 1],\n",
       "       [0, 1],\n",
       "       [0, 1],\n",
       "       [0, 1],\n",
       "       [0, 1],\n",
       "       [0, 1],\n",
       "       [0, 1],\n",
       "       [0, 1],\n",
       "       [1, 0],\n",
       "       [0, 1],\n",
       "       [0, 1],\n",
       "       [0, 1],\n",
       "       [0, 1],\n",
       "       [0, 1],\n",
       "       [0, 1],\n",
       "       [0, 1],\n",
       "       [0, 1],\n",
       "       [0, 1],\n",
       "       [0, 1],\n",
       "       [0, 1],\n",
       "       [0, 1],\n",
       "       [1, 0],\n",
       "       [0, 1],\n",
       "       [0, 1],\n",
       "       [1, 0],\n",
       "       [0, 1],\n",
       "       [0, 1],\n",
       "       [0, 1],\n",
       "       [0, 1],\n",
       "       [1, 0],\n",
       "       [0, 1],\n",
       "       [0, 1],\n",
       "       [0, 1],\n",
       "       [0, 1],\n",
       "       [1, 0],\n",
       "       [0, 1],\n",
       "       [0, 1],\n",
       "       [1, 0],\n",
       "       [1, 0],\n",
       "       [1, 0],\n",
       "       [1, 0],\n",
       "       [0, 1],\n",
       "       [0, 1],\n",
       "       [0, 1],\n",
       "       [1, 0],\n",
       "       [1, 0],\n",
       "       [0, 1],\n",
       "       [0, 1],\n",
       "       [0, 1],\n",
       "       [0, 1],\n",
       "       [0, 1],\n",
       "       [0, 1],\n",
       "       [1, 0],\n",
       "       [0, 1],\n",
       "       [0, 1],\n",
       "       [0, 1],\n",
       "       [0, 1],\n",
       "       [0, 1],\n",
       "       [0, 1],\n",
       "       [0, 1],\n",
       "       [0, 1],\n",
       "       [0, 1],\n",
       "       [0, 1],\n",
       "       [1, 0],\n",
       "       [0, 1],\n",
       "       [0, 1],\n",
       "       [0, 1],\n",
       "       [0, 1],\n",
       "       [0, 1],\n",
       "       [0, 1],\n",
       "       [0, 1],\n",
       "       [0, 1],\n",
       "       [1, 0],\n",
       "       [0, 1],\n",
       "       [1, 0],\n",
       "       [1, 0],\n",
       "       [0, 1],\n",
       "       [0, 1],\n",
       "       [0, 1],\n",
       "       [0, 1],\n",
       "       [0, 1],\n",
       "       [0, 1],\n",
       "       [0, 1],\n",
       "       [0, 1],\n",
       "       [0, 1],\n",
       "       [0, 1],\n",
       "       [0, 1],\n",
       "       [0, 1],\n",
       "       [1, 0],\n",
       "       [0, 1],\n",
       "       [0, 1],\n",
       "       [0, 1],\n",
       "       [0, 1],\n",
       "       [0, 1],\n",
       "       [0, 1],\n",
       "       [1, 0],\n",
       "       [0, 1],\n",
       "       [0, 1],\n",
       "       [0, 1],\n",
       "       [0, 1],\n",
       "       [0, 1],\n",
       "       [1, 0],\n",
       "       [0, 1],\n",
       "       [0, 1],\n",
       "       [0, 1],\n",
       "       [0, 1],\n",
       "       [1, 0],\n",
       "       [0, 1],\n",
       "       [0, 1],\n",
       "       [0, 1],\n",
       "       [1, 0],\n",
       "       [1, 0],\n",
       "       [0, 1],\n",
       "       [0, 1],\n",
       "       [0, 1],\n",
       "       [0, 1],\n",
       "       [0, 1],\n",
       "       [1, 0],\n",
       "       [0, 1],\n",
       "       [0, 1],\n",
       "       [1, 0],\n",
       "       [0, 1],\n",
       "       [0, 1],\n",
       "       [1, 0],\n",
       "       [1, 0],\n",
       "       [1, 0],\n",
       "       [0, 1],\n",
       "       [1, 0],\n",
       "       [0, 1],\n",
       "       [0, 1],\n",
       "       [0, 1],\n",
       "       [1, 0],\n",
       "       [0, 1],\n",
       "       [1, 0],\n",
       "       [0, 1],\n",
       "       [0, 1],\n",
       "       [1, 0],\n",
       "       [0, 1],\n",
       "       [0, 1],\n",
       "       [1, 0],\n",
       "       [1, 0],\n",
       "       [0, 1],\n",
       "       [0, 1],\n",
       "       [0, 1],\n",
       "       [1, 0],\n",
       "       [1, 0],\n",
       "       [0, 1],\n",
       "       [0, 1],\n",
       "       [0, 1],\n",
       "       [1, 0],\n",
       "       [0, 1],\n",
       "       [0, 1],\n",
       "       [0, 1],\n",
       "       [0, 1],\n",
       "       [1, 0],\n",
       "       [0, 1],\n",
       "       [0, 1],\n",
       "       [0, 1],\n",
       "       [0, 1],\n",
       "       [0, 1],\n",
       "       [1, 0],\n",
       "       [0, 1],\n",
       "       [0, 1],\n",
       "       [0, 1],\n",
       "       [0, 1],\n",
       "       [0, 1],\n",
       "       [1, 0],\n",
       "       [0, 1],\n",
       "       [0, 1],\n",
       "       [0, 1],\n",
       "       [1, 0],\n",
       "       [0, 1],\n",
       "       [0, 1],\n",
       "       [0, 1],\n",
       "       [1, 0],\n",
       "       [0, 1],\n",
       "       [1, 0],\n",
       "       [0, 1],\n",
       "       [0, 1],\n",
       "       [0, 1],\n",
       "       [1, 0],\n",
       "       [0, 1],\n",
       "       [1, 0],\n",
       "       [1, 0],\n",
       "       [0, 1],\n",
       "       [0, 1],\n",
       "       [0, 1],\n",
       "       [0, 1],\n",
       "       [0, 1],\n",
       "       [0, 1],\n",
       "       [0, 1],\n",
       "       [0, 1],\n",
       "       [0, 1],\n",
       "       [1, 0],\n",
       "       [0, 1],\n",
       "       [0, 1],\n",
       "       [0, 1],\n",
       "       [0, 1],\n",
       "       [0, 1],\n",
       "       [0, 1],\n",
       "       [0, 1],\n",
       "       [0, 1],\n",
       "       [0, 1],\n",
       "       [1, 0],\n",
       "       [0, 1],\n",
       "       [0, 1],\n",
       "       [1, 0],\n",
       "       [0, 1],\n",
       "       [1, 0],\n",
       "       [0, 1],\n",
       "       [1, 0],\n",
       "       [0, 1],\n",
       "       [1, 0],\n",
       "       [0, 1],\n",
       "       [0, 1],\n",
       "       [0, 1],\n",
       "       [1, 0],\n",
       "       [0, 1],\n",
       "       [1, 0],\n",
       "       [0, 1],\n",
       "       [1, 0],\n",
       "       [0, 1],\n",
       "       [0, 1],\n",
       "       [0, 1],\n",
       "       [0, 1],\n",
       "       [0, 1],\n",
       "       [0, 1],\n",
       "       [0, 1],\n",
       "       [0, 1],\n",
       "       [0, 1],\n",
       "       [0, 1],\n",
       "       [0, 1],\n",
       "       [0, 1],\n",
       "       [0, 1],\n",
       "       [0, 1],\n",
       "       [1, 0],\n",
       "       [0, 1],\n",
       "       [1, 0],\n",
       "       [0, 1],\n",
       "       [0, 1],\n",
       "       [1, 0],\n",
       "       [1, 0],\n",
       "       [1, 0],\n",
       "       [1, 0],\n",
       "       [0, 1],\n",
       "       [0, 1],\n",
       "       [0, 1],\n",
       "       [0, 1],\n",
       "       [0, 1],\n",
       "       [0, 1],\n",
       "       [0, 1],\n",
       "       [0, 1],\n",
       "       [0, 1],\n",
       "       [1, 0],\n",
       "       [0, 1],\n",
       "       [1, 0],\n",
       "       [0, 1],\n",
       "       [0, 1],\n",
       "       [0, 1],\n",
       "       [0, 1],\n",
       "       [0, 1],\n",
       "       [0, 1],\n",
       "       [1, 0],\n",
       "       [0, 1],\n",
       "       [0, 1],\n",
       "       [1, 0],\n",
       "       [1, 0],\n",
       "       [0, 1],\n",
       "       [0, 1],\n",
       "       [1, 0],\n",
       "       [0, 1],\n",
       "       [0, 1],\n",
       "       [0, 1],\n",
       "       [0, 1],\n",
       "       [1, 0],\n",
       "       [0, 1],\n",
       "       [0, 1],\n",
       "       [1, 0],\n",
       "       [0, 1],\n",
       "       [0, 1],\n",
       "       [1, 0],\n",
       "       [0, 1],\n",
       "       [1, 0],\n",
       "       [0, 1],\n",
       "       [1, 0],\n",
       "       [0, 1],\n",
       "       [0, 1],\n",
       "       [0, 1],\n",
       "       [0, 1],\n",
       "       [1, 0],\n",
       "       [0, 1],\n",
       "       [0, 1],\n",
       "       [0, 1],\n",
       "       [1, 0],\n",
       "       [0, 1],\n",
       "       [0, 1],\n",
       "       [0, 1],\n",
       "       [0, 1],\n",
       "       [1, 0],\n",
       "       [1, 0],\n",
       "       [0, 1],\n",
       "       [0, 1],\n",
       "       [0, 1],\n",
       "       [0, 1],\n",
       "       [0, 1],\n",
       "       [0, 1],\n",
       "       [0, 1],\n",
       "       [0, 1],\n",
       "       [1, 0],\n",
       "       [0, 1],\n",
       "       [1, 0],\n",
       "       [0, 1],\n",
       "       [0, 1],\n",
       "       [1, 0],\n",
       "       [0, 1],\n",
       "       [0, 1],\n",
       "       [0, 1],\n",
       "       [1, 0],\n",
       "       [0, 1],\n",
       "       [1, 0],\n",
       "       [0, 1],\n",
       "       [1, 0],\n",
       "       [0, 1],\n",
       "       [0, 1],\n",
       "       [1, 0],\n",
       "       [0, 1],\n",
       "       [0, 1],\n",
       "       [0, 1],\n",
       "       [0, 1],\n",
       "       [1, 0],\n",
       "       [0, 1],\n",
       "       [0, 1],\n",
       "       [0, 1],\n",
       "       [0, 1],\n",
       "       [0, 1],\n",
       "       [0, 1],\n",
       "       [0, 1],\n",
       "       [0, 1],\n",
       "       [0, 1],\n",
       "       [0, 1],\n",
       "       [1, 0],\n",
       "       [1, 0],\n",
       "       [1, 0],\n",
       "       [0, 1],\n",
       "       [0, 1],\n",
       "       [0, 1],\n",
       "       [0, 1],\n",
       "       [0, 1],\n",
       "       [0, 1]], dtype=uint8)"
      ]
     },
     "execution_count": 87,
     "metadata": {},
     "output_type": "execute_result"
    }
   ],
   "source": [
    "trainY"
   ]
  },
  {
   "cell_type": "code",
   "execution_count": 88,
   "metadata": {},
   "outputs": [
    {
     "name": "stdout",
     "output_type": "stream",
     "text": [
      "KeyedVectors<vector_size=5, 3278 keys>\n"
     ]
    }
   ],
   "source": [
    "from gensim.models import KeyedVectors\n",
    "\n",
    "reloaded_word_vectors = KeyedVectors.load_word2vec_format(path, binary=True)\n",
    "print(reloaded_word_vectors)"
   ]
  },
  {
   "cell_type": "code",
   "execution_count": 89,
   "metadata": {},
   "outputs": [
    {
     "name": "stdout",
     "output_type": "stream",
     "text": [
      "{'<unk>': 1, 'yang': 2, 'dan': 3, 'saya': 4, 'dengan': 5, 'di': 6, 'penerbangan': 7, 'air': 8, 'tidak': 9, 'untuk': 10, 'asia': 11, 'ke': 12, 'ini': 13, 'pesawat': 14, 'dari': 15, 'airasia': 16, 'sangat': 17, 'maskapai': 18, 'cukup': 19, 'kami': 20, 'ada': 21, 'karena': 22, 'harga': 23, 'bisa': 24, 'waktu': 25, 'juga': 26, 'murah': 27, 'terbang': 28, 'saat': 29, 'pelayanan': 30, 'tiket': 31, 'nyaman': 32, 'tapi': 33, 'baik': 34, 'promo': 35, 'lebih': 36, 'delay': 37, 'sudah': 38, 'menggunakan': 39, 'kali': 40, 'penumpang': 41, 'yg': 42, 'bagasi': 43, 'jam': 44, 'itu': 45, 'dalam': 46, 'hanya': 47, 'makanan': 48, 'jadi': 49, 'perjalanan': 50, 'selalu': 51, 'ramah': 52, 'harus': 53, 'naik': 54, 'kita': 55, 'sampai': 56, 'nya': 57, 'pada': 58, 'adalah': 59, 'in': 60, 'banyak': 61, 'tepat': 62, 'beberapa': 63, 'lagi': 64, 'kursi': 65, 'namun': 66, 'lain': 67, 'indonesia': 68, 'selama': 69, 'dapat': 70, 'sering': 71, 'pertama': 72, 'jadwal': 73, 'bersama': 74, 'duduk': 75, 'akan': 76, 'seperti': 77, 'atau': 78, 'check': 79, 'pernah': 80, 'tempat': 81, 'menyenangkan': 82, 'bagus': 83, 'satu': 84, 'menit': 85, 'bandara': 86, 'pramugari': 87, 'budget': 88, 'pengalaman': 89, 'mau': 90, 'sehingga': 91, 'jika': 92, 'tetapi': 93, 'jakarta': 94, 'sesuai': 95, 'pun': 96, 'low': 97, 'terjangkau': 98, 'aku': 99, 'menjadi': 100, 'kabin': 101, 'boarding': 102, 'buat': 103, 'banget': 104, 'masih': 105, 'kalau': 106, 'memilih': 107, 'membantu': 108, 'landing': 109, 'tetap': 110, 'memang': 111, 'masuk': 112, 'liburan': 113, 'lama': 114, 'saja': 115, 'semua': 116, 'baru': 117, 'paling': 118, 'sama': 119, 'hari': 120, 'kuala': 121, 'luar': 122, 'beli': 123, 'lumpur': 124, 'take': 125, 'off': 126, 'negeri': 127, 'salah': 128, 'fasilitas': 129, 'anda': 130, 'kurang': 131, 'keberangkatan': 132, 'mungkin': 133, 'gak': 134, 'hal': 135, 'on': 136, 'sedikit': 137, 'lumayan': 138, 'ternyata': 139, 'memberikan': 140, 'bagi': 141, 'lainnya': 142, 'ketika': 143, 'mereka': 144, 'cost': 145, 'pelayanannya': 146, 'perlu': 147, 'membeli': 148, 'para': 149, 'secara': 150, 'time': 151, 'sekali': 152, 'suka': 153, 'bali': 154, 'agak': 155, 'membuat': 156, 'masalah': 157, 'tanpa': 158, 'berangkat': 159, 'terlalu': 160, 'lalu': 161, 'ga': 162, 'mendapatkan': 163, 'kembali': 164, 'koper': 165, 'cepat': 166, 'orang': 167, 'ya': 168, 'ingin': 169, 'bahkan': 170, 'sekitar': 171, 'terminal': 172, 'proses': 173, 'langsung': 174, 'oke': 175, 'mengalami': 176, 'ruang': 177, 'bangkok': 178, 'sebelum': 179, 'layanan': 180, 'memuaskan': 181, 'murahan': 182, 'tahun': 183, 'mahal': 184, 'enak': 185, 'sempit': 186, 'sebelumnya': 187, 'pilihan': 188, 'petugas': 189, 'mudah': 190, 'kaki': 191, 'mulai': 192, 'lancar': 193, 'setelah': 194, 'apalagi': 195, 'selain': 196, 'walaupun': 197, 'tiba': 198, 'harganya': 199, 'sempat': 200, 'bulan': 201, 'tujuan': 202, 'karna': 203, 'pas': 204, 'keluarga': 205, 'puas': 206, 'bersih': 207, 'aa': 208, 'terasa': 209, 'flight': 210, 'cuaca': 211, 'berbagai': 212, 'pukul': 213, 'hampir': 214, 'keluar': 215, 'merupakan': 216, 'makan': 217, 'cuma': 218, 'memesan': 219, 'ketepatan': 220, 'pesawatnya': 221, 'menu': 222, 'teman': 223, 'menuju': 224, 'seat': 225, 'menunggu': 226, 'tambahan': 227, 'xt': 228, 'biaya': 229, 'melakukan': 230, 'cabin': 231, 'kenyamanan': 232, 'pergi': 233, 'pagi': 234, 'checkin': 235, 'belum': 236, 'pp': 237, 'mendarat': 238, 'service': 239, 'jangan': 240, 'pakai': 241, 'kalinya': 242, 'rute': 243, 'terjadi': 244, 'pulang': 245, 'tersebut': 246, 'crew': 247, 'malam': 248, 'meskipun': 249, 'ulasan': 250, 'jarak': 251, 'menurut': 252, 'gratis': 253, 'malaysia': 254, 'sendiri': 255, 'kasih': 256, 'biasa': 257, 'jalan': 258, 'lah': 259, 'tanggal': 260, 'serta': 261, 'jauh': 262, 'pesan': 263, 'awal': 264, 'diberikan': 265, 'kemudian': 266, 'menarik': 267, 'merasa': 268, 'terima': 269, 'ekonomi': 270, 'mendapat': 271, 'melalui': 272, 'sebagai': 273, 'antrian': 274, 'balik': 275, 'penerbangannya': 276, 'akhirnya': 277, 'hingga': 278, 'big': 279, 'oleh': 280, 'sekarang': 281, 'kelas': 282, 'web': 283, 'penting': 284, 'transit': 285, 'senang': 286, 'anak': 287, 'ok': 288, 'begitu': 289, 'tiketnya': 290, 'hehe': 291, 'surabaya': 292, 'cgk': 293, 'pilot': 294, 'point': 295, 'singapura': 296, 'tak': 297, 'maka': 298, 'dulu': 299, 'terbaik': 300, 'cocok': 301, 'sih': 302, 'buruk': 303, 'cek': 304, 'jarang': 305, 'bukan': 306, 'kepada': 307, 'aman': 308, 'pintu': 309, 'airport': 310, 'membayar': 311, 'overall': 312, 'meal': 313, 'udara': 314, 'dekat': 315, 'you': 316, 'walau': 317, 'lupa': 318, 'tp': 319, 'dibanding': 320, 'setiap': 321, 'airlines': 322, 'apa': 323, 'destinasi': 324, 'bahwa': 325, 'biasanya': 326, 'terakhir': 327, 'hemat': 328, 'medan': 329, 'terlambat': 330, 'memakai': 331, 'toilet': 332, 'pilih': 333, 'keterlambatan': 334, 'hotel': 335, 'semoga': 336, 'so': 337, 'barang': 338, 'singapore': 339, 'terlebih': 340, 'ontime': 341, 'alasan': 342, 'travelling': 343, 'nasi': 344, 'lowcost': 345, 'rp': 346, 'pramugara': 347, 'minuman': 348, 'qz': 349, 'penang': 350, 'memiliki': 351, 'bepergian': 352, 'dibandingkan': 353, 'bawa': 354, 'mulus': 355, 'carrier': 356, 'lcc': 357, 'can': 358, 'kebersihan': 359, 'keseluruhan': 360, 'rendah': 361, 'kualitas': 362, 'ditawarkan': 363, 'luas': 364, 'poin': 365, 'pasti': 366, 'x': 367, 'agar': 368, 'awalnya': 369, 'berlibur': 370, 'domestik': 371, 'depan': 372, 'favorit': 373, 'pemesanan': 374, 'besar': 375, 'telah': 376, 'staff': 377, 'sy': 378, 'airline': 379, 'berjalan': 380, 'benar': 381, 'fly': 382, 'nomor': 383, 'pk': 384, 'd': 385, 'daerah': 386, 'mengecewakan': 387, 'kantong': 388, 'tunggu': 389, 'termasuk': 390, 'aja': 391, 'ditambah': 392, 'pihak': 393, 'lion': 394, 'padahal': 395, 'terutama': 396, 'negara': 397, 'antara': 398, 'atas': 399, 'membawa': 400, 'smooth': 401, 'a': 402, 'terkesan': 403, 'capt': 404, 'everyone': 405, 'penumpangnya': 406, 'malah': 407, 'booking': 408, 'antri': 409, 'denpasar': 410, 'traveling': 411, 'for': 412, 'kecewa': 413, 'pass': 414, 'pemberitahuan': 415, 'pembelian': 416, 'online': 417, 'adanya': 418, 'berada': 419, 'dapet': 420, 'semakin': 421, 'keramahan': 422, 'sedang': 423, 'rasa': 424, 'kondisi': 425, 'informasi': 426, 'berat': 427, 'terpisah': 428, 'tentunya': 429, 'awak': 430, 'krn': 431, 'dilakukan': 432, 'datang': 433, 'bila': 434, 'staf': 435, 'tarif': 436, 'bilang': 437, 'maupun': 438, 'bayar': 439, 'boleh': 440, 'tingkat': 441, 'kepuasan': 442, 'jumlah': 443, 'terus': 444, 'pastinya': 445, 'kedua': 446, 'ribet': 447, 'good': 448, 'selamat': 449, 'website': 450, 'terbatas': 451, 'dahulu': 452, 'counter': 453, 'kg': 454, 'the': 455, 'free': 456, 'terimakasih': 457, 'kalo': 458, 'jkt': 459, 'kru': 460, 'dapatkan': 461, 'lewat': 462, 'kebetulan': 463, 'kl': 464, 'wib': 465, 'apakah': 466, 'ekonomis': 467, 'belakang': 468, 'kecil': 469, 'soekarno': 470, 'hatta': 471, 'nama': 472, 'menikmati': 473, 'kebanyakan': 474, 'bolak': 475, 'promonya': 476, 'kesibukan': 477, 'klia': 478, 'compare': 479, 'senyum': 480, 'cara': 481, 'bikin': 482, 'rasanya': 483, 'bagian': 484, 'ibu': 485, 'apabila': 486, 'dikarenakan': 487, 'jendela': 488, 'backpacker': 489, 'kalian': 490, 'to': 491, 'mencoba': 492, 'via': 493, 'garuda': 494, 'dg': 495, 'andalan': 496, 'sayang': 497, 'it': 498, 'jg': 499, 'aplikasi': 500, 'takut': 501, 'jepang': 502, 'dimana': 503, 'diatas': 504, 'best': 505, 'sistem': 506, 'menyebabkan': 507, 'zona': 508, 'hot': 509, 'kemarin': 510, 'iklan': 511, 'pula': 512, 'pendaratan': 513, 'now': 514, 'sukai': 515, 'kurangnya': 516, 'kota': 517, 'sayangnya': 518, 'melayani': 519, 'tolong': 520, 'dibuat': 521, 'sebenarnya': 522, 'tentang': 523, 'snack': 524, 'pramugarinya': 525, 'hangat': 526, 'seharusnya': 527, 'punya': 528, 'ku': 529, 'kenapa': 530, 'call': 531, 'internasional': 532, 'gunakan': 533, 'kan': 534, 'deh': 535, 'gate': 536, 'rugi': 537, 'merugikan': 538, 'terbilang': 539, 'percaya': 540, 'kadang': 541, 'harusnya': 542, 'thanks': 543, 'premium': 544, 'tax': 545, 'menghemat': 546, 'sms': 547, 'halus': 548, 'tentu': 549, 'tersedia': 550, 'nggak': 551, 'benarbenar': 552, 'pake': 553, 'tas': 554, 'tdk': 555, 'ikut': 556, 'keadaan': 557, 'udah': 558, 'idr': 559, 'makin': 560, 'sekeluarga': 561, 'cantik': 562, 'yaitu': 563, 'international': 564, 'berdiri': 565, 'mesin': 566, 'disediakan': 567, 'entertainment': 568, 'keselamatan': 569, 'memudahkan': 570, 'manajemen': 571, 'mengkontrol': 572, 'bising': 573, 'buruburu': 574, 'waktunya': 575, 'sejauh': 576, 'daripada': 577, 'jalanjalan': 578, 'mengerti': 579, 'kira': 580, 'thank': 581, 'posisi': 582, 'berpergian': 583, 'yaa': 584, 'selebihnya': 585, 'gitu': 586, 'cuman': 587, 'landingnya': 588, 'merah': 589, 'nilai': 590, 'makanannya': 591, 'dipesan': 592, 'mempunyai': 593, 'thailand': 594, 'jelas': 595, 'uang': 596, 'merasakan': 597, 'super': 598, 'untung': 599, 'tidur': 600, 'dua': 601, 'hati': 602, 'hilang': 603, 'soal': 604, 'mampu': 605, 'negri': 606, 'reschedule': 607, 'minta': 608, 'kedatangan': 609, 'final': 610, 'email': 611, 'terkadang': 612, 'palembang': 613, 'standar': 614, 'muncul': 615, 'namanya': 616, 'mei': 617, 'lemak': 618, 'berikan': 619, 'kebutuhan': 620, 'penuh': 621, 'duduknya': 622, 'rutin': 623, 'terawat': 624, 'meeting': 625, 'terpaksa': 626, 'darat': 627, 'maret': 628, 'sopan': 629, 'beruntung': 630, 'ukuran': 631, 'berwarna': 632, 'bintang': 633, 'seorang': 634, 'inflight': 635, 'turun': 636, 'berbiaya': 637, 'perempuan': 638, 'dewi': 639, 'traveler': 640, 'dgn': 641, 'b': 642, 'juni': 643, 'subdps': 644, 'sambil': 645, 'i': 646, 'duluan': 647, 'utk': 648, 'termurah': 649, 'mencari': 650, 'terkenal': 651, 'jogja': 652, 'wajar': 653, 'ataupun': 654, 'ulas': 655, 'meski': 656, 'pelanggan': 657, 'rangka': 658, 'dia': 659, 'manis': 660, 'guncangan': 661, 'kemudahan': 662, 'demikian': 663, 'keamanan': 664, 'didalam': 665, 'pindah': 666, 'kok': 667, 'siang': 668, 'padat': 669, 'osaka': 670, 'lebar': 671, 'mengurangi': 672, 'cari': 673, 'berbeda': 674, 'jet': 675, 'menunjukkan': 676, 'profesional': 677, 'dll': 678, 'urusan': 679, 'kejadian': 680, 'ambil': 681, 'coba': 682, 'ganti': 683, 'antar': 684, 'simple': 685, 'buru': 686, 'berbayar': 687, 'lezat': 688, 'red': 689, 'wisata': 690, 'souvenir': 691, 'berupa': 692, 'jenis': 693, 'menganggu': 694, 'lakukan': 695, 'hiburan': 696, 'bersaing': 697, 'memasuki': 698, 'cerita': 699, 'f': 700, 'info': 701, 'kursinya': 702, 'berikutnya': 703, 'imigrasi': 704, 'changi': 705, 'diskon': 706, 'menyertakan': 707, 'foto': 708, 'menggambarkan': 709, 'kode': 710, 'lihat': 711, 'siap': 712, 'menjadikan': 713, 'flex': 714, 'subkul': 715, 'situs': 716, 'sisi': 717, 'menambah': 718, 'ketinggalan': 719, 'kantor': 720, 'habis': 721, 'kena': 722, 'servicenya': 723, 'claim': 724, 'dps': 725, 'berarti': 726, 'airbus': 727, 'stiker': 728, 'lokal': 729, 'sepanjang': 730, 'sepertinya': 731, 'terpenting': 732, 'tiap': 733, 'memakan': 734, 'bertarif': 735, 'diubah': 736, 'usah': 737, 'diperhatikan': 738, 'but': 739, 'all': 740, 'mengadakan': 741, 'no': 742, 'ak': 743, 'kamar': 744, 'mengantri': 745, 'ekspektasi': 746, 'sini': 747, 'traveloka': 748, 'tugas': 749, 'far': 750, 'segi': 751, 'oktober': 752, 'molor': 753, 'ketat': 754, 'perubahan': 755, 'melihat': 756, 'menawarkan': 757, 'rekomendasikan': 758, 'chekin': 759, 'apapun': 760, 'chek': 761, 'dmk': 762, 'bertanya': 763, 'lansung': 764, 'next': 765, 'and': 766, 'pilotnya': 767, 'tambah': 768, 'jadwalnya': 769, 'rombongan': 770, 'pikir': 771, 'rumah': 772, 'pokoknya': 773, 'supaya': 774, 'memberi': 775, 'paket': 776, 'bersahabat': 777, 'mengutamakan': 778, 'diri': 779, 'saran': 780, 'ribu': 781, 'beda': 782, 'minum': 783, 'bosan': 784, 'meja': 785, 'anakanak': 786, 'hujan': 787, 'tersendiri': 788, 'self': 789, 'nanti': 790, 'tau': 791, 'kebuka': 792, 'setengah': 793, 'komplain': 794, 'beliau': 795, 'jawab': 796, 'customernya': 797, 'semuanya': 798, 'prebook': 799, 'delayed': 800, 'tinggi': 801, 'berharap': 802, 'akhir': 803, 'kekurangannya': 804, 'itinerary': 805, 'tempuh': 806, 'menyediakan': 807, 'enakenak': 808, 'love': 809, 'singkat': 810, 'panjang': 811, 'impian': 812, 'traveller': 813, 'chicken': 814, 'nomer': 815, 'seharga': 816, 'suami': 817, 'sejak': 818, 'seneng': 819, 'perth': 820, 'temanteman': 821, 'safety': 822, 'mengingat': 823, 'bagasinya': 824, 'tinggal': 825, 'rasakan': 826, 'well': 827, 'mandiri': 828, 'keterbatasan': 829, 'sdh': 830, 'bangku': 831, 'asuransi': 832, 'pengen': 833, 'sungguh': 834, 'kata': 835, 'bantu': 836, 'perhatikan': 837, 'am': 838, 'first': 839, 'inilah': 840, 'umum': 841, 'per': 842, 'tahu': 843, 'top': 844, 'perjalanannya': 845, 'friendly': 846, 'beragam': 847, 'alami': 848, 'kerja': 849, 'ditingkatkan': 850, 'musholla': 851, 'kecap': 852, 'mana': 853, 'bus': 854, 'menginginkan': 855, 'dr': 856, 'indo': 857, 'november': 858, 'pembagian': 859, 'sekaligus': 860, 'tanyakan': 861, 'membuka': 862, 'artinya': 863, 'mendadak': 864, 'tergolong': 865, 'memasukan': 866, 'terlihat': 867, 'capek': 868, 'didepan': 869, 'mineral': 870, 'memerlukan': 871, 'selanjutnya': 872, 'slogan': 873, 'telat': 874, 'juli': 875, 'setempat': 876, 'landas': 877, 'april': 878, 'banyaknya': 879, 'khawatir': 880, 'entah': 881, 'pm': 882, 'juanda': 883, 'baggage': 884, 'keras': 885, 'kaku': 886, 'tgl': 887, 'sigap': 888, 'takeoff': 889, 'penilaian': 890, 'mengulas': 891, 'ketersediaan': 892, 'konsumen': 893, 'konter': 894, 'tertib': 895, 'mengecek': 896, 'sesampainya': 897, 'bagaimana': 898, 'kecelakaan': 899, 'last': 900, 'dingin': 901, 'salam': 902, 'kasar': 903, 'tawarkan': 904, 'seringsering': 905, 'rb': 906, 'bareng': 907, 'segala': 908, 'kul': 909, 'justru': 910, 'bawah': 911, 'satunya': 912, 'kuat': 913, 'pastikan': 914, 'rate': 915, 'customer': 916, 'worth': 917, 'promopromo': 918, 'minggu': 919, 'sebab': 920, 'sebagian': 921, 'prioritas': 922, 'kedalam': 923, 'asal': 924, 'merekomendasikan': 925, 'sangatlah': 926, 'utama': 927, 'berbadan': 928, 'sebaiknya': 929, 'ringan': 930, 'bisnis': 931, 'be': 932, 'sibuk': 933, 'ngga': 934, 'tag': 935, 'up': 936, 'jatuh': 937, 'kunci': 938, 'gimana': 939, 'lg': 940, 'buka': 941, 'minimal': 942, 'digunakan': 943, 'ramahramah': 944, 'ground': 945, 'menaiki': 946, 'sekalipun': 947, 'toh': 948, 'mewujudkan': 949, 'ditentukan': 950, 'penjualan': 951, 'lemaknya': 952, 'leluasa': 953, 'pelayan': 954, 'dijadikan': 955, 'dibawa': 956, 'jauhjauh': 957, 'ala': 958, 'ransel': 959, 'kesekian': 960, 'alhamdulillah': 961, 'keperluan': 962, 'lega': 963, 'onlinen': 964, 'lengkap': 965, 'inggin': 966, 'tanah': 967, 'syukur': 968, 'memanfaatkan': 969, 'trip': 970, 'sampe': 971, 'dicoba': 972, 'with': 973, 'sub': 974, 'hp': 975, 'setahun': 976, 'preorder': 977, 'berapa': 978, 'kendala': 979, 'bervariasi': 980, 'cancel': 981, 'bawaan': 982, 'promosi': 983, 'sarapan': 984, 'optional': 985, 'dlm': 986, 'lapar': 987, 'kompensasi': 988, 'sebanding': 989, 'menyambut': 990, 'memastikan': 991, 'gelap': 992, 'tadi': 993, 'kenangan': 994, 'gara': 995, 'line': 996, 'ditemani': 997, 'hahaha': 998, 'seluruh': 999, 'helpful': 1000, 'over': 1001, 'dibilang': 1002, 'petugasnya': 1003, 'relatif': 1004, 'perhitungan': 1005, 'book': 1006, 'th': 1007, 'spt': 1008, 'papa': 1009, 'tetep': 1010, 'backpackeran': 1011, 'alhasil': 1012, 'nice': 1013, 'seringnya': 1014, 'bravo': 1015, 'depannya': 1016, 'jalur': 1017, 'mengeluarkan': 1018, 'computer': 1019, 'print': 1020, 'infra': 1021, 'gun': 1022, 'kelebihan': 1023, 'sekelas': 1024, 'disarankan': 1025, 'layak': 1026, 'jatah': 1027, 'pengumuman': 1028, 'perut': 1029, 'monopod': 1030, 'kaunter': 1031, 'rupiah': 1032, 'an': 1033, 'berasa': 1034, 'backpacking': 1035, 'kayak': 1036, 'member': 1037, 'donk': 1038, 'repot': 1039, 'hamil': 1040, 'lorong': 1041, 'dibantu': 1042, 'pribadi': 1043, 'prepare': 1044, 'siapkan': 1045, 'tagline': 1046, 'meriah': 1047, 'team': 1048, 'bergerak': 1049, 'otomatis': 1050, 'umumnya': 1051, 'ulang': 1052, 'fitur': 1053, 'maju': 1054, 'menyangka': 1055, 'langganan': 1056, 'soalnya': 1057, 'memutuskan': 1058, 'mending': 1059, 'sore': 1060, 'longgar': 1061, 'darurat': 1062, 'seru': 1063, 'pertimbangan': 1064, 'spot': 1065, 'catatan': 1066, 'positif': 1067, 'nih': 1068, 'degdegan': 1069, 'favorite': 1070, 'suasana': 1071, 'cuti': 1072, 'kmrn': 1073, 'h': 1074, 'popmie': 1075, 'kemana': 1076, 'milih': 1077, 'peswat': 1078, 'sing': 1079, 'down': 1080, 'manual': 1081, 'memundurkan': 1082, 'khusus': 1083, 'pre': 1084, 'tertunda': 1085, 'getaran': 1086, 'fare': 1087, 'charge': 1088, 'schedule': 1089, 'flightnya': 1090, 'lipat': 1091, 'terbantu': 1092, 'hambatan': 1093, 'setidaknya': 1094, 'garbarata': 1095, 'aneka': 1096, 'ditempeli': 1097, 'wanita': 1098, 'penutup': 1099, 'nuansa': 1100, 'mengganggu': 1101, 'bekerja': 1102, 'aroma': 1103, 'ciri': 1104, 'khas': 1105, 'sederhana': 1106, 'aktifitas': 1107, 'rencana': 1108, 'heran': 1109, 'ticket': 1110, 'bookingnya': 1111, 'dibatalkan': 1112, 'refundnya': 1113, 'berbelit': 1114, 'klaim': 1115, 'semula': 1116, 'ticketnya': 1117, 'menjengkelkan': 1118, 'mengulasnya': 1119, 'runway': 1120, 'lepas': 1121, 'agustus': 1122, 'boardingnya': 1123, 'maksimal': 1124, 'nukerin': 1125, 'didapat': 1126, 'pulangnya': 1127, 'bangun': 1128, 'mencapai': 1129, 'bandung': 1130, 'lidah': 1131, 'diandalkan': 1132, 'jasa': 1133, 'tertera': 1134, 'ketiga': 1135, 'memandu': 1136, 'penyok': 1137, 'dipindahkan': 1138, 'diberitahukan': 1139, 'terdapat': 1140, 'kerusakan': 1141, 'asli': 1142, 'never': 1143, 'ever': 1144, 'this': 1145, 'that': 1146, 'setia': 1147, 'plan': 1148, 'berekspektasi': 1149, 'orng': 1150, 'jadinya': 1151, 'bantuan': 1152, 'bayi': 1153, 'tsb': 1154, 'gelas': 1155, 'dpssub': 1156, 'faktor': 1157, 'operasional': 1158, 'terhadap': 1159, 'efisiensi': 1160, 'dibeli': 1161, 'menyulitkan': 1162, 'hehehe': 1163, 'mengenai': 1164, 'merubah': 1165, 'pergantian': 1166, 'mepet': 1167, 'terbuang': 1168, 'baiknya': 1169, 'memeriksa': 1170, 'mengetahui': 1171, 'menjelaskan': 1172, 'meletakkan': 1173, 'hobi': 1174, 'direct': 1175, 'berhasil': 1176, 'kaget': 1177, 'empat': 1178, 'lho': 1179, 'asik': 1180, 'cantikcantik': 1181, 'july': 1182, 'going': 1183, 'turbulence': 1184, 'dikit': 1185, 'mendung': 1186, 'berkali': 1187, 'gapapa': 1188, 'random': 1189, 'nyampe': 1190, 'mengabaikan': 1191, 'yogyakarta': 1192, 'memesannya': 1193, 'wow': 1194, 'yaaa': 1195, 'kuliah': 1196, 'empuk': 1197, 'pecah': 1198, 'sepulang': 1199, 'ketahui': 1200, 'hongkong': 1201, 'keuntungan': 1202, 'mie': 1203, 'ehh': 1204, 'vip': 1205, 'sesering': 1206, 'ngumpulin': 1207, 'ditukar': 1208, 'ragu': 1209, 'seringkali': 1210, 'anggota': 1211, 'mengumpulkan': 1212, 'keduanya': 1213, 'mengubah': 1214, 'price': 1215, 'value': 1216, 'fair': 1217, 'berdasarkan': 1218, 'ready': 1219, 'journey': 1220, 'dana': 1221, 'hangus': 1222, 'pengganti': 1223, 'sesaat': 1224, 'bacaan': 1225, 'mencetak': 1226, 'ditutup': 1227, 'keuangan': 1228, 'abal': 1229, 'main': 1230, 'manusiawi': 1231, 'bedanya': 1232, 'optimal': 1233, 'jempol': 1234, 'dimundurkan': 1235, 'istirahat': 1236, 'bukti': 1237, 'pembayaran': 1238, 'berturutturut': 1239, 'delaynya': 1240, 'libur': 1241, 'menegangkan': 1242, 'tenang': 1243, 'diperkirakan': 1244, 'berdoa': 1245, 'prima': 1246, 'kekurangan': 1247, 'dah': 1248, 'patut': 1249, 'batam': 1250, 'lock': 1251, 'disamping': 1252, 'barangnya': 1253, 'pertanyaan': 1254, 'sana': 1255, 'ceritanya': 1256, 'oh': 1257, 'kesenggol': 1258, 'kak': 1259, 'telinga': 1260, 'emosi': 1261, 'parah': 1262, 'mah': 1263, 'walupun': 1264, 'paspasan': 1265, 'kaca': 1266, 'mandi': 1267, 'ln': 1268, 'dream': 1269, 'come': 1270, 'true': 1271, 'onboard': 1272, 'terburu': 1273, 'badan': 1274, 'stroller': 1275, 'intinya': 1276, 'mimpi': 1277, 'diatur': 1278, 'zone': 1279, 'hotseat': 1280, 'jd': 1281, 'disampaikan': 1282, 'rata': 1283, 'menjelajahi': 1284, 'websitenya': 1285, 'tamu': 1286, 'dikecewakan': 1287, 'priority': 1288, 'mobil': 1289, 'express': 1290, 'menyesuaikan': 1291, 'menjelajah': 1292, 'jaman': 1293, 'umur': 1294, 'biar': 1295, 'didapatkan': 1296, 'persiapkan': 1297, 'pesen': 1298, 'disini': 1299, 'baris': 1300, 'kesan': 1301, 'terdengar': 1302, 'penjelasan': 1303, 'demi': 1304, 'dibayar': 1305, 'kakinya': 1306, 'tukar': 1307, 'tukeran': 1308, 'bicara': 1309, 'belilah': 1310, 'pelit': 1311, 'sederet': 1312, 'saatnya': 1313, 'teratur': 1314, 'macam': 1315, 'dpt': 1316, 'bs': 1317, 'belakangan': 1318, 'solo': 1319, 'membosankan': 1320, 'rewel': 1321, 'meals': 1322, 'loh': 1323, 'recomended': 1324, 'much': 1325, 'haha': 1326, 'emergency': 1327, 'exit': 1328, 'kosong': 1329, 'mendaratkan': 1330, 'menyisihkan': 1331, 'terwujud': 1332, 'datangi': 1333, 'pulau': 1334, 'muluz': 1335, 'liat': 1336, 'februari': 1337, 'performance': 1338, 'diawal': 1339, 'menguras': 1340, 'diinfokan': 1341, 'mengunakan': 1342, 'dihitung': 1343, 'terkait': 1344, 'buku': 1345, 'berkat': 1346, 'dilayani': 1347, 'belt': 1348, 'deras': 1349, 'jujur': 1350, 'berbelok': 1351, 'awan': 1352, 'melewati': 1353, 'mengucapkan': 1354, 'maaf': 1355, 'dihargai': 1356, 'prinsip': 1357, 'diterapkan': 1358, 'is': 1359, 'golf': 1360, 'sriwijaya': 1361, 'terkena': 1362, 'pengambilan': 1363, 'durasi': 1364, 'menitan': 1365, 'cetak': 1366, 'back': 1367, 'cm': 1368, 'sejam': 1369, 'soekarnohatta': 1370, 'harapan': 1371, 'crewnya': 1372, 'sebenernya': 1373, 'dipisah': 1374, 'full': 1375, 'pramugaria': 1376, 'rice': 1377, 'ditemukan': 1378, 'kerepotan': 1379, 'board': 1380, 'ketentuan': 1381, 'jk': 1382, 'penipuan': 1383, 'rekomen': 1384, 'tertahan': 1385, 'sendirian': 1386, 'berkunjung': 1387, 'go': 1388, 'jt': 1389, 'berturut': 1390, 'turut': 1391, 'versi': 1392, 'skytrax': 1393, 'don': 1394, 'bahasa': 1395, 'kenyamanannya': 1396, 'two': 1397, 'parkir': 1398, 'space': 1399, 'turbulensi': 1400, 'penerbagan': 1401, 'wisatawan': 1402, 'fasilitasnya': 1403, 'masukan': 1404, 'tanda': 1405, 'melebihi': 1406, 'menakjubkan': 1407, 'letak': 1408, 'sarung': 1409, 'standart': 1410, 'rm': 1411, 'keindahan': 1412, 'perhatian': 1413, 'extra': 1414, 'kolom': 1415, 'kemanapun': 1416, 'pelayananya': 1417, 'one': 1418, 'eboarding': 1419, 'praktis': 1420, 'menunya': 1421, 'inginkan': 1422, 'world': 1423, 'anggaran': 1424, 'browsing': 1425, 'hubungi': 1426, 'way': 1427, 'klik': 1428, 'diperiksa': 1429, 'cemas': 1430, 'ac': 1431, 'segera': 1432, 'alias': 1433, 'belasan': 1434, 'ulasanulasan': 1435, 'dipertahankan': 1436, 'dipertimbangkan': 1437, 'imegresen': 1438, 'semarang': 1439, 'selesai': 1440, 'diijinkan': 1441, 'makanya': 1442, 'bakal': 1443, 'acara': 1444, 'kalaupun': 1445, 'sebesar': 1446, 'dijual': 1447, 'rescheduled': 1448, 'bandar': 1449, 'kenyataannya': 1450, 'bagusnya': 1451, 'degdeg': 1452, 'alhamdulilah': 1453, 'hendak': 1454, 'bbrp': 1455, 'terganggu': 1456, 'melakukann': 1457, 'minim': 1458, 'lcct': 1459, 'yag': 1460, 'senyuman': 1461, 'langit': 1462, 'mata': 1463, 'trimakasih': 1464, 'sangaat': 1465, 'cadangan': 1466, 'maklum': 1467, 'mealnya': 1468, 'saudara': 1469, 'asyik': 1470, 'happy': 1471, 'kulsub': 1472, 'ganteng': 1473, 'sebentar': 1474, 'menghargai': 1475, 'jadilah': 1476, 'senderan': 1477, 'tipis': 1478, 'heheee': 1479, 'jaminan': 1480, 'reguler': 1481, 'pegangan': 1482, 'dasarnya': 1483, 'emang': 1484, 'neko': 1485, 'skill': 1486, 'photo': 1487, 'cerah': 1488, 'nunggu': 1489, 'sangatsangat': 1490, 'biarpun': 1491, 'pernerbangan': 1492, 'ketinggian': 1493, 'disesuaikan': 1494, 'sale': 1495, 'nov': 1496, 'sebelumsebelumnya': 1497, 'fleksibel': 1498, 'sesuaikan': 1499, 'tutup': 1500, 'wajib': 1501, 'mengurus': 1502, 'tangan': 1503, 'majalah': 1504, 'efisien': 1505, 'warna': 1506, 'terbaru': 1507, 'sengaja': 1508, 'oleholeh': 1509, 'lipatnya': 1510, 'berdekatan': 1511, 'membutuhkan': 1512, 'pesawatpun': 1513, 'jualan': 1514, 'kejutan': 1515, 'tips': 1516, 'miring': 1517, 'restoran': 1518, 'handling': 1519, 'kualalumpur': 1520, 'pekanbaru': 1521, 'butuh': 1522, 'handal': 1523, 'interior': 1524, 'bertiga': 1525, 'tokyo': 1526, 'rakyat': 1527, 'penundaan': 1528, 'checkinnya': 1529, 'makananminuman': 1530, 'yakni': 1531, 'what': 1532, 'pay': 1533, 'carier': 1534, 'januari': 1535, 'tumpangi': 1536, 'perjalan': 1537, 'kapok': 1538, 'serasa': 1539, 'selasa': 1540, 'berbekal': 1541, 'jiran': 1542, 'just': 1543, 'rapi': 1544, 'pelajaran': 1545, 'meninggalkan': 1546, 'mengobservasi': 1547, 'stigma': 1548, 'meminta': 1549, 'menyimpan': 1550, 'sebelah': 1551, 'memberitahu': 1552, 'kudapan': 1553, 'ditahan': 1554, 'nah': 1555, 'rentang': 1556, 'petunjuk': 1557, 'pembeliannya': 1558, 'tuju': 1559, 'menambahkan': 1560, 'ratarata': 1561, 'mundur': 1562, 'seoul': 1563, 'allah': 1564, 'pizza': 1565, 'membelinya': 1566, 'terang': 1567, 'bis': 1568, 'berakhir': 1569, 'dlay': 1570, 'dikasih': 1571, 'roti': 1572, 'terulang': 1573, 'ribuan': 1574, 'ramai': 1575, 'adi': 1576, 'sucipto': 1577, 'rekomendasi': 1578, 'yogya': 1579, 'plus': 1580, 'keep': 1581, 'mkkgw': 1582, 'fegny': 1583, 'mohon': 1584, 'nol': 1585, 'kesana': 1586, 'pramugaranya': 1587, 'bogor': 1588, 'very': 1589, 'average': 1590, 'cenderung': 1591, 'berkesan': 1592, 'menghibur': 1593, 'menumpang': 1594, 'lambat': 1595, 'tanya': 1596, 'disajikan': 1597, 'malang': 1598, 'mendekati': 1599, 'benerbener': 1600, 'telepon': 1601, 'kemaren': 1602, 'pulsa': 1603, 'my': 1604, 'lokasi': 1605, 'kesini': 1606, 'say': 1607, 'bole': 1608, 'mlm': 1609, 'peristiwa': 1610, 'jatuhnya': 1611, 'karawang': 1612, 'atc': 1613, 'was': 1614, 'narita': 1615, 'nambah': 1616, 'murraaah': 1617, 'perginya': 1618, 'ingat': 1619, 'bebas': 1620, 'setianya': 1621, 'tegas': 1622, 'menegur': 1623, 'menyalakan': 1624, 'ponsel': 1625, 'rapih': 1626, 'jgn': 1627, 'yah': 1628, 'sebuah': 1629, 'gelar': 1630, 'kunjung': 1631, 'hanguskan': 1632, 'bersamasama': 1633, 'irittepat': 1634, 'diberangkatkan': 1635, 'menyatakan': 1636, 'ino': 1637, 'terhenti': 1638, 'khususnua': 1639, 'menjawab': 1640, 'perlakuan': 1641, 'merenggut': 1642, 'hak': 1643, 'berisik': 1644, 'boardnyaa': 1645, 'lendingnya': 1646, 'compartment': 1647, 'bagage': 1648, 'dirasa': 1649, 'balita': 1650, 'konstan': 1651, 'menendangnendang': 1652, 'dihagai': 1653, 'inisial': 1654, 'registrasi': 1655, 'pkaxf': 1656, 'dihiasi': 1657, 'kompartemen': 1658, 'obat': 1659, 'gosok': 1660, 'madu': 1661, 'minyak': 1662, 'angin': 1663, 'merahkuninghijau': 1664, 'penyanyi': 1665, 'bergaya': 1666, 'kebaratbaratan': 1667, 'fasih': 1668, 'berbahasa': 1669, 'kosmetik': 1670, 'tray': 1671, 'mengira': 1672, 'layar': 1673, 'berbusana': 1674, 'agama': 1675, 'tertentu': 1676, 'insiden': 1677, 'pendingin': 1678, 'halnya': 1679, 'bau': 1680, 'mi': 1681, 'instan': 1682, 'menggoda': 1683, 'kesimpulannya': 1684, 'ternayata': 1685, 'asianya': 1686, 'nayamn': 1687, 'toiletnya': 1688, 'diakibatkan': 1689, 'disiapkan': 1690, 'diperparah': 1691, 'terjebak': 1692, 'dkt': 1693, 'berbulan': 1694, 'dirugikan': 1695, 'hotelnya': 1696, 'kerugian': 1697, 'asuransinya': 1698, 'tune': 1699, 'protect': 1700, 'berfikir': 1701, 'lbh': 1702, 'kumpur': 1703, 'def': 1704, 'semenjak': 1705, 'menulis': 1706, 'sementara': 1707, 'ditiadakan': 1708, 'kabinnya': 1709, 'bangunan': 1710, 'jga': 1711, 'menguntungkan': 1712, 'qta': 1713, 'menukarkan': 1714, 'kmren': 1715, 'lagilagi': 1716, 'denpasarbandung': 1717, 'wahkami': 1718, 'untunglah': 1719, 'kemanamana': 1720, 'jebol': 1721, 'disayangkan': 1722, 'gantiganti': 1723, 'its': 1724, 'okay': 1725, 'favoritnyahampir': 1726, 'waktudan': 1727, 'keberapa': 1728, 'asiamaskapai': 1729, 'nyamanon': 1730, 'hematyang': 1731, 'mandinya': 1732, 'lar': 1733, 'arrival': 1734, 'shuttle': 1735, 'apron': 1736, 'bercabang': 1737, 'keempat': 1738, 'sekeras': 1739, 'edge': 1740, 'pd': 1741, 'kelima': 1742, 'normal': 1743, 'keenam': 1744, 'bagagge': 1745, 'merk': 1746, 'dicongkel': 1747, 'copot': 1748, 'will': 1749, 'let': 1750, 'thumb': 1751, 'choose': 1752, 'anymore': 1753, 'bete': 1754, 'menantikan': 1755, 'cicilan': 1756, 'lagijadi': 1757, 'duh': 1758, 'ber': 1759, 'spare': 1760, 'semurah': 1761, 'rumor': 1762, 'pupus': 1763, 'sikap': 1764, 'kesusahan': 1765, 'sedikitpun': 1766, 'penukaran': 1767, 'des': 1768, 'masalahjam': 1769, 'okewalau': 1770, 'menjalankan': 1771, 'baikbanyak': 1772, 'kelelahan': 1773, 'terakhirtapi': 1774, 'arahan': 1775, 'pengalamn': 1776, 'kalai': 1777, 'penrbangan': 1778, 'batas': 1779, 'alangkah': 1780, 'diumumkan': 1781, 'mengharuskan': 1782, 'pengguna': 1783, 'menlalu': 1784, 'media': 1785, 'sosial': 1786, 'mobile': 1787, 'phone': 1788, 'nervous': 1789, 'teh': 1790, 'relaks': 1791, 'tengah': 1792, 'checkrecheck': 1793, 'tidal': 1794, 'fasiitas': 1795, 'inovasi': 1796, 'jktdps': 1797, 'megalami': 1798, 'kesulitan': 1799, 'minangkabau': 1800, 'pdg': 1801, 'diharuskan': 1802, 'lapor': 1803, 'kelengkapan': 1804, 'dokumen': 1805, 'mengatar': 1806, 'pemikiranku': 1807, 'realitanya': 1808, 'layani': 1809, 'websait': 1810, 'kemudia': 1811, 'sesampai': 1812, 'sapa': 1813, 'mendengarnya': 1814, 'mejelaskan': 1815, 'suhu': 1816, 'berdurasi': 1817, 'melihi': 1818, 'nairasia': 1819, 'bantak': 1820, 'pantengi': 1821, 'sanak': 1822, 'sodara': 1823, 'bermacammacam': 1824, 'mudamuda': 1825, 'wkwk': 1826, 'turunan': 1827, 'keknya': 1828, 'se': 1829, 'berplat': 1830, 'terjangku': 1831, 'mennnnn': 1832, 'must': 1833, 'tryyyy': 1834, 'jogjajakarta': 1835, 'jakartabangkok': 1836, 'im': 1837, 'yeahhhh': 1838, 'boring': 1839, 'bgt': 1840, 'lurusin': 1841, 'dapetin': 1842, 'pembelin': 1843, 'beserta': 1844, 'dengar': 1845, 'yogyakartasingapura': 1846, 'berhemat': 1847, 'baikramah': 1848, 'memperhatikan': 1849, 'nunggunya': 1850, 'oksemoga': 1851, 'making': 1852, 'mengasikkan': 1853, 'lebh': 1854, 'amazing': 1855, 'pertahankan': 1856, 'perdana': 1857, 'kirakira': 1858, 'ubah': 1859, 'berangkatnya': 1860, 'terkendali': 1861, 'ramahjika': 1862, 'gag': 1863, 'pegangannya': 1864, 'patah': 1865, 'terpikir': 1866, 'berlubang': 1867, 'disana': 1868, 'gorengnya': 1869, 'temen': 1870, 'si': 1871, 'mbakmbak': 1872, 'penjaga': 1873, 'belagunya': 1874, 'economic': 1875, 'there': 1876, 'nada': 1877, 'maksa': 1878, 'berlangganan': 1879, 'airasiabigcom': 1880, 'degh': 1881, 'mendengar': 1882, 'kabar': 1883, 'menandingi': 1884, 'lai': 1885, 'level': 1886, 'keberadaan': 1887, 'membaik': 1888, 'daftarlah': 1889, 'frequent': 1890, 'flyer': 1891, 'ditukarkan': 1892, 'hotline': 1893, 'totally': 1894, 'youre': 1895, 'paying': 1896, 'pelanggannya': 1897, 'hatihati': 1898, 'dipilihpilih': 1899, 'bisabisa': 1900, 'dipilihakn': 1901, 'melati': 1902, 'jorok': 1903, 'easy': 1904, 'malay': 1905, 'pengembalian': 1906, 'dibayarkan': 1907, 'sinar': 1908, 'mentari': 1909, 'tersedianya': 1910, 'terburuk': 1911, 'ditolak': 1912, 'sbelumnya': 1913, 'menghanguskan': 1914, 'available': 1915, 'menaikkan': 1916, 'berhak': 1917, 'diprioritaskan': 1918, 'sepele': 1919, 'finansial': 1920, 'dialami': 1921, 'ketidakprofesionalan': 1922, 'kecerobohan': 1923, 'seenak': 1924, 'enaknya': 1925, 'nyawa': 1926, 'mikirin': 1927, 'tergiur': 1928, 'etis': 1929, 'mementingkan': 1930, 'kepentingan': 1931, 'trans': 1932, 'nusa': 1933, 'batik': 1934, 'ketimbang': 1935, 'acungkan': 1936, 'dipersilahkan': 1937, 'dicek': 1938, 'riwayat': 1939, 'cacat': 1940, 'track': 1941, 'record': 1942, 'trutama': 1943, 'semena': 1944, 'mena': 1945, 'sejenak': 1946, 'kwitansi': 1947, 'tv': 1948, 'dekatdekat': 1949, 'cekin': 1950, 'menampung': 1951, 'kno': 1952, 'sepihak': 1953, 'sebanyak': 1954, 'memaklumi': 1955, 'traffic': 1956, 'bertepatan': 1957, 'sekolah': 1958, 'setimpal': 1959, 'keramatamahan': 1960, 'pramugarari': 1961, 'terjaga': 1962, 'lebat': 1963, 'goncangan': 1964, 'ketenangan': 1965, 'sempet': 1966, 'sbysing': 1967, 'yakin': 1968, 'haus': 1969, 'diapresiasi': 1970, 'meletakan': 1971, 'tagreceive': 1972, 'dibagasi': 1973, 'hei': 1974, 'tong': 1975, 'sampah': 1976, 'dibuang': 1977, 'dikerjai': 1978, 'termahal': 1979, 'diimbangi': 1980, 'terduduk': 1981, 'mengerjakan': 1982, 'disuruh': 1983, 'mengirim': 1984, 'even': 1985, 'koperku': 1986, 'bisanya': 1987, 'pick': 1988, 'knp': 1989, 'dibobol': 1990, 'masa': 1991, 'lohh': 1992, 'seragam': 1993, 'grup': 1994, 'hampirin': 1995, 'telponan': 1996, 'mbak': 1997, 'barusan': 1998, 'ngejawab': 1999, 'kyknya': 2000, 'tangannya': 2001, 'pegang': 2002, 'ho': 2003, 'samping': 2004, 'ngegubris': 2005, 'tamunya': 2006, 'mulailah': 2007, 'ditanya': 2008, 'tanyain': 2009, 'bobol': 2010, 'professional': 2011, 'especially': 2012, 'hospitalitynya': 2013, 'worst': 2014, 'beres': 2015, 'lancarkondisi': 2016, 'ahh': 2017, 'room': 2018, 'penumpangyang': 2019, 'hobinya': 2020, 'karenamu': 2021, 'terbayngkan': 2022, 'finally': 2023, 'joob': 2024, 'baikkarena': 2025, 'jikalau': 2026, 'mengeluhkan': 2027, 'kualtas': 2028, 'tkake': 2029, 'macau': 2030, 'fikir': 2031, 'dibayangkan': 2032, 'berbudget': 2033, 'keatas': 2034, 'rajin': 2035, 'menengok': 2036, 'hunter': 2037, 'kaum': 2038, 'budgettraveler': 2039, 'terlepas': 2040, 'tenggara': 2041, 'carpet': 2042, 'ppketepatan': 2043, 'airasiahal': 2044, 'dibuatuntuk': 2045, 'orangwalaupun': 2046, 'standartapi': 2047, 'favoritesekaligus': 2048, 'berkontribusi': 2049, 'woth': 2050, 'lctt': 2051, 'ayam': 2052, 'kelaparan': 2053, 'dimajukan': 2054, 'rame': 2055, 'affordable': 2056, 'kagi': 2057, 'seringseringlah': 2058, 'peluang': 2059, 'berliburan': 2060, 'jamin': 2061, 'entertaiment': 2062, 'compliment': 2063, 'menyarankan': 2064, 'seringlah': 2065, 'mengkroscek': 2066, 'manatau': 2067, 'hitunghitung': 2068, 'koridor': 2069, 'plafond': 2070, 'menimbulkan': 2071, 'suara': 2072, 'jernih': 2073, 'menakutkan': 2074, 'nagih': 2075, 'memeuaskan': 2076, 'terbanglah': 2077, 'diluar': 2078, 'tambahannyapesawatnya': 2079, 'tergantung': 2080, 'menyebalkan': 2081, 'prilaku': 2082, 'keluarganyapadahal': 2083, 'gratisyg': 2084, 'kasihan': 2085, 'anaknya': 2086, 'diam': 2087, 'ibunya': 2088, 'menolak': 2089, 'suaminya': 2090, 'passenger': 2091, 'keluarganya': 2092, 'set': 2093, 'lainjangan': 2094, 'duit': 2095, 'maskapainya': 2096, 'dicounter': 2097, 'kecilsehingga': 2098, 'penerbangna': 2099, 'kebeberapa': 2100, 'change': 2101, 'pelayannannya': 2102, 'staffnya': 2103, 'always': 2104, 'mengantarkan': 2105, 'benua': 2106, 'kanguru': 2107, 'tertulis': 2108, 'mengganti': 2109, 'mengakibatkan': 2110, 'checkindrop': 2111, 'koordinasi': 2112, 'ngurah': 2113, 'rai': 2114, 'bnayak': 2115, 'sekai': 2116, 'serrta': 2117, 'pulangpergi': 2118, 'begini': 2119, 'ana': 2120, 'blm': 2121, 'freeseats': 2122, 'menekan': 2123, 'reccomended': 2124, 'menyukai': 2125, 'spaghetti': 2126, 'meatball': 2127, 'tersediahabis': 2128, 'jogjajohorsingapore': 2129, 'lulus': 2130, 'jktsby': 2131, 'ppnya': 2132, 'boardnya': 2133, 'guys': 2134, 'meatballschicken': 2135, 'lasagnachicken': 2136, 'roasted': 2137, 'mushroom': 2138, 'sauce': 2139, 'sebutin': 2140, 'better': 2141, 'setipenya': 2142, 'attendant': 2143, 'period': 2144, 'kuatir': 2145, 'nyalakan': 2146, 'mode': 2147, 'ditegur': 2148, 'cgkdps': 2149, 'itupun': 2150, 'september': 2151, 'tarifnya': 2152, 'masing': 2153, 'economi': 2154, 'menyenangkanpilihan': 2155, 'mahir': 2156, 'loving': 2157, 'isengiseng': 2158, 'wkwkwkw': 2159, 'asikkk': 2160, 'berbalik': 2161, 'pertamanya': 2162, 'niat': 2163, 'pertandingan': 2164, 'liga': 2165, 'persita': 2166, 'vs': 2167, 'persik': 2168, 'sepadan': 2169, 'dipastikan': 2170, 'lowbudget': 2171, 'bandingbandingkan': 2172, 'momen': 2173, 'lebaran': 2174, 'melaui': 2175, 'sambutan': 2176, 'ditawari': 2177, 'diizinkan': 2178, 'otoritas': 2179, 'berhubung': 2180, 'lintas': 2181, 'adisucipto': 2182, 'money': 2183, 'keluarin': 2184, 'pelayananpun': 2185, 'datanglah': 2186, 'lebuh': 2187, 'chulia': 2188, 'conter': 2189, 'officer': 2190, 'mengunakann': 2191, 'lanjutan': 2192, 'connecting': 2193, 'dibandaradiluar': 2194, 'ketatnya': 2195, 'terbangnya': 2196, 'banyakbuat': 2197, 'bagasikalau': 2198, 'oklah': 2199, 'kgtp': 2200, 'lainpasti': 2201, 'cinta': 2202, 'iniapakah': 2203, 'sjtapi': 2204, 'sebelumnyasaya': 2205, 'flexible': 2206, 'asiadan': 2207, 'puaspesawatnya': 2208, 'yacukup': 2209, 'waktuselalu': 2210, 'nyahehehe': 2211, 'prebooked': 2212, 'belinya': 2213, 'mendekat': 2214, 'direncanakan': 2215, 'siapsiap': 2216, 'baca': 2217, 'kelasnya': 2218, 'dikelasnya': 2219, 'tiidak': 2220, 'bangga': 2221, 'direkomendasikan': 2222, 'tertutama': 2223, 'promosinya': 2224, 'gratisnya': 2225, 'beri': 2226, 'dos': 2227, 'copilot': 2228, 'keamaan': 2229, 'menikung': 2230, 'jantung': 2231, 'berdetak': 2232, 'kencang': 2233, 'wilayah': 2234, 'kilapan': 2235, 'petir': 2236, 'kejauhan': 2237, 'getar': 2238, 'terbentur': 2239, 'benda': 2240, 'memperingatkan': 2241, 'memutar': 2242, 'curam': 2243, 'mengelak': 2244, 'cahaya': 2245, 'sadar': 2246, 'benturan': 2247, 'melepas': 2248, 'kepergian': 2249, 'lalui': 2250, 'seandainya': 2251, 'kenangkenangan': 2252, 'cumacuma': 2253, 'medanpalembang': 2254, 'ditujuan': 2255, 'pamor': 2256, 'semangat': 2257, 'inofativ': 2258, 'khasnya': 2259, 'mengantisipasi': 2260, 'bag': 2261, 'bulak': 2262, 'mengapa': 2263, 'konsentrasi': 2264, 'mencicipi': 2265, 'hidangannya': 2266, 'kecewaan': 2267, 'yup': 2268, 'mendarah': 2269, 'daging': 2270, 'daya': 2271, 'huhuhu': 2272, 'tt': 2273, 'perpindahan': 2274, 'baguslah': 2275, 'dipercepat': 2276, 'sebaik': 2277, 'dpsjog': 2278, 'memuaskanuniknya': 2279, 'livery': 2280, 'turn': 2281, 'crime': 2282, 'turnbackcrimeplane': 2283, 'turnbackcrime': 2284, 'togetherwecan': 2285, 'degankru': 2286, 'enggak': 2287, 'mesti': 2288, 'nanya': 2289, 'pusat': 2290, 'dptin': 2291, 'brpdi': 2292, 'belabelain': 2293, 'request': 2294, 'sepelit': 2295, 'pax': 2296, 'bersamaan': 2297, 'bookingan': 2298, 'protes': 2299, 'dikumpulin': 2300, 'masalahnya': 2301, 'pramugarira': 2302, 'pengurusan': 2303, 'selebar': 2304, 'sajikan': 2305, 'bersiap': 2306, 'bayanganku': 2307, 'asian': 2308, 'fried': 2309, 'satay': 2310, 'taste': 2311, 'feel': 2312, 'kepingin': 2313, 'flythru': 2314, 'melanjutkan': 2315, 'mendapati': 2316, 'cooperatif': 2317, 'digunaka': 2318, 'sakit': 2319, 'pemberitauan': 2320, 'gangguan': 2321, 'pandang': 2322, 'panik': 2323, 'kualitasnya': 2324, 'solusi': 2325, 'mengenakan': 2326, 'charga': 2327, 'diantaranya': 2328, 'didaftarkan': 2329, 'enjoy': 2330, 'usia': 2331, 'disuru': 2332, 'sebelahan': 2333, 'wkt': 2334, 'bl': 2335, 'ttg': 2336, 'mgkn': 2337, 'bkn': 2338, 'mslh': 2339, 'membayarnya': 2340, 'sesuatu': 2341, 'hidden': 2342, 'clausul': 2343, 'inikrn': 2344, 'sblmnya': 2345, 'prnh': 2346, 'kehilangan': 2347, 'kartu': 2348, 'mama': 2349, 'menginfokan': 2350, 'sdg': 2351, 'ditunggu': 2352, 'kakak': 2353, 'prince': 2354, 'palace': 2355, 'muang': 2356, 'inggris': 2357, 'maksud': 2358, 'temui': 2359, 'selebih': 2360, 'terhitung': 2361, 'pembatalan': 2362, 'thumbs': 2363, 'berwibawa': 2364, 'penjemputan': 2365, 'taoi': 2366, 'ditoleransi': 2367, 'tawaran': 2368, 'memikat': 2369, 'pelancong': 2370, 'dimaklumi': 2371, 'peroleh': 2372, 'senai': 2373, 'johor': 2374, 'sesuatunya': 2375, 'menempelkan': 2376, 'timbang': 2377, 'timbangan': 2378, 'tembak': 2379, 'barcode': 2380, 'menunjukan': 2381, 'dimasukan': 2382, 'scan': 2383, 'permintaan': 2384, 'mintalah': 2385, 'tagging': 2386, 'save': 2387, 'berliburdan': 2388, 'perjalaan': 2389, 'klseoul': 2390, 'mengenyangkan': 2391, 'kliaicn': 2392, 'jtpp': 2393, 'semnjak': 2394, 'kesempatan': 2395, 'belajar': 2396, 'budaya': 2397, 'produk': 2398, 'centrangnya': 2399, 'seksi': 2400, 'diibaratkan': 2401, 'kereta': 2402, 'api': 2403, 'komuter': 2404, 'pergipulang': 2405, 'jaringannya': 2406, 'overseas': 2407, 'fyi': 2408, 'istri': 2409, 'services': 2410, 'number': 2411, 'layanannya': 2412, 'digabungkan': 2413, 'aplikasinya': 2414, 'handphone': 2415, 'membantusayang': 2416, 'sekrg': 2417, 'byk': 2418, 'dahulupilihan': 2419, 'kehabisankalau': 2420, 'terbangkadang': 2421, 'otp': 2422, 'predikat': 2423, 'motto': 2424, 'everybody': 2425, 'bermasalah': 2426, 'perthaustralia': 2427, 'terbatastidak': 2428, 'peduli': 2429, 'orangbahwa': 2430, 'keamananya': 2431, 'meragukanuntuk': 2432, 'tulisan': 2433, 'kgno': 2434, 'morepikir': 2435, 'berjalannya': 2436, 'bagasikarena': 2437, 'denda': 2438, 'dicegat': 2439, 'menimbang': 2440, 'center': 2441, 'bagasimeal': 2442, 'dibukakami': 2443, 'kginternasional': 2444, 'berjauhan': 2445, 'suamikami': 2446, 'screening': 2447, 'dllransel': 2448, 'payung': 2449, 'bawaakhirnya': 2450, 'loloske': 2451, 'imigrasiboarding': 2452, 'konecting': 2453, 'menemukan': 2454, 'paramugari': 2455, 'ramahmurah': 2456, 'seminggu': 2457, 'keroncongan': 2458, 'diredam': 2459, 'sejuk': 2460, 'nyamankabin': 2461, 'white': 2462, 'kofee': 2463, 'pmkami': 2464, 'keluarsampai': 2465, 'rompi': 2466, 'orangnya': 2467, 'bawakan': 2468, 'puanjang': 2469, 'mencarikan': 2470, 'kendaraan': 2471, 'sopirnya': 2472, 'menelpon': 2473, 'kamipun': 2474, 'nam': 2475, 'asiamakanannya': 2476, 'porsi': 2477, 'preebook': 2478, 'diturunkan': 2479, 'promountuk': 2480, 'lumayanlebih': 2481, 'ngalami': 2482, 'lamamalah': 2483, 'titip': 2484, 'loket': 2485, 'partner': 2486, 'bervacation': 2487, 'visa': 2488, 'waiver': 2489, 'kuta': 2490, 'lebihhh': 2491, 'excited': 2492, 'tukerin': 2493, 'rating': 2494, 'alokasi': 2495, 'csr': 2496, 'beg': 2497, 'galas': 2498, 'terkejut': 2499, 'dibenarkan': 2500, 'menyuruh': 2501, 'minit': 2502, 'sahaja': 2503, 'memasukkan': 2504, 'komen': 2505, 'mewujudkannya': 2506, 'sialnya': 2507, 'keruang': 2508, 'tunggupadahal': 2509, 'security': 2510, 'lesehan': 2511, 'selasar': 2512, 'kedinginanlalu': 2513, 'garagaranya': 2514, 'disiplin': 2515, 'penyakit': 2516, 'diindonesia': 2517, 'berkepanjangan': 2518, 'kirain': 2519, 'seremonial': 2520, 'perusahaan': 2521, 'membernya': 2522, 'aiport': 2523, 'doang': 2524, 'pokok': 2525, 'dikenakan': 2526, 'fees': 2527, 'gst': 2528, 'seminim': 2529, 'diinformasikan': 2530, 'ditempat': 2531, 'usd': 2532, 'legroom': 2533, 'yangsangat': 2534, 'luarbiasa': 2535, 'pesawatrasanya': 2536, 'penganten': 2537, 'hehemaskapai': 2538, 'percayai': 2539, 'airasiapesawatnya': 2540, 'warnanya': 2541, 'hehetepat': 2542, 'waktupelayanan': 2543, 'memuaskanstaff': 2544, 'ramahdan': 2545, 'selamatgood': 2546, 'lgs': 2547, 'type': 2548, 'palembangkuala': 2549, 'namu': 2550, 'adisuipto': 2551, 'lanjut': 2552, 'plane': 2553, 'agt': 2554, 'budged': 2555, 'dilay': 2556, 'skrng': 2557, 'berurusan': 2558, 'costumer': 2559, 'tertolong': 2560, 'pemindahan': 2561, 'perbaikan': 2562, 'minimum': 2563, 'memaksimalkan': 2564, 'disambut': 2565, 'extreme': 2566, 'berawan': 2567, 'okeeeee': 2568, 'beebrapa': 2569, 'menebus': 2570, 'ganjaran': 2571, 'cukai': 2572, 'senilai': 2573, 'untul': 2574, 'penjadwalan': 2575, 'hindari': 2576, 'tanggungtanggung': 2577, 'histori': 2578, 'flightradarcom': 2579, 'menyedihkan': 2580, 'induknya': 2581, 'menyesal': 2582, 'trouble': 2583, 'manajemennya': 2584, 'penerbang': 2585, 'sholat': 2586, 'subuh': 2587, 'tersentum': 2588, 'menyambung': 2589, 'kalimantan': 2590, 'balikpapan': 2591, 'krew': 2592, 'transitpun': 2593, 'menjelang': 2594, 'hk': 2595, 'nga': 2596, 'selfboarding': 2597, 'antriannya': 2598, 'padatnya': 2599, 'melupakan': 2600, 'yangbpenting': 2601, 'saudari': 2602, 'peswatnya': 2603, 'sekembalinya': 2604, 'y': 2605, 'n': 2606, 'ditemui': 2607, 'dikatakan': 2608, 'aturan': 2609, 'bayangkan': 2610, 'pcs': 2611, 'menghabiskan': 2612, 'kecilsedangnya': 2613, 'jawabannya': 2614, 'bijak': 2615, 'coca': 2616, 'cola': 2617, 'mantab': 2618, 'kepala': 2619, 'kepalanya': 2620, 'hitam': 2621, 'gerimis': 2622, 'sewaktu': 2623, 'dimungkinkan': 2624, 'dikehendaki': 2625, 'varian': 2626, 'diabaikanatau': 2627, 'disengaja': 2628, 'anyway': 2629, 'terguncang': 2630, 'guncangannya': 2631, 'pdhl': 2632, 'pengennya': 2633, 'deket': 2634, 'krna': 2635, 'dberikan': 2636, 'sya': 2637, 'tiketing': 2638, 'tempatkan': 2639, 'bayarpun': 2640, 'malas': 2641, 'terogoh': 2642, 'cobalah': 2643, 'listing': 2644, 'interrested': 2645, 'place': 2646, 'kamera': 2647, 'menciptakan': 2648, 'keren': 2649, 't': 2650, 'satusatunya': 2651, 'maksapai': 2652, 'aisa': 2653, 'dmkcgk': 2654, 'hadir': 2655, 'nyampai': 2656, 'feet': 2657, 'muuullluuuussss': 2658, 'markotop': 2659, 'pisan': 2660, 'unggul': 2661, 'menikmat': 2662, 'explore': 2663, 'dikunjungi': 2664, 'sempitpenempatan': 2665, 'sekaligusjd': 2666, 'bolakbalik': 2667, 'jakartadenpasar': 2668, 'judul': 2669, 'bingit': 2670, 'coz': 2671, 'klo': 2672, 'sesuka': 2673, 'denga': 2674, 'menariknya': 2675, 'kaa': 2676, 'kirim': 2677, 'menghindari': 2678, 'protokol': 2679, 'offnya': 2680, 'gagal': 2681, 'berkabut': 2682, 'didelay': 2683, 'permohonan': 2684, 'sandwich': 2685, 'bertanggung': 2686, 'baiktidak': 2687, 'delaypramugari': 2688, 'cekatan': 2689, 'modal': 2690, 'nekat': 2691, 'perlengkapan': 2692, 'paspor': 2693, 'wkkw': 2694, 'masker': 2695, 'face': 2696, 'shield': 2697, 'saku': 2698, 'ongkos': 2699, 'keluarkan': 2700, 'bandaranya': 2701, 'ddk': 2702, 'ngopi': 2703, 'tungguny': 2704, 'destinasinya': 2705, 'didominasi': 2706, 'merahputih': 2707, 'berguna': 2708, 'jakartahaneda': 2709, 'fantastis': 2710, 'jangka': 2711, 'menabung': 2712, 'terbiasa': 2713, 'mewah': 2714, 'lounge': 2715, 'ekstra': 2716, 'entertain': 2717, 'televisi': 2718, 'memangkas': 2719, 'semisal': 2720, 'akomodasi': 2721, 'office': 2722, 'work': 2723, 'skedule': 2724, 'cukub': 2725, 'dibuka': 2726, 'diperbolehkan': 2727, 'suatu': 2728, 'kemajuan': 2729, 'diingat': 2730, 'usahakan': 2731, 'nasional': 2732, 'applikasinya': 2733, 'tidurhehehe': 2734, 'menekuk': 2735, 'hentihentinya': 2736, 'kocek': 2737, 'dibawah': 2738, 'skenario': 2739, 'sky': 2740, 'co': 2741, 'spesial': 2742, 'speaker': 2743, 'nyanyi': 2744, 'bahagia': 2745, 'qr': 2746, 'code': 2747, 'paperless': 2748, 'tampilan': 2749, 'eazy': 2750, 'access': 2751, 'user': 2752, 'terjadwal': 2753, 'mitra': 2754, 'tripnya': 2755, 'kotakota': 2756, 'manfaatkan': 2757, 'bigdeal': 2758, 'airasiacom': 2759, 'newsletter': 2760, 'klasik': 2761, 'kualanamu': 2762, 'berlabel': 2763, 'xpress': 2764, 'regular': 2765, 'selaku': 2766, 'batal': 2767, 'dikembalikan': 2768, 'tasnya': 2769, 'jaga': 2770, 'rusak': 2771, 'resleting': 2772, 'dihidangkan': 2773, 'pelan': 2774, 'berani': 2775, 'istimewa': 2776, 'konsumsi': 2777, 'dilihat': 2778, 'bias': 2779, 'maklumi': 2780, 'lima': 2781, 'signifikan': 2782, 'penerbangaannya': 2783, 'merencanakan': 2784, 'akibat': 2785, 'miss': 2786, 'evaluasi': 2787, 'management': 2788, 'internal': 2789, 'peusahaan': 2790, 'hanyalah': 2791, 'dihati': 2792, 'memiiki': 2793, 'by': 2794, 'menerima': 2795, 'penghargaan': 2796, 'misal': 2797, 'dipilihkan': 2798, 'butuhkan': 2799, 'berkeliling': 2800, 'dunia': 2801, 'kehendak': 2802, 'yougov': 2803, 'potongan': 2804, 'maki': 2805, 'berontak': 2806, 'peak': 2807, 'season': 2808, 'nyantai': 2809, 'muda': 2810, 'belom': 2811, 'menyalurkan': 2812, 'murni': 2813, 'menukar': 2814, 'jakartasingapurajakarta': 2815, 'juta': 2816, 'sisanya': 2817, 'samasama': 2818, 'dont': 2819, 'worry': 2820, 'freetetap': 2821, 'turbulencenya': 2822, 'mual': 2823, 'menyelonjorkan': 2824, 'vietnam': 2825, 'airasiakenapa': 2826, 'berwisatathanks': 2827, 'voucher': 2828, 'max': 2829, 'jpy': 2830, 'hnya': 2831, 'terjaukau': 2832, 'indonesiasaya': 2833, 'banyakcrew': 2834, 'ramahprofesionalpenerbangan': 2835, 'rutenya': 2836, 'infokan': 2837, 'teleponemail': 2838, 'mendapatan': 2839, 'port': 2840, 'dalamnya': 2841, 'piawai': 2842, 'soft': 2843, 'tablet': 2844, 'get': 2845, 'kiasan': 2846, 'terjangkaunya': 2847, 'katakan': 2848, 'trauma': 2849, 'sgjkt': 2850, 'sept': 2851, 'freeseat': 2852, 'laluperjalanan': 2853, 'ajanamanya': 2854, 'nekad': 2855, 'nyarinya': 2856, 'dong': 2857, 'not': 2858, 'bad': 2859, 'yadibanding': 2860, 'singa': 2861, 'maupu': 2862, 'horor': 2863, 'make': 2864, 'airlane': 2865, 'p': 2866, 'serba': 2867, 'gampangnya': 2868, 'gampang': 2869, 'hebatnya': 2870, 'menjaga': 2871, 'kualita': 2872, 'mengetahu': 2873, 'disertai': 2874, 'diragukan': 2875, 'langkah': 2876, 'menelusuri': 2877, 'lantai': 2878, 'bergoyang': 2879, 'manakala': 2880, 'vlogvlog': 2881, 'youtubers': 2882, 'tatapan': 2883, 'mencurigakan': 2884, 'vloger': 2885, 'sekian': 2886, 'tetangga': 2887, 'instal': 2888, 'follow': 2889, 'akun': 2890, 'ignya': 2891, 'update': 2892, 'diduga': 2893, 'direschedule': 2894, 'katanya': 2895, 'amat': 2896, 'resto': 2897, 'nikmat': 2898, 'kopi': 2899, 'toraja': 2900, 'pilihannya': 2901, 'harganyapun': 2902, 'kuning': 2903, 'dim': 2904, 'sum': 2905, 'roast': 2906, 'saksi': 2907, 'babak': 2908, 'terbayangkan': 2909, 'sekantor': 2910, 'newbie': 2911, 'susun': 2912, 'universal': 2913, 'studio': 2914, 'kepulangan': 2915, 'panduan': 2916, 'blog': 2917, 'melangkahkan': 2918, 'nike': 2919, 'do': 2920, 'standby': 2921, 'sejujurnya': 2922, 'ceilah': 2923, 'gaya': 2924, 'beud': 2925, 'lu': 2926, 'komentar': 2927, 'kejujuran': 2928, 'jiwa': 2929, 'petualang': 2930, 'selasela': 2931, 'canggih': 2932, 'selfcheckin': 2933, 'berlayar': 2934, 'sentuh': 2935, 'peminatnya': 2936, 'konvensional': 2937, 'betah': 2938, 'berlamalama': 2939, 'colokan': 2940, 'listrik': 2941, 'aktivitas': 2942, 'mencharge': 2943, 'gadget': 2944, 'saji': 2945, 'convenience': 2946, 'store': 2947, 'circle': 2948, 'k': 2949, 'tokotoko': 2950, 'variannya': 2951, 'sajalah': 2952, 'mengisi': 2953, 'kesukaan': 2954, 'kenyang': 2955, 'dompet': 2956, 'terselamatkan': 2957, 'luput': 2958, 'barangbarang': 2959, 'larang': 2960, 'tahanan': 2961, 'itulah': 2962, 'tema': 2963, 'usung': 2964, 'afdol': 2965, 'mengonsumsi': 2966, 'asin': 2967, 'kandas': 2968, 'dimulai': 2969, 'tipe': 2970, 'kini': 2971, 'tangerang': 2972, 'radar': 2973, 'membandingkannya': 2974, 'citilink': 2975, 'halhal': 2976, 'boardingpass': 2977, 'sabar': 2978, 'membuktikan': 2979, 'kebenarannya': 2980, 'evidence': 2981, 'kebiasaan': 2982, 'dirasakan': 2983, 'meruap': 2984, 'indera': 2985, 'penciuman': 2986, 'berpakaian': 2987, 'jaket': 2988, 'rok': 2989, 'memperlihatkan': 2990, 'passnya': 2991, 'menghitung': 2992, 'sejenis': 2993, 'alat': 2994, 'hitung': 2995, 'tempatnya': 2996, 'sabuk': 2997, 'pengaman': 2998, 'memeragakan': 2999, 'evakuasi': 3000, 'tata': 3001, 'seisinya': 3002, 'mengizinkan': 3003, 'membantunya': 3004, 'informatif': 3005, 'keahlian': 3006, 'mengendarai': 3007, 'tumbukan': 3008, 'berpegangan': 3009, 'erat': 3010, 'bergoncang': 3011, 'seiring': 3012, 'tekanan': 3013, 'mumpuni': 3014, 'kategori': 3015, 'penampilan': 3016, 'menumenu': 3017, 'alasannya': 3018, 'tiga': 3019, 'daratan': 3020, 'kebersihannya': 3021, 'berbau': 3022, 'pesing': 3023, 'diambil': 3024, 'tiketcom': 3025, 'skyscanner': 3026, 'saling': 3027, 'melengkapi': 3028, 'dituju': 3029, 'misalnya': 3030, 'asiacom': 3031, 'aircoid': 3032, 'citilinkcoid': 3033, 'ikuti': 3034, 'situsnya': 3035, 'addon': 3036, 'lengkapnya': 3037, 'silakan': 3038, 'masingmasing': 3039, 'mengandalkan': 3040, 'tenaga': 3041, 'bertahan': 3042, 'brandimage': 3043, 'bumerang': 3044, 'meningkatkan': 3045, 'citra': 3046, 'menangkis': 3047, 'negatif': 3048, 'jangkauan': 3049, 'testimoni': 3050, 'memasarkan': 3051, 'sampailah': 3052, 'matahari': 3053, 'bersinar': 3054, 'terangnya': 3055, 'menorehkan': 3056, 'dilupakan': 3057, 'hihi': 3058, 'mantap': 3059, 'bigsmile': 3060, 'bigpoints': 3061, 'bosanbosan': 3062, 'mengirimkan': 3063, 'surel': 3064, 'cant': 3065, 'wait': 3066, 'see': 3067, 'blom': 3068, 'ikutan': 3069, 'seharus': 3070, 'harian': 3071, 'rabu': 3072, 'komitmen': 3073, 'kedepan': 3074, 'memenangan': 3075, 'award': 3076, 'min': 3077, 'lamanya': 3078, 'nantinya': 3079, 'ngosngosan': 3080, 'siasia': 3081, 'dech': 3082, 'mengendong': 3083, 'berlari': 3084, 'akupun': 3085, 'bersyukur': 3086, 'memeilih': 3087, 'ibukota': 3088, 'inflightnya': 3089, 'lemat': 3090, 'rekommended': 3091, 'worthit': 3092, 'memuasakan': 3093, 'waluupun': 3094, 'remaja': 3095, 'berempat': 3096, 'ngak': 3097, 'disebar': 3098, 'kenal': 3099, 'dipikirkan': 3100, 'inii': 3101, 'jemput': 3102, 'subcgk': 3103, 'pekan': 3104, 'donkminimal': 3105, 'rangkaian': 3106, 'penundahan': 3107, 'semarangdelay': 3108, 'salut': 3109, 'mondar': 3110, 'mandir': 3111, 'job': 3112, 'taipei': 3113, 'banting': 3114, 'berterima': 3115, 'mengunjungi': 3116, 'tahunnya': 3117, 'kalimat': 3118, 'ingatan': 3119, 'kompetitor': 3120, 'inikemudian': 3121, 'inicrew': 3122, 'nyamansalah': 3123, 'udaraanak': 3124, 'mantapsy': 3125, 'lakoni': 3126, 'labuan': 3127, 'bajo': 3128, 'kawan': 3129, 'opsi': 3130, 'aplikasinyaspt': 3131, 'eboardingshg': 3132, 'dinyamankan': 3133, 'zonasi': 3134, 'temukan': 3135, 'hand': 3136, 'cary': 3137, 'dumel': 3138, 'menumpuk': 3139, 'sebagaimana': 3140, 'tubuh': 3141, 'pemilihan': 3142, 'pisahpisah': 3143, 'hrga': 3144, 'tertarik': 3145, 'penawaran': 3146, 'poinnamun': 3147, 'kecewanya': 3148, 'berisi': 3149, 'sayamemang': 3150, 'mepetdengan': 3151, 'jm': 3152, 'sayatapi': 3153, 'pahamdengan': 3154, 'cepek': 3155, 'beneran': 3156, 'backpakcer': 3157, 'terminalnya': 3158, 'teknologinya': 3159, 'recommended': 3160, 'great': 3161, 'meleset': 3162, 'limayan': 3163, 'bersihpara': 3164, 'lebarkami': 3165, 'perbagan': 3166, 'menanti': 3167, 'terupdate': 3168, 'penangmalaysia': 3169, 'myr': 3170, 'total': 3171, 'luarbiasaini': 3172, 'ramahcare': 3173, 'peningkatan': 3174, 'performa': 3175, 'usulkan': 3176, 'diupayakan': 3177, 'agenda': 3178, 'sajian': 3179, 'addsons': 3180, 'hendaknya': 3181, 'earn': 3182, 'id': 3183, 'category': 3184, 'yad': 3185, 'bangkokdon': 3186, 'mueang': 3187, 'frlqre': 3188, 'berestetap': 3189, 'paksakan': 3190, 'kgseperti': 3191, 'transaksi': 3192, 'cgksub': 3193, 'diperjalanan': 3194, 'cairnya': 3195, 'jogjakuala': 3196, 'variatif': 3197, 'dijadwalkan': 3198, 'memengaruhi': 3199, 'baikpramugari': 3200, 'tegassuasana': 3201, 'baikutk': 3202, 'bandingkan': 3203, 'arlines': 3204, 'lions': 3205, 'dijelaskan': 3206, 'rinci': 3207, 'memasuku': 3208, 'berebut': 3209, 'modern': 3210, 'lapang': 3211, 'memprioritaskan': 3212, 'passlayanan': 3213, 'penggunanya': 3214, 'sedia': 3215, 'sejajuh': 3216, 'sediakan': 3217, 'ajak': 3218, 'adik': 3219, 'laper': 3220, 'majuin': 3221, 'posisinya': 3222, 'soetta': 3223, 'damri': 3224, 'huhh': 3225, 'masyarakat': 3226, 'memilikibanyak': 3227, 'calon': 3228, 'keyamanan': 3229, 'bisadikatakan': 3230, 'doemstik': 3231, 'surabayajakarta': 3232, 'gila': 3233, 'mahasiswa': 3234, 'perantauan': 3235, 'experience': 3236, 'mengikuti': 3237, 'membahas': 3238, 'managemen': 3239, 'peprnah': 3240, 'kassih': 3241, 'itinery': 3242, 'light': 3243, 'we': 3244, 'berkalikali': 3245, 'above': 3246, 'improving': 3247, 'your': 3248, 'tiada': 3249, 'pegunungan': 3250, 'jatim': 3251, 'tersapu': 3252, 'dikenal': 3253, 'umroh': 3254, 'singgah': 3255, 'magazine': 3256, 'isnpirasi': 3257, 'kunjungi': 3258, 'sempurna': 3259, 'kamu': 3260, 'impikan': 3261, 'maskapaicocok': 3262, 'bagusjenis': 3263, 'mudik': 3264, 'perantau': 3265, 'memotong': 3266, 'penghalang': 3267, 'membuktikannya': 3268, 'sekelasnya': 3269, 'raman': 3270, 'berjamjam': 3271, 'passanger': 3272, 'sanagat': 3273, 'image': 3274, 'dibagian': 3275, 'bungkus': 3276, 'bagusbagus': 3277, 'sampainya': 3278, 'bernyanyi': 3279, 'fals': 3280, 'try': 3281, 'dude': 3282, 'masukkan': 3283, 'penyimpanan': 3284, 'mencukupi': 3285, 'berawal': 3286, 'kesigapan': 3287, 'nota': 3288, 'bene': 3289, 'pengobat': 3290, 'kesal': 3291, 'program': 3292, 'loyalty': 3293, 'hematnya': 3294, 'tua': 3295, 'berdua': 3296, 'dibandara': 3297, 'haruskan': 3298, 'mesintanpa': 3299, 'bagasinamun': 3300, 'bayarkan': 3301, 'lumayandalam': 3302, 'disebut': 3303, 'troublence': 3304, 'diatasiintinya': 3305, 'mengalamai': 3306, 'menemui': 3307, 'premeal': 3308, 'diinginkan': 3309, 'seats': 3310, 'young': 3311, 'perbedaan': 3312, 'burger': 3313, 'makannya': 3314, 'susah': 3315, 'payah': 3316, 'dioper': 3317, 'tertinggal': 3318, 'again': 3319, 'berusia': 3320, 'tampak': 3321, 'bt': 3322, 'cicipipelayanan': 3323, 'sebagus': 3324, 'hallo': 3325, 'berbagi': 3326, 'campus': 3327, 'life': 3328, 'kos': 3329, 'mbamba': 3330, 'sharing': 3331, 'bermanfaat': 3332, 'menyusun': 3333, 'terobati': 3334, 'jogjayakarta': 3335, 'kecantol': 3336, 'kedepannya': 3337, 'slogannya': 3338, 'terbukti': 3339, 'termudah': 3340, 'dihandalkan': 3341, 'pekerjanya': 3342, 'jempolan': 3343, 'toleransi': 3344, 'disinilah': 3345, 'keunggulannya': 3346, 'ayo': 3347, 'dibutuhkan': 3348, 'out': 3349, 'jepangnya': 3350, 'pindahpindah': 3351, 'kecuali': 3352, 'addons': 3353, 'pkukl': 3354, 'dimakan': 3355, 'recommendeed': 3356, 'praktissimpel': 3357, 'setu': 3358, 'menginap': 3359, 'mengambil': 3360, 'joga': 3361, 'lainlalu': 3362, 'berkantor': 3363, 'menyenankan': 3364, 'mendebarkan': 3365, 'diinfo': 3366, 'sehari': 3367, 'terlantar': 3368, 'pancake': 3369, 'ngangenin': 3370, 'mueng': 3371, 'nyata': 3372, 'bermimpi': 3373, 'thai': 3374, 'kangen': 3375, 'sm': 3376, 'micin': 3377, 'rekan': 3378, 'sekerja': 3379, 'persiapan': 3380, 'mencium': 3381, 'aromanya': 3382, 'ringgit': 3383, 'kampung': 3384, 'halaman': 3385, 'bersiapsiap': 3386, 'diganti': 3387, 'telpon': 3388, 'berubah': 3389, 'dikemukakan': 3390, 'teknis': 3391, 'konfirmasi': 3392, 'hargai': 3393, 'menjadwalkan': 3394, 'berantakan': 3395, 'menurun': 3396, 'jera': 3397, 'wuzzzz': 3398, 'menggiurkan': 3399, 'jakartabali': 3400, 'mudahmudahan': 3401, 'jantungan': 3402, 'dipesawat': 3403, 'pules': 3404, 'susunan': 3405, 'uda': 3406, 'memantau': 3407, 'alternatif': 3408, 'mengecewakanlandingnya': 3409, 'sayaterbang': 3410, 'berkualitas': 3411, 'betul': 3412, 'dibayarin': 3413, 'of': 3414, 'kekecewaan': 3415, 'kelaskelas': 3416, 'airhostess': 3417, 'driving': 3418, 'me': 3419, 'poinaduhhh': 3420, 'bangettt': 3421, 'trus': 3422, 'musti': 3423, 'nelpon': 3424, 'lamaaa': 3425, 'menungggu': 3426, 'lagikesaaal': 3427, 'telfon': 3428, 'ejaan': 3429, 'ketaraa': 3430, 'nyari': 3431, 'refund': 3432, 'or': 3433, 'complain': 3434, 'phukettransit': 3435, 'orangsemua': 3436, 'senangkarena': 3437, 'masalahdan': 3438, 'teteppp': 3439, 'pelayananan': 3440, 'untungnya': 3441, 'delaythank': 3442, 'u': 3443, 'turbelensi': 3444, 'sumatera': 3445, 'pokoke': 3446, 'manyus': 3447, 'menganti': 3448, 'mengeser': 3449, 'pekerjaan': 3450, 'heuumm': 3451, 'timor': 3452, 'leste': 3453, 'ais': 3454, 'airasiasemua': 3455, 'dilengkapi': 3456, 'redeem': 3457, 'pelayanannyapun': 3458, 'kalah': 3459, 'primadona': 3460, 'pejalan': 3461, 'ternama': 3462, 'seberapa': 3463, 'berimbas': 3464, 'terbatasnya': 3465, 'menjual': 3466, 'biatanya': 3467, 'wuiiihhhhh': 3468, 'c': 3469, 'q': 3470, 'senengnya': 3471, 'pointwuiihh': 3472, 'membaikdalam': 3473, 'perilaku': 3474, 'orangorang': 3475, 'berpendidikan': 3476, 'lumpurkadang': 3477, 'matikan': 3478, 'ribut': 3479, 'dsbnya': 3480, 'menangani': 3481, 'berfariatif': 3482, 'murahnya': 3483, 'gatel': 3484, 'pgn': 3485, 'taun': 3486, 'bdosin': 3487, 'klbdo': 3488, 'neken': 3489, 'adain': 3490, 'favo': 3491, 'nasipadangnya': 3492, 'cobain': 3493, 'pembaca': 3494, 'pemandangan': 3495, 'kesenangan': 3496, 'aterbang': 3497, 'atidak': 3498, 'apapuntermasuk': 3499, 'makana': 3500, 'wifi': 3501, 'rokki': 3502, 'palayanan': 3503, 'pramugaripramugaranya': 3504, 'reclining': 3505, 'sit': 3506, 'muter': 3507, 'bisnya': 3508, 'br': 3509, 'sudahnya': 3510, 'public': 3511, 'taxi': 3512, 'chartered': 3513, 'nak': 3514, 'jugakpatutnya': 3515, 'berlepas': 3516, 'jer': 3517, 'agaknya': 3518, 'ape': 3519, 'tu': 3520, 'travel': 3521, 'lari': 3522, 'thankyou': 3523, 'backpaker': 3524, 'keunggulanya': 3525, 'pembayaranya': 3526, 'mal': 3527, 'berangsur': 3528, 'naiki': 3529, 'muluspuji': 3530, 'ucapkan': 3531, 'tuhan': 3532, 'airasiarasa': 3533, 'perintah': 3534, 'menunda': 3535, 'situasi': 3536, 'lampu': 3537, 'menyala': 3538, 'kapten': 3539, 'puji': 3540, 'delayketerlambatan': 3541, 'majukanpelayanan': 3542, 'keluhan': 3543, 'waspada': 3544, 're': 3545, 'sin': 3546, 'istilah': 3547, 'retime': 3548, 'usahakana': 3549, 'digerakkan': 3550, 'jdwal': 3551, 'reshedule': 3552, 'kompenasi': 3553, 'isinya': 3554, 'ngubahngubah': 3555, 'karuan': 3556, 'ngrencanain': 3557, 'search': 3558, 'favourite': 3559, 'puasssss': 3560, 'dahulukan': 3561, 'perbanyak': 3562, 'rutenyahanya': 3563, 'enteng': 3564, 'dikantong': 3565, 'model': 3566, 'ngebolang': 3567, 'desember': 3568, 'sarana': 3569, 'transportasi': 3570, 'memindahkan': 3571, 'hrg': 3572, 'murahjauh': 3573, '<pad>': 0}\n"
     ]
    }
   ],
   "source": [
    "from keras.preprocessing.text import Tokenizer\n",
    "\n",
    "NUM_WORDS = 100\n",
    "OOV_TOKEN = '<unk>'\n",
    "\n",
    "tokenizer = Tokenizer(num_words=100, oov_token=OOV_TOKEN, lower=True)   \n",
    "tokenizer.fit_on_texts(trainX)\n",
    "\n",
    "tokenizer.word_index['<pad>'] = 0\n",
    "tokenizer.index_word[0] = '<pad>'\n",
    "\n",
    "word_index = tokenizer.word_index\n",
    "print(word_index)"
   ]
  },
  {
   "cell_type": "code",
   "execution_count": 90,
   "metadata": {},
   "outputs": [
    {
     "data": {
      "text/plain": [
       "3574"
      ]
     },
     "execution_count": 90,
     "metadata": {},
     "output_type": "execute_result"
    }
   ],
   "source": [
    "len(word_index)"
   ]
  },
  {
   "cell_type": "code",
   "execution_count": 91,
   "metadata": {},
   "outputs": [
    {
     "name": "stdout",
     "output_type": "stream",
     "text": [
      "[[1, 1, 51, 1, 14, 16, 1, 1, 24, 1, 1, 14, 26, 32, 87, 52, 52, 26, 1, 1], [7, 72, 74, 1, 42, 17, 82, 3, 1, 7, 2, 62, 25, 82, 3, 27, 1, 1], [30, 14, 32, 3, 1, 1, 87, 3, 1, 42, 52, 17, 1, 28, 74, 8, 11], [38, 1, 1, 1, 4, 54, 18, 13, 1, 1, 2, 4, 1, 13, 27, 1, 23, 1, 1, 1, 9, 1, 29, 45, 81, 1, 1, 1, 1, 14, 77, 54, 1, 1, 1, 30, 1, 1, 9, 1, 48, 78, 1, 66, 55, 70, 1, 92, 1], [4, 1, 39, 18, 13, 12, 1, 1, 22, 51, 21, 35, 5, 1, 13, 18, 13, 1, 1, 23, 35, 1, 41, 1, 1, 1, 1, 46, 7, 13, 52, 3, 1, 1, 41, 1, 26, 1, 1, 1, 41, 2, 1, 1, 1], [1, 83, 1, 1, 1, 3, 1, 1, 1, 48, 1, 1, 27, 1, 1, 1, 1, 1], [10, 1, 1, 2, 38, 63, 40, 1, 1, 1, 88, 1, 1, 9, 1, 1, 1, 57, 24, 56, 1, 93, 13, 1, 6, 16, 1, 1, 1, 3, 1, 53, 1, 1, 13, 1, 14, 16, 4, 9, 1, 1, 6, 1, 22, 13, 4, 53, 1, 73, 1, 4, 3, 1, 31, 1, 4, 53, 4, 1, 22, 44, 57, 38, 9, 24, 64], [54, 8, 11, 12, 1, 1, 1, 1, 1, 1, 70, 23, 27, 49, 1, 3, 1, 25], [7, 16, 1, 1, 15, 1, 1, 1, 42, 1, 1, 1, 1, 1, 1, 1, 1, 89, 42, 9, 82, 9, 21, 1, 1, 29, 1, 1, 1, 29, 4, 1, 1, 9, 21, 1, 1, 1, 1, 1, 1, 6, 1, 1, 1, 1, 59, 1, 1, 20, 1, 1, 14, 3, 1, 6, 84, 1, 64, 1, 1, 41, 42, 1, 1, 1, 15, 14, 29, 1, 67, 1, 1, 1, 4, 1, 1, 9, 21, 1, 1, 1, 1, 1, 1, 5, 1, 1, 1, 42, 6, 1, 72, 1, 1, 41, 1, 36, 1, 66, 1, 1, 42, 1, 1, 16, 38, 1, 1, 41, 3, 7, 1, 1, 1, 85, 15, 73, 28], [7, 62, 25, 5, 30, 1, 2, 52, 47, 1, 58, 29, 1, 1, 3, 1, 6, 46, 1, 1, 1, 1, 3, 1, 19, 1], [7, 2, 19, 32, 5, 1, 97, 1, 66, 92, 21, 1, 43, 1, 1, 1, 19, 1, 8, 11, 26, 1, 1, 1, 3, 48, 1, 1, 1], [89, 39, 16, 68, 1, 1, 1, 24, 6, 1, 32, 1, 1, 1, 17, 1, 10, 1, 1, 18, 68, 1, 10, 1, 83, 47, 1, 21, 1, 1, 2, 29, 1, 1, 1, 6, 1, 1, 9, 52, 1, 38, 1, 1, 22, 1, 1, 33, 1, 16, 38, 83], [7, 1, 1, 1, 3, 1, 62, 25, 9, 21, 1, 46, 1, 1, 29, 1, 1, 1, 1, 34, 6, 1, 90, 1, 38, 19, 34, 87, 52, 3, 1, 47, 1, 1, 1, 1, 19, 1, 4, 9, 1, 75, 1, 1, 2, 1, 1, 1, 1, 65, 4, 17, 9, 32, 60, 1, 1, 19, 1, 8, 1, 1, 1, 1, 40, 1, 36, 34, 1, 15, 86], [4, 28, 15, 94, 12, 1, 5, 8, 11, 39, 1, 1, 1, 1, 79, 60, 17, 1, 5, 1, 79, 60, 22, 1, 97, 88, 1, 1, 48, 1, 1, 1, 64, 66, 1, 1, 19, 98, 1, 1, 6, 1, 26, 1, 1, 3, 1, 1, 1], [40, 13, 4, 28, 5, 14, 1, 1, 5, 1, 1, 1, 25, 1, 47, 1, 63, 85, 15, 73, 66, 1, 1, 1, 1, 6, 46, 1, 14, 1, 1, 1, 1, 15, 1, 43, 1, 2, 1, 1, 1, 1, 1, 1, 3, 1, 1, 1, 1, 5, 1, 1, 1, 1, 1, 1, 2, 1, 1, 1, 9, 1, 1, 68, 5, 34, 3, 1, 21, 1, 1, 1, 1, 6, 1, 1, 1, 4, 1, 1, 1, 1, 1, 1, 1, 1, 5, 1, 1, 1, 1, 1, 1, 1, 1, 7, 9, 21, 1, 2, 1, 1, 1, 1, 1, 5, 34, 66, 9, 21, 1, 1, 77, 1, 18, 97, 1, 1, 1, 1, 21, 1, 1, 1, 2, 19, 1, 1, 1, 1, 1, 1, 1, 1, 1, 1, 1, 1, 3, 14, 1, 36, 1, 15, 73, 1, 58, 29, 1, 14, 1, 1, 1, 91, 1, 41, 1, 8, 11, 1, 18, 7, 1, 1, 5, 30, 1, 2, 19, 34], [4, 1, 5, 1, 1, 14, 13, 1, 15, 68, 5, 1, 1, 1, 17, 1, 1, 1, 6, 1, 1], [1, 32, 28, 74, 1, 3, 2, 1, 62, 25, 91, 24, 1, 1, 95, 1, 28, 1, 74, 1, 20, 1, 1, 1, 1, 3, 51, 1, 8, 11, 1, 1, 18, 5, 88, 27, 33, 20, 24, 1, 7, 74, 1, 9, 1, 5, 1, 1, 1, 1, 1, 8, 11, 24, 1, 1, 1], [1, 15, 94, 62, 25, 5, 1, 7, 2, 83, 32, 1, 6, 1, 1, 1, 1, 3, 1], [13, 72, 1, 4, 12, 1, 54, 8, 11, 1, 8, 1, 1, 3, 1, 1, 26, 1], [4, 1, 28, 5, 16, 22, 47, 18, 13, 2, 28, 1, 15, 1, 12, 1, 30, 19, 83, 3, 30, 87, 26, 19, 83, 2, 9, 4, 1, 59, 1, 1, 1, 1, 41, 58, 29, 1, 3, 1, 1, 1, 1, 3, 1, 1, 1, 49, 9, 32, 43, 1, 12, 1, 17, 61, 49, 53, 1, 1, 12, 14, 1, 41, 67, 1, 81, 43, 55], [50, 12, 1, 1, 49, 32, 22, 30, 2, 34, 1, 96, 98, 49, 9, 1, 64, 10, 1, 7, 13], [1, 1, 14, 1, 1, 3, 53, 1, 1, 41, 1, 3, 14, 1, 37, 1, 5, 1, 1, 1, 69, 85], [20, 38, 1, 71, 1, 1, 1, 1, 27, 1, 1, 1, 33, 1, 1, 1, 1, 1, 1, 1, 1, 3, 1, 25, 1, 63, 40, 20, 1, 1, 38, 1, 1, 1, 3, 55, 9, 24, 1, 1, 12, 1, 1, 1, 1, 1, 1, 1, 1, 27, 33, 1, 26, 1, 49, 1, 1, 3, 1], [13, 1, 10, 89, 7, 1, 20, 5, 8, 11, 40, 13, 15, 1, 1, 12, 1, 58, 1, 1, 2, 1, 19, 1, 20, 1, 1, 1, 22, 1, 20, 5, 1, 7, 1, 7, 1, 25, 1, 62, 25, 47, 1, 1, 6, 1, 1, 1, 1, 15, 1, 30, 1, 1, 19, 83, 1, 6, 46, 14, 19, 1, 1, 19, 20, 75, 6, 1, 1, 1, 1, 3, 1, 1, 1, 20, 19, 1, 5, 8, 11], [40, 13, 1, 10, 89, 7, 20, 10, 1, 1, 20, 6, 1, 58, 1, 1, 2, 1, 5, 39, 16, 1, 1, 1, 1, 7, 77, 1, 1, 1, 1, 5, 63, 1, 20, 1, 19, 32, 20, 75, 6, 1, 1, 30, 19, 34, 1, 6, 46, 14, 19, 34, 66, 1, 1, 1, 1, 1, 1, 4, 1, 1, 13, 1, 7, 16, 1, 1, 1], [4, 28, 5, 8, 11, 1, 1, 15, 1, 12, 94, 1, 1, 1, 1, 21, 1, 63, 85, 46, 1, 7, 1, 82, 3, 4, 1, 5, 30, 1, 1, 1], [4, 71, 1, 39, 18, 8, 11, 22, 51, 21, 31, 35, 12, 1, 1, 27, 33, 1, 1, 38, 1, 5, 18, 2, 67, 33, 1, 8, 11, 2, 1, 32, 1, 4], [8, 11, 59, 1, 84, 18, 7, 1, 1, 5, 30, 2, 9, 1, 63, 40, 28, 5, 8, 11, 51, 62, 25, 1, 87, 2, 1, 1, 36, 1, 1, 18, 2, 67, 93, 1, 1, 52, 3, 27, 1, 1, 86, 8, 11, 6, 1, 1, 1, 17, 32, 1, 41, 10, 1, 44, 7, 35, 1, 1, 8, 11, 17, 1, 1, 24, 1, 5, 1, 1, 89, 99, 1, 12, 1, 1, 1, 1, 1, 1, 8, 11, 1, 1, 24, 1, 15, 1, 7, 33, 21, 63, 1, 67], [20, 1, 10, 1, 1, 1, 7, 34, 10, 1, 1, 1, 1, 73, 1, 1, 1, 1, 18, 15, 44, 1, 1, 44, 1, 1, 49, 53, 1, 44, 1, 10, 1, 86, 1, 20, 1, 1, 2, 1, 5, 86, 73, 1, 9, 21, 37, 1, 6, 1, 62, 25, 20, 70, 23, 35, 93, 1, 1, 19, 34], [18, 97, 1, 3, 83, 17, 61, 1, 35, 2, 1, 1, 16, 1, 1, 1, 49, 1, 1, 1, 1, 64, 5, 23, 31, 14, 9, 1, 1, 1, 33, 17, 1, 1, 1, 21, 31, 35, 10, 25, 28, 2, 1, 1, 16, 1, 1, 73, 1, 1, 10, 36, 1, 1, 1, 1, 1, 1, 1], [1, 1, 1, 1, 10, 1, 97, 1, 1, 1, 8, 11, 1, 1, 7, 4, 2, 39, 8, 11, 62, 1, 71, 1, 35, 1], [1, 10, 1, 1, 4, 39, 8, 1, 2, 1, 1, 1, 1, 4, 1, 15, 8, 11, 24, 1, 48, 95, 5, 1, 1, 68], [40, 13, 1, 20, 10, 89, 7, 5, 16, 10, 7, 15, 1, 1, 12, 1, 1, 2, 1, 1, 7, 1, 1, 1, 20, 1, 1, 15, 1, 7, 62, 25, 32, 3, 1, 56, 6, 1, 1, 1, 1, 25, 1, 7, 32, 30, 1, 20, 19, 1], [30, 34, 1, 25, 70, 1, 81, 1, 19, 1, 3, 32, 81, 75, 3, 1, 1, 1, 3, 1, 1], [1, 1, 3, 32, 1, 1, 26, 1, 93, 1, 65, 57, 2, 9, 1, 1, 1, 1, 33, 22, 7, 1, 1, 1, 9, 1, 1], [40, 13, 4, 1, 39, 1, 7, 8, 11, 4, 17, 1, 3, 1, 13, 1, 1, 4, 76, 28, 74, 8, 11, 72, 1, 1, 15, 1, 21, 1, 1, 85, 15, 25, 42, 1, 6, 1, 1, 3, 9, 21, 1, 2, 1, 1, 1, 25, 1, 4, 6, 1, 1, 15, 1, 1, 12, 14, 17, 1, 20, 1, 1, 1, 1, 10, 1, 15, 1, 1, 54, 1, 42, 19, 1, 6, 1, 1, 15, 1, 1, 1, 14, 9, 21, 1, 42, 1, 91, 63, 41, 1, 4, 1, 1, 54, 12, 14, 22, 21, 1, 1, 3, 9, 21, 1, 42, 1, 1, 29, 1, 1, 56, 6, 1, 1, 4, 1, 1, 1, 45, 56, 1, 1, 6, 1, 1, 1, 1, 1, 1, 1, 1, 1, 29, 1, 15, 1, 12, 1, 64, 14, 37, 1, 44, 15, 1, 1, 1, 1, 19, 1, 15, 1, 1, 3, 1, 1, 3, 64, 20, 1, 1, 1, 1, 1, 10, 1, 15, 1, 1, 12, 14, 1, 64, 29, 1, 1, 6, 1, 1, 1, 64, 6, 1, 4, 1, 1, 1, 1, 77, 1, 1, 1, 1, 1, 1, 1, 1, 1, 1, 1, 1, 1, 1, 1, 90, 1, 1, 49, 1, 1], [51, 1, 1, 35, 15, 8, 11, 1, 97, 88, 24, 1, 1, 1, 24, 1, 1, 1, 1, 24, 1, 1, 7, 1, 49, 24, 1, 6, 68, 1], [1, 1, 4, 1, 1, 36, 1, 18, 84, 13, 58, 29, 1, 4, 33, 1, 1, 1, 37, 1, 1, 1, 22, 4, 1, 24, 1, 25, 4], [47, 16, 2, 51, 1, 23, 31, 1, 1, 1, 38, 39, 1, 9, 21, 18, 67, 2, 1, 23, 31, 1, 16, 4, 51, 1, 31, 35, 6, 1], [1, 1, 1, 8, 11, 42, 24, 1, 1, 61, 1, 38, 1, 22, 38, 1, 1, 1, 57, 1, 9, 1, 1, 64, 1, 9, 21, 1, 1, 3, 47, 24, 1, 9, 24], [4, 71, 1, 39, 18, 8, 11, 22, 51, 21, 31, 35, 12, 1, 1, 27, 33, 1, 1, 38, 1, 5, 18, 2, 67, 33, 1, 8, 11, 2, 1, 32, 1, 4], [1, 1, 31, 5, 1, 3, 1, 1, 31, 6, 86, 5, 1, 3, 27, 1], [4, 39, 18, 8, 11, 1, 1, 1, 7, 1, 94, 44, 10, 1, 79, 60, 1, 44, 38, 24, 79, 60, 1, 1, 38, 1, 1, 6, 14, 44, 1, 38, 1, 1, 1, 30, 1, 1, 38, 1, 87, 1, 1, 1, 5, 17, 1, 41, 42, 1, 38, 1, 22, 44, 7, 1, 87, 1, 1, 6, 46, 14, 21, 1, 26, 3, 1, 1, 1, 12, 1, 1, 1, 1, 1, 1, 1, 1, 30, 3, 1, 25, 7], [8, 11, 1, 18, 7, 2, 1, 23, 98, 2, 1, 29, 13, 1, 19, 32, 1, 23, 2, 27, 93, 30, 2, 1, 9, 1, 19, 34, 15, 1, 1, 25, 96, 19, 1, 1, 22, 1, 1, 4, 15, 63, 1, 1, 5, 8, 11, 1, 1, 4, 1, 37, 3, 45, 47, 85, 2, 1, 4, 1, 46, 1, 1, 66, 1, 36, 34, 1, 1, 7, 70, 1, 77, 8, 1, 1, 1, 1, 1, 10, 1, 41], [40, 13, 1, 10, 89, 7, 20, 5, 16, 1, 1, 58, 1, 2, 1, 1, 1, 20, 1, 22, 1, 20, 7, 58, 29, 45, 1, 1, 1, 9, 1, 37, 1, 26, 5, 1, 6, 1, 10, 1, 93, 20, 1, 45, 22, 1, 1, 6, 86, 1, 1, 1, 20, 1, 18, 8, 11, 1, 19, 1, 30, 1, 1, 19, 34, 1, 6, 46, 1, 19, 1, 19, 1, 1], [4, 71, 1, 39, 18, 8, 11, 22, 51, 21, 31, 35, 12, 1, 1, 27, 33, 1, 1, 38, 1, 5, 18, 2, 67, 33, 1, 8, 11, 2, 1, 32, 1, 4], [1, 52, 7, 9, 37, 93, 8, 11, 1, 1, 1, 92, 55, 1, 65, 9, 77, 18, 67, 2, 1], [8, 11, 68, 1, 1, 84, 18, 97, 1, 1, 2, 1, 6, 68, 5, 30, 2, 51, 62, 25, 1, 1, 25, 1, 2, 1, 3, 23, 31, 2, 98, 1, 1, 1, 1, 7, 3, 31, 70, 51, 1, 1, 1, 1, 1, 1, 1, 1, 1, 1, 1, 1, 1, 1, 1, 25, 28, 91, 1, 1, 9, 1, 1, 6, 86], [40, 13, 20, 1, 1, 89, 7, 20, 74, 5, 68, 16, 1, 1, 1, 19, 1, 1, 1, 20, 1, 1, 1, 7, 46, 1, 1, 6, 1, 7, 62, 25, 30, 34, 1, 1, 19], [13, 72, 1, 1, 1, 5, 8, 11, 1, 1, 52, 3, 82, 29, 21, 1, 2, 1, 4, 1, 1, 1, 1, 1, 1, 1, 1, 1, 4, 36, 1, 1, 1, 8, 11], [1, 1, 1, 1, 91, 1, 92, 1, 1, 1, 41, 2, 75, 6, 1, 1, 1, 3, 41, 2, 75, 6, 1, 1, 6, 1, 1, 8, 6, 1], [4, 54, 16, 15, 86, 1, 1, 1, 12, 1, 30, 69, 6, 14, 19, 34, 3, 26, 30, 15, 87, 57, 17, 52, 4, 1, 10, 1, 2, 1, 1, 39, 14, 5, 23, 2, 98], [7, 2, 1, 1, 3, 82, 1, 50, 1, 21, 1, 2, 1, 10, 1, 1, 95, 10, 97, 1, 1, 1], [16, 69, 13, 51, 1, 1, 2, 1, 1, 10, 1, 1, 31, 3, 1, 66, 21, 63, 1, 2, 53, 1, 1, 1, 7, 78, 1, 15, 1, 16, 42, 1, 9, 1, 1, 1, 10, 1, 1, 1, 50, 4, 15, 1, 42, 1, 1, 1, 10, 1, 1, 1, 1, 1, 7, 91, 4, 53, 1, 36, 1, 10, 1, 1, 1, 4, 47, 1, 25, 1, 1, 64, 5, 37, 57, 14, 2, 1, 25, 4, 61, 1, 21, 1, 10, 36, 1, 1, 1, 1, 25, 3, 1, 1, 60, 91, 41, 9, 53, 1, 1, 6, 86], [4, 1, 31, 27, 15, 35, 8, 11, 79, 60, 17, 1, 1, 1, 79, 60, 33, 6, 86, 1, 1, 1, 1, 1, 12, 1, 79, 60, 1, 1, 1, 1, 50, 1, 1, 1, 3, 2, 1, 1, 7, 95, 5, 73, 3, 32], [13, 7, 72, 1, 3, 99, 1, 8, 11, 10, 1, 1, 12, 81, 1, 1, 1, 99, 1, 8, 11, 22, 8, 11, 14, 84, 84, 57, 2, 28, 12, 86, 1, 1, 53, 1, 1, 99, 1, 76, 9, 32, 1, 6, 14, 33, 45, 47, 1, 4, 1, 9, 1, 1, 15, 1, 6, 1, 5, 52, 3, 1, 3, 2, 1, 26, 1, 29, 45, 99, 1, 1, 1, 79, 60, 5, 1, 8, 11, 58, 29, 20, 1, 5, 1, 79, 60, 1, 1, 1, 5, 34, 3, 1, 6, 1, 1, 8, 11, 17, 62, 25, 9, 21, 37, 29, 45, 1, 8, 11, 2, 1, 31, 14, 26, 52, 1, 3, 1, 1, 1, 6, 1, 14, 1, 6, 1, 5, 1, 2, 1, 1, 1, 6, 8, 11, 1, 1, 1, 1, 6, 46, 14, 1, 1, 65, 3, 1, 1, 6, 43, 1, 29, 87, 1, 1, 1, 1, 29, 1, 1, 14, 87, 70, 1, 5, 34, 3, 1, 6, 1, 13, 1, 1, 1, 1], [8, 11, 45, 7, 2, 19, 27, 3, 1, 61, 35, 33, 15, 1, 45, 7, 13, 1, 1, 37, 37, 57, 1, 44], [4, 1, 5, 1, 1, 14, 13, 1, 15, 68, 5, 1, 1, 1, 17, 1, 1, 1, 6, 1, 1], [1, 1, 15, 1, 1, 5, 1, 2, 1, 7, 62, 25, 4, 1, 56, 6, 1, 1, 1, 1, 1, 1, 1, 1, 14, 19, 1, 1, 63, 7, 1, 4, 87, 17, 52, 1, 1, 1, 1, 41, 47, 29, 1, 1, 1, 91, 4, 1, 1, 1, 19, 32], [7, 97, 88, 2, 52, 1, 1, 1, 10, 7, 2, 1, 84, 56, 1, 44, 19, 32], [50, 2, 82, 4, 74, 1, 1, 1, 1, 22, 1, 35, 2, 1], [61, 1, 1, 35, 2, 6, 1, 1, 18, 2, 84, 13, 49, 1, 1, 1, 57, 1, 23, 31, 2, 27, 3, 1, 2, 1, 83, 17, 1, 10, 1, 2, 76, 1, 1, 74, 1, 1, 1, 1, 10, 35, 2, 1, 26, 1, 1, 15, 1, 1, 1], [1, 1, 54, 16, 1, 1, 3, 1, 1, 1, 61, 42, 1, 1, 1, 1, 69, 54, 16, 1, 1, 37, 3, 1, 1, 1, 1, 1, 1, 1, 18, 1, 1, 6, 68, 1, 23, 1, 1, 1, 1, 1, 1], [80, 54, 18, 7, 27, 2, 67, 33, 4, 36, 1, 54, 8, 11, 1, 1, 1, 4, 28, 40, 39, 8, 11, 15, 1, 1, 1, 1, 32, 3, 4, 19, 1, 76, 36, 71, 64, 28, 39, 8, 11, 1, 1, 1, 1, 1, 1, 1, 1, 1, 1], [1, 1, 9, 37, 3, 1, 1, 1, 1, 21, 1, 1, 1, 1, 33, 10, 1, 44, 1, 21, 1, 1, 1, 1, 3, 99, 53, 1, 1, 1, 1, 1], [31, 12, 1, 24, 6, 1, 1, 1, 1, 15, 1, 1, 56, 1, 21, 1, 1, 33, 1, 2, 1, 27, 2, 1, 1, 59, 37, 44, 33, 1, 1, 1, 26, 1, 6, 1, 26, 87, 57, 52, 3, 1, 1, 1, 1, 1, 1], [18, 97, 1, 1, 1, 1, 24, 28, 40, 13, 70, 1, 1, 5, 1, 75, 1, 1, 1, 75, 1, 1, 1, 57, 1, 1, 5, 1, 1, 56, 29, 13, 19, 1, 5, 23, 2, 6, 1, 1, 8, 11, 1, 1], [4, 51, 1, 39, 18, 13, 23, 27, 9, 1, 1, 1, 1, 62, 25, 3, 1, 43, 26, 1, 1, 1, 10, 18, 13], [18, 2, 84, 13, 71, 1, 55, 1, 5, 61, 1, 3, 4, 1, 10, 39, 18, 13, 10, 1, 1, 4, 1, 15, 1, 1, 1, 37, 1, 23, 35, 49, 24, 1, 1, 1, 10, 1, 8, 11, 2, 4, 1, 9, 21, 1, 78, 1, 1, 49, 92, 1, 1, 1, 1, 14, 1, 1, 24, 1, 1, 1, 1, 1, 16, 68, 91, 36, 1, 30, 1, 92, 1, 9, 1, 1, 1, 1, 24, 26, 93, 1, 53, 1, 36, 1, 3, 53, 1, 25, 7, 26, 1, 1, 13, 59, 18, 88, 2, 1, 1, 1, 3, 32, 1, 1, 16], [23, 35, 1, 33, 25, 1, 1, 1, 6, 1, 65, 1, 1, 33, 1, 1, 1, 61, 31, 27, 15, 3, 12, 1], [63, 40, 1, 28, 39, 8, 11, 1, 1, 1, 1, 25, 28, 3, 2, 1, 1, 13, 1, 1, 1, 1, 85, 15, 73, 1, 1, 1, 1, 25, 57, 1, 1, 45, 17, 1, 1, 20, 2, 1, 1, 1], [1, 4, 28, 5, 39, 18, 8, 11, 13, 5, 23, 2, 1, 1, 27, 98, 10, 1, 1, 58, 29, 45, 6, 29, 4, 1, 31, 1, 1, 1, 1, 66, 58, 1, 1, 1, 4, 1, 1, 1, 73, 7, 6, 1, 1, 1, 1, 1, 1, 49, 1, 1, 40, 1, 1, 1, 62, 25, 1, 21, 37, 7, 1, 32, 1, 69, 44, 85, 56, 6, 1, 5, 1, 1, 96, 1, 1, 6, 43, 32, 1, 1, 39, 18, 8, 11, 13], [81, 75, 1, 3, 32, 87, 17, 1, 1, 64, 4, 76, 39, 18, 13, 4, 17, 1, 28, 74, 16, 17, 27, 23, 1, 33, 1, 1], [20, 28, 15, 94, 12, 1, 39, 16, 1, 1, 1, 1, 20, 6, 1, 1, 1, 20, 2, 84, 1, 6, 1, 1, 3, 2, 1, 1, 1, 20, 9, 1, 1, 1, 10, 1, 43, 58, 25, 45, 9, 1, 1, 1, 1, 2, 1, 1, 45, 24, 56, 1, 6, 1, 1, 91, 9, 24, 1, 1, 15, 1, 1, 1, 4, 96, 1, 3, 45, 4, 1, 29, 38, 1, 6, 1, 92, 90, 1, 5, 8, 11, 1, 1, 39, 1, 2, 1], [8, 11, 1, 7, 27, 2, 1, 1, 4, 50, 12, 1, 2, 1, 6, 1, 1, 1, 10, 12, 1, 5, 1, 1, 25, 44, 10, 1, 1, 65, 1, 3, 1, 1, 1, 1, 48, 4], [25, 45, 99, 3, 1, 1, 90, 79, 13, 33, 1, 1, 1, 1, 20, 1, 12, 1, 1, 1, 1, 20, 1, 1, 12, 1, 1, 57, 1, 1, 1, 1, 1, 13, 5, 1, 1, 1, 1, 1, 1, 1, 1, 1, 1, 1, 5, 1, 1, 1, 1], [69, 1, 1, 16, 4, 17, 1, 1, 15, 1, 23, 26, 17, 98, 3, 61, 35, 1, 3, 1, 1, 1, 1, 16, 1, 70, 1, 1, 6, 1, 3, 24, 1, 1, 7, 78, 1, 1, 1, 1, 3, 1, 1, 26, 24, 1, 1, 1, 1, 1], [63, 40, 1, 1, 16, 2, 37, 33, 69, 13, 4, 51, 1, 7, 1, 1, 22, 1, 1, 4, 24, 1, 14, 36, 1, 50, 32, 1, 3, 1, 97, 1, 1, 1, 4], [1, 1, 10, 1, 31, 35, 5, 23, 2, 17, 17, 27, 93, 1, 1, 1, 9, 1, 1, 1, 1, 18, 1], [10, 1, 18, 5, 23, 98, 16, 68, 1, 1, 2, 17, 34, 6, 1, 1, 1, 1, 33, 1, 1, 37, 9, 1, 1, 1, 1, 71, 39, 16, 1, 1, 1, 1, 1, 1, 1, 1, 70, 1, 1, 1, 13, 24, 1, 5, 7, 1, 1, 78, 1, 24, 26, 70, 43, 56, 1, 1, 1, 1, 1, 1, 4, 71, 53, 1, 1, 73, 1, 1, 1, 1, 17, 1, 3, 9, 80, 1, 1, 1, 13, 1, 1, 1, 1, 1, 1, 1], [7, 2, 1, 1, 1, 1, 4, 34, 15, 23, 1, 30, 18, 13, 26, 71, 1, 1, 1, 10, 1, 1, 1, 15, 7, 27, 12, 1, 1, 56, 1, 7, 3, 1, 6, 1, 1, 66, 1, 3, 1, 1, 92, 1, 76, 1, 1, 27, 31, 14, 1, 1, 1, 2, 1, 59, 1, 1, 1, 2, 1, 3, 1, 1, 13, 4, 1, 1, 89, 1, 84, 1, 4, 1, 1, 50, 12, 1, 3, 1], [7, 5, 1, 1, 2, 19, 3, 1, 2, 34, 1, 7, 1, 1, 1, 1, 1, 1, 1, 1, 1], [7, 1, 18, 1, 36, 1, 15, 73, 1, 1, 1, 1, 1, 1, 1, 1, 15, 1, 2, 38, 1, 49, 1, 1, 1, 1, 1, 1, 53, 1, 31, 1, 64], [7, 1, 1, 32, 1, 2, 1, 1, 1, 12, 14, 5, 1, 1, 1, 1, 1, 1, 1, 50, 44, 36, 1, 1, 1, 22, 1, 1, 2, 1, 3, 1, 1, 6, 65, 14], [8, 11, 59, 1, 84, 1, 1, 1, 1, 8, 1, 1, 1, 42, 1, 12, 1, 85, 1, 1, 1, 47, 22, 1, 38, 9, 24, 1, 85, 1, 1, 61, 41, 42, 1, 5, 1, 13, 1, 1, 1, 1, 1, 1, 31, 3, 1, 31, 2, 1, 1, 14, 1, 1, 1, 3, 17, 1, 1, 10, 1, 41, 42, 38, 79, 60, 3, 38, 1, 1, 1, 17, 1, 5, 1, 1, 8, 1, 42, 1, 1, 41, 3, 9, 80, 1, 41, 1, 69, 1, 14, 1, 1, 3, 69, 14, 85, 1, 1, 1, 1, 41, 42, 38, 79, 60, 3, 1, 1, 1, 1, 1, 1, 14, 1, 1, 53, 1, 1, 1, 31, 3, 1, 53, 1, 31, 1, 47, 22, 1, 1, 8, 11, 14, 1, 1, 2, 1, 1, 41, 1, 46, 1, 31, 3, 1, 1, 77, 1, 8, 1, 1, 1, 80, 1, 1, 2, 9, 80, 1, 18, 67, 45, 26, 1, 1, 1, 46, 1, 3, 1, 1, 1, 1, 46, 28, 1, 3, 1, 1, 1, 1, 2, 1, 1, 1, 1, 1, 1, 1, 9, 1, 1, 4, 1, 47, 1, 23, 27, 36, 34, 1, 1, 1, 9, 1, 1, 1, 1, 30, 1, 3, 2, 1, 1, 1, 9, 1, 1, 1, 1, 61, 30, 2, 17, 1, 9, 1, 1, 1, 3, 1, 1, 1, 77, 1, 8, 1, 1, 1, 1, 1, 1, 8, 96, 1, 36, 34, 1, 8, 11, 3, 1, 8, 4, 17, 1, 30, 1, 8, 1, 1, 1, 23, 9, 1, 1, 15, 8, 11, 33, 30, 1, 1, 3, 1, 4, 1, 1, 10, 1, 8, 1, 1, 80, 85, 1, 14, 1, 1, 1, 1, 1, 1, 1, 1, 1, 1, 8, 1, 9, 80, 1, 1, 2, 38, 1, 1, 1, 3, 9, 80, 1, 1, 1, 28, 9, 77, 8, 11, 2, 1, 1, 1, 1, 1, 46, 1, 1, 96, 1, 1, 1, 1], [20, 54, 14, 13, 2, 1, 1, 5, 7, 1, 44, 10, 1, 81, 75, 1, 32, 65, 24, 1, 10, 1, 3, 1, 1, 14, 13, 9, 21, 1, 1, 10, 1, 3, 1, 1, 1, 48, 9, 21, 1, 1, 1, 48, 2, 1, 26, 1, 1, 1, 2, 1, 1, 1, 1, 48, 1, 3, 1, 9, 21, 1, 78, 1, 91, 24, 1, 1, 1, 1, 4, 1, 1, 1, 60, 1, 25, 28, 6, 1, 22, 1, 1, 9, 61, 10, 1, 41, 1, 1, 14, 13, 76, 4, 1, 64, 22, 1, 95, 88], [4, 1, 31, 15, 1, 12, 1, 58, 1, 1, 66, 1, 1, 16, 1, 1, 1, 40, 1], [18, 62, 25, 23, 98, 93, 30, 36, 83, 4, 1, 39, 8, 11, 63, 40, 1, 1, 39, 8, 11, 70, 6, 1, 1, 1, 1], [22, 73, 7, 2, 1, 14, 20, 37, 85, 33, 1, 8, 11, 9, 1, 85, 1, 20, 1, 3, 1, 1, 1, 62, 25, 4, 1, 1, 1, 1, 1, 1, 22, 20, 1, 1, 26, 5, 1, 1, 1, 1, 1, 5, 8, 11, 1, 1, 1, 22, 14, 2, 1, 66, 69, 6, 1, 4, 1, 32, 3, 9, 21, 1, 1, 96, 10, 1, 23, 1, 2, 98, 4, 1, 1, 1, 5, 50, 4, 2, 1, 1, 3, 1, 1, 8, 11, 1, 4, 76, 1, 5, 1], [1, 37, 44, 33, 10, 1, 3, 1, 1, 6, 14, 10, 1, 1, 5, 34], [50, 12, 1, 1, 1, 22, 29, 50, 1, 1, 1, 9, 1, 1, 40, 1, 1, 33, 22, 1, 52, 1, 1, 1, 1, 10, 4, 1, 4], [1, 1, 52, 3, 7, 51, 1, 1, 1, 36, 1, 15, 25, 56, 2, 1, 51, 82, 28, 74, 16], [13, 89, 4, 54, 8, 11, 1, 1, 1, 22, 21, 1, 1, 1, 1, 7, 1, 66, 5, 1, 3, 1, 24, 1, 1, 56, 6, 1, 5, 1, 8, 11, 19, 83, 5, 23, 2, 36, 27, 3, 1, 19, 1, 1, 1, 48, 78, 1, 1, 1, 3, 1, 1, 1, 15, 86, 1, 49, 1, 1, 1, 1, 53, 1, 1], [1, 1, 5, 1, 1, 1, 1, 1, 41, 53, 1, 1, 1, 1, 1, 1, 1, 1, 10, 1, 1, 2, 53, 1, 1, 9, 53, 1, 41, 1, 1, 1, 1, 1, 1, 1, 1, 59, 1, 1, 10, 23, 31, 16, 1, 1, 5, 30, 2, 34, 1, 61, 1, 2, 47, 1, 1, 78, 1, 1, 41, 2, 1, 1, 1, 1, 1, 41, 9, 1, 1, 43, 1, 12, 14], [1, 28, 5, 1, 1, 33, 1, 1, 1, 26, 34, 82, 28, 5, 16], [50, 1, 16, 15, 1, 12, 1, 1, 46, 1, 6, 1, 1, 1, 1, 42, 1, 1, 24, 1, 1, 56, 1, 3, 90, 1, 1, 43, 1, 90, 1, 21, 1, 1, 1, 1, 1, 1, 4, 1, 1, 1, 1, 1, 4, 1, 1, 42, 38, 4, 1, 1, 1, 1, 18, 1, 1, 1, 1, 1, 1, 1, 1, 1, 1, 1, 4, 1, 12, 1, 1, 1, 42, 21, 6, 1, 42, 39, 1, 1, 1, 1, 4, 1, 1, 1, 1, 1, 1, 4, 1, 1, 4, 90, 1, 13, 1, 1, 1, 4, 4, 24, 1, 1, 1, 4, 1, 1, 1, 1, 4, 1, 45, 1, 1, 1, 5, 1, 42, 1, 1, 1, 1, 6, 1, 1, 3, 1, 1, 1, 1, 1, 1, 1, 4, 1, 1, 34, 34, 1, 6, 1, 5, 9, 1, 4, 1, 1, 1, 1, 1, 56, 1, 1, 4, 24, 6, 1, 3, 1, 4, 1, 1, 1, 4, 1, 1, 1, 1, 4, 21, 42, 1, 1, 47, 1, 1, 6, 79, 64, 1, 1, 21, 42, 1, 1, 1, 1, 1, 4, 1, 1, 4, 21, 42, 1, 1, 24, 1, 1, 1, 1, 1, 1, 1, 1, 1, 1, 1, 13, 1, 1, 1, 1], [1, 72, 54, 8, 11, 1, 1, 77, 2, 99, 1, 1, 1, 15, 30, 79, 60, 56, 6, 46, 14, 1, 1, 69, 7, 1, 46, 14, 34, 3, 1, 67, 40, 76, 54, 1, 64, 1], [1, 1, 60, 1, 6, 1, 1, 3, 6, 46, 14, 1, 3, 1, 50, 1, 3, 1, 62, 25, 1, 1, 43, 1, 3, 34], [72, 40, 28, 5, 7, 1, 1, 1, 1, 9, 21, 1, 2, 1, 1, 5, 88, 1, 1, 30, 1, 1, 1, 1, 1, 1, 32, 6, 65, 1, 1, 1, 1, 25, 54, 14, 15, 94, 12, 1, 1, 33, 1, 15, 1, 1, 12, 1, 1, 32, 22, 14, 2, 1, 36, 1, 1, 14, 2, 15, 94], [13, 18, 1, 1, 1, 12, 1, 1, 18, 13, 1, 27, 92, 1, 5, 18, 1, 87, 3, 1, 57, 26, 1, 1, 22, 14, 97, 1, 91, 1, 1, 65, 12, 65, 1, 1, 1, 76, 1, 1, 1, 2, 75, 1, 1, 33, 1, 1, 1, 1, 1, 33, 1, 13, 18, 1, 4, 24, 1, 12, 1, 5, 1, 98], [1, 1, 1, 16, 1, 20, 24, 56, 12, 1, 1, 2, 1, 80, 1, 1, 1, 1, 1, 1], [19, 71, 39, 8, 11, 68, 4, 17, 1, 5, 30, 57, 2, 1, 1, 48, 1, 1, 2, 1, 1, 2, 52, 34, 1, 1, 1, 1, 66, 1, 25, 1, 1, 17, 1, 1, 3, 2, 1, 9, 4, 1, 59, 15, 8, 11, 13, 1, 17, 71, 1, 1, 85, 44, 3, 17, 1, 4, 1, 16, 68, 1, 1, 1, 1, 1], [7, 1, 16, 19, 1, 23, 2, 1, 9, 1, 27, 3, 9, 1, 1, 3, 2, 1, 59, 1, 14, 19, 1, 3, 1, 21, 37, 1, 1, 9, 1, 1, 93, 2, 1, 1, 32, 59, 1, 1, 1, 3, 1, 81, 75, 2, 1, 1, 1, 1, 32, 1, 1, 2, 1, 1, 1], [4, 28, 74, 1, 4, 1, 1, 1, 20, 1, 56, 5, 1, 1, 14, 1, 81, 75, 19, 1, 1, 22, 1, 1, 17, 95, 5, 23, 2, 20, 1, 3, 10, 48, 36, 27, 1, 55, 1, 1, 7, 1, 58, 29, 6, 1, 14], [61, 2, 1, 1, 1, 1, 18, 16, 93, 1, 4, 45, 9, 1, 1, 1, 1, 23, 1, 27, 1, 3, 13, 1, 18, 1, 1, 97, 1, 1, 49, 1, 1, 30, 77, 18, 1, 1, 1, 4, 1, 1, 1, 1, 87, 16, 2, 51, 1, 1, 41, 56, 1, 65, 6, 1, 1, 1, 1, 3, 1, 76, 1, 1, 1, 90, 1, 1, 1, 1, 1, 1, 1, 47, 16, 2, 1, 1, 1, 1], [7, 15, 94, 12, 1, 1, 6, 1, 1, 4, 1, 72, 40, 1, 7, 1, 1, 4, 1, 1, 1, 22, 53, 1, 1, 1, 44, 1, 1, 1, 3, 9, 1, 77, 2, 1, 7, 95, 73, 2, 1, 3, 1, 1, 1, 1, 26, 1, 1, 34], [4, 1, 5, 1, 1, 14, 13, 1, 15, 68, 5, 1, 1, 1, 17, 1, 1, 1, 6, 1, 1], [5, 14, 2, 1, 1, 13, 4, 24, 1, 1, 12, 1, 1, 23, 35, 66, 30, 1, 1, 3, 9, 80, 1, 37, 69, 4, 39], [1, 1, 1, 95, 1, 1, 1, 1, 1, 1, 1, 10, 1, 1, 42, 1, 1, 1, 1, 28, 1, 3, 19, 32, 1, 1, 1, 1, 21, 1, 48, 3, 1], [35, 1, 15, 1, 1, 30, 1, 1, 62, 25, 3, 36, 1, 1, 85, 6, 94, 23, 1], [5, 8, 11, 4, 24, 1, 11, 5, 1, 3, 27, 66, 9, 1, 51, 21, 35, 15, 8, 11, 51, 1, 1, 1, 1, 1, 1, 92, 1, 24, 1, 23, 1, 1, 1, 1, 1, 2, 52, 48, 1, 1, 1, 1, 1, 1, 28, 5, 1, 17, 32], [8, 11, 1, 18, 1, 1, 35, 1, 5, 23, 2, 17, 98, 1, 1, 1, 35, 2, 1, 9, 80, 1, 66, 1, 23, 13, 1, 5, 1, 1, 1, 3, 1, 1, 1, 36, 10, 1, 1, 77, 48, 3, 43, 1, 65, 26, 1, 1, 91, 1, 1, 1, 15, 1, 4, 9, 80, 1, 4, 1, 51, 39, 8, 11, 10, 1, 1, 12, 1, 1, 11, 1, 1, 8, 11, 51, 52, 46, 1, 1, 1, 91, 50, 4, 82], [1, 1, 1, 16, 19, 1, 55, 24, 70, 1, 1, 54, 1, 1, 10, 1, 14, 43, 1], [1, 1, 23, 35, 2, 47, 1, 10, 1, 25, 7, 26, 1, 1, 4, 1, 1, 13, 1, 22, 10, 1, 1, 50, 2, 1, 1, 1, 1, 1, 5, 1, 1, 10, 25, 1, 2, 47, 1, 19, 32, 10, 1, 1, 1, 1, 1, 50, 1, 1, 1, 4], [28, 1, 14, 16, 1, 62, 25, 1, 70, 1, 43, 1, 91, 9, 1, 1, 43, 1, 22, 1, 2, 1, 26, 1, 1, 34, 1, 15, 79, 60, 1, 1, 6, 1], [1, 1, 1, 3, 1, 1, 16, 1, 1, 1, 1, 1, 14, 13, 1, 1, 1, 9, 1, 1, 33, 1, 24, 1, 1, 3, 1, 1, 1, 1, 1, 1, 1], [1, 1, 14, 1, 95, 5, 23, 21, 1, 1, 1, 1, 44, 57, 21, 1, 10, 1, 1, 1, 32, 1, 10, 1, 1, 1, 5, 1], [16, 1, 18, 5, 23, 1, 1, 1, 1, 29, 35, 23, 31, 14, 18, 13, 24, 1, 5, 23, 42, 1, 36, 27, 1, 5, 23, 2, 17, 27, 33, 9, 1, 1, 1, 1, 15, 18, 1, 1, 2, 1, 1, 23, 35, 1, 1, 1, 23, 6, 1, 16, 1, 45, 1, 1, 1, 1, 5, 1, 1, 1, 1, 31, 1, 1, 1, 31, 35, 1, 1], [7, 15, 94, 12, 1, 17, 82, 30, 17, 52, 1, 1, 3, 65, 19, 32, 95, 88, 1, 1, 1, 1, 42, 1, 1, 74, 1, 78, 1, 5, 1, 1, 1, 1, 1, 1, 6, 1, 27], [28, 5, 8, 11, 10, 2, 1, 1, 1, 51, 62, 25, 1, 22, 97, 1, 9, 21, 1, 78, 48, 1, 69, 7, 92, 1, 1, 48, 78, 1, 1, 13, 1, 69, 7], [10, 2, 1, 1, 4, 1, 10, 1, 1, 73, 7, 6, 16, 1, 1, 24, 70, 23, 35, 15, 18, 16, 77, 4, 1, 70, 1, 1, 1, 1], [1, 62, 25, 14, 1, 1, 65, 1, 5, 1, 1, 14, 1, 91, 1, 1, 1, 1, 1, 1, 1, 1, 5, 1, 2, 34, 29, 1, 26, 1, 9, 1], [18, 2, 1, 1, 4, 15, 1, 23, 3, 30, 17, 1, 1, 80, 1, 1, 54, 8, 11, 1, 1, 48, 6, 46, 1, 45, 1, 3, 1, 1, 80, 54, 13, 37, 33, 1, 1, 1, 1, 48, 1], [18, 7, 27, 5, 30, 2, 17, 1, 1, 1, 11, 5, 8, 11, 1, 1, 1, 1, 1, 1, 1, 1], [8, 11, 59, 14, 88, 42, 1, 1, 1, 1, 1, 1, 3, 43, 1, 1, 1, 1, 1, 1, 3, 24, 79, 60, 1, 63, 1, 1, 7, 1, 5, 1, 1, 21, 42, 1, 21, 1, 42, 1, 1, 1, 1, 15, 1, 1, 33, 42, 1, 59, 1, 41, 1, 42, 1, 1, 81, 75, 5, 1, 56, 1, 5, 1, 1, 1, 5, 1, 65, 42, 99, 75, 45, 1, 1, 3, 1, 29, 1, 1, 1, 1, 3, 1, 1, 72, 99, 1, 1, 1, 33, 1, 1, 75, 1, 1, 21, 42, 1, 1, 1, 3, 1, 1, 1, 3, 1, 1, 1, 9, 24, 1, 3, 1, 1, 9, 1, 1, 99, 1, 1, 75, 5, 1, 1, 1, 67, 1, 1, 9, 1, 75, 1, 5, 1, 1, 42, 1, 1, 1, 1, 3, 1, 1, 65, 1, 1, 9, 1, 41, 1, 1, 1, 1, 1, 36, 1, 1, 1, 36, 1, 1, 1, 1, 1, 41, 42, 84, 1, 10, 1, 29, 79, 60, 1, 1, 1, 1, 9, 1, 1, 65, 3, 79, 60, 1, 1, 1, 1, 75, 1, 3, 9, 1, 1, 2, 1, 1, 1, 9, 1, 3, 1, 41, 67, 42, 38, 1, 1], [13, 1, 1, 5, 16, 10, 1, 1, 3, 1, 1, 1, 1, 82, 1, 52, 3, 42, 36, 1, 59, 1, 46, 7, 1, 1, 1, 2, 1, 1, 1, 40, 28, 1, 1, 1, 16], [1, 1, 12, 68, 15, 1, 1, 3, 4, 1, 1, 18, 16, 10, 1, 4, 1, 15, 1, 1, 12, 1, 8, 1, 9, 21, 1, 1, 47, 1, 6, 1, 38, 1, 1, 1, 10, 1, 33, 29, 4, 90, 1, 1, 1, 1, 1, 1, 41, 10, 1, 2, 1, 1, 41, 1, 45, 38, 1, 6, 1, 1, 1, 1, 1, 1, 1, 2, 1, 13, 1, 4, 53, 1, 36, 1, 10, 1, 43, 1, 1, 2, 21, 1, 1, 9, 1, 1, 77, 9, 21, 1, 1, 1, 18, 1, 86, 1, 1], [1, 1, 35, 1, 23, 2, 98, 58, 18, 13, 1, 1, 1, 1, 3, 1, 1, 2, 52, 1, 1, 8, 11], [28, 12, 1, 1, 1, 1, 10, 1, 1, 1, 1, 8, 11, 2, 24, 1, 7, 12, 1, 1, 67, 5, 23, 27, 26, 24, 6, 1, 1, 1, 1, 1, 21, 1, 1, 35, 2, 1, 15, 8, 11, 1, 1, 3, 1, 31, 27], [18, 1, 1, 71, 1, 35, 27, 42, 1, 1, 1, 20, 1, 12, 1, 1, 1, 1, 34, 1, 13, 20, 1, 80, 1], [1, 1, 13, 4, 51, 1, 35, 1, 16, 10, 1, 35, 13, 17, 1, 20, 10, 1, 88, 1, 1, 96, 17, 32], [10, 7, 1, 18, 13, 1, 1, 10, 1, 1, 1, 1, 2, 1, 1, 7, 27, 5, 30, 1], [1, 16, 22, 1, 36, 27, 1, 18, 1, 3, 71, 21, 23, 35, 47, 1, 9, 21, 1, 1, 19, 1, 10, 1, 1, 4, 1, 3, 1, 1, 1, 1, 48, 2, 1, 1, 1, 47, 1, 1, 1, 1, 71, 9, 1], [1, 40, 1, 1, 22, 70, 35, 15, 8, 11, 30, 34, 1, 52, 1, 8, 11], [73, 7, 1, 1, 87, 52, 3, 30, 34, 50, 1, 1, 9, 21, 2, 1, 3, 32, 56, 95, 73, 1, 14, 34, 95, 5, 23, 31, 2, 98, 1], [15, 1, 99, 1, 1, 1, 3, 1, 1, 1, 1, 1, 1, 1, 57, 8, 11, 1, 1, 1, 21, 31, 35, 1, 1, 99, 1, 5, 16, 1, 1, 1, 8, 11, 1, 1, 1, 1, 26, 1, 1, 1, 1, 1, 3, 1, 99, 1, 1, 1, 1, 1, 1, 1, 1, 1, 33, 63, 1, 2, 99, 1, 38, 1, 21, 1, 1, 97, 1, 1, 33, 8, 11, 1, 1, 97, 1, 1, 1, 1, 1, 1, 1, 1, 1, 15, 1, 1, 1, 1, 16, 1, 1, 10, 1, 2, 36, 99, 1, 30, 1, 1, 57, 1, 1, 1, 1, 16], [4, 71, 1, 50, 5, 39, 14, 8, 11, 1, 15, 1, 12, 1, 1, 12, 1, 3, 1, 69, 1, 1, 1, 36, 69, 39, 16, 4, 9, 80, 1, 1, 22, 5, 16, 13, 4, 1, 1, 1, 14, 5, 1, 1, 2, 52, 3, 1, 25, 45, 4, 1, 1, 6, 46, 14, 33, 38, 1, 14, 33, 56, 1, 1, 1], [4, 51, 39, 18, 1, 10, 50, 1, 1, 71, 1, 35, 2, 17, 1, 10, 1, 1, 1, 1, 39, 1, 1, 23, 1, 1, 1, 10, 1, 3, 69, 39, 1, 4, 9, 80, 1, 1, 1, 47, 80, 1, 37, 3, 1, 1, 22, 1, 1, 1, 1, 1], [39, 14, 16, 58, 29, 50, 12, 1, 6, 1, 1, 74, 1, 2, 1, 6, 1, 1, 22, 9, 21, 7, 64, 12, 1, 1, 1, 17, 27, 22, 1, 1, 1, 38, 1, 1, 10, 1, 1, 1, 1, 1, 1, 3, 9, 21, 1, 10, 1, 48, 1, 1, 36, 27, 1, 6, 46, 14], [1, 17, 52, 3, 17, 1, 58, 1, 7, 15, 1, 1, 12, 1, 1, 4, 1, 1, 10, 70, 75, 6, 1, 1, 6, 1, 1, 1, 1, 22, 1, 1, 1, 42, 1, 91, 9, 32, 75, 6, 65, 1, 1, 1, 1, 15, 1, 1, 12, 1, 1, 4, 1, 1, 1, 75, 6, 1, 1, 22, 58, 29, 45, 81, 75, 6, 1, 1, 1, 8, 11], [28, 5, 8, 11, 17, 1, 1, 2, 1, 10, 1, 3, 1, 25, 1, 3, 1, 1, 58, 63, 7, 1, 17, 1, 46, 1, 1], [1, 21, 8, 11, 1, 4, 10, 51, 1, 88, 1, 51, 1, 1, 1, 1, 2, 4, 1, 33, 1, 1, 2, 56, 29, 13, 1, 1, 1, 20, 1, 8, 11, 1, 1, 1, 1, 1, 1, 1, 1, 1], [1, 1, 46, 7, 97, 1, 88, 29, 1, 1, 1, 1, 17, 1, 1, 1], [4, 64, 1, 1, 1, 1, 57, 8, 11, 1, 4, 1, 1, 7, 12, 1, 1, 1, 1, 1, 1, 64, 35, 12, 1, 1, 1, 1, 1, 1, 4, 1, 1, 1, 1, 1, 1, 8, 11], [1, 6, 63, 7, 1, 21, 1, 66, 6, 61, 7, 74, 16, 68, 1, 1, 1, 1, 1, 3, 1, 1, 1, 2, 34], [13, 72, 1, 4, 54, 14, 3, 72, 40, 54, 8, 11, 65, 19, 32, 3, 48, 1, 55, 1, 1, 1, 25, 85, 29, 28, 55, 53, 1, 22, 21, 1, 33, 2, 1, 1, 3, 1, 14, 19, 1, 1, 9, 37, 1, 1], [1, 1, 1, 1, 90, 54, 14, 1, 1, 25, 45, 1, 1, 90, 12, 1, 22, 21, 1, 1, 1, 1, 1, 1, 1, 1, 1, 1, 10, 72, 1, 17, 1, 1], [8, 11, 1, 1, 3, 1, 1, 1, 7, 2, 27, 3, 1, 5, 1, 1, 1, 19, 1, 76, 93, 53, 1, 1, 1, 1, 1, 1, 10, 1, 48, 36, 1, 1, 7, 1, 36, 27], [10, 14, 5, 1, 58, 1, 1, 6, 1, 1, 4, 1, 8, 11, 23, 31, 1, 98, 3, 71, 21, 35], [13, 72, 1, 4, 54, 14, 8, 11, 1, 1, 1, 1, 4, 28, 15, 94, 12, 1, 1, 1, 4, 1, 1, 1, 1, 1, 1, 1, 1, 1, 87, 19, 52, 81, 75, 19, 32, 1, 1, 1, 55, 26, 1, 1, 1, 3, 48, 24, 1, 1, 14, 1, 1, 95, 73, 1, 1, 90, 1, 55, 1, 1, 1, 36, 1, 44, 56, 1, 1, 86, 1, 1, 1, 1, 86, 1, 2, 19, 1, 1, 92, 1, 1, 88, 1, 18, 13, 19, 1, 1, 1], [4, 1, 72, 40, 1, 16, 1, 1, 1, 95, 5, 23, 2, 55, 1, 1, 1, 1, 1, 21, 1], [7, 15, 94, 12, 1, 17, 82, 62, 25, 1, 1, 33, 29, 1, 1, 1, 5, 73, 7, 1, 1, 20, 1, 14, 37, 3, 1, 1, 1, 1, 1, 1, 1, 14, 1, 1, 1, 9, 24, 1, 1, 1, 1, 20, 12, 1, 8, 11, 6, 1, 1, 1, 9, 24, 1, 47, 1, 9, 21, 14, 12, 1, 1, 45, 1, 20, 12, 86, 3, 1, 8, 11, 6, 86, 1, 1, 1, 20, 70, 14, 1, 1, 1, 1, 6, 1], [4, 1, 18, 13, 1, 7, 1, 15, 7, 42, 1, 3, 1, 1, 1, 1, 4, 9, 1, 1, 42, 1, 1, 1, 1, 1, 1, 1, 1, 42, 1, 1, 4, 17, 1, 1, 18, 13, 1, 83, 1, 19, 1, 23, 1, 1, 1, 1, 18, 42, 67, 1, 31, 35, 73, 1, 1, 1, 8, 11, 1, 1, 1, 1, 5, 1, 1, 1, 1, 1, 1, 1, 1, 1, 5, 1, 42, 1, 4, 1, 1, 5, 18, 1, 4, 76, 1, 18, 13, 1, 1, 1, 9, 1, 1, 1, 4, 36, 61, 15, 1, 76, 1, 18, 67, 42, 36, 1, 1, 1, 1], [38, 63, 40, 28, 5, 8, 1, 69, 13, 19, 1, 19, 82, 1, 1, 5, 1, 1, 1, 52, 3, 69, 13, 1, 62, 1, 1, 35, 1], [18, 84, 13, 1, 51, 1, 1, 1, 31, 1, 3, 1, 89, 63, 40, 12, 1, 5, 18, 13, 19, 1, 1, 1, 3, 1, 62, 25, 1, 6, 1, 66, 1, 43, 3, 1, 53, 1, 1, 1, 1, 24, 54, 1, 1, 1, 1, 1, 2, 1, 9, 21, 1, 49, 1, 1, 1, 78, 1, 1], [4, 1, 7, 5, 8, 11, 45, 17, 32, 22, 27, 1, 1, 1, 6, 1, 3, 1, 30, 15, 1, 31, 79, 60, 6, 46, 1, 14, 51, 1, 1, 1, 1, 1, 14, 8, 11, 1, 80, 37, 1, 1, 4, 1, 28, 5, 8, 11], [23, 17, 35, 66, 30, 1, 7, 1, 2, 62, 25, 48, 6, 14, 2, 1, 10, 1, 17, 1, 1, 23, 1], [7, 2, 82, 58, 29, 1, 22, 1, 2, 52, 1, 41, 1, 10, 7, 53, 1, 48, 1, 43, 1, 1, 1, 1, 3, 10, 1, 1, 81, 75, 1, 93, 5, 1, 1, 1, 50, 1, 82, 8, 11, 26, 71, 1, 35, 10, 7, 1, 1, 8, 11], [1, 1, 8, 11, 1, 35, 65, 1, 1, 35, 13, 24, 1, 1, 74, 1, 1, 44, 7, 1, 33, 9, 1, 1, 22, 1, 1, 1, 63, 1, 1], [37, 44, 1, 1, 1, 1, 1, 1, 1, 1, 1, 1, 48, 1, 1, 1, 1, 8, 11, 1, 1, 1, 1, 1, 42, 1, 1, 1, 25, 55, 42, 1], [30, 1, 2, 4, 1, 15, 1, 16, 38, 17, 1, 4, 1, 1, 1, 5, 34, 1, 29, 1, 1, 1, 14, 1, 1, 1, 14, 17, 1, 1, 1, 3, 1, 1, 1, 1, 41, 1, 14, 1, 1, 1, 1, 1, 1, 17, 1, 1, 41, 5, 1, 1, 1, 1, 2, 1, 41, 29, 1, 1, 9, 21, 1, 1, 2, 1, 29, 1, 96, 9, 1, 1, 1, 1, 1, 45, 4, 1, 17, 32, 66, 1, 1, 1, 58, 14, 20, 1, 85, 7, 20, 1, 1, 5, 1, 1, 1, 15, 1, 1, 1, 17, 1, 3, 1, 1, 1, 26, 1, 1, 15, 1, 14, 20, 1, 1, 3, 77, 1, 5, 1, 1, 1, 45, 63, 40, 1, 15, 1, 1, 1, 1, 1, 20, 1, 1, 1, 6, 65, 3, 1, 1, 1, 1, 1, 29, 45, 4, 3, 1, 4, 1, 9, 1, 22, 45, 1, 72, 40, 1, 20, 63, 40, 1, 14, 1, 3, 1, 15, 1, 1, 1, 14, 1, 5, 1, 1, 22, 53, 1, 15, 1, 1, 1, 63, 85, 1, 1, 1, 4, 1, 1, 1, 1, 1, 1, 1, 14, 4, 1, 1, 20, 38, 1, 1, 1, 45, 3, 1, 1, 1, 50, 20, 1, 2, 1, 29, 1, 1, 1, 9, 1, 22, 65, 14, 16, 17, 1, 1, 1, 6, 1, 1, 1, 1, 1, 1, 41, 6, 1, 1, 1, 1, 1, 1, 1, 22, 1, 1, 32, 5, 1, 1, 2, 53, 20, 1, 1, 4, 1, 17, 1, 29, 45, 3, 4, 1, 1, 1, 1, 2, 21, 1, 14, 45, 1, 1, 30, 3, 1, 41, 1, 1, 1, 16, 1, 1, 1, 1, 41, 1, 1, 1, 1, 41, 76, 1, 36, 1, 64, 1, 1, 89, 4, 39, 7, 16, 68, 1, 1, 5, 1, 7, 1, 4, 1, 1, 1, 45, 5, 34, 1, 1, 16], [1, 84, 15, 18, 7, 97, 1, 1, 6, 68, 7, 1, 1, 37, 1, 63, 40, 4, 80, 1, 56, 1, 36, 1, 1, 85, 30, 83, 1, 79, 60, 9, 1, 3, 2, 1, 1, 23, 98], [1, 1, 1, 1, 1, 7, 1, 1, 33, 1, 1, 1, 15, 1, 1, 1, 1, 17, 1, 3, 1, 1, 1, 17, 1, 1, 21, 1, 21, 1, 1, 1, 1, 1, 1, 1, 8, 11, 38, 1, 1, 1, 15, 1, 1, 1, 5, 7, 67, 2, 9, 1, 3, 1, 6, 79, 60], [46, 1, 13, 4, 38, 1, 1, 40, 1, 12, 1, 1, 1, 68, 8, 11, 3, 68, 8, 11, 1, 18, 13, 1, 1, 1, 4, 1, 1, 8, 3, 1, 68, 23, 31, 2, 98, 3, 1, 48, 2, 1, 46, 7, 1, 1, 84, 1, 1, 4, 1, 1, 1, 8, 11, 68, 1, 4, 56, 24, 1, 1, 69, 50, 22, 69, 50, 4, 1, 5, 1, 1, 3, 1, 1, 1, 28, 5, 68, 8, 11, 69, 13, 1, 1, 15, 94, 12, 1, 4, 1, 80, 1, 1, 1, 1, 50, 4, 5, 18, 13, 17, 34, 3, 1, 37, 1, 50, 4, 80, 1, 37, 5, 8, 11, 68, 93, 1, 1, 1, 8, 11, 68, 6, 94, 1, 38, 1, 1, 5, 1, 93, 1, 1, 1, 53, 1, 12, 1, 1, 1, 1, 1, 38, 61, 1, 50, 74, 8, 11, 68, 15, 3, 12, 1, 1, 1, 66, 1, 12, 1, 1, 1, 1, 47, 1, 1, 25, 1, 1, 1, 1, 1, 1, 1, 1, 77, 6, 1, 2, 1, 1, 1, 8, 11], [1, 4, 71, 39, 1, 8, 11, 13, 33, 1, 1, 39, 1, 37, 44, 1, 1, 47, 44, 1], [7, 16, 1, 13, 1, 21, 1, 1, 7, 15, 1, 1, 1, 22, 4, 38, 1, 1, 1, 49, 1, 1, 1, 1, 64, 5, 1, 65, 2, 1, 1, 70, 31, 35, 1, 1, 7, 13, 1, 1, 30, 1, 1, 83, 1, 65, 1, 33, 1, 32, 10, 1, 1, 7, 16, 19, 27, 5, 30, 2, 19, 1, 64, 4, 70, 14, 5, 1, 1, 1, 1, 1, 1, 1], [58, 29, 1, 3, 1, 1, 57, 1, 1, 1, 1, 1, 57, 1, 49, 1, 1, 50, 2, 44, 85, 1, 1, 1, 1], [77, 50, 12, 1, 50, 1, 12, 1, 1, 6, 37, 1, 1, 1, 40, 13, 1, 1, 3, 21, 1, 1, 6, 86, 1, 1, 21, 1, 42, 1, 56, 20, 1, 1, 6, 1, 1, 1, 12, 1, 1, 1, 1, 1, 7, 44, 1, 1, 1], [1, 9, 24, 1, 81, 75, 4, 1, 79, 60, 6, 1, 1, 5, 1, 24, 1, 81, 75, 6, 1, 1, 66, 1, 9, 1, 4, 38, 80, 1, 1, 1, 18, 1, 66, 1, 47, 8, 11, 2, 1, 45, 58, 1], [63, 40, 39, 8, 11, 1, 1, 19, 82, 1, 63, 40, 1, 81, 75, 20, 1, 1, 79, 60, 1, 3, 84, 1, 1, 64, 90, 2, 1, 25, 45, 15, 1, 1, 2, 1, 15, 1, 12, 1, 33, 1, 1, 12, 1, 55, 1, 1, 64, 1, 53, 1, 25, 1, 1, 1, 1, 1, 1, 1, 1, 1, 1], [4, 1, 28, 5, 16, 22, 47, 18, 13, 2, 28, 1, 15, 1, 12, 1, 30, 19, 83, 3, 30, 87, 26, 19, 83, 2, 9, 4, 1, 59, 1, 1, 1, 1, 41, 58, 29, 1, 3, 1, 1, 1, 1, 3, 1, 1, 1, 49, 9, 32, 43, 1, 12, 1, 17, 61, 49, 53, 1, 1, 12, 14, 1, 41, 67, 1, 81, 43, 55], [23, 57, 98, 3, 21, 1, 1, 12, 1, 1, 15, 1, 17, 1, 1, 1, 26, 52, 3, 25, 7, 1], [27, 33, 1, 1, 1, 4, 45, 1, 16, 1, 2, 21, 1, 1, 1, 51, 1, 30, 2, 34, 1, 46, 7, 1, 1, 21, 1, 6, 1], [1, 1, 1, 1, 1, 9, 1, 18, 1, 1, 93, 1, 32, 10, 7, 44, 1, 48, 42, 6, 1, 96, 19, 61, 3, 1, 1, 1], [13, 1, 7, 1, 1, 39, 16, 33, 40, 13, 1, 1, 38, 1, 5, 50, 44, 12, 1, 5, 65, 2, 1, 46, 1, 33, 2, 4, 1, 1, 1, 1, 79, 60, 3, 1, 1, 1, 9, 1, 1, 1, 26, 1, 5, 52, 4, 1, 48, 1, 1, 1, 1, 1, 1, 1, 1, 1, 1, 1, 1, 1, 1, 1], [4, 1, 28, 5, 16, 22, 47, 18, 13, 2, 28, 1, 15, 1, 12, 1, 30, 19, 83, 3, 30, 87, 26, 19, 83, 2, 9, 4, 1, 59, 1, 1, 1, 1, 41, 58, 29, 1, 3, 1, 1, 1, 1, 3, 1, 1, 1, 49, 9, 32, 43, 1, 12, 1, 17, 61, 49, 53, 1, 1, 12, 14, 1, 41, 67, 1, 81, 43, 55], [5, 1, 2, 36, 1, 12, 1, 1, 1, 55, 1, 10, 63, 40, 12, 1, 1, 5, 18, 27, 93, 1, 1, 17, 1, 1, 1, 10, 28], [10, 84, 1, 1, 1, 25, 71, 1, 1, 93, 1, 5, 7, 4, 40, 13, 1, 6, 1, 86, 1, 30, 15, 1, 6, 1, 1, 6, 1, 1, 1, 19, 34, 1, 1, 96, 9, 1, 1, 3, 21, 1, 1, 1, 41, 2, 1, 12, 1, 1, 4, 1, 1, 1, 1, 1, 3, 9, 21, 1, 1, 7, 1], [14, 2, 83, 10, 1, 1, 9, 37, 3, 17, 1, 29, 79, 60, 55, 24, 39, 1, 79, 60, 1, 2, 17, 1, 1, 9, 1, 1, 43, 1, 1, 1, 9, 24, 1, 49, 53, 1, 43, 65, 2, 67, 48, 1, 1], [73, 1, 1, 48, 1, 82, 3, 1, 1, 1, 3, 1, 1, 1, 9, 1, 1, 1, 1, 29, 21, 1, 1, 22, 1, 1, 1, 9, 1, 41, 1], [44, 7, 62, 25, 23, 1, 98, 3, 1, 34, 5, 23, 2, 24, 1, 27, 1, 34, 29, 45, 4, 1, 1, 1, 43, 3, 1, 1, 1, 1, 1, 3, 1, 91, 4, 9, 1], [7, 1, 1, 1, 30, 1, 1, 26, 19, 34, 1, 16, 59, 97, 1, 1, 2, 1, 1, 10, 63, 1, 41, 53, 1, 63, 1, 1, 28, 1, 59, 1, 43, 1, 3, 1, 43, 2, 1], [1, 61, 1, 16, 92, 12, 1, 3, 1, 80, 21, 1, 1, 29, 1, 38, 1, 1, 1, 1, 69, 13, 1, 1, 1, 1, 18, 13, 1, 1, 12, 1, 74, 1, 4, 1, 1, 3, 1, 1, 65, 42, 1, 1, 1, 1, 3, 1, 1, 29, 1, 1, 1, 1, 65, 1, 1, 15, 1, 1, 3, 1, 1, 1, 1, 1, 75, 1, 1, 1, 1, 13, 1, 1, 1, 1, 1, 1, 1, 31, 1, 21, 1, 1, 1, 13, 3, 1, 1, 1, 1, 75, 1, 1, 1, 1, 1, 1, 1, 1, 1, 1, 1, 1, 3, 21, 1, 1, 1, 1, 1, 1, 1, 21, 1, 1, 13, 1, 1, 1, 18, 13, 3, 1, 1, 1, 76, 80, 1, 18, 13, 1, 17, 1], [1, 1, 1, 4, 1, 6, 1, 1, 1, 1, 1, 1, 1, 1, 1, 1, 12, 46, 14, 3, 1, 1, 12, 1, 1, 1, 4, 1, 3, 4, 1, 1, 1, 4, 6, 1, 1, 20, 1, 1, 3, 1, 1, 1, 52, 1, 20, 1, 1], [1, 7, 1, 1, 1, 6, 1, 1, 10, 1, 88, 3, 25, 8, 11, 17, 1, 1, 9, 21, 1, 6, 14, 69, 7, 1, 36, 44, 33, 13, 19, 32, 10, 1, 1, 13, 40, 1, 4, 12, 1, 1, 3, 13, 4, 1, 1, 7, 3, 1, 1, 1, 1, 1, 1, 1, 92, 4, 1, 1, 4, 76, 1, 1, 14, 3, 1, 1, 1, 8, 11, 1, 22, 72, 40, 4, 12, 1, 4, 1, 1, 1, 8, 11, 1, 3, 47, 1, 1, 1, 36, 1, 38, 5, 1, 1, 1, 1, 1], [7, 34, 9, 21, 37, 1, 5, 1, 87, 52, 3, 19, 1, 1], [1, 57, 1, 1, 1, 24, 28, 22, 18, 2, 84, 13, 1, 27, 3, 1, 1, 1, 49, 2, 1, 10, 7, 27, 1, 1, 1, 45, 7, 4, 1, 77, 1, 3, 1, 57, 26, 15, 1, 1, 2, 1, 82, 59, 1, 1, 6, 1, 1, 2, 1, 4, 1, 52, 1, 21, 1, 1, 1, 3, 64, 1, 1, 1, 1, 1, 1, 4, 13, 1, 1, 1, 53, 57, 1, 1, 9, 36, 34, 1, 46, 1, 1, 1, 2, 4, 1, 1, 45, 1, 1, 1, 57, 1, 1], [38, 9, 1, 1, 40, 4, 39, 18, 7, 13, 1, 22, 1, 1, 31, 35, 2, 1, 27, 1, 26, 9, 80, 1, 56, 5, 29, 13], [10, 88, 1, 34, 1, 90, 96, 12, 1, 1, 4, 51, 1, 8, 11, 69, 28, 74, 8, 11, 4, 9, 80, 1, 1, 78, 1, 7, 1, 8, 11], [1, 1, 1, 4, 1, 39, 8, 11, 15, 94, 12, 1, 22, 1, 1, 21, 35, 31, 27, 3, 1, 1, 14, 88, 1, 4, 1, 3, 1, 17, 1, 1, 79, 60, 2, 1, 1, 87, 17, 52, 1, 1, 41, 6, 14, 19, 1, 3, 1, 1, 21, 37, 44, 29, 7, 1, 93, 19, 1, 22, 21, 1, 1, 48, 1, 2, 1, 6, 86, 1, 1, 1, 1, 1, 8, 11, 1, 12, 1, 24, 1, 36, 61, 1, 7, 12, 1, 1, 1], [1, 16, 1, 61, 1, 35, 57, 5, 18, 13, 4, 24, 71, 28, 29, 1, 1, 18, 13, 1, 27, 33, 1, 1, 4, 1, 17, 34, 1, 24, 55, 1, 15, 1, 25, 1, 1, 87, 2, 1, 3, 1, 6, 1, 1, 1, 14, 2, 9, 1, 1, 15, 1, 21, 1, 1, 41, 15, 14, 12, 1, 1, 3, 1, 43, 2, 9, 1, 1, 1, 47, 58, 81, 75, 2, 1, 1, 1, 2, 1, 1, 1, 4, 45, 1, 1, 24, 1, 1, 1, 1, 1, 1, 1, 42, 1, 71], [1, 1, 2, 19, 82, 74, 1, 3, 1, 15, 1, 12, 1, 1, 1, 2, 19, 52, 1, 20, 69, 7], [4, 71, 1, 39, 18, 8, 11, 22, 51, 21, 31, 35, 12, 1, 1, 27, 33, 1, 1, 38, 1, 5, 18, 2, 67, 33, 1, 8, 11, 2, 1, 32, 1, 4], [4, 1, 28, 5, 16, 22, 47, 18, 13, 2, 28, 1, 15, 1, 12, 1, 30, 19, 83, 3, 30, 87, 26, 19, 83, 2, 9, 4, 1, 59, 1, 1, 1, 1, 41, 58, 29, 1, 3, 1, 1, 1, 1, 3, 1, 1, 1, 49, 9, 32, 43, 1, 12, 1, 17, 61, 49, 53, 1, 1, 12, 14, 1, 41, 67, 1, 81, 43, 55], [18, 13, 17, 1, 1, 1, 2, 1, 50, 5, 1, 88, 5, 1, 35, 23, 2, 17, 1, 18, 13, 1, 1, 1, 1, 1, 2, 1, 5, 88, 1, 1, 18, 13, 1, 23, 31, 2, 1, 66, 30, 3, 1, 9, 26, 1, 1, 4, 1, 13], [4, 25, 45, 1, 1, 1, 70, 31, 35, 47, 1, 36, 1, 10, 1, 9, 21, 1, 1, 4, 1, 31, 1, 1, 1, 1, 21, 37, 63, 44, 1, 73, 1, 33, 1, 25, 45, 1, 1, 18, 7, 1, 37, 49, 70, 1], [1, 34, 3, 7, 2, 62, 25, 1, 1, 46, 7, 17, 83, 1, 20, 1], [58, 29, 1, 79, 60, 8, 11, 6, 1, 1, 1, 1, 1, 59, 1, 2, 53, 1, 1, 59, 1, 12, 1, 8, 11, 10, 1, 31, 7, 5, 1, 1, 31, 1, 26, 10, 43, 1, 95, 1, 43, 2, 76, 55, 1, 1, 1, 1, 1, 15, 43, 1, 1, 12, 1, 3, 31, 55, 1, 1, 1, 1, 43, 1, 1, 43, 1, 6, 81, 1, 10, 1, 1, 1, 95, 5, 2, 1, 1, 1, 31, 1, 12, 1, 10, 1, 43, 55, 21, 1, 5, 1, 1, 1, 1, 1, 1, 1, 12, 1, 31, 1, 1, 76, 1, 1, 1, 1, 2, 1, 1, 1, 1, 1, 5, 1, 1, 5, 1, 1, 1, 1, 1, 1, 9, 1, 1, 1, 1, 76, 21, 1, 1, 1, 1, 10, 1, 1, 1, 10, 1, 1], [7, 2, 17, 1, 5, 1, 2, 27, 3, 1, 2, 83, 4, 51, 39, 18, 8, 11, 22, 17, 1, 6, 1, 1, 4, 92, 1, 4, 51, 1, 10, 1, 1, 5, 1, 65, 6, 1, 5, 1, 65, 1, 1, 1, 48, 2, 1, 6, 46, 57], [1, 1, 6, 1, 5, 1, 36, 44, 1, 19, 32, 5, 1, 19, 1, 1, 1, 1, 3, 1, 1, 1, 1, 5, 88, 1, 1, 23, 35, 2, 4, 1, 29, 45, 17, 27, 1, 47, 1, 1, 78, 1, 1], [50, 5, 8, 11, 51, 62, 25, 3, 32, 1, 51, 1, 8, 11, 1, 1], [50, 97, 1, 33, 1, 1, 97, 1, 4, 1, 8, 11, 1, 1, 3, 56, 1, 9, 21, 1, 22, 8, 11, 1, 2, 1, 4, 1, 10, 24, 1, 1, 1, 1, 1, 10, 1, 1, 1, 3, 1, 1, 67], [1, 1, 1, 1, 1, 1, 1, 52, 3, 1, 1, 1, 3, 1, 2, 1, 1, 79, 60, 1, 66, 1, 9, 1, 21, 1, 1, 1, 10, 1, 1, 1, 1, 53, 1, 1, 1, 1, 21, 6, 1, 90, 1, 1], [1, 1, 31, 7, 16, 24, 36, 27, 1, 7, 67, 33, 1, 1], [87, 2, 1, 1, 1, 11, 31, 35, 1, 1, 11, 1, 1, 1, 1, 8, 11, 1, 1, 41, 1, 10, 1], [4, 1, 28, 5, 16, 22, 47, 18, 13, 2, 28, 1, 15, 1, 12, 1, 30, 19, 83, 3, 30, 87, 26, 19, 83, 2, 9, 4, 1, 59, 1, 1, 1, 1, 41, 58, 29, 1, 3, 1, 1, 1, 1, 3, 1, 1, 1, 49, 9, 32, 43, 1, 12, 1, 17, 61, 49, 53, 1, 1, 12, 14, 1, 41, 67, 1, 81, 43, 55], [1, 83, 1, 57, 52, 3, 27, 1, 90, 1, 10, 1, 32, 3, 4, 9, 1, 37], [16, 19, 1, 1, 37, 23, 17, 1, 10, 1, 97, 1, 1, 10, 50, 12, 1, 1, 1, 11, 19, 61, 1], [18, 1, 22, 27, 3, 61, 1, 1, 1, 1, 42, 1, 1, 1, 1, 97, 88, 77, 4], [16, 2, 1, 88, 1, 13, 19, 62, 25, 1, 26, 1, 22, 9, 1, 60, 1, 1, 1, 4, 1, 60, 1, 1, 1, 1, 1, 3, 1, 1, 1, 4, 1, 74, 1, 1, 19, 1, 56, 6, 1, 1, 1, 38, 1, 12, 1, 1], [1, 54, 8, 11, 17, 32, 3, 82, 1, 1, 1, 1, 1, 8, 1, 1, 1, 13, 1, 2, 72, 40, 4, 54, 18, 13, 1, 40, 3, 1, 42, 6, 1, 51, 1, 1, 1, 1, 1, 8, 11], [4, 71, 28, 5, 8, 11, 1, 23, 35, 63, 40, 1, 28, 12, 1, 1, 9, 1, 88, 1, 1, 69, 7, 1, 19, 83, 32, 3, 1], [4, 1, 15, 1, 12, 94, 39, 14, 16, 1, 1, 37, 33, 1, 1, 82, 22, 81, 75, 2, 1, 4, 1, 70, 1, 1, 14, 9, 1, 1, 29, 7], [7, 39, 16, 17, 1, 31, 2, 27, 9, 1, 5, 1, 1, 17, 83, 3, 17, 1, 37, 36, 15, 44], [1, 1, 1, 79, 60, 1, 1, 3, 1, 1, 1, 2, 19, 5, 1, 15, 1, 1, 86, 1, 54, 14, 56, 1, 9, 21, 1, 1, 1, 1, 15, 1, 1, 1, 28, 3, 56, 1, 17, 62, 25], [81, 75, 2, 32, 23, 2, 1, 1, 7, 2, 17, 1, 1, 1, 16, 1, 1, 1, 6, 68], [1, 28, 5, 16, 4, 1, 1, 1, 1, 1, 1, 1, 3, 36, 27, 5, 1, 3, 9, 1, 1, 58, 29, 1, 1, 42, 55, 1, 38, 1], [97, 1, 1, 1, 2, 1, 30, 5, 1, 2, 17, 34, 1, 37, 66, 1, 98, 5, 1, 35, 2, 1, 1, 1, 1, 1, 97, 1, 1, 1, 60, 1, 1, 69, 1, 1], [95, 1, 57, 1, 1, 1, 1, 23, 1, 98, 1, 1, 21, 35, 1, 1, 33, 1, 23, 38, 1, 1, 54, 30, 1, 1, 1, 1, 1, 60, 1, 1, 1, 53, 1, 60, 1], [4, 1, 8, 11, 25, 90, 1, 12, 1, 1, 6, 1, 22, 1, 1, 1, 1, 1, 1, 1, 2, 27, 45, 1, 1, 1, 31, 35, 20, 38, 1, 1, 1, 1, 3, 20, 1, 31, 35, 15, 1, 1, 1, 1, 1, 22, 1, 89, 1, 20, 47, 1, 31, 1, 1, 5, 1, 5, 1, 1, 1, 1, 1, 20, 1, 20, 9, 1, 61, 1, 5, 1, 25, 1, 20, 1, 1, 9, 1, 1, 89, 25, 12, 1, 20, 1, 1, 2, 19, 1, 22, 1, 1, 25, 1, 1, 10, 1, 1, 2, 1, 20, 1, 1, 1, 8, 11, 6, 3, 1, 24, 1, 1, 1, 1, 78, 65, 93, 9, 24, 1, 20, 1, 60, 1, 15, 1, 1, 60, 1, 1, 1, 1, 5, 1, 1, 43, 1, 1, 1, 1, 1, 1, 25, 20, 1, 20, 70, 1, 1, 5, 1, 1, 1, 65, 1, 1, 1, 22, 6, 1, 1, 9, 24, 49, 20, 9, 1, 65, 1, 1, 20, 56, 86, 1, 7, 44, 1, 25, 90, 1, 60, 1, 1, 1, 1, 3, 1, 1, 2, 20, 1, 1, 1, 6, 1, 1, 1, 1, 21, 1, 1, 85, 25, 1, 15, 1, 26, 1, 85, 20, 38, 1, 22, 20, 1, 1, 1, 12, 1, 1, 1, 56, 14, 20, 1, 1, 1, 2, 1, 1, 3, 2, 1, 1, 1, 1, 1, 1, 2, 1, 1, 1, 1, 6, 1, 1, 2, 1, 38, 24, 1, 3, 20, 24, 1, 1, 19, 1, 65, 19, 1, 1, 1, 1, 1, 1, 1, 1, 1, 1, 1, 56, 1, 1, 1, 1, 22, 43, 8, 11, 1, 26, 1, 20, 1, 1, 1, 2, 1, 1, 16, 1, 34, 56, 90, 1, 20, 1, 1, 1, 1, 1, 2, 1, 1, 10, 1, 1, 77, 1, 1, 12, 86, 1, 1, 1, 9, 21, 93, 1, 86, 1, 1, 91, 1, 9, 1, 1, 60, 1, 8, 12, 1, 1, 1, 8, 1, 1, 1, 1, 1, 1, 9, 21, 1, 64, 3, 1, 1, 1, 76, 1, 1, 1], [71, 1, 1, 23, 1, 27, 50, 12, 1, 1, 1, 46, 1, 1, 1, 1, 80, 1, 37, 2, 1, 1, 28, 1, 73, 24, 1, 1, 49, 1, 1, 2, 1, 1, 43, 1, 1, 1, 1, 79, 60, 78, 1, 43, 6, 1], [5, 23, 1, 6, 8, 11, 4, 24, 70, 1, 94, 1, 1, 15, 1, 1, 16, 38, 1, 1, 1, 20], [4, 17, 1, 5, 18, 13, 22, 4, 24, 1, 23, 2, 1, 1, 76, 1, 74, 1, 1, 4, 80, 1, 23, 31, 1, 1, 1, 3, 47, 1, 1, 1], [19, 1, 5, 30, 16, 24, 12, 1, 1, 5, 23, 2, 98, 22, 61, 35, 2, 1, 3, 1, 7, 26, 61, 1, 1, 24, 70, 31, 35, 12, 1, 29, 1, 1, 12, 1, 4, 38, 1, 1, 89, 4, 72, 40, 12, 1, 1, 5, 8, 11, 82], [4, 71, 1, 39, 18, 8, 11, 22, 51, 21, 31, 35, 12, 1, 1, 27, 33, 1, 1, 38, 1, 5, 18, 2, 67, 33, 1, 8, 11, 2, 1, 32, 1, 4], [1, 1, 5, 1, 1, 20, 1, 10, 40, 13, 89, 7, 20, 15, 1, 5, 1, 58, 1, 7, 1, 15, 1, 1, 20, 6, 1, 1, 1, 1, 32, 30, 26, 19, 34, 1, 1, 20, 10, 7, 1, 40, 13, 19, 95, 5, 1, 18, 2, 1, 1, 20, 1, 1, 63, 1, 10, 1, 89, 28, 20, 74, 16, 68], [1, 1, 1, 1, 1, 4, 72, 40, 12, 1, 3, 1, 1, 1, 1, 21, 18, 97, 88, 77, 8, 11, 3, 1, 1, 57, 64, 55, 24, 1, 1, 1, 57, 2, 24, 1, 1, 21, 1, 1, 35, 78, 1, 1, 3, 1, 55, 24, 28, 1, 74, 8, 11], [4, 51, 39, 8, 11, 2, 38, 1, 1, 1, 1, 10, 1, 4, 2, 1, 28, 1, 18, 2, 23, 98, 1, 8, 11, 13, 33, 1, 1, 17, 34, 4, 1, 5, 7, 4, 1, 1, 39, 8, 11, 1, 19, 52, 1, 2, 1, 45, 26, 1, 1, 6, 14], [47, 8, 11, 2, 70, 1, 1, 77, 13, 1, 1, 1, 1, 1, 1, 2, 36, 1, 1, 1, 1, 70, 1], [89, 4, 1, 4, 1, 1, 6, 46, 1, 1, 1, 49, 56, 57, 4, 6, 1, 1, 4, 1, 1, 1, 9, 1, 1, 12, 1, 1, 1, 1, 1, 1, 4, 1, 12, 1, 16, 6, 1, 1, 13, 3, 1, 4, 1, 1, 1, 1, 1, 6, 1, 1, 1, 43, 4, 2, 38, 79, 60, 1, 3, 4, 1, 1, 45, 13, 89, 72, 4, 6, 1, 1, 68, 1, 1, 13, 70, 1, 1, 1], [28, 12, 1, 1, 1, 1, 47, 8, 11, 2, 1, 1, 50, 15, 1, 12, 1, 1, 1, 1, 17, 1, 3, 82], [29, 45, 1, 4, 1, 1, 1, 3, 1, 4, 9, 1, 1, 1, 1, 1, 1, 1, 4, 38, 1, 1, 3, 1, 1, 1, 1, 1, 6, 1, 3, 1, 3, 1, 64, 14, 37, 85, 58, 1, 1, 44, 1, 59, 58, 1, 1, 44, 66, 14, 1, 1, 64, 1, 10, 1, 1, 1, 2, 1, 26, 1, 9, 1, 1, 1, 1, 1, 1, 18, 1], [35, 8, 11, 1, 1, 49, 36, 1, 1, 1, 19, 32, 3, 1, 2, 52, 46, 30], [1, 32, 3, 1, 1, 1, 13, 1, 1, 1, 37, 1, 1, 1, 95, 1, 1, 1, 1, 1, 1, 70, 1, 78, 1, 1, 1, 1, 1], [16, 59, 1, 84, 1, 7, 1, 1, 2, 1, 61, 1, 35, 10, 1, 3, 61, 1, 10, 7, 57, 1, 1, 1, 35, 55, 24, 28, 5, 1, 1, 1, 1, 1, 4, 51, 39, 7, 13, 22, 1, 27, 1, 9, 1, 30, 57, 34, 1, 1, 78, 37, 1, 37, 26, 1, 1, 1, 1, 57, 1, 1, 1, 8, 11], [4, 1, 31, 1, 1, 1, 1, 1, 1, 23, 31, 1, 3, 47, 1, 1, 1, 1, 1, 3, 1, 1, 1, 10, 1, 3, 1, 1, 92, 1, 1, 1, 1, 1, 1, 1, 1, 5, 1, 1, 31, 1, 1, 4, 1, 1, 2, 1, 5, 2, 1, 36, 4, 1, 1, 79, 60, 22, 1, 1, 6, 1, 17, 1, 30, 1, 14, 17, 52, 3, 17, 1, 1, 1, 48, 2, 1, 6, 14, 19, 27, 3, 1, 36, 1, 48, 47, 1, 1, 92, 1, 1, 1, 70, 1, 1, 1, 1, 1, 2, 1, 1, 64, 73, 1, 1, 29, 1, 4, 1, 10, 1, 1, 93, 1, 1, 1, 1, 21, 1, 12, 7, 1, 93, 29, 6, 1, 6, 37, 64, 85, 95, 1, 3, 1, 1, 44, 36, 5, 1, 1, 14, 1], [50, 44, 1, 1, 1, 55, 53, 1, 1, 78, 1, 1, 5, 1, 2, 1, 1, 1, 1, 47, 5, 1, 1, 1, 38, 1, 1, 65, 32, 1, 1, 1], [1, 28, 74, 8, 11, 1, 94, 1, 37, 22, 1, 66, 45, 59, 1, 1, 1, 49, 9, 1, 5, 4, 1, 2, 1, 1, 3, 1], [13, 72, 40, 4, 54, 1, 1, 1, 1, 4, 1, 1, 1, 2, 4, 1, 3, 1, 10, 1, 12, 1, 59, 1, 83, 1, 4, 1, 1, 1, 1, 1, 1, 1, 56, 6, 1, 5, 1, 1, 16, 68], [69, 13, 92, 1, 12, 1, 1, 21, 1, 15, 1, 51, 54, 1, 1, 25, 42, 1, 1, 21, 8, 11, 1, 1, 3, 1, 1, 95, 5, 1, 14, 67, 1, 1, 42, 1, 69, 50, 82, 47, 1, 29, 1, 1, 1, 3, 1, 1, 1, 8, 11, 1, 28, 1, 8, 11, 1, 1], [1, 1, 15, 1, 19, 1, 1, 3, 1, 1, 1, 44, 6, 1, 10, 1, 1, 12, 1, 48, 19, 1, 65, 19, 32, 24, 1, 1, 78, 48, 46, 1, 23, 98, 5, 1, 2, 1], [40, 13, 20, 1, 1, 89, 7, 20, 74, 5, 68, 16, 2, 12, 1, 1, 7, 1, 1, 1, 19, 1, 1, 1, 20, 1, 1, 1, 20, 7, 46, 1, 1, 1, 20, 6, 1, 77, 1, 1, 62, 25, 30, 19, 34, 1, 1, 20, 19], [10, 2, 1, 1, 33, 1, 24, 1, 3, 32, 1, 1, 1, 7, 47, 6, 8, 11, 69, 4, 54, 14, 8, 11, 1, 9, 37, 7], [1, 40, 39, 18, 13, 1, 80, 1, 1, 1, 15, 18, 13, 6, 1, 1, 1, 6, 1, 30, 3, 1, 1, 41, 1, 34, 1, 26, 89, 1, 1, 1, 1, 51, 1, 34, 46, 1, 1, 73, 7, 1, 1, 41, 3, 1, 1, 1], [13, 59, 72, 40, 4, 1, 12, 1, 1, 3, 72, 40, 39, 8, 11, 1, 1, 10, 2, 1, 88, 1, 1, 1, 1, 88, 58, 1, 1], [1, 5, 18, 13, 1, 61, 1, 91, 55, 24, 1, 12, 1, 1, 5, 23, 98, 30, 1, 57, 34, 1, 6, 46, 1, 34, 47, 1, 10, 42, 23, 35, 71, 1, 1], [13, 59, 89, 72, 4, 28, 5, 16, 39, 14, 1, 15, 1, 12, 94, 14, 1, 5, 62, 25, 3, 28, 95, 73, 1, 1, 14, 1, 1, 5, 1, 87, 57, 29, 76, 1, 1, 6, 43, 1, 4, 6, 1, 1, 1, 84, 1, 57, 29, 45, 1, 1, 1, 1, 1, 1, 3, 1, 33, 7, 57, 1, 32, 1, 1, 21, 1, 1, 2, 1, 1, 46, 7, 26, 1, 1, 8, 11, 68, 10, 89, 2, 82, 3, 1], [1, 33, 1, 1, 1, 20, 1, 1, 12, 1, 69, 1, 1, 40, 13, 20, 1, 8, 11, 10, 7, 20, 1, 30, 19, 1, 7, 19, 32, 1, 1], [17, 82, 28, 74, 16, 5, 1, 1, 1, 4, 1, 23, 47, 5, 1, 1, 1, 1, 1, 1, 1, 56, 1, 1, 1, 16, 1, 16, 1], [8, 11, 59, 14, 2, 51, 4, 1, 69, 1, 32, 3, 1, 1, 1, 1, 1, 1], [1, 4, 1, 16, 68, 1, 1, 1, 14, 17, 1, 1, 5, 16, 1, 1, 1, 1, 31, 14, 16, 5, 1, 7, 1, 3, 1, 40, 13, 9, 1, 37, 44, 1, 4, 1, 1, 6, 1, 1, 3, 1, 16, 68, 38, 17, 71, 37, 36, 15, 44, 1, 68, 16, 76, 1, 1, 16, 1, 1, 1, 1, 1, 18, 13, 9, 21, 14, 1, 37, 1, 22, 1, 33, 4, 1, 22, 1, 1, 2, 71, 1, 1, 4, 9, 76, 1, 18, 13, 1, 54, 16, 1, 1, 1, 36, 34, 3, 1, 1, 61, 3, 1, 36, 34], [1, 1, 1, 1, 9, 37, 3, 69, 7, 19, 32, 4, 71, 39, 8, 11, 22, 61, 1, 91, 55, 24, 1, 12, 1, 1, 5, 23, 98, 1, 1], [99, 3, 1, 1, 1, 56, 53, 1, 1, 1, 22, 53, 1, 1, 1, 1, 1, 1, 3, 1, 29, 1, 1, 20, 1], [1, 40, 13, 46, 1, 1, 50, 1, 12, 1, 1, 1, 1, 1, 14, 1, 1, 14, 19, 83, 1, 26, 5, 1, 2, 34, 3, 52], [4, 1, 28, 5, 39, 8, 11, 93, 1, 37, 1, 1, 1, 56, 1, 1, 1, 37, 1, 33, 4, 1, 1, 16, 17, 97, 1, 26, 10, 23], [7, 1, 1, 1, 47, 23, 38, 9, 1, 1, 22, 1, 1, 40, 1, 33, 1, 1, 38, 63, 40, 39, 14, 13, 66, 1, 80, 1, 47, 29, 1, 15, 1, 12, 1, 1, 21, 2, 9, 1, 3, 4, 1, 1, 1, 26], [7, 2, 1, 1, 37, 1, 3, 1, 1, 32, 7, 32, 1, 1, 1, 1, 1, 1, 1, 1, 24, 1, 5, 1, 1, 1, 3, 1, 51, 1, 1, 23, 1, 3, 65, 1, 1, 1], [1, 79, 60, 1, 1, 17, 1, 1, 1, 5, 1, 2, 9, 1, 79, 60, 23, 31, 95, 1, 5, 43, 78, 1, 43], [4, 1, 5, 16, 22, 71, 1, 35, 2, 17, 1, 1, 27, 93, 16, 9, 1, 1, 3, 1, 15, 41], [4, 1, 1, 1, 33, 1, 4, 32, 54, 14, 13, 1, 20, 28, 5, 1, 1, 1, 14, 1, 49, 1, 3, 1, 1, 26, 83, 1, 26, 1], [62, 25, 3, 23, 17, 1, 48, 3, 30, 26, 1, 15, 23, 2, 55, 1], [1, 1, 1, 40, 13, 1, 10, 89, 7, 20, 5, 16, 1, 15, 1, 6, 1, 1, 19, 1, 1, 1, 20, 1, 1, 1, 20, 7, 15, 1, 62, 25, 1, 1, 19, 30, 34, 1, 1, 19], [69, 13, 9, 21, 1, 1, 1, 22, 4, 51, 1, 65, 6, 1, 78, 49, 1, 1, 87, 52, 1, 1, 1, 54, 1, 37, 1, 44, 1, 80, 1], [38, 19, 83, 1, 66, 1, 61, 1, 41, 5, 1, 43, 1, 1, 49, 24, 1, 61, 41, 2, 9, 1, 5, 1, 91, 9, 1, 41, 67, 1, 1, 92, 21, 41, 2, 1, 43, 1, 1, 5, 1, 1, 1, 76, 1, 1, 1, 1, 1, 1, 1, 41, 67, 10, 1, 1, 1, 9, 1, 41, 1, 3, 34, 1, 54, 1, 1, 16, 68, 10, 1, 1, 1, 5, 23, 1, 38, 70, 1, 1, 1, 1, 1, 3, 26, 8, 1, 1, 1], [4, 1, 1, 1, 1, 54, 18, 13, 1, 1, 1, 1, 1, 5, 65, 6, 1, 2, 1, 1, 1, 1, 4, 9, 1, 1, 1, 1, 1, 30, 1, 95, 5, 1, 53, 1, 48, 69, 50, 2, 1, 25, 1, 44, 1, 1, 1, 5, 1, 1, 1, 1, 1, 1, 1, 1], [4, 3, 1, 1, 31, 35, 16, 1, 1, 1, 58, 1, 1, 20, 1, 70, 1, 1, 74, 1, 16, 36, 71, 1, 31, 35, 1, 1, 1, 1, 1, 1], [92, 1, 1, 7, 5, 1, 27, 3, 52, 8, 11, 59, 1, 1, 1, 27, 3, 52, 16, 26, 1, 1, 1, 1, 1, 1], [1, 31, 1, 1, 3, 1, 23, 1, 34, 58, 1, 2, 1, 95, 59, 1, 2, 1, 58, 1, 1, 31, 16, 3, 45, 51, 1, 3, 82, 24, 1, 65, 3, 48, 2, 1, 5, 1, 2, 1, 61, 65, 1, 1, 1, 3, 1, 1, 1, 5, 1, 1, 3, 1, 1, 2, 9, 24, 1, 1, 1, 77, 45, 1, 1, 28, 5, 16], [72, 40, 54, 16, 10, 50, 1, 15, 1, 6, 1, 50, 1, 44, 1, 9, 1, 1, 76, 1, 4, 51, 1, 1, 1, 89, 18, 67, 1, 1, 1, 76, 1, 3, 1, 4, 9, 1, 1, 1, 1, 1, 9, 1, 1, 1], [29, 4, 1, 5, 8, 11, 12, 1, 4, 1, 1, 1, 3, 1, 6, 8, 11, 17, 83, 1, 10, 42, 1, 77, 29, 4, 1, 4, 1, 65, 1, 6, 1, 1, 1, 1, 6, 1, 1, 1, 1, 4, 1, 1, 1, 6, 1, 63, 40, 1, 28, 5, 8, 11, 68, 12, 1, 1, 12, 1], [1, 84, 1, 2, 1, 4, 79, 60, 1, 17, 9, 1, 9, 52, 17, 17, 17, 1, 4, 1, 1, 1, 10, 6, 1, 6, 81, 75, 2, 1, 5, 1, 4, 1, 1, 9, 90, 1, 5, 1, 1, 1, 1, 1, 1, 4, 90, 1, 1, 1, 1, 10, 1, 1], [88, 1, 18, 2, 27, 33, 1, 1, 1, 47, 7, 1, 47, 15, 94, 12, 1, 49, 1, 1, 1, 1, 1, 1, 1, 89, 1, 4, 1, 48, 26, 1, 1, 1, 33, 1, 1, 1], [1, 1, 5, 1, 98, 9, 1, 1, 1, 46, 3, 26, 21, 88, 36, 61, 10, 1, 12, 67, 81, 1, 1, 5, 18, 8, 11, 13, 5, 30, 2, 34, 3, 1, 1, 1, 1, 1, 57, 36, 1, 3, 1, 1, 1, 1, 73, 1, 1, 1, 10, 1, 23, 2, 1, 3, 26, 1, 73, 12, 1, 1, 5, 1, 1, 1, 1, 1, 1, 1, 1, 1, 1, 1, 3, 1, 1, 1, 1, 10, 1, 1, 2, 34, 3, 1, 1, 1, 1, 1, 1], [7, 58, 1, 1, 1, 51, 62, 25, 29, 1, 26, 17, 34, 91, 1, 1, 1, 1, 29, 7, 26, 1, 3, 1], [1, 1, 1, 1, 1, 1, 6, 1, 3, 43, 1, 1, 1, 31, 1, 1, 1, 21, 1, 1, 1, 33, 1, 1, 1, 1, 43, 1, 1, 1, 1, 1, 1, 1, 1, 42, 43, 1, 1, 1, 1, 1, 54, 1, 1, 15, 1, 12, 1, 1], [1, 13, 1, 18, 7, 2, 1, 1, 1, 15, 1, 12, 1, 1, 1, 1, 2, 1, 20, 1, 39, 1, 8, 1, 10, 7, 1, 15, 1, 5, 1, 7, 1, 1, 1, 62, 25, 32, 3, 1, 56, 6, 1, 1, 1, 25, 1, 19, 1], [50, 15, 1, 40, 13, 39, 16, 68, 1, 50, 13, 59, 50, 2, 1, 32, 1, 1, 37, 69, 85, 22, 21, 41, 2, 9, 1, 66, 1, 1, 46, 14, 9, 1, 10, 45, 22, 1, 6, 86, 1, 37, 66, 4, 1, 94, 1, 1, 36, 1, 85, 15, 73, 2, 1, 3, 1, 69, 1, 5, 1, 1, 5, 1, 7, 1, 44, 4, 9, 1, 1, 1, 1, 1, 1, 1, 15, 1, 1, 56, 1, 1, 1, 1, 1], [4, 38, 63, 40, 39, 8, 11, 10, 1, 97, 1, 1, 4, 8, 11, 1, 1, 2, 67, 10, 1, 48, 4, 9, 1, 2, 1, 5, 1, 8, 11, 55, 24, 1, 1, 1, 5, 98], [16, 51, 49, 1, 10, 1, 1, 1, 2, 1, 1, 1, 23, 27, 26, 24, 1, 5, 1, 43, 1, 48, 1], [1, 60, 1, 3, 1, 52, 47, 1, 42, 1, 1, 85, 1, 31, 1, 1, 1, 9, 70, 1, 1, 65, 1, 1, 1, 65, 1, 78, 1, 1, 1, 65, 1, 1, 1, 1, 65, 41, 1, 1, 1, 21, 63, 41, 1, 1, 1, 3, 1, 42, 1, 1, 1, 1, 1, 81, 41, 1], [20, 39, 16, 15, 1, 12, 1, 1, 5, 44, 28, 1, 44, 1, 87, 17, 1, 20, 1, 20, 1, 6, 46, 14], [1, 13, 51, 1, 18, 1, 22, 71, 1, 23, 35, 2, 17, 97, 1, 1, 1], [7, 39, 8, 11, 82, 23, 2, 19, 98, 4, 71, 39, 8, 11, 10, 1, 1], [95, 5, 1, 4, 16, 1, 51, 6, 1, 10, 1, 15, 35, 1, 1, 35, 1, 16, 3, 35, 1, 1, 2, 27, 1, 1, 23, 31, 42, 27, 93, 30, 9, 1, 1, 69, 13, 1, 37, 3, 1, 1, 1, 1, 1, 1, 44, 1, 1, 1], [40, 13, 1, 10, 7, 20, 1, 16, 1, 1, 1, 2, 1, 20, 1, 1, 1, 40, 13, 22, 1, 20, 1, 5, 1, 20, 2, 1, 10, 89, 28, 5, 18, 13, 7, 19, 32, 30, 19, 34, 23, 19, 1, 3, 1, 1, 5, 43, 1, 10, 7, 1, 93, 19, 1, 22, 24, 55, 1, 5, 1, 43, 55, 20, 1, 1, 1, 10, 1, 89, 7, 20, 40, 13, 18, 2, 19, 20, 1], [1, 31, 1, 1, 3, 1, 1, 1, 1, 1, 59, 25, 1, 1, 21, 1, 6, 94, 16, 1, 1, 10, 1, 1, 1, 22, 21, 1, 1, 44, 1, 3, 1, 1, 96, 62, 25, 16, 1, 80, 1, 1, 1, 1], [7, 4, 29, 45, 1, 37, 22, 1, 6, 1, 2, 1, 1, 91, 1, 1, 44, 1, 93, 16, 1, 30, 1, 1, 1, 1, 1, 1, 41, 91, 20, 1, 1, 1, 1, 13, 4, 1, 17, 34, 1, 9, 1, 18, 6, 68, 90, 1, 1, 92, 1, 37], [25, 19, 1, 61, 1, 3, 1, 52, 34, 3, 1, 1, 41], [10, 72, 40, 4, 1, 12, 1, 1, 22, 1, 35, 8, 11, 2, 1, 1, 3, 1, 1, 5, 1, 1, 4, 1, 3, 1, 1, 1, 15, 1, 1, 4, 1, 1, 1, 1, 1, 40, 13, 1, 33, 1, 3, 53, 1, 10, 1, 1, 1, 61, 64, 31, 27, 12, 1, 1, 1, 4, 24, 1, 64], [1, 3, 87, 39, 1, 1, 1, 3, 1, 1, 9, 21, 64, 1, 6, 1, 1, 9, 21, 1, 48, 47, 10, 48, 2, 1, 29, 1, 31, 1, 15, 14, 1, 1, 9, 1, 1, 1, 1], [13, 59, 7, 4, 2, 1, 1, 5, 18, 16, 1, 31, 13, 1, 1, 1, 2, 4, 1, 22, 1, 31, 1, 1, 5, 1, 1, 1, 1, 1, 2, 52, 1, 2, 1, 1, 1, 36, 10, 18, 13], [30, 1, 3, 9, 1, 1, 1, 3, 32, 1, 1, 78, 1, 1, 1, 1], [5, 1, 18, 1, 1, 1, 1, 8, 11, 1, 31, 7, 2, 1, 27, 10, 1, 1, 1, 18, 2, 1, 1, 1, 13, 71, 1, 23, 35, 2, 17, 1, 1, 2, 1, 1, 1, 7, 26, 1, 10, 1, 31, 1, 5, 1, 67, 31, 2, 55, 70, 96, 1, 27, 1, 4, 38, 39, 18, 13, 63, 40, 1, 5, 23, 35, 2, 1, 4, 1, 31, 1, 1, 1, 1, 1, 5, 23, 1, 4, 1, 31, 13, 6, 1, 3, 1, 1, 1, 6, 1, 1, 1, 4, 1, 1, 25, 1, 22, 46, 1, 25, 13, 4, 24, 1, 10, 1, 1, 6, 1, 10, 1, 29, 45, 26, 19, 1, 5, 25, 7, 2, 62, 25, 3, 8, 1, 2, 52, 22, 38, 1, 5, 97, 88, 1, 4, 1, 9, 21, 1, 1, 58, 1, 1, 61, 1, 58, 1, 1, 1, 48, 1, 1, 43, 78, 1, 1, 77, 1, 58, 1, 81, 1, 1, 1, 23, 27, 13, 1, 5, 1, 88, 55, 70, 1, 1, 7, 13, 10, 1, 1, 1, 1, 1, 6, 81, 1, 78, 1, 2, 1, 92, 1, 9, 1, 5, 1, 1, 18, 13, 1, 70, 1, 18, 67, 5, 23, 78, 40, 1, 33, 10, 1, 2, 1, 5, 88, 1, 8, 11, 17, 1, 1], [50, 1, 1, 3, 32, 4, 76, 28, 64, 5, 8, 11, 1, 1, 30, 6, 86, 3, 6, 14, 82, 60, 1, 1, 26, 1, 5, 23, 98, 64], [17, 1, 28, 5, 16, 5, 1, 1, 2, 19, 98, 3, 30, 26, 17, 34], [80, 39, 18, 8, 11, 29, 12, 1, 5, 1, 1, 1, 1, 87, 1, 17, 34, 46, 1, 41], [7, 40, 13, 4, 74, 1, 1, 1, 1, 1, 15, 1, 23, 20, 17, 1, 22, 1, 88, 49, 1, 1, 6, 1, 20, 5, 30, 2, 1, 3, 1, 1, 2, 1, 1, 20], [1, 92, 73, 28, 44, 1, 58, 25, 45, 1, 1, 1, 14, 1, 1, 66, 1, 92, 73, 28, 59, 44, 1, 85, 1, 41, 1, 54, 14, 3, 62, 44, 14, 1, 1, 1, 1, 2, 1, 1], [7, 2, 27, 66, 1, 1, 5, 23, 1, 27, 1, 1, 1, 1], [1, 2, 1, 1, 5, 1, 27, 16, 59, 1, 84, 1, 57, 1, 24, 1, 23, 2, 19, 27, 22, 1, 1, 1, 55, 1, 53, 1, 43, 48, 78, 81, 75, 1, 2, 1, 74, 1, 3, 1, 75, 1, 22, 58, 29, 55, 1, 60, 6, 1, 1, 57, 1, 1, 1, 1, 1, 1, 48, 1, 1, 1, 22, 36, 27, 30, 3, 1, 25, 19, 83], [28, 74, 8, 11, 1, 19, 32, 10, 50, 2, 1, 25, 1, 44, 65, 6, 14, 9, 1, 1, 1, 77, 14, 1, 1, 1, 96, 34, 24, 1, 48, 6, 14, 2, 19, 1, 1, 1, 1, 19, 1, 1, 2, 1, 7, 27, 8, 11, 24, 1, 1], [13, 40, 72, 4, 39, 18, 8, 11, 1, 1, 39, 1, 6, 1, 1, 1, 1, 23, 35, 2, 1, 1, 1, 2, 34, 1, 1, 2, 1, 1, 1, 2, 52, 1, 1, 1, 1, 1, 1, 7, 1, 7, 95, 73, 82, 28, 74, 1, 1, 1, 1, 1, 1], [69, 13, 4, 47, 39, 16, 10, 50, 6, 1, 44, 3, 19, 32, 22, 9, 1, 1, 69, 6, 14, 19, 1, 3, 1, 96, 9, 1, 1, 1], [1, 1, 1, 46, 1, 92, 47, 5, 1, 1, 1, 1, 24, 54, 7, 5, 1, 1, 1, 1, 18, 1, 2, 1, 6, 1, 1, 9, 24, 36, 27, 15, 18, 16, 23, 36, 1, 33, 30, 1, 1, 16, 1, 71, 37, 89, 54, 16, 29, 4, 1, 1, 4, 1, 1, 9, 34, 9, 77, 1, 1, 1, 45, 1, 1, 1, 1, 1, 1, 1, 1, 4, 60, 1, 1, 29, 1, 1, 1, 1, 1, 1, 1, 1, 1, 1, 4, 15, 1, 3, 4, 53, 1, 6, 1, 41, 1, 1, 1, 1, 2, 9, 4, 1, 15, 7, 67, 1, 3, 1, 1, 1, 1, 1, 17, 1, 4, 1, 21, 1, 1, 5, 1, 1, 2, 1, 1, 1, 1, 6, 1, 26, 1, 1, 1, 3, 1, 1, 92, 1, 1, 4, 80, 6, 1, 1, 1, 73, 28, 1, 1, 1, 5, 34, 1, 1, 16, 1, 1, 1, 28, 1, 4, 1, 1, 1, 64, 1, 1, 12, 1, 67, 6, 68, 3, 1, 1, 1, 1, 1, 1, 1, 10, 7, 1, 1, 1, 1, 1, 1, 1, 1, 10, 1, 1, 3, 1, 1, 10, 28, 36, 27, 1, 1, 1, 10, 1, 35, 78, 1, 6, 1, 1], [7, 1, 1, 1, 14, 1, 1, 6, 1, 1, 1, 1, 1, 6, 1, 1, 43, 4, 42, 1, 1, 1, 42, 1, 1, 1, 1, 1, 43, 1, 1, 1, 1, 1, 1, 41, 1, 1, 4, 19, 1, 1, 5, 7, 42, 38, 1, 1], [72, 40, 28, 5, 8, 11, 1, 1, 23, 9, 1, 1, 1, 9, 1, 29, 79, 60, 24, 1, 6, 1, 1, 1, 37, 3, 1, 57, 26, 1, 1, 1, 1, 1, 29, 1, 28, 43, 2, 1, 4, 1, 1, 9, 1, 64, 1, 4, 56, 1, 1, 57], [7, 1, 1, 78, 7, 72, 40, 1, 51, 1, 1, 22, 14, 38, 1, 6, 86, 4, 1, 48, 3, 1, 6, 7, 13, 1, 1, 1, 1, 1, 46, 1, 1, 1, 1, 34, 29, 50, 29, 1, 26, 17, 1, 1, 1, 1], [7, 1, 1, 15, 16, 10, 1, 12, 1, 10, 72, 1, 1, 7, 6, 1, 1, 74, 1, 3, 1, 30, 1, 1, 2, 52, 1, 15, 1, 56, 12, 1], [18, 2, 1, 1, 23, 2, 19, 1, 5, 44, 1, 2, 4, 1, 19, 1, 37, 9, 36, 15, 44, 47, 85, 1, 69, 50, 9, 21, 1, 1, 1, 92, 1, 15, 23, 2, 19, 1, 1, 1, 1, 6, 1, 93, 5, 50, 1, 1, 1, 47, 15, 23, 1, 19, 1, 1, 4, 87, 52, 3, 18, 2, 19, 32, 1, 5, 23, 1, 1, 1, 1, 1, 4], [72, 40, 39, 8, 11, 59, 10, 50, 1, 12, 1, 3, 1, 1, 4, 9, 1, 1, 1, 1, 12, 1, 1, 9, 1, 39, 88, 2, 1, 8, 11, 5, 7, 97, 1, 57, 17, 1, 1, 88, 50, 1, 1, 3, 1, 1, 1, 1, 9, 1, 1, 1, 4, 38, 1, 1, 12, 1, 3, 1, 1, 5, 39, 8, 11, 1], [1, 14, 42, 1, 15, 94, 1, 1, 22, 1, 1, 1, 1, 1, 1, 43, 1, 1, 1, 66, 1, 13, 1, 1, 37, 1, 6, 1, 1], [4, 51, 1, 16, 10, 1, 50, 4, 1, 35, 2, 1, 5, 23, 2, 27, 1, 26, 1, 1, 1, 1, 23, 43, 2, 1, 92, 1, 1, 43, 78, 1, 1, 3, 1, 37, 1, 1, 16, 1, 1, 22, 47, 1, 2, 1, 30, 52, 3, 23, 2, 27, 1], [1, 1, 12, 1, 1, 16, 1, 47, 1, 25, 85, 15, 1, 1, 16, 23, 27, 30, 1, 62, 3, 1, 1, 26, 18, 88, 33, 10, 1, 1, 1, 1, 1, 1, 42, 36, 1], [28, 5, 16, 19, 1, 5, 1, 2, 95, 5, 1, 2, 55, 70, 4, 80, 28, 5, 25, 1, 1, 44, 36, 3, 1, 32, 1, 1, 1, 1, 1, 26, 19, 34, 1, 1, 3, 1, 57, 26, 52, 10, 1, 1, 5, 97, 88, 18, 13, 19, 1], [1, 1, 1, 7, 1, 8, 11, 1, 7, 2, 27, 33, 9, 1, 46, 1, 1, 1, 30, 3, 1, 14, 8, 11, 95, 5, 1, 55, 1, 92, 55, 9, 1, 43, 1, 1, 1, 43, 92, 47, 1, 1, 1, 2, 55, 1, 92, 55, 9, 1, 1, 1, 1, 55, 1, 48, 3, 92, 55, 9, 1, 75, 6, 1, 3, 1, 10, 75, 1, 1, 1, 1, 1, 36, 10, 1, 1, 49, 1, 1, 2, 55, 1, 6, 8, 11, 13, 5, 1, 27, 55, 24, 1, 1, 95, 1, 55, 5, 1, 88], [1, 1, 9, 39, 18, 13, 1, 1, 15, 1, 1, 1, 42, 1, 1, 62, 25, 3, 1, 1, 2, 1, 1, 48, 95, 5, 1, 1, 1, 1, 1, 1, 1], [1, 1, 1, 1, 1, 1, 83, 1, 1, 2, 1, 1, 1, 1, 1, 1, 23, 31, 17, 98, 1, 1, 1, 35, 1, 13, 1, 1, 2, 1, 1, 1, 24, 1, 1, 89, 1, 74, 8, 11], [72, 4, 70, 31, 13, 1, 5, 1, 1, 4, 1, 31, 1, 1, 1, 1, 31, 1, 15, 1, 1, 1, 4, 1, 1, 1, 1, 1, 1, 36, 27, 1, 1, 31, 1, 10, 1, 1, 1, 30, 1, 19, 52, 81, 75, 19, 1, 1, 1, 1, 33, 1, 1, 4, 80, 1, 2, 36, 1], [1, 1, 2, 90, 1, 33, 88, 1, 1, 1, 1, 1, 1, 1, 1, 21, 1, 18, 42, 97, 88, 1, 1, 8, 11, 18, 13, 71, 1, 35, 1, 21, 65, 1, 1, 1, 1, 1, 1, 1, 1, 1], [1, 32, 3, 1, 1, 1, 33, 29, 90, 1, 1, 17, 1, 56, 1, 1, 1, 41], [72, 40, 1, 54, 14, 13, 17, 1, 22, 5, 23, 1, 20, 1, 24, 1, 12, 1, 5, 1, 1, 81, 75, 10, 1, 1, 9, 1, 10, 1, 1, 66, 20, 9, 1, 61, 1, 69, 6, 1, 1, 1, 1, 61, 1, 31, 35, 1], [13, 72, 1, 4, 54, 8, 11, 14, 1, 1, 1, 1, 96, 17, 1], [63, 40, 1, 12, 63, 1, 1, 67, 1, 1, 1, 1, 3, 1, 4, 51, 1, 1, 22, 23, 31, 17, 98, 3, 22, 16, 55, 24, 1, 16], [1, 37, 47, 44, 1, 1, 1, 37, 44, 33, 1, 37, 56, 44, 1, 28, 44, 25, 1, 3, 47, 1, 1, 1, 1, 1, 1], [1, 4, 16, 1, 1, 1, 1, 58, 1, 33, 26, 17, 1, 22, 24, 1, 1, 1, 1, 77, 4], [1, 4, 28, 15, 1, 1, 1, 4, 51, 1, 16, 63, 40, 28, 5, 16, 51, 62, 25, 1, 1, 51, 36, 1, 15, 25, 2, 1, 6, 31, 3, 1, 1, 51, 62, 25, 95, 5, 73, 1, 21, 1, 78, 1, 1, 1, 1, 2, 1, 1, 33, 51, 62, 25, 59, 1, 4, 46, 1, 16, 3, 26, 1, 1, 31, 1, 17, 1, 3, 1, 25, 10, 1], [1, 35, 3, 1, 1, 16, 1, 24, 1, 1, 1, 1, 1, 2, 1, 2, 1, 2, 1, 1, 3, 32], [51, 39, 8, 11, 92, 1, 21, 1, 30, 19, 1, 80, 1, 1, 1, 7, 69, 44, 66, 4, 1, 6, 1, 1, 1, 1, 1, 1, 1, 1, 48, 1, 1, 12, 1, 24, 1, 35, 36, 71, 1], [1, 1, 28, 74, 16, 68, 1, 19, 32, 1, 21, 37, 6, 1, 8, 1, 1, 17, 52, 3, 1], [1, 1, 30, 1, 1, 52, 23, 1, 6, 1, 26, 9, 1, 14, 1, 3, 1, 1, 46, 1, 14, 1, 1], [1, 31, 17, 1, 1, 1, 1, 3, 79, 60, 42, 64, 64, 17, 1, 1, 1, 79, 60, 1, 1, 1, 1, 1, 1, 1, 1, 1, 13, 17, 1, 58, 65, 8, 11, 3, 4, 1, 17, 1, 5, 1, 23, 31, 8, 11, 48, 2, 24, 55, 1, 1, 1, 1, 5, 23, 2, 19, 98, 26, 1, 84, 1, 2, 4, 1, 15, 7, 8, 11, 13, 3, 1, 1, 1, 8, 11, 24, 4, 1, 34, 92, 1, 5, 97, 1, 1, 1, 1, 4, 76, 1, 8, 11, 1, 1, 1, 2, 76, 4, 1, 12, 1], [4, 1, 1, 1, 12, 94, 29, 1, 1, 15, 1, 12, 1, 45, 37, 1, 44, 1, 45, 1, 1, 1, 66, 22, 1, 73, 13, 42, 1, 49, 4, 1, 1, 10, 1, 6, 1, 1, 1, 4, 1, 22, 1, 1, 36, 1, 85, 15, 73, 1, 38, 1, 1, 6, 86, 1, 1], [61, 1, 35, 15, 11, 5, 23, 1, 1, 15, 1, 56, 5, 1, 1, 1, 1, 1], [8, 11, 1, 14, 72, 2, 4, 1, 29, 1, 50, 12, 1, 2, 1, 13, 1, 1, 72, 4, 5, 1, 1, 55, 1, 1, 1, 26, 1, 1, 42, 1, 55, 1, 42, 31, 35, 1, 1, 3, 1, 55, 1, 10, 54, 8, 11, 10, 1, 97, 1, 1, 1, 1, 4, 8, 11, 1, 1, 1, 1, 1, 5, 97, 1, 1, 2, 67, 1, 4, 8, 11, 1, 1, 15, 1, 1, 1, 1, 1, 1, 4, 80, 54, 1, 3, 1, 1, 1, 1, 1, 33, 1, 80, 1, 1, 97, 1, 1, 1, 1], [4, 1, 31, 27, 16, 1, 10, 12, 1, 2, 1, 82, 59, 1, 1, 1, 15, 1, 43, 48, 79, 60, 70, 1, 1, 16, 3, 1, 1, 38, 1, 79, 60, 9, 1, 1, 64, 6, 86, 22, 1, 1, 5, 1, 1, 1, 2, 38, 6, 1, 17, 1, 3, 82, 1, 21, 1, 37, 33, 1, 1, 47, 1, 85, 3, 1, 56, 6, 1, 26, 95, 73], [1, 1, 31, 1, 30, 1, 1, 14, 17, 1, 3, 52, 1, 29, 1, 1, 3, 1, 96, 1, 17, 32, 73, 1, 3, 1, 12, 81, 1, 26, 17, 62, 25], [1, 1, 84, 1, 4, 1, 16, 51, 76, 1, 1, 3, 1, 57, 76, 93, 20, 26, 1, 1, 14, 1, 1, 2, 1, 9, 1, 5, 1, 1, 1, 17, 9, 1, 64, 76, 93, 30, 87, 3, 1, 1, 57, 1, 1, 1, 3, 2, 1, 59, 1, 1, 29, 1, 1, 14, 1, 2, 1, 1, 20, 2, 75, 1, 1, 1, 1, 21, 87, 78, 1, 2, 1, 1, 45, 1, 87, 3, 1, 9, 20, 1, 77, 46, 1, 2, 1, 1, 1, 3, 1, 1, 1, 1, 1, 3, 1, 1, 1, 1, 47, 76, 52, 5, 1, 1, 1, 1, 1, 1, 1, 54, 14, 1, 1, 1, 4], [4, 71, 39, 18, 13, 1, 90, 1, 12, 1, 1, 22, 71, 1, 23, 35, 2, 17, 27, 1, 4, 1, 23, 27, 30, 26, 19, 1, 1, 37, 7, 32, 47, 1, 10, 1, 43, 6, 1, 19, 1, 6, 63, 7, 1, 4, 1, 1, 90, 1, 23, 27, 1, 1, 16, 3, 1, 1, 26, 1, 1, 1, 1, 51, 1, 1, 35, 1], [77, 2, 38, 1, 7, 1, 40, 37, 72, 1, 15, 44, 1, 12, 44, 1, 3, 37, 64, 1, 15, 1, 86, 1, 44, 1, 23, 26, 1, 27, 1, 1, 1, 1, 43, 23, 43, 1, 1], [39, 18, 8, 11, 29, 13, 1, 1, 32, 1, 65, 24, 36, 1, 5, 1, 1, 1, 1, 1, 5, 1, 1, 1, 1, 50, 76, 36, 1, 1, 3, 32, 48, 24, 1, 1, 1, 1, 57, 19, 1, 1, 6, 1, 1, 36, 1, 1, 1, 1, 1, 1, 1, 3, 1, 1, 5, 1, 1, 1, 3, 1, 1, 1, 1, 77, 1, 1, 1, 1, 1, 1, 1, 1, 1, 1, 76, 36, 61, 1, 1, 36, 1], [1, 1, 1, 1, 1, 50, 2, 76, 1, 4, 1, 84, 1, 12, 1, 76, 1, 5, 1, 1, 1, 3, 1, 9, 1, 1, 1, 4, 1, 5, 1, 1, 2, 26, 1, 10, 1, 1, 12, 1, 1, 1, 1, 2, 38, 4, 1, 84, 1, 1, 1, 1, 31, 1, 1, 1, 3, 31, 1, 1, 1, 15, 63, 1, 1, 4, 3, 1, 96, 1, 1, 1, 10, 1, 1, 12, 1, 1, 1, 1, 1, 1, 1, 1, 1, 1, 1, 1, 4, 38, 1, 6, 1, 1, 1, 13, 59, 40, 72, 4, 1, 39, 18, 1, 8, 11, 1, 1, 1, 1, 45, 1, 1, 4, 1, 1, 1, 1, 1, 72, 59, 22, 1, 12, 1, 1, 96, 1, 1, 3, 45, 1, 1, 1, 1, 1, 1, 1, 1, 4, 1, 1, 1, 1, 91, 1, 61, 1, 2, 1, 9, 49, 6, 1, 4, 1, 1, 4, 96, 1, 6, 46, 1, 1, 1, 72, 1, 1, 3, 36, 1, 1, 1, 1, 1, 21, 1, 1, 39, 1, 1, 1, 1, 1, 1, 61, 1, 3, 53, 1, 1, 1, 91, 4, 96, 39, 1, 1, 10, 1, 81, 67, 2, 4, 1, 59, 1, 3, 1, 1, 1, 5, 1, 1, 78, 1, 1, 6, 1, 1, 19, 1, 1, 96, 1, 1, 1, 6, 1, 1, 13, 36, 1, 3, 1, 1, 1, 1, 1, 1, 2, 1, 4, 1, 1, 6, 1, 1, 21, 1, 1, 1, 91, 1, 1, 1, 96, 1, 5, 1, 1, 1, 67, 2, 1, 59, 1, 1, 1, 1, 1, 3, 1, 1, 77, 1, 1, 3, 1, 1, 1, 66, 1, 1, 1, 1, 5, 1, 1, 91, 1, 1, 1, 10, 1, 1, 49, 1, 1, 90, 1, 39, 8, 11, 1, 48, 1, 6, 1, 1, 1, 1, 1, 1, 3, 1, 1, 1, 4, 1, 1, 3, 1, 12, 46, 1, 1, 14, 21, 84, 1, 2, 1, 4, 1, 1, 1, 1, 2, 6, 1, 10, 6, 1, 6, 46, 1, 14, 7, 1, 13, 1, 1, 1, 1, 1, 4, 69, 1, 50, 1, 1, 1, 1, 1, 55, 96, 70, 1, 1, 1, 86, 1, 2, 1, 5, 1, 1, 4, 58, 1, 4, 1, 10, 1, 4, 9, 39, 43, 1, 10, 1, 26, 1, 1, 2, 4, 1, 15, 1, 1, 36, 1, 33, 22, 1, 1, 1, 1, 1, 1, 1, 6, 1, 1, 2, 1, 47, 21, 1, 1, 96, 1, 1, 1, 72, 1, 14, 8, 11, 1, 1, 2, 4, 1, 1, 1, 1, 3, 1, 1, 5, 1, 13, 59, 89, 72, 4, 39, 8, 11, 91, 1, 1, 4, 1, 1, 1, 10, 1, 14, 1, 1, 63, 85, 6, 1, 4, 1, 1, 63, 1, 3, 1, 5, 18, 1, 1, 77, 1, 8, 78, 1, 1, 1, 2, 1, 1, 1, 25, 14, 8, 11, 5, 1, 1, 1, 2, 76, 1, 4, 1, 1, 1, 1, 3, 1, 1, 4, 38, 1, 25, 1, 1, 1, 1, 66, 29, 4, 38, 1, 6, 1, 1, 85, 1, 4, 1, 1, 1, 14, 76, 1, 85, 15, 73, 1, 1, 1, 1, 1, 4, 96, 1, 5, 1, 69, 1, 36, 85, 1, 1, 4, 1, 1, 1, 18, 1, 45, 1, 62, 25, 1, 1, 1, 1, 1, 15, 1, 1, 1, 45, 1, 78, 1, 38, 1, 1, 30, 1, 1, 12, 46, 14, 1, 50, 2, 47, 24, 1, 1, 38, 1, 12, 46, 1, 1, 87, 1, 1, 8, 11, 1, 1, 3, 1, 1, 1, 1, 5, 52, 1, 1, 41, 1, 1, 1, 3, 1, 1, 41, 39, 1, 1, 1, 1, 87, 1, 1, 41, 1, 81, 75, 3, 1, 1, 6, 1, 1, 1, 1, 41, 75, 6, 1, 3, 39, 1, 1, 87, 96, 1, 1, 1, 1, 1, 1, 1, 1, 1, 3, 1, 15, 8, 11, 1, 1, 1, 6, 1, 1, 1, 3, 1, 1, 48, 1, 1, 1, 5, 1, 1, 4, 1, 81, 75, 6, 1, 1, 66, 22, 1, 65, 6, 1, 4, 1, 1, 1, 4, 96, 1, 87, 10, 1, 1, 12, 1, 1, 1, 2, 1, 1, 1, 10, 1, 1, 3, 1, 87, 1, 5, 52, 29, 41, 67, 21, 2, 1, 12, 1, 3, 9, 1, 1, 1, 1, 39, 1, 87, 1, 5, 1, 3, 1, 1, 67, 2, 4, 1, 59, 1, 1, 1, 46, 1, 14, 1, 1, 1, 1, 41, 5, 65, 1, 1, 91, 1, 32, 1, 13, 96, 1, 1, 14, 1, 6, 86, 1, 4, 1, 41, 53, 1, 5, 1, 12, 1, 65, 1, 1, 9, 1, 1, 1, 5, 1, 1, 3, 1, 2, 1, 1, 14, 58, 1, 1, 1, 55, 1, 1, 1, 2, 1, 3, 32, 1, 54, 14, 5, 1, 1, 1, 1, 59, 65, 41, 10, 65, 41, 8, 11, 1, 3, 1, 1, 1, 5, 1, 8, 96, 5, 30, 1, 1, 3, 1, 1, 1, 6, 8, 11, 36, 1, 1, 5, 1, 8, 4, 1, 1, 10, 9, 1, 1, 2, 1, 1, 87, 1, 22, 1, 1, 1, 48, 3, 1, 2, 1, 1, 56, 1, 40, 1, 36, 1, 1, 6, 1, 1, 45, 25, 1, 50, 47, 44, 85, 91, 1, 1, 24, 1, 56, 1, 1, 1, 2, 1, 6, 46, 14, 1, 19, 1, 1, 1, 1, 1, 1, 9, 1, 1, 23, 1, 26, 1, 1, 23, 2, 1, 53, 95, 5, 1, 1, 1, 1, 78, 36, 1, 15, 7, 1, 77, 1, 68, 36, 34, 1, 1, 1, 1, 1, 1, 10, 1, 21, 1, 1, 23, 31, 6, 1, 2, 1, 1, 1, 1, 77, 1, 1, 3, 1, 1, 2, 1, 4, 1, 1, 1, 1, 31, 3, 1, 1, 78, 1, 12, 1, 7, 2, 1, 1, 8, 1, 1, 1, 1, 1, 1, 2, 1, 95, 5, 1, 1, 1, 2, 1, 27, 1, 1, 1, 1, 1, 1, 6, 1, 2, 4, 1, 8, 11, 1, 1, 35, 1, 10, 12, 1, 1, 4, 96, 1, 1, 6, 1, 5, 1, 1, 1, 1, 26, 91, 1, 1, 27, 1, 55, 1, 1, 1, 43, 48, 1, 1, 1, 1, 76, 1, 36, 1, 1, 55, 53, 1, 56, 1, 40, 1, 1, 1, 1, 55, 1, 7, 1, 1, 1, 1, 1, 18, 1, 77, 1, 8, 1, 1, 43, 1, 1, 48, 78, 1, 1, 1, 68, 70, 43, 1, 3, 48, 1, 38, 6, 1, 1, 1, 1, 5, 88, 1, 15, 1, 1, 6, 1, 1, 4, 1, 1, 1, 1, 1, 2, 4, 1, 59, 15, 1, 1, 1, 1, 2, 4, 1, 10, 1, 59, 23, 3, 30, 10, 18, 1, 8, 11, 1, 23, 3, 30, 2, 34, 91, 41, 96, 70, 32, 1, 1, 1, 10, 1, 1, 2, 1, 1, 3, 1, 1, 10, 1, 6, 1, 1, 1, 1, 2, 1, 1, 59, 15, 1, 1, 25, 3, 1, 14, 1, 8, 11, 1, 1, 1, 33, 1, 56, 1, 1, 25, 91, 1, 41, 1, 13, 96, 70, 1, 1, 1, 8, 11, 10, 1, 1, 1, 15, 1, 25, 1, 1, 1, 1, 1, 18, 1, 1, 9, 62, 25, 10, 1, 14, 1, 1, 1, 2, 1, 1, 91, 41, 70, 36, 32, 46, 1, 1, 3, 1, 1, 1, 1, 1, 8, 11, 91, 1, 1, 8, 11, 5, 1, 1, 1, 1, 36, 44, 1, 6, 14, 1, 4, 6, 86, 1, 1, 1, 1, 1, 5, 1, 1, 25, 38, 1, 1, 1, 25, 1, 1, 1, 50, 39, 8, 11, 1, 1, 2, 1, 1, 1, 15, 1, 1, 1, 2, 1, 1, 86, 1, 70, 75, 6, 1, 1, 2, 1, 1, 1, 4, 1, 1, 21, 2, 1, 1, 4, 1, 1, 39, 8, 11, 64, 5, 1, 4, 1, 1, 1, 5, 1, 35, 2, 1, 8, 11, 1, 1, 1, 1, 1, 15, 45, 1, 1, 1, 8, 11, 1, 1, 1, 12, 1, 4, 5, 1, 1, 4, 76, 1, 3, 1, 1, 23, 1, 46, 88, 1, 1, 8, 11, 1, 1, 1, 1, 1, 1, 1, 1, 1], [1, 99, 24, 1, 12, 1, 1, 5, 1, 27, 66, 1, 1, 3, 32, 6, 1, 69, 99, 1, 16, 1, 21, 37, 1, 1, 29, 1, 78, 96, 6, 1, 1, 1, 8, 11, 68], [1, 68, 1, 1, 1, 18, 67, 1, 73, 2, 1, 57, 44, 1, 44, 1, 3, 1, 64, 49, 44, 1, 1, 57, 7, 2, 53, 1, 85, 49, 84, 1, 1, 28, 1, 56, 1, 6, 1, 1, 1, 9, 21, 1, 1, 1, 25, 3, 13, 1, 7, 2, 12, 2, 37, 2, 4, 1, 5, 1, 68, 5, 1, 2, 1, 3, 1, 1, 1, 1, 9, 21, 1, 77, 45, 64, 1, 1, 38, 63, 40, 1, 1, 1, 7, 27, 1, 3, 1, 1, 25, 1, 57, 17, 62, 25, 55, 1, 1, 1], [16, 1, 99, 1, 29, 99, 28, 12, 1, 1, 15, 94, 1, 99, 21, 7, 64, 5, 16, 26, 12, 1, 25, 45, 99, 1, 1, 1, 44, 85, 1, 99, 1, 1, 99, 1, 25, 10, 7, 1, 1, 44, 29, 45, 16, 37, 1, 85, 1, 1, 99, 1, 1, 1, 14, 7, 1, 2, 1, 99, 1, 31, 1, 1, 86, 1, 1, 1, 1, 1, 99, 56, 1, 10, 1, 12, 1, 1, 22, 1, 38, 1, 91, 1, 2, 99, 1, 9, 24, 1, 12, 43, 14, 1, 99, 38, 1, 43, 1, 1, 1, 5, 1, 1, 1, 1, 1, 99, 1, 33, 1, 1, 9, 1, 14, 1, 99, 9, 1, 1, 31, 64, 1, 1, 1, 1, 1, 1, 99], [1, 1, 8, 11, 1, 1, 31, 38, 1, 1, 6, 1, 1, 1, 1, 1, 84, 1, 1, 3, 84, 1, 2, 1, 6, 1, 1, 1, 1, 17, 1, 66, 1, 9, 1, 1, 37, 63, 29, 66, 1, 50, 1], [13, 1, 84, 18, 7, 1, 4, 1, 1, 27, 33, 1, 9, 1, 48, 6, 1, 1, 96, 1, 1, 53, 1, 33, 95, 5, 1, 6, 1, 14], [4, 54, 8, 11, 1, 63, 40, 93, 40, 7, 2, 1, 4, 1, 74, 1, 4, 1, 20, 1, 93, 1, 79, 60, 81, 75, 20, 1, 24, 75, 1, 20, 1, 1, 10, 1, 1, 20, 1, 5, 1, 2, 55, 1, 59, 1, 84, 1, 1, 1, 4, 9, 1, 1, 1, 1, 17, 1, 1, 1, 64, 10, 1, 16, 1, 30, 77, 1], [7, 2, 32, 1, 1, 37, 33, 1, 1, 23, 3, 1, 1, 1, 1, 26, 1, 1, 10, 1, 1, 26, 32], [13, 1, 10, 89, 7, 5, 68, 8, 11, 1, 1, 1, 29, 20, 1, 1, 6, 94, 1, 5, 1, 1, 20, 10, 89, 7, 5, 18, 13, 19, 32, 30, 34, 10, 1, 89, 7, 58, 29, 45, 20, 1, 63, 1], [28, 74, 16, 17, 32, 30, 83, 1, 1, 92, 21, 1, 1, 1, 23, 35, 57, 1, 27, 3, 20, 1, 71, 1, 35, 47, 29, 14, 1, 1, 41, 1, 1, 1, 1, 1], [10, 1, 1, 46, 84, 1, 1, 4, 74, 1, 1, 1, 1, 2, 1, 40, 13, 20, 1, 37, 56, 44, 64, 1, 2, 20, 1, 46, 7, 15, 1, 1, 12, 1, 1, 1, 46, 7, 15, 1, 1, 1, 44, 1], [7, 1, 1, 3, 2, 1, 4, 1, 59, 1, 1, 3, 1, 1, 17, 1, 1, 1, 1, 4, 1, 5, 1, 1, 22, 4, 80, 54, 18, 67, 3, 1, 1, 1, 2, 17, 1, 30, 1, 17, 34, 52, 3, 27, 1, 48, 3, 1, 2, 1, 26, 19, 98, 47, 1, 1, 71, 1, 1, 1, 49, 19, 1, 1, 1, 4, 1, 5, 30, 8, 11, 1, 1], [1, 18, 13, 46, 7, 15, 1, 1, 1, 1, 1, 12, 94, 1, 1, 1, 9, 1, 22, 1, 46, 14, 17, 82, 23, 26, 27, 1, 18, 67, 29, 45], [4, 71, 1, 39, 18, 8, 11, 22, 51, 21, 31, 35, 12, 1, 1, 27, 33, 1, 1, 38, 1, 5, 18, 2, 67, 33, 1, 8, 11, 2, 1, 32, 1, 4], [1, 23, 42, 27, 1, 1, 1, 52, 1, 62, 25, 1, 26, 1, 1, 5, 1, 1, 6, 1], [1, 1, 1, 5, 8, 11, 20, 49, 1, 1, 1, 67, 1, 1, 1, 21, 23, 21, 1, 1, 13, 51, 46, 1, 55, 66, 8, 11, 5, 23, 1, 1, 1, 1, 55, 32, 46, 1, 1, 1, 8, 11], [70, 31, 35, 94, 1, 1, 1, 1, 37, 66, 9, 1, 30, 1, 50, 82], [23, 2, 27, 1, 1, 1, 1, 84, 1, 10, 1, 18, 1, 1, 37, 26, 1, 1, 46, 1, 18, 1, 1, 2, 52, 14, 2, 1, 84, 18, 2, 1, 10, 7, 1, 6, 68], [1, 40, 13, 39, 14, 8, 11, 1, 15, 86, 1, 1, 12, 1, 1, 9, 1, 37, 1, 1, 1, 3, 1, 1, 6, 1, 9, 1, 54, 14, 3, 9, 1, 46, 1], [1, 18, 42, 1, 1, 7, 1, 18, 12, 1, 1, 1, 1, 1, 3, 1, 1, 1, 1, 1, 1, 1, 1, 1, 1, 1, 1, 1, 42, 32, 1, 1, 1, 1, 17, 1], [1, 84, 18, 7, 1, 4, 15, 1, 56, 1, 1, 71, 21, 35, 30, 57, 19, 1], [72, 40, 54, 14, 1, 39, 1, 13, 1, 1, 1, 1, 1, 22, 38, 24, 39, 1, 1, 2, 1, 59, 1, 1, 2, 1, 1, 16, 2, 9, 4, 1, 6, 1, 67, 1, 13, 1, 1, 41, 2, 70, 1, 1, 1, 92, 1, 1, 1, 19, 61, 3, 1, 1, 3, 1, 1, 76, 1, 22, 9, 24, 1, 1, 1, 1, 1, 33, 13, 1, 1, 6, 46, 14, 1, 36, 1, 3, 9, 1, 58, 29, 1, 4, 1, 9, 1, 1, 33, 9, 1, 5, 1, 3, 9, 1, 1, 1, 77, 29, 1, 1, 3, 14, 1, 1, 58, 29, 1, 1, 1, 1, 18, 1, 1, 1, 65, 17, 1, 3, 1, 32, 10, 50, 1, 1, 2, 1, 1, 1, 78, 1], [28, 15, 1, 12, 94, 5, 8, 11, 19, 1, 1, 27, 1, 3, 62, 25, 1, 1, 1, 81, 75, 1, 1, 49, 20, 2, 1, 1, 1, 1, 9, 1, 1, 1, 30, 1, 34], [4, 38, 1, 39, 16, 1, 57, 27, 30, 42, 83, 1, 10, 1, 1, 6, 1, 19, 1, 93, 1, 1, 23, 57, 96, 27, 26, 61, 35], [1, 4, 17, 1, 5, 1, 65, 1, 5, 1, 1, 1, 4, 29, 70, 1, 42, 1, 1, 7, 1, 1, 4, 10, 1, 65, 42, 17, 1, 1, 1, 1, 4, 1, 3, 1, 1, 1], [72, 40, 54, 14, 1, 35, 16, 1, 28, 1, 1, 1, 1, 1, 1, 1, 1, 1, 90, 1, 27, 1, 16], [8, 11, 51, 1, 1, 1, 1, 1, 1, 1, 2, 1, 82, 15, 8, 11, 45, 1, 2, 1, 30, 2, 52, 2, 1, 1, 25, 28, 2, 1, 37, 1, 1, 26, 1, 1, 1, 2, 1, 3, 1, 25, 1, 1, 1, 1, 2, 1, 56, 5, 1, 3, 1, 1, 1, 1, 1, 1, 8, 11], [25, 1, 9, 1, 1, 14, 1, 1, 87, 3, 1, 17, 52, 1, 1, 1, 5, 65, 6, 1, 1, 1, 28, 15, 94, 1, 1, 10, 1, 66, 9, 1, 1, 22, 1, 1, 1, 1, 1], [7, 20, 74, 16, 1, 29, 12, 1, 15, 86, 1, 1, 1, 1, 1, 31, 1, 1, 3, 1, 15, 1, 1, 12, 94, 1, 1, 1, 31, 1, 1, 49, 1, 1, 1, 1, 1, 7, 1, 2, 80, 20, 1, 1, 1, 30, 1, 1, 1, 31, 26, 1, 1, 41, 10, 1, 1, 1, 20, 1, 25, 1, 53, 1, 1, 1, 1, 1, 9, 1, 1, 1, 48, 1, 1, 1, 1, 1, 9, 1, 1, 1, 1, 1, 1, 28, 74, 16, 51, 1, 22, 10, 1, 1, 1, 1, 1, 1, 1, 1, 4, 1, 1, 20, 17, 1, 6, 7, 1, 1, 1, 1, 15, 94, 1, 12, 1, 1, 1, 5, 1, 1, 1, 1, 1, 1, 53, 1, 1, 22, 1, 7, 44, 1, 26, 1, 1, 1, 43, 1, 1, 41, 10, 1, 22, 77, 4, 59, 41, 1, 2, 1, 1, 15, 1, 7, 1, 1, 9, 21, 43, 93, 1, 1, 1, 1, 21, 43, 1, 13, 1, 1], [40, 13, 10, 1, 89, 7, 20, 5, 1, 84, 18, 1, 20, 16, 1, 1, 1, 1, 2, 1, 7, 62, 25, 77, 1, 15, 1, 1, 1, 1, 1, 1, 30, 1, 1, 19, 1, 6, 46, 1, 19, 34, 20, 19, 1], [1, 6, 1, 12, 86, 1, 1, 7, 6, 1, 1, 1, 1, 3, 10, 1, 26, 1, 1, 1], [1, 1, 1, 40, 13, 1, 10, 89, 7, 20, 5, 16, 46, 1, 1, 12, 1, 1, 19, 1, 1, 1, 20, 1, 1, 1, 20, 7, 62, 25, 1, 1, 19, 30, 34, 1, 1, 19], [7, 16, 1, 1, 1, 4, 38, 19, 34, 1, 13, 1, 95, 5, 1, 1, 2, 1, 1, 18, 1, 1, 1, 19, 52, 46, 1, 1, 1, 14, 19, 1, 3, 1, 48, 3, 1, 1, 47, 1, 1, 84, 1, 2, 1, 1, 1, 1, 7, 1, 1, 1, 1, 33, 1, 1, 58, 1, 1, 91, 1, 1, 2, 1, 1, 1, 1, 16, 68, 38, 19, 34], [14, 2, 1, 17, 1, 3, 1, 1, 2, 1, 3, 1, 2, 1, 43, 36, 1, 6, 1, 5, 1, 1, 77, 1, 2, 1], [89, 54, 14, 8, 11, 19, 1, 1, 17, 1, 1, 62, 25, 23, 19, 1, 1, 1, 14, 17, 52, 3, 1, 1, 7, 2, 1, 1, 41, 1, 5, 1, 69, 1, 1, 14, 1, 1, 26, 1, 5, 17, 34, 91, 41, 9, 1, 1, 1, 1, 14, 1, 1, 1, 6, 46, 14, 1, 1, 1, 3, 1], [8, 11, 5, 97, 88, 57, 1, 17, 1, 1, 1, 1, 1, 15, 1, 1, 6, 14, 56, 41, 1, 1, 14], [8, 11, 1, 1, 1, 79, 60, 2, 17, 1, 1, 47, 1, 1, 40, 1, 79, 60, 10, 7, 1, 15, 94, 12, 1, 1, 1, 1, 3, 1, 1, 2, 1, 1, 1, 1, 13, 47, 8, 11, 2, 1, 1, 1, 1, 2, 80, 4, 1], [23, 2, 27, 1, 7, 2, 62, 25, 1, 1, 16, 48, 2, 6, 1, 6, 7, 26, 19, 1, 10, 7, 1, 19, 1, 49, 9, 1, 1, 14, 76, 1], [18, 27, 33, 1, 1, 1, 1, 54, 16, 12, 1, 1, 12, 1, 61, 1, 35, 15, 16, 49, 24, 28, 1, 96, 5, 23, 27, 1, 57, 26, 61, 99, 1, 1, 12, 1, 3, 1, 16, 1, 31, 27, 49, 99, 24, 28, 1, 3, 1, 1, 99, 1, 1, 1, 1, 1, 28, 1, 48, 57, 26, 61, 1, 49, 1, 1, 24, 1, 1, 1, 87, 78, 1, 1, 26, 52, 3, 34, 1, 2, 1, 99, 1, 1, 45, 1, 90, 1, 1, 44, 57, 6, 1, 44, 49, 99, 53, 1, 1, 1, 45, 99, 1, 1, 6, 1, 3, 53, 12, 1, 1, 44, 50, 3, 1, 90, 1, 1, 37, 1, 85, 49, 99, 1, 1, 1, 12, 1, 1, 89, 1, 1, 1], [1, 16, 13, 1, 1, 1, 1, 1, 1, 68, 2, 1, 1, 28, 5, 14, 5, 23, 27, 3, 1, 24, 1, 16, 1, 35, 1, 1, 1, 41, 5, 88, 1, 1, 24, 28, 12, 1, 1, 10, 1, 3, 1, 1, 1, 5, 1, 1, 67], [1, 1, 1, 1, 1, 1, 1, 17, 1, 1, 1, 4, 1, 1, 2, 1, 1, 12, 1, 1, 5, 1, 3, 27, 1, 1, 1], [38, 63, 1, 1, 13, 51, 1, 8, 11, 10, 1, 4, 4, 51, 1, 1, 2, 21, 56, 1, 1, 8, 11, 30, 1, 1, 21, 37, 51, 6, 1, 1, 1], [1, 4, 9, 1, 1, 1, 29, 1, 1, 1, 1, 1, 4, 2, 1, 1, 1, 94, 1, 1, 1, 1, 69, 1, 1, 45, 1, 4, 2, 9, 1, 1, 1, 1, 1, 1, 1, 1, 1, 4, 22, 9, 1, 3, 1, 1, 9, 1, 1, 56, 4, 1, 1, 31, 1, 4, 1, 1, 1, 8, 11, 1, 1, 1, 1, 1, 8, 11], [58, 7, 4, 1, 15, 86, 1, 14, 37, 1, 1, 21, 1, 1, 10, 23, 1, 16, 19, 1, 1, 97, 1, 1, 66, 10, 81, 75, 1, 1, 1, 1, 1, 64, 1, 41, 6, 1, 1, 1, 12, 1, 1, 1, 1, 1, 1, 1, 1, 1, 1, 16], [7, 1, 1, 1, 1, 1, 91, 24, 1, 1, 1, 6, 1, 3, 1, 1, 1, 1, 6, 63, 1, 1, 1, 7, 5, 1, 1, 5, 1, 58, 25, 1, 1, 3, 1, 50, 1, 2, 82, 1, 1, 75, 1, 1], [4, 1, 5, 1, 1, 14, 13, 1, 15, 68, 5, 1, 1, 1, 17, 1, 1, 1, 6, 1, 1], [50, 2, 4, 1, 29, 45, 59, 1, 1, 29, 45, 20, 1, 46, 1, 50, 1, 3, 53, 1, 6, 1, 1, 1, 14, 1, 62, 25, 95, 73, 3, 6, 46, 20, 1, 1, 1, 1, 2, 38, 6, 1, 1, 1, 1, 50, 4, 39, 8, 11, 1, 36, 82, 22, 1, 1, 1, 1, 46, 7, 2, 51, 1, 1, 10, 1, 12, 1, 3, 1, 2, 1, 80, 4, 1], [16, 1, 4, 50, 12, 81, 81, 1, 2, 4, 1, 5, 1, 35, 57, 1, 1, 24, 28, 12, 1, 1, 1, 5, 97, 1, 1, 1, 1, 1, 61, 93, 1, 28, 5, 16, 3, 87, 2, 52, 1, 1, 1, 1, 35, 35, 15, 8, 11, 3, 1, 1, 78, 1, 1, 2, 1, 1], [1, 1, 1, 1, 4, 1, 1, 13, 1, 1, 55, 2, 1, 1, 3, 32, 61, 35, 3, 1, 1, 1, 36, 1, 1, 1, 2, 80, 4, 1, 1, 1, 1, 1, 3, 32, 1, 1, 26, 52, 91, 7, 9, 1, 1, 1, 1], [30, 2, 1, 8, 11, 17, 1, 1, 5, 23, 42, 17, 98, 4, 51, 1, 1, 10, 39, 8, 11, 1, 1, 34, 1, 3, 1], [72, 40, 1, 5, 18, 16, 1, 1, 1, 83, 5, 23, 36, 27, 1, 18, 2, 1, 4, 1, 10, 1, 1, 77, 4, 2, 53, 71, 1, 1, 1, 81, 1, 5, 81, 1, 23, 31, 2, 36, 27, 93, 1, 1, 1, 2, 83, 1, 1, 1, 2, 17, 1, 1, 82, 1, 59, 73, 28, 2, 17, 95, 5, 44, 1, 4, 91, 9, 1, 1, 78, 1, 44, 1, 10, 1, 78, 1, 64, 12, 81, 1], [1, 1, 1, 2, 4, 1, 4, 51, 1, 39, 18, 13, 1, 2, 1, 1, 4, 23, 31, 2, 98, 1, 9, 1, 1, 1, 8, 11, 1, 10, 1, 1, 2, 34, 8, 11, 1, 1, 5, 30, 2, 1, 69, 7, 3, 26, 1, 1, 4, 17, 1, 5, 1, 2, 1, 1, 1, 18, 5, 1, 1, 13, 81, 75, 2, 32, 1, 1, 2, 10, 4, 1, 1, 1, 93, 1, 36, 34, 15, 18, 1, 8, 1, 2, 1, 3, 1, 26, 1, 25, 7, 1, 1, 4, 1, 37, 1, 3, 45, 1, 2, 17, 1, 10, 4, 3, 26, 1, 1, 1, 1, 18, 13, 1, 1, 2, 1, 1, 7, 1], [9, 21, 37, 10, 7, 1, 13, 1, 1, 1, 1, 10, 18, 13, 1, 1, 1, 2, 5, 1, 1, 1, 1, 41, 5, 34, 1, 4, 1, 1, 1, 10, 1, 22, 1, 13, 9, 1, 10, 41, 6, 1, 1, 1, 2, 1, 26, 1, 1, 2, 1, 28, 5, 18, 16], [1, 1, 18, 8, 11, 1, 37, 85, 6, 86, 1, 1, 1, 33, 70, 1, 1, 46, 1, 1, 1, 1, 10, 65, 1, 1, 1, 1, 30, 1, 1, 1, 35, 57, 61, 1, 1, 80, 1, 45, 1], [39, 18, 13, 1, 82, 72, 22, 1, 62, 25, 6, 1, 1, 25, 1, 15, 1, 1, 1, 1, 1, 1, 1, 22, 1, 14, 1, 26, 1, 3, 22, 1, 1, 6, 1, 1, 70, 1, 1, 1, 1, 1, 10, 1, 1, 1, 14, 26, 19, 1, 1, 1, 6, 1, 7, 1, 1, 1, 33, 1, 1, 1, 1, 1], [7, 1, 12, 1, 1, 5, 30, 2, 32, 1, 52, 3, 1, 28, 1, 1, 10, 1], [1, 12, 1, 8, 5, 1, 14, 16, 68, 13, 1, 89, 42, 1, 5, 1, 14, 1, 41, 1, 1, 1, 1, 36, 1, 1, 64, 5, 61, 57, 1, 1, 2, 53, 6, 1, 12, 43, 22, 81, 1, 6, 46, 14, 38, 9, 1, 1, 15, 25, 1, 14, 42, 38, 1, 15, 73, 1, 64, 1, 77, 1, 25, 28, 96, 1, 1, 1, 36, 85, 1, 1, 1, 3, 1, 1, 7, 42, 1, 1, 38, 1, 1, 45, 1, 1, 1, 1, 1, 42, 1], [10, 97, 1, 1, 8, 11, 1, 1, 1, 10, 7, 1, 1, 71, 1, 35, 3, 21, 1, 1, 1, 1, 24, 6, 1, 10, 31, 14, 5, 47, 1, 1, 1, 1, 8, 11, 26, 1, 37, 1, 1, 3, 1, 1], [8, 11, 59, 1, 84, 18, 1, 4, 2, 72, 49, 1, 1, 22, 1, 1, 2, 1, 59, 1, 1, 1, 4, 17, 32, 5, 79, 60, 2, 24, 1, 15, 1, 5, 1, 1, 1, 6, 1, 1, 6, 86, 96, 55, 1, 1, 26, 1, 1, 5, 37, 29, 28, 96, 1, 82, 1, 1, 1, 5, 14, 2, 1, 4, 36, 34, 1, 18, 67, 2, 71, 37, 45], [4, 1, 74, 1, 1, 4, 1, 22, 20, 1, 1, 1, 15, 8, 11, 1, 1, 20, 6, 1, 1, 60, 5, 1, 61, 1, 20, 1, 1, 1, 1, 45, 20, 74, 41, 67, 1, 10, 1, 1, 43, 21, 1, 1, 2, 53, 20, 1, 5, 1, 2, 1, 1, 20, 63, 40, 1, 1, 2, 1, 1, 66, 70, 1, 7, 2, 20, 1, 19, 1, 1, 1, 1, 48], [8, 11, 38, 49, 1, 10, 1, 1, 12, 1, 68, 3, 12, 1, 51, 1, 18, 13, 19, 70, 1, 9, 80, 1, 37, 69, 39, 1, 80, 1, 1, 69, 13], [1, 7, 17, 82, 1, 10, 1, 36, 1, 10, 1, 43, 78, 65, 1, 1, 95, 2, 1], [99, 72, 40, 54, 18, 8, 11, 58, 1, 1, 28, 15, 1, 12, 1, 1, 1, 31, 1, 1, 1, 45, 1, 7, 1, 3, 1, 8, 11, 1, 29, 13, 59, 18, 2, 1, 71, 99, 1, 10, 1, 1, 22, 23, 1, 17, 98, 3, 17, 1, 10, 1, 1], [7, 8, 11, 36, 1, 10, 1, 1, 22, 1, 1, 1, 2, 1, 66, 10, 1, 1, 17, 1, 22, 1, 2, 27], [1, 1, 1, 14, 88, 67, 6, 68, 29, 1, 1, 21, 1, 1, 33, 1, 1, 2, 1, 1, 56, 1, 10, 1, 19, 1], [1, 16, 7, 12, 1, 1, 6, 1, 1, 5, 34, 1, 1, 3, 1, 1, 25, 1, 94, 5, 1, 20, 1, 1, 1, 1, 1, 14, 1, 1, 1, 1, 1, 1, 1, 14, 5, 1, 1, 1, 1, 1, 1, 1, 3, 1, 63, 40, 1, 1, 2, 1, 1, 20, 1, 31, 58, 44, 7, 1, 1, 1, 16], [58, 1, 1, 1, 4, 1, 3, 1, 20, 42, 1, 1, 1, 50, 12, 1, 13, 50, 72, 20, 39, 8, 11, 22, 1, 20, 12, 1, 49, 14, 42, 20, 1, 59, 8, 11, 1, 5, 1, 1, 1, 1, 1, 42, 1, 8, 11, 68, 1, 14, 83, 1, 1, 3, 1, 1, 19, 32, 1, 20, 1, 3, 48, 2, 1, 96, 17, 1, 1, 1, 36, 1, 15, 1, 1, 1, 42, 38, 63, 40, 20, 1, 96, 19, 83, 52, 5, 23, 42, 98, 1, 8, 11, 68, 20, 9, 1, 1, 26, 1, 13, 1, 1, 1, 20, 76, 1], [1, 4, 90, 1, 1, 1, 1, 15, 89, 4, 28, 74, 16, 49, 25, 45, 1, 4, 90, 1, 12, 1, 22, 1, 1, 1, 1, 1, 1, 1, 22, 14, 2, 12, 1, 47, 1, 3, 1, 1, 2, 1, 1, 49, 4, 3, 1, 84, 1, 1, 1, 10, 1, 7, 16, 5, 1, 1, 3, 1, 1, 2, 98, 1, 30, 2, 1, 26, 1, 34, 1, 78, 1, 1, 29, 1, 26, 17, 32, 3, 17, 1, 22, 4, 1, 6, 1, 1, 49, 1, 1, 1, 1, 70, 48, 29, 28, 33, 1, 1, 2, 90, 1, 1, 29, 6, 14, 26, 24, 1, 1, 1, 1, 87, 2, 1, 1, 1, 1, 45, 1, 2, 24, 4, 1, 1, 89, 28, 1, 16, 1, 1, 1, 1, 1], [4, 71, 1, 39, 18, 8, 11, 22, 51, 21, 31, 35, 12, 1, 1, 27, 33, 1, 1, 38, 1, 5, 18, 2, 67, 33, 1, 8, 11, 2, 1, 32, 1, 4], [20, 1, 1, 1, 1, 63, 1, 1, 1, 1, 73, 1, 1, 18, 15, 73, 1, 1, 1, 1, 1, 20, 1, 1, 22, 20, 38, 1, 73, 1, 1, 20, 53, 1, 1, 73, 1, 20, 33, 1, 45, 1, 22, 1, 79, 60, 1, 73, 7, 2, 1, 9, 21, 37, 3, 20, 1, 62, 25, 6, 1], [1, 7, 18, 8, 11, 6, 1, 1, 1, 1, 6, 1, 1, 4, 1, 1, 1, 6, 1, 1, 3, 17, 1, 1, 1, 1, 1, 7, 18, 8, 11, 1, 6, 1, 1, 1, 1, 37, 92, 9, 4, 38, 1, 14], [10, 1, 1, 1, 1, 1, 1, 1, 1, 22, 1, 2, 1, 36, 27, 15, 18, 1, 1, 35, 2, 6, 1, 1, 26, 1, 1, 1, 1, 1, 1, 1, 1, 1, 1, 1, 34, 3, 51, 34, 1, 3, 51, 1, 1, 26, 49, 1, 76, 1, 1, 1, 1, 1], [1, 5, 18, 13, 59, 2, 1, 33, 10, 29, 13, 38, 9, 1, 3, 1, 62, 1, 2, 24, 1, 1, 1, 1, 1, 26, 1, 10, 1, 28, 1, 1, 16, 24, 1, 1, 22, 1, 1, 15, 1, 79, 60, 2, 1, 1, 1, 1, 1, 24, 1, 1, 1, 1, 1, 1, 1, 16], [15, 1, 1, 90, 12, 1, 9, 1, 12, 94, 1, 24, 1, 12, 1, 1, 1, 12, 1, 47, 1, 1, 1, 1, 49, 1, 1, 31, 1, 1, 25, 1, 1, 1, 1, 44, 2, 1, 10, 1, 6, 1, 1, 22, 1, 31, 1, 55, 53, 1, 1, 6, 1, 1, 1, 43, 1, 1, 60, 64, 10, 7, 12, 1, 1, 1, 1, 33, 1, 1, 1, 1, 1, 53, 12, 94, 1, 36, 1, 26, 1, 1, 1, 90, 1, 1, 54, 7, 67, 1, 1, 48, 10, 1, 6, 14, 1, 29, 1, 31, 1, 1, 10, 31, 1, 1, 1, 1, 36, 10, 1, 6, 29, 1, 6, 1], [38, 17, 71, 20, 39, 16, 10, 1, 1, 5, 1, 1, 20, 1, 10, 40, 13, 1, 1, 1, 7, 1, 19, 32, 30, 19, 34, 1, 1, 19, 95, 5, 1, 18, 2, 1, 1, 20, 26, 1, 19, 61, 1, 10, 1, 89, 28, 20, 74, 16, 68, 1], [1, 12, 1, 1, 1, 1, 5, 8, 11, 23, 17, 27, 5, 30, 2, 17, 34, 1, 1, 1, 1, 1], [4, 19, 71, 1, 18, 13, 22, 1, 3, 1, 46, 1, 24, 1, 48, 1, 92, 90, 24, 26, 1, 1, 1, 92, 1, 1, 81, 75, 1, 78, 9, 1, 1, 1, 9, 1, 1, 1, 45, 4, 1, 22, 24, 1, 12, 94, 46, 1, 1, 1, 1, 1, 4, 1, 7, 72, 78, 2, 1, 44, 1, 6, 1, 1, 1, 1, 1, 78, 1, 1, 1, 1, 1, 1, 1, 56, 94, 38, 1, 3, 1, 12, 1, 77, 1, 1, 1, 4, 1, 1, 1, 36, 22, 25, 50, 2, 1, 1, 23, 98, 49, 1, 4, 36, 15, 19], [7, 2, 1, 33, 1, 22, 1, 1, 1, 1, 1, 1, 5, 30, 2, 1], [4, 71, 1, 39, 18, 8, 11, 22, 51, 21, 31, 35, 12, 1, 1, 27, 33, 1, 1, 38, 1, 5, 18, 2, 67, 33, 1, 8, 11, 2, 1, 32, 1, 4], [1, 4, 37, 44, 33, 38, 1, 1, 1, 49, 1, 1, 1, 6, 86, 1, 29, 79, 60, 3, 1, 1, 1, 17, 1, 1, 25, 4, 1, 1, 1, 1, 28, 5, 16, 1, 1], [38, 71, 28, 74, 16, 69, 13, 1, 1, 34, 1, 21, 1, 2, 1, 30, 3, 1, 95, 5, 23, 22, 55, 53, 1, 13, 7, 5, 23, 1, 83], [50, 15, 94, 12, 1, 1, 1, 17, 82, 22, 70, 31, 27, 3, 9, 37], [14, 2, 1, 3, 30, 2, 17, 1, 1, 1, 1, 1, 2, 90, 1, 1, 1], [5, 1, 1, 1, 1, 1, 17, 1, 10, 1, 2, 1, 1, 1, 1, 5, 23, 31, 14, 2, 27, 3, 1, 1, 1, 1, 17, 1, 1, 1], [17, 82, 1, 1, 3, 25, 45, 70, 23, 35, 1, 1, 1, 1, 43, 1, 1, 1, 1, 1, 22, 1, 1, 1, 1, 1, 57, 1, 1, 24, 1, 1, 36, 61, 1], [50, 4, 1, 74, 1, 1, 6, 1, 1, 3, 45, 1, 1, 4, 1, 1, 1, 1, 31, 1, 1, 1, 58, 29, 45, 1, 1, 1, 1, 2, 72, 4, 1, 59, 1, 2, 1, 1, 21, 84, 1, 2, 49, 1, 4, 1, 40, 1, 1, 1, 4, 10, 48, 4, 47, 1, 1, 1, 22, 58, 29, 45, 4, 1, 1, 1, 93, 1, 30, 1], [16, 51, 49, 1, 4, 10, 24, 1, 1, 28, 12, 1, 1, 1, 1, 12, 1, 1, 1, 4], [14, 97, 1, 5, 30, 42, 1, 1, 3, 42, 1, 1, 1, 1, 8, 11, 10, 28], [7, 4, 1, 1, 66, 58, 29, 4, 1, 1, 1, 1, 10, 1, 62, 58, 29, 45, 4, 1, 1, 1, 1, 7, 6, 37, 3, 1, 1, 1, 1, 1, 1, 21, 1, 15, 16, 2, 1, 1, 73, 7, 2, 1, 4, 1, 1, 21, 73, 67, 1, 1, 47, 21, 7, 2, 1, 90, 9, 90, 4, 1, 3, 1, 2, 1, 22, 1, 1, 1, 2, 1, 1, 1, 16, 34, 1, 1, 3, 1, 17, 4, 1, 66, 4, 9, 1, 5, 37, 13, 22, 4, 38, 1, 1, 6, 1, 1, 1, 1, 3, 4, 1, 9, 1, 1, 16, 76, 37, 4, 1, 1, 61, 1, 1, 16, 59, 7, 1, 66, 92, 1, 1, 5, 1, 37, 1, 76, 1, 3, 1, 1, 1, 58, 1], [1, 61, 31, 35, 2, 17, 1, 3, 56, 58, 1, 1, 31, 1, 2, 27, 1, 1, 77, 58, 16, 1, 33, 1, 1, 1], [77, 1, 16, 59, 88, 8, 1, 4, 1, 24, 70, 35, 1, 23, 27, 12, 1, 1], [10, 72, 1, 54, 16, 1, 1, 1, 1, 33, 32, 1, 1, 54, 14, 1, 90, 1, 1, 1, 1, 1, 1, 33, 1, 1, 28, 74, 16, 1, 1, 1, 1, 1, 1, 1, 1, 54, 14, 42, 1, 1, 24, 1, 1, 1, 1, 1, 1, 94, 1, 24, 1, 5, 1, 1, 81, 1, 26, 83, 1, 1, 1, 5, 42, 1, 61, 1, 3, 1, 1, 1, 1, 1, 1, 16, 1, 1, 89, 28, 72, 74, 16, 49, 82], [4, 38, 63, 40, 39, 18, 8, 11, 3, 1, 4, 39, 18, 13, 1, 82, 23, 2, 27, 66, 1, 19, 34, 10, 23, 1, 9, 71, 37, 66, 1, 90, 54, 14, 13, 53, 71, 1, 23, 35, 1, 24, 1, 5, 23, 31, 2, 27, 2, 1, 1, 9, 24, 1, 6, 18, 1, 2, 1], [1, 1, 6, 1, 3, 2, 1, 1, 62, 25, 3, 1, 1, 1, 1, 49, 1, 1], [16, 1, 1, 84, 1, 7, 2, 27, 3, 1, 58, 29, 4, 28, 63, 40, 51, 1, 1, 3, 9, 1, 26, 1, 3, 30, 87, 2, 52], [4, 38, 71, 39, 16, 10, 50, 1, 74, 16, 1, 82, 22, 1, 59, 18, 1, 93, 1, 1, 1, 1, 1, 1, 1, 1, 16, 76, 36, 71, 74, 1, 10, 1], [13, 72, 1, 54, 16, 45, 26, 22, 1, 1, 1, 1, 1, 1, 1, 1, 1, 9, 37, 30, 19, 34, 1, 4, 1, 19, 34, 22, 47, 21, 63, 1, 1, 2, 4, 1, 1, 52, 33, 1, 1, 16, 83], [1, 12, 94, 1, 25, 44, 3, 85, 1, 1, 39, 1, 1, 1, 1, 43, 26, 58, 29, 6, 86, 1, 7, 17, 32, 1, 1, 17, 27, 1], [4, 3, 1, 1, 8, 11, 22, 35, 7, 2, 19, 27, 3, 1, 15, 1, 1, 12, 1, 66, 21, 1, 1, 4, 1, 1, 1, 1, 1, 1, 44, 28, 1, 1, 49, 1, 1, 4, 3, 1, 9, 1, 10, 44, 28, 2, 38, 6, 1, 66, 56, 6, 86, 21, 37, 64, 1, 56, 6, 1, 38, 1, 1, 13, 9, 1, 64], [1, 31, 35, 12, 1, 1, 27, 5, 1, 77, 1, 1, 58, 1, 1, 1, 1, 1, 2, 1, 32, 29, 1, 1, 3, 1, 17, 1, 1, 16, 1, 1, 1, 1, 1], [10, 1, 1, 8, 11, 1, 1, 1, 1, 1, 1, 1, 1, 1, 5, 1, 1, 3, 53, 1, 1, 92, 1, 46, 1, 1, 29, 1, 1, 1, 55, 53, 1, 1, 1, 1, 1, 1, 42, 1, 20, 29, 20, 21, 1, 1, 1, 1, 1, 1, 8, 11, 1, 1, 1, 15, 1, 41, 42, 1, 1, 1], [1, 1, 1, 20, 63, 1, 1, 50, 1, 15, 1, 12, 1, 6, 1, 1, 20, 1, 1, 1, 1, 1, 7, 1, 21, 1, 62, 25, 49, 25, 1, 6, 1, 1, 1, 1, 1], [1, 27, 1, 1, 1, 1, 25, 2, 34, 1, 69, 54, 1, 80, 1, 1, 16, 1, 1, 1, 1], [4, 80, 63, 40, 1, 18, 13, 5, 44, 1, 2, 1, 69, 50, 1, 2, 1, 34, 1, 21, 1, 29, 90, 1, 1, 1, 1, 10, 1, 85, 6, 1, 22, 21, 18, 67, 2, 26, 90, 1, 26], [1, 23, 98, 30, 8, 11, 1, 1, 62, 25, 10, 1, 15, 3, 12, 1, 1, 1, 1, 1], [1, 1, 1, 18, 1, 1, 8, 11, 1, 1, 2, 1, 15, 1, 30, 3, 1, 25], [4, 1, 5, 18, 13, 22, 30, 2, 34, 92, 1, 37, 4, 1, 6, 1, 34, 1, 1, 3, 1, 4, 26, 70, 1, 7, 1, 1, 3, 1, 73, 1, 12, 25, 2, 62, 6, 1, 1, 3, 4, 17, 1, 91, 4, 1, 1, 1, 1, 1, 15, 1, 4], [7, 13, 62, 25, 1, 1, 14, 26, 17, 1, 3, 52, 4, 1, 48, 1, 14, 48, 1, 46, 1, 1, 1], [7, 2, 1, 32, 3, 1, 10, 1, 7, 97, 1, 1, 4, 28, 5, 31, 1, 2, 1, 8, 11, 84, 1, 2, 1, 1, 1, 1, 1, 1, 10, 24, 28, 12, 1, 2, 67, 1, 1, 1, 1, 1, 1, 11, 1, 1, 1, 1, 1, 1, 1, 1], [4, 1, 28, 5, 16, 22, 47, 18, 13, 2, 28, 1, 15, 1, 12, 1, 30, 19, 83, 3, 30, 87, 26, 19, 83, 2, 9, 4, 1, 59, 1, 1, 1, 1, 41, 58, 29, 1, 3, 1, 1, 1, 1, 3, 1, 1, 1, 49, 9, 32, 43, 1, 12, 1, 17, 61, 49, 53, 1, 1, 12, 14, 1, 41, 67, 1, 81, 43, 55], [72, 40, 39, 7, 5, 1, 1, 5, 34, 1, 5, 23, 35, 42, 17, 1, 4, 1, 1, 5, 1, 27, 33, 21, 1, 37, 1, 85, 36], [1, 92, 1, 1, 1, 1, 1, 4, 51, 1, 23, 1, 15, 2, 1, 16, 68, 1, 1, 84, 18, 1, 4, 5, 23, 27, 1, 1, 7, 1, 38, 1, 5, 1, 43, 1, 10, 1, 1, 1, 1, 4, 26, 39, 18, 13, 5, 23, 1, 1, 22, 1, 1, 1, 1, 1, 5, 18, 67], [95, 5, 1, 57, 1, 1, 1, 1, 1, 18, 13, 49, 1, 84, 1, 1, 1, 2, 1, 1, 1, 12, 1, 1, 1, 1, 5, 1, 2, 9, 1, 23, 1, 1, 1, 51, 36, 27, 66, 1, 1, 1, 1, 2, 76, 55, 1, 1, 9, 21, 1, 1, 43, 9, 21, 1, 1, 3, 9, 21, 1, 1, 69, 50, 66, 1, 1, 30, 2, 1, 1, 19, 34, 10, 1, 1, 1, 1, 84, 1, 1, 60, 1, 1, 1, 1, 69, 63, 1, 1, 1], [16, 1, 9, 1, 1, 1, 43, 2, 1, 91, 1, 1, 1, 43, 3, 1, 1, 36, 27, 3, 1, 1, 2, 1, 43, 1, 24, 1, 1, 1], [4, 1, 5, 1, 1, 14, 13, 1, 15, 68, 5, 1, 1, 1, 17, 1, 1, 1, 6, 1, 1], [63, 40, 28, 1, 18, 13, 1, 17, 82, 1, 34, 73, 1, 1, 1, 1, 80, 1, 1, 99, 1, 1, 1, 1, 1, 1, 1, 1, 3, 1, 1, 1, 3, 1, 1, 64, 55, 24, 1, 31, 1, 1, 1, 1, 1, 1], [46, 50, 4, 1, 51, 39, 8, 11, 1, 1, 36, 27, 1, 69, 13, 9, 1, 1, 1, 1, 1, 1, 1, 1, 50, 4, 47, 1, 15, 1, 1, 7, 4, 1, 37, 39, 18, 67, 1, 36, 71, 37, 2, 1, 1, 1, 1, 1, 22, 18, 27, 61, 1, 2, 1, 1, 1, 92, 7, 15, 1, 1, 17, 1, 9, 1, 1, 1, 1], [1, 15, 1, 1, 1, 17, 82, 1, 16, 17, 1, 46, 1, 79, 60, 3, 1, 43, 48, 2, 1, 19, 1, 3, 1, 1, 6, 1, 1, 1, 1, 1, 6, 1, 17, 1, 5, 1, 2, 1, 16, 22, 7, 2, 1, 1], [22, 16, 61, 1, 35, 1, 49, 1, 1, 1, 1, 22, 1, 13, 1, 1, 21, 1, 1, 1, 1, 31, 1, 1, 22, 64, 35, 49, 19, 98, 1, 1, 1, 1, 88, 49, 24, 1, 1, 36, 61, 1, 1, 1, 35, 1, 1, 1, 1, 1, 57, 1, 1, 1, 24, 1, 1, 5, 23, 27, 1, 19, 34, 1, 1, 48, 57, 26, 19, 1, 99, 1, 1, 1, 1, 1, 1, 1, 21, 6, 1, 1, 1, 1, 3, 19, 1, 1], [13, 1, 10, 7, 20, 1, 15, 1, 1, 6, 1, 1, 5, 16, 1, 1, 1, 2, 1, 20, 1, 1, 1, 40, 13, 1, 1, 1, 1, 1, 5, 1, 20, 2, 1, 10, 89, 28, 5, 18, 16, 7, 20, 29, 45, 19, 32, 30, 6, 1, 1, 19, 34, 23, 19, 1, 93, 4, 1, 1, 1, 1, 1, 1, 1, 4, 10, 7, 1, 23, 31, 16, 1, 1, 1, 43, 49, 1, 53, 1, 43, 64, 2, 1, 5, 1, 5, 1, 1, 1, 66, 1, 1, 5, 43, 1, 10, 7, 1, 93, 6, 84, 1, 1, 20, 1, 13, 19, 1, 22, 24, 55, 1, 43, 95, 5, 1, 55, 20, 26, 1, 1, 1, 1, 15, 29, 20, 6, 1, 56, 6, 46, 1, 14, 3, 1, 15, 1, 29, 7, 10, 1, 89, 7, 20, 40, 13, 5, 16, 18, 2, 19, 20, 1], [28, 74, 8, 11, 59, 1, 4, 1, 1, 2, 34, 3, 30, 2, 17, 52, 69, 1, 1, 74, 8, 11, 1, 1, 80, 1, 1, 1, 37, 8, 11, 26, 1, 1, 48, 77, 1, 1, 10, 41, 2, 1, 1, 1, 10, 1, 1, 1, 48, 6, 8, 11, 59, 62, 3, 17, 1, 1, 8, 11], [14, 2, 17, 32, 3, 1, 83, 48, 2, 1, 6, 1, 26, 1, 1, 6, 46, 14, 26, 1, 3, 21, 1, 1, 1], [7, 62, 25, 79, 60, 57, 1, 1, 1, 43, 1, 1, 1, 52, 1, 26, 95, 5, 7, 12, 1, 24, 1, 1, 49, 1, 1, 69, 50, 1, 1, 90, 54, 12, 14, 1, 1, 1, 1, 6, 1, 1, 1, 2, 1, 54, 1, 1, 1], [15, 1, 1, 37, 69, 44, 1, 1, 56, 12, 94, 1, 1, 1, 54, 1, 1, 1, 54, 1, 1, 1, 15, 1, 1, 1, 12, 1, 96, 37, 1, 28, 44, 1, 33, 1, 1, 1, 1, 1, 37, 1, 1, 1, 1, 1, 1, 1, 37, 1, 1, 1, 1, 1, 3, 88, 1, 96, 1], [28, 1, 3, 27, 93, 9, 1, 73, 2, 4, 1, 96, 51, 62, 25, 1, 8, 11], [8, 11, 59, 18, 1, 2, 17, 1, 5, 1, 1, 8, 11, 71, 35, 1, 1, 1, 1, 1, 24, 1, 1, 3, 1, 24, 1, 43, 1, 1, 1, 26, 1], [14, 1, 1, 1, 6, 1, 13, 1, 1, 37, 1, 22, 1, 42, 1, 1, 9, 1, 10, 54, 16, 1, 1, 37, 1, 22, 1, 1], [63, 1, 1, 1, 1, 1, 8, 6, 1, 4, 54, 14, 16, 15, 94, 1, 1, 1, 1, 1, 14, 1, 1, 3, 1, 1, 1, 77, 1, 4, 1, 1, 1, 7, 1, 1, 21, 1, 1, 2, 1, 22, 1, 63, 1, 2, 1, 1, 1, 1, 14, 1, 8, 6, 1, 1, 1, 4, 1, 1, 1, 14, 2, 4, 1, 38, 24, 56, 6, 1, 5, 1, 1, 4, 1, 1, 1, 7, 1, 1, 3, 14, 24, 1, 5, 34, 6, 86, 1, 29, 1, 12, 94, 4, 1, 54, 14, 1, 1, 1, 1, 29, 1, 1, 93, 1, 1, 55, 14, 38, 56, 6, 1, 5, 34, 66, 29, 14, 76, 1, 6, 86, 1, 1, 1, 1, 1, 1, 6, 1, 86, 1, 14, 1, 1, 15, 1, 10, 1, 1, 69, 1, 85, 1, 1, 1, 1, 1, 22, 1, 6, 46, 14, 2, 1, 47, 21, 1, 1, 1, 1, 2, 1, 1, 9, 56, 85, 1, 1, 38, 1, 1, 15, 1, 1, 14, 38, 24, 1, 1, 1, 14, 24, 1, 5, 1, 6, 86, 50, 1], [89, 4, 54, 8, 11, 58, 12, 1, 1, 1, 17, 83, 3, 10, 7, 1, 9, 1, 1, 1, 44, 1, 6, 1, 17, 83, 3, 23, 98], [20, 1, 28, 15, 1, 12, 1, 5, 1, 1, 30, 15, 79, 60, 56, 7, 12, 1, 1, 1, 1], [9, 21, 1, 5, 18, 13, 34, 1, 1, 1, 14, 48, 2, 1, 3, 26, 43, 47, 53, 1, 5, 1, 25, 1, 53, 1, 5, 1, 1, 1, 1, 18, 58, 1, 1, 46, 7, 15, 1, 12, 1, 1, 4, 1, 1, 7, 1, 73, 28, 1, 1, 5, 1, 9, 1, 1, 56, 94, 91, 1, 25, 1, 2, 19, 76, 93, 7, 63, 40, 1, 37, 1, 1, 1, 91, 1, 28, 1, 1, 1, 1, 36, 1, 15, 7, 2, 1, 28, 1, 49, 92, 1, 73, 2, 1, 1, 1, 73, 7, 2, 36, 1], [4, 28, 5, 14, 7, 1, 19, 1, 1, 4, 70, 31, 27, 1, 15, 1, 1, 6, 46, 1, 14, 19, 1, 22, 1, 33, 2, 9, 4, 1, 81, 75, 1, 3, 65, 47, 24, 1, 1, 12, 1, 1, 26, 1, 1, 7, 97, 1], [72, 1, 1, 7, 6, 1, 44, 36, 1, 1, 1, 90, 1, 6, 1, 64, 15, 44, 12, 44, 45, 26, 1, 1, 44, 1, 70, 1, 1, 1, 21, 1, 90, 1, 78, 1, 1, 1, 33, 1, 1, 1, 1, 1, 1, 1, 8, 11, 1, 71, 37, 3, 1, 73, 1, 1], [1, 1, 1, 1, 1, 1, 1, 1, 1, 1, 18, 1, 51, 1, 1, 1, 16, 1, 1, 27, 32, 3, 30, 42, 1, 1, 1], [10, 1, 1, 30, 57, 19, 34, 5, 1, 1, 79, 60, 1, 3, 1, 42, 6, 1, 1, 45, 1, 1, 26, 1, 3, 32, 58, 29, 1, 1, 3, 1, 57, 1, 1, 3, 10, 1, 1, 1, 1, 48, 10, 1, 1, 6, 1, 26, 1, 57, 1, 40, 54, 8, 11, 1, 1, 48, 6, 1, 1, 1, 45, 1], [4, 51, 39, 8, 11, 22, 1, 61, 1, 26, 61, 1, 1, 1, 1, 1, 3, 1, 1, 1, 49, 1, 1, 10, 50, 2, 36, 15, 44], [95, 5, 1, 8, 11, 1, 1, 1, 1, 1, 7, 12, 1, 1, 1, 49, 1, 1, 1, 1, 1, 1, 99, 1, 1, 74, 1, 39, 8, 11, 15, 1, 12, 1, 20, 1, 23, 31, 1, 1, 1, 1, 1, 3, 1, 1, 43, 1, 10, 7, 1, 12, 1, 19, 1, 1, 20, 8, 11, 1, 7, 1, 1, 49, 47, 1, 65, 1, 48, 53, 1, 43, 42, 1, 47, 1, 1, 1, 92, 90, 1, 53, 1, 64], [7, 32, 1, 34, 3, 52, 9, 37, 1, 1, 1, 63, 40, 1, 14, 13, 1, 47, 1, 23, 19, 1, 9, 97, 1, 64], [54, 16, 1, 1, 1, 1, 1, 54, 1, 42, 47, 1, 1, 1, 1, 1, 15, 84, 81, 12, 1, 67, 1, 1, 98, 1, 24, 1, 27, 1, 1, 1, 1, 35, 33, 1, 45, 1, 1, 57, 1, 1, 22, 1, 1, 1, 1, 1, 1, 1, 68, 33, 1, 45, 89, 1, 4, 1, 54, 16, 1, 1]]\n"
     ]
    }
   ],
   "source": [
    "train_seqs = tokenizer.texts_to_sequences(trainX)\n",
    "val_seqs = tokenizer.texts_to_sequences(valX)\n",
    "test_seqs = tokenizer.texts_to_sequences(testX)\n",
    "\n",
    "print(train_seqs)"
   ]
  },
  {
   "cell_type": "code",
   "execution_count": 92,
   "metadata": {},
   "outputs": [
    {
     "name": "stdout",
     "output_type": "stream",
     "text": [
      "penerbangan yang cukup nyaman dengan tarif low fare namun jika ada tambahan bagasi mendadak kena charge cukup mahal air asia juga tergolong on schedule dan makanan on boardnyaa enak\n",
      "[7, 2, 19, 32, 5, 1, 97, 1, 66, 92, 21, 1, 43, 1, 1, 1, 19, 1, 8, 11, 26, 1, 1, 1, 3, 48, 1, 1, 1]\n"
     ]
    }
   ],
   "source": [
    "print(trainX[10])\n",
    "print(train_seqs[10])"
   ]
  },
  {
   "cell_type": "code",
   "execution_count": 93,
   "metadata": {},
   "outputs": [
    {
     "name": "stdout",
     "output_type": "stream",
     "text": [
      "minimum number of words: 13\n",
      "median number of words: 39.0\n",
      "average number of words: 53.791231732776616\n",
      "maximum number of words: 1390\n"
     ]
    }
   ],
   "source": [
    "from tensorflow.keras.preprocessing.sequence import pad_sequences\n",
    "\n",
    "l = [len(i) for i in train_seqs]\n",
    "l = np.array(l)\n",
    "\n",
    "print('minimum number of words: {}'.format(l.min()))\n",
    "print('median number of words: {}'.format(np.median(l)))\n",
    "print('average number of words: {}'.format(l.mean()))\n",
    "print('maximum number of words: {}'.format(l.max()))"
   ]
  },
  {
   "cell_type": "code",
   "execution_count": 94,
   "metadata": {},
   "outputs": [],
   "source": [
    "PADDING = 'pre'\n",
    "\n",
    "train_seqs = pad_sequences(train_seqs, padding=PADDING)\n",
    "val_seqs = pad_sequences(val_seqs, padding=PADDING)\n",
    "test_seqs = pad_sequences(test_seqs, padding=PADDING)"
   ]
  },
  {
   "cell_type": "code",
   "execution_count": 95,
   "metadata": {},
   "outputs": [
    {
     "name": "stdout",
     "output_type": "stream",
     "text": [
      "penerbangan yang cukup nyaman dengan tarif low fare namun jika ada tambahan bagasi mendadak kena charge cukup mahal air asia juga tergolong on schedule dan makanan on boardnyaa enak\n",
      "[0 0 0 ... 1 1 1]\n"
     ]
    }
   ],
   "source": [
    "print(trainX[10])\n",
    "print(train_seqs[10])"
   ]
  },
  {
   "cell_type": "code",
   "execution_count": 132,
   "metadata": {},
   "outputs": [
    {
     "name": "stderr",
     "output_type": "stream",
     "text": [
      "c:\\ProgramData\\Anaconda3\\lib\\site-packages\\keras\\optimizers\\optimizer_v2\\gradient_descent.py:114: UserWarning: The `lr` argument is deprecated, use `learning_rate` instead.\n",
      "  super().__init__(name, **kwargs)\n"
     ]
    }
   ],
   "source": [
    "from keras.models import Sequential\n",
    "from keras.layers import Embedding, Conv1D, MaxPooling1D, Bidirectional, LSTM, Dense, Dropout\n",
    "from keras.optimizers import SGD\n",
    "\n",
    "epochs=35\n",
    "learning_rate = 0.1\n",
    "decay_rate = learning_rate / epochs\n",
    "momentum = 0.8\n",
    "\n",
    "sgd = SGD(lr=learning_rate, momentum=momentum, decay=decay_rate, nesterov=False)\n",
    "\n",
    "model= Sequential()\n",
    "model.add(Embedding(len(word_index),200))\n",
    "model.add(Conv1D(filters=32, kernel_size=3, padding='same', activation='relu'))\n",
    "model.add(MaxPooling1D(pool_size=2))\n",
    "model.add(Bidirectional(LSTM(100)))\n",
    "model.add(Dropout(0.4))\n",
    "model.add(Dense(2, activation='softmax'))"
   ]
  },
  {
   "cell_type": "code",
   "execution_count": 133,
   "metadata": {},
   "outputs": [
    {
     "data": {
      "image/png": "[encoded data removed]",
      "text/plain": [
       "<IPython.core.display.Image object>"
      ]
     },
     "execution_count": 133,
     "metadata": {},
     "output_type": "execute_result"
    }
   ],
   "source": [
    "import tensorflow as tf\n",
    "tf.keras.utils.plot_model(model, show_shapes=True)"
   ]
  },
  {
   "cell_type": "code",
   "execution_count": 134,
   "metadata": {},
   "outputs": [],
   "source": [
    "model.compile(loss='categorical_crossentropy', \n",
    "              optimizer='adam', \n",
    "              metrics=['accuracy'])"
   ]
  },
  {
   "cell_type": "code",
   "execution_count": 135,
   "metadata": {},
   "outputs": [
    {
     "name": "stdout",
     "output_type": "stream",
     "text": [
      "Epoch 1/35\n",
      "15/15 [==============================] - 22s 1s/step - loss: 0.6139 - accuracy: 0.7140 - val_loss: 0.5439 - val_accuracy: 0.7688\n",
      "Epoch 2/35\n",
      "15/15 [==============================] - 13s 844ms/step - loss: 0.5724 - accuracy: 0.7307 - val_loss: 0.5195 - val_accuracy: 0.7688\n",
      "Epoch 3/35\n",
      "15/15 [==============================] - 13s 830ms/step - loss: 0.5588 - accuracy: 0.7307 - val_loss: 0.5260 - val_accuracy: 0.7688\n",
      "Epoch 4/35\n",
      "15/15 [==============================] - 12s 820ms/step - loss: 0.5250 - accuracy: 0.7349 - val_loss: 0.5270 - val_accuracy: 0.7563\n",
      "Epoch 5/35\n",
      "15/15 [==============================] - 13s 836ms/step - loss: 0.5038 - accuracy: 0.7474 - val_loss: 0.5135 - val_accuracy: 0.7937\n",
      "Epoch 6/35\n",
      "15/15 [==============================] - 13s 834ms/step - loss: 0.4606 - accuracy: 0.7829 - val_loss: 0.5470 - val_accuracy: 0.7500\n",
      "Epoch 7/35\n",
      "15/15 [==============================] - 12s 817ms/step - loss: 0.4137 - accuracy: 0.8017 - val_loss: 0.5776 - val_accuracy: 0.7812\n",
      "Epoch 8/35\n",
      "15/15 [==============================] - 12s 822ms/step - loss: 0.3838 - accuracy: 0.8225 - val_loss: 0.6459 - val_accuracy: 0.6938\n",
      "Epoch 9/35\n",
      "15/15 [==============================] - 12s 826ms/step - loss: 0.3874 - accuracy: 0.8163 - val_loss: 0.5656 - val_accuracy: 0.7812\n",
      "Epoch 10/35\n",
      "15/15 [==============================] - 13s 846ms/step - loss: 0.3233 - accuracy: 0.8580 - val_loss: 0.6900 - val_accuracy: 0.7250\n",
      "Epoch 11/35\n",
      "15/15 [==============================] - 13s 835ms/step - loss: 0.2737 - accuracy: 0.8998 - val_loss: 0.7078 - val_accuracy: 0.6812\n",
      "Epoch 12/35\n",
      "15/15 [==============================] - 12s 816ms/step - loss: 0.2449 - accuracy: 0.9040 - val_loss: 0.8193 - val_accuracy: 0.7375\n",
      "Epoch 13/35\n",
      "15/15 [==============================] - 13s 849ms/step - loss: 0.2392 - accuracy: 0.9081 - val_loss: 0.7478 - val_accuracy: 0.7375\n",
      "Epoch 14/35\n",
      "15/15 [==============================] - 13s 875ms/step - loss: 0.1661 - accuracy: 0.9415 - val_loss: 0.9288 - val_accuracy: 0.7500\n",
      "Epoch 15/35\n",
      "15/15 [==============================] - 13s 851ms/step - loss: 0.1251 - accuracy: 0.9582 - val_loss: 1.0080 - val_accuracy: 0.7125\n",
      "Epoch 16/35\n",
      "15/15 [==============================] - 13s 840ms/step - loss: 0.0998 - accuracy: 0.9687 - val_loss: 1.1761 - val_accuracy: 0.7500\n",
      "Epoch 17/35\n",
      "15/15 [==============================] - 12s 825ms/step - loss: 0.1309 - accuracy: 0.9541 - val_loss: 1.0790 - val_accuracy: 0.7250\n",
      "Epoch 18/35\n",
      "15/15 [==============================] - 12s 811ms/step - loss: 0.1131 - accuracy: 0.9687 - val_loss: 1.1455 - val_accuracy: 0.6812\n",
      "Epoch 19/35\n",
      "15/15 [==============================] - 12s 832ms/step - loss: 0.0743 - accuracy: 0.9812 - val_loss: 1.0596 - val_accuracy: 0.6875\n",
      "Epoch 20/35\n",
      "15/15 [==============================] - 12s 822ms/step - loss: 0.0550 - accuracy: 0.9896 - val_loss: 1.2792 - val_accuracy: 0.7063\n",
      "Epoch 21/35\n",
      "15/15 [==============================] - 12s 832ms/step - loss: 0.0387 - accuracy: 0.9896 - val_loss: 1.4762 - val_accuracy: 0.6375\n",
      "Epoch 22/35\n",
      "15/15 [==============================] - 12s 832ms/step - loss: 0.0379 - accuracy: 0.9916 - val_loss: 1.4433 - val_accuracy: 0.7000\n",
      "Epoch 23/35\n",
      "15/15 [==============================] - 13s 871ms/step - loss: 0.0245 - accuracy: 0.9958 - val_loss: 1.4693 - val_accuracy: 0.7437\n",
      "Epoch 24/35\n",
      "15/15 [==============================] - 15s 980ms/step - loss: 0.0161 - accuracy: 0.9979 - val_loss: 1.4854 - val_accuracy: 0.7250\n",
      "Epoch 25/35\n",
      "15/15 [==============================] - 14s 942ms/step - loss: 0.0124 - accuracy: 1.0000 - val_loss: 1.6338 - val_accuracy: 0.7125\n",
      "Epoch 26/35\n",
      "15/15 [==============================] - 14s 911ms/step - loss: 0.0093 - accuracy: 0.9979 - val_loss: 1.6628 - val_accuracy: 0.7188\n",
      "Epoch 27/35\n",
      "15/15 [==============================] - 14s 906ms/step - loss: 0.0066 - accuracy: 1.0000 - val_loss: 1.8492 - val_accuracy: 0.6938\n",
      "Epoch 28/35\n",
      "15/15 [==============================] - 14s 965ms/step - loss: 0.0035 - accuracy: 1.0000 - val_loss: 1.8363 - val_accuracy: 0.7188\n",
      "Epoch 29/35\n",
      "15/15 [==============================] - 14s 909ms/step - loss: 0.0023 - accuracy: 1.0000 - val_loss: 1.8545 - val_accuracy: 0.7125\n",
      "Epoch 30/35\n",
      "15/15 [==============================] - 15s 976ms/step - loss: 0.0018 - accuracy: 1.0000 - val_loss: 1.9419 - val_accuracy: 0.7063\n",
      "Epoch 31/35\n",
      "15/15 [==============================] - 14s 913ms/step - loss: 0.0013 - accuracy: 1.0000 - val_loss: 2.0322 - val_accuracy: 0.7063\n",
      "Epoch 32/35\n",
      "15/15 [==============================] - 14s 922ms/step - loss: 0.0012 - accuracy: 1.0000 - val_loss: 2.0373 - val_accuracy: 0.7063\n",
      "Epoch 33/35\n",
      "15/15 [==============================] - 15s 1s/step - loss: 9.7934e-04 - accuracy: 1.0000 - val_loss: 2.0480 - val_accuracy: 0.7125\n",
      "Epoch 34/35\n",
      "15/15 [==============================] - 14s 955ms/step - loss: 8.7384e-04 - accuracy: 1.0000 - val_loss: 2.0631 - val_accuracy: 0.7125\n",
      "Epoch 35/35\n",
      "15/15 [==============================] - 16s 1s/step - loss: 7.4991e-04 - accuracy: 1.0000 - val_loss: 2.0881 - val_accuracy: 0.7125\n",
      "CPU times: total: 22min 57s\n",
      "Wall time: 7min 50s\n"
     ]
    }
   ],
   "source": [
    "%%time\n",
    "\n",
    "EPOCH = epochs\n",
    "BATCH_SIZE = 32\n",
    "\n",
    "history_LSTM = model.fit(train_seqs, trainY, epochs=EPOCH, batch_size=BATCH_SIZE, validation_data=(val_seqs, valY))"
   ]
  },
  {
   "cell_type": "code",
   "execution_count": 136,
   "metadata": {},
   "outputs": [],
   "source": [
    "def plot_graphs(history, string):\n",
    "  plt.plot(history.history[string])\n",
    "  plt.plot(history.history['val_'+string])\n",
    "  plt.xlabel(\"Epochs\")\n",
    "  plt.ylabel(string)\n",
    "  plt.legend([string, 'val_'+string])\n",
    "  plt.show()"
   ]
  },
  {
   "cell_type": "code",
   "execution_count": 137,
   "metadata": {},
   "outputs": [
    {
     "data": {
      "image/png": "[encoded data removed]",
      "text/plain": [
       "<Figure size 640x480 with 1 Axes>"
      ]
     },
     "metadata": {},
     "output_type": "display_data"
    },
    {
     "data": {
      "image/png": "[encoded data removed]",
      "text/plain": [
       "<Figure size 640x480 with 1 Axes>"
      ]
     },
     "metadata": {},
     "output_type": "display_data"
    }
   ],
   "source": [
    "plot_graphs(history_LSTM, 'accuracy')\n",
    "plot_graphs(history_LSTM, 'loss')"
   ]
  },
  {
   "cell_type": "code",
   "execution_count": 138,
   "metadata": {},
   "outputs": [
    {
     "name": "stdout",
     "output_type": "stream",
     "text": [
      "\n",
      "Epoch No.  Train Accuracy  Train Loss      Val Accuracy    Val Loss\n",
      "       1   0.713987 \t   0.613938 \t   0.768750 \t   0.543943\n",
      "       2   0.730689 \t   0.572436 \t   0.768750 \t   0.519539\n",
      "       3   0.730689 \t   0.558754 \t   0.768750 \t   0.525999\n",
      "       4   0.734864 \t   0.525035 \t   0.756250 \t   0.527008\n",
      "       5   0.747390 \t   0.503805 \t   0.793750 \t   0.513499\n",
      "       6   0.782881 \t   0.460625 \t   0.750000 \t   0.547039\n",
      "       7   0.801670 \t   0.413678 \t   0.781250 \t   0.577590\n",
      "       8   0.822547 \t   0.383759 \t   0.693750 \t   0.645868\n",
      "       9   0.816284 \t   0.387439 \t   0.781250 \t   0.565560\n",
      "      10   0.858038 \t   0.323318 \t   0.725000 \t   0.689967\n",
      "      11   0.899791 \t   0.273697 \t   0.681250 \t   0.707814\n",
      "      12   0.903967 \t   0.244919 \t   0.737500 \t   0.819267\n",
      "      13   0.908142 \t   0.239217 \t   0.737500 \t   0.747753\n",
      "      14   0.941545 \t   0.166105 \t   0.750000 \t   0.928795\n",
      "      15   0.958246 \t   0.125103 \t   0.712500 \t   1.008016\n",
      "      16   0.968685 \t   0.099763 \t   0.750000 \t   1.176069\n",
      "      17   0.954071 \t   0.130867 \t   0.725000 \t   1.078952\n",
      "      18   0.968685 \t   0.113137 \t   0.681250 \t   1.145500\n",
      "      19   0.981211 \t   0.074259 \t   0.687500 \t   1.059626\n",
      "      20   0.989562 \t   0.055043 \t   0.706250 \t   1.279180\n",
      "      21   0.989562 \t   0.038655 \t   0.637500 \t   1.476157\n",
      "      22   0.991649 \t   0.037859 \t   0.700000 \t   1.443323\n",
      "      23   0.995825 \t   0.024468 \t   0.743750 \t   1.469316\n",
      "      24   0.997912 \t   0.016102 \t   0.725000 \t   1.485406\n",
      "      25   1.000000 \t   0.012416 \t   0.712500 \t   1.633782\n",
      "      26   0.997912 \t   0.009302 \t   0.718750 \t   1.662809\n",
      "      27   1.000000 \t   0.006609 \t   0.693750 \t   1.849220\n",
      "      28   1.000000 \t   0.003463 \t   0.718750 \t   1.836261\n",
      "      29   1.000000 \t   0.002297 \t   0.712500 \t   1.854532\n",
      "      30   1.000000 \t   0.001848 \t   0.706250 \t   1.941912\n",
      "      31   1.000000 \t   0.001322 \t   0.706250 \t   2.032215\n",
      "      32   1.000000 \t   0.001184 \t   0.706250 \t   2.037350\n",
      "      33   1.000000 \t   0.000979 \t   0.712500 \t   2.048029\n",
      "      34   1.000000 \t   0.000874 \t   0.712500 \t   2.063089\n",
      "      35   1.000000 \t   0.000750 \t   0.712500 \t   2.088127\n"
     ]
    }
   ],
   "source": [
    "print('\\nEpoch No.  Train Accuracy  Train Loss      Val Accuracy    Val Loss')\n",
    "for i in range(EPOCH):\n",
    "  print('{:8d} {:10f} \\t {:10f} \\t {:10f} \\t {:10f}'.format(i + 1, history_LSTM.history['accuracy'][i], history_LSTM.history['loss'][i], history_LSTM.history['val_accuracy'][i], history_LSTM.history['val_loss'][i]))"
   ]
  },
  {
   "cell_type": "code",
   "execution_count": 139,
   "metadata": {},
   "outputs": [
    {
     "name": "stdout",
     "output_type": "stream",
     "text": [
      "5/5 [==============================] - 1s 44ms/step\n",
      "5/5 [==============================] - 1s 41ms/step - loss: 1.4995 - accuracy: 0.7812\n"
     ]
    }
   ],
   "source": [
    "y_pred = np.argmax(model.predict(test_seqs), axis=1)\n",
    "y_true = np.argmax(testY, axis=1)\n",
    "\n",
    "loss, accuracy = model.evaluate(test_seqs, testY)"
   ]
  },
  {
   "cell_type": "code",
   "execution_count": 140,
   "metadata": {},
   "outputs": [
    {
     "name": "stdout",
     "output_type": "stream",
     "text": [
      "              precision    recall  f1-score   support\n",
      "\n",
      "           0       0.39      0.46      0.43        28\n",
      "           1       0.88      0.85      0.86       132\n",
      "\n",
      "    accuracy                           0.78       160\n",
      "   macro avg       0.64      0.66      0.65       160\n",
      "weighted avg       0.80      0.78      0.79       160\n",
      "\n"
     ]
    }
   ],
   "source": [
    "from sklearn.metrics import classification_report\n",
    "\n",
    "print(classification_report(y_pred, y_true))"
   ]
  }
 ],
 "metadata": {
  "kernelspec": {
   "display_name": "base",
   "language": "python",
   "name": "python3"
  },
  "language_info": {
   "codemirror_mode": {
    "name": "ipython",
    "version": 3
   },
   "file_extension": ".py",
   "mimetype": "text/x-python",
   "name": "python",
   "nbconvert_exporter": "python",
   "pygments_lexer": "ipython3",
   "version": "3.9.15"
  },
  "orig_nbformat": 4
 },
 "nbformat": 4,
 "nbformat_minor": 2
}
