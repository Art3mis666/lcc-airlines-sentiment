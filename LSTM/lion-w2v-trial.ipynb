{
 "cells": [
  {
   "cell_type": "code",
   "execution_count": 365,
   "metadata": {},
   "outputs": [
    {
     "name": "stderr",
     "output_type": "stream",
     "text": [
      "[nltk_data] Downloading package stopwords to C:\\Users\\NAUFAL\n",
      "[nltk_data]     HAFIZH\\AppData\\Roaming\\nltk_data...\n",
      "[nltk_data]   Package stopwords is already up-to-date!\n"
     ]
    },
    {
     "data": {
      "text/plain": [
       "True"
      ]
     },
     "execution_count": 365,
     "metadata": {},
     "output_type": "execute_result"
    }
   ],
   "source": [
    "import pandas as pd\n",
    "import numpy as np\n",
    "import matplotlib.pyplot as plt\n",
    "import seaborn as sns\n",
    "import pickle\n",
    "%matplotlib inline\n",
    "import nltk\n",
    "nltk.download('stopwords')"
   ]
  },
  {
   "cell_type": "code",
   "execution_count": 366,
   "metadata": {},
   "outputs": [
    {
     "data": {
      "text/html": [
       "<div>\n",
       "<style scoped>\n",
       "    .dataframe tbody tr th:only-of-type {\n",
       "        vertical-align: middle;\n",
       "    }\n",
       "\n",
       "    .dataframe tbody tr th {\n",
       "        vertical-align: top;\n",
       "    }\n",
       "\n",
       "    .dataframe thead th {\n",
       "        text-align: right;\n",
       "    }\n",
       "</style>\n",
       "<table border=\"1\" class=\"dataframe\">\n",
       "  <thead>\n",
       "    <tr style=\"text-align: right;\">\n",
       "      <th></th>\n",
       "      <th>text</th>\n",
       "      <th>label</th>\n",
       "    </tr>\n",
       "  </thead>\n",
       "  <tbody>\n",
       "    <tr>\n",
       "      <th>0</th>\n",
       "      <td>masuk kabin sebelum take off dan keluar setela...</td>\n",
       "      <td>0</td>\n",
       "    </tr>\n",
       "    <tr>\n",
       "      <th>1</th>\n",
       "      <td>petugas lion air memasukkan sampah ke dalam ko...</td>\n",
       "      <td>0</td>\n",
       "    </tr>\n",
       "    <tr>\n",
       "      <th>2</th>\n",
       "      <td>Ngantri sejam di check in counter, pelayananny...</td>\n",
       "      <td>0</td>\n",
       "    </tr>\n",
       "    <tr>\n",
       "      <th>3</th>\n",
       "      <td>pesawat saya dari pekanbaru ke batam jam 9 pag...</td>\n",
       "      <td>0</td>\n",
       "    </tr>\n",
       "    <tr>\n",
       "      <th>4</th>\n",
       "      <td>Kalau masih sayang diri, keluarga, waktu dan k...</td>\n",
       "      <td>0</td>\n",
       "    </tr>\n",
       "  </tbody>\n",
       "</table>\n",
       "</div>"
      ],
      "text/plain": [
       "                                                text  label\n",
       "0  masuk kabin sebelum take off dan keluar setela...      0\n",
       "1  petugas lion air memasukkan sampah ke dalam ko...      0\n",
       "2  Ngantri sejam di check in counter, pelayananny...      0\n",
       "3  pesawat saya dari pekanbaru ke batam jam 9 pag...      0\n",
       "4  Kalau masih sayang diri, keluarga, waktu dan k...      0"
      ]
     },
     "execution_count": 366,
     "metadata": {},
     "output_type": "execute_result"
    }
   ],
   "source": [
    "data = pd.read_csv('../data/csv/cleaned/ta-lion-clean.csv')\n",
    "data.head()"
   ]
  },
  {
   "cell_type": "code",
   "execution_count": 367,
   "metadata": {},
   "outputs": [
    {
     "name": "stdout",
     "output_type": "stream",
     "text": [
      "Jumlah data pada setiap nilai label:\n",
      " 1    309\n",
      "0    199\n",
      "Name: label, dtype: int64\n"
     ]
    }
   ],
   "source": [
    "label_counts = data['label'].value_counts()\n",
    "print('Jumlah data pada setiap nilai label:\\n', label_counts)"
   ]
  },
  {
   "cell_type": "code",
   "execution_count": 368,
   "metadata": {},
   "outputs": [
    {
     "name": "stdout",
     "output_type": "stream",
     "text": [
      "Jumlah data:  508\n",
      "Jumlah ulasan positif:  309\n",
      "Jumlah ulasan negatif:  199\n"
     ]
    }
   ],
   "source": [
    "print(\"Jumlah data: \", len(data))\n",
    "print(\"Jumlah ulasan positif: \", data['label'].value_counts()[1])\n",
    "print(\"Jumlah ulasan negatif: \", data['label'].value_counts()[0])"
   ]
  },
  {
   "cell_type": "code",
   "execution_count": 369,
   "metadata": {},
   "outputs": [
    {
     "data": {
      "image/png": "[encoded data removed]",
      "text/plain": [
       "<Figure size 640x480 with 1 Axes>"
      ]
     },
     "metadata": {},
     "output_type": "display_data"
    }
   ],
   "source": [
    "jumlah_positif = data['label'].value_counts()[1]\n",
    "jumlah_negatif = data['label'].value_counts()[0]\n",
    "\n",
    "plt.bar(['Positive', 'Negative'], [jumlah_positif, jumlah_negatif])\n",
    "plt.title('Sentiment Analysis Result')\n",
    "plt.xlabel('Sentiment')\n",
    "plt.ylabel('Jumlah Ulasan')\n",
    "plt.show()"
   ]
  },
  {
   "cell_type": "code",
   "execution_count": 370,
   "metadata": {},
   "outputs": [],
   "source": [
    "import re\n",
    "\n",
    "def casefolding(text):\n",
    "    text = text.lower()                                # Mengubah teks menjadi lower case\n",
    "    text = re.sub(r'https?://\\S+|www\\.\\S+', '', text)  # Menghapus URL\n",
    "    text = re.sub(r'[-+]?[0-9]+', '', text)            # Menghapus angka\n",
    "    text = re.sub(r'[^\\w\\s]','', text)                 # Menghapus karakter tanda baca\n",
    "    text = text.strip()\n",
    "    return text\n",
    "data['text'] = data['text'].apply(casefolding)\n"
   ]
  },
  {
   "cell_type": "code",
   "execution_count": 371,
   "metadata": {},
   "outputs": [
    {
     "name": "stdout",
     "output_type": "stream",
     "text": [
      "0    masuk kabin sebelum take off dan keluar setela...\n",
      "1    petugas lion air memasukkan sampah ke dalam ko...\n",
      "2    ngantri sejam di check in counter pelayanannya...\n",
      "3    pesawat saya dari pekanbaru ke batam jam  pagi...\n",
      "4    kalau masih sayang diri keluarga waktu dan kes...\n",
      "Name: text, dtype: object\n"
     ]
    }
   ],
   "source": [
    "print(data['text'].head())"
   ]
  },
  {
   "cell_type": "code",
   "execution_count": 372,
   "metadata": {},
   "outputs": [],
   "source": [
    "from nltk.corpus import stopwords\n",
    "\n",
    "stopwords_ind = stopwords.words('indonesian')\n",
    "\n",
    "more_stopword=['href','a','b','br']\n",
    "stopwords_ind=stopwords_ind+more_stopword\n",
    "\n",
    "def remove_stop_words(text):\n",
    "    clean_words=[]\n",
    "    text=text.split()\n",
    "    for word in text:\n",
    "        if word not in stopwords_ind:\n",
    "            clean_words.append(word)\n",
    "    return \" \".join(clean_words)"
   ]
  },
  {
   "cell_type": "code",
   "execution_count": 373,
   "metadata": {},
   "outputs": [
    {
     "name": "stdout",
     "output_type": "stream",
     "text": [
      "0      masuk kabin sebelum take off dan keluar setela...\n",
      "1      petugas lion air memasukkan sampah ke dalam ko...\n",
      "2      ngantri sejam di check in counter pelayanannya...\n",
      "3      pesawat saya dari pekanbaru ke batam jam  pagi...\n",
      "4      kalau masih sayang diri keluarga waktu dan kes...\n",
      "                             ...                        \n",
      "503    pramugari nya ramah ramah makanan nya enak ter...\n",
      "504    terbang dengan batik air  rute cgksin a pklal ...\n",
      "505    pertama kali saya naik batik air  fasilitasnya...\n",
      "506    pengalaman saya hampir tiap tahun menggunakan ...\n",
      "507    kalau pakai lion air tidak usah berekspetasi m...\n",
      "Name: text, Length: 508, dtype: object\n"
     ]
    }
   ],
   "source": [
    "print(data['text'])"
   ]
  },
  {
   "cell_type": "code",
   "execution_count": 374,
   "metadata": {},
   "outputs": [],
   "source": [
    "from Sastrawi.Stemmer.StemmerFactory import StemmerFactory\n",
    "\n",
    "factory = StemmerFactory()\n",
    "stemmer = factory.create_stemmer()\n",
    "\n",
    "def stemming(text):\n",
    "  text = stemmer.stem(text)\n",
    "  return text"
   ]
  },
  {
   "cell_type": "code",
   "execution_count": 375,
   "metadata": {},
   "outputs": [
    {
     "name": "stdout",
     "output_type": "stream",
     "text": [
      "Raw data\t\t:  flight dicancel tapi maskapai tidak memberikan informasi selengkapnya sehingga setelah saya reschedule dengan susah payah ke waktu  jam yg lain  ternyata lion sudah mengganti flgiht yg dicancel dg flight maskapai lain satu group pada jam yg sama waktu saya coba mengganti kembali ke jam semula customer service cs mengenakan biaya walaupun representative cs yg sebelumnya tidak memberitahukan adanya penggantian flight di waktu  jam yg sama  lebih parahnya waktu complain ke bagian keluhan bukannya membantu malah menyalahkan cara saya bertanya kepada cs sehingga saya mendapatkan informasi yg tdk lengkap  benarbenar tidak profesional dan tidak ada etos utk customer service  customer satisfaction sama sekali\n",
      "Case folding\t\t:  flight dicancel tapi maskapai tidak memberikan informasi selengkapnya sehingga setelah saya reschedule dengan susah payah ke waktu  jam yg lain  ternyata lion sudah mengganti flgiht yg dicancel dg flight maskapai lain satu group pada jam yg sama waktu saya coba mengganti kembali ke jam semula customer service cs mengenakan biaya walaupun representative cs yg sebelumnya tidak memberitahukan adanya penggantian flight di waktu  jam yg sama  lebih parahnya waktu complain ke bagian keluhan bukannya membantu malah menyalahkan cara saya bertanya kepada cs sehingga saya mendapatkan informasi yg tdk lengkap  benarbenar tidak profesional dan tidak ada etos utk customer service  customer satisfaction sama sekali\n",
      "Stopword removal\t:  flight dicancel maskapai informasi selengkapnya reschedule susah payah jam yg lion mengganti flgiht yg dicancel dg flight maskapai group jam yg coba mengganti jam customer service cs mengenakan biaya representative cs yg memberitahukan penggantian flight jam yg parahnya complain keluhan membantu menyalahkan cs informasi yg tdk lengkap benarbenar profesional etos utk customer service customer satisfaction\n",
      "Stemming\t\t:  flight dicancel maskapai informasi lengkap reschedule susah payah jam yg lion ganti flgiht yg dicancel dg flight maskapai group jam yg coba ganti jam customer service cs kena biaya representative cs yg memberitahukan ganti flight jam yg parah complain keluh bantu salah cs informasi yg tdk lengkap benarbenar profesional etos utk customer service customer satisfaction\n"
     ]
    }
   ],
   "source": [
    "raw_sample = data['text'].iloc[7]\n",
    "case_folding = casefolding(raw_sample)\n",
    "stopword_removal = remove_stop_words(case_folding)\n",
    "text_stemming = stemming(stopword_removal)\n",
    "\n",
    "print('Raw data\\t\\t: ', raw_sample)\n",
    "print('Case folding\\t\\t: ', case_folding)\n",
    "print('Stopword removal\\t: ', stopword_removal)\n",
    "print('Stemming\\t\\t: ', text_stemming)"
   ]
  },
  {
   "cell_type": "code",
   "execution_count": 376,
   "metadata": {},
   "outputs": [],
   "source": [
    "def text_preprocessing_process(text):\n",
    "    text=casefolding(text)\n",
    "    text=remove_stop_words(text)\n",
    "    text=stemming(text)\n",
    "    return text"
   ]
  },
  {
   "cell_type": "code",
   "execution_count": 377,
   "metadata": {},
   "outputs": [
    {
     "name": "stdout",
     "output_type": "stream",
     "text": [
      "CPU times: total: 3min 39s\n",
      "Wall time: 4min 19s\n"
     ]
    }
   ],
   "source": [
    "%%time\n",
    "data['clean_text']=data['text'].apply(text_preprocessing_process)"
   ]
  },
  {
   "cell_type": "code",
   "execution_count": 378,
   "metadata": {},
   "outputs": [
    {
     "name": "stdout",
     "output_type": "stream",
     "text": [
      "0      [masuk, kabin, take, off, landing, struktur, b...\n",
      "1      [tugas, lion, air, masuk, sampah, koper, tumpa...\n",
      "2      [ngantri, jam, check, in, counter, layan, trus...\n",
      "3      [pesawat, pekanbaru, batam, jam, pagi, rencana...\n",
      "4      [sayang, keluarga, selamat, hindar, maskapai, ...\n",
      "                             ...                        \n",
      "503    [pramugari, nya, ramah, ramah, makan, nya, ena...\n",
      "504    [terbang, batik, air, rute, cgksin, pklal, jam...\n",
      "505    [kali, batik, air, fasilitas, muas, modern, la...\n",
      "506    [alam, maskapai, kali, bawa, grup, bal, januar...\n",
      "507    [pakai, lion, air, berekspetasi, berangkat, te...\n",
      "Name: tokens, Length: 508, dtype: object\n"
     ]
    },
    {
     "name": "stderr",
     "output_type": "stream",
     "text": [
      "[nltk_data] Downloading package punkt to C:\\Users\\NAUFAL\n",
      "[nltk_data]     HAFIZH\\AppData\\Roaming\\nltk_data...\n",
      "[nltk_data]   Package punkt is already up-to-date!\n"
     ]
    }
   ],
   "source": [
    "import nltk\n",
    "nltk.download('punkt')\n",
    "\n",
    "data['tokens'] = data['clean_text'].apply(lambda x: nltk.word_tokenize(x))\n",
    "print(data['tokens'])"
   ]
  },
  {
   "cell_type": "code",
   "execution_count": 379,
   "metadata": {},
   "outputs": [
    {
     "data": {
      "text/html": [
       "<div>\n",
       "<style scoped>\n",
       "    .dataframe tbody tr th:only-of-type {\n",
       "        vertical-align: middle;\n",
       "    }\n",
       "\n",
       "    .dataframe tbody tr th {\n",
       "        vertical-align: top;\n",
       "    }\n",
       "\n",
       "    .dataframe thead th {\n",
       "        text-align: right;\n",
       "    }\n",
       "</style>\n",
       "<table border=\"1\" class=\"dataframe\">\n",
       "  <thead>\n",
       "    <tr style=\"text-align: right;\">\n",
       "      <th></th>\n",
       "      <th>text</th>\n",
       "      <th>label</th>\n",
       "      <th>clean_text</th>\n",
       "      <th>tokens</th>\n",
       "    </tr>\n",
       "  </thead>\n",
       "  <tbody>\n",
       "    <tr>\n",
       "      <th>0</th>\n",
       "      <td>masuk kabin sebelum take off dan keluar setela...</td>\n",
       "      <td>0</td>\n",
       "      <td>masuk kabin take off landing struktur beranta ...</td>\n",
       "      <td>[masuk, kabin, take, off, landing, struktur, b...</td>\n",
       "    </tr>\n",
       "    <tr>\n",
       "      <th>1</th>\n",
       "      <td>petugas lion air memasukkan sampah ke dalam ko...</td>\n",
       "      <td>0</td>\n",
       "      <td>tugas lion air masuk sampah koper tumpang meng...</td>\n",
       "      <td>[tugas, lion, air, masuk, sampah, koper, tumpa...</td>\n",
       "    </tr>\n",
       "    <tr>\n",
       "      <th>2</th>\n",
       "      <td>ngantri sejam di check in counter pelayanannya...</td>\n",
       "      <td>0</td>\n",
       "      <td>ngantri jam check in counter layan trus yg pan...</td>\n",
       "      <td>[ngantri, jam, check, in, counter, layan, trus...</td>\n",
       "    </tr>\n",
       "    <tr>\n",
       "      <th>3</th>\n",
       "      <td>pesawat saya dari pekanbaru ke batam jam  pagi...</td>\n",
       "      <td>0</td>\n",
       "      <td>pesawat pekanbaru batam jam pagi rencana batam...</td>\n",
       "      <td>[pesawat, pekanbaru, batam, jam, pagi, rencana...</td>\n",
       "    </tr>\n",
       "    <tr>\n",
       "      <th>4</th>\n",
       "      <td>kalau masih sayang diri keluarga waktu dan kes...</td>\n",
       "      <td>0</td>\n",
       "      <td>sayang keluarga selamat hindar maskapai pesawa...</td>\n",
       "      <td>[sayang, keluarga, selamat, hindar, maskapai, ...</td>\n",
       "    </tr>\n",
       "    <tr>\n",
       "      <th>...</th>\n",
       "      <td>...</td>\n",
       "      <td>...</td>\n",
       "      <td>...</td>\n",
       "      <td>...</td>\n",
       "    </tr>\n",
       "    <tr>\n",
       "      <th>503</th>\n",
       "      <td>pramugari nya ramah ramah makanan nya enak ter...</td>\n",
       "      <td>1</td>\n",
       "      <td>pramugari nya ramah ramah makan nya enak harga...</td>\n",
       "      <td>[pramugari, nya, ramah, ramah, makan, nya, ena...</td>\n",
       "    </tr>\n",
       "    <tr>\n",
       "      <th>504</th>\n",
       "      <td>terbang dengan batik air  rute cgksin a pklal ...</td>\n",
       "      <td>1</td>\n",
       "      <td>terbang batik air rute cgksin pklal jam terban...</td>\n",
       "      <td>[terbang, batik, air, rute, cgksin, pklal, jam...</td>\n",
       "    </tr>\n",
       "    <tr>\n",
       "      <th>505</th>\n",
       "      <td>pertama kali saya naik batik air  fasilitasnya...</td>\n",
       "      <td>1</td>\n",
       "      <td>kali batik air fasilitas muas modern layan vid...</td>\n",
       "      <td>[kali, batik, air, fasilitas, muas, modern, la...</td>\n",
       "    </tr>\n",
       "    <tr>\n",
       "      <th>506</th>\n",
       "      <td>pengalaman saya hampir tiap tahun menggunakan ...</td>\n",
       "      <td>1</td>\n",
       "      <td>alam maskapai kali bawa grup bal januari alas ...</td>\n",
       "      <td>[alam, maskapai, kali, bawa, grup, bal, januar...</td>\n",
       "    </tr>\n",
       "    <tr>\n",
       "      <th>507</th>\n",
       "      <td>kalau pakai lion air tidak usah berekspetasi m...</td>\n",
       "      <td>1</td>\n",
       "      <td>pakai lion air berekspetasi berangkat terbang ...</td>\n",
       "      <td>[pakai, lion, air, berekspetasi, berangkat, te...</td>\n",
       "    </tr>\n",
       "  </tbody>\n",
       "</table>\n",
       "<p>508 rows × 4 columns</p>\n",
       "</div>"
      ],
      "text/plain": [
       "                                                  text  label  \\\n",
       "0    masuk kabin sebelum take off dan keluar setela...      0   \n",
       "1    petugas lion air memasukkan sampah ke dalam ko...      0   \n",
       "2    ngantri sejam di check in counter pelayanannya...      0   \n",
       "3    pesawat saya dari pekanbaru ke batam jam  pagi...      0   \n",
       "4    kalau masih sayang diri keluarga waktu dan kes...      0   \n",
       "..                                                 ...    ...   \n",
       "503  pramugari nya ramah ramah makanan nya enak ter...      1   \n",
       "504  terbang dengan batik air  rute cgksin a pklal ...      1   \n",
       "505  pertama kali saya naik batik air  fasilitasnya...      1   \n",
       "506  pengalaman saya hampir tiap tahun menggunakan ...      1   \n",
       "507  kalau pakai lion air tidak usah berekspetasi m...      1   \n",
       "\n",
       "                                            clean_text  \\\n",
       "0    masuk kabin take off landing struktur beranta ...   \n",
       "1    tugas lion air masuk sampah koper tumpang meng...   \n",
       "2    ngantri jam check in counter layan trus yg pan...   \n",
       "3    pesawat pekanbaru batam jam pagi rencana batam...   \n",
       "4    sayang keluarga selamat hindar maskapai pesawa...   \n",
       "..                                                 ...   \n",
       "503  pramugari nya ramah ramah makan nya enak harga...   \n",
       "504  terbang batik air rute cgksin pklal jam terban...   \n",
       "505  kali batik air fasilitas muas modern layan vid...   \n",
       "506  alam maskapai kali bawa grup bal januari alas ...   \n",
       "507  pakai lion air berekspetasi berangkat terbang ...   \n",
       "\n",
       "                                                tokens  \n",
       "0    [masuk, kabin, take, off, landing, struktur, b...  \n",
       "1    [tugas, lion, air, masuk, sampah, koper, tumpa...  \n",
       "2    [ngantri, jam, check, in, counter, layan, trus...  \n",
       "3    [pesawat, pekanbaru, batam, jam, pagi, rencana...  \n",
       "4    [sayang, keluarga, selamat, hindar, maskapai, ...  \n",
       "..                                                 ...  \n",
       "503  [pramugari, nya, ramah, ramah, makan, nya, ena...  \n",
       "504  [terbang, batik, air, rute, cgksin, pklal, jam...  \n",
       "505  [kali, batik, air, fasilitas, muas, modern, la...  \n",
       "506  [alam, maskapai, kali, bawa, grup, bal, januar...  \n",
       "507  [pakai, lion, air, berekspetasi, berangkat, te...  \n",
       "\n",
       "[508 rows x 4 columns]"
      ]
     },
     "execution_count": 379,
     "metadata": {},
     "output_type": "execute_result"
    }
   ],
   "source": [
    "data"
   ]
  },
  {
   "cell_type": "code",
   "execution_count": 380,
   "metadata": {},
   "outputs": [],
   "source": [
    "data.to_csv('../data/csv/cleaned/lion-w2v-trial.csv')"
   ]
  },
  {
   "cell_type": "code",
   "execution_count": 381,
   "metadata": {},
   "outputs": [
    {
     "data": {
      "text/plain": [
       "'4.3.0'"
      ]
     },
     "execution_count": 381,
     "metadata": {},
     "output_type": "execute_result"
    }
   ],
   "source": [
    "import gensim\n",
    "gensim.__version__"
   ]
  },
  {
   "cell_type": "code",
   "execution_count": 382,
   "metadata": {},
   "outputs": [
    {
     "data": {
      "text/plain": [
       "0      [masuk, kabin, take, off, landing, struktur, b...\n",
       "1      [tugas, lion, air, masuk, sampah, koper, tumpa...\n",
       "2      [ngantri, jam, check, in, counter, layan, trus...\n",
       "3      [pesawat, pekanbaru, batam, jam, pagi, rencana...\n",
       "4      [sayang, keluarga, selamat, hindar, maskapai, ...\n",
       "                             ...                        \n",
       "503    [pramugari, nya, ramah, ramah, makan, nya, ena...\n",
       "504    [terbang, batik, air, rute, cgksin, pklal, jam...\n",
       "505    [kali, batik, air, fasilitas, muas, modern, la...\n",
       "506    [alam, maskapai, kali, bawa, grup, bal, januar...\n",
       "507    [pakai, lion, air, berekspetasi, berangkat, te...\n",
       "Name: clean_text, Length: 508, dtype: object"
      ]
     },
     "execution_count": 382,
     "metadata": {},
     "output_type": "execute_result"
    }
   ],
   "source": [
    "def tokenization(text):\n",
    "  text = re.split('\\W+', text)\n",
    "  return text\n",
    "\n",
    "sentences = data['clean_text'].apply(lambda x: tokenization(x.lower()))\n",
    "sentences"
   ]
  },
  {
   "cell_type": "code",
   "execution_count": 383,
   "metadata": {},
   "outputs": [],
   "source": [
    "MIN_COUNT = 1       # Mengabaikan semua kata dengan frekuensi total lebih rendah dari ini (opsional)\n",
    "WINDOW = 5          # Window size. Jarak maksimum antara kata saat ini dan yang diprediksi dalam sebuah kalimat.\n",
    "EPOCH = 15          # Jumlah iterasi (epoch).\n",
    "SG = 1              # Algoritma pelatihan: 1 untuk skip-gram, 0 untuk CBOW.\n",
    "SIZE = 5"
   ]
  },
  {
   "cell_type": "code",
   "execution_count": 384,
   "metadata": {},
   "outputs": [
    {
     "name": "stdout",
     "output_type": "stream",
     "text": [
      "CPU times: total: 1.06 s\n",
      "Wall time: 976 ms\n"
     ]
    }
   ],
   "source": [
    "%%time \n",
    "model_word2vec = gensim.models.Word2Vec(sentences, vector_size=SIZE, sg=SG, min_count=MIN_COUNT, window=WINDOW, epochs=EPOCH)"
   ]
  },
  {
   "cell_type": "code",
   "execution_count": 385,
   "metadata": {},
   "outputs": [],
   "source": [
    "path = \"word2vec.bin.gz\"\n",
    "model_word2vec.wv.save_word2vec_format(path, binary=True)"
   ]
  },
  {
   "cell_type": "code",
   "execution_count": 386,
   "metadata": {},
   "outputs": [
    {
     "data": {
      "text/plain": [
       "array([-0.44500825,  0.7976307 ,  0.9351086 , -0.52741253, -0.30199173],\n",
       "      dtype=float32)"
      ]
     },
     "execution_count": 386,
     "metadata": {},
     "output_type": "execute_result"
    }
   ],
   "source": [
    "model_word2vec.wv['telat']"
   ]
  },
  {
   "cell_type": "code",
   "execution_count": 387,
   "metadata": {},
   "outputs": [
    {
     "data": {
      "text/plain": [
       "[('maksimal', 0.9987533688545227),\n",
       " ('sesuain', 0.9977938532829285),\n",
       " ('dengar', 0.9969016313552856),\n",
       " ('pojok', 0.9967008829116821),\n",
       " ('nyalip', 0.9964655041694641),\n",
       " ('ribetsiiiiiiiiiiip', 0.9958056211471558),\n",
       " ('oke', 0.995578944683075),\n",
       " ('banting', 0.9953722357749939),\n",
       " ('sekian', 0.9953593015670776),\n",
       " ('spareparts', 0.9953112602233887)]"
      ]
     },
     "execution_count": 387,
     "metadata": {},
     "output_type": "execute_result"
    }
   ],
   "source": [
    "model_word2vec.wv.most_similar('telat')"
   ]
  },
  {
   "cell_type": "code",
   "execution_count": 388,
   "metadata": {},
   "outputs": [
    {
     "data": {
      "text/plain": [
       "array([[ 0.04760984,  0.823436  ,  0.88018256, -0.72321117,  0.19280858],\n",
       "       [-0.16732343,  1.9976835 ,  0.05788337, -1.7335353 ,  0.33199733],\n",
       "       [-0.01949726,  0.45800674,  0.7806487 , -1.3011154 ,  0.11680578],\n",
       "       [-0.5321016 ,  2.0095923 , -0.19096811, -2.080621  , -0.3002533 ],\n",
       "       [ 0.33468997,  1.0126555 ,  0.789425  , -0.8596443 ,  0.3361923 ]],\n",
       "      dtype=float32)"
      ]
     },
     "execution_count": 388,
     "metadata": {},
     "output_type": "execute_result"
    }
   ],
   "source": [
    "word_list = ['tepat', 'nyaman', 'bagus', 'ramah', 'senang']\n",
    "word_vectors = np.array([model_word2vec.wv[w] for w in word_list])\n",
    "word_vectors"
   ]
  },
  {
   "cell_type": "code",
   "execution_count": 389,
   "metadata": {},
   "outputs": [],
   "source": [
    "from sklearn.decomposition import PCA, KernelPCA\n",
    "\n",
    "dimred = PCA(n_components=2, copy=False, whiten=True)\n",
    "red_word_vectors = dimred.fit_transform(word_vectors)"
   ]
  },
  {
   "cell_type": "code",
   "execution_count": 390,
   "metadata": {},
   "outputs": [
    {
     "data": {
      "text/plain": [
       "array([[-0.8093591 , -0.21699136],\n",
       "       [ 0.84137046, -0.9547705 ],\n",
       "       [-0.6732861 ,  1.3317301 ],\n",
       "       [ 1.3151484 ,  0.712173  ],\n",
       "       [-0.6738733 , -0.8721433 ]], dtype=float32)"
      ]
     },
     "execution_count": 390,
     "metadata": {},
     "output_type": "execute_result"
    }
   ],
   "source": [
    "red_word_vectors"
   ]
  },
  {
   "cell_type": "code",
   "execution_count": 391,
   "metadata": {},
   "outputs": [],
   "source": [
    "def plot(datas, labels, fc='yellow'):\n",
    "  # plot the dots\n",
    "  plt.subplots_adjust(bottom = 0.1)\n",
    "  plt.scatter(datas[:, 0], datas[:, 1], marker='o')\n",
    "\n",
    "  # annotate labels\n",
    "  for label, x, y in zip(labels, datas[:, 0], datas[:, 1]):\n",
    "    plt.annotate(label, \\\n",
    "                 xy=(x, y), xytext=(-15, 15), \\\n",
    "                 textcoords='offset points', ha='right', va='bottom', \\\n",
    "                 bbox=dict(boxstyle='round,pad=0.3', fc=fc, alpha=0.5), \\\n",
    "                 arrowprops=dict(arrowstyle = '->', connectionstyle='arc3,rad=0'))\n",
    "  plt.show()"
   ]
  },
  {
   "cell_type": "code",
   "execution_count": 392,
   "metadata": {},
   "outputs": [
    {
     "data": {
      "image/png": "[encoded data removed]",
      "text/plain": [
       "<Figure size 640x480 with 1 Axes>"
      ]
     },
     "metadata": {},
     "output_type": "display_data"
    }
   ],
   "source": [
    "plot(red_word_vectors, word_list)"
   ]
  },
  {
   "cell_type": "code",
   "execution_count": 393,
   "metadata": {},
   "outputs": [
    {
     "data": {
      "text/html": [
       "<div>\n",
       "<style scoped>\n",
       "    .dataframe tbody tr th:only-of-type {\n",
       "        vertical-align: middle;\n",
       "    }\n",
       "\n",
       "    .dataframe tbody tr th {\n",
       "        vertical-align: top;\n",
       "    }\n",
       "\n",
       "    .dataframe thead th {\n",
       "        text-align: right;\n",
       "    }\n",
       "</style>\n",
       "<table border=\"1\" class=\"dataframe\">\n",
       "  <thead>\n",
       "    <tr style=\"text-align: right;\">\n",
       "      <th></th>\n",
       "      <th>clean_text</th>\n",
       "      <th>label</th>\n",
       "    </tr>\n",
       "  </thead>\n",
       "  <tbody>\n",
       "    <tr>\n",
       "      <th>0</th>\n",
       "      <td>masuk kabin take off landing struktur beranta ...</td>\n",
       "      <td>0</td>\n",
       "    </tr>\n",
       "    <tr>\n",
       "      <th>1</th>\n",
       "      <td>tugas lion air masuk sampah koper tumpang meng...</td>\n",
       "      <td>0</td>\n",
       "    </tr>\n",
       "    <tr>\n",
       "      <th>2</th>\n",
       "      <td>ngantri jam check in counter layan trus yg pan...</td>\n",
       "      <td>0</td>\n",
       "    </tr>\n",
       "    <tr>\n",
       "      <th>3</th>\n",
       "      <td>pesawat pekanbaru batam jam pagi rencana batam...</td>\n",
       "      <td>0</td>\n",
       "    </tr>\n",
       "    <tr>\n",
       "      <th>4</th>\n",
       "      <td>sayang keluarga selamat hindar maskapai pesawa...</td>\n",
       "      <td>0</td>\n",
       "    </tr>\n",
       "    <tr>\n",
       "      <th>...</th>\n",
       "      <td>...</td>\n",
       "      <td>...</td>\n",
       "    </tr>\n",
       "    <tr>\n",
       "      <th>503</th>\n",
       "      <td>pramugari nya ramah ramah makan nya enak harga...</td>\n",
       "      <td>1</td>\n",
       "    </tr>\n",
       "    <tr>\n",
       "      <th>504</th>\n",
       "      <td>terbang batik air rute cgksin pklal jam terban...</td>\n",
       "      <td>1</td>\n",
       "    </tr>\n",
       "    <tr>\n",
       "      <th>505</th>\n",
       "      <td>kali batik air fasilitas muas modern layan vid...</td>\n",
       "      <td>1</td>\n",
       "    </tr>\n",
       "    <tr>\n",
       "      <th>506</th>\n",
       "      <td>alam maskapai kali bawa grup bal januari alas ...</td>\n",
       "      <td>1</td>\n",
       "    </tr>\n",
       "    <tr>\n",
       "      <th>507</th>\n",
       "      <td>pakai lion air berekspetasi berangkat terbang ...</td>\n",
       "      <td>1</td>\n",
       "    </tr>\n",
       "  </tbody>\n",
       "</table>\n",
       "<p>508 rows × 2 columns</p>\n",
       "</div>"
      ],
      "text/plain": [
       "                                            clean_text  label\n",
       "0    masuk kabin take off landing struktur beranta ...      0\n",
       "1    tugas lion air masuk sampah koper tumpang meng...      0\n",
       "2    ngantri jam check in counter layan trus yg pan...      0\n",
       "3    pesawat pekanbaru batam jam pagi rencana batam...      0\n",
       "4    sayang keluarga selamat hindar maskapai pesawa...      0\n",
       "..                                                 ...    ...\n",
       "503  pramugari nya ramah ramah makan nya enak harga...      1\n",
       "504  terbang batik air rute cgksin pklal jam terban...      1\n",
       "505  kali batik air fasilitas muas modern layan vid...      1\n",
       "506  alam maskapai kali bawa grup bal januari alas ...      1\n",
       "507  pakai lion air berekspetasi berangkat terbang ...      1\n",
       "\n",
       "[508 rows x 2 columns]"
      ]
     },
     "execution_count": 393,
     "metadata": {},
     "output_type": "execute_result"
    }
   ],
   "source": [
    "data1 = data[['clean_text', 'label']]\n",
    "data1"
   ]
  },
  {
   "cell_type": "code",
   "execution_count": 394,
   "metadata": {},
   "outputs": [],
   "source": [
    "from sklearn.model_selection import train_test_split\n",
    "\n",
    "data_train, data_test = train_test_split(data, test_size=0.2, random_state=5)\n",
    "data_train, data_val = train_test_split(data_train, test_size=0.25, random_state=5)"
   ]
  },
  {
   "cell_type": "code",
   "execution_count": 395,
   "metadata": {},
   "outputs": [
    {
     "name": "stdout",
     "output_type": "stream",
     "text": [
      "(304, 4)\n",
      "(102, 4)\n",
      "(102, 4)\n"
     ]
    }
   ],
   "source": [
    "print(data_train.shape)\n",
    "print(data_val.shape)\n",
    "print(data_test.shape)"
   ]
  },
  {
   "cell_type": "code",
   "execution_count": 396,
   "metadata": {},
   "outputs": [],
   "source": [
    "trainX = np.array(data_train.iloc[:, 0])\n",
    "trainY = np.array(data_train.iloc[:, 1])\n",
    "\n",
    "testX = np.array(data_test.iloc[:, 0])\n",
    "testY = np.array(data_test.iloc[:, 1])\n",
    "\n",
    "valX = np.array(data_val.iloc[:, 0])\n",
    "valY = np.array(data_val.iloc[:, 1])"
   ]
  },
  {
   "cell_type": "code",
   "execution_count": 397,
   "metadata": {},
   "outputs": [],
   "source": [
    "trainY = pd.get_dummies(trainY).values\n",
    "testY = pd.get_dummies(testY).values\n",
    "valY = pd.get_dummies(valY).values"
   ]
  },
  {
   "cell_type": "code",
   "execution_count": 398,
   "metadata": {},
   "outputs": [
    {
     "name": "stdout",
     "output_type": "stream",
     "text": [
      "(304, 2)\n",
      "(102, 2)\n",
      "(102, 2)\n"
     ]
    }
   ],
   "source": [
    "print(trainY.shape)\n",
    "print(testY.shape)\n",
    "print(valY.shape)"
   ]
  },
  {
   "cell_type": "code",
   "execution_count": 399,
   "metadata": {},
   "outputs": [
    {
     "data": {
      "text/plain": [
       "array([[0, 1],\n",
       "       [0, 1],\n",
       "       [0, 1],\n",
       "       [1, 0],\n",
       "       [0, 1],\n",
       "       [1, 0],\n",
       "       [0, 1],\n",
       "       [0, 1],\n",
       "       [0, 1],\n",
       "       [0, 1],\n",
       "       [1, 0],\n",
       "       [1, 0],\n",
       "       [1, 0],\n",
       "       [1, 0],\n",
       "       [0, 1],\n",
       "       [0, 1],\n",
       "       [1, 0],\n",
       "       [1, 0],\n",
       "       [0, 1],\n",
       "       [1, 0],\n",
       "       [1, 0],\n",
       "       [1, 0],\n",
       "       [0, 1],\n",
       "       [1, 0],\n",
       "       [1, 0],\n",
       "       [1, 0],\n",
       "       [0, 1],\n",
       "       [0, 1],\n",
       "       [1, 0],\n",
       "       [0, 1],\n",
       "       [1, 0],\n",
       "       [0, 1],\n",
       "       [1, 0],\n",
       "       [1, 0],\n",
       "       [0, 1],\n",
       "       [0, 1],\n",
       "       [0, 1],\n",
       "       [1, 0],\n",
       "       [0, 1],\n",
       "       [0, 1],\n",
       "       [0, 1],\n",
       "       [0, 1],\n",
       "       [0, 1],\n",
       "       [0, 1],\n",
       "       [1, 0],\n",
       "       [0, 1],\n",
       "       [0, 1],\n",
       "       [0, 1],\n",
       "       [0, 1],\n",
       "       [1, 0],\n",
       "       [1, 0],\n",
       "       [0, 1],\n",
       "       [0, 1],\n",
       "       [1, 0],\n",
       "       [0, 1],\n",
       "       [1, 0],\n",
       "       [1, 0],\n",
       "       [0, 1],\n",
       "       [0, 1],\n",
       "       [0, 1],\n",
       "       [0, 1],\n",
       "       [0, 1],\n",
       "       [0, 1],\n",
       "       [0, 1],\n",
       "       [0, 1],\n",
       "       [1, 0],\n",
       "       [0, 1],\n",
       "       [0, 1],\n",
       "       [1, 0],\n",
       "       [1, 0],\n",
       "       [0, 1],\n",
       "       [1, 0],\n",
       "       [0, 1],\n",
       "       [0, 1],\n",
       "       [0, 1],\n",
       "       [1, 0],\n",
       "       [0, 1],\n",
       "       [1, 0],\n",
       "       [1, 0],\n",
       "       [0, 1],\n",
       "       [1, 0],\n",
       "       [0, 1],\n",
       "       [1, 0],\n",
       "       [0, 1],\n",
       "       [0, 1],\n",
       "       [0, 1],\n",
       "       [0, 1],\n",
       "       [0, 1],\n",
       "       [1, 0],\n",
       "       [1, 0],\n",
       "       [0, 1],\n",
       "       [0, 1],\n",
       "       [1, 0],\n",
       "       [0, 1],\n",
       "       [0, 1],\n",
       "       [0, 1],\n",
       "       [1, 0],\n",
       "       [1, 0],\n",
       "       [0, 1],\n",
       "       [1, 0],\n",
       "       [0, 1],\n",
       "       [0, 1],\n",
       "       [0, 1],\n",
       "       [0, 1],\n",
       "       [1, 0],\n",
       "       [1, 0],\n",
       "       [1, 0],\n",
       "       [1, 0],\n",
       "       [0, 1],\n",
       "       [0, 1],\n",
       "       [0, 1],\n",
       "       [0, 1],\n",
       "       [0, 1],\n",
       "       [0, 1],\n",
       "       [0, 1],\n",
       "       [1, 0],\n",
       "       [0, 1],\n",
       "       [0, 1],\n",
       "       [0, 1],\n",
       "       [1, 0],\n",
       "       [0, 1],\n",
       "       [0, 1],\n",
       "       [0, 1],\n",
       "       [0, 1],\n",
       "       [0, 1],\n",
       "       [1, 0],\n",
       "       [1, 0],\n",
       "       [0, 1],\n",
       "       [0, 1],\n",
       "       [1, 0],\n",
       "       [0, 1],\n",
       "       [0, 1],\n",
       "       [1, 0],\n",
       "       [0, 1],\n",
       "       [0, 1],\n",
       "       [1, 0],\n",
       "       [1, 0],\n",
       "       [1, 0],\n",
       "       [0, 1],\n",
       "       [1, 0],\n",
       "       [0, 1],\n",
       "       [0, 1],\n",
       "       [0, 1],\n",
       "       [0, 1],\n",
       "       [0, 1],\n",
       "       [0, 1],\n",
       "       [1, 0],\n",
       "       [0, 1],\n",
       "       [0, 1],\n",
       "       [0, 1],\n",
       "       [0, 1],\n",
       "       [0, 1],\n",
       "       [0, 1],\n",
       "       [0, 1],\n",
       "       [1, 0],\n",
       "       [1, 0],\n",
       "       [0, 1],\n",
       "       [1, 0],\n",
       "       [0, 1],\n",
       "       [1, 0],\n",
       "       [0, 1],\n",
       "       [1, 0],\n",
       "       [1, 0],\n",
       "       [1, 0],\n",
       "       [0, 1],\n",
       "       [0, 1],\n",
       "       [0, 1],\n",
       "       [0, 1],\n",
       "       [0, 1],\n",
       "       [0, 1],\n",
       "       [1, 0],\n",
       "       [0, 1],\n",
       "       [0, 1],\n",
       "       [0, 1],\n",
       "       [0, 1],\n",
       "       [0, 1],\n",
       "       [0, 1],\n",
       "       [0, 1],\n",
       "       [0, 1],\n",
       "       [0, 1],\n",
       "       [0, 1],\n",
       "       [0, 1],\n",
       "       [0, 1],\n",
       "       [1, 0],\n",
       "       [0, 1],\n",
       "       [0, 1],\n",
       "       [0, 1],\n",
       "       [1, 0],\n",
       "       [1, 0],\n",
       "       [0, 1],\n",
       "       [1, 0],\n",
       "       [1, 0],\n",
       "       [1, 0],\n",
       "       [0, 1],\n",
       "       [0, 1],\n",
       "       [1, 0],\n",
       "       [0, 1],\n",
       "       [0, 1],\n",
       "       [0, 1],\n",
       "       [0, 1],\n",
       "       [0, 1],\n",
       "       [0, 1],\n",
       "       [0, 1],\n",
       "       [1, 0],\n",
       "       [1, 0],\n",
       "       [1, 0],\n",
       "       [1, 0],\n",
       "       [0, 1],\n",
       "       [0, 1],\n",
       "       [1, 0],\n",
       "       [0, 1],\n",
       "       [1, 0],\n",
       "       [1, 0],\n",
       "       [1, 0],\n",
       "       [1, 0],\n",
       "       [0, 1],\n",
       "       [0, 1],\n",
       "       [0, 1],\n",
       "       [0, 1],\n",
       "       [0, 1],\n",
       "       [0, 1],\n",
       "       [0, 1],\n",
       "       [1, 0],\n",
       "       [0, 1],\n",
       "       [1, 0],\n",
       "       [1, 0],\n",
       "       [1, 0],\n",
       "       [0, 1],\n",
       "       [0, 1],\n",
       "       [0, 1],\n",
       "       [0, 1],\n",
       "       [1, 0],\n",
       "       [0, 1],\n",
       "       [1, 0],\n",
       "       [0, 1],\n",
       "       [1, 0],\n",
       "       [0, 1],\n",
       "       [1, 0],\n",
       "       [0, 1],\n",
       "       [1, 0],\n",
       "       [0, 1],\n",
       "       [0, 1],\n",
       "       [0, 1],\n",
       "       [0, 1],\n",
       "       [1, 0],\n",
       "       [0, 1],\n",
       "       [1, 0],\n",
       "       [0, 1],\n",
       "       [0, 1],\n",
       "       [1, 0],\n",
       "       [0, 1],\n",
       "       [0, 1],\n",
       "       [0, 1],\n",
       "       [0, 1],\n",
       "       [1, 0],\n",
       "       [1, 0],\n",
       "       [0, 1],\n",
       "       [0, 1],\n",
       "       [0, 1],\n",
       "       [0, 1],\n",
       "       [1, 0],\n",
       "       [0, 1],\n",
       "       [1, 0],\n",
       "       [1, 0],\n",
       "       [0, 1],\n",
       "       [1, 0],\n",
       "       [1, 0],\n",
       "       [1, 0],\n",
       "       [1, 0],\n",
       "       [1, 0],\n",
       "       [0, 1],\n",
       "       [1, 0],\n",
       "       [0, 1],\n",
       "       [1, 0],\n",
       "       [1, 0],\n",
       "       [0, 1],\n",
       "       [0, 1],\n",
       "       [1, 0],\n",
       "       [0, 1],\n",
       "       [1, 0],\n",
       "       [1, 0],\n",
       "       [1, 0],\n",
       "       [0, 1],\n",
       "       [1, 0],\n",
       "       [1, 0],\n",
       "       [1, 0],\n",
       "       [0, 1],\n",
       "       [0, 1],\n",
       "       [1, 0],\n",
       "       [0, 1],\n",
       "       [1, 0],\n",
       "       [1, 0],\n",
       "       [0, 1],\n",
       "       [0, 1],\n",
       "       [1, 0],\n",
       "       [0, 1],\n",
       "       [1, 0],\n",
       "       [1, 0],\n",
       "       [1, 0],\n",
       "       [1, 0],\n",
       "       [0, 1],\n",
       "       [0, 1],\n",
       "       [0, 1],\n",
       "       [0, 1]], dtype=uint8)"
      ]
     },
     "execution_count": 399,
     "metadata": {},
     "output_type": "execute_result"
    }
   ],
   "source": [
    "trainY"
   ]
  },
  {
   "cell_type": "code",
   "execution_count": 400,
   "metadata": {},
   "outputs": [
    {
     "name": "stdout",
     "output_type": "stream",
     "text": [
      "KeyedVectors<vector_size=5, 2487 keys>\n"
     ]
    }
   ],
   "source": [
    "from gensim.models import KeyedVectors\n",
    "\n",
    "reloaded_word_vectors = KeyedVectors.load_word2vec_format(path, binary=True)\n",
    "print(reloaded_word_vectors)"
   ]
  },
  {
   "cell_type": "code",
   "execution_count": 401,
   "metadata": {},
   "outputs": [
    {
     "name": "stdout",
     "output_type": "stream",
     "text": [
      "{'<unk>': 1, 'saya': 2, 'dan': 3, 'yang': 4, 'lion': 5, 'di': 6, 'jam': 7, 'tidak': 8, 'ke': 9, 'air': 10, 'penerbangan': 11, 'dengan': 12, 'pesawat': 13, 'ini': 14, 'maskapai': 15, 'delay': 16, 'ada': 17, 'dari': 18, 'bali': 19, 'untuk': 20, 'waktu': 21, 'karena': 22, 'sangat': 23, 'hanya': 24, 'penumpang': 25, 'yg': 26, 'sudah': 27, 'saat': 28, 'pelayanan': 29, 'cukup': 30, 'saja': 31, 'tiap': 32, 'lebih': 33, 'murah': 34, 'juga': 35, 'harga': 36, 'ya': 37, 'terbang': 38, 'tapi': 39, 'itu': 40, 'ramah': 41, 'nyaman': 42, 'lagi': 43, 'bagasi': 44, 'kami': 45, 'naik': 46, 'berangkat': 47, 'bisa': 48, 'nya': 49, 'aja': 50, 'sekitar': 51, 'pada': 52, 'harus': 53, 'sampai': 54, 'banyak': 55, 'bandara': 56, 'kali': 57, 'masih': 58, 'jadwal': 59, 'bukan': 60, 'pasti': 61, 'pas': 62, 'lain': 63, 'sering': 64, 'pake': 65, 'sebenarnya': 66, 'tiket': 67, 'tepat': 68, 'namun': 69, 'harganya': 70, 'akan': 71, 'buat': 72, 'jakarta': 73, 'baru': 74, 'flight': 75, 'dalam': 76, 'sampe': 77, 'siang': 78, 'so': 79, 'ekonomi': 80, 'menit': 81, 'menggunakan': 82, 'kelas': 83, 'surabaya': 84, 'jadi': 85, 'memang': 86, 'baik': 87, 'favorit': 88, 'timing': 89, 'apsti': 90, 'boarding': 91, 'kalau': 92, 'mau': 93, 'seperti': 94, 'cocok': 95, 'koper': 96, 'adalah': 97, 'kantong': 98, 'menunggu': 99, 'in': 100, 'ternyata': 101, 'golongan': 102, 'menegah': 103, 'kebawah': 104, 'sehingga': 105, 'selama': 106, 'beberapa': 107, 'akhirnya': 108, 'pertama': 109, 'selalu': 110, 'sama': 111, 'check': 112, 'masuk': 113, 'kita': 114, 'tetapi': 115, 'perjalanan': 116, 'lama': 117, 'tanpa': 118, 'time': 119, 'atau': 120, 'pernah': 121, 'ketika': 122, 'petugas': 123, 'pagi': 124, 'ga': 125, 'transit': 126, 'hari': 127, 'pengalaman': 128, 'setelah': 129, 'jika': 130, 'on': 131, 'menjadi': 132, 'pramugari': 133, 'sekali': 134, 'oleh': 135, 'tiba': 136, 'pun': 137, 'mereka': 138, 'kurang': 139, 'gak': 140, 'sesuai': 141, 'buruk': 142, 'membantu': 143, 'pilihan': 144, 'menuju': 145, 'keberangkatan': 146, 'dapat': 147, 'mungkin': 148, 'landing': 149, 'tetap': 150, 'kepada': 151, 'kabin': 152, 'satu': 153, 'apa': 154, 'membuat': 155, 'semoga': 156, 'pihak': 157, 'malah': 158, 'tunggu': 159, 'lalu': 160, 'mengalami': 161, 'bagus': 162, 'memilih': 163, 'jangan': 164, 'pkl': 165, 'hampir': 166, 'malam': 167, 'belum': 168, 'anda': 169, 'alasan': 170, 'duduk': 171, 'ingin': 172, 'banget': 173, 'ruang': 174, 'terpaksa': 175, 'jt': 176, 'bahwa': 177, 'tujuan': 178, 'denpasar': 179, 'semua': 180, 'kompensasi': 181, 'batam': 182, 'sedikit': 183, 'paling': 184, 'biasa': 185, 'pakai': 186, 'padahal': 187, 'sebelum': 188, 'barang': 189, 'bagian': 190, 'batik': 191, 'balikpapan': 192, 'service': 193, 'kemudian': 194, 'terlalu': 195, 'para': 196, 'lumayan': 197, 'tempat': 198, 'sy': 199, 'gate': 200, 'masalah': 201, 'diberikan': 202, 'take': 203, 'mulai': 204, 'pukul': 205, 'antrian': 206, 'bersama': 207, 'reschedule': 208, 'kembali': 209, 'mengecewakan': 210, 'krn': 211, 'cuma': 212, 'melakukan': 213, 'orang': 214, 'selain': 215, 'off': 216, 'crew': 217, 'utk': 218, 'agak': 219, 'terlambat': 220, 'depan': 221, 'terasa': 222, 'memberikan': 223, 'seharusnya': 224, 'anak': 225, 'kaki': 226, 'makanan': 227, 'jelas': 228, 'fasilitas': 229, 'bahkan': 230, 'sebelumnya': 231, 'uang': 232, 'tersebut': 233, 'perlu': 234, 'delayed': 235, 'dr': 236, 'terakhir': 237, 'tdk': 238, 'lainnya': 239, 'pemberitahuan': 240, 'indonesia': 241, 'lah': 242, 'kursi': 243, 'parah': 244, 'kalo': 245, 'bagi': 246, 'lombok': 247, 'pesawatnya': 248, 'kondisi': 249, 'mendapatkan': 250, 'mahal': 251, 'biaya': 252, 'ekonomis': 253, 'rute': 254, 'counter': 255, 'mineral': 256, 'kota': 257, 'langsung': 258, 'terminal': 259, 'hp': 260, 'tak': 261, 'menyenangkan': 262, 'udara': 263, 'penerbangannya': 264, 'terus': 265, 'terjangkau': 266, 'cepat': 267, 'melihat': 268, 'layanan': 269, 'pelayanannya': 270, 'kru': 271, 'kecewa': 272, 'kg': 273, 'ketepatan': 274, 'budget': 275, 'sekarang': 276, 'hal': 277, 'benar': 278, 'sungguh': 279, 'dia': 280, 'datang': 281, 'dg': 282, 'sebagai': 283, 'medan': 284, 'komplain': 285, 'maka': 286, 'beli': 287, 'deh': 288, 'dulu': 289, 'luar': 290, 'jauh': 291, 'suka': 292, 'makassar': 293, 'pilot': 294, 'low': 295, 'turun': 296, 'membeli': 297, 'mendarat': 298, 'bilang': 299, 'kalinya': 300, 'salah': 301, 'snack': 302, 'awal': 303, 'keterlambatan': 304, 'wib': 305, 'telat': 306, 'berbeda': 307, 'pindah': 308, 'semakin': 309, 'opsi': 310, 'panas': 311, 'berbenah': 312, 'kan': 313, 'sempat': 314, 'sendiri': 315, 'penuh': 316, 'rusak': 317, 'tau': 318, 'management': 319, 'atas': 320, 'darat': 321, 'pulang': 322, 'seat': 323, 'sore': 324, 'makan': 325, 'pramugarinya': 326, 'bawa': 327, 'udah': 328, 'walau': 329, 'bulan': 330, 'mendapat': 331, 'setiap': 332, 'mulus': 333, 'tahun': 334, 'memuaskan': 335, 'besar': 336, 'walaupun': 337, 'ontime': 338, 'kecil': 339, 'checkin': 340, 'minta': 341, 'tolong': 342, 'kasar': 343, 'meskipun': 344, 'sih': 345, 'tersedia': 346, 'labuan': 347, 'memperbaiki': 348, 'kejadian': 349, 'perubahan': 350, 'serta': 351, 'sempit': 352, 'agar': 353, 'kadang': 354, 'informasi': 355, 'pengumuman': 356, 'kenapa': 357, 'ac': 358, 'selamat': 359, 'bepergian': 360, 'aman': 361, 'gk': 362, 'klo': 363, 'alhasil': 364, 'nunggu': 365, 'tahu': 366, 'booking': 367, 'kedua': 368, 'nasi': 369, 'citilink': 370, 'termasuk': 371, 'staff': 372, 'pergi': 373, 'sdh': 374, 'cost': 375, 'begitu': 376, 'ok': 377, 'pass': 378, 'bersahabat': 379, 'parkir': 380, 'didalam': 381, 'proses': 382, 'keras': 383, 'dipanggil': 384, 'merasa': 385, 'menaiki': 386, 'tgl': 387, 'semuanya': 388, 'dua': 389, 'disuruh': 390, 'pintu': 391, 'semarang': 392, 'customer': 393, 'tertinggal': 394, 'apapun': 395, 'cek': 396, 'kapok': 397, 'dumai': 398, 'toilet': 399, 'bajo': 400, 'eh': 401, 'lancar': 402, 'hingga': 403, 'alami': 404, 'jarak': 405, 'mendadak': 406, 'enak': 407, 'membawa': 408, 'adanya': 409, 'diberangkatkan': 410, 'info': 411, 'udh': 412, 'soekarno': 413, 'hatta': 414, 'call': 415, 'teman': 416, 'cari': 417, 'pilih': 418, 'siap': 419, 'terima': 420, 'wita': 421, 'telah': 422, 'dll': 423, 'gratis': 424, 'garuda': 425, 'bisnis': 426, 'hati': 427, 'membuka': 428, 'keluarga': 429, 'mengambil': 430, 'kasih': 431, 'bayar': 432, 'memakai': 433, 'meski': 434, 'keselamatan': 435, 'supaya': 436, 'hiburan': 437, 'urusan': 438, 'dingin': 439, 'menurut': 440, 'terburuk': 441, 'memperhatikan': 442, 'costumer': 443, 'operasional': 444, 'jasa': 445, 'bertanya': 446, 'standar': 447, 'ground': 448, 'harusnya': 449, 'mana': 450, 'antri': 451, 'segera': 452, 'alias': 453, 'awalnya': 454, 'tarakan': 455, 'via': 456, 'sebaliknya': 457, 'banjarmasin': 458, 'mas': 459, 'haris': 460, 'alhamdulillah': 461, 'seenaknya': 462, 'cabin': 463, 'tas': 464, 'kompensasinya': 465, 'teknis': 466, 'terjadi': 467, 'ditambah': 468, 'beruntung': 469, 'group': 470, 'merekomendasikan': 471, 'luas': 472, 'relatif': 473, 'hilang': 474, 'jarang': 475, 'berusaha': 476, 'marah': 477, 'senyum': 478, 'kekurangannya': 479, 'bis': 480, 'balik': 481, 'pesan': 482, 'minuman': 483, 'tiketnya': 484, 'maupun': 485, 'cuaca': 486, 'berantakan': 487, 'dps': 488, 'liburan': 489, 'memiliki': 490, 'layak': 491, 'tugas': 492, 'direct': 493, 'menawarkan': 494, 'namanya': 495, 'berjalan': 496, 'bus': 497, 'bandung': 498, 'terbangnya': 499, 'siapa': 500, 'pusing': 501, 'dimana': 502, 'delaynya': 503, 'palembang': 504, 'sopan': 505, 'berita': 506, 'menyediakan': 507, 'entah': 508, 'panggilan': 509, 'kabar': 510, 'buka': 511, 'merupakan': 512, 'dikarenakan': 513, 'sebaiknya': 514, 'sekian': 515, 'diperbaiki': 516, 'jumlah': 517, 'printer': 518, 'dikatakan': 519, 'pelanggan': 520, 'dong': 521, 'gunung': 522, 'tua': 523, 'ganti': 524, 'mengejar': 525, 'kualitas': 526, 'ditingkatkan': 527, 'no': 528, 'hendak': 529, 'mengatakan': 530, 'jawab': 531, 'lionair': 532, 'disarankan': 533, 'soal': 534, 'asia': 535, 'full': 536, 'dikasih': 537, 'changi': 538, 'nomor': 539, 'goreng': 540, 'takut': 541, 'mohon': 542, 'kesalahan': 543, 'kertajati': 544, 'kebetulan': 545, 'kok': 546, 'konfirmasi': 547, 'kemarin': 548, 'cantik': 549, 'rata': 550, 'sayangnya': 551, 'good': 552, 'jujur': 553, 'coba': 554, 'panjang': 555, 'manajemen': 556, 'lg': 557, 'pk': 558, 'mendengar': 559, 'ditawarkan': 560, 'ditunda': 561, 'terbuang': 562, 'jadwalnya': 563, 'kenyamanan': 564, 'traveller': 565, 'rasa': 566, 'secara': 567, 'jamnya': 568, 'roda': 569, 'lepas': 570, 'hancur': 571, 'keluar': 572, 'ambil': 573, 'tamu': 574, 'tenang': 575, 'online': 576, 'bbrp': 577, 'merugikan': 578, 'last': 579, 'dicancel': 580, 'dipake': 581, 'jalan': 582, 'skrg': 583, 'susah': 584, 'dgn': 585, 'cancel': 586, 'ikut': 587, 'mending': 588, 'kehabisan': 589, 'serasa': 590, 'seringnya': 591, 'ujung': 592, 'katanya': 593, 'nanti': 594, 'diganti': 595, 'segitu': 596, 'rp': 597, 'mengantri': 598, 'menerima': 599, 'energi': 600, 'biasanya': 601, 'primadona': 602, 'timur': 603, 'dibuat': 604, 'kemungkinan': 605, 'pekanbaru': 606, 'tanjung': 607, 'pinang': 608, 'tadi': 609, 'gara': 610, 'ditanya': 611, 'dijawab': 612, 'kapal': 613, 'lions': 614, 'sayang': 615, 'berhubung': 616, 'april': 617, 'santai': 618, 'tambahan': 619, 'menambah': 620, 'bila': 621, 'tentu': 622, 'apalagi': 623, 'berbagai': 624, 'berkalikali': 625, 'antara': 626, 'emosi': 627, 'dibandingkan': 628, 'meeting': 629, 'kantor': 630, 'nilai': 631, 'final': 632, 'an': 633, 'isi': 634, 'kesan': 635, 'botol': 636, 'headset': 637, 'mepet': 638, 'usah': 639, 'puas': 640, 'semula': 641, 'diinfokan': 642, 'waktunya': 643, 'permintaan': 644, 'maaf': 645, 'menghabiskan': 646, 'benarbenar': 647, 'dijadwalkan': 648, 'ngotot': 649, 'kupang': 650, 'kena': 651, 'ngurah': 652, 'waiting': 653, 'room': 654, 'ketinggalan': 655, 'duluan': 656, 'boleh': 657, 'dimasukkan': 658, 'memberi': 659, 'darurat': 660, 'attendant': 661, 'orangnya': 662, 'mbak': 663, 'pekerjaan': 664, 'sedang': 665, 'pp': 666, 'lupa': 667, 'first': 668, 'agustus': 669, 'apakah': 670, 'handling': 671, 'solo': 672, 'sehari': 673, 'sejauh': 674, 'kendala': 675, 'rapi': 676, 'daripada': 677, 'melapor': 678, 'dikenal': 679, 'ampun': 680, 'sms': 681, 'nggak': 682, 'sedangkan': 683, 'tanya': 684, 'pak': 685, 'ayam': 686, 'grup': 687, 'lihat': 688, 'orangorang': 689, 'langganan': 690, 'gagal': 691, 'disitu': 692, 'aturan': 693, 'rugi': 694, 'far': 695, 'ataupun': 696, 'mengapa': 697, 'd': 698, 'mancing': 699, 'lengkap': 700, 'tempuh': 701, 'harapan': 702, 'ratarata': 703, 'free': 704, 'berada': 705, 'diatas': 706, 'sengaja': 707, 'gelas': 708, 'diberitahu': 709, 'peraturan': 710, 'operator': 711, 'line': 712, 'kuat': 713, 'getaran': 714, 'emang': 715, 'punya': 716, 'cs': 717, 'tripod': 718, 'pengambilan': 719, 'singapore': 720, 'lakukan': 721, 'banyaknya': 722, 'kepastian': 723, 'menjadikan': 724, 'penundaan': 725, 'terkadang': 726, 'memenuhi': 727, 'pendingin': 728, 'suara': 729, 'trauma': 730, 'terbesar': 731, 'butuh': 732, 'antisipasi': 733, 'berjamjam': 734, 'tertunda': 735, 'barulah': 736, 'seenak': 737, 'body': 738, 'keadaan': 739, 'kedepan': 740, 'dibandara': 741, 'domestik': 742, 'gamau': 743, 'optimis': 744, 'diumumkan': 745, 'terbuka': 746, 'senang': 747, 'mudah': 748, 'memesan': 749, 'disaat': 750, 'tanggung': 751, 'dibilang': 752, 'jg': 753, 'soalnya': 754, 'bedanya': 755, 'lbh': 756, 'jd': 757, 'meninggalkan': 758, 'menunjukkan': 759, 'jemaah': 760, 'kapan': 761, 'hotel': 762, 'gatau': 763, 'diberi': 764, 'terkesan': 765, 'dibanting': 766, 'sebanyak': 767, 'terkena': 768, 'silahkan': 769, 'rb': 770, 'membatalkan': 771, 'keesokan': 772, 'beserta': 773, 'ratusan': 774, 'berupa': 775, 'bungkus': 776, 'melelahkan': 777, 'sesuatu': 778, 'sriwijaya': 779, 'meal': 780, 'abrik': 781, 'kelebihannya': 782, 'terutama': 783, 'merauke': 784, 'tertahan': 785, 'harinya': 786, 'berharap': 787, 'merasakan': 788, 'faktor': 789, 'arah': 790, 'view': 791, 'cekatan': 792, 'guncangan': 793, 'lewat': 794, 'untung': 795, 'ikhlas': 796, 'complain': 797, 'compensasi': 798, 'masyarakat': 799, 'smooth': 800, 'mdcjkt': 801, 'connect': 802, 'menikmati': 803, 'penghargaan': 804, 'salut': 805, 'peduli': 806, 'super': 807, 'prima': 808, 'mengudara': 809, 'sepanjang': 810, 'asal': 811, 'cuman': 812, 'menumpang': 813, 'garbarata': 814, 'ditentukan': 815, 'sekalipun': 816, 'landas': 817, 'pendaratan': 818, 'yaitu': 819, 'tertulis': 820, 'penyebabnya': 821, 'kelebihan': 822, 'seringkali': 823, 'normal': 824, 'menemani': 825, 'menarik': 826, 'sigap': 827, 'me': 828, 'sarankan': 829, 'takeoff': 830, 'jawaban': 831, 'berikan': 832, 'dibanding': 833, 'reputasi': 834, 'kunci': 835, 'kehilangan': 836, 'of': 837, 'berhasil': 838, 'ditunggu': 839, 'kotak': 840, 'biskuit': 841, 'sepertinya': 842, 'gunakan': 843, 'mencari': 844, 'pengganti': 845, 'teruslah': 846, 'roti': 847, 'film': 848, 'menginfokan': 849, 'dapatkan': 850, 'memasukkan': 851, 'sampah': 852, 'yogya': 853, 'memadai': 854, 'kata': 855, 'terhitung': 856, 'memantau': 857, 'percuma': 858, 'perhatian': 859, 'sebab': 860, 'amazing': 861, 'pula': 862, 'teratur': 863, 'mengingatkan': 864, 'daya': 865, 'inilah': 866, 'papan': 867, 'disini': 868, 'pribadi': 869, 'menghindari': 870, 'mayoritas': 871, 'melanjutkan': 872, 'eltari': 873, 'seharga': 874, 'available': 875, 'mampu': 876, 'menangani': 877, 'petugasnya': 878, 'kacau': 879, 'dibikin': 880, 'melayani': 881, 'telpon': 882, 'undur': 883, 'apaapa': 884, 'dipilihkan': 885, 'sebelah': 886, 'bonus': 887, 'menjelang': 888, 'landasan': 889, 'penumpangnya': 890, 'b': 891, 'jelek': 892, 'jutek': 893, 'jadikan': 894, 'oktober': 895, 'iw': 896, 'khususnya': 897, 'bernama': 898, 'disana': 899, 'satusatunya': 900, 'diri': 901, 'x': 902, 'alat': 903, 'tinggi': 904, 'lebaran': 905, 'keberangkatannya': 906, 'dipersilakan': 907, 'bergerak': 908, 'promo': 909, 'terhadap': 910, 'berani': 911, 'menguasai': 912, 'pasar': 913, 'awak': 914, 'kaget': 915, 'terbiasa': 916, 'apresiasi': 917, 'baris': 918, 'satunya': 919, 'katakan': 920, 'banjar': 921, 'menemui': 922, 'sbg': 923, 'sedkit': 924, 'jawa': 925, 'makin': 926, 'terbaik': 927, 'by': 928, 'loh': 929, 'bgt': 930, 'penting': 931, 'wajar': 932, 'pengguna': 933, 'sabar': 934, 'demikian': 935, 'kini': 936, 'berat': 937, 'minim': 938, 'cenderung': 939, 'menguntungkan': 940, 'perbaikan': 941, 'pulangnya': 942, 'tertera': 943, 'e': 944, 'guna': 945, 'naiki': 946, 'plus': 947, 'juanda': 948, 'sebentar': 949, 'yogyakarta': 950, 'iya': 951, 'hargai': 952, 'kendaraan': 953, 'enaknya': 954, 'goncangan': 955, 'rupa': 956, 'khawatir': 957, 'otomatis': 958, 'dibuka': 959, 'kerja': 960, 'jawabannya': 961, 'si': 962, 'sejak': 963, 'mengingat': 964, 'pemberngkatan': 965, 'setengah': 966, 'perhatikan': 967, 'memikirkan': 968, 'nasip': 969, 'bete': 970, 'tinggal': 971, 'bukannya': 972, 'sibuk': 973, 'kejar': 974, 'hangus': 975, 'tersisa': 976, 'batas': 977, 'maklum': 978, 'pekan': 979, 'mencoba': 980, 'sekalian': 981, 'aku': 982, 'it': 983, 'heheheh': 984, 'mengharapkan': 985, 'toiletnya': 986, 'pramugara': 987, 'terlihat': 988, 'kesal': 989, 'jatah': 990, 'apabila': 991, 'berkunjung': 992, 'bakalan': 993, 'bantu': 994, 'koordinasikan': 995, 'you': 996, 'juli': 997, 'khusus': 998, 'not': 999, 'jkt': 1000, 'selesai': 1001, 'konsumen': 1002, 'ekspektasi': 1003, 'is': 1004, 'terburu': 1005, 'umumnya': 1006, 'rakyat': 1007, 'pikir': 1008, 'rai': 1009, 'sepupu': 1010, 'disayangkan': 1011, 'saran': 1012, 'thanks': 1013, 'puluh': 1014, 'terpisah': 1015, 'judes': 1016, 'mengerti': 1017, 'boeing': 1018, 'masa': 1019, 'singa': 1020, 'ribuan': 1021, 'dikeluarkan': 1022, 'penebangan': 1023, 'kekecewaan': 1024, 'menahan': 1025, 'jepang': 1026, 'berbahasa': 1027, 'media': 1028, 'bukti': 1029, 'dikit': 1030, 'majalengka': 1031, 'update': 1032, 'disambut': 1033, 'ad': 1034, 'naek': 1035, 'beralih': 1036, 'jogja': 1037, 'konter': 1038, 'donk': 1039, 'bau': 1040, 'airport': 1041, 'utama': 1042, 'maju': 1043, 'entertainment': 1044, 'melalui': 1045, 'nopember': 1046, 'business': 1047, 'tandatanda': 1048, 'to': 1049, 'yakin': 1050, 'run': 1051, 'way': 1052, 'catatan': 1053, 'pkubatam': 1054, 'diangkat': 1055, 'ibunya': 1056, 'tengah': 1057, 'tambah': 1058, 'heran': 1059, 'sistem': 1060, 'harap': 1061, 'mengganti': 1062, 'mengenakan': 1063, 'bener': 1064, 'smpai': 1065, 'mendaki': 1066, 'rinjani': 1067, 'raja': 1068, 'pandang': 1069, 'dpt': 1070, 'respon': 1071, 'bercanda': 1072, 'pria': 1073, 'temannya': 1074, 'bintang': 1075, 'ngubah': 1076, 'manis': 1077, 'beberapabulan': 1078, 'skeptis': 1079, 'dipungkiri': 1080, 'bersamanya': 1081, 'wing': 1082, 'kebanyankan': 1083, 'sitem': 1084, 'ubah': 1085, 'dikarenkan': 1086, 'berjam': 1087, 'tampa': 1088, 'kewajibannya': 1089, 'perjalanannya': 1090, 'keberangakatan': 1091, 'kalah': 1092, 'buruknya': 1093, 'berfungsi': 1094, 'kecila': 1095, 'kepanansan': 1096, 'berteriak': 1097, 'menangis': 1098, 'menjerit': 1099, 'suasana': 1100, 'demi': 1101, 'kelancaran': 1102, 'menghilangkan': 1103, 'swasta': 1104, 'overall': 1105, 'wekwek': 1106, 'umum': 1107, 'traveling': 1108, 'kelompok': 1109, 'dipertimbangkan': 1110, 'ongkosnya': 1111, 'destinasinya': 1112, 'tentengan': 1113, 'bungkusan': 1114, 'sesak': 1115, 'marahmarah': 1116, 'mengajukan': 1117, 'itupun': 1118, 'da': 1119, 'resmi': 1120, 'kelebihannnya': 1121, 'jidat': 1122, 'berlubang': 1123, 'gmn': 1124, 'memperlakukan': 1125, 'as': 1126, 'always': 1127, 'terlantar': 1128, 'terjangkauwalapun': 1129, 'sempurna': 1130, 'mati': 1131, 'didarat': 1132, 'nyala': 1133, 'acnya': 1134, 'ngeri': 1135, 'kebayang': 1136, 'rodanya': 1137, 'utnung': 1138, 'maskapi': 1139, 'scr': 1140, 'jarknya': 1141, 'menolong': 1142, 'pramugrari': 1143, 'profesionalkarena': 1144, 'asalkan': 1145, 'padat': 1146, 'garing': 1147, 'atmosfirnya': 1148, 'muraah': 1149, 'bokek': 1150, 'prnh': 1151, 'trakhir': 1152, 'kmren': 1153, 'smpe': 1154, 'seh': 1155, 'rbuan': 1156, 'sm': 1157, 'selamatpelayanan': 1158, 'baikseat': 1159, 'berasa': 1160, 'ditelantarkan': 1161, 'kaya': 1162, 'org': 1163, 'rumahga': 1164, 'padatnya': 1165, 'mengikuti': 1166, 'besok': 1167, 'rekomen': 1168, 'umrah': 1169, 'travel': 1170, 'pastikan': 1171, 'dibersihkan': 1172, 'bekas': 1173, 'baikan': 1174, 'cuekcuek': 1175, 'bergerombol': 1176, 'ngobrol': 1177, 'dus': 1178, 'bawaan': 1179, 'penyok': 1180, 'basah': 1181, 'minyak': 1182, 'copot': 1183, 'diajukan': 1184, 'prosesnya': 1185, 'mingguan': 1186, 'wew': 1187, 'boong': 1188, 'komplenin': 1189, 'bolak': 1190, 'sodaranya': 1191, 'malindo': 1192, 'layanannya': 1193, 'denpasarjakarta': 1194, 'berapa': 1195, 'diperbolehkan': 1196, 'memberangkatkan': 1197, 'sebesar': 1198, 'penantian': 1199, 'membuang': 1200, 'jurusan': 1201, 'airasia': 1202, 'obrak': 1203, 'percobaan': 1204, 'kecuali': 1205, 'peak': 1206, 'season': 1207, 'daratnya': 1208, 'ngutil': 1209, 'belajar': 1210, 'waingapu': 1211, 'sumba': 1212, 'mempermudah': 1213, 'menyusahkan': 1214, 'ditinggal': 1215, 'unggul': 1216, 'terjamin': 1217, 'kenyamanannya': 1218, 'besama': 1219, 'kehandalan': 1220, 'dipertajam': 1221, 'terstruktur': 1222, 'gitu': 1223, 'berisik': 1224, 'indah': 1225, 'bako': 1226, 'menghadapi': 1227, 'penumpangan': 1228, 'beragam': 1229, 'sesekali': 1230, 'ringan': 1231, 'rencananya': 1232, 'nyasar': 1233, 'gimana': 1234, 'ceritanya': 1235, 'bapak': 1236, 'ngamuk': 1237, 'main': 1238, 'tik': 1239, 'tok': 1240, 'diurus': 1241, 'sepakat': 1242, 'diantar': 1243, 'jalanan': 1244, 'macet': 1245, 'dibawa': 1246, 'kapalnya': 1247, 'kabari': 1248, 'emoji': 1249, 'pelabuhan': 1250, 'begini': 1251, 'rating': 1252, 'surakarta': 1253, 'promoakhir': 1254, 'okehanya': 1255, 'nyarecomended': 1256, 'plihan': 1257, 'persaingan': 1258, 'perlukan': 1259, 'lalukebetulan': 1260, 'jakartakarna': 1261, 'tiketpun': 1262, 'jutanormalnya': 1263, 'juta': 1264, 'alternatif': 1265, 'manadojakarta': 1266, 'memegang': 1267, 'mdcsubjk': 1268, 'diruang': 1269, 'sesaat': 1270, 'terdengar': 1271, 'dipindahkan': 1272, 'sedikitpun': 1273, 'menyadiakan': 1274, 'simpatik': 1275, 'merepotkan': 1276, 'bebankan': 1277, 'mks': 1278, 'dipastikan': 1279, 'diandalkan': 1280, 'tarif': 1281, 'merakyat': 1282, 'depannya': 1283, 'pelopor': 1284, 'wifi': 1285, 'srgcgk': 1286, 'raguragu': 1287, 'delaynamun': 1288, 'jambi': 1289, 'sbh': 1290, 'posisi': 1291, 'tangga': 1292, 'menganggu': 1293, 'mulaia': 1294, 'temui': 1295, 'mendingin': 1296, 'armada': 1297, 'terguncang': 1298, 'dapatlah': 1299, 'termurah': 1300, 'taxiing': 1301, 'bdo': 1302, 'estimasi': 1303, 'pklog': 1304, 'inibpertama': 1305, 'sebagaimana': 1306, 'kedinginan': 1307, 'identik': 1308, 'ketidakjelasan': 1309, 'pemandangan': 1310, 'rutenya': 1311, 'lau': 1312, 'akhirakhir': 1313, 'cenderun': 1314, 'dipertahankan': 1315, 'inginkan': 1316, 'dimulai': 1317, 'kebersihan': 1318, 'fasilitasnya': 1319, 'modern': 1320, 'video': 1321, 'berisi': 1322, 'budaya': 1323, 'minimalisir': 1324, 'angkutan': 1325, 'liburannya': 1326, 'terbilang': 1327, 'dec': 1328, 'dng': 1329, 'rencana': 1330, 'garis': 1331, 'untungnya': 1332, 'airline': 1333, 'denga': 1334, 'tsa': 1335, 'dibobol': 1336, 'elektronik': 1337, 'catok': 1338, 'rambut': 1339, 'hairdryer': 1340, 'barangnya': 1341, 'permasalahkan': 1342, 'the': 1343, 'sense': 1344, 'security': 1345, 'terkunci': 1346, 'rapat': 1347, 'dibongkar': 1348, 'staf': 1349, 'professional': 1350, 'penukaran': 1351, 'priority': 1352, 'terjebak': 1353, 'setidaknya': 1354, 'keseriusan': 1355, 'disolo': 1356, 'pesawatdelay': 1357, 'dibagikan': 1358, 'menyeramkan': 1359, 'kerusakan': 1360, 'memahami': 1361, 'terpenting': 1362, 'premium': 1363, 'ala': 1364, 'star': 1365, 'konsepnya': 1366, 'meniru': 1367, 'pembagian': 1368, 'surat': 1369, 'permen': 1370, 'teh': 1371, 'kopi': 1372, 'jus': 1373, 'box': 1374, 'aqua': 1375, 'lambang': 1376, 'armadanya': 1377, 'hiburannya': 1378, 'variasi': 1379, 'lumayanlah': 1380, 'dipikir': 1381, 'gampang': 1382, 'niat': 1383, 'tingkat': 1384, 'sebuah': 1385, 'dibayarkan': 1386, 'mengobrak': 1387, 'dompet': 1388, 'case': 1389, 'headphone': 1390, 'seizin': 1391, 'pemilik': 1392, 'tertata': 1393, 'rapih': 1394, 'rumah': 1395, 'klien': 1396, 'mimpi': 1397, 'penjelasan': 1398, 'sterofoam': 1399, 'lauk': 1400, 'walhasil': 1401, 'kereta': 1402, 'api': 1403, 'komunikatif': 1404, 'perantau': 1405, 'kuliah': 1406, 'perjalan': 1407, 'memakan': 1408, 'tanda': 1409, 'aplikasi': 1410, 'karenakan': 1411, 'cepet': 1412, 'mojokerto': 1413, 'senagn': 1414, 'istimewa': 1415, 'ndak': 1416, 'tingkatkan': 1417, 'wow': 1418, 'tumben': 1419, 'cengkareng': 1420, 'digital': 1421, 'terpampang': 1422, 'dipindah': 1423, 'kecerdasan': 1424, 'menjadwalkan': 1425, 'sekaligus': 1426, 'terbebas': 1427, 'pembatalan': 1428, 'well': 1429, 'menghargai': 1430, 'ml': 1431, 'waktusuatu': 1432, 'pencapaian': 1433, 'tanggap': 1434, 'raidan': 1435, 'kunjung': 1436, 'hrus': 1437, 'kelewatan': 1438, 'superpanjang': 1439, 'loket': 1440, 'diproses': 1441, 'jgn': 1442, 'diambil': 1443, 'tinta': 1444, 'diminta': 1445, 'koordinasi': 1446, 'dibentak': 1447, 'ketiga': 1448, 'mikir': 1449, 'servicenya': 1450, 'gatenya': 1451, 'diubah': 1452, 'pesawatpun': 1453, 'ketakutan': 1454, 'ngaret': 1455, 'berujung': 1456, 'erupsi': 1457, 'agung': 1458, 'ngasih': 1459, 'atraksi': 1460, 'landscape': 1461, 'eksotis': 1462, 'biasaroda': 1463, 'menjejak': 1464, 'pacu': 1465, 'kenyataan': 1466, 'banyaaakk': 1467, 'kesimpulannya': 1468, 'pungli': 1469, 'terminl': 1470, 'mementingkan': 1471, 'apalgi': 1472, 'innya': 1473, 'prlayanan': 1474, 'muka': 1475, 'bershabat': 1476, 'dn': 1477, 'smuanya': 1478, 'akak': 1479, 'lgi': 1480, 'pkai': 1481, 'bad': 1482, 'suatu': 1483, 'nnti': 1484, 'perushaan': 1485, 'penerbngan': 1486, 'bngkrut': 1487, 'pelayann': 1488, 'tanggal': 1489, 'pikul': 1490, 'kasir': 1491, 'ayu': 1492, 'taruh': 1493, 'paham': 1494, 'luki': 1495, 'promt': 1496, 'response': 1497, 'laion': 1498, 'hindari': 1499, 'jet': 1500, 'kualanamu': 1501, 'dioper': 1502, 'pemilihan': 1503, 'berbayar': 1504, 'direimburse': 1505, 'dipinjam': 1506, 'klarifikasi': 1507, 'terhindar': 1508, 'malapetaka': 1509, 'sekeluarga': 1510, 'antar': 1511, 'badannya': 1512, 'jakartasemarang': 1513, 'ramai': 1514, 'musim': 1515, 'mudik': 1516, 'long': 1517, 'weekend': 1518, 'holiday': 1519, 'krew': 1520, 'berhati': 1521, 'embok': 1522, 'mengantisipasi': 1523, 'malahan': 1524, 'wooowww': 1525, 'early': 1526, 'aebelum': 1527, 'rekomendasikan': 1528, 'pswrltnya': 1529, 'bersih': 1530, 'sich': 1531, 'carrier': 1532, 'membuatnya': 1533, 'kemurahan': 1534, 'berbanding': 1535, 'mengamuk': 1536, 'mengomel': 1537, 'leberangkatan': 1538, 'dimundurkan': 1539, 'bertugas': 1540, 'ditawari': 1541, 'bangku': 1542, 'mematikan': 1543, 'sadari': 1544, 'kejelian': 1545, 'menanyakan': 1546, 'tertinggalmungkin': 1547, 'kegelisahan': 1548, 'kepanikkan': 1549, 'menyampaikan': 1550, 'menutup': 1551, 'nomer': 1552, 'disimpan': 1553, 'mengecek': 1554, 'sayai': 1555, 'puji': 1556, 'tuhan': 1557, 'hubungi': 1558, 'amankan': 1559, 'rencanakan': 1560, 'menerimanya': 1561, 'memaksanya': 1562, 'berkata': 1563, 'pekerjaannya': 1564, 'kesigapan': 1565, 'ketulusan': 1566, 'groun': 1567, 'ditetapkan': 1568, 'hubuntuk': 1569, 'lagiapalagi': 1570, 'pontianak': 1571, 'ujungpandang': 1572, 'ditingkatkancongrats': 1573, 'berpergian': 1574, 'direkomendasikan': 1575, 'murahnya': 1576, 'mengucapkan': 1577, 'bertahan': 1578, 'kekurangan': 1579, 'dengar': 1580, 'perfect': 1581, 'sana': 1582, 'menaukan': 1583, 'reting': 1584, 'lainlain': 1585, 'membaca': 1586, 'ulasan': 1587, 'please': 1588, 'pop': 1589, 'mi': 1590, 'dalem': 1591, 'lho': 1592, 'dibelakang': 1593, 'aroma': 1594, 'kepala': 1595, 'stand': 1596, 'xx': 1597, 'gila': 1598, 'ni': 1599, 'turbelance': 1600, 'mengasyikan': 1601, 'terawat': 1602, 'poin': 1603, 'primadoni': 1604, 'transportasi': 1605, 'efisiensi': 1606, 'logis': 1607, 'stafnya': 1608, 'menyimpan': 1609, 'kelemahannya': 1610, 'costing': 1611, 'more': 1612, 'dilema': 1613, 'hehe': 1614, 'yup': 1615, 'dahulu': 1616, 'maksimal': 1617, 'dimensi': 1618, 'kalkulasi': 1619, 'membayar': 1620, 'lounge': 1621, 'c': 1622, 'handuk': 1623, 'hangat': 1624, 'kopiteh': 1625, 'cangkir': 1626, 'miniatur': 1627, 'terdapat': 1628, 'dipinjamkan': 1629, 'musik': 1630, 'terputus': 1631, 'putus': 1632, 'bencana': 1633, 'justru': 1634, 'hobby': 1635, 'keren': 1636, 'memudahkan': 1637, 'coustomer': 1638, 'diapresiasi': 1639, 'jakartachangi': 1640, 'terkendali': 1641, 'mogok': 1642, 'disampaikan': 1643, 'gated': 1644, 'masyaa': 1645, 'allah': 1646, 'sedari': 1647, 'diemdiem': 1648, 'marahpun': 1649, 'buang': 1650, 'sajalebih': 1651, 'simpan': 1652, 'berlarilari': 1653, 'kencang': 1654, 'dpdhl': 1655, 'tutup': 1656, 'alhamdulillahdetikdetik': 1657, 'terakhirberkeringat': 1658, 'ngosngosan': 1659, 'perna': 1660, 'plin': 1661, 'plan': 1662, 'bertanggung': 1663, 'plusplus': 1664, 'jktbpn': 1665, 'sblm': 1666, 'minus': 1667, 'process': 1668, 'minusminus': 1669, 'boardingnya': 1670, 'rebutan': 1671, 'jugalalu': 1672, 'negara': 1673, 'flesksibel': 1674, 'sukseslah': 1675, 'halim': 1676, 'perdanakusuma': 1677, 'disajikan': 1678, 'khan': 1679, 'mineralnya': 1680, 'penyedianya': 1681, 'total': 1682, 'dikejar': 1683, 'seandainya': 1684, 'cgk': 1685, 'matahari': 1686, 'terbit': 1687, 'blue': 1688, 'sky': 1689, 'bs': 1690, 'menjelajah': 1691, 'barengan': 1692, 'sarapan': 1693, 'order': 1694, 'karage': 1695, 'k': 1696, 'dilakukan': 1697, 'menerbangkan': 1698, 'mendaratkan': 1699, 'menyentuh': 1700, 'rejekinya': 1701, 'kiroin': 1702, 'bakal': 1703, 'gilak': 1704, 'membuktikan': 1705, 'penyambutannya': 1706, 'tipikal': 1707, 'barangbarang': 1708, 'review': 1709, 'bagasiya': 1710, 'landingnya': 1711, 'notabene': 1712, 'tinggisaya': 1713, 'mabuk': 1714, 'tubuh': 1715, 'ukuran': 1716, 'ekonominya': 1717, 'web': 1718, 'checkinnya': 1719, 'bertepatan': 1720, 'libur': 1721, 'sulawesi': 1722, 'kalimanta': 1723, 'destinasi': 1724, 'sekarng': 1725, 'jatang': 1726, 'oarng': 1727, 'sehabis': 1728, 'centre': 1729, 'mengangkat': 1730, 'email': 1731, 'menanggung': 1732, 'terlewat': 1733, 'angkat': 1734, 'murahan': 1735, 'asuuuuuuu': 1736, 'pkubdo': 1737, 'nyusahin': 1738, 'bgst': 1739, 'rutin': 1740, 'dipikirkan': 1741, 'kesekian': 1742, 'sesuain': 1743, 'trtera': 1744, 'sblom': 1745, 'brgkttrtapi': 1746, 'krna': 1747, 'brgkt': 1748, 'kejelasan': 1749, 'dri': 1750, 'dana': 1751, 'digantipun': 1752, 'hnya': 1753, 'adill': 1754, 'kenak': 1755, 'imbasnya': 1756, 'hrga': 1757, 'awalastagfirullah': 1758, 'kedisiplinan': 1759, 'jagn': 1760, 'tnpa': 1761, 'berkah': 1762, 'mual': 1763, 'chekinsering': 1764, 'dlay': 1765, 'ditempat': 1766, 'menceramahi': 1767, 'mencekik': 1768, 'sekelas': 1769, 'anehnya': 1770, 'permohonan': 1771, 'dikembalikan': 1772, 'minimal': 1773, 'kurangi': 1774, 'menimbulkan': 1775, 'ketidaknyamanan': 1776, 'melewati': 1777, 'terapkan': 1778, 'mudahmudahan': 1779, 'bermanfaat': 1780, 'bagimu': 1781, 'keringat': 1782, 'halal': 1783, 'protes': 1784, 'sebenar': 1785, 'wingsdari': 1786, 'seterusnya': 1787, 'trael': 1788, 'jamnamun': 1789, 'ulur': 1790, 'tarik': 1791, 'batampku': 1792, 'terobosan': 1793, 'yng': 1794, 'mempercepat': 1795, 'pintasan': 1796, 'misal': 1797, 'aceh': 1798, 'dllpenerbangan': 1799, 'wings': 1800, 'kapasitas': 1801, 'gr': 1802, 'suma': 1803, 'gpp': 1804, 'berangkantnya': 1805, 'dini': 1806, 'brunch': 1807, 'sahabat': 1808, 'terbukti': 1809, 'hehehe': 1810, 'ngerasa': 1811, 'gw': 1812, 'spent': 1813, 'worth': 1814, 'ibarat': 1815, 'brand': 1816, 'declare': 1817, 'ingkarin': 1818, 'janji': 1819, 'mah': 1820, 'biaasa': 1821, 'gada': 1822, 'simple': 1823, 'surabayasolo': 1824, 'hnaya': 1825, 'tidur': 1826, 'personal': 1827, 'entertainmentnya': 1828, 'mepetmepet': 1829, 'sewaktu': 1830, 'papua': 1831, 'lancartidak': 1832, 'delayhanya': 1833, 'gerbang': 1834, 'tertatakarena': 1835, 'sekalitetapi': 1836, 'ln': 1837, 'nasional': 1838, 'rangka': 1839, 'umroh': 1840, 'optimal': 1841, 'dashboard': 1842, 'selimut': 1843, 'standard': 1844, 'crewnya': 1845, 'bersitegang': 1846, 'pembimbing': 1847, 'sholat': 1848, 'berdiri': 1849, 'sisi': 1850, 'pernerbangan': 1851, 'pramugaranya': 1852, 'beretika': 1853, 'bersikap': 1854, 'santun': 1855, 'kosong': 1856, 'menjawab': 1857, 'ketus': 1858, 'diam': 1859, 'membukakan': 1860, 'ekspresi': 1861, 'mukanya': 1862, 'sress': 1863, 'sebelumsebelumnya': 1864, 'lowbat': 1865, 'kebat': 1866, 'kebit': 1867, 'ditangguhkan': 1868, 'cuekin': 1869, 'kalopun': 1870, 'berjamaah': 1871, 'mulailah': 1872, 'telinga': 1873, 'mata': 1874, 'mulut': 1875, 'bersinergi': 1876, 'penerbanganpun': 1877, 'arrrgggghhhh': 1878, 'memuncak': 1879, 'dilapangan': 1880, 'bingung': 1881, 'bagaimana': 1882, 'bu': 1883, 'kemana': 1884, 'mba': 1885, 'hadeuh': 1886, 'type': 1887, 'know': 1888, 'who': 1889, 'denpasarnamun': 1890, 'jakartatetapi': 1891, 'audah': 1892, 'terlanjut': 1893, 'bagasisetelah': 1894, 'barabg': 1895, 'sayabahkan': 1896, 'nihilkemanakah': 1897, 'sayaterima': 1898, 'tournament': 1899, 'morotai': 1900, 'island': 1901, 'telp': 1902, 'mengejutkan': 1903, 'ternate': 1904, 'bla': 1905, 'blasetelah': 1906, 'palu': 1907, 'beranikan': 1908, 'pancing': 1909, 'terangkut': 1910, 'mudahan': 1911, 'disamping': 1912, 'tentunya': 1913, 'commitment': 1914, 'menjaga': 1915, 'ditujuan': 1916, 'jadwalkeep': 1917, 'upbravo': 1918, 'sempet': 1919, 'penanganan': 1920, 'agency': 1921, 'recommended': 1922, 'memaklumi': 1923, 'direschedule': 1924, 'tinggalkan': 1925, 'tergiur': 1926, 'trik': 1927, 'commit': 1928, 'memanage': 1929, 'late': 1930, 'our': 1931, 'nature': 1932, 'penwrbangan': 1933, 'berlebihan': 1934, 'baiknya': 1935, 'diinformasikan': 1936, 'buru': 1937, 'berguna': 1938, 'comply': 1939, 'numpang': 1940, 'nunggang': 1941, 'maksudanya': 1942, 'samping': 1943, 'ramamah': 1944, 'kayaknya': 1945, 'papa': 1946, 'menghentak': 1947, 'ditraining': 1948, 'offnya': 1949, 'terlabat': 1950, 'sampainya': 1951, 'testimoni': 1952, 'ttg': 1953, 'negative': 1954, 'blm': 1955, 'delayedpelayanan': 1956, 'pecah': 1957, 'airtidak': 1958, 'sulit': 1959, 'persulit': 1960, 'berpendapat': 1961, 'lagu': 1962, 'jemput': 1963, 'delayedso': 1964, 'benahi': 1965, 'peremajaandiperbarui': 1966, 'nice': 1967, 'next': 1968, 'airbus': 1969, 'berbadan': 1970, 'lebar': 1971, 'berkapasitas': 1972, 'kawasan': 1973, 'empat': 1974, 'berbiaya': 1975, 'rendah': 1976, 'jendela': 1977, 'diletakan': 1978, 'dimintakan': 1979, 'rearrange': 1980, 'ulang': 1981, 'bantuan': 1982, 'bertukar': 1983, 'arrangement': 1984, 'dudik': 1985, 'membaik': 1986, 'attitude': 1987, 'stewardess': 1988, 'copilot': 1989, 'pilotcopilot': 1990, 'berikutnya': 1991, 'bergantian': 1992, 'belakang': 1993, 'putih': 1994, 'er': 1995, 'dibanggain': 1996, 'apanya': 1997, 'orgnya': 1998, 'tersiksa': 1999, 'conecting': 2000, 'membelinya': 2001, 'indomaret': 2002, 'totally': 2003, 'worst': 2004, 'dans': 2005, 'sarana': 2006, 'prasarana': 2007, 'seusai': 2008, 'menepis': 2009, 'tentang': 2010, 'menghadang': 2011, 'memperhitungkan': 2012, 'tanggungtanggung': 2013, 'terobati': 2014, 'biskuat': 2015, 'lapar': 2016, 'thumbs': 2017, 'down': 2018, 'bicara': 2019, 'diuntungkan': 2020, 'kaaren': 2021, 'ditungguin': 2022, 'keramahan': 2023, 'tembok': 2024, 'tulus': 2025, 'digodain': 2026, 'jail': 2027, 'penundaanjadwal': 2028, 'boardingketika': 2029, 'maafsetelah': 2030, 'menganjurkan': 2031, 'ketahui': 2032, 'pindahkan': 2033, 'beda': 2034, 'repot': 2035, 'mengantarkan': 2036, 'kursinya': 2037, 'wanita': 2038, 'bawaannya': 2039, 'storage': 2040, 'mempedulikan': 2041, 'turis': 2042, 'perkataan': 2043, 'pantas': 2044, 'ucapkan': 2045, 'airlines': 2046, 'manado': 2047, 'berlangsung': 2048, 'berkumpul': 2049, 'bergurau': 2050, 'tirai': 2051, 'tertutuptidak': 2052, 'area': 2053, 'pindahan': 2054, 'ribet': 2055, 'ragu': 2056, 'mendesak': 2057, 'jaringan': 2058, 'sosial': 2059, 'menyatakan': 2060, 'mentri': 2061, 'perhubungan': 2062, 'hard': 2063, 'over': 2064, 'all': 2065, 'trending': 2066, 'topik': 2067, 'pandai': 2068, 'hebatnya': 2069, 'list': 2070, 'dilihat': 2071, 'milik': 2072, 'wowsebuah': 2073, 'merajai': 2074, 'penguasa': 2075, 'paket': 2076, 'hemat': 2077, 'menandingi': 2078, 'hehesalut': 2079, 'dibutuhkan': 2080, 'kece': 2081, 'hehesemangat': 2082, 'kamu': 2083, 'husein': 2084, 'sastranegara': 2085, 'lokasinya': 2086, 'trip': 2087, 'advisormohon': 2088, 'hujan': 2089, 'badai': 2090, 'berarti': 2091, 'burukkoper': 2092, 'wktu': 2093, 'palembangdan': 2094, 'ampe': 2095, 'bloom': 2096, 'pergantianslu': 2097, 'ajaa': 2098, 'pdhal': 2099, 'murahtp': 2100, 'klu': 2101, 'byk': 2102, 'msalahnyaabad': 2103, 'msalah': 2104, 'laen': 2105, 'miring': 2106, 'slaluu': 2107, 'tukar': 2108, 'slalu': 2109, 'lambat': 2110, 'sebel': 2111, 'tapii': 2112, 'bagai': 2113, 'mna': 2114, 'ituu': 2115, 'jga': 2116, 'baugak': 2117, 'wangi': 2118, 'mentang': 2119, 'murahfasilitas': 2120, 'ruangan': 2121, 'cyantikin': 2122, 'stile': 2123, 'lamanya': 2124, 'ngangkat': 2125, 'bantuin': 2126, 'mintain': 2127, 'dibantuin': 2128, 'kencing': 2129, 'didudukannya': 2130, 'dipakai': 2131, 'flash': 2132, 'jorok': 2133, 'tunda': 2134, 'dikabarin': 2135, 'kabarin': 2136, 'terkenal': 2137, 'pintar': 2138, 'terendah': 2139, 'scedule': 2140, 'memuasakan': 2141, 'layani': 2142, 'tercantik': 2143, 'isu': 2144, 'ditolerir': 2145, 'pemberangkatan': 2146, 'lari': 2147, 'palangkaraya': 2148, 'pertma': 2149, 'pasca': 2150, 'kecelakaan': 2151, 'duu': 2152, 'ber': 2153, 'jamjam': 2154, 'rasakan': 2155, 'airfi': 2156, 'bosan': 2157, 'pkusub': 2158, 'pelanggannya': 2159, 'oh': 2160, 'muatan': 2161, 'tp': 2162, 'berbaik': 2163, 'retime': 2164, 'mengkonfirmasi': 2165, 'meretime': 2166, 'dibayar': 2167, 'jadinya': 2168, 'dinyalakansuhunya': 2169, 'diturunkan': 2170, 'kegerahan': 2171, 'lainlainnya': 2172, 'ditiadakan': 2173, 'problem': 2174, 'have': 2175, 'i': 2176, 'am': 2177, 'every': 2178, 'thing': 2179, 'was': 2180, 'due': 2181, 'operational': 2182, 'reason': 2183, 'wowlama': 2184, 'nian': 2185, 'membagikan': 2186, 'kue': 2187, 'sepadan': 2188, 'kesalahannya': 2189, 'regulator': 2190, 'kemenhub': 2191, 'bias': 2192, 'liner': 2193, 'menyengsarakan': 2194, 'berpihak': 2195, 'sungguhsungguh': 2196, 'menepati': 2197, 'pemerintah': 2198, 'terkait': 2199, 'dinilai': 2200, 'segelas': 2201, 'soft': 2202, 'drink': 2203, 'safety': 2204, 'demo': 2205, 'manual': 2206, 'mundur': 2207, 'port': 2208, 'stop': 2209, 'pd': 2210, 'berdasarkan': 2211, 'keterlambaran': 2212, 'penerabangan': 2213, 'terkemuka': 2214, 'tenggara': 2215, 'target': 2216, 'sepele': 2217, 'penyediaan': 2218, 'magazine': 2219, 'majalah': 2220, 'menggugah': 2221, 'bertekad': 2222, 'rasanya': 2223, 'berpikiran': 2224, 'berawan': 2225, 'getarannya': 2226, 'pengaruh': 2227, 'awan': 2228, 'terbentur': 2229, 'saking': 2230, 'kuatnya': 2231, 'waduhh': 2232, 'parahh': 2233, 'tolerir': 2234, 'nah': 2235, 'kekesalan': 2236, 'berlanjut': 2237, 'dirumah': 2238, 'bsa': 2239, 'ketidaksengajaan': 2240, 'mencungkil': 2241, 'password': 2242, 'kuncinya': 2243, 'omg': 2244, 'luggage': 2245, 'pkujkt': 2246, 'sangatsangat': 2247, 'sebanding': 2248, 'counternya': 2249, 'bandar': 2250, 'lampung': 2251, 'agen': 2252, 'mengirim': 2253, 'keliru': 2254, 'menelpon': 2255, 'kembalikan': 2256, 'cemas': 2257, 'memfasilitasi': 2258, 'jogjapalembang': 2259, 'plgjogja': 2260, 'jogjaplg': 2261, 'pilihannya': 2262, 'efektif': 2263, 'lemot': 2264, 'kesel': 2265, 'kepengin': 2266, 'bertiga': 2267, 'sederet': 2268, 'berempat': 2269, 'kode': 2270, 'saling': 2271, 'lempar': 2272, 'sementara': 2273, 'pisah': 2274, 'sebaris': 2275, 'sepenuhnya': 2276, 'earphone': 2277, 'segi': 2278, 'bertubuh': 2279, 'meja': 2280, 'menginformasikan': 2281, 'kedalam': 2282, 'lelbih': 2283, 'aktif': 2284, 'mengatur': 2285, 'menaruh': 2286, 'mengawali': 2287, 'sambutan': 2288, 'sukai': 2289, 'ramahramah': 2290, 'penerbanganku': 2291, 'enjoy': 2292, 'meriah': 2293, 'sukses': 2294, 'pahlawan': 2295, 'merah': 2296, 'sembilan': 2297, 'persen': 2298, 'keduanya': 2299, 'keulang': 2300, 'sekotak': 2301, 'nasinya': 2302, 'tingi': 2303, 'space': 2304, 'ukran': 2305, 'keram': 2306, 'ngga': 2307, 'mantap': 2308, 'meningkatkan': 2309, 'kinerjanya': 2310, 'belinya': 2311, 'bahasi': 2312, 'kilo': 2313, 'dikenakan': 2314, 'charge': 2315, 'jemputan': 2316, 'arrival': 2317, 'sejam': 2318, 'nampak': 2319, 'jaman': 2320, 'macam': 2321, 'reliable': 2322, 'angkot': 2323, 'operation': 2324, 'digunakan': 2325, 'mindset': 2326, 'licik': 2327, 'memanfaatkan': 2328, 'celah': 2329, 'kelemahan': 2330, 'pandemi': 2331, 'calon': 2332, 'terjaring': 2333, 'mengcancel': 2334, 'menggeser': 2335, 'tebar': 2336, 'jala': 2337, 'dibeli': 2338, 'kongkalingkong': 2339, 'stakeholder': 2340, 'ngebikin': 2341, 'bthpnkbdo': 2342, 'bandun': 2343, 'menaati': 2344, 'menyalakan': 2345, 'jamuntungnya': 2346, 'amdk': 2347, 'gelasrotitapi': 2348, 'nyampe': 2349, 'malammengecewakan': 2350, 'selengkapnya': 2351, 'payah': 2352, 'flgiht': 2353, 'representative': 2354, 'memberitahukan': 2355, 'penggantian': 2356, 'parahnya': 2357, 'keluhan': 2358, 'menyalahkan': 2359, 'cara': 2360, 'profesional': 2361, 'etos': 2362, 'satisfaction': 2363, 'tangkas': 2364, 'kebutuhan': 2365, 'berguncang': 2366, 'sedunia': 2367, 'hang': 2368, 'nadim': 2369, 'tenyata': 2370, 'pertanggung': 2371, 'kerugian': 2372, 'kecilpun': 2373, 'tumpangi': 2374, 'laporan': 2375, 'bernasib': 2376, 'besi': 2377, 'punggunguntuk': 2378, 'patah': 2379, 'tersusun': 2380, 'pendakian': 2381, 'mengikat': 2382, 'menggunakannya': 2383, 'keamanan': 2384, 'tindakan': 2385, 'tegas': 2386, 'pendisiplinan': 2387, 'pegawai': 2388, 'akui': 2389, 'membanting': 2390, 'melupakan': 2391, 'kulitas': 2392, 'keuntungan': 2393, 'dinas': 2394, 'bertujuh': 2395, 'kapasitasnya': 2396, 'berkurang': 2397, 'berdebat': 2398, 'beralasan': 2399, 'logikanya': 2400, 'mendahulukan': 2401, 'meduduki': 2402, 'dikursi': 2403, 'pelanggaran': 2404, 'perbaikin': 2405, 'managemen': 2406, 'seringsering': 2407, 'terjadwal': 2408, 'terlampaui': 2409, 'diundur': 2410, 'alihalih': 2411, 'terbaru': 2412, 'mie': 2413, 'kemasan': 2414, 'walapun': 2415, 'memerlukan': 2416, 'kesabaran': 2417, 'ketahanan': 2418, 'fisik': 2419, 'ambon': 2420, 'pemikiran': 2421, 'kesamaan': 2422, 'code': 2423, 'conduct': 2424, 'patimura': 2425, 'diloloskan': 2426, 'ditenteng': 2427, 'hatihatilah': 2428, 'persepsi': 2429, 'improvement': 2430, 'segala': 2431, 'servis': 2432, 'muda': 2433, 'msh': 2434, 'dipertanyakan': 2435, 'mnt': 2436, 'berlari': 2437, 'trus': 2438, 'fungsinya': 2439, 'lcc': 2440, 'julukan': 2441, 'tadinya': 2442, 'action': 2443, 'care': 2444, 'liat': 2445, 'subuh': 2446, 'dehhh': 2447, 'complaint': 2448, 'nihhh': 2449, 'kenyataannya': 2450, 'akap': 2451, 'menyedihkan': 2452, 'kepaksa': 2453, 'hawa': 2454, 'suhu': 2455, 'longgar': 2456, 'delayednya': 2457, 'interiornya': 2458, 'hanggar': 2459, 'cargo': 2460, 'pemngambilan': 2461, 'disediakan': 2462, 'pax': 2463, 'berhenti': 2464, 'teriak': 2465, 'mencontoh': 2466, 'usahanya': 2467, 'manajemennya': 2468, 'semenamena': 2469, 'slot': 2470, 'masuh': 2471, 'perasaan': 2472, 'unsafe': 2473, 'accident': 2474, 'blown': 2475, 'up': 2476, 'flying': 2477, 'very': 2478, 'choice': 2479, 'hijau': 2480, 'situasi': 2481, 'sepi': 2482, 'indan': 2483, 'sebagian': 2484, 'memperdulikan': 2485, 'memproses': 2486, 'serius': 2487, 'digubris': 2488, 'soeta': 2489, 'hrs': 2490, 'pndah': 2491, 'setempat': 2492, 'imigrasi': 2493, 'conveyor': 2494, 'belt': 2495, 'menemukan': 2496, 'lost': 2497, 'found': 2498, 'stenpat': 2499, 'mengantar': 2500, 'akomodasi': 2501, 'kedatangan': 2502, 'memeriksa': 2503, 'label': 2504, 'terusan': 2505, 'mei': 2506, 'prasangka': 2507, 'mengenai': 2508, 'perbaiki': 2509, 'kemajuan': 2510, 'bermasalah': 2511, 'landasnya': 2512, 'bukanlah': 2513, 'warung': 2514, 'lesehan': 2515, 'lima': 2516, 'bayarnya': 2517, 'siapsiap': 2518, 'dipimpong': 2519, 'sanya': 2520, 'int': 2521, 'responsif': 2522, 'prihatin': 2523, 'praya': 2524, 'muncul': 2525, 'merespon': 2526, 'mengancam': 2527, 'keberadaan': 2528, 'lapor': 2529, 'berwajib': 2530, 'ketemu': 2531, 'dianteranter': 2532, 'gembok': 2533, 'protol': 2534, 'baju': 2535, 'minum': 2536, 'board': 2537, 'serobot': 2538, 'beruntun': 2539, 'quality': 2540, 'traveloka': 2541, 'panjangnya': 2542, 'terlampir': 2543, 'mental': 2544, 'hehehepernah': 2545, 'udele': 2546, 'dewe': 2547, 'flighteh': 2548, 'jadilah': 2549, 'haridengan': 2550, 'sepethehehe': 2551, 'ngalamin': 2552, 'duduknya': 2553, 'puaslah': 2554, 'januari': 2555, '<pad>': 0}\n"
     ]
    }
   ],
   "source": [
    "from keras.preprocessing.text import Tokenizer\n",
    "\n",
    "NUM_WORDS = 100\n",
    "OOV_TOKEN = '<unk>'\n",
    "\n",
    "tokenizer = Tokenizer(num_words=100, oov_token=OOV_TOKEN, lower=True)   \n",
    "tokenizer.fit_on_texts(trainX)\n",
    "\n",
    "tokenizer.word_index['<pad>'] = 0\n",
    "tokenizer.index_word[0] = '<pad>'\n",
    "\n",
    "word_index = tokenizer.word_index\n",
    "print(word_index)"
   ]
  },
  {
   "cell_type": "code",
   "execution_count": 402,
   "metadata": {},
   "outputs": [
    {
     "data": {
      "text/plain": [
       "2556"
      ]
     },
     "execution_count": 402,
     "metadata": {},
     "output_type": "execute_result"
    }
   ],
   "source": [
    "len(word_index)"
   ]
  },
  {
   "cell_type": "code",
   "execution_count": 403,
   "metadata": {},
   "outputs": [
    {
     "name": "stdout",
     "output_type": "stream",
     "text": [
      "[[1, 14, 1, 64, 1, 1, 11, 12, 82, 15, 4, 1, 14, 97, 16, 1, 12, 11, 4, 2, 1, 1, 1, 14, 1, 1, 22, 12, 59, 4, 30, 68, 21], [55, 26, 1, 1, 15, 14, 71, 1, 26, 1, 48, 1, 23, 1, 1, 1, 1, 11, 26, 1, 1, 1, 21, 26, 1, 1, 21, 1, 38, 1, 1, 1, 1], [11, 83, 80, 4, 34, 95, 72, 98, 1, 1, 1, 29, 41, 3, 30, 42], [2, 18, 1, 1, 46, 1, 10, 16, 1, 7, 1, 6, 1, 1, 9, 73, 1, 5, 10, 1, 1, 50, 16, 7, 59, 7, 1, 1, 54, 3, 1, 17, 1, 1, 21, 1, 7, 99, 6, 56, 1, 1, 7, 99, 6, 56, 1], [5, 10, 1, 1, 1, 1, 1, 1, 86, 55, 35, 1, 16, 1, 6, 1, 1, 1, 2, 8, 1, 1, 1, 1, 14, 1, 31], [2, 1, 5, 10, 3, 11, 5, 10, 1, 1, 1, 15, 11, 1, 1, 2, 14, 1, 1, 1, 11, 1, 5, 10, 23, 1, 1, 1, 1, 8, 1, 97, 28, 1, 57, 59, 1, 53, 1, 1, 1, 1, 1, 7, 1, 1, 1, 1, 25, 15, 35, 1, 8, 1, 1, 76, 1, 29, 4, 1, 1, 1, 25, 4, 1, 1, 1, 1, 1, 6, 76, 13, 35, 8, 1, 1, 22, 1, 2, 1, 1, 11, 12, 15, 14, 12, 1, 1, 4, 8, 1, 1, 1, 2, 23, 8, 1, 3, 1, 1, 1, 1, 1, 4, 1, 1, 3, 1, 1, 1, 1, 1, 6, 76, 1, 13, 23, 8, 1, 1, 1, 1, 4, 1, 35, 8, 1, 2, 23, 1, 1, 15, 14, 1, 1, 3, 33, 87, 1, 5, 10, 1, 1, 1, 1, 15, 1, 1, 1, 1, 1, 1, 5, 10, 1, 35, 48, 1, 1, 48, 1, 33, 87, 43, 1, 1, 1, 1, 1, 2, 82, 15, 1, 1, 6, 1, 14], [32, 9, 19, 61, 65, 5, 60, 15, 88, 66, 24, 31, 89, 3, 70, 62, 50, 47, 51, 7, 77, 6, 19, 7, 78, 7, 79, 32, 9, 19, 37, 90, 5], [32, 9, 19, 61, 65, 5, 60, 15, 88, 66, 24, 31, 89, 3, 70, 62, 50, 47, 51, 7, 77, 6, 19, 7, 78, 7, 79, 32, 9, 19, 37, 90, 5], [28, 1, 67, 13, 4, 1, 5, 10, 97, 36, 4, 1, 34, 1, 2, 64, 46, 5, 1, 29, 1, 1], [1, 49, 41, 41, 1, 49, 1, 1, 36, 49, 1, 1, 1, 49, 37, 1, 1, 1, 83, 80, 1], [1, 1, 1, 69, 1, 16, 12, 1, 4, 1, 1, 92, 1, 1, 2, 8, 71, 1, 15, 14, 69, 92, 1, 1, 1, 48, 1, 22, 1, 4, 34, 3, 1, 4, 1, 1, 1, 1, 31, 3, 42, 55, 25, 4, 1, 1, 3, 1, 1, 1, 1, 1], [92, 1, 5, 10, 1, 1, 16, 1, 1, 2, 1, 1, 11, 18, 1, 1, 84, 1, 7, 1, 1, 25, 4, 1, 1, 1, 1, 1, 1, 1, 8, 1, 1, 1, 8, 1, 1, 1, 1, 1, 1, 24, 1, 55, 3, 70, 1, 34], [44, 1, 1, 1, 7, 11, 1, 1, 1, 96, 1, 1, 96, 1, 1, 1, 1, 1, 1, 1, 96, 44, 26, 1, 96, 44, 1, 76, 1, 1, 1, 1, 1, 1, 96, 1, 5, 10, 1, 1, 1, 1, 92, 60, 1, 7, 11, 1, 1, 71, 1, 15, 14, 1, 1, 49, 1, 33, 87], [16, 33, 18, 1, 7, 1, 55, 25, 4, 1, 8, 1, 1, 1, 13, 16, 23, 1, 1], [32, 9, 19, 61, 65, 5, 60, 15, 88, 66, 24, 31, 89, 3, 70, 62, 50, 47, 51, 7, 77, 6, 19, 7, 78, 7, 79, 32, 9, 19, 37, 90, 5], [15, 1, 4, 1, 1, 11, 1, 30, 1, 22, 55, 4, 16], [1, 1, 1, 1, 74, 1, 1, 1, 81, 6, 1, 1, 50, 62, 93, 1, 1, 1, 50, 1, 1, 1, 1, 1, 58, 48, 1], [2, 23, 1, 82, 15, 14, 39, 22, 1, 3, 7, 1, 26, 1, 24, 1, 14, 1, 2, 1, 18, 1, 1, 1, 2, 1, 11, 71, 1, 1, 39, 1, 1, 1, 16, 17, 1, 1, 35, 8, 1, 1, 1, 1, 1, 1], [2, 1, 82, 15, 5, 10, 1, 2, 1, 1, 1, 1, 12, 36, 1, 3, 1, 29, 23, 1, 1, 1, 1, 1, 1, 1, 25, 1, 4, 1, 1, 2, 1, 1, 1, 1, 28, 13, 16, 1, 1, 1, 3, 1, 1, 13, 14, 64, 16, 39, 40, 8, 1, 1, 2, 1, 1, 1, 1, 1, 82, 15, 14], [28, 1, 1, 6, 1, 1, 23, 1, 1, 1, 76, 13, 1, 1, 1, 1, 1, 1, 1, 35, 1, 24, 28, 1, 1, 67, 1, 1, 1, 1, 1, 1, 1], [1, 57, 1, 5, 1, 1, 16, 62, 1, 1, 65, 16, 1, 1, 1, 7, 1, 1, 34, 1, 1, 1, 1, 1, 1, 1, 1, 26, 1, 1, 1, 1, 5, 1, 75, 49, 55, 1, 40, 26, 93, 1, 93, 1, 53, 1], [28, 2, 71, 1, 84, 1, 1, 29, 4, 1, 1, 1, 15, 5, 23, 1, 3, 1, 2, 52, 28, 40, 7, 1, 1, 91, 1, 1, 1, 27, 1, 1, 1, 1, 2, 3, 1, 2, 1, 4, 23, 1], [47, 68, 21, 18, 19, 3, 1, 6, 73, 12, 1, 1, 4, 41, 3, 1, 4, 1, 87], [2, 1, 65, 5, 10, 47, 1, 3, 54, 6, 56, 13, 27, 1, 22, 1, 1, 1, 1, 1, 1, 13, 26, 1, 1, 1, 67, 1, 1, 1, 6, 1, 3, 1, 6, 1, 1, 1, 39, 1, 1, 1, 2, 1, 1, 1, 1, 1, 1, 1, 1, 63, 1, 45, 1, 6, 1, 1, 56, 1, 93, 1, 1, 1, 1, 13, 1, 93, 1, 93, 1, 1, 26, 1, 17, 1, 1, 1, 50, 1, 1, 5, 10, 1, 1, 1, 56, 13, 63, 1, 1, 58, 1, 59, 13, 24, 5, 10, 50, 26, 1, 1, 3, 17, 43, 7, 1, 1, 2, 54, 6, 56, 7, 1, 1, 1, 23, 8, 1, 65, 5, 10, 20, 1, 92, 93, 1, 1, 1, 60, 5, 10, 1], [92, 1, 1, 66, 1, 1, 15, 63, 1, 1, 67, 6, 15, 63, 85, 1, 46, 5, 53, 1, 1, 31, 1, 1, 1, 1, 1, 1, 8, 1, 18, 1, 25, 1, 8, 1, 1, 1, 64, 16, 1, 33, 1, 1, 16, 1, 1, 1, 1, 25, 1, 1, 3, 1, 6, 1, 1, 1, 1, 1, 1, 44, 1, 1, 1, 1, 44, 1, 1, 57, 1, 1, 1, 2, 1, 3, 1, 94, 1, 1, 4, 1, 1, 96, 2, 1, 1, 2, 1, 9, 1, 1, 44, 1, 1, 1, 1, 1, 1, 1, 39, 1, 1, 1, 1, 50, 1, 85, 1, 85, 2, 1, 1, 1, 1, 56, 33, 18, 1, 58, 1, 1, 1, 1, 1, 14, 33, 87, 5, 53, 48, 1, 1], [28, 40, 2, 82, 5, 10, 11, 1, 1, 11, 7, 1, 39, 17, 1, 16, 54, 7, 1, 28, 7, 1, 17, 1, 43, 92, 16, 39, 8, 1, 1, 7, 1, 92, 17, 25, 4, 1, 1, 1, 1, 39, 22, 28, 40, 2, 8, 48, 99, 54, 11, 1, 1, 1, 2, 1, 99, 1, 5, 10, 1, 2, 1, 1, 25, 63, 1, 40, 35, 22, 1, 16, 1, 33, 18, 7, 1, 5, 10, 1, 1, 1, 1, 1, 3, 35, 1, 1, 1, 1, 1, 1, 1, 20, 1, 1, 1, 1, 2, 1, 1, 25, 1, 1, 9, 73, 51, 7, 1, 1, 4, 30, 1, 1, 1, 7, 1, 1, 21, 3, 1], [57, 1, 1, 16, 6, 15, 5, 10, 14, 94, 1, 4, 1, 1, 22, 1, 16, 20, 83, 80, 6, 5, 10, 1, 84, 1, 14, 1, 8, 1, 1, 12, 1, 1, 1, 24, 1, 5, 10, 8, 48, 1, 1, 94, 1, 3, 1, 5, 10, 8, 17, 1, 1, 3, 1, 1, 6, 13, 94, 6, 1, 1, 1, 6, 1, 5, 10, 8, 17, 83, 1, 1, 1, 12, 44, 22, 55, 1, 1, 1, 44, 1, 1, 1, 1, 44, 1, 2, 1, 1, 1, 96, 44, 2, 1, 1, 33, 34, 18, 15, 63, 1, 1, 1, 36, 1, 55, 1, 37, 1, 1, 1, 16, 3, 1, 1, 1, 1, 1, 44, 1], [11, 83, 80, 4, 34, 95, 72, 98, 1, 1, 1, 29, 41, 3, 30, 42], [1, 2, 1, 55, 1, 18, 15, 4, 63, 1, 1, 5, 48, 1, 15, 1, 25], [27, 1, 57, 38, 18, 1, 9, 1, 1, 1, 82, 5, 10, 8, 1, 16], [44, 8, 54, 6, 1, 1, 6, 1, 1, 1, 1, 1, 1, 1, 1, 1, 20, 1, 60, 1, 1, 23, 23, 1, 1, 14, 1, 1, 13, 6, 84, 22, 1, 5, 10, 18, 1, 16, 5, 10, 23, 1, 1, 17, 15, 63, 6, 1], [1, 71, 33, 1, 1, 1, 82, 1, 4, 23, 1, 3, 4, 27, 1, 1, 1, 1, 1, 1, 1, 1, 1, 1], [1, 53, 16, 1, 7, 3, 53, 1, 1, 11, 4, 8, 42, 1, 1, 1, 39, 1, 1, 1, 1, 1, 43], [1, 1, 1, 1, 1, 3, 1, 1, 1, 23, 8, 1, 1, 1, 1, 25, 1, 1, 44, 54, 1, 7, 23, 1], [32, 9, 19, 61, 65, 5, 60, 15, 88, 66, 24, 31, 89, 3, 70, 62, 50, 47, 51, 7, 77, 6, 19, 7, 78, 7, 79, 32, 9, 19, 37, 90, 5], [11, 9, 1, 1, 86, 1, 1, 12, 1, 49, 4, 1, 11, 1, 1, 1, 51, 7, 81, 29, 23, 87, 12, 1, 4, 41, 3, 1, 1, 1, 4, 1, 13, 38, 12, 1, 1, 86, 17, 1, 1, 23, 1, 38, 12, 5, 1, 1, 1], [32, 9, 19, 61, 65, 5, 60, 15, 88, 66, 24, 31, 89, 3, 70, 62, 50, 47, 51, 7, 77, 6, 19, 7, 78, 7, 79, 32, 9, 19, 37, 90, 5], [13, 2, 18, 1, 9, 1, 7, 1, 1, 9, 1, 72, 1, 9, 1, 1, 1, 1, 96, 45, 1, 9, 73, 1, 1, 1, 54, 17, 1, 1, 1, 1, 1, 8, 1, 1, 1, 5, 3, 1, 1, 1, 1, 1, 1, 1, 45, 1, 1, 96, 45, 1, 9, 1, 1, 7, 1, 1, 1, 1, 1, 1, 52, 1, 85, 45, 8, 54, 68, 21, 20, 1, 96, 45, 1, 1, 96, 45, 27, 1, 1, 1, 1, 45, 27, 1, 9, 1, 1, 1, 1, 1, 1, 65, 1, 1, 50, 17, 1, 1, 4, 58, 93, 1, 1, 1, 1, 1, 31, 2, 8, 1], [11, 39, 7, 1, 1, 46, 1, 91, 15, 14, 30, 34, 39, 92, 1, 1, 55, 33, 18, 1, 1, 53, 1], [18, 19, 1, 1, 12, 36, 67, 1, 1, 20, 1, 1, 41, 1, 13, 16, 1, 7], [1, 15, 14, 43, 1, 49, 48, 1, 34, 36, 62, 1, 1, 1, 68, 20, 1, 11, 1, 1, 92, 20, 75, 12, 1, 62], [11, 1, 1, 4, 1, 55, 7, 38, 4, 1, 1, 1, 2, 36, 4, 23, 41, 3, 34, 1, 1, 26, 1, 68, 1, 1, 2, 1, 1, 5, 1, 1, 1, 1, 3, 16, 1, 8, 1, 1, 4, 1, 1, 1, 1, 1, 1, 36, 3, 59, 38, 4, 55, 3, 1, 6, 1, 1, 1, 1, 1, 1, 1, 1], [11, 83, 80, 4, 34, 95, 72, 98, 1, 1, 1, 29, 41, 3, 30, 42], [1, 1, 4, 1, 1, 1, 9, 1, 21, 4, 1, 36, 1, 27, 23, 1, 36, 67, 1, 10, 20, 1, 51, 1, 1, 1, 1, 1, 63, 12, 1, 67, 1, 1, 84, 12, 36, 1, 1, 91, 1, 1, 1, 2, 1, 1, 1, 1, 1, 1, 1, 1, 1, 11, 1, 16, 51, 7, 1, 11, 14, 8, 1, 9, 73, 1, 1, 5, 10, 2, 1, 20, 1, 52, 11, 1, 10, 1, 1, 1, 1, 1, 1, 1, 2, 48, 1, 1, 11, 1, 10, 12, 36, 67, 5, 10], [12, 1, 1, 1, 1, 71, 1, 1, 3, 1, 25, 1, 1, 22, 25, 23, 1, 1, 1, 1, 9, 76, 13, 1, 1, 1, 48, 6, 1, 52, 36, 67, 1], [1, 48, 1, 18, 1, 11, 4, 2, 1, 1, 15, 14, 1, 31, 36, 4, 23, 1, 1, 1, 22, 23, 41, 12, 1, 1, 12, 1, 4, 1, 69, 29, 18, 1, 1, 41, 3, 1, 1, 1, 5, 1, 48, 1, 12, 1, 1, 76, 1, 1, 25, 1, 72, 5, 4, 1, 52, 1, 4, 1, 1, 9, 1, 48, 85, 1, 74, 29, 3, 1, 1, 1, 69, 1, 12, 36, 1], [32, 9, 19, 61, 65, 5, 60, 15, 88, 66, 24, 31, 89, 3, 70, 62, 50, 47, 51, 7, 77, 6, 19, 7, 78, 7, 79, 32, 9, 19, 37, 90, 5], [11, 52, 1, 1, 68, 21, 18, 1, 1, 28, 1, 3, 1, 1, 1, 3, 1, 15, 14, 1, 1, 1, 1, 25, 1, 1, 1, 1, 11, 1, 7, 81, 14], [11, 1, 12, 5, 10, 1, 1, 1, 22, 13, 27, 1, 6, 56, 1, 3, 8, 1, 1, 99], [36, 4, 34, 20, 67, 1, 1, 40, 35, 1, 1, 1, 21, 11, 1, 64, 16], [2, 1, 5, 10, 22, 36, 1, 4, 1, 34, 39, 1, 36, 34, 1, 12, 29, 13, 45, 16, 1, 1, 1, 1, 6, 1], [1, 1, 1, 38, 12, 63, 10, 22, 1, 1, 1, 1, 46, 5, 10, 1, 1, 57, 14, 11, 84, 1, 1, 73, 1, 12, 23, 87, 1, 1, 3, 1, 35, 87, 24, 87, 6, 1, 1, 73, 8, 17, 1, 1, 35, 1, 13, 8, 6, 1, 1, 26, 1, 1, 1, 25, 53, 1, 1, 1, 1, 1, 1, 13, 1, 46, 43, 1, 13, 33, 1, 43, 4, 18, 73, 46, 1, 23, 1, 1, 63, 4, 1, 28, 99, 6, 13, 1, 38, 1, 18, 46, 54, 1, 38, 1, 81, 7, 81, 1, 1, 13, 23, 1, 1, 8, 42, 1, 14, 8, 2, 1, 6, 13, 63, 1, 13, 4, 1, 1, 1, 13, 1, 1, 74, 1, 1], [32, 9, 19, 61, 65, 5, 60, 15, 88, 66, 24, 31, 89, 3, 70, 62, 50, 47, 51, 7, 77, 6, 19, 7, 78, 7, 79, 32, 9, 19, 37, 90, 5], [1, 13, 58, 1, 74, 1, 1, 30, 1, 39, 1, 1, 23, 1, 1, 1, 25, 1], [2, 1, 1, 67, 11, 1, 9, 1, 22, 17, 1, 1, 1, 2, 36, 1, 4, 66, 8, 1, 34, 7, 1, 95, 1, 1, 1, 7, 18, 1, 68, 21, 7, 27, 1, 20, 91, 1, 1, 3, 1, 1, 51, 7, 1, 6, 1, 35, 68, 18, 1, 85, 1, 1, 5, 1, 16, 2, 35, 1, 1, 1, 22, 1, 1, 2, 1, 49, 5], [2, 3, 25, 1, 6, 72, 1, 52, 28, 91, 22, 1, 1, 99, 1, 1, 6, 91, 1, 8, 1, 12, 1, 46, 13, 52, 28, 1, 1, 1, 23, 1, 3, 1, 1, 1, 1, 8, 1, 1, 1, 52, 28, 1, 1, 43, 1, 74, 1, 56], [15, 4, 1, 14, 1, 2, 97, 1, 1, 4, 1, 16, 97, 1, 4, 1, 12, 5, 10, 1, 1, 40, 64, 57, 8, 1, 25, 4, 1, 22, 1, 16, 97, 1, 4, 1, 1, 15, 14, 97, 1, 55, 1, 59, 55, 3, 36, 67, 4, 34], [5, 10, 1, 1, 84, 47, 1, 3, 1, 51, 1, 30, 42, 20, 1, 75, 1, 1, 6, 73, 36, 30, 1], [5, 10, 1, 21, 4, 1, 1, 16, 39, 1, 14, 5, 1, 1, 1, 1, 1, 1, 14, 48, 1], [23, 1, 36, 1, 29, 4, 41, 1, 3, 1, 1, 47, 68, 21], [14, 1, 1, 2, 38, 82, 5, 10, 2, 1, 15, 14, 22, 24, 15, 14, 4, 7, 1, 1, 12, 21, 4, 2, 1, 11, 57, 14, 1, 12, 16, 4, 24, 81, 1, 1, 37, 1, 29, 1, 6, 1, 23, 1, 8, 17, 1, 6, 15, 14, 1, 11, 22, 86, 14, 1, 1, 75, 1, 13, 23, 1], [1, 57, 2, 46, 1, 10, 1, 1, 1, 17, 1, 1, 1, 1, 1, 1, 1, 1, 1, 1, 2, 1, 1, 1, 23, 1, 3, 41], [20, 1, 1, 4, 1, 1, 1, 1, 1, 1, 82, 1, 1, 1, 2, 1, 33, 87, 1, 5, 10, 31, 1, 64, 16, 1, 1, 36, 1, 33, 1, 20, 1, 1, 4, 1, 1, 1, 8, 1, 1], [11, 57, 14, 1, 5, 10, 30, 42, 1, 21, 1, 3, 1, 1, 1, 59], [11, 83, 80, 4, 34, 95, 72, 98, 1, 1, 1, 29, 41, 3, 30, 42], [1, 1, 1, 45, 82, 15, 14, 22, 24, 75, 14, 26, 1, 11, 1, 1, 1, 1, 1, 13, 1, 11, 45, 1, 1, 57, 1, 17, 1, 45, 53, 64, 1, 1, 1, 45, 53, 99, 13, 18, 1, 3, 1, 1, 43, 1, 13, 18, 1, 3, 1, 45, 47, 7, 1, 1, 1, 45, 26, 1, 1, 7, 1, 1, 1], [1, 1, 57, 1, 16, 69, 1, 1, 1, 29, 4, 1, 1, 1, 3, 36, 4, 6, 1, 35, 33, 34, 1, 15, 63, 12, 1, 4, 1], [11, 83, 80, 4, 34, 95, 72, 98, 1, 1, 1, 29, 41, 3, 30, 42], [12, 1, 5, 10, 4, 64, 16, 1, 11, 14, 8, 16, 1, 12, 1, 1, 1, 1, 1, 1, 94, 5, 10, 1, 1, 1, 22, 44, 2, 96, 1, 1, 1, 1, 48, 1, 3, 2, 1, 1, 1, 1, 1, 1, 3, 1, 60, 1, 1, 4, 2, 1, 1, 1, 1, 1, 1, 4, 27, 1, 1, 27, 1, 96, 4, 1, 1, 1, 1, 1, 1, 1, 1, 1, 1, 1], [1, 1, 56, 1, 1, 1, 1, 6, 1, 2, 1, 20, 1, 67, 3, 44, 1, 27, 17, 1, 1, 8, 17, 1, 1, 1, 20, 6, 56, 63, 52, 28, 1, 3, 13, 71, 47, 81, 1, 59, 47, 61, 17, 1, 20, 1, 1, 1, 1, 1, 1, 1, 20, 4, 58, 1, 1, 1, 14, 8, 17, 3, 1], [1, 1, 82, 1, 20, 54, 9, 13, 39, 1, 27, 1, 68, 21, 1, 40, 1, 1, 1, 11, 20, 1], [11, 1, 7, 1, 3, 1, 1, 7, 1, 7, 1, 1, 1, 54, 7, 58, 1, 48, 38, 35, 3, 74, 1, 1, 1, 1, 10, 1, 3, 1, 1, 4, 1, 25, 74, 48, 1, 13, 7, 1, 1, 4, 23, 1], [1, 57, 38, 12, 5, 10, 28, 14, 1, 27, 1, 1, 1, 1, 4, 27, 8, 1, 43, 1, 29, 4, 27, 1, 87, 75, 2, 1, 22, 13, 4, 53, 49, 6, 1, 1, 1, 1, 53, 1, 13, 1, 30, 1, 22, 24, 1, 7, 2, 30, 1, 1, 14, 22, 1, 97, 4, 1, 1, 1, 45, 6, 1, 1, 20, 99, 1, 1, 5, 10], [32, 9, 19, 61, 65, 5, 60, 15, 88, 66, 24, 31, 89, 3, 70, 62, 50, 47, 51, 7, 77, 6, 19, 7, 78, 7, 79, 32, 9, 19, 37, 90, 5], [21, 91, 3, 1, 1, 11, 1, 1, 5, 1, 4, 1, 1, 1, 1, 24, 8, 17, 1, 1, 1, 1, 1, 1, 1, 1, 1, 94, 1, 24, 1, 1, 1, 1, 3, 1, 1, 1, 12, 1, 5, 10, 1, 58, 74, 1, 49, 58, 23, 1, 1, 87, 24, 1, 1, 1, 1, 3, 52, 1, 10, 8, 1, 1, 1, 53, 1, 1, 1, 1, 1, 1, 6, 13, 1], [1, 1, 59, 11, 7, 1, 1, 1, 1, 1, 1, 15, 1, 1, 1, 92, 86, 1, 1, 1, 59, 18, 1, 1, 1, 50, 1, 59, 11], [11, 4, 87, 1, 1, 2, 20, 38, 52, 1, 1, 1, 13, 12, 36, 4, 1, 2, 30, 1, 12, 1, 4, 2, 1], [1, 5, 10, 1, 1, 9, 76, 96, 25, 3, 1, 1, 96, 25, 1, 1, 3, 1, 1, 1, 1, 1, 96, 1, 1, 2, 4, 1, 1, 1, 6, 76, 96, 1, 2, 1, 6, 1, 1, 1], [53, 1, 12, 1, 1, 6, 84, 3, 38, 12, 5, 10, 18, 1, 9, 84, 1, 1, 1, 1, 59, 4, 1, 1, 1, 1, 7, 1, 1, 4, 1, 3, 1, 25, 1, 1, 76, 1, 1, 12, 1, 4, 1, 2, 1, 18, 1, 1, 1, 1, 1, 7, 1, 54, 6, 84, 1, 59, 1, 1, 1, 2, 1, 33, 1, 1, 1, 1, 53, 9, 84, 18, 1], [5, 10, 1, 27, 8, 1, 43, 1, 35, 1, 70, 4, 1, 95, 1, 45, 1, 4, 1, 6, 1, 1], [1, 2, 9, 84, 1, 21, 7, 1, 18, 2, 99, 6, 1, 1, 1, 59, 1, 1, 1, 1, 16, 7, 68, 7, 74, 47, 3, 40, 1, 1, 78, 18, 1, 15, 1, 24, 1, 1, 31, 1, 1, 1, 1], [11, 83, 80, 4, 34, 95, 72, 98, 1, 1, 1, 29, 41, 3, 30, 42], [1, 82, 1, 4, 48, 1, 59, 11, 1, 8, 1, 21, 1, 1, 22, 99, 16, 4, 23, 1, 3, 35, 8, 1, 1, 18, 15], [8, 17, 1, 63, 1, 46, 5, 91, 1, 1, 1, 35, 1, 1, 22, 14, 1, 13, 1, 1, 47, 1, 1, 1, 41, 3, 25, 1, 1, 1, 15, 14, 1, 87], [32, 9, 19, 61, 65, 5, 60, 15, 88, 66, 24, 31, 89, 3, 70, 62, 50, 47, 51, 7, 77, 6, 19, 7, 78, 7, 79, 32, 9, 19, 37, 90, 5], [11, 83, 80, 4, 34, 95, 72, 98, 1, 1, 1, 29, 41, 3, 30, 42], [6, 1, 53, 1, 1, 43, 9, 1, 93, 8, 93, 53, 46, 13, 43, 1, 1, 11, 1, 1, 18, 84, 9, 1, 14, 1, 1, 16, 3, 68, 21, 1, 1, 1, 37], [1, 1, 1, 1, 5, 74, 1, 57, 2, 1, 1, 4, 1, 91, 33, 1, 18, 1, 3, 1, 54, 1, 1, 33, 1, 1, 8, 17, 1, 1, 1, 6, 1, 1, 1, 4, 58, 1, 1, 97, 1, 1, 1, 1, 58, 8, 1, 20, 1, 1, 18, 1, 1, 1, 33, 64, 43, 1, 1, 25, 76, 1], [1, 1, 2, 1, 8, 1, 42, 38, 12, 5, 10, 69, 1, 1, 24, 15, 1, 4, 1, 6, 98, 2, 38, 18, 84, 1, 73, 1, 38, 82, 1, 69, 1, 1, 28, 1, 6, 56, 1, 6, 1, 1, 1, 1, 12, 1, 1, 11, 16, 54, 1, 58, 1, 1, 69, 1, 31, 13, 2, 1, 6, 1, 4, 27, 16, 18, 1, 3, 1, 2, 1, 14, 1, 1, 18, 1, 5, 10, 22, 1, 1, 1, 1, 1, 11, 1, 1, 3, 1, 1, 25, 1, 1, 5, 71, 1, 1, 9, 25, 4, 1, 1, 1, 1, 33, 1, 3, 5, 10, 1, 1, 1, 1, 56, 1, 1, 38, 12, 4, 1, 1, 12, 1, 56, 1, 1, 2, 1, 1, 33, 1, 48, 38, 12, 15, 63, 4, 1, 21], [2, 1, 11, 14, 20, 1, 1, 2, 9, 1, 18, 73, 69, 16, 81, 2, 99, 1, 1, 13, 1, 2, 54, 6, 56, 1, 1, 2, 35, 99, 1, 20, 1, 44, 2, 2, 1, 10, 1, 1, 1, 1, 1], [74, 1, 1, 46, 5, 10, 3, 1, 16, 1, 23, 68, 1, 1, 87, 18, 5, 10, 1, 1, 23, 87, 3, 1, 1], [32, 9, 19, 61, 65, 5, 60, 15, 88, 66, 24, 31, 89, 3, 70, 62, 50, 47, 51, 7, 77, 6, 19, 7, 78, 7, 79, 32, 9, 19, 37, 90, 5], [27, 38, 82, 1, 5, 10, 1, 57, 3, 74, 57, 14, 1, 1, 1, 7, 81, 99, 6, 56, 1, 1, 1, 1, 46, 9, 13, 39, 54, 81, 33, 13, 8, 1, 38, 35, 3, 45, 1, 8, 1, 1, 1, 22, 1, 1, 7, 6, 1, 1, 74, 1], [32, 9, 19, 61, 65, 5, 60, 15, 88, 66, 24, 31, 89, 3, 70, 62, 50, 47, 51, 7, 77, 6, 19, 7, 78, 7, 79, 32, 9, 19, 37, 90, 5], [11, 83, 80, 4, 34, 95, 72, 98, 1, 1, 1, 29, 41, 3, 30, 42], [32, 9, 19, 61, 65, 5, 60, 15, 88, 66, 24, 31, 89, 3, 70, 62, 50, 47, 51, 7, 77, 6, 19, 7, 78, 7, 79, 32, 9, 19, 37, 90, 5], [2, 27, 1, 37, 12, 59, 5, 26, 64, 16, 92, 60, 1, 1, 17, 11, 63, 26, 1, 2, 1, 71, 1, 15, 14, 39, 14, 27, 1, 1, 45, 54, 1, 13, 1, 1, 1, 6, 1, 1, 1, 27, 1, 20, 1, 1, 1, 13, 71, 1, 1, 45, 27, 1, 7, 1, 11, 85, 1, 92, 1, 1, 1, 1, 25, 1, 55, 1, 1, 1, 1, 2, 1, 1, 1, 1, 1, 1, 1, 44, 3, 53, 9, 1, 40, 26, 1, 1, 1, 1, 62, 93, 46, 13, 6, 1, 1, 1, 1, 1, 1, 2, 1, 1, 2, 43, 9, 1, 1, 1, 1, 1, 1, 9, 44, 2, 1, 43, 1, 6, 1, 1, 1, 2, 1, 1, 1, 1, 2, 43, 9, 1, 1, 1, 1, 1, 46, 1, 3, 2, 1, 22, 2, 8, 93, 1, 1, 2, 20, 1, 57, 9, 1, 1, 1, 1, 1, 62, 2, 93, 1, 1, 1, 1, 1, 1, 63, 1, 37, 14, 1], [52, 1, 1, 4, 1, 2, 1, 9, 84, 82, 13, 5, 10, 2, 23, 1, 12, 1, 22, 52, 28, 2, 1, 1, 6, 1, 51, 7, 3, 1, 1, 1, 1, 1, 1, 1, 25, 52, 28, 1, 6, 56, 1, 1, 1, 12, 8, 1, 1, 1, 1, 25, 1, 1, 14, 97, 1, 1, 2, 82, 5, 10, 1, 1, 48, 1, 43, 6, 1, 1], [11, 18, 1, 9, 84, 68, 21, 3, 8, 16, 29, 35, 1, 3, 8, 17, 1, 1, 11], [94, 1, 15, 14, 1, 1, 1, 16, 1, 24, 16, 81, 1, 54, 7, 1], [11, 12, 1, 4, 34, 16, 7, 1, 1, 1, 22, 1, 1, 1, 2, 64, 1, 1, 6, 1, 1, 1], [1, 9, 1, 1, 1, 11, 16, 1, 1, 1, 13, 18, 1, 9, 1, 1, 1, 69, 18, 1, 9, 1, 33, 74, 1, 1, 1, 1, 1, 22, 27, 6, 1, 9, 1, 24, 1, 1, 31], [91, 68, 21, 29, 75, 1, 23, 1, 1, 1, 1, 1, 28, 1, 1, 3, 1, 1, 1, 1, 1, 4, 1, 1, 1, 4, 1, 1, 13, 1, 1, 1, 1, 1], [1, 6, 1, 5, 64, 16, 39, 52, 1, 1, 3, 1, 1, 1, 85, 37, 1, 38, 1, 5, 1], [55, 1, 6, 56, 1, 1, 1, 1, 24, 1, 1, 3, 1, 1, 1, 1, 1, 23, 1, 1, 1, 8, 1, 8, 41, 1, 1, 1, 1, 1, 1, 6, 1, 1, 2, 8, 1, 93, 1, 1, 15, 14, 79, 1, 1, 28, 1, 1, 1, 14, 71, 1, 1, 1, 3, 1, 1, 94, 14], [1, 1, 11, 1, 1, 1, 1, 1, 1, 1, 9, 1, 1, 1, 1, 4, 1, 1, 1, 1, 1, 8, 1, 1, 1, 1, 5, 4, 1, 1, 1, 23, 1, 1, 1, 1, 1, 4, 8, 1, 1, 1, 1, 1, 1, 1, 1, 1, 5, 33, 1, 1, 2, 8, 1, 46, 1, 14, 22, 1, 31, 1, 1, 21, 3, 24, 1, 11, 4, 1], [92, 58, 1, 1, 1, 21, 3, 1, 1, 1, 15, 1, 14, 13, 1, 10, 1, 1, 73, 1, 4, 45, 1, 1, 1, 9, 5, 1, 1, 1, 1, 35, 8, 1, 4, 1, 1, 97, 99, 44, 1, 1, 7, 12, 1, 8, 17, 1, 3, 1, 1, 1, 1, 1, 3, 1, 1, 1, 1, 63, 1, 18, 1, 4, 45, 1, 1], [1, 1, 1, 1, 1, 1, 1, 62, 20, 25, 4, 1, 1, 3, 1, 4, 1, 41, 1, 16, 20, 21, 1], [14, 57, 1, 45, 46, 5, 10, 1, 1, 76, 1, 1, 1, 1, 1, 59, 1, 1, 68, 21, 1, 1, 1, 38, 7, 1, 25, 1, 46, 13, 52, 7, 1, 1, 1, 64, 16, 39, 1, 59, 38, 7, 25, 1, 46, 13, 52, 51, 7, 3, 68, 7, 13, 1, 1], [11, 83, 80, 4, 34, 95, 72, 98, 1, 1, 1, 29, 41, 3, 30, 42], [1, 1, 36, 1, 6, 1, 1, 1, 11, 49, 1, 1, 1, 3, 1, 1, 49, 35, 41], [11, 83, 80, 4, 34, 95, 72, 98, 1, 1, 1, 29, 41, 3, 30, 42], [29, 4, 30, 1, 1, 64, 1, 1, 1, 1, 96, 1, 1, 6, 1, 20, 1, 1, 4, 1], [11, 83, 80, 4, 34, 95, 72, 98, 1, 1, 1, 29, 41, 3, 30, 42], [57, 14, 1, 1, 26, 1, 75, 7, 85, 1, 65, 16, 1, 1, 1, 13, 7, 1, 23, 1, 1, 1, 1, 1, 1, 91, 81, 1, 1, 2, 58, 48, 1, 1, 1, 75, 49, 5, 1, 1, 71, 16, 1, 1, 1, 1, 35, 1, 1, 58, 1, 1, 6, 1, 40], [15, 5, 10, 48, 1, 1, 1, 11, 1, 1, 1, 1, 36, 4, 30, 34, 1, 1, 8, 1, 25, 69, 1, 1, 12, 29, 4, 1, 8, 1, 1, 25, 15, 14, 1, 1, 1, 22, 1, 13, 1, 1, 1, 43, 1, 29, 1, 1, 4, 58, 23, 1, 1], [11, 83, 80, 4, 34, 95, 72, 98, 1, 1, 1, 29, 41, 3, 30, 42], [52, 1, 1, 2, 38, 9, 1, 82, 5, 1, 1, 59, 1, 1, 49, 97, 1, 69, 1, 1, 1, 1, 26, 64, 38, 82, 5, 27, 8, 1, 43, 1, 27, 1, 1, 16, 94, 26, 2, 1, 57, 14, 69, 2, 93, 1, 1, 3, 1, 20, 1, 26, 1, 28, 40, 28, 40, 1, 1, 2, 1, 1, 5, 1, 1, 1, 9, 1, 1, 1, 6, 1, 1, 28, 1, 1, 1, 74, 2, 1, 92, 1, 2, 26, 1, 1, 6, 1, 1, 3, 1, 1, 3, 1, 1, 1, 26, 17, 6, 1, 2, 1, 1, 17, 1, 26, 1, 22, 1, 1, 3, 1, 2, 1, 1, 1, 1, 1, 2, 1, 3, 1, 1, 17, 6, 1, 1, 12, 1, 1, 1, 1, 1, 1, 1, 26, 1, 1, 1, 13, 1, 17, 25, 26, 1, 49, 1, 6, 1, 1, 1, 1, 1, 1, 26, 1, 1, 1, 1, 1, 2, 1, 13, 1, 1, 47, 3, 1, 1, 1, 49, 1, 2, 1, 1, 3, 1, 1, 71, 1, 1, 1, 6, 1, 1, 3, 1, 1, 28, 2, 54, 6, 1, 2, 1, 1, 2, 1, 26, 1, 97, 1, 1, 1, 1, 1, 2, 27, 1, 1, 52, 1, 1, 2, 1, 18, 1, 2, 1, 1, 1, 3, 1, 2, 1, 12, 1, 87, 1, 1, 1, 1, 2, 27, 1, 20, 1, 1, 1, 1, 1, 1, 1, 69, 1, 8, 93, 1, 1, 2, 27, 1, 1, 3, 1, 1, 1, 1, 3, 40, 27, 1, 1, 18, 1, 1, 18, 1, 1, 20, 1, 5, 26, 93, 1, 3, 1, 1, 25, 3, 35, 1, 3, 1, 1, 1, 1, 1, 1, 1, 5], [1, 1, 1, 1, 1, 3, 9, 1, 1, 6, 1, 3, 1, 1, 1, 18, 1, 1, 8, 53, 1, 73, 1, 1, 84, 1, 1, 1, 1, 1, 29, 1, 1], [1, 1, 67, 34, 39, 1, 1, 30, 1, 39, 20, 4, 1, 1, 33, 87, 1, 22, 2, 1, 57, 46, 5, 10, 27, 61, 1, 16, 81, 7, 85, 53, 27, 1, 39, 20, 1, 36, 5, 10, 86, 1, 1], [1, 2, 1, 1, 1, 1, 15, 5, 10, 22, 1, 1, 15, 26, 1, 1, 1, 1, 1, 1, 1, 1, 1, 59, 24, 57, 1, 39, 27, 30, 1, 17, 15, 63, 26, 1, 1, 94, 14, 69, 24, 1, 1, 1, 31, 6, 1, 1, 1, 18, 5, 10, 26, 1, 27, 1, 1, 1, 69, 1, 1, 14, 2, 1, 42, 1, 1, 16, 39, 8, 1, 1, 1, 29, 1, 1], [1, 11, 1, 1, 1, 2, 48, 68, 21, 54, 6, 84, 3, 1, 1, 9, 1, 18, 1, 1, 1, 1, 1, 1, 5, 10], [2, 1, 1, 1, 5, 10, 18, 11, 1, 1, 54, 11, 28, 14, 5, 55, 1, 1, 1, 1, 21, 3, 1, 71, 1, 1, 1, 25, 1, 4, 1, 1, 14, 1, 1, 1, 1, 1, 1, 6, 1, 13, 37, 1, 1, 1, 72, 4, 1, 1, 1, 1, 49, 1, 1, 1], [21, 9, 1, 1, 1, 1, 1, 1, 1, 1, 1, 1, 1, 7, 1, 49], [11, 83, 80, 4, 34, 95, 72, 98, 1, 1, 1, 29, 41, 3, 30, 42], [1, 1, 7, 85, 77, 73, 7, 1, 1, 77, 7, 1, 1, 1, 15], [8, 1, 12, 5, 22, 1, 23, 1, 1, 1, 1, 4, 8, 1, 3, 13, 1, 1], [1, 1, 18, 15, 5, 97, 11, 4, 1, 1, 85, 1, 31, 1, 23, 1, 1, 1, 1, 1, 1, 1, 20, 1, 1, 4, 1, 1, 1, 5, 30, 42, 3, 87, 1, 23, 41, 3, 1, 1, 1, 25, 1, 28, 1, 44, 1, 1, 24, 1, 16, 4, 30, 64, 1, 1, 1, 31, 58, 55, 4, 1, 5, 1, 1, 5, 1, 1, 1, 1, 33, 1, 1, 1, 85, 1, 1, 1, 35, 1, 29, 1, 16, 1, 1, 1], [32, 9, 19, 61, 65, 5, 60, 15, 88, 66, 24, 31, 89, 3, 70, 62, 50, 47, 51, 7, 77, 6, 19, 7, 78, 7, 79, 32, 9, 19, 37, 90, 5], [1, 5, 10, 1, 1, 43, 34, 94, 1, 12, 36, 11, 26, 27, 30, 1, 69, 15, 14, 8, 43, 1, 44, 1, 1, 1, 1, 1, 24, 1, 44, 1, 1, 1, 1, 1, 12, 1, 1, 1, 96, 26, 1, 1, 1, 15, 34, 1, 1, 92, 6, 1, 36, 67, 1, 1, 44, 1, 36, 1, 27, 94, 15, 1, 1, 1], [32, 9, 19, 61, 65, 5, 60, 15, 88, 66, 24, 31, 89, 3, 70, 62, 50, 47, 51, 7, 77, 6, 19, 7, 78, 7, 79, 32, 9, 19, 37, 90, 5], [68, 21, 1, 1, 6, 1, 1, 69, 1, 23, 1, 13, 30, 74, 1, 1, 69, 8, 1, 1, 1, 53, 1, 74, 1, 1, 76, 13, 23, 1, 3, 1, 23, 1, 1, 1, 1, 1, 1, 1, 23, 1, 1, 1, 1, 1, 1], [11, 12, 36, 34, 86, 23, 1, 1, 2, 3, 1, 55, 1, 63, 1, 92, 53, 16, 54, 33, 18, 7, 40, 1, 1, 1, 1, 1, 3, 21, 4, 1, 1, 1, 36, 33, 1, 85, 20, 38, 12, 15, 14, 85, 1, 1, 72, 2, 22, 1, 16, 49, 23, 1], [27, 1, 1, 12, 21, 4, 1, 1, 55, 1, 1, 1, 4, 1, 23, 1, 1, 20, 1], [1, 5, 10, 1, 14, 1, 1, 11, 4, 64, 16, 69, 52, 11, 57, 14, 47, 3, 1, 68, 21, 1, 1, 1, 18, 5, 10, 4, 1, 1], [8, 94, 1, 1, 59, 1, 1, 1, 16, 51, 81, 3, 1, 33, 76, 13, 1, 20, 1, 33, 1, 3, 1, 3, 11, 42], [5, 10, 1, 1, 1, 6, 91, 1, 1, 1, 1, 1, 1, 1, 1, 1, 1, 17, 1, 16, 1, 1, 1, 1, 1, 1, 1, 1, 45, 1, 93, 1, 1, 1, 1, 1, 1, 1, 1, 75, 9, 1, 1, 9, 1, 1, 1, 1, 8, 18, 1, 1, 1, 1, 1, 50, 1, 1, 93, 1, 74, 1, 1, 37, 1, 1, 52, 1, 1, 17, 1, 24, 1, 1, 1, 87, 1, 1, 20, 1, 1, 18, 1, 1, 9, 1, 1, 1, 7, 1, 1, 3, 1, 1, 48, 1, 13], [15, 1, 1, 26, 1, 2, 1, 1, 18, 1, 1, 26, 1, 1, 1, 54, 44, 4, 1, 6, 56, 1, 1, 26, 8, 48, 1, 1, 28, 44, 1, 54, 16, 1, 1, 17, 1, 3, 1, 1, 1, 1, 46, 15, 14, 43], [1, 8, 43, 1, 16, 75, 1, 1, 1, 59, 30, 55, 36, 1, 1, 1, 1, 1, 1, 1, 1, 1, 30, 1, 3, 23, 1, 1, 1, 48, 1, 1, 1, 1, 1, 1, 1, 1, 1, 1, 1], [2, 1, 38, 12, 5, 10, 18, 1, 52, 1, 1, 1, 1, 16, 1, 1, 13, 1, 1, 3, 71, 1, 12, 13, 4, 71, 1, 1, 43, 1, 6, 1, 1, 17, 1, 11, 1, 4, 35, 16, 33, 1, 1, 91, 1, 1, 1, 53, 1, 12, 1, 11, 63, 4, 16, 1, 72, 1, 1, 1, 15, 4, 8, 35, 1, 1, 94, 14], [11, 83, 80, 4, 34, 95, 72, 98, 1, 1, 1, 29, 41, 3, 30, 42], [11, 83, 80, 4, 34, 95, 72, 98, 1, 1, 1, 29, 41, 3, 30, 42], [55, 1, 21, 20, 15, 11, 14, 1, 30, 1, 20, 1, 21, 1], [5, 10, 1, 1, 16, 43, 94, 1, 1, 1, 1, 1, 18, 1, 1, 19, 1, 1, 1, 1, 20, 5, 10], [32, 9, 19, 61, 65, 5, 60, 15, 88, 66, 24, 31, 89, 3, 70, 62, 50, 47, 51, 7, 77, 6, 19, 7, 78, 7, 79, 32, 9, 19, 37, 90, 5], [22, 14, 11, 18, 56, 1, 1, 11, 18, 56, 14, 42, 22, 56, 8, 1, 11, 1, 1, 1, 1, 3, 1, 42, 1, 4, 1, 6, 13, 1], [1, 1, 47, 18, 84, 1, 16, 7, 1, 17, 1, 3, 1, 1, 1, 2, 1, 1, 1, 12, 1, 6, 1, 1, 1, 7, 1, 1, 7, 35, 17, 1, 1, 1, 10, 1, 1, 1, 1, 10, 1, 58, 1, 1, 18, 1, 1, 60, 1, 1, 1, 39, 21, 4, 1, 1, 1, 1, 1, 84, 1, 33, 1, 43, 1, 1, 7, 1, 1, 1, 1, 1, 1, 3, 10, 1, 7, 21, 6, 1, 12, 1, 3, 1, 1, 1, 55, 4, 53, 1, 8, 71, 1, 3, 8, 71, 93, 1, 1, 1, 43, 1, 8, 17, 15, 1, 33, 87, 46, 1, 1, 18, 52, 29, 1, 94, 6, 1], [75, 1, 12, 5, 10, 18, 73, 1, 9, 1, 7, 6, 1, 1, 1, 68, 21, 7, 3, 1, 25, 63, 35, 68, 21, 8, 17, 26, 1, 1, 40, 1, 75, 1, 68, 21, 1, 75, 1, 1, 48, 1, 1, 1, 1, 1, 3, 1, 1, 19, 18, 1, 20, 75, 26, 1, 1, 1, 1, 1, 22, 75, 21, 49, 1, 1, 1, 21, 1, 85, 1, 1, 1, 1, 6, 13, 1, 1, 1, 36, 49, 1], [28, 17, 1, 1, 20, 9, 73, 2, 38, 82, 5, 10, 11, 28, 40, 1, 1, 1, 51, 7, 1, 3, 13, 28, 40, 59, 49, 1, 1, 3, 29, 1, 8, 17, 1, 1, 4, 1, 13, 23, 1, 28, 1, 13, 22, 8, 17, 1, 4, 1, 28, 1, 1], [1, 1, 43, 1, 87, 85, 13, 1, 65, 16, 62, 1, 7, 47, 1, 1, 1, 9, 13, 1, 46, 5, 1, 1, 16, 1], [20, 11, 1, 5, 10, 27, 30, 72, 2, 1, 5, 10, 2, 1, 1, 2, 8, 1, 38, 17, 36, 17, 1, 1, 1, 41, 37, 2, 1, 41, 86, 1, 1, 1, 1, 1, 2, 1, 54, 12, 1, 1, 1, 6, 1, 1, 1, 1, 71, 1, 1, 4, 1, 1, 1, 6, 1, 1, 1, 86, 1, 1, 39, 20, 2, 4, 1, 1, 1, 46, 13, 12, 1, 1, 1, 1, 1, 1, 2, 35, 8, 1, 1, 6, 13, 22, 1, 2, 1, 1, 1, 1, 1, 1, 2, 8, 17, 1, 12, 1, 1, 6, 83, 1, 1, 1, 1, 35, 1, 8, 16], [32, 9, 19, 61, 65, 5, 60, 15, 88, 66, 24, 31, 89, 3, 70, 62, 50, 47, 51, 7, 77, 6, 19, 7, 78, 7, 79, 32, 9, 19, 37, 90, 5], [11, 18, 73, 1, 1, 12, 5, 10, 1, 1, 1, 12, 1, 1, 59, 1, 68, 21, 11, 1, 3, 42, 3, 1, 6, 1, 19, 12, 1], [45, 1, 5, 10, 1, 1, 1, 2, 1, 9, 19, 1, 1, 1, 73, 3, 1, 1, 1, 1, 27, 23, 1, 16, 49, 45, 1, 75, 84, 1, 4, 7, 1, 1, 22, 55, 1, 4, 1, 1, 1, 1, 1, 18, 84], [23, 8, 1, 87, 1, 1, 1, 1, 8, 17, 4, 1, 1, 1, 1, 1, 1, 8, 1, 1, 3, 1, 1, 1, 15, 4, 1, 25, 1, 59, 1, 22, 15, 4, 8, 1, 1, 31, 25, 4, 53, 1, 1, 1, 15, 4, 23, 1, 1, 1, 3, 1, 31, 1, 3, 1, 1, 1, 35], [1, 1, 75, 1, 5, 10, 1, 53, 1, 9, 1, 1, 1, 50, 1, 1, 1, 1, 1, 75, 14, 1, 1, 1, 15, 1, 1, 43, 72, 1, 9, 1, 1, 11, 14, 1, 1, 3, 1, 55, 25, 1, 1, 2], [55, 4, 1, 46, 5, 10, 61, 16, 39, 20, 1, 1, 46, 5, 10, 1, 16, 3, 1, 54, 1], [23, 1, 12, 15, 5, 10, 13, 14, 47, 8, 1, 59, 26, 1, 6, 67, 1, 7, 2, 1, 1, 7, 1, 7, 1, 1, 15, 1, 1, 13, 27, 1, 7, 1, 17, 1, 1, 1, 1, 26, 1, 1, 40, 23, 8, 1, 5, 10, 26, 1, 1, 25, 1, 1, 1, 1, 1, 1, 1, 1, 1, 1, 1, 1, 1, 13, 6, 1, 1, 24, 1, 1, 1, 1, 1, 25, 92, 1, 1, 1, 1, 25, 6, 1], [32, 9, 19, 61, 65, 5, 60, 15, 88, 66, 24, 31, 89, 3, 70, 62, 50, 47, 51, 7, 77, 6, 19, 7, 78, 7, 79, 32, 9, 19, 37, 90, 5], [86, 1, 36, 34, 1, 33, 34, 18, 10, 1, 69, 16, 1, 7, 12, 8, 17, 1, 1, 1, 28, 1, 9, 1, 8, 1, 3, 24, 1, 1, 1, 1, 3, 1, 28, 82, 5, 10], [38, 1, 1, 42, 67, 1, 34, 39, 58, 1, 92, 1, 1, 4, 8, 1, 85, 64, 1, 92, 46, 1, 1, 1, 1], [2, 1, 6, 56, 81, 1, 1, 2, 54, 9, 1, 1, 1, 1, 81, 1, 1, 1, 1, 1, 1, 1, 1, 1, 67, 2, 1, 1, 1, 2, 1, 1, 1, 26, 1, 48, 6, 1, 85, 1, 48, 6, 1, 1, 2, 1, 38], [1, 1, 1, 5, 10, 14, 1, 1, 25, 1, 81, 67, 1, 56, 1, 1, 1, 12, 21, 81, 1, 9, 1, 1, 8, 54, 81, 46, 9, 13, 81, 58, 1, 21, 81, 1, 92, 1, 26, 1, 47, 22, 58, 99, 25, 1, 1, 5, 1, 22, 17, 1, 1, 4, 17, 24, 1, 1, 18, 1, 25, 8, 1, 1, 1, 36, 67, 8, 1, 1, 6, 1, 22, 1, 1, 1, 25, 92, 1, 1, 1, 1, 1, 1, 21, 81, 6, 1, 1, 35, 92, 17, 1, 11, 22, 1, 1, 15, 5, 10, 53, 17, 1, 1, 1, 1, 18, 15, 1, 1, 4, 1, 48, 1, 1, 22, 1, 14, 2, 1, 12, 1, 4, 1], [86, 1, 1, 1, 3, 1, 1, 1, 15, 14, 36, 86, 1, 39, 1, 16, 49, 1, 1, 2, 27, 1, 12, 15, 14, 3, 1, 1, 35, 1, 1, 4, 1], [1, 2, 93, 1, 1, 1, 11, 1, 9, 1, 27, 17, 12, 13, 1, 1, 1, 4, 1, 1, 18, 1, 9, 1, 1, 1, 38, 1, 1, 74, 1, 1, 71, 1, 1, 1, 1, 1, 1, 1, 4, 1, 21, 1, 1, 1, 1, 1, 48, 1, 1, 1, 12, 36, 67, 1, 1, 12, 1, 14, 1, 1, 1, 20, 1, 1, 1, 87, 12, 1, 1, 1, 1, 1, 1, 51, 1, 1, 1, 1, 9, 1, 1, 63, 1, 1, 1, 1, 1, 1, 1, 1, 1, 11, 12, 13, 1, 1, 1, 25, 1, 1, 1], [1, 27, 1, 1, 1, 22, 52, 28, 1, 1, 1, 6, 19, 49, 1, 1, 39, 1, 1, 1, 1, 35, 1, 1, 1, 1, 1, 85, 54, 6, 19, 48, 1, 1], [2, 1, 1, 1, 1, 3, 1, 1, 1, 48, 38, 1, 5, 10, 1, 1], [2, 1, 75, 1, 18, 1, 9, 1, 22, 1, 1, 15, 14, 1, 75, 1, 3, 34, 75, 1, 35, 68, 21, 8, 94, 11, 5, 10, 4, 63, 4, 64, 1], [32, 9, 19, 61, 65, 5, 60, 15, 88, 66, 24, 31, 89, 3, 70, 62, 50, 47, 51, 7, 77, 6, 19, 7, 78, 7, 79, 32, 9, 19, 37, 90, 5], [4, 1, 17, 36, 37, 61, 17, 1, 1, 1, 79, 1, 1, 1, 1, 4, 1, 1, 40, 1, 1, 1, 1, 1, 1, 1, 93, 4, 1, 61, 36, 1, 93, 4, 34, 37, 1, 4, 1, 1, 1, 79, 1, 5, 1, 1, 1, 1, 1, 1, 1, 1, 86, 1, 11, 1, 1, 17, 4, 1, 1, 1, 1, 1, 1, 1, 16, 1, 1, 1, 5, 40, 55, 1, 1, 3, 1, 3, 53, 1, 85, 92, 4, 1, 16, 3, 93, 29, 4, 33, 1, 1, 9, 1, 50, 1, 1, 1], [22, 1, 1, 3, 1, 1, 8, 17, 11, 1, 1, 1, 1, 15, 14, 69, 1, 1, 4, 1, 38, 7, 1, 1, 38, 7, 1, 1, 1, 1, 1, 38, 82, 15, 14, 1, 1, 1, 48, 1, 8, 17, 1, 1, 86, 1, 8, 48, 1, 33, 1, 36, 17, 36, 17, 1], [11, 83, 80, 4, 34, 95, 72, 98, 1, 1, 1, 29, 41, 3, 30, 42], [27, 57, 82, 15, 14, 4, 1, 1, 18, 1, 9, 84, 1, 1, 7, 1, 4, 1, 1, 68, 21, 4, 1, 2, 1, 18, 1, 9, 84, 1, 1, 55, 36, 92, 1, 1, 1, 1, 22, 1, 1, 2, 1, 6, 1, 1, 1, 53, 1, 1], [1, 2, 1, 9, 1, 12, 82, 15, 5, 10, 2, 1, 29, 4, 1], [11, 14, 1, 11, 4, 8, 1, 1, 1, 2, 22, 11, 14, 1, 1], [11, 1, 17, 1, 1, 91, 18, 1, 9, 1, 13, 1, 33, 1, 1, 58, 1, 1], [11, 83, 80, 4, 34, 95, 72, 98, 1, 1, 1, 29, 41, 3, 30, 42], [11, 1, 6, 1, 1, 12, 1, 1, 66, 30, 42, 24, 31, 1, 1, 76, 1, 23, 1, 1, 1, 23, 41, 3, 1, 1, 19, 23, 1, 1], [32, 9, 19, 61, 65, 5, 60, 15, 88, 66, 24, 31, 89, 3, 70, 62, 50, 47, 51, 7, 77, 6, 19, 7, 78, 7, 79, 32, 9, 19, 37, 90, 5], [57, 14, 2, 9, 1, 46, 15, 1, 76, 1, 1, 1, 1, 1, 1, 1, 2, 59, 11, 1, 1, 1, 1, 1, 1, 1, 3, 1, 30, 1, 1, 13, 6, 1, 1, 8, 1, 1, 30, 41, 1, 97, 8, 17, 1, 1, 1, 3, 8, 17, 1, 1, 1, 30, 87, 3, 41, 1, 1, 1, 1, 21, 1, 45, 1, 1, 1, 1, 1, 1, 1, 48, 1, 43, 29, 18, 1, 1], [1, 9, 1, 18, 1, 1, 1, 1, 1, 5, 10, 22, 36, 67, 4, 34, 1, 14, 1, 1, 1, 1, 1, 1, 1, 1, 81, 2, 1, 1, 3, 42], [11, 83, 80, 4, 34, 95, 72, 98, 1, 1, 1, 29, 41, 3, 30, 42], [11, 83, 80, 4, 34, 95, 72, 98, 1, 1, 1, 29, 41, 3, 30, 42], [1, 29, 1, 1, 1, 23, 1, 22, 23, 8, 41, 1, 1, 1, 3, 1, 1, 1, 1, 25, 85, 28, 40, 2, 1, 1, 1, 1, 1, 1, 1, 1, 1, 12, 1, 1, 3, 1, 1, 1, 35, 1, 1, 1, 1, 1, 3, 1, 1, 1, 31, 8, 93, 1, 2, 20, 1, 1, 1, 1, 2, 1, 1, 1, 4, 1, 1, 3, 1, 94, 1, 1, 1, 40, 35, 17, 16, 4, 30, 1, 20, 1, 13, 1, 1, 3, 8, 17, 1, 1], [1, 1, 11, 1, 2, 1, 29, 4, 87, 12, 7, 4, 1, 1, 12, 67, 1, 1, 1, 1, 1, 78, 1, 1, 64, 1, 16, 1], [1, 11, 1, 1, 1, 1, 1, 1, 18, 1, 9, 1, 2, 1, 11, 14, 1, 34, 35, 68, 21], [32, 9, 19, 61, 65, 5, 60, 15, 88, 66, 24, 31, 89, 3, 70, 62, 50, 47, 51, 7, 77, 6, 19, 7, 78, 7, 79, 32, 9, 19, 37, 90, 5], [1, 1, 21, 9, 73, 3, 28, 40, 4, 95, 24, 11, 12, 5, 10, 1, 1, 1, 1, 1, 16, 1, 1, 1, 1, 22, 1, 1, 2, 1, 50, 1, 1, 61, 1, 1, 1, 1, 2, 1, 4, 1, 1, 3, 1, 1, 1, 99, 6, 56, 8, 1, 1, 53, 99, 6, 1, 1, 1, 1, 1, 3, 1, 53, 1, 1, 20, 1, 1, 3, 1, 1, 1, 7, 1, 1, 1, 1, 1, 20, 1, 91, 1, 1, 1, 1, 12, 59, 1, 5, 14, 28, 1, 14, 1, 37, 1, 1, 37, 1, 45, 1, 1, 1, 37, 1, 1, 23, 8, 42, 1, 11, 1, 22, 1, 13, 1, 86, 1, 4, 8, 1, 1, 1, 1, 1, 37], [1, 1, 1, 2, 71, 1, 11, 9, 1, 18, 1, 11, 2, 53, 1, 6, 56, 1, 1, 22, 1, 26, 58, 1, 1, 2, 1, 20, 91, 1, 3, 1, 2, 1, 15, 5, 10, 26, 1, 9, 1, 1, 2, 1, 1, 1, 9, 1, 2, 1, 1, 1, 6, 73, 8, 17, 1, 1, 6, 1, 35, 1, 2, 53, 1, 1, 17, 1, 1, 20, 1, 1, 1, 1], [1, 1, 1, 1, 2, 71, 1, 1, 1, 6, 1, 1, 1, 5, 1, 1, 1, 1, 5, 1, 2, 1, 1, 1, 1, 1, 75, 1, 9, 1, 8, 1, 1, 1, 40, 1, 8, 1, 46, 5, 43, 20, 1, 1, 1, 21, 1, 9, 1, 1, 1, 46, 5, 1, 55, 1, 1, 1, 3, 44, 1, 1, 3, 75, 8, 16, 3, 42, 1, 1, 5, 1, 1, 1, 34, 1, 53, 1, 1, 25, 54, 1, 1, 1, 1, 1, 5], [1, 57, 46, 5, 10, 1, 57, 35, 1, 46, 5, 21, 40, 1, 16, 1, 7, 3, 8, 17, 1, 1, 18, 1, 49, 1, 21, 1, 35, 1, 1, 1, 1, 20, 2], [38, 12, 5, 10, 1, 1, 11, 2, 1, 1, 1, 1, 7, 6, 1, 1, 1, 7, 28, 40, 2, 58, 1, 22, 24, 1, 81, 69, 4, 23, 1, 43, 52, 11, 1, 1, 1, 1, 1, 1, 1, 7, 22, 2, 76, 1, 1, 52, 7, 1, 1, 2, 1, 1, 3, 8, 1, 2, 1, 1, 2, 53, 1, 67, 13, 10, 1, 1, 1, 12, 59, 11, 5, 10, 4, 1, 1, 40, 24, 1, 1, 3, 52, 28, 49, 11, 6, 1, 8, 1, 3, 8, 1, 1, 1, 1, 23, 8, 1, 82, 1, 5, 10, 20, 1, 1], [45, 86, 27, 1, 1, 45, 1, 1, 1, 1, 4, 1, 1, 1, 1, 1, 14, 39, 16, 7, 20, 21, 1, 1, 81, 86, 1, 1, 1, 92, 86, 71, 16, 17, 1, 1, 31, 33, 1, 1, 1, 8, 1, 1, 1, 1, 55, 1, 26, 33, 1, 1, 1, 6, 56, 86, 1, 58, 1, 12, 1, 12, 1, 1, 3, 10, 1, 1, 1, 39, 1, 45, 1, 21, 71, 33, 45, 1], [66, 1, 13, 38, 5, 10, 1, 12, 52, 1, 1, 1, 38, 1, 1, 1, 1, 38, 83, 80, 39, 20, 5, 10, 17, 1, 6, 1, 1, 4, 1, 1, 1, 41, 1, 70, 35, 30, 1, 20, 1, 1], [11, 83, 80, 4, 34, 95, 72, 98, 1, 1, 1, 29, 41, 3, 30, 42], [2, 1, 5, 27, 1, 57, 3, 1, 2, 1, 1, 1, 1, 17, 15, 63, 4, 1, 1, 33, 1, 2, 1, 1, 1, 5, 10, 1, 23, 8, 42, 28, 1, 94, 1, 1, 1, 2, 1, 1, 5, 10, 1, 8, 1, 12, 87, 20, 1, 33, 87, 1, 1, 5, 10, 43], [1, 3, 1, 1, 1, 1, 1, 6, 1, 62, 1, 17, 11, 1, 6, 1, 1, 94, 1], [55, 1, 1, 5, 10, 1, 1, 1, 1, 1, 1, 2, 1, 3, 1, 2, 1, 9, 19, 1, 5, 10, 1, 1, 1, 8, 1, 1, 2, 1, 86, 17, 1, 54, 56, 1, 1, 96, 1, 2, 1, 1, 2, 1, 9, 1, 5, 1, 77, 81, 1, 1, 2, 1, 1, 1, 1, 8, 17, 1, 26, 1, 1, 6, 1, 1, 17, 26, 1, 2, 1, 1, 31, 39, 1, 1, 1, 1, 2, 1, 19, 1, 9, 73, 1, 1, 1, 2, 26, 1, 9, 1, 1, 1, 2, 1, 5, 10, 35, 3, 8, 17, 1, 1, 2, 1, 1, 1, 1, 6, 13, 31, 26, 53, 6, 1, 1, 27, 55, 26, 53, 1, 1, 1, 5, 10], [1, 5, 10, 74, 57, 14, 2, 1, 13, 5, 10, 1, 1, 18, 1, 1, 47, 1, 7, 1, 1, 1, 1, 94, 14, 1, 24, 31, 28, 14, 5, 10, 20, 44, 8, 1, 23, 1, 76, 1, 40, 1, 2, 1, 20, 44, 1, 1, 37, 1, 8, 8, 54, 1, 1, 20, 44, 4, 1, 1, 1], [38, 12, 13, 1, 5, 1, 1, 12, 13, 1, 1, 1, 25], [1, 1, 9, 1, 1, 6, 1, 1, 1, 11, 1, 18, 1, 1, 1, 6, 1, 76, 21, 1, 7, 1, 1, 81, 29, 1, 15, 1, 1, 69, 1, 42, 1, 1, 1, 1, 1, 4, 17, 6, 1, 1, 1, 1, 1, 23, 42, 1, 3, 68, 21], [32, 9, 19, 61, 65, 5, 60, 15, 88, 66, 24, 31, 89, 3, 70, 62, 50, 47, 51, 7, 77, 6, 19, 7, 78, 7, 79, 32, 9, 19, 37, 90, 5], [11, 83, 80, 4, 34, 95, 72, 98, 1, 1, 1, 29, 41, 3, 30, 42], [2, 1, 12, 1, 1, 3, 1, 1, 1, 3, 1, 52, 28, 71, 1, 1, 13, 75, 1, 26, 1, 1, 20, 1, 1, 1, 12, 1, 48, 1, 1, 20, 1, 1, 1, 1, 25, 63, 1, 1, 1, 3, 1, 1, 8, 1, 1, 1], [1, 1, 1, 49, 28, 14, 27, 1, 1, 3, 1, 11, 4, 23, 55, 69, 1, 3, 1, 1, 48, 1, 33, 1, 76, 11, 84, 1, 7, 1, 27, 1, 1, 1, 51, 7, 33, 2, 1, 1, 1, 1, 9, 1, 1, 1, 81, 1, 1, 81, 6, 76, 1, 1, 1, 12, 1, 1, 3, 1, 1, 1, 2, 1, 1, 1, 1, 6, 1, 1, 39, 1, 1, 17, 1, 4, 1, 1, 2, 1, 8, 17, 1, 2, 1, 69, 1, 2, 1, 1, 1, 4, 6, 1, 1, 2, 8, 1, 1, 4, 1, 1, 6, 76, 1, 20, 21, 1, 1], [1, 1, 26, 1, 1, 29, 4, 1, 1, 10, 1, 1, 1, 1, 13, 1, 1, 26, 1, 1, 26, 1, 42, 50, 1, 1, 1, 26, 1, 1, 1, 1, 1, 1, 1, 1, 75, 49, 55, 1], [1, 1, 1, 66, 14, 97, 57, 1, 2, 1, 15, 1, 14, 1, 1, 23, 1, 3, 4, 1, 1, 1, 1, 23, 1, 1, 15, 14, 22, 24, 14, 4, 1, 3, 2, 53, 47, 9, 19, 28, 40, 35, 1, 16, 3, 24, 1, 1, 4, 1, 1, 1, 1, 1, 1, 6, 1, 1, 40, 1, 5, 10, 35, 23, 1, 8, 17, 1, 1, 8, 93, 1, 1, 2, 1, 44, 9, 1, 1, 1], [30, 1, 87, 12, 29, 1, 1, 1, 1, 4, 17, 1, 12, 1, 4, 1, 8, 16, 28, 1, 9, 1, 1, 1], [32, 9, 19, 61, 65, 5, 60, 15, 88, 66, 24, 31, 89, 3, 70, 62, 50, 47, 51, 7, 77, 6, 19, 7, 78, 7, 79, 32, 9, 19, 37, 90, 5], [2, 1, 1, 1, 2, 1, 5, 10, 1, 2, 1, 17, 1, 43, 20, 1, 18, 19, 9, 84, 1, 2, 27, 1, 12, 16, 4, 1, 39, 2, 27, 1, 1, 1, 4, 71, 1, 3, 1, 31, 22, 11, 2, 97, 1, 75, 9, 84, 18, 1, 1, 13, 4, 2, 1, 16, 3, 8, 1, 7, 1, 40, 1, 39, 1, 40, 1, 1, 1, 1, 5, 10, 1, 1, 69, 1, 1, 40, 35, 1, 1, 1, 22, 24, 1, 10, 1, 1, 3, 1, 2, 1, 1, 1, 6, 56, 22, 2, 23, 1, 40, 1, 1], [1, 1, 1, 1, 1, 1, 1, 1, 5, 10, 1, 1, 1, 1, 92, 1, 1, 1, 58, 1, 1, 43, 1, 17, 11, 34, 1, 1, 12, 1, 4, 1, 24, 6, 5, 10, 1, 1, 1, 1, 1, 37, 1, 1, 1, 5, 10, 12, 11, 63, 1, 1, 94, 1, 1, 12, 1, 41, 39, 8, 1, 1, 22, 55, 1, 25, 4, 1, 57, 37], [1, 57, 46, 5, 10, 3, 1, 57, 35, 1, 1, 7, 18, 73, 9, 1, 1, 16, 54, 7, 74, 1, 1, 1, 1, 1, 11, 40, 12, 14, 2, 1, 33, 87, 1, 1, 1, 12, 46, 15, 1, 18, 52, 53, 1, 21, 6, 1, 1, 54, 1, 21, 4, 8, 6, 1], [64, 57, 16, 3, 35, 64, 57, 11, 18, 73, 1, 73, 6, 1, 9, 1, 10, 1, 1, 1, 10, 3, 5, 10, 49, 1, 85, 1, 1, 35], [23, 23, 1, 1, 1, 1, 1, 4, 1, 8, 1, 10, 1, 4, 8, 93, 1, 1, 25, 9, 1, 1, 17, 25, 1, 1, 8, 6, 1, 1, 1, 1, 9, 1, 1, 23, 8, 41, 1, 23, 8, 1, 1, 1, 25, 4, 33, 1, 43, 52, 28, 1, 91, 1, 1, 25, 1, 1, 4, 48, 1, 1, 1, 1, 1, 4, 1, 3, 8, 1, 20, 6, 1, 1, 1, 1, 1, 1, 5, 10, 22, 1, 1, 25, 1, 1, 8, 48, 1, 1], [1, 49, 1, 4, 1, 11, 1, 18, 84, 9, 1, 1, 11, 1, 1, 24, 1, 3, 1, 6, 1, 3, 1, 1, 1, 1, 1, 25, 11, 4, 8, 1, 1, 1, 11, 35, 28, 40, 1, 1, 1, 7], [11, 1, 1, 1, 1, 1, 1, 1, 15, 63, 26, 16, 7, 24, 1, 1, 6, 44], [32, 9, 19, 61, 65, 5, 60, 15, 88, 66, 24, 31, 89, 3, 70, 62, 50, 47, 51, 7, 77, 6, 19, 7, 78, 7, 79, 32, 9, 19, 37, 90, 5], [1, 2, 1, 1, 20, 1, 11, 14, 69, 22, 1, 4, 1, 3, 59, 4, 1, 1, 2, 1, 1, 11, 14, 6, 1, 1, 1, 2, 2, 1, 1, 3, 1, 1, 1, 1, 4, 1, 1, 1, 17, 55, 13, 5, 4, 16, 3, 54, 1, 1, 1, 1, 6, 1, 1, 2, 1, 1, 27, 1, 87, 1, 91, 45, 33, 1, 18, 4, 1, 1, 1, 4, 42, 3, 1, 4, 1, 69, 23, 1, 17, 1, 1, 69, 1, 1, 1, 1], [1, 1, 1, 1, 20, 16, 1, 64, 1, 1, 5, 30, 1, 1, 1, 1, 1, 33, 1, 3, 42, 1, 43, 18, 1, 11, 48, 1, 1, 97, 1, 5, 1, 1, 1, 5, 58, 1, 1, 31, 22, 86, 1, 83, 80, 1, 1, 1, 38, 1, 8, 17, 4, 1, 5, 1, 20, 5, 1, 1, 80, 39, 58, 1, 30, 87, 76, 29, 1, 31, 5, 86, 1, 58, 1, 1, 1, 1, 1, 1, 17, 1, 6, 5, 61, 33, 1, 1, 5, 45, 58, 1, 1], [32, 9, 19, 61, 65, 5, 60, 15, 88, 66, 24, 31, 89, 3, 70, 62, 50, 47, 51, 7, 77, 6, 19, 7, 78, 7, 79, 32, 9, 19, 37, 90, 5], [1, 2, 1, 60, 9, 1, 1, 1, 39, 9, 56, 1, 1, 69, 8, 1, 1, 6, 1, 1, 6, 1, 1, 74, 1, 6, 56, 74, 1, 6, 1, 45, 1, 1, 1, 69, 1, 12, 1], [4, 2, 1, 18, 5, 10, 97, 36, 67, 27, 1, 44, 1, 2, 8, 1, 1, 12, 1, 1, 1, 40, 2, 35, 1, 12, 1, 1, 4, 1, 2, 30, 1, 1, 12, 15, 1, 1, 76, 1, 2, 82, 5, 10, 1, 57, 1, 1, 20, 1, 21, 11, 1, 68, 21, 8, 17, 1, 4, 1, 20, 2], [1, 2, 1, 1, 1, 1, 73, 9, 1, 1, 1, 1, 1, 1, 1, 1, 1, 1, 1, 1, 1, 5, 10, 1, 1, 1, 64, 1, 16, 1, 5, 10, 36, 67, 1, 1, 1, 1, 1, 1, 96, 1, 1, 9, 15, 11, 1], [22, 11, 1, 18, 1, 1, 1, 1, 1, 1, 5, 10, 3, 1, 36, 1, 1, 1, 2, 1, 15, 14, 20, 38, 9, 1, 1, 1, 1, 3, 1, 1, 1, 8, 1, 1, 68, 21, 94, 1, 1, 1, 1, 1], [1, 1, 1, 13, 3, 7, 11, 49, 1, 1, 1, 1, 1, 46, 13, 5, 10, 1, 93, 1, 1, 1, 17, 49, 1, 26, 34, 36, 67, 13, 49, 13, 49, 1, 1, 1, 1, 36, 67, 49, 1, 1, 49, 6, 1, 1, 1, 1, 1, 1], [2, 1, 64, 46, 11, 5, 10, 13, 5, 4, 74, 86, 1, 1, 58, 17, 50, 13, 1, 4, 6, 1, 20, 1, 8, 1, 1, 2, 1, 1, 93, 1, 9, 1, 1, 1, 6, 1, 53, 2, 1, 1, 1, 74, 6, 1, 3, 1, 1, 1, 1, 17, 1, 1, 1, 22, 1, 25, 4, 1, 1, 1, 57, 37, 3, 1, 1, 64, 6, 1, 35, 59, 1, 3, 1, 43, 1, 86, 27, 1, 1, 6, 1, 1, 1, 1, 1, 1, 1, 1, 1, 11, 2, 1, 1, 1, 6, 1, 85, 1, 61, 1, 1, 6, 1, 1], [15, 4, 1, 12, 16, 49, 69, 1, 1, 76, 1, 59, 3, 1, 36, 1, 69, 20, 1, 1, 23, 8, 1, 1, 1, 1, 13, 6, 1, 1, 1, 4, 1, 2, 1, 18, 15, 11, 4, 63, 49], [32, 9, 19, 61, 65, 5, 60, 15, 88, 66, 24, 31, 89, 3, 70, 62, 50, 47, 51, 7, 77, 6, 19, 7, 78, 7, 79, 32, 9, 19, 37, 90, 5], [11, 83, 80, 4, 34, 95, 72, 98, 1, 1, 1, 29, 41, 3, 30, 42], [32, 9, 19, 61, 65, 5, 60, 15, 88, 66, 24, 31, 89, 3, 70, 62, 50, 47, 51, 7, 77, 6, 19, 7, 78, 7, 79, 32, 9, 19, 37, 90, 5], [29, 1, 30, 41, 3, 1, 1, 21, 58, 1, 1, 1, 1, 58, 1, 1, 69, 30, 1, 1, 11, 1, 1, 17, 1, 63, 1, 1, 1, 12, 36, 1], [1, 12, 59, 6, 67, 1, 97, 7, 1, 7, 52, 28, 1, 1, 27, 1, 20, 1, 1, 13, 4, 1, 85, 1, 3, 13, 1, 38, 9, 1, 7, 1, 81, 1, 1], [1, 14, 1, 2, 1, 57, 1, 5, 10, 1, 1, 1, 1, 1, 1, 1, 2, 1, 1, 1, 5, 43, 1, 22, 1, 64, 16, 54, 1, 1, 35, 1, 57, 1, 1, 4, 1, 1, 1, 26, 2, 1, 57, 14, 1, 13, 47, 1, 1, 42, 3, 1, 27, 1, 75, 1, 1, 1, 49, 85, 1, 8, 1, 12, 1, 1, 1, 7, 1, 2, 1, 1, 5, 1, 1, 1, 71, 48, 1, 1, 1, 43, 1, 37, 1, 43, 66, 1, 44, 2, 33, 18, 1, 51, 1, 1, 37, 1, 1, 49, 1, 1, 20, 8, 1, 1, 44, 43, 1], [2, 1, 1, 1, 13, 1, 6, 1, 1, 22, 40, 1, 1, 6, 1, 2, 1, 1, 1, 12, 1, 13, 9, 7, 1, 18, 1, 1, 6, 56, 1, 3, 27, 1, 1, 1, 28, 1, 1, 1, 1, 67, 2, 1, 1, 1, 1, 99, 1, 1, 3, 1, 17, 1, 1, 1, 1, 1, 1, 6, 1, 1, 1, 2, 1, 46, 13, 1, 1, 2, 71, 1, 13, 63], [1, 1, 38, 12, 13, 5, 10, 11, 68, 21, 29, 67, 3, 1, 23, 41, 1, 24, 52, 1, 4, 8, 1, 1, 1, 28, 91, 1, 1, 21, 25, 1, 1, 1], [52, 1, 1, 1, 1, 2, 46, 5, 10, 1, 1, 1, 22, 1, 1, 1, 1, 1, 1, 11, 1, 1, 1, 2, 1, 9, 1, 1, 1, 1, 1, 1, 1, 1, 1, 1, 1, 1, 2, 27, 1, 1, 3, 1, 1, 1, 1, 52, 91, 1, 1, 91, 1, 1, 1, 8, 17, 1, 71, 17, 91, 3, 1, 31, 52, 1, 17, 1, 1, 1, 1, 1, 13, 1, 18, 73, 71, 1, 52, 1, 1, 1, 1, 5, 10, 1, 1, 1, 1, 1, 1, 1, 3, 1, 1, 1, 1, 25, 1, 1, 1, 1, 1, 40, 1, 1, 12, 1, 21, 1, 1, 17, 6, 1, 1, 1, 4, 1, 1, 1, 1, 1, 1, 1, 10, 1, 1, 1, 25, 1, 92, 1, 1, 40, 1, 1, 1, 3, 1, 1, 25, 2, 1, 1, 1, 10, 1, 71, 1, 1, 59, 1, 52, 1, 1, 1, 12, 1, 1, 21, 1, 81, 22, 1, 38, 22, 1, 1, 3, 1, 24, 1, 12, 1, 1, 1, 1, 13, 1, 1, 1, 1, 91, 20, 1, 1, 46, 1, 1, 1, 1, 1, 1, 1, 1, 13, 1, 1, 1, 1, 3, 1, 9, 1, 1, 1, 1, 28, 1, 1, 1, 1, 2, 1, 1, 7, 1, 51, 1, 1, 13, 1, 6, 1, 1, 73, 10, 1, 1, 1, 1, 1, 6, 1, 1, 1, 1, 1, 3, 25, 1, 1, 1, 1, 1, 1, 1, 40, 1, 1, 40, 66, 33, 18, 81, 4, 1, 1, 1, 1, 1, 3, 1, 1, 1, 5, 10, 1, 1, 1, 10, 1, 4, 1, 6, 1, 1, 1, 1, 8, 1, 1, 1, 1, 59, 1, 1, 4, 1, 1, 97, 1, 1, 38, 1, 1, 1, 4, 1, 58, 1, 1, 1, 1, 2, 14, 48, 1, 1, 10, 1, 20, 1, 1, 38, 1, 1], [32, 9, 19, 61, 65, 5, 60, 15, 88, 66, 24, 31, 89, 3, 70, 62, 50, 47, 51, 7, 77, 6, 19, 7, 78, 7, 79, 32, 9, 19, 37, 90, 5], [14, 60, 57, 1, 2, 46, 13, 39, 74, 57, 2, 1, 1, 1, 1, 52, 28, 1, 1, 86, 1, 94, 1, 31, 1, 12, 1, 1, 1, 1, 1, 1, 1, 13, 1, 1, 1, 4, 30, 1, 1, 1, 1, 22, 1, 1, 1, 1, 76, 1, 30, 1, 69, 1, 1, 1, 1, 1, 1, 31, 8, 1, 1, 1, 1, 1, 2, 1, 1, 6, 1, 1, 1, 1, 1, 1, 76, 1, 1, 1, 1, 1, 1, 40, 1, 1, 2, 58, 48, 1, 1, 1, 2, 1, 1, 1, 1, 62, 2, 93, 1, 96, 1, 96, 2, 1, 1, 4, 1, 58, 1, 22, 1, 74, 1, 4, 2, 1, 1, 1, 96, 2, 14, 1, 60, 22, 1, 39, 94, 17, 4, 1, 1, 1, 1, 1, 1, 1, 14, 60, 1, 1, 1, 2, 1, 5, 96, 2, 35, 1, 1, 28, 1, 6, 56, 1, 1, 19, 1, 1, 18, 1, 11, 18, 1, 1, 19, 1, 1, 1, 5, 10, 33, 1, 3, 1, 43, 1, 1, 1], [2, 86, 1, 1, 16, 12, 82, 5, 10, 12, 1, 1, 3, 1, 1, 39, 1, 2, 8, 1, 1, 16, 28, 11, 1, 3, 1, 36, 67, 1, 1, 1], [16, 1, 7, 8, 17, 1, 1, 8, 1, 12, 16, 49, 1, 1, 1, 1, 1, 2, 1], [1, 2, 46, 5, 18, 1, 1, 9, 73, 59, 38, 68, 21, 2, 1, 67, 1, 1, 11, 1, 24, 31, 26, 1, 1, 97, 5, 10, 1, 59, 1, 4, 1, 2, 1, 9, 1, 5, 10, 8, 1, 1, 1, 1, 1, 1, 9, 5, 10, 8, 1, 39, 1, 1, 1, 59, 2, 26, 27, 6, 1, 1, 6, 1, 43, 9, 59, 1, 1, 1, 14, 1, 25, 1, 8, 42, 1, 9, 1, 5, 8, 64, 1, 1], [27, 17, 1, 15, 26, 1, 1, 1, 3, 9, 1, 5, 10, 1, 1, 1, 1, 15, 1, 1, 1, 1, 13, 1, 1, 1, 15, 63, 1, 1, 1, 82, 13, 1], [1, 67, 13, 12, 36, 4, 34, 1, 97, 5, 10, 1, 64, 1, 13, 1, 1, 1, 1, 38], [32, 9, 19, 61, 65, 5, 60, 15, 88, 66, 24, 31, 89, 3, 70, 62, 50, 47, 51, 7, 77, 6, 19, 7, 78, 7, 79, 32, 9, 19, 37, 90, 5], [1, 1, 22, 13, 5, 1, 8, 1, 59, 1, 1, 3, 85, 8, 1, 43, 46], [32, 9, 19, 61, 65, 5, 60, 15, 88, 66, 24, 31, 89, 3, 70, 62, 50, 47, 51, 7, 77, 6, 19, 7, 78, 7, 79, 32, 9, 19, 37, 90, 5], [1, 1, 1, 1, 1, 12, 1, 12, 1, 1, 45, 1, 1, 1, 8, 1, 1, 1, 45, 1, 1, 67, 12, 1, 1, 26, 1, 1, 1, 1, 1, 1, 2, 8, 1, 1, 1, 1, 1, 2, 1, 1, 2, 53, 1, 12, 1, 1, 76, 13, 8, 1, 1, 1, 8, 1, 53, 1, 1], [18, 1, 29, 2, 1, 5, 1, 1, 4, 1, 1, 58, 55, 4, 1, 1, 94, 58, 55, 1, 16, 20, 2, 4, 1, 1, 1, 1, 58, 1, 42], [11, 83, 80, 4, 34, 95, 72, 98, 1, 1, 1, 29, 41, 3, 30, 42], [11, 4, 1, 1, 24, 1, 1, 6, 1, 1, 1, 1, 17, 1, 4, 1, 9, 25, 1, 99, 1, 1, 1, 17, 1, 1, 13, 71, 1, 1, 1, 43, 91, 1, 13, 4, 23, 1, 1, 75, 1, 1, 1, 76, 1, 25, 76, 1, 1, 6, 1, 1, 8, 1, 1, 1], [1, 1, 3, 38, 12, 13, 5, 10, 52, 11, 18, 1, 9, 1, 1, 1], [1, 1, 28, 1, 1, 1, 54, 1, 6, 15, 5, 10, 14, 1, 21, 4, 2, 1, 28, 1, 15, 14, 1, 4, 42, 1, 1, 4, 1, 1, 1, 1, 1, 42, 3, 1, 1, 36, 4, 34, 1, 1, 1, 72, 15, 5, 10], [38, 9, 1, 1, 1, 1, 82, 1, 1, 1, 1, 12, 1, 21, 1, 1, 1, 1, 20, 1, 1, 1, 80, 1, 42, 3, 29, 1, 1, 36], [32, 9, 19, 61, 65, 5, 60, 15, 88, 66, 24, 31, 89, 3, 70, 62, 50, 47, 51, 7, 77, 6, 19, 7, 78, 7, 79, 32, 9, 19, 37, 90, 5], [2, 75, 1, 1, 9, 73, 12, 21, 91, 27, 1, 8, 17, 1, 1, 74, 1, 92, 1, 16, 7, 3, 71, 91, 7, 1, 8, 17, 1, 1, 26, 1, 1, 1, 5, 7, 1, 1, 1, 1, 1, 17, 1, 1, 3, 81, 1, 1, 1, 92, 1, 16, 1, 7, 3, 74, 1, 1, 1, 1, 3, 1, 40, 1, 1, 27, 1, 8, 1, 7, 2, 74, 91, 3, 54, 73, 1, 1, 1, 1, 1, 2, 1, 71, 1, 46, 15, 14, 1], [2, 1, 26, 1, 33, 18, 3, 1, 1, 23, 1, 20, 1, 1, 2, 22, 2, 53, 1, 1, 26, 30, 1, 1, 11, 6, 1, 1, 1, 14, 8, 16], [1, 1, 1, 16, 43, 1, 1, 5, 68, 21, 3, 1, 1, 1, 1, 5, 10, 1, 1, 1], [1, 1, 29, 1, 1, 41, 1, 44, 53, 1, 92, 1, 6, 1, 1, 44, 1, 6, 1, 50, 1, 1, 17, 1, 1, 39, 8, 1, 1, 21, 1, 9, 1, 45, 99, 1, 1, 1, 13, 9, 1, 1, 51, 81], [24, 12, 1, 18, 1, 9, 19, 27, 1, 38, 12, 1, 1, 1, 1, 1, 1, 1, 1, 33, 1, 1, 1, 1, 6, 1, 1, 1, 1, 1], [37, 15, 14, 86, 7, 1, 1, 55, 6, 1, 70, 4, 64, 1, 34, 39, 1, 1, 9, 1, 12, 15, 14, 17, 1, 1, 37, 15, 14, 86, 64, 16, 85, 1, 1, 1, 35, 16, 1, 1, 40, 1, 2, 54, 19, 1, 1], [5, 10, 18, 1, 1, 15, 4, 2, 1, 97, 15, 4, 1, 8, 1, 12, 1, 4, 1, 1, 1, 46, 1, 31, 1, 33, 1, 1, 5, 1, 1, 4, 1, 24, 82, 1, 1, 20, 1, 1, 3, 1, 1, 18, 1, 1, 27, 1, 92, 1, 25, 8, 55, 1, 1, 39, 58, 12, 1, 1, 55, 1, 59, 1, 1, 25, 1, 1, 12, 1, 1, 3, 1, 59, 1, 11, 1, 48, 1, 1, 1, 1, 94, 14, 4, 1, 11, 5, 61, 16, 3, 1, 1, 1, 1, 38, 1, 67, 4, 1, 92, 8, 1, 3, 17, 1, 63, 2, 27, 1, 15, 63, 1, 33, 1, 1, 12, 1, 14, 4, 1, 1, 1, 24, 1, 1, 5, 20, 38, 1, 1], [2, 1, 11, 5, 1, 47, 18, 1, 1, 1, 3, 1, 6, 1, 1, 1, 11, 68, 21, 1, 35, 41, 3, 29, 44, 1, 1, 58, 17, 25, 4, 8, 1, 1, 1, 1, 28, 13, 74, 1], [16, 7, 1, 2, 14, 1, 1, 46, 5, 10, 3, 1, 16, 1, 58, 1, 1, 1, 1, 1, 2, 1, 21, 99, 1, 1, 6, 56, 3, 1, 1, 85, 1, 1], [75, 1, 39, 15, 8, 1, 1, 1, 1, 1, 2, 1, 12, 1, 1, 9, 21, 7, 26, 63, 1, 5, 27, 1, 1, 26, 1, 1, 75, 15, 63, 1, 1, 52, 7, 26, 1, 21, 2, 1, 1, 1, 9, 7, 1, 1, 1, 1, 1, 1, 1, 1, 1, 26, 1, 8, 1, 1, 1, 75, 6, 21, 7, 26, 1, 33, 1, 21, 1, 9, 1, 1, 1, 1, 1, 1, 1, 2, 1, 1, 1, 1, 2, 1, 1, 26, 1, 1, 1, 8, 1, 3, 8, 17, 1, 1, 1, 1, 1, 1, 1, 1], [11, 1, 68, 21, 1, 86, 1, 15, 14, 1, 64, 1, 1, 4, 1, 1, 3, 1, 1, 24, 31, 1, 1, 1, 1, 3, 1], [5, 10, 1, 1, 1, 15, 1, 1, 1, 67, 1, 34, 39, 1, 23, 1], [14, 97, 1, 1, 57, 2, 1, 1, 18, 1, 1, 1, 11, 1, 1, 1, 1, 39, 1, 4, 1, 54, 6, 56, 1, 1, 1, 1, 13, 16, 54, 7, 1, 16, 8, 17, 1, 1, 18, 1, 5, 10, 1, 1, 21, 1, 1, 1, 10, 1, 1, 1, 1, 1, 1, 1, 1, 30, 1, 1, 1, 4, 1, 1, 13, 4, 1, 1, 54, 6, 1, 7, 54, 1, 6, 1, 44, 1, 17, 96, 1, 1, 13, 1, 99, 1, 1, 1, 44, 1, 1, 9, 76, 13, 9, 19, 85, 1, 99, 43, 20, 1, 1, 54, 7, 74, 1, 1, 56, 1, 14, 97, 29, 3, 1, 1, 2, 1, 25, 4, 1, 8, 1, 1, 94, 1, 4, 45, 1], [28, 40, 2, 1, 1, 1, 1, 3, 28, 2, 1, 6, 1, 1, 1, 1, 1, 1, 2, 1, 1, 2, 27, 8, 1, 21, 43, 20, 1, 1, 74, 22, 59, 2, 27, 1, 1, 20, 1, 14, 1, 2, 1, 1, 2, 3, 1, 1, 20, 1, 1, 1, 46, 1, 2, 1, 1, 12, 1, 1, 44, 6, 5, 10, 1, 17, 1, 1, 1, 1, 1, 1, 1, 20, 36, 86, 2, 1, 5, 10, 4, 1, 1, 36, 1, 13, 63, 69, 1, 1, 1, 1, 24, 20, 1, 1], [2, 8, 1, 12, 1, 5, 10, 2, 21, 40, 17, 1, 1, 9, 1, 45, 47, 1, 18, 1, 28, 40, 45, 1, 67, 15, 1, 85, 1, 1, 5, 10, 20, 67, 1, 1, 1, 2, 27, 1, 54, 56, 1, 45, 1, 54, 1, 68, 7, 1, 75, 1, 45, 1, 1, 1, 1, 5, 1, 1, 1, 13, 4, 1, 1, 18, 4, 1, 85, 1, 1, 1, 45, 1, 1, 1, 63, 17, 1, 5, 4, 1, 6, 13, 40, 85, 45, 8, 48, 1, 1, 1, 1, 40, 97, 1, 1, 5, 1, 1, 1, 1, 45, 8, 1, 1, 3, 28, 1, 2, 4, 27, 1, 13, 1, 1, 86, 1, 1, 1, 1, 4, 1, 1, 45, 22, 8, 17, 1, 4, 1, 1, 25, 1, 45, 27, 1, 18, 1, 1, 45, 1, 6, 1, 1, 1, 1, 1, 3, 64, 1, 1], [1, 1, 1, 16, 1, 16, 1, 65, 5, 58, 55, 13, 63, 4, 1, 1, 1, 1, 1, 49, 1, 1, 1, 1, 65, 15, 14], [1, 42, 36, 34, 1, 1, 44, 1, 1, 37, 20, 1, 49, 1, 1], [11, 1, 12, 21, 91, 1, 28, 1, 21, 91, 1, 45, 1, 1, 1, 1, 13, 1, 7, 1, 1, 1, 1, 1, 1, 12, 59, 1, 45, 1, 99, 33, 1, 43, 1, 1, 3, 1, 1, 91, 1, 7, 1, 45, 1, 1, 1, 3, 10, 1, 1, 1, 20, 1, 1, 21, 6, 1, 1, 1], [1, 1, 4, 1, 2, 1, 1, 75, 14, 12, 36, 1, 24, 31, 64, 16, 1, 34], [11, 12, 5, 86, 1, 1, 3, 35, 1, 1, 1, 1, 22, 64, 8, 68, 21, 12, 1, 55, 1, 2, 86, 1, 11, 1, 9, 84, 1, 1, 2, 8, 43, 1, 6, 1, 1, 1, 53, 99, 1, 6, 56, 14, 6, 1, 43, 8, 17, 1, 1, 1, 1, 52, 1, 56, 1, 6, 56, 1, 1, 2, 1, 1, 1, 49, 1, 1, 1, 39, 1, 1, 6, 56, 1, 1, 1, 1, 49, 53, 1, 9, 44, 1, 4, 8, 1, 1, 1, 1, 6, 84, 1, 1, 1, 40, 1, 20, 1, 11], [1, 1, 57, 16, 12, 13, 14, 1, 1, 2, 1, 15, 14, 97, 1, 1, 68, 21, 2, 47, 3, 53, 99, 1, 7, 20, 16, 4, 8, 1, 1, 1, 2, 53, 1, 1, 15, 4, 1, 3, 8, 1, 1, 1, 1, 1, 1, 1, 1, 35, 8, 1, 1, 4, 1, 12, 1, 6, 1, 1, 14, 4, 1], [32, 9, 19, 61, 65, 5, 60, 15, 88, 66, 24, 31, 89, 3, 70, 62, 50, 47, 51, 7, 77, 6, 19, 7, 78, 7, 79, 32, 9, 19, 37, 90, 5], [13, 1, 74, 1, 1, 58, 1, 1, 1, 1, 4, 1, 1, 97, 11, 2, 18, 73, 1, 1, 1, 1, 91, 1, 1, 1, 1, 1, 6, 1, 39, 25, 1, 1, 13, 1, 6, 1, 40, 1, 1, 1, 2, 1, 1, 1, 74, 1, 1, 1, 1, 1, 1, 17, 1, 1, 13, 6, 13, 26, 1, 3, 1, 26, 1, 43, 1, 1, 1, 13, 1], [1, 46, 5, 10, 1, 8, 1, 36, 23, 1, 1, 13, 1, 24, 1, 44, 1, 21, 40, 16, 7, 24, 1, 1, 1, 1, 1, 1, 1, 1, 23, 1, 1, 1, 23, 8, 41, 8, 43, 46, 5], [11, 83, 80, 4, 34, 95, 72, 98, 1, 1, 1, 29, 41, 3, 30, 42], [1, 1, 57, 82, 11, 14, 1, 1, 1, 54, 17, 1, 1, 16, 1, 24, 11, 1, 1, 1, 4, 8, 1], [1, 1, 1, 1, 16, 81, 1, 16, 43, 1, 57, 16, 49, 1, 17, 1, 35, 18, 1, 49, 14, 6, 73, 1, 3, 1, 5, 10, 14, 15, 1, 1, 1, 1, 1, 14, 1, 45, 1, 1, 1, 45, 6, 1, 1, 1, 16, 54, 1, 1, 1, 1, 45, 1, 35, 1, 17, 1, 1, 1], [1, 16, 1, 17, 6, 15, 14, 75, 1, 7, 74, 1, 9, 13, 7, 3, 74, 38, 7, 20, 29, 1, 1, 1, 1, 12, 1, 18, 1, 1, 71, 1, 52, 21, 1, 1, 94, 1, 1, 80, 1, 1, 1, 8, 1, 12, 1, 4, 1, 1, 22, 13, 1, 1, 1, 36, 4, 1, 1, 1], [32, 9, 19, 61, 65, 5, 60, 15, 88, 66, 24, 31, 89, 3, 70, 62, 50, 47, 51, 7, 77, 6, 19, 7, 78, 7, 79, 32, 9, 19, 37, 90, 5], [5, 10, 94, 4, 1, 1, 64, 1, 16, 28, 91, 1, 9, 76, 13, 1, 76, 1, 30, 1, 1, 40, 1, 1, 1, 30, 1, 1, 8, 48, 1, 12, 42, 33, 1, 20, 46, 1, 33, 68, 21, 1, 76, 1, 1, 1, 1, 33, 1, 1, 1, 41], [52, 28, 1, 20, 1, 1, 27, 1, 12, 1, 1, 1, 27, 54, 1, 1, 1, 1, 1, 11, 2, 1, 7, 1, 1, 1, 4, 66, 2, 27, 1, 1, 1, 97, 11, 1, 73, 17, 75, 39, 1, 1, 1, 1, 1, 91, 1, 2, 1, 13, 4, 27, 1, 1, 3, 1, 1, 1, 2, 1, 1, 13, 94, 14, 58, 1, 38, 3, 52, 28, 1, 44, 13, 1, 6, 1, 1, 1, 44, 6, 1, 1, 18, 1, 1, 9, 1, 24, 1, 1, 12, 1, 25, 1, 1, 8, 1, 1, 31, 20, 1, 44, 2, 2, 53, 99, 7, 33, 1, 25, 52, 28, 14, 27, 1, 3, 1, 9, 1, 1, 69, 8, 17, 1, 5, 10, 53, 1, 1, 48, 1, 1, 1, 4, 63, 94, 1, 10, 1, 1, 69, 29, 3, 1, 48, 1, 33, 87, 18, 5, 10, 1, 1, 1, 27, 1, 1, 3, 1, 56, 1, 1, 93, 8, 93, 46, 5, 10, 1, 1, 1, 1, 18, 1, 1], [1, 17, 1, 1, 1, 1, 46, 15, 14, 22, 64, 1, 1, 1, 49, 1, 1, 1, 1, 67, 86, 1, 34, 6, 1, 1, 1, 64, 1, 1, 1, 55, 4, 27, 1, 16, 49, 61, 1, 1, 6, 1, 11, 1, 1, 1, 1, 1, 1, 9, 15, 1, 50], [32, 9, 19, 61, 65, 5, 60, 15, 88, 66, 24, 31, 89, 3, 70, 62, 50, 47, 51, 7, 77, 6, 19, 7, 78, 7, 79, 32, 9, 19, 37, 90, 5], [32, 9, 19, 61, 65, 5, 60, 15, 88, 66, 24, 31, 89, 3, 70, 62, 50, 47, 51, 7, 77, 6, 19, 7, 78, 7, 79, 32, 9, 19, 37, 90, 5], [52, 1, 1, 1, 1, 2, 1, 1, 82, 15, 5, 10, 18, 1, 1, 1, 3, 1, 6, 73, 52, 28, 1, 1, 1, 51, 1, 1, 1, 28, 40, 1, 1, 1, 55, 25, 26, 1, 1, 1, 28, 40, 1, 1, 1, 5, 10, 1, 1, 1, 1, 51, 24, 1, 4, 1, 67, 2, 31, 4, 1, 2, 12, 1, 1, 3, 17, 43, 1, 1, 35, 4, 1, 1, 1, 1, 1, 1, 1, 1, 1, 1, 11, 28, 40, 16, 1, 1, 33, 81, 1, 1, 1, 56, 1, 73, 1, 1, 1, 1, 1, 1, 1, 1, 1, 6, 56, 1, 1, 1, 21, 1, 3, 1, 1, 1, 1, 1, 1, 1, 9, 1, 1, 1, 44, 1, 1, 1, 1, 1, 44, 2, 1, 2, 1, 1, 9, 1, 1, 1, 6, 56, 1, 1, 1, 56, 1, 1, 1, 44, 2, 58, 1, 6, 13, 1, 10, 4, 71, 1, 1, 21, 1, 1, 1, 56, 1, 1, 1, 1, 1, 44, 2, 9, 1, 2, 1, 1, 2, 1, 1, 9, 1, 1, 20, 1, 44, 4, 74, 1, 18, 1, 10, 1, 2, 1, 1, 4, 1, 3, 1, 2, 99, 1, 1, 33, 7, 1, 1, 44, 2, 1, 1, 44, 1, 10, 2, 1, 1, 44, 2, 1, 1, 1, 10, 3, 60, 5, 10, 1, 2, 1, 67, 1, 5, 10], [2, 38, 1, 1, 18, 84, 1, 1, 1, 1, 2, 17, 1, 1, 1, 71, 16, 1, 11, 14, 64, 1, 1, 1, 1, 16, 39, 28, 1, 14, 1, 8, 17, 1, 16, 3, 1, 11, 49, 1, 1, 1, 4, 23, 1, 1, 22, 52, 28, 1, 18, 1, 9, 84, 1, 11, 14, 35, 1, 1, 1, 5, 10, 20, 1, 4, 33, 87], [1, 15, 14, 64, 1, 12, 1, 1, 1, 59, 11, 6, 91, 1, 8, 1, 12, 1, 1, 1, 64, 1, 22, 1, 6, 1], [1, 1, 1, 46, 13, 12, 1, 1, 39, 1, 29, 1, 1, 1, 55, 1, 14, 1, 1, 1, 1, 1, 1, 6, 1, 69, 1, 1, 1, 1, 8, 93, 1, 37, 1, 1, 4, 34, 58, 55, 1, 15, 4, 63, 39, 1, 70, 1, 12, 4, 63, 2, 1, 1, 4, 63, 1, 31, 1, 34, 37, 1, 31, 44, 1, 33, 1, 1, 1, 1, 1, 1], [11, 83, 80, 4, 34, 95, 72, 98, 1, 1, 1, 29, 41, 3, 30, 42], [11, 1, 84, 9, 1, 4, 1, 1, 14, 24, 6, 73, 1, 48, 38, 1, 1, 1, 1, 1, 84, 12, 82, 13, 5, 1, 1, 51, 7, 1, 29, 1, 3, 1, 1, 30, 1, 52, 21, 1, 1, 22, 1, 1, 31], [1, 1, 18, 84, 9, 73, 1, 1, 22, 1, 26, 1, 1, 1, 1], [11, 83, 80, 4, 34, 95, 72, 98, 1, 1, 1, 29, 41, 3, 30, 42], [21, 1, 6, 56, 1, 1, 28, 1, 1, 44, 27, 7, 33, 96, 2, 8, 1, 1, 2, 1, 1, 1, 5, 10, 69, 1, 8, 1, 1, 2, 1, 1, 76, 21, 1, 7, 8, 17, 1, 1, 96, 2, 1, 2, 1, 9, 1, 1, 1, 1, 1, 17, 1, 96, 1, 39, 8, 1, 9, 1, 3, 1, 1, 1, 96, 76, 1, 1, 1, 85, 1, 2, 1, 1, 1, 1, 1, 96, 1], [21, 1, 9, 1, 68, 21, 39, 45, 1, 6, 76, 1, 1, 1, 1, 1, 3, 1, 22, 6, 13, 8, 1, 40, 1], [1, 60, 22, 1, 22, 8, 17, 1, 6, 1, 4, 1, 2, 8, 71, 1, 5, 10, 1, 1, 1, 1, 8, 1, 1, 1, 39, 25, 55, 1, 1, 48, 7, 3, 1, 6, 1, 1, 25, 1, 85, 1, 1, 1, 49, 29, 8, 41, 36, 1, 39, 1, 1, 1, 1, 8, 1, 1, 1, 75, 1, 1, 1, 1, 1, 6, 1, 1, 1, 50, 17, 1, 1, 1, 1, 1, 1, 1, 1, 3, 1, 1, 1, 22, 1, 1, 1, 22, 1, 1, 1, 3, 1, 1, 26, 8, 1, 12, 25, 1], [46, 5, 10, 40, 53, 1, 1, 1, 1, 7, 11, 1, 1, 1, 1, 28, 1, 1, 1, 1, 1, 59, 1, 50, 1, 38, 6, 78, 1, 1, 1, 6, 56, 1, 1, 1, 1, 1], [1, 1, 1, 25, 4, 1, 1, 1, 4, 1, 16, 1, 29, 4, 1, 72, 11, 1, 1, 1, 9, 73, 1, 1, 3, 68, 21, 1, 1, 1, 1, 37, 1, 83, 80, 39, 37, 30, 1], [1, 2, 1, 32, 1, 82, 15, 14, 1, 57, 28, 1, 1, 9, 19, 52, 1, 1, 1, 2, 82, 15, 14, 1, 70, 4, 1, 35, 48, 1, 1, 1, 1, 1, 1], [11, 83, 80, 4, 34, 95, 72, 98, 1, 1, 1, 29, 41, 3, 30, 42], [11, 83, 80, 4, 34, 95, 72, 98, 1, 1, 1, 29, 41, 3, 30, 42]]\n"
     ]
    }
   ],
   "source": [
    "train_seqs = tokenizer.texts_to_sequences(trainX)\n",
    "val_seqs = tokenizer.texts_to_sequences(valX)\n",
    "test_seqs = tokenizer.texts_to_sequences(testX)\n",
    "\n",
    "print(train_seqs)"
   ]
  },
  {
   "cell_type": "code",
   "execution_count": 404,
   "metadata": {},
   "outputs": [
    {
     "name": "stdout",
     "output_type": "stream",
     "text": [
      "secara umum menyenangkan namun sempat delay dengan alasan yang kurang jelas kalau traveling sendiri saya tidak akan merekomendasikan maskapai ini namun kalau bersama kelompok mungkin bisa dipertimbangkan karena ongkosnya yang murah dan destinasinya yang luas tempat duduk biasa saja dan nyaman banyak penumpang yang membawa tentengan dan bungkusan sehingga kabin penuh sesak\n",
      "[1, 1, 1, 69, 1, 16, 12, 1, 4, 1, 1, 92, 1, 1, 2, 8, 71, 1, 15, 14, 69, 92, 1, 1, 1, 48, 1, 22, 1, 4, 34, 3, 1, 4, 1, 1, 1, 1, 31, 3, 42, 55, 25, 4, 1, 1, 3, 1, 1, 1, 1, 1]\n"
     ]
    }
   ],
   "source": [
    "print(trainX[10])\n",
    "print(train_seqs[10])"
   ]
  },
  {
   "cell_type": "code",
   "execution_count": 405,
   "metadata": {},
   "outputs": [
    {
     "name": "stdout",
     "output_type": "stream",
     "text": [
      "minimum number of words: 13\n",
      "median number of words: 33.0\n",
      "average number of words: 49.07565789473684\n",
      "maximum number of words: 317\n"
     ]
    }
   ],
   "source": [
    "from tensorflow.keras.preprocessing.sequence import pad_sequences\n",
    "\n",
    "l = [len(i) for i in train_seqs]\n",
    "l = np.array(l)\n",
    "\n",
    "print('minimum number of words: {}'.format(l.min()))\n",
    "print('median number of words: {}'.format(np.median(l)))\n",
    "print('average number of words: {}'.format(l.mean()))\n",
    "print('maximum number of words: {}'.format(l.max()))"
   ]
  },
  {
   "cell_type": "code",
   "execution_count": 406,
   "metadata": {},
   "outputs": [],
   "source": [
    "PADDING = 'pre'\n",
    "\n",
    "train_seqs = pad_sequences(train_seqs, padding=PADDING)\n",
    "val_seqs = pad_sequences(val_seqs, padding=PADDING)\n",
    "test_seqs = pad_sequences(test_seqs, padding=PADDING)"
   ]
  },
  {
   "cell_type": "code",
   "execution_count": 407,
   "metadata": {},
   "outputs": [
    {
     "name": "stdout",
     "output_type": "stream",
     "text": [
      "secara umum menyenangkan namun sempat delay dengan alasan yang kurang jelas kalau traveling sendiri saya tidak akan merekomendasikan maskapai ini namun kalau bersama kelompok mungkin bisa dipertimbangkan karena ongkosnya yang murah dan destinasinya yang luas tempat duduk biasa saja dan nyaman banyak penumpang yang membawa tentengan dan bungkusan sehingga kabin penuh sesak\n",
      "[ 0  0  0  0  0  0  0  0  0  0  0  0  0  0  0  0  0  0  0  0  0  0  0  0\n",
      "  0  0  0  0  0  0  0  0  0  0  0  0  0  0  0  0  0  0  0  0  0  0  0  0\n",
      "  0  0  0  0  0  0  0  0  0  0  0  0  0  0  0  0  0  0  0  0  0  0  0  0\n",
      "  0  0  0  0  0  0  0  0  0  0  0  0  0  0  0  0  0  0  0  0  0  0  0  0\n",
      "  0  0  0  0  0  0  0  0  0  0  0  0  0  0  0  0  0  0  0  0  0  0  0  0\n",
      "  0  0  0  0  0  0  0  0  0  0  0  0  0  0  0  0  0  0  0  0  0  0  0  0\n",
      "  0  0  0  0  0  0  0  0  0  0  0  0  0  0  0  0  0  0  0  0  0  0  0  0\n",
      "  0  0  0  0  0  0  0  0  0  0  0  0  0  0  0  0  0  0  0  0  0  0  0  0\n",
      "  0  0  0  0  0  0  0  0  0  0  0  0  0  0  0  0  0  0  0  0  0  0  0  0\n",
      "  0  0  0  0  0  0  0  0  0  0  0  0  0  0  0  0  0  0  0  0  0  0  0  0\n",
      "  0  0  0  0  0  0  0  0  0  0  0  0  0  0  0  0  0  0  0  0  0  0  0  0\n",
      "  0  1  1  1 69  1 16 12  1  4  1  1 92  1  1  2  8 71  1 15 14 69 92  1\n",
      "  1  1 48  1 22  1  4 34  3  1  4  1  1  1  1 31  3 42 55 25  4  1  1  3\n",
      "  1  1  1  1  1]\n"
     ]
    }
   ],
   "source": [
    "print(trainX[10])\n",
    "print(train_seqs[10])"
   ]
  },
  {
   "cell_type": "code",
   "execution_count": 408,
   "metadata": {},
   "outputs": [
    {
     "name": "stderr",
     "output_type": "stream",
     "text": [
      "c:\\ProgramData\\Anaconda3\\lib\\site-packages\\keras\\optimizers\\optimizer_v2\\gradient_descent.py:114: UserWarning: The `lr` argument is deprecated, use `learning_rate` instead.\n",
      "  super().__init__(name, **kwargs)\n"
     ]
    }
   ],
   "source": [
    "from keras.models import Sequential\n",
    "from keras.layers import Embedding, Conv1D, MaxPooling1D, Bidirectional, LSTM, Dense, Dropout\n",
    "from keras.optimizers import SGD\n",
    "\n",
    "epochs= 35\n",
    "learning_rate = 0.5\n",
    "decay_rate = learning_rate / epochs\n",
    "momentum = 0.8\n",
    "\n",
    "sgd = SGD(lr=learning_rate, momentum=momentum, decay=decay_rate, nesterov=False)\n",
    "\n",
    "model= Sequential()\n",
    "model.add(Embedding(len(word_index),200))\n",
    "model.add(Conv1D(filters=32, kernel_size=3, padding='same', activation='relu'))\n",
    "model.add(MaxPooling1D(pool_size=2))\n",
    "model.add(Bidirectional(LSTM(100)))\n",
    "model.add(Dropout(0.1))\n",
    "model.add(Dense(2, activation='softmax'))"
   ]
  },
  {
   "cell_type": "code",
   "execution_count": 409,
   "metadata": {},
   "outputs": [
    {
     "data": {
      "image/png": "[encoded data removed]",
      "text/plain": [
       "<IPython.core.display.Image object>"
      ]
     },
     "execution_count": 409,
     "metadata": {},
     "output_type": "execute_result"
    }
   ],
   "source": [
    "import tensorflow as tf\n",
    "tf.keras.utils.plot_model(model, show_shapes=True)"
   ]
  },
  {
   "cell_type": "code",
   "execution_count": 410,
   "metadata": {},
   "outputs": [],
   "source": [
    "model.compile(loss='categorical_crossentropy', \n",
    "              optimizer='adam', \n",
    "              metrics=['accuracy'])"
   ]
  },
  {
   "cell_type": "code",
   "execution_count": 411,
   "metadata": {},
   "outputs": [
    {
     "name": "stdout",
     "output_type": "stream",
     "text": [
      "Epoch 1/35\n",
      "9/9 [==============================] - 9s 380ms/step - loss: 0.6734 - accuracy: 0.5658 - val_loss: 0.6580 - val_accuracy: 0.5686\n",
      "Epoch 2/35\n",
      "9/9 [==============================] - 2s 240ms/step - loss: 0.6081 - accuracy: 0.6250 - val_loss: 0.5710 - val_accuracy: 0.7157\n",
      "Epoch 3/35\n",
      "9/9 [==============================] - 2s 254ms/step - loss: 0.5399 - accuracy: 0.7204 - val_loss: 0.4972 - val_accuracy: 0.7451\n",
      "Epoch 4/35\n",
      "9/9 [==============================] - 2s 234ms/step - loss: 0.4943 - accuracy: 0.7467 - val_loss: 0.4949 - val_accuracy: 0.7549\n",
      "Epoch 5/35\n",
      "9/9 [==============================] - 2s 263ms/step - loss: 0.4573 - accuracy: 0.7796 - val_loss: 0.4622 - val_accuracy: 0.7843\n",
      "Epoch 6/35\n",
      "9/9 [==============================] - 2s 247ms/step - loss: 0.4250 - accuracy: 0.8026 - val_loss: 0.4518 - val_accuracy: 0.7745\n",
      "Epoch 7/35\n",
      "9/9 [==============================] - 2s 234ms/step - loss: 0.3662 - accuracy: 0.8421 - val_loss: 0.5031 - val_accuracy: 0.6961\n",
      "Epoch 8/35\n",
      "9/9 [==============================] - 2s 238ms/step - loss: 0.3281 - accuracy: 0.8520 - val_loss: 0.6722 - val_accuracy: 0.6961\n",
      "Epoch 9/35\n",
      "9/9 [==============================] - 2s 237ms/step - loss: 0.2821 - accuracy: 0.8717 - val_loss: 0.5092 - val_accuracy: 0.7451\n",
      "Epoch 10/35\n",
      "9/9 [==============================] - 2s 280ms/step - loss: 0.2543 - accuracy: 0.9013 - val_loss: 0.5286 - val_accuracy: 0.7353\n",
      "Epoch 11/35\n",
      "9/9 [==============================] - 2s 265ms/step - loss: 0.2146 - accuracy: 0.9276 - val_loss: 0.5789 - val_accuracy: 0.7255\n",
      "Epoch 12/35\n",
      "9/9 [==============================] - 2s 271ms/step - loss: 0.1806 - accuracy: 0.9441 - val_loss: 0.5827 - val_accuracy: 0.7549\n",
      "Epoch 13/35\n",
      "9/9 [==============================] - 2s 269ms/step - loss: 0.1496 - accuracy: 0.9408 - val_loss: 0.6080 - val_accuracy: 0.7647\n",
      "Epoch 14/35\n",
      "9/9 [==============================] - 2s 268ms/step - loss: 0.1220 - accuracy: 0.9605 - val_loss: 0.6787 - val_accuracy: 0.7549\n",
      "Epoch 15/35\n",
      "9/9 [==============================] - 2s 260ms/step - loss: 0.1287 - accuracy: 0.9572 - val_loss: 0.7678 - val_accuracy: 0.7843\n",
      "Epoch 16/35\n",
      "9/9 [==============================] - 3s 351ms/step - loss: 0.1140 - accuracy: 0.9671 - val_loss: 0.7330 - val_accuracy: 0.7647\n",
      "Epoch 17/35\n",
      "9/9 [==============================] - 3s 283ms/step - loss: 0.2522 - accuracy: 0.8947 - val_loss: 0.8707 - val_accuracy: 0.5784\n",
      "Epoch 18/35\n",
      "9/9 [==============================] - 3s 285ms/step - loss: 0.2798 - accuracy: 0.8783 - val_loss: 0.7007 - val_accuracy: 0.6667\n",
      "Epoch 19/35\n",
      "9/9 [==============================] - 3s 314ms/step - loss: 0.1554 - accuracy: 0.9507 - val_loss: 0.7292 - val_accuracy: 0.7157\n",
      "Epoch 20/35\n",
      "9/9 [==============================] - 3s 303ms/step - loss: 0.1133 - accuracy: 0.9737 - val_loss: 0.7386 - val_accuracy: 0.7059\n",
      "Epoch 21/35\n",
      "9/9 [==============================] - 2s 268ms/step - loss: 0.0932 - accuracy: 0.9836 - val_loss: 0.7661 - val_accuracy: 0.7157\n",
      "Epoch 22/35\n",
      "9/9 [==============================] - 3s 339ms/step - loss: 0.0844 - accuracy: 0.9704 - val_loss: 0.8621 - val_accuracy: 0.6961\n",
      "Epoch 23/35\n",
      "9/9 [==============================] - 3s 314ms/step - loss: 0.0946 - accuracy: 0.9737 - val_loss: 0.8579 - val_accuracy: 0.7255\n",
      "Epoch 24/35\n",
      "9/9 [==============================] - 2s 268ms/step - loss: 0.0533 - accuracy: 0.9836 - val_loss: 0.8781 - val_accuracy: 0.7647\n",
      "Epoch 25/35\n",
      "9/9 [==============================] - 3s 282ms/step - loss: 0.0372 - accuracy: 0.9868 - val_loss: 0.8747 - val_accuracy: 0.7353\n",
      "Epoch 26/35\n",
      "9/9 [==============================] - 3s 311ms/step - loss: 0.0238 - accuracy: 0.9934 - val_loss: 0.9177 - val_accuracy: 0.7157\n",
      "Epoch 27/35\n",
      "9/9 [==============================] - 3s 296ms/step - loss: 0.0191 - accuracy: 0.9934 - val_loss: 0.9960 - val_accuracy: 0.7451\n",
      "Epoch 28/35\n",
      "9/9 [==============================] - 3s 317ms/step - loss: 0.0150 - accuracy: 0.9967 - val_loss: 1.0193 - val_accuracy: 0.7255\n",
      "Epoch 29/35\n",
      "9/9 [==============================] - 3s 317ms/step - loss: 0.0115 - accuracy: 1.0000 - val_loss: 1.0619 - val_accuracy: 0.7451\n",
      "Epoch 30/35\n",
      "9/9 [==============================] - 3s 346ms/step - loss: 0.0083 - accuracy: 1.0000 - val_loss: 1.1404 - val_accuracy: 0.7353\n",
      "Epoch 31/35\n",
      "9/9 [==============================] - 3s 327ms/step - loss: 0.0060 - accuracy: 1.0000 - val_loss: 1.2120 - val_accuracy: 0.7353\n",
      "Epoch 32/35\n",
      "9/9 [==============================] - 3s 315ms/step - loss: 0.0047 - accuracy: 1.0000 - val_loss: 1.2174 - val_accuracy: 0.7255\n",
      "Epoch 33/35\n",
      "9/9 [==============================] - 3s 288ms/step - loss: 0.0038 - accuracy: 1.0000 - val_loss: 1.2369 - val_accuracy: 0.7255\n",
      "Epoch 34/35\n",
      "9/9 [==============================] - 3s 294ms/step - loss: 0.0031 - accuracy: 1.0000 - val_loss: 1.2768 - val_accuracy: 0.7353\n",
      "Epoch 35/35\n",
      "9/9 [==============================] - 3s 286ms/step - loss: 0.0028 - accuracy: 1.0000 - val_loss: 1.3076 - val_accuracy: 0.7353\n",
      "CPU times: total: 3min 52s\n",
      "Wall time: 1min 34s\n"
     ]
    }
   ],
   "source": [
    "%%time\n",
    "\n",
    "EPOCH = epochs\n",
    "BATCH_SIZE = 35\n",
    "\n",
    "history_LSTM = model.fit(train_seqs, trainY, epochs=EPOCH, batch_size=BATCH_SIZE, validation_data=(val_seqs, valY))"
   ]
  },
  {
   "cell_type": "code",
   "execution_count": 412,
   "metadata": {},
   "outputs": [],
   "source": [
    "def plot_graphs(history, string):\n",
    "  plt.plot(history.history[string])\n",
    "  plt.plot(history.history['val_'+string])\n",
    "  plt.xlabel(\"Epochs\")\n",
    "  plt.ylabel(string)\n",
    "  plt.legend([string, 'val_'+string])\n",
    "  plt.show()"
   ]
  },
  {
   "cell_type": "code",
   "execution_count": 413,
   "metadata": {},
   "outputs": [
    {
     "data": {
      "image/png": "[encoded data removed]",
      "text/plain": [
       "<Figure size 640x480 with 1 Axes>"
      ]
     },
     "metadata": {},
     "output_type": "display_data"
    },
    {
     "data": {
      "image/png": "[encoded data removed]",
      "text/plain": [
       "<Figure size 640x480 with 1 Axes>"
      ]
     },
     "metadata": {},
     "output_type": "display_data"
    }
   ],
   "source": [
    "plot_graphs(history_LSTM, 'accuracy')\n",
    "plot_graphs(history_LSTM, 'loss')"
   ]
  },
  {
   "cell_type": "code",
   "execution_count": 414,
   "metadata": {},
   "outputs": [
    {
     "name": "stdout",
     "output_type": "stream",
     "text": [
      "\n",
      "Epoch No.  Train Accuracy  Train Loss      Val Accuracy    Val Loss\n",
      "       1   0.565789 \t   0.673388 \t   0.568627 \t   0.657993\n",
      "       2   0.625000 \t   0.608066 \t   0.715686 \t   0.570952\n",
      "       3   0.720395 \t   0.539875 \t   0.745098 \t   0.497213\n",
      "       4   0.746711 \t   0.494280 \t   0.754902 \t   0.494910\n",
      "       5   0.779605 \t   0.457297 \t   0.784314 \t   0.462224\n",
      "       6   0.802632 \t   0.424987 \t   0.774510 \t   0.451772\n",
      "       7   0.842105 \t   0.366167 \t   0.696078 \t   0.503090\n",
      "       8   0.851974 \t   0.328128 \t   0.696078 \t   0.672198\n",
      "       9   0.871711 \t   0.282069 \t   0.745098 \t   0.509209\n",
      "      10   0.901316 \t   0.254347 \t   0.735294 \t   0.528551\n",
      "      11   0.927632 \t   0.214625 \t   0.725490 \t   0.578876\n",
      "      12   0.944079 \t   0.180627 \t   0.754902 \t   0.582669\n",
      "      13   0.940789 \t   0.149575 \t   0.764706 \t   0.608009\n",
      "      14   0.960526 \t   0.122021 \t   0.754902 \t   0.678680\n",
      "      15   0.957237 \t   0.128718 \t   0.784314 \t   0.767756\n",
      "      16   0.967105 \t   0.114010 \t   0.764706 \t   0.732994\n",
      "      17   0.894737 \t   0.252191 \t   0.578431 \t   0.870704\n",
      "      18   0.878289 \t   0.279794 \t   0.666667 \t   0.700681\n",
      "      19   0.950658 \t   0.155395 \t   0.715686 \t   0.729202\n",
      "      20   0.973684 \t   0.113323 \t   0.705882 \t   0.738554\n",
      "      21   0.983553 \t   0.093220 \t   0.715686 \t   0.766111\n",
      "      22   0.970395 \t   0.084440 \t   0.696078 \t   0.862148\n",
      "      23   0.973684 \t   0.094564 \t   0.725490 \t   0.857900\n",
      "      24   0.983553 \t   0.053271 \t   0.764706 \t   0.878115\n",
      "      25   0.986842 \t   0.037194 \t   0.735294 \t   0.874664\n",
      "      26   0.993421 \t   0.023767 \t   0.715686 \t   0.917700\n",
      "      27   0.993421 \t   0.019067 \t   0.745098 \t   0.995951\n",
      "      28   0.996711 \t   0.015018 \t   0.725490 \t   1.019282\n",
      "      29   1.000000 \t   0.011493 \t   0.745098 \t   1.061910\n",
      "      30   1.000000 \t   0.008311 \t   0.735294 \t   1.140383\n",
      "      31   1.000000 \t   0.006019 \t   0.735294 \t   1.212050\n",
      "      32   1.000000 \t   0.004650 \t   0.725490 \t   1.217368\n",
      "      33   1.000000 \t   0.003768 \t   0.725490 \t   1.236879\n",
      "      34   1.000000 \t   0.003134 \t   0.735294 \t   1.276764\n",
      "      35   1.000000 \t   0.002774 \t   0.735294 \t   1.307584\n"
     ]
    }
   ],
   "source": [
    "print('\\nEpoch No.  Train Accuracy  Train Loss      Val Accuracy    Val Loss')\n",
    "for i in range(EPOCH):\n",
    "  print('{:8d} {:10f} \\t {:10f} \\t {:10f} \\t {:10f}'.format(i + 1, history_LSTM.history['accuracy'][i], history_LSTM.history['loss'][i], history_LSTM.history['val_accuracy'][i], history_LSTM.history['val_loss'][i]))"
   ]
  },
  {
   "cell_type": "code",
   "execution_count": 415,
   "metadata": {},
   "outputs": [
    {
     "name": "stdout",
     "output_type": "stream",
     "text": [
      "4/4 [==============================] - 2s 33ms/step\n",
      "4/4 [==============================] - 2s 36ms/step - loss: 1.5852 - accuracy: 0.7059\n"
     ]
    }
   ],
   "source": [
    "y_pred = np.argmax(model.predict(test_seqs), axis=1)\n",
    "y_true = np.argmax(testY, axis=1)\n",
    "\n",
    "loss, accuracy = model.evaluate(test_seqs, testY)"
   ]
  },
  {
   "cell_type": "code",
   "execution_count": 416,
   "metadata": {},
   "outputs": [
    {
     "name": "stdout",
     "output_type": "stream",
     "text": [
      "              precision    recall  f1-score   support\n",
      "\n",
      "           0       0.53      0.59      0.56        32\n",
      "           1       0.80      0.76      0.78        70\n",
      "\n",
      "    accuracy                           0.71       102\n",
      "   macro avg       0.67      0.68      0.67       102\n",
      "weighted avg       0.72      0.71      0.71       102\n",
      "\n"
     ]
    }
   ],
   "source": [
    "from sklearn.metrics import classification_report\n",
    "\n",
    "print(classification_report(y_pred, y_true))"
   ]
  }
 ],
 "metadata": {
  "kernelspec": {
   "display_name": "base",
   "language": "python",
   "name": "python3"
  },
  "language_info": {
   "codemirror_mode": {
    "name": "ipython",
    "version": 3
   },
   "file_extension": ".py",
   "mimetype": "text/x-python",
   "name": "python",
   "nbconvert_exporter": "python",
   "pygments_lexer": "ipython3",
   "version": "3.9.15"
  },
  "orig_nbformat": 4
 },
 "nbformat": 4,
 "nbformat_minor": 2
}
